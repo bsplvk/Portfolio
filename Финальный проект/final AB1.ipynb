{
 "cells": [
  {
   "cell_type": "markdown",
   "id": "698133ac",
   "metadata": {},
   "source": [
    "# Оценка результатов А\\В теста. Тестирование изменений, связанных с внедрением улучшенной рекомендательной системы;"
   ]
  },
  {
   "cell_type": "markdown",
   "id": "c474905e",
   "metadata": {},
   "source": [
    "# Цели исследования: \n",
    "\n",
    "Провести оценку результатов A/B-теста, Оцените корректность проведения теста и проанализируйте его результаты, удалось ли за 14 дней с момента регистрации в системе увидеть что пользователи покажут улучшение каждой метрики не менее, чем на 5 процентных пунктов"
   ]
  },
  {
   "cell_type": "markdown",
   "id": "e0b2197c",
   "metadata": {},
   "source": [
    "# Задачи: \n",
    "\n",
    " - Обзор данных\n",
    " - Предобработка данных \n",
    " - Оценка корректности проведения А\\В теста и его соответсвие ТЗ\n",
    " - Исследовательский анализ данных\n",
    " - Проведение А\\В теста\n",
    " - Выводы"
   ]
  },
  {
   "cell_type": "markdown",
   "id": "5dd1b64a",
   "metadata": {},
   "source": [
    "# Обзор  данных"
   ]
  },
  {
   "cell_type": "code",
   "execution_count": null,
   "id": "79d371ad",
   "metadata": {},
   "outputs": [],
   "source": [
    "#Загружаем библиотеки\n",
    "import pandas as pd\n",
    "import numpy as np\n",
    "import seaborn as sns\n",
    "import statistics as st\n",
    "import plotly.graph_objects as go\n",
    "from scipy import stats as st\n",
    "from sklearn import tree, ensemble\n",
    "from matplotlib import pyplot as plt\n",
    "import plotly.express as px\n",
    "from scipy.stats import spearmanr\n",
    "from scipy.stats import iqr\n",
    "from sklearn.preprocessing import StandardScaler\n",
    "from sklearn.cluster import KMeans\n",
    "from datetime import datetime, timedelta\n",
    "from plotly.subplots import make_subplots"
   ]
  },
  {
   "cell_type": "code",
   "execution_count": null,
   "id": "6ef78c39",
   "metadata": {},
   "outputs": [],
   "source": [
    "#Прочитаем файлы  и сохраним в переменные\n",
    "try:\n",
    "    new_users = pd.read_csv('C:\\\\Users\\\\Acer\\\\Downloads\\\\final_ab_new_users.csv', parse_dates=['first_date'], dayfirst=True)\n",
    "    marketing_events = pd.read_csv('C:\\\\Users\\\\Acer\\\\Downloads\\\\ab_project_marketing_events.csv')\n",
    "    participants = pd.read_csv('C:\\\\Users\\\\Acer\\\\Downloads\\\\final_ab_participants.csv')\n",
    "    events = pd.read_csv('C:\\\\Users\\\\Acer\\\\Downloads\\\\final_ab_events.csv',parse_dates=['event_dt'], dayfirst=True)\n",
    "except:\n",
    "    new_users = pd.read_csv('/datasets/final_ab_new_users.csv',parse_dates=['first_date'], dayfirst=True)\n",
    "    marketing_events = pd.read_csv('/datasets/ab_project_marketing_events.csv')\n",
    "    participants = pd.read_csv('/datasets/final_ab_participants.csv')\n",
    "    events = pd.read_csv('/datasets/final_ab_events.csv',parse_dates=['event_dt'], dayfirst=True)"
   ]
  },
  {
   "cell_type": "code",
   "execution_count": null,
   "id": "48a518af",
   "metadata": {
    "scrolled": false
   },
   "outputs": [],
   "source": [
    "#ф-ция для обзора данных\n",
    "def inspect(df):\n",
    "    display(df.head()) \n",
    "    df.info() \n",
    "    print(50*'-')\n",
    "    print ('Количество дубликатов -', df.duplicated().sum())\n",
    "    print ('Кол-во пропусков:')\n",
    "    print (df.isna().sum())\n",
    "    \n",
    "    display(df.describe())\n",
    "    display()\n",
    "    df.columns = [x.lower().replace(' ', '_') for x in df.columns.values]\n",
    "    for column_name in df.columns:\n",
    "            if 'start_dt' in column_name or 'finish_dt' in column_name:\n",
    "                df[column_name] = pd.to_datetime(df[column_name])\n",
    "    return df\n",
    "\n",
    "new_users = inspect(new_users)"
   ]
  },
  {
   "cell_type": "code",
   "execution_count": null,
   "id": "5c657bb2",
   "metadata": {
    "scrolled": false
   },
   "outputs": [],
   "source": [
    "marketing_events = inspect(marketing_events)"
   ]
  },
  {
   "cell_type": "code",
   "execution_count": null,
   "id": "c3405847",
   "metadata": {
    "scrolled": false
   },
   "outputs": [],
   "source": [
    "participants = inspect(participants)"
   ]
  },
  {
   "cell_type": "code",
   "execution_count": null,
   "id": "291b29d1",
   "metadata": {
    "scrolled": false
   },
   "outputs": [],
   "source": [
    "events = inspect(events)"
   ]
  },
  {
   "cell_type": "markdown",
   "id": "51024670",
   "metadata": {},
   "source": [
    "## Промежуточные выводы: "
   ]
  },
  {
   "cell_type": "markdown",
   "id": "b794d0ea",
   "metadata": {},
   "source": [
    "У нас есть 4 таблицы с данными: \n",
    "\n",
    "1) marketing_events - календарь маркетинговых событий на 2020 год:\n",
    "- name — название маркетингового события;\n",
    "- regions — регионы, в которых будет проводиться рекламная кампания;\n",
    "- start_dt — дата начала кампании;\n",
    "- finish_dt — дата завершения кампании.\n",
    "\n",
    "2) new_users - все пользователи, зарегистрировавшиеся в интернет-магазине в период с 7 по 21 декабря 2020 года:\n",
    "- user_id — идентификатор пользователя;\n",
    "- first_date — дата регистрации;\n",
    "- region — регион пользователя;\n",
    "- device — устройство, с которого происходила регистрация.\n",
    "\n",
    "3) participants - Участники теста:\n",
    "- user_id — идентификатор пользователя;\n",
    "- ab_test — название теста;\n",
    "- group — группа пользователя.\n",
    "    \n",
    "4) events - все события новых пользователей в период с 7 декабря 2020 по 4 января 2021 года:\n",
    "- user_id — идентификатор пользователя;\n",
    "- event_dt — дата и время события;\n",
    "- event_name — тип события;\n",
    "- details — дополнительные данные о событии. Например, для покупок,purchase , в этом поле хранится стоимость покупки в долларах.\n",
    "\n",
    "Мы привели дату к нужному типу, привели столбцы к стилистически правильному формату, явных дубликатов выявлено не было. Было выявлено 377577 в таблице событий новых пользователей в столбце details."
   ]
  },
  {
   "cell_type": "markdown",
   "id": "2dcafe86",
   "metadata": {},
   "source": [
    "# Предобработка данных"
   ]
  },
  {
   "cell_type": "markdown",
   "id": "d043f2c9",
   "metadata": {},
   "source": [
    "## Проверим данные на неявные дубликаты"
   ]
  },
  {
   "cell_type": "code",
   "execution_count": null,
   "id": "e17ac822",
   "metadata": {},
   "outputs": [],
   "source": [
    "#выведем неявные дубликаты из разных датафреймов\n",
    "print('Кол-во неявных дубликатов в new_users -',new_users['user_id'].duplicated().sum())\n",
    "print(50*'-')\n",
    "print('Кол-во неявных дубликатов в participants -',participants['user_id'].duplicated().sum())\n",
    "print(50*'-')\n",
    "print('Кол-во неявных дубликатов в events  -',events['user_id'].duplicated().sum())"
   ]
  },
  {
   "cell_type": "code",
   "execution_count": null,
   "id": "da612910",
   "metadata": {},
   "outputs": [],
   "source": [
    "#Доля дубликатов\n",
    "events['user_id'].duplicated().sum() / len(events) * 100"
   ]
  },
  {
   "cell_type": "code",
   "execution_count": null,
   "id": "660934af",
   "metadata": {},
   "outputs": [],
   "source": [
    "#Проверим неявные дубликаты по нескольким признакам\n",
    "events.pivot_table(index=['user_id','event_dt'],values='event_name',aggfunc=({'event_name':'unique'})).reset_index()"
   ]
  },
  {
   "cell_type": "markdown",
   "id": "00b74861",
   "metadata": {},
   "source": [
    "Можем заметить, что пользователи под одним id совершают разные действия в разное время, т.е для дальнейшего исследования убрать мы их не можем"
   ]
  },
  {
   "cell_type": "markdown",
   "id": "9dd1641f",
   "metadata": {},
   "source": [
    "В датафрейме events  более 86% не явных дубликатов"
   ]
  },
  {
   "cell_type": "code",
   "execution_count": null,
   "id": "83c692a9",
   "metadata": {},
   "outputs": [],
   "source": [
    "#Доля дубликатов\n",
    "participants['user_id'].duplicated().sum() / len(events) * 100"
   ]
  },
  {
   "cell_type": "markdown",
   "id": "2033150d",
   "metadata": {},
   "source": [
    "В датафрейме participants менее 1% не явных дубликатов"
   ]
  },
  {
   "cell_type": "code",
   "execution_count": null,
   "id": "9e2badb2",
   "metadata": {},
   "outputs": [],
   "source": [
    "#Проверим неявные дубликаты по нескольким признакам\n",
    "participants.pivot_table(index=['user_id','group'],values='ab_test',aggfunc=({'ab_test':'unique'}))\\\n",
    ".reset_index().sort_values(['user_id','group'])"
   ]
  },
  {
   "cell_type": "markdown",
   "id": "40b01e36",
   "metadata": {},
   "source": [
    "Можем заметить, что у нас присутствует несколько тестов. Из ТЗ мы знаем, что нас интересует [recommender_system_test]"
   ]
  },
  {
   "cell_type": "code",
   "execution_count": null,
   "id": "a99457de",
   "metadata": {},
   "outputs": [],
   "source": [
    "#Оставим только нужный для нас тест в новом ДТ\n",
    "recommender_system_test = participants[participants['ab_test'] == 'recommender_system_test']\n",
    "#Проверим неявные дубликаты\n",
    "recommender_system_test['user_id'].duplicated().sum()"
   ]
  },
  {
   "cell_type": "markdown",
   "id": "56d392ba",
   "metadata": {},
   "source": [
    "В нужных нам данных дубликаты отсутсвуют"
   ]
  },
  {
   "cell_type": "code",
   "execution_count": null,
   "id": "f39d03f2",
   "metadata": {},
   "outputs": [],
   "source": [
    "#Проверка пропусков\n",
    "events.groupby('event_name')['details'].unique()"
   ]
  },
  {
   "cell_type": "markdown",
   "id": "91b0ff1b",
   "metadata": {},
   "source": [
    "Можем заметить, что пропуски присутсвуют в категория логина,продуктовой карточки и продуктовой странички, нет пропусков в категории оплаты в долларах, можем сделать вывод, что этот столбец специально предназначен для оплаты,соответственно с этими пропусками сделать ничего мы не можем"
   ]
  },
  {
   "cell_type": "markdown",
   "id": "654460ae",
   "metadata": {},
   "source": [
    "# Оценим корректность проведения теста"
   ]
  },
  {
   "cell_type": "markdown",
   "id": "638f498e",
   "metadata": {},
   "source": [
    "## Техническое задание\n",
    "\n",
    "Название теста: recommender_system_test ;\n",
    "\n",
    "Группы: А (контрольная), B (новая платёжная воронка);\n",
    "\n",
    "Дата запуска: 2020-12-07;\n",
    "\n",
    "Дата остановки набора новых пользователей: 2020-12-21;\n",
    "\n",
    "Дата остановки: 2021-01-04;\n",
    "\n",
    "Ожидаемое количество участников теста: 15% новых пользователей из\n",
    "региона EU;\n",
    "\n",
    "Назначение теста: тестирование изменений, связанных с внедрением\n",
    "улучшенной рекомендательной системы;\n",
    "\n",
    "Ожидаемый эффект: за 14 дней с момента регистрации в системе\n",
    "пользователи покажут улучшение каждой метрики не менее, чем на 5\n",
    "процентных пунктов:\n",
    "\n",
    "- конверсии в просмотр карточек товаров — событие product_page\n",
    "- просмотры корзины — product_cart\n",
    "- покупки — purchase ."
   ]
  },
  {
   "cell_type": "markdown",
   "id": "f59c9b1e",
   "metadata": {},
   "source": [
    "## Выделим пользователей участвующих в тесте и проверим:"
   ]
  },
  {
   "cell_type": "markdown",
   "id": "6cb041ae",
   "metadata": {},
   "source": [
    "### Период набора пользователей в тест и его соответствие с требованием ТЗ"
   ]
  },
  {
   "cell_type": "code",
   "execution_count": null,
   "id": "995b511c",
   "metadata": {},
   "outputs": [],
   "source": [
    "#период набора пользователей\n",
    "print('Начало набора пользователей -',new_users['first_date'].min())\n",
    "print('Остановка набора пользователей -',new_users['first_date'].max())"
   ]
  },
  {
   "cell_type": "markdown",
   "id": "c0076ce6",
   "metadata": {},
   "source": [
    "Можем заметить,что есть пользователи, которые зарегестрировались после 21.12,можем их отсеять, т.к. это неудовлетворяет условиям ТЗ"
   ]
  },
  {
   "cell_type": "code",
   "execution_count": null,
   "id": "5f6e8831",
   "metadata": {
    "scrolled": false
   },
   "outputs": [],
   "source": [
    "#Убираем пользователей которые сарегистрированы позже 21.12.2020\n",
    "new_users = new_users[new_users['first_date'] <= '2020-12-21']\n",
    "new_users"
   ]
  },
  {
   "cell_type": "markdown",
   "id": "f2cd904a",
   "metadata": {},
   "source": [
    "###  Регион регистрации пользователей: все ли попавшие в тест пользователи представляют целевой регион и составляет ли общее количество пользователей из целевого региона 15% от общего числа пользователей из целевого региона, зарегистрированных в период набора пользователей в тест;"
   ]
  },
  {
   "cell_type": "code",
   "execution_count": null,
   "id": "cbd11328",
   "metadata": {},
   "outputs": [],
   "source": [
    "#Отберем пользователей из EU\n",
    "new_users_eu = new_users[new_users['region'] == 'EU']\n",
    "new_users_eu.head()"
   ]
  },
  {
   "cell_type": "markdown",
   "id": "273d59fc",
   "metadata": {},
   "source": [
    "Соеденим таблицы участников теста с таблицей регистраций"
   ]
  },
  {
   "cell_type": "code",
   "execution_count": null,
   "id": "f0ffb418",
   "metadata": {},
   "outputs": [],
   "source": [
    "#Объединение таблиц\n",
    "df = new_users_eu.merge(participants,on='user_id',how='left')\n",
    "df"
   ]
  },
  {
   "cell_type": "code",
   "execution_count": null,
   "id": "cfcf209e",
   "metadata": {},
   "outputs": [],
   "source": [
    "#Проверим долю пользователей\n",
    "df.query('ab_test == \"recommender_system_test\"').shape[0] / new_users_eu.shape[0]"
   ]
  },
  {
   "cell_type": "markdown",
   "id": "a0110355",
   "metadata": {},
   "source": [
    "количество пользователей из целевого региона составляет 15% от общего числа пользователей из целевого региона, зарегистрированных в период набора пользователей в тест как и указано в ТЗ"
   ]
  },
  {
   "cell_type": "markdown",
   "id": "a1f90a02",
   "metadata": {},
   "source": [
    "### Динамику набора пользователей в группы теста и проверьте равномерность распределения пользователей по группам теста и корректность их формирования;"
   ]
  },
  {
   "cell_type": "code",
   "execution_count": null,
   "id": "54bc4842",
   "metadata": {},
   "outputs": [],
   "source": [
    "#Оставим только наш тест\n",
    "df = df.query('ab_test == \"recommender_system_test\"')"
   ]
  },
  {
   "cell_type": "code",
   "execution_count": null,
   "id": "39242c3f",
   "metadata": {},
   "outputs": [],
   "source": [
    "#Добавим в нашу прошлую объединенную таблицу данные из таблицы events\n",
    "data = df.merge(events,on='user_id',how='left')"
   ]
  },
  {
   "cell_type": "code",
   "execution_count": null,
   "id": "38de4b96",
   "metadata": {},
   "outputs": [],
   "source": [
    "#Кол-во пользователей в группах\n",
    "print('Группа A -',data[data['group'] == 'A']['user_id'].nunique())\n",
    "print('Группа B -',data[data['group'] == 'B']['user_id'].nunique())"
   ]
  },
  {
   "cell_type": "code",
   "execution_count": null,
   "id": "a29422ab",
   "metadata": {},
   "outputs": [],
   "source": [
    "#Динамика набора пользователей по группам\n",
    "df_1 = data.groupby(['group','first_date'])['user_id'].nunique().reset_index()\n",
    "df_1\n"
   ]
  },
  {
   "cell_type": "code",
   "execution_count": null,
   "id": "875e69b7",
   "metadata": {},
   "outputs": [],
   "source": [
    "#Строим линейный график\n",
    "fig = px.line(df_1, x='first_date', y= 'user_id', title = 'Динамика набора пользователей по группам', \\\n",
    "             color = 'group',color_discrete_sequence = px.colors.sequential.Rainbow)\n",
    "fig.update_layout(xaxis_title = 'Дата регистрации',\n",
    "                  yaxis_title = 'Кол-во пользователей',\n",
    "                  legend_title_text = 'Группы')\n",
    "                  \n",
    "fig.update_traces(hovertemplate = 'Дата : %{x} <br>пользователей: %{y}')\n",
    "\n",
    "fig.show()"
   ]
  },
  {
   "cell_type": "markdown",
   "id": "65b584d4",
   "metadata": {},
   "source": [
    "Можем заметить, что в больше всего регистраций в 1 день в середине теста 14 декабря и в последний день, по распределению группы поделены неравномерно, в Группе А в разрезе дней стабильно больше пользователей. Общее распределение Группа A - 3634,\n",
    "Группа B - 2717"
   ]
  },
  {
   "cell_type": "markdown",
   "id": "3b6926da",
   "metadata": {},
   "source": [
    "### (Опционально) оценим недельную цикличность набора пользователей в группы "
   ]
  },
  {
   "cell_type": "markdown",
   "id": "15d166c2",
   "metadata": {},
   "source": [
    "На предыдущем графике хорошо видно циклы, что в начале недели Пик по набору, так же в середине на 7 дней - Пик, и в последний день теста - Пик, цикл каждую новую неделю"
   ]
  },
  {
   "cell_type": "markdown",
   "id": "42e7e32c",
   "metadata": {},
   "source": [
    "## Изучим данные о пользовательской активности:"
   ]
  },
  {
   "cell_type": "markdown",
   "id": "a4c99bd0",
   "metadata": {},
   "source": [
    "### Проверим даты совершения событий участниками теста: совпадают ли они с датами проведения теста, согласно техническому заданию;"
   ]
  },
  {
   "cell_type": "code",
   "execution_count": null,
   "id": "1c898527",
   "metadata": {},
   "outputs": [],
   "source": [
    "#Проверим совпадают ли даты события с датами проведения теста\n",
    "print('Дата первого события -',events['event_dt'].min())\n",
    "print('Дата последнего события -',events['event_dt'].max())"
   ]
  },
  {
   "cell_type": "markdown",
   "id": "cd76a2ac",
   "metadata": {},
   "source": [
    "Дата первого события совпадает с началом набора новых пользователей, дата последнего события попадает в промежуток проведения теста, но тест заканчивается 04.01.21, а последнее событие происходит 30.12.20. Если учитывать что в ТЗ наш лайфтайм 14 дней, то даты совершения событий попадают в наш тест"
   ]
  },
  {
   "cell_type": "markdown",
   "id": "95eaee2b",
   "metadata": {},
   "source": [
    "### Проверим активность пользователей: все ли зарегистрированные пользователи прошли авторизацию и совершали переход по продуктовой воронке; если есть пользователи, которые не совершали событий после регистрации, изучим их количество и распределение между группами теста; сделаем вывод о необходимости учитывать пользователей без событий при изучении результатов теста;"
   ]
  },
  {
   "cell_type": "code",
   "execution_count": null,
   "id": "71b6b299",
   "metadata": {},
   "outputs": [],
   "source": [
    "#Посмотрим распределение кол-ва действий по типам событий и группам\n",
    "data_activ_A = data.query('group == \"A\"').groupby(['group','event_name'])['user_id'].nunique().reset_index()\n",
    "data_activ_A = data_activ_A.reindex([0,2,1,3])\n",
    "data_activ_B = data.query('group == \"B\"').groupby(['group','event_name'])['user_id'].nunique().reset_index()\n",
    "data_activ_B = data_activ_B.reindex([0,2,1,3])\n",
    "display(data_activ_A)\n",
    "display(data_activ_B)"
   ]
  },
  {
   "cell_type": "code",
   "execution_count": null,
   "id": "5d88b7a0",
   "metadata": {},
   "outputs": [],
   "source": [
    "#Построим воронку событий\n",
    "fig = go.Figure(go.Funnel(\n",
    "    y= data_activ_A['event_name'],\n",
    "    x=data_activ_A['user_id']\n",
    "    ))\n",
    "fig.update_layout(title_text='Воронка событий группы А')\n",
    "fig.show()\n"
   ]
  },
  {
   "cell_type": "code",
   "execution_count": null,
   "id": "93971a1b",
   "metadata": {},
   "outputs": [],
   "source": [
    "#Построим воронку событий\n",
    "fig = go.Figure(go.Funnel(\n",
    "    y= data_activ_B['event_name'],\n",
    "    x=data_activ_B['user_id']\n",
    "    ))\n",
    "fig.update_layout(title_text='Воронка событий группы В')\n",
    "fig.show()\n"
   ]
  },
  {
   "cell_type": "markdown",
   "id": "90eb4b15",
   "metadata": {},
   "source": [
    "Мы видим что по воронкам, что и в группе А и в группе В воронка нарушена. Делают покупки  люди  чаще, чем в заходят в корзину.Скорее всего это связано с тем, что можно купить в 1 клик, без просмотра корзины товара."
   ]
  },
  {
   "cell_type": "code",
   "execution_count": null,
   "id": "a72ee919",
   "metadata": {},
   "outputs": [],
   "source": [
    "#Распределение пользователей по группам, которые не совершали никаких действий\n",
    "data.\\\n",
    "query('event_name != \"product_page\" and event_name != \"login\" and event_name != \"product_cart\" and event_name != \"purchase\"').\\\n",
    "groupby('group')['user_id'].count().reset_index()\n"
   ]
  },
  {
   "cell_type": "markdown",
   "id": "f320729c",
   "metadata": {},
   "source": [
    "Пользователей которые не совершали каких либо действий после регистрации 2870 человек, 1030 в группе А и 1840 в группе В"
   ]
  },
  {
   "cell_type": "code",
   "execution_count": null,
   "id": "c376bf5a",
   "metadata": {},
   "outputs": [],
   "source": [
    "#Распределение пользователей по датам, которые не совершали никаких действий\n",
    "data_0 = data.\\\n",
    "query('event_name != \"product_page\" and event_name != \"login\" and event_name != \"product_cart\" and event_name != \"purchase\"').\\\n",
    "groupby(['group','first_date'])['user_id'].count().reset_index().sort_values(by =['group','first_date'],ascending=True)\n",
    "data_0"
   ]
  },
  {
   "cell_type": "code",
   "execution_count": null,
   "id": "5e120ad3",
   "metadata": {},
   "outputs": [],
   "source": [
    "#Строим линейный график\n",
    "fig = px.line(data_0, x='first_date', y= 'user_id',\\\n",
    "             title = 'Распределение пользователей по датам, которые не совершали никаких действий', \\\n",
    "             color = 'group',color_discrete_sequence = px.colors.sequential.Rainbow)\n",
    "fig.update_layout(xaxis_title = 'Дата регистрации',\n",
    "                  yaxis_title = 'Кол-во пользователей',\n",
    "                  legend_title_text = 'Группы')\n",
    "                  \n",
    "fig.update_traces(hovertemplate = 'Дата : %{x} <br>Событий: %{y}')\n",
    "fig.show()"
   ]
  },
  {
   "cell_type": "markdown",
   "id": "91ac52c0",
   "metadata": {},
   "source": [
    "Больше всего пользователей не совершавших какое либо действие пришло 12 и 13 декабря,После 13 декабря пользователй в группе А, которые не совершали  каких либо действий  не наблюдается. В группе В после 13 числа сильный спад по пользователям без действий, но после начинается снова рост"
   ]
  },
  {
   "cell_type": "code",
   "execution_count": null,
   "id": "16501f71",
   "metadata": {},
   "outputs": [],
   "source": [
    "#Распределение пользователей по девайсам\n",
    "data.groupby('device')['user_id'].count().reset_index().sort_values(by ='user_id',ascending=False)"
   ]
  },
  {
   "cell_type": "code",
   "execution_count": null,
   "id": "75a91c63",
   "metadata": {},
   "outputs": [],
   "source": [
    "#Распределение пользователей по девайсам, которые не совершали никаких действий\n",
    "data.\\\n",
    "query('event_name != \"product_page\" and event_name != \"login\" and event_name != \"product_cart\" and event_name != \"purchase\"').\\\n",
    "groupby('device')['user_id'].count().reset_index().sort_values(by ='user_id',ascending=False)"
   ]
  },
  {
   "cell_type": "markdown",
   "id": "ff4ff7a3",
   "metadata": {},
   "source": [
    "Самый высокий показатель \"бездействия\" у пользователей с андроидом,но это связано с тем, что пользователей Андроида впринципе больше "
   ]
  },
  {
   "cell_type": "code",
   "execution_count": null,
   "id": "839c1245",
   "metadata": {},
   "outputs": [],
   "source": [
    "#выборка без учета бездействующих пользователй\n",
    "data_drop = data[(data.event_name == 'product_page') | (data.event_name == 'login') | (data.event_name =='product_cart') | (data.event_name =='purchace')]\n",
    "\n",
    "print('Группа A -',data_drop[data_drop['group'] == 'A']['user_id'].nunique())\n",
    "print('Группа B -',data_drop[data_drop['group'] == 'B']['user_id'].nunique())"
   ]
  },
  {
   "cell_type": "markdown",
   "id": "1ca0618c",
   "metadata": {},
   "source": [
    "В группе В доля бездействущих занимает около половины пользователей в группе А около 17%. На данном этапе мы можем убрать этих пользователей, они не будут влиять на результат теста, т.к. не будут учитываться в воронке событий. Удалим их в дальнейшем при построении сводной таблицы"
   ]
  },
  {
   "cell_type": "markdown",
   "id": "d71ee40e",
   "metadata": {},
   "source": [
    "###  Проверим горизонт анализа: рассчитаем лайфтайм совершения события пользователем после регистрации, оставим только те события, которые были совершены в первые 14 дней с момента регистрации; проверим, что все участники теста имели возможность совершать события все 14 дней с момента регистрации, оценим когда пользователи совершают свои первые события каждого вида."
   ]
  },
  {
   "cell_type": "code",
   "execution_count": null,
   "id": "3017aa5b",
   "metadata": {},
   "outputs": [],
   "source": [
    "#оставим только те события, которые были совершены в первые 14 дней с момента регистрации\n",
    "data = data[(data['event_dt'] - timedelta(14)) < data['first_date']]\n",
    "data"
   ]
  },
  {
   "cell_type": "code",
   "execution_count": null,
   "id": "a4e2f7d8",
   "metadata": {},
   "outputs": [],
   "source": [
    "#Кол-во уникальных пользователей\n",
    "data['user_id'].nunique()"
   ]
  },
  {
   "cell_type": "code",
   "execution_count": null,
   "id": "1ef868f2",
   "metadata": {},
   "outputs": [],
   "source": [
    "#проверим все ли пользователи совершали события\n",
    "data['event_name'].unique()"
   ]
  },
  {
   "cell_type": "code",
   "execution_count": null,
   "id": "3fdc25ac",
   "metadata": {},
   "outputs": [],
   "source": [
    "#Только активные пользователи\n",
    "print('Группа A -',data[data['group'] == 'A']['user_id'].nunique())\n",
    "print('Группа B -',data[data['group'] == 'B']['user_id'].nunique())"
   ]
  },
  {
   "cell_type": "markdown",
   "id": "ec966a33",
   "metadata": {},
   "source": [
    "Можем заметить, что в горизонт анализа 14 дней, все пользователи совершали какое-либо событие"
   ]
  },
  {
   "cell_type": "code",
   "execution_count": null,
   "id": "0192afa7",
   "metadata": {
    "scrolled": false
   },
   "outputs": [],
   "source": [
    "#Проверим когда пользователи совершают свои первые события каждого вида\n",
    "data.pivot_table(index='user_id',values='first_date',columns='event_name',aggfunc=({'first_date':'first'})).\\\n",
    "reset_index().sort_values(by=['login','product_cart','product_page','purchase'],ascending=True)\n"
   ]
  },
  {
   "cell_type": "markdown",
   "id": "20f7e028",
   "metadata": {},
   "source": [
    "Можем заметить, что пользователи совершают события каждого вида в основном сразу после регистрации"
   ]
  },
  {
   "cell_type": "code",
   "execution_count": null,
   "id": "b8a41881",
   "metadata": {},
   "outputs": [],
   "source": [
    "#Настройка даты\n",
    "date = data\n",
    "date['event_dt'] = pd.to_datetime(date['event_dt']).dt.floor('d')\n",
    "date"
   ]
  },
  {
   "cell_type": "code",
   "execution_count": null,
   "id": "f1dd728e",
   "metadata": {},
   "outputs": [],
   "source": [
    "date['lifetime'] = date['event_dt'] - date['first_date']\n",
    "lifetime = date.groupby(['group','lifetime'])['event_name'].count().reset_index()\n",
    "\n",
    "lifetime['lifetime'] = lifetime['lifetime'].astype(str)\n",
    "lifetime"
   ]
  },
  {
   "cell_type": "code",
   "execution_count": null,
   "id": "cad8cbf6",
   "metadata": {},
   "outputs": [],
   "source": [
    "#Строим линейный график\n",
    "fig = px.line(lifetime, x='lifetime', y= 'event_name',\\\n",
    "             title = 'Кол-во событий на каждый день в лайфтайме', \\\n",
    "             color = 'group',color_discrete_sequence = px.colors.sequential.Rainbow)\n",
    "fig.update_layout(xaxis_title = 'Дата регистрации',\n",
    "                  yaxis_title = 'Кол-во cобытий',\n",
    "                  legend_title_text = 'Группы')\n",
    "                  \n",
    "fig.update_traces(hovertemplate = 'Дата : %{x} <br>Событий: %{y}')\n",
    "\n",
    "fig.show()"
   ]
  },
  {
   "cell_type": "markdown",
   "id": "5cf0944e",
   "metadata": {},
   "source": [
    "На графике можем заметить, что кол-во событий в группе А в 1 день регистрации превышает группу В практически в 3 раза, далее с каждым следующим днем активность снижается и к концу теста практически уравнивается."
   ]
  },
  {
   "cell_type": "markdown",
   "id": "70602e2c",
   "metadata": {},
   "source": [
    "## Развернутый вывод о соответствии теста требованиям технического задания и возможности получения достоверных результатов АБ-теста, исходя из базового показателя конверсии в 50%."
   ]
  },
  {
   "cell_type": "markdown",
   "id": "c61156e4",
   "metadata": {},
   "source": [
    "* Мы выяснили,что есть пользователи, которые зарегестрировались после 21.12,отсеяли их, т.к. это неудовлетворяет условиям ТЗ\n",
    "* Мы выяснили, что  попавшие в тест пользователи представляющие целевой регион и составляющте общее количество пользователей из целевого региона 15% от общего числа пользователей из целевого региона, зарегистрированных в период набора пользователей в тест, это пункт отвечает требованию ТЗ\n",
    "* Больше всего регистраций в 1 день в середине теста 14 декабря и в последний день, по распределению группы поделены неравномерно, в Группе А в разрезе дней стабильно больше пользователей. Общее распределение Группа A - 3634, Группа B - 2717\n",
    "* В группе А и в группе В воронка нарушена. В корзину с товарами люди заходят чаще, чем в продуктовые карточки.Скорее всего это связано с тем, можно товар можно сразу добавить в корзину, без просмотра карточки товара.\n",
    "* Пользователей которые не совершали каких либо действий после регистрации 2870 человек, 1030 в группе А и 1840 в группе В, больше всего пользователей не совершавших какое либо действие пришло 13 и 12 декабря и пользующися Андроидом\n",
    "* Мы отсеяли пользователей которые совершали события после 14 дней с момента регистрации. После этого у нас не осталось пользователей, которые не совершали какое-либо действие, выяснили что пользователи совершают какое-либо действие в основном сразу после регистрации. \n",
    "* Разница набора группы А и группы В около 35%, это может сущетсвенно повлиять на возможности получения достоверных результатов\n",
    "* При базовом показателе конверсии в 50 % и минимальном обнаруживаемом эффекте 5% в относительных значениях минимальный размер должен составить - 6,277 участников в каждой группе. Если рассмотреть при этих же показательях и абсолютных значениях, то размер выборки каждой группы должен составлять 1567 человек. В этом случае совпадает наша контрольная группа по кол-ву человек, но тестовая всё равно не попадает. Исходя из этого мы можем сказать, что возможности получения достоверных результатов в нашем тесте подвергаются сомнениям"
   ]
  },
  {
   "cell_type": "markdown",
   "id": "b376e421",
   "metadata": {},
   "source": [
    "# Исследовательский анализ данных"
   ]
  },
  {
   "cell_type": "markdown",
   "id": "5b251369",
   "metadata": {},
   "source": [
    "## Распределим количества событий на пользователя в разрезе групп теста: построим гистограмму распределения этой величины в разрезе групп и сравним её средние значения между собой у групп теста;"
   ]
  },
  {
   "cell_type": "code",
   "execution_count": null,
   "id": "d4c06090",
   "metadata": {},
   "outputs": [],
   "source": [
    "#Посмотрим на гистограмму распределения событий по пользователям\n",
    "data.groupby('user_id')['event_dt'].count().hist(color = 'red', edgecolor = 'black',figsize = (10,6),bins=25)\n",
    "plt.title ('Распределение событий по пользователям')\n",
    "plt.xlabel ('Количество событий')\n",
    "plt.ylabel ('Частота cобытий');"
   ]
  },
  {
   "cell_type": "markdown",
   "id": "69c30384",
   "metadata": {},
   "source": [
    "Можем заметить,что чаще всего пользователи совершают 6 событий, чаще всего от 2 до 9 событий"
   ]
  },
  {
   "cell_type": "code",
   "execution_count": null,
   "id": "2423e0e2",
   "metadata": {},
   "outputs": [],
   "source": [
    "#Посмотрим на распределение по группам\n",
    "data.query('group == \"A\"').groupby('user_id')['event_dt'].count().hist(label = 'Группа А', edgecolor = 'black',\\\n",
    "                                                                       color = 'red',figsize = (13,9),bins=12)\n",
    "plt.title ('Распределение событий по пользователям в группах')\n",
    "plt.xlabel ('Количество событий')\n",
    "plt.ylabel ('Частота событий')\n",
    "\n",
    "data.query('group == \"B\"').groupby('user_id')['event_dt'].count().hist(label = 'Группа В',edgecolor = 'black', \\\n",
    "                                                                       color='gray',figsize = (13,9),bins=12)\n",
    "plt.title ('Распределение событий по пользователям в группах')\n",
    "plt.xlabel ('Количество событий')\n",
    "plt.ylabel ('Частота событий')\n",
    "\n",
    "plt.show()"
   ]
  },
  {
   "cell_type": "markdown",
   "id": "c7525122",
   "metadata": {},
   "source": [
    "Можем заметить,что кол-во событий в группе А стабильно выше, чем в группе В, причем в значительной мере.\n",
    "Посмотрим на среднее двух групп"
   ]
  },
  {
   "cell_type": "code",
   "execution_count": null,
   "id": "ec78b795",
   "metadata": {},
   "outputs": [],
   "source": [
    "#Сравним две группы по среднему кол-ву событий\n",
    "test_A = data.query('group == \"A\"').groupby('user_id')['event_dt'].count().reset_index()\n",
    "print('Среднее кол-во событий группы А -',test_A['event_dt'].mean().round())\n",
    "\n",
    "test_B = data.query('group == \"B\"').groupby('user_id')['event_dt'].count().reset_index()\n",
    "print('Среднее кол-во событий группы B -',test_B['event_dt'].mean().round())"
   ]
  },
  {
   "cell_type": "markdown",
   "id": "cd9fe90f",
   "metadata": {},
   "source": [
    "## Проверим динамику количества событий в группах теста по дням: изучим распределение числа событий по дням и сравним динамику групп теста между собой. "
   ]
  },
  {
   "cell_type": "code",
   "execution_count": null,
   "id": "c33cd1ab",
   "metadata": {},
   "outputs": [],
   "source": [
    "#Настройка даты\n",
    "date = data\n",
    "date['event_dt'] = pd.to_datetime(date['event_dt']).dt.floor('d')\n",
    "date"
   ]
  },
  {
   "cell_type": "code",
   "execution_count": null,
   "id": "e966c8d0",
   "metadata": {},
   "outputs": [],
   "source": [
    "#динамика количества событий по датам \n",
    "date_1 = date.groupby('event_dt')['event_name'].count().reset_index()\n",
    "date_1"
   ]
  },
  {
   "cell_type": "code",
   "execution_count": null,
   "id": "29e4a86a",
   "metadata": {},
   "outputs": [],
   "source": [
    "#Строим линейный график\n",
    "fig = px.line(date_1, x='event_dt', y= 'event_name',\\\n",
    "             title = 'Динамика событий по дням',color_discrete_sequence = px.colors.sequential.Rainbow)\n",
    "fig.update_layout(xaxis_title = 'Дата события',\n",
    "                  yaxis_title = 'Кол-во cобытий',\n",
    "                  legend_title_text = 'Группы')\n",
    "                  \n",
    "fig.update_traces(hovertemplate = 'Дата : %{x} <br>Событий: %{y}')\n",
    "\n",
    "fig.show()"
   ]
  },
  {
   "cell_type": "markdown",
   "id": "ee193724",
   "metadata": {},
   "source": [
    "Начиная с 13 декабря видим резкий скачек в активности пользователей до 21 числа, затем довольно резкий спад"
   ]
  },
  {
   "cell_type": "code",
   "execution_count": null,
   "id": "e4d96d1f",
   "metadata": {
    "scrolled": false
   },
   "outputs": [],
   "source": [
    "#динамика количества событий по датам в разрезе групп\n",
    "date = date.groupby(['group','event_dt'])['event_name'].count().reset_index()\n",
    "\n",
    "date"
   ]
  },
  {
   "cell_type": "code",
   "execution_count": null,
   "id": "c5ef8a78",
   "metadata": {},
   "outputs": [],
   "source": [
    "#Строим линейный график\n",
    "fig = px.line(date, x='event_dt', y= 'event_name',\\\n",
    "             title = 'Динамика событий по дням в разрезе групп', \\\n",
    "             color = 'group',color_discrete_sequence = px.colors.sequential.Rainbow)\n",
    "fig.update_layout(xaxis_title = 'Дата события',\n",
    "                  yaxis_title = 'Кол-во cобытий',\n",
    "                  legend_title_text = 'Группы')\n",
    "                  \n",
    "fig.update_traces(hovertemplate = 'Дата : %{x} <br>Событий: %{y}')\n",
    "\n",
    "fig.show()"
   ]
  },
  {
   "cell_type": "markdown",
   "id": "bbf348a3",
   "metadata": {},
   "source": [
    "На графике можем заметить резкий скачек кол-ва событий 13 декабря в группе А, рост продолжался  до 21 числа,затем пошел на спад . В группе В кол-во событий было практически равномерно за время всего теста, начиная с 21 числа как и у группы А начался спад, хоть и менее резкий\n",
    "\n"
   ]
  },
  {
   "cell_type": "markdown",
   "id": "883ea4d1",
   "metadata": {},
   "source": [
    "Можно сделать вывод,глядя на график в разрезе групп, что скачек на общей динамике был из-за всплеска активности в группе А,динамика группы В идет довольно равномерно"
   ]
  },
  {
   "cell_type": "markdown",
   "id": "9481da73",
   "metadata": {},
   "source": [
    "## Убедимся, что время проведения теста не совпадает с маркетинговыми и другими активностями. Настроим автоматическую проверку, выдающую список событий, пересекающихся с тестом. При необходимости оценим воздействие маркетинговых событий на динамику количества событий."
   ]
  },
  {
   "cell_type": "code",
   "execution_count": null,
   "id": "edbacbe6",
   "metadata": {},
   "outputs": [],
   "source": [
    "#Проверим маркетинговые активности совпадающие с нашим тестом\n",
    "marketing_events[marketing_events['regions'].str.contains('EU')].query('start_dt >= \"2020-12-07\" or finish_dt >= \"2020-12-07\"')"
   ]
  },
  {
   "cell_type": "markdown",
   "id": "84ec4fb2",
   "metadata": {},
   "source": [
    "Мы взяли отрезок с начала старта регистрация нашего теста  и проверили проведения маркетинговых активностий в эти даты и по нашему региону, в котором проводится тест. Можно сделать вывод, что по нашему лайфтайму в 14 дней, маркетинговые активности не совпадают. Christmas&New Year Promo - начинается после 21 декабря"
   ]
  },
  {
   "cell_type": "markdown",
   "id": "4c6777d1",
   "metadata": {},
   "source": [
    "## Продуктовая воронка: построим простые продуктовые воронки для двух групп теста с учетом логической последовательности совершения событий; изучим изменение конверсии в продуктовой воронке тестовой группы, по сравнению с контрольной: наблюдается ли ожидаемый эффект увеличения конверсии в группе В, относительно конверсии в группе А?"
   ]
  },
  {
   "cell_type": "code",
   "execution_count": null,
   "id": "192abf34",
   "metadata": {},
   "outputs": [],
   "source": [
    "#Подготовка данных к воронке событий\n",
    "data_A = data.query('group == \"A\"').groupby('event_name')['user_id'].nunique().reset_index()\n",
    "data_A = data_A.reindex([0,2,1,3])\n",
    "data_A"
   ]
  },
  {
   "cell_type": "code",
   "execution_count": null,
   "id": "041a2ee4",
   "metadata": {},
   "outputs": [],
   "source": [
    "#Подготовка данных к воронке событий\n",
    "data_B = data.query('group == \"B\"').groupby('event_name')['user_id'].nunique().reset_index()\n",
    "data_B = data_B.reindex([0,2,1,3])\n",
    "data_B"
   ]
  },
  {
   "cell_type": "markdown",
   "id": "b16b30bb",
   "metadata": {},
   "source": [
    "Создадим сводную таблицу, что бы показать в разре групп кол-во пользователей, конверсию пользователей от 1 шага, конверсию пользователей от шага к шагу и долю потерь пользователей"
   ]
  },
  {
   "cell_type": "code",
   "execution_count": null,
   "id": "ad7364c2",
   "metadata": {},
   "outputs": [],
   "source": [
    "#Создаем сводную таблицу количества событий по группам\n",
    "table =  data.pivot_table(index='event_name', values='user_id', columns='group', aggfunc='nunique')\n",
    "\n",
    "#Поменяем местами события как они должны быть\n",
    "table = table.reindex(['login','product_page','product_cart','purchase'])\n",
    "\n",
    "#Посчитаем конверсию от логина\n",
    "table_2 = (table / table.loc['login',:]).round(2)\n",
    "\n",
    "#Объединяем сводную таблицу с таблицей коверсии от логина\n",
    "table_2 = table.merge(table_2, on='event_name')\n",
    "\n",
    "#Поменяем названия в столбцах\n",
    "table_2 = table_2.rename (columns= {'A_x': 'A_count', 'B_x': 'B_count','A_y': 'A_conv', 'B_y':'B_conv'})\n",
    "\n",
    "#Cчитаем конверсию в шаг\n",
    "table_3 = table / table.shift(1)\n",
    "table_3 = table_3.round(2)\n",
    "\n",
    "#Заменим пропуски 1\n",
    "table_3 = table_3.fillna(1)\n",
    "\n",
    "#Объединяем таблицу с кол-вом и конверсией с таблицей с конверсией в шаг\n",
    "table_2 = table_2.merge(table_3, on='event_name')\n",
    "\n",
    "#Потери при переходе\n",
    "table_4 = table_3 - table_3.shift(1)\n",
    "table_4 = table_4.round(2)\n",
    "\n",
    "#Объединяем таблицу с кол-вом и конверсией и конверсией в шаг с таблицей с потерями\n",
    "table_2 = table_2.merge(table_4,on='event_name')\n",
    "\n",
    "#Переименуем столбцы\n",
    "table_2 = table_2.rename (columns= {'A_x': 'A_conv_previous', 'B_x': 'B_conv_previous','A_y': 'A_loss', 'B_y':'B_loss'})\n",
    "\n",
    "#Заменим пропуски в потерях на 0\n",
    "table_2 = table_2.fillna(0)\n",
    "\n",
    "table_2"
   ]
  },
  {
   "cell_type": "code",
   "execution_count": null,
   "id": "9c83f8ac",
   "metadata": {
    "scrolled": false
   },
   "outputs": [],
   "source": [
    "#Строим воронки событий\n",
    "fig = make_subplots(rows=1, cols=2,subplot_titles=(\"Группа А\",\"Группа В\"))\n",
    "\n",
    "\n",
    "fig.add_trace(\n",
    "    go.Funnel(\n",
    "    y = data_A['event_name'],\n",
    "    x = data_A['user_id'],\n",
    "    textposition = \"inside\",\n",
    "    textinfo = \"value+percent initial+percent previous\",\n",
    "    marker = {\"color\": \"#1c1847\"}\n",
    "),\n",
    "    row=1, col=1\n",
    ")\n",
    "\n",
    "fig.add_trace(\n",
    "    go.Funnel(\n",
    "    y = data_B['event_name'],\n",
    "    x = data_B['user_id'],\n",
    "    textposition = \"inside\",\n",
    "    textinfo = \"value+percent initial+percent previous\",\n",
    "        marker = {\"color\": \"#ff0000\"}\n",
    "),\n",
    "    row=1, col=2\n",
    ")\n",
    "\n",
    "fig.update_layout(showlegend=False,height=600, width=1000)\n",
    "fig.show()"
   ]
  },
  {
   "cell_type": "markdown",
   "id": "847c8641",
   "metadata": {},
   "source": [
    "Глядя на воронки можем сказать, что конверсия в группе А лучше чем в тестовой группе В,в тестовой группе немного выше конверсия от продуктовой карточки до продуктовой корзины, но если рассмотреть конверсию к корзине от логина, то в группе А она все равно выше. Опять стоит обратить внимание, что пользователей совершивших покупку больше чем тех, которые переходят в корзину товара, это тенденция для двух групп остается не изменной. Наблюдаемый эффект увеличение конверсии для тестовой группы не наблюдается"
   ]
  },
  {
   "cell_type": "markdown",
   "id": "75286bd1",
   "metadata": {},
   "source": [
    "## Общий вывод об изменении пользовательской активности в тестовой группе, по сравнению с контрольной."
   ]
  },
  {
   "cell_type": "markdown",
   "id": "4d4306cb",
   "metadata": {},
   "source": [
    "В ходе исследования мы выяснили, что кол-во событий в группе А стабильно выше, чем в группе В, причем в значительной мере.\n",
    "* Среднее кол-во событий группы А - 7.0\n",
    "* Среднее кол-во событий группы B - 5.0\n",
    "\n",
    "На графике динамики по дням мы заметили резкий скачек кол-ва событий у контрольной группы 13 декабря, к 16 декабря произошел легкий спад и до 20 числа распределение было примерно равномерным, после 20 числа пошел рост у тестируемой группы динамика довольно стабильна, +- в одном диапазоне\n",
    "\n",
    "Мы взяли отрезок с начала сентября проведения маркетинговых активностий по которому сделали вывод, что по нашему лайфтайму в 14 дней, маркетинговые активности не совпадают. Christmas&New Year Promo - начинается после 21 декабря, Black Friday Ads Campaign заканчивается раньше проведения нашего теста, остальные активности не подходят по нашему региону\n",
    "\n",
    "Построили воронки событий и проверили конверсию контрольной группы относительно тестовой где у контрольной группы конверсия:\n",
    "\n",
    "* От продуктовой карточке к логину составила - 65%\n",
    "* От корзины к продуктовой карточке составила - 46% , от корзины к логину - 30%\n",
    "* От оплаты к корзине составила - 107% от оплаты к логину - 32% \n",
    "\n",
    "конверсия тестовой группы \n",
    "\n",
    "* От продуктовой карточке к логину составила - 56%\n",
    "* От корзины к продуктовой карточке составила - 49% , от корзины к логину - 27.9%\n",
    "* От оплаты к корзине составила - 102% от оплаты к логину - 28.4% \n",
    "\n",
    "Обратили внимание, что пользователей совершивших покупку больше чем тех, которые переходят в корзину товара, это тенденция для двух групп остается неизменной. Наблюдаемый эффект увеличение конверсии для тестовой группы не наблюдается"
   ]
  },
  {
   "cell_type": "markdown",
   "id": "c3badc92",
   "metadata": {},
   "source": [
    "# Проведем оценку результатов A/B-тестирования:"
   ]
  },
  {
   "cell_type": "markdown",
   "id": "2e511038",
   "metadata": {},
   "source": [
    "## Проверим статистическую разницу долей z-критерием."
   ]
  },
  {
   "cell_type": "code",
   "execution_count": null,
   "id": "381f065e",
   "metadata": {},
   "outputs": [],
   "source": [
    "#Подготовим данные к тесту\n",
    "data_AA = data.groupby(['event_name','group'])['user_id'].nunique().reset_index().sort_values(by='group')\n",
    "data_AA = data_AA.reindex([0,4,2,6,1,5,3,7])\n",
    "\n",
    "data_AA\n"
   ]
  },
  {
   "cell_type": "code",
   "execution_count": null,
   "id": "41a3efb2",
   "metadata": {},
   "outputs": [],
   "source": [
    "#Функция для проведения Z-теста\n",
    "def test(ab1, ab2, event, alpha, bon):  \n",
    "\n",
    "    \n",
    "    # критический уровень статистической значимости c поправкой Бонферрони\n",
    "    bonferroni_alpha = alpha / bon\n",
    " \n",
    "    # число пользователей в группе 1 и группе 2:\n",
    "    trials = np.array([ab1['user_id'].nunique(), \n",
    "                       ab2['user_id'].nunique()])\n",
    "\n",
    "    # число пользователей, совершивших событие в группе 1 и группе 2\n",
    "    success = np.array([ab1[ab1['event_name'] == event]['user_id'].nunique(), \n",
    "                        ab2[ab2['event_name'] == event]['user_id'].nunique()])\n",
    "    # пропорция успехов в первой группе:\n",
    "    p1 = success[0]/trials[0]\n",
    "\n",
    "    # пропорция успехов во второй группе:    \n",
    "    p2 = success[1]/trials[1]\n",
    "    \n",
    "    # пропорция успехов в комбинированном датасете:\n",
    "    p_combined = (success[0] + success[1]) / (trials[0] + trials[1])\n",
    "\n",
    "    # разница пропорций в датасетах\n",
    "    difference = p1 - p2 \n",
    "\n",
    "    # считаем статистику в ст.отклонениях стандартного нормального распределения\n",
    "    z_value = difference /  np.sqrt(p_combined * (1 - p_combined) * (1/trials[0] + 1/trials[1]))\n",
    "\n",
    "    # задаем стандартное нормальное распределение (среднее 0, ст.отклонение 1)\n",
    "    distr = st.norm(0, 1)  \n",
    "\n",
    "    p_value = (1 - distr.cdf(abs(z_value))) * 2   #тест двусторонний, удваиваем результат\n",
    "    \n",
    "    print('Событие:', event)\n",
    "    print('p_value:', p_value)\n",
    "\n",
    "    if p_value < bonferroni_alpha:\n",
    "        print('Статистически значимые различия между долями есть - отвергаем нулевую гипотезу')\n",
    "    else:\n",
    "        print(\n",
    "        'Статистически значимых различий между долями нет - не получилось отвергнуть нулевую гипотезу')"
   ]
  },
  {
   "cell_type": "markdown",
   "id": "44425029",
   "metadata": {},
   "source": [
    "* Н0 - Статистически значимых различий между долями - нет\n",
    "* Н1 - Статистически значимые различия между долями - есть\n",
    "* Уровень значимости альфа = 0.05\n",
    "* Воспользуемся поправкой Бонферрони"
   ]
  },
  {
   "cell_type": "code",
   "execution_count": null,
   "id": "754de8ba",
   "metadata": {},
   "outputs": [],
   "source": [
    "# Уровень значимости:\n",
    "alpha = 0.05\n",
    "\n",
    "# Поправка Бонферрони для А/B теста:\n",
    "bonB = 4"
   ]
  },
  {
   "cell_type": "code",
   "execution_count": null,
   "id": "ac647e92",
   "metadata": {},
   "outputs": [],
   "source": [
    "# проверим, есть ли статистически значимая разница между контрольной группой А и тестовой В:\n",
    "\n",
    "for event in data_AA['event_name'].unique():\n",
    "    test(data[data['group'] == 'A'], data[data['group'] == 'B'], event, alpha, bonB)\n",
    "    print()"
   ]
  },
  {
   "cell_type": "markdown",
   "id": "1b17e108",
   "metadata": {},
   "source": [
    "## Что можно сказать про результаты A/B-тестирования? Был ли достигнут ожидаемый эффект в изменении конверсии?"
   ]
  },
  {
   "cell_type": "markdown",
   "id": "44410c86",
   "metadata": {},
   "source": [
    "Статистическая разница присутствует только в карточках товара(В пользу группы А), в остальных событиях не удалось выявить статистически значимых различий.  Ожидаемого эффеката достичь неудалось"
   ]
  },
  {
   "cell_type": "markdown",
   "id": "16752499",
   "metadata": {},
   "source": [
    "# Общий вывод"
   ]
  },
  {
   "cell_type": "markdown",
   "id": "aaf641a8",
   "metadata": {},
   "source": [
    "Изначально данные по ТЗ были даны не корректно, в этапе предобрабокте мы убрали пользователей не из целевого региона, в наших данных были пользователи, которые зарегистрированы позже, чем указана последняя дата регистрации в ТЗ, так же у нас было два теста изначально, оставили тот, который был по ТЗ. Выянсли что количество пользователей из целевого региона составляет 15% от общего числа пользователей из целевого региона, зарегистрированных в период набора пользователей в тест как и указано в ТЗ. Больше всего регистраций в 1 день в середине теста 14 декабря и в последний день, по распределению группы поделены неравномерно, в Группе А в разрезе дней стабильно больше пользователей. Общее распределение Группа A - 3634, Группа B - 2717\n",
    "В группе А и в группе В воронка нарушена. В корзину с товарами люди заходят чаще, чем в продуктовые карточки.Скорее всего это связано с тем, можно товар можно сразу добавить в корзину, без просмотра карточки товара.\n",
    "Пользователей которые не совершали каких либо действий после регистрации 2870 человек, 1030 в группе А и 1840 в группе В, Больше всего пользователей не совершавших какое либо действие пришло 12 и 13 декабря,После 13 декабря пользователй в группе А, которые не совершали каких либо действий не наблюдается. В группе В после 13 числа сильный спад по пользователям без действий, но после начинается снова рост и самый высокий показатель \"бездействия\" у пользователей с андроидом,но это связано с тем, что пользователей Андроида впринципе больше\n",
    "Мы отсеяли пользователей которые совершали события после 14 дней с момента регистрации. После этого у нас не осталось пользователей, которые не совершали какое-либо действие, выяснили что пользователи совершают какое-либо действие в основном сразу после регистрации.\n",
    "Разница набора группы А и группы В около 35%, это может сущетсвенно повлиять на возможности получения достоверных результатов\n",
    "При базовом показателе конверсии в 50 % и минимальном обнаруживаемом эффекте 5% минимальный размер выборки составил 1567\n",
    "\n",
    "В ходе исследования мы выяснили, что кол-во событий в группе А стабильно выше, чем в группе В, причем в значительной мере.\n",
    "На графике можем заметить резкий скачек кол-ва событий 13 декабря в группе А, рост продолжался до 21 числа,затем пошел на спад . В группе В кол-во событий было практически равномерно за время всего теста, начиная с 21 числа как и у группы А начался спад, хоть и менее резкий.\n",
    "Пересечений с маркетинговыми активностим замечено не было.\n",
    "Построили воронки событий и проверили конверсию контрольной группы относительно тестовой и выяснили что показатели контрольной группы визуально показываютс себя лучше\n",
    "Проверили статистическую разницу долей z-критерием и выяснили что статистическая разница между группами А и В есть только в карточке товаров.\n",
    "\n",
    "Тест можно считать завершенным, данные не соответствовали ТЗ, группы были набраны слишком неравномерно, что и повлияло на результаты теста."
   ]
  }
 ],
 "metadata": {
  "ExecuteTimeLog": [
   {
    "duration": 2394,
    "start_time": "2023-11-08T04:09:46.026Z"
   },
   {
    "duration": 1106,
    "start_time": "2023-11-08T04:09:48.422Z"
   },
   {
    "duration": 132,
    "start_time": "2023-11-08T04:09:49.530Z"
   },
   {
    "duration": 45,
    "start_time": "2023-11-08T04:09:49.664Z"
   },
   {
    "duration": 54,
    "start_time": "2023-11-08T04:09:49.710Z"
   },
   {
    "duration": 348,
    "start_time": "2023-11-08T04:09:49.765Z"
   },
   {
    "duration": 61,
    "start_time": "2023-11-08T04:09:50.116Z"
   },
   {
    "duration": 65,
    "start_time": "2023-11-08T04:09:50.179Z"
   },
   {
    "duration": 19592,
    "start_time": "2023-11-08T04:09:50.246Z"
   },
   {
    "duration": 6,
    "start_time": "2023-11-08T04:10:09.840Z"
   },
   {
    "duration": 1047,
    "start_time": "2023-11-08T04:10:09.847Z"
   },
   {
    "duration": 13,
    "start_time": "2023-11-08T04:10:10.895Z"
   },
   {
    "duration": 45,
    "start_time": "2023-11-08T04:10:10.911Z"
   },
   {
    "duration": 5,
    "start_time": "2023-11-08T04:10:10.957Z"
   },
   {
    "duration": 24,
    "start_time": "2023-11-08T04:10:10.963Z"
   },
   {
    "duration": 22,
    "start_time": "2023-11-08T04:10:11.006Z"
   },
   {
    "duration": 35,
    "start_time": "2023-11-08T04:10:11.030Z"
   },
   {
    "duration": 11,
    "start_time": "2023-11-08T04:10:11.067Z"
   },
   {
    "duration": 42,
    "start_time": "2023-11-08T04:10:11.080Z"
   },
   {
    "duration": 137,
    "start_time": "2023-11-08T04:10:11.124Z"
   },
   {
    "duration": 18,
    "start_time": "2023-11-08T04:10:11.263Z"
   },
   {
    "duration": 29,
    "start_time": "2023-11-08T04:10:11.282Z"
   },
   {
    "duration": 489,
    "start_time": "2023-11-08T04:10:11.313Z"
   },
   {
    "duration": 9,
    "start_time": "2023-11-08T04:10:11.804Z"
   },
   {
    "duration": 104,
    "start_time": "2023-11-08T04:10:11.816Z"
   },
   {
    "duration": 14,
    "start_time": "2023-11-08T04:10:11.923Z"
   },
   {
    "duration": 10,
    "start_time": "2023-11-08T04:10:11.938Z"
   },
   {
    "duration": 60,
    "start_time": "2023-11-08T04:10:11.951Z"
   },
   {
    "duration": 22,
    "start_time": "2023-11-08T04:10:12.013Z"
   },
   {
    "duration": 35,
    "start_time": "2023-11-08T04:10:12.037Z"
   },
   {
    "duration": 51,
    "start_time": "2023-11-08T04:10:12.074Z"
   },
   {
    "duration": 40,
    "start_time": "2023-11-08T04:10:12.127Z"
   },
   {
    "duration": 12,
    "start_time": "2023-11-08T04:10:12.168Z"
   },
   {
    "duration": 23,
    "start_time": "2023-11-08T04:10:12.181Z"
   },
   {
    "duration": 48,
    "start_time": "2023-11-08T04:10:12.206Z"
   },
   {
    "duration": 200,
    "start_time": "2023-11-08T04:10:12.255Z"
   },
   {
    "duration": 221,
    "start_time": "2023-11-08T04:10:12.457Z"
   },
   {
    "duration": 28,
    "start_time": "2023-11-08T04:10:12.680Z"
   },
   {
    "duration": 13,
    "start_time": "2023-11-08T04:10:12.710Z"
   },
   {
    "duration": 278,
    "start_time": "2023-11-08T04:10:12.725Z"
   },
   {
    "duration": 13,
    "start_time": "2023-11-08T04:10:13.006Z"
   },
   {
    "duration": 278,
    "start_time": "2023-11-08T04:10:13.022Z"
   },
   {
    "duration": 19,
    "start_time": "2023-11-08T04:10:13.308Z"
   },
   {
    "duration": 36,
    "start_time": "2023-11-08T04:10:13.329Z"
   },
   {
    "duration": 14,
    "start_time": "2023-11-08T04:10:13.367Z"
   },
   {
    "duration": 70,
    "start_time": "2023-11-08T04:10:13.383Z"
   },
   {
    "duration": 17,
    "start_time": "2023-11-08T04:10:13.454Z"
   },
   {
    "duration": 16,
    "start_time": "2023-11-08T04:10:13.473Z"
   },
   {
    "duration": 30,
    "start_time": "2023-11-08T04:10:13.490Z"
   },
   {
    "duration": 74,
    "start_time": "2023-11-08T04:10:13.523Z"
   },
   {
    "duration": 78,
    "start_time": "2023-11-08T04:14:00.152Z"
   },
   {
    "duration": 54,
    "start_time": "2023-11-08T04:14:04.430Z"
   },
   {
    "duration": 63,
    "start_time": "2023-11-08T10:29:03.059Z"
   },
   {
    "duration": 1836,
    "start_time": "2023-11-08T10:29:10.230Z"
   },
   {
    "duration": 1098,
    "start_time": "2023-11-08T10:29:12.068Z"
   },
   {
    "duration": 146,
    "start_time": "2023-11-08T10:29:13.168Z"
   },
   {
    "duration": 30,
    "start_time": "2023-11-08T10:29:13.316Z"
   },
   {
    "duration": 75,
    "start_time": "2023-11-08T10:29:13.347Z"
   },
   {
    "duration": 341,
    "start_time": "2023-11-08T10:29:13.425Z"
   },
   {
    "duration": 74,
    "start_time": "2023-11-08T10:29:13.768Z"
   },
   {
    "duration": 46,
    "start_time": "2023-11-08T10:29:13.844Z"
   },
   {
    "duration": 19656,
    "start_time": "2023-11-08T10:29:13.902Z"
   },
   {
    "duration": 5,
    "start_time": "2023-11-08T10:29:33.561Z"
   },
   {
    "duration": 10,
    "start_time": "2023-11-08T10:29:34.796Z"
   },
   {
    "duration": 66,
    "start_time": "2023-11-08T10:29:34.808Z"
   },
   {
    "duration": 5,
    "start_time": "2023-11-08T10:29:34.876Z"
   },
   {
    "duration": 30,
    "start_time": "2023-11-08T10:29:34.882Z"
   },
   {
    "duration": 16,
    "start_time": "2023-11-08T10:29:34.913Z"
   },
   {
    "duration": 40,
    "start_time": "2023-11-08T10:29:34.930Z"
   },
   {
    "duration": 37,
    "start_time": "2023-11-08T10:29:34.972Z"
   },
   {
    "duration": 14,
    "start_time": "2023-11-08T10:29:35.012Z"
   },
   {
    "duration": 129,
    "start_time": "2023-11-08T10:29:35.027Z"
   },
   {
    "duration": 19,
    "start_time": "2023-11-08T10:29:35.158Z"
   },
   {
    "duration": 50,
    "start_time": "2023-11-08T10:29:35.179Z"
   },
   {
    "duration": 384,
    "start_time": "2023-11-08T10:29:35.231Z"
   },
   {
    "duration": 8,
    "start_time": "2023-11-08T10:29:35.617Z"
   },
   {
    "duration": 115,
    "start_time": "2023-11-08T10:29:35.627Z"
   },
   {
    "duration": 11,
    "start_time": "2023-11-08T10:29:35.744Z"
   },
   {
    "duration": 48,
    "start_time": "2023-11-08T10:29:35.756Z"
   },
   {
    "duration": 17,
    "start_time": "2023-11-08T10:29:35.808Z"
   },
   {
    "duration": 17,
    "start_time": "2023-11-08T10:29:35.826Z"
   },
   {
    "duration": 17,
    "start_time": "2023-11-08T10:29:35.845Z"
   },
   {
    "duration": 53,
    "start_time": "2023-11-08T10:29:35.864Z"
   },
   {
    "duration": 23,
    "start_time": "2023-11-08T10:29:35.920Z"
   },
   {
    "duration": 9,
    "start_time": "2023-11-08T10:29:35.945Z"
   },
   {
    "duration": 18,
    "start_time": "2023-11-08T10:29:35.956Z"
   },
   {
    "duration": 53,
    "start_time": "2023-11-08T10:29:35.976Z"
   },
   {
    "duration": 232,
    "start_time": "2023-11-08T10:29:36.031Z"
   },
   {
    "duration": 250,
    "start_time": "2023-11-08T10:29:36.265Z"
   },
   {
    "duration": 21,
    "start_time": "2023-11-08T10:29:36.517Z"
   },
   {
    "duration": 6,
    "start_time": "2023-11-08T10:29:36.539Z"
   },
   {
    "duration": 295,
    "start_time": "2023-11-08T10:29:36.546Z"
   },
   {
    "duration": 9,
    "start_time": "2023-11-08T10:29:36.843Z"
   },
   {
    "duration": 253,
    "start_time": "2023-11-08T10:29:36.854Z"
   },
   {
    "duration": 13,
    "start_time": "2023-11-08T10:29:37.109Z"
   },
   {
    "duration": 28,
    "start_time": "2023-11-08T10:29:37.124Z"
   },
   {
    "duration": 19,
    "start_time": "2023-11-08T10:29:37.154Z"
   },
   {
    "duration": 74,
    "start_time": "2023-11-08T10:29:37.175Z"
   },
   {
    "duration": 18,
    "start_time": "2023-11-08T10:29:37.250Z"
   },
   {
    "duration": 5,
    "start_time": "2023-11-08T10:29:37.271Z"
   },
   {
    "duration": 6,
    "start_time": "2023-11-08T10:29:37.302Z"
   },
   {
    "duration": 63,
    "start_time": "2023-11-08T10:29:37.310Z"
   },
   {
    "duration": 1016,
    "start_time": "2023-11-08T10:29:37.375Z"
   },
   {
    "duration": 16,
    "start_time": "2023-11-08T10:32:55.080Z"
   },
   {
    "duration": 15,
    "start_time": "2023-11-08T10:33:17.028Z"
   },
   {
    "duration": 15,
    "start_time": "2023-11-08T10:33:30.608Z"
   },
   {
    "duration": 16,
    "start_time": "2023-11-08T10:33:37.284Z"
   },
   {
    "duration": 22,
    "start_time": "2023-11-08T10:33:43.583Z"
   },
   {
    "duration": 16,
    "start_time": "2023-11-08T10:34:15.575Z"
   },
   {
    "duration": 21,
    "start_time": "2023-11-08T10:34:26.141Z"
   },
   {
    "duration": 1006,
    "start_time": "2023-11-08T10:34:54.508Z"
   },
   {
    "duration": 16,
    "start_time": "2023-11-08T10:35:19.530Z"
   },
   {
    "duration": 62,
    "start_time": "2023-11-08T10:39:33.168Z"
   },
   {
    "duration": 16,
    "start_time": "2023-11-08T10:44:35.527Z"
   },
   {
    "duration": 18,
    "start_time": "2023-11-08T10:45:06.254Z"
   },
   {
    "duration": 15,
    "start_time": "2023-11-08T10:45:13.746Z"
   },
   {
    "duration": 1775,
    "start_time": "2023-11-08T10:45:32.403Z"
   },
   {
    "duration": 1078,
    "start_time": "2023-11-08T10:45:34.180Z"
   },
   {
    "duration": 164,
    "start_time": "2023-11-08T10:45:35.261Z"
   },
   {
    "duration": 36,
    "start_time": "2023-11-08T10:45:35.426Z"
   },
   {
    "duration": 84,
    "start_time": "2023-11-08T10:45:35.465Z"
   },
   {
    "duration": 377,
    "start_time": "2023-11-08T10:45:35.551Z"
   },
   {
    "duration": 86,
    "start_time": "2023-11-08T10:45:35.930Z"
   },
   {
    "duration": 56,
    "start_time": "2023-11-08T10:45:36.018Z"
   },
   {
    "duration": 21097,
    "start_time": "2023-11-08T10:45:36.077Z"
   },
   {
    "duration": 6,
    "start_time": "2023-11-08T10:45:57.175Z"
   },
   {
    "duration": 1035,
    "start_time": "2023-11-08T10:45:57.183Z"
   },
   {
    "duration": 8,
    "start_time": "2023-11-08T10:45:58.220Z"
   },
   {
    "duration": 45,
    "start_time": "2023-11-08T10:45:58.229Z"
   },
   {
    "duration": 25,
    "start_time": "2023-11-08T10:45:58.277Z"
   },
   {
    "duration": 30,
    "start_time": "2023-11-08T10:45:58.304Z"
   },
   {
    "duration": 15,
    "start_time": "2023-11-08T10:45:58.336Z"
   },
   {
    "duration": 53,
    "start_time": "2023-11-08T10:45:58.353Z"
   },
   {
    "duration": 12,
    "start_time": "2023-11-08T10:45:58.408Z"
   },
   {
    "duration": 8,
    "start_time": "2023-11-08T10:45:58.422Z"
   },
   {
    "duration": 160,
    "start_time": "2023-11-08T10:45:58.432Z"
   },
   {
    "duration": 23,
    "start_time": "2023-11-08T10:45:58.594Z"
   },
   {
    "duration": 19,
    "start_time": "2023-11-08T10:45:58.619Z"
   },
   {
    "duration": 702,
    "start_time": "2023-11-08T10:45:58.639Z"
   },
   {
    "duration": 7,
    "start_time": "2023-11-08T10:45:59.342Z"
   },
   {
    "duration": 52,
    "start_time": "2023-11-08T10:45:59.350Z"
   },
   {
    "duration": 11,
    "start_time": "2023-11-08T10:45:59.405Z"
   },
   {
    "duration": 15,
    "start_time": "2023-11-08T10:45:59.418Z"
   },
   {
    "duration": 37,
    "start_time": "2023-11-08T10:45:59.435Z"
   },
   {
    "duration": 46,
    "start_time": "2023-11-08T10:45:59.474Z"
   },
   {
    "duration": 34,
    "start_time": "2023-11-08T10:45:59.522Z"
   },
   {
    "duration": 47,
    "start_time": "2023-11-08T10:45:59.557Z"
   },
   {
    "duration": 39,
    "start_time": "2023-11-08T10:45:59.606Z"
   },
   {
    "duration": 8,
    "start_time": "2023-11-08T10:45:59.647Z"
   },
   {
    "duration": 12,
    "start_time": "2023-11-08T10:45:59.656Z"
   },
   {
    "duration": 45,
    "start_time": "2023-11-08T10:45:59.670Z"
   },
   {
    "duration": 398,
    "start_time": "2023-11-08T10:45:59.717Z"
   },
   {
    "duration": 237,
    "start_time": "2023-11-08T10:46:00.117Z"
   },
   {
    "duration": 21,
    "start_time": "2023-11-08T10:46:00.356Z"
   },
   {
    "duration": 98,
    "start_time": "2023-11-08T10:46:00.379Z"
   },
   {
    "duration": 405,
    "start_time": "2023-11-08T10:46:00.479Z"
   },
   {
    "duration": 23,
    "start_time": "2023-11-08T10:46:00.890Z"
   },
   {
    "duration": 430,
    "start_time": "2023-11-08T10:46:00.915Z"
   },
   {
    "duration": 15,
    "start_time": "2023-11-08T10:46:01.347Z"
   },
   {
    "duration": 120,
    "start_time": "2023-11-08T10:46:01.364Z"
   },
   {
    "duration": 47,
    "start_time": "2023-11-08T10:46:01.486Z"
   },
   {
    "duration": 156,
    "start_time": "2023-11-08T10:46:01.535Z"
   },
   {
    "duration": 68,
    "start_time": "2023-11-08T10:46:01.693Z"
   },
   {
    "duration": 111,
    "start_time": "2023-11-08T10:46:01.763Z"
   },
   {
    "duration": 167,
    "start_time": "2023-11-08T10:46:01.876Z"
   },
   {
    "duration": 104,
    "start_time": "2023-11-08T10:46:02.045Z"
   },
   {
    "duration": 4,
    "start_time": "2023-11-08T10:46:26.136Z"
   },
   {
    "duration": 18,
    "start_time": "2023-11-08T10:46:30.930Z"
   },
   {
    "duration": 16,
    "start_time": "2023-11-08T10:46:33.534Z"
   },
   {
    "duration": 1739,
    "start_time": "2023-11-08T10:46:40.683Z"
   },
   {
    "duration": 838,
    "start_time": "2023-11-08T10:46:42.424Z"
   },
   {
    "duration": 158,
    "start_time": "2023-11-08T10:46:43.264Z"
   },
   {
    "duration": 35,
    "start_time": "2023-11-08T10:46:43.425Z"
   },
   {
    "duration": 87,
    "start_time": "2023-11-08T10:46:43.462Z"
   },
   {
    "duration": 389,
    "start_time": "2023-11-08T10:46:43.551Z"
   },
   {
    "duration": 92,
    "start_time": "2023-11-08T10:46:43.942Z"
   },
   {
    "duration": 105,
    "start_time": "2023-11-08T10:46:44.037Z"
   },
   {
    "duration": 21343,
    "start_time": "2023-11-08T10:46:44.144Z"
   },
   {
    "duration": 12,
    "start_time": "2023-11-08T10:47:05.490Z"
   },
   {
    "duration": 1114,
    "start_time": "2023-11-08T10:47:05.504Z"
   },
   {
    "duration": 7,
    "start_time": "2023-11-08T10:47:06.619Z"
   },
   {
    "duration": 113,
    "start_time": "2023-11-08T10:47:06.628Z"
   },
   {
    "duration": 5,
    "start_time": "2023-11-08T10:47:06.743Z"
   },
   {
    "duration": 24,
    "start_time": "2023-11-08T10:47:06.749Z"
   },
   {
    "duration": 31,
    "start_time": "2023-11-08T10:47:06.774Z"
   },
   {
    "duration": 40,
    "start_time": "2023-11-08T10:47:06.806Z"
   },
   {
    "duration": 12,
    "start_time": "2023-11-08T10:47:06.847Z"
   },
   {
    "duration": 8,
    "start_time": "2023-11-08T10:47:06.860Z"
   },
   {
    "duration": 158,
    "start_time": "2023-11-08T10:47:06.869Z"
   },
   {
    "duration": 19,
    "start_time": "2023-11-08T10:47:07.029Z"
   },
   {
    "duration": 27,
    "start_time": "2023-11-08T10:47:07.050Z"
   },
   {
    "duration": 449,
    "start_time": "2023-11-08T10:47:07.079Z"
   },
   {
    "duration": 7,
    "start_time": "2023-11-08T10:47:07.530Z"
   },
   {
    "duration": 80,
    "start_time": "2023-11-08T10:47:07.539Z"
   },
   {
    "duration": 12,
    "start_time": "2023-11-08T10:47:07.620Z"
   },
   {
    "duration": 67,
    "start_time": "2023-11-08T10:47:07.634Z"
   },
   {
    "duration": 21,
    "start_time": "2023-11-08T10:47:07.707Z"
   },
   {
    "duration": 20,
    "start_time": "2023-11-08T10:47:07.730Z"
   },
   {
    "duration": 68,
    "start_time": "2023-11-08T10:47:07.752Z"
   },
   {
    "duration": 17,
    "start_time": "2023-11-08T10:47:07.822Z"
   },
   {
    "duration": 22,
    "start_time": "2023-11-08T10:47:07.841Z"
   },
   {
    "duration": 38,
    "start_time": "2023-11-08T10:47:07.865Z"
   },
   {
    "duration": 6,
    "start_time": "2023-11-08T10:47:07.904Z"
   },
   {
    "duration": 40,
    "start_time": "2023-11-08T10:47:07.912Z"
   },
   {
    "duration": 231,
    "start_time": "2023-11-08T10:47:07.954Z"
   },
   {
    "duration": 230,
    "start_time": "2023-11-08T10:47:08.188Z"
   },
   {
    "duration": 27,
    "start_time": "2023-11-08T10:47:08.420Z"
   },
   {
    "duration": 6,
    "start_time": "2023-11-08T10:47:08.449Z"
   },
   {
    "duration": 310,
    "start_time": "2023-11-08T10:47:08.457Z"
   },
   {
    "duration": 16,
    "start_time": "2023-11-08T10:47:08.769Z"
   },
   {
    "duration": 273,
    "start_time": "2023-11-08T10:47:08.802Z"
   },
   {
    "duration": 25,
    "start_time": "2023-11-08T10:47:09.076Z"
   },
   {
    "duration": 16,
    "start_time": "2023-11-08T10:47:09.103Z"
   },
   {
    "duration": 13,
    "start_time": "2023-11-08T10:47:09.121Z"
   },
   {
    "duration": 33,
    "start_time": "2023-11-08T10:47:09.135Z"
   },
   {
    "duration": 44,
    "start_time": "2023-11-08T10:47:09.170Z"
   },
   {
    "duration": 7,
    "start_time": "2023-11-08T10:47:09.216Z"
   },
   {
    "duration": 11,
    "start_time": "2023-11-08T10:47:09.225Z"
   },
   {
    "duration": 86,
    "start_time": "2023-11-08T10:47:09.238Z"
   },
   {
    "duration": 20,
    "start_time": "2023-11-08T10:49:46.556Z"
   },
   {
    "duration": 1732,
    "start_time": "2023-11-08T10:49:56.868Z"
   },
   {
    "duration": 836,
    "start_time": "2023-11-08T10:49:58.603Z"
   },
   {
    "duration": 198,
    "start_time": "2023-11-08T10:49:59.441Z"
   },
   {
    "duration": 33,
    "start_time": "2023-11-08T10:49:59.641Z"
   },
   {
    "duration": 72,
    "start_time": "2023-11-08T10:49:59.675Z"
   },
   {
    "duration": 454,
    "start_time": "2023-11-08T10:49:59.749Z"
   },
   {
    "duration": 76,
    "start_time": "2023-11-08T10:50:00.205Z"
   },
   {
    "duration": 172,
    "start_time": "2023-11-08T10:50:00.282Z"
   },
   {
    "duration": 20030,
    "start_time": "2023-11-08T10:50:00.456Z"
   },
   {
    "duration": 13,
    "start_time": "2023-11-08T10:50:20.489Z"
   },
   {
    "duration": 1035,
    "start_time": "2023-11-08T10:50:20.504Z"
   },
   {
    "duration": 8,
    "start_time": "2023-11-08T10:50:21.541Z"
   },
   {
    "duration": 62,
    "start_time": "2023-11-08T10:50:21.550Z"
   },
   {
    "duration": 5,
    "start_time": "2023-11-08T10:50:21.614Z"
   },
   {
    "duration": 47,
    "start_time": "2023-11-08T10:50:21.621Z"
   },
   {
    "duration": 16,
    "start_time": "2023-11-08T10:50:21.670Z"
   },
   {
    "duration": 39,
    "start_time": "2023-11-08T10:50:21.688Z"
   },
   {
    "duration": 14,
    "start_time": "2023-11-08T10:50:21.729Z"
   },
   {
    "duration": 16,
    "start_time": "2023-11-08T10:50:21.745Z"
   },
   {
    "duration": 151,
    "start_time": "2023-11-08T10:50:21.763Z"
   },
   {
    "duration": 19,
    "start_time": "2023-11-08T10:50:21.916Z"
   },
   {
    "duration": 20,
    "start_time": "2023-11-08T10:50:21.937Z"
   },
   {
    "duration": 456,
    "start_time": "2023-11-08T10:50:21.959Z"
   },
   {
    "duration": 7,
    "start_time": "2023-11-08T10:50:22.417Z"
   },
   {
    "duration": 90,
    "start_time": "2023-11-08T10:50:22.425Z"
   },
   {
    "duration": 15,
    "start_time": "2023-11-08T10:50:22.517Z"
   },
   {
    "duration": 68,
    "start_time": "2023-11-08T10:50:22.534Z"
   },
   {
    "duration": 22,
    "start_time": "2023-11-08T10:50:22.606Z"
   },
   {
    "duration": 79,
    "start_time": "2023-11-08T10:50:22.630Z"
   },
   {
    "duration": 19,
    "start_time": "2023-11-08T10:50:22.711Z"
   },
   {
    "duration": 63,
    "start_time": "2023-11-08T10:50:22.731Z"
   },
   {
    "duration": 162,
    "start_time": "2023-11-08T10:50:22.797Z"
   },
   {
    "duration": 23,
    "start_time": "2023-11-08T10:50:22.961Z"
   },
   {
    "duration": 45,
    "start_time": "2023-11-08T10:50:22.986Z"
   },
   {
    "duration": 72,
    "start_time": "2023-11-08T10:50:23.033Z"
   },
   {
    "duration": 222,
    "start_time": "2023-11-08T10:50:23.107Z"
   },
   {
    "duration": 241,
    "start_time": "2023-11-08T10:50:23.331Z"
   },
   {
    "duration": 35,
    "start_time": "2023-11-08T10:50:23.574Z"
   },
   {
    "duration": 6,
    "start_time": "2023-11-08T10:50:23.611Z"
   },
   {
    "duration": 338,
    "start_time": "2023-11-08T10:50:23.619Z"
   },
   {
    "duration": 18,
    "start_time": "2023-11-08T10:50:23.959Z"
   },
   {
    "duration": 378,
    "start_time": "2023-11-08T10:50:23.980Z"
   },
   {
    "duration": 17,
    "start_time": "2023-11-08T10:50:24.360Z"
   },
   {
    "duration": 73,
    "start_time": "2023-11-08T10:50:24.380Z"
   },
   {
    "duration": 39,
    "start_time": "2023-11-08T10:50:24.455Z"
   },
   {
    "duration": 104,
    "start_time": "2023-11-08T10:50:24.496Z"
   },
   {
    "duration": 52,
    "start_time": "2023-11-08T10:50:24.603Z"
   },
   {
    "duration": 22,
    "start_time": "2023-11-08T10:50:24.658Z"
   },
   {
    "duration": 59,
    "start_time": "2023-11-08T10:50:24.682Z"
   },
   {
    "duration": 131,
    "start_time": "2023-11-08T10:50:24.744Z"
   },
   {
    "duration": 15,
    "start_time": "2023-11-08T10:52:41.148Z"
   },
   {
    "duration": 46,
    "start_time": "2023-11-08T10:52:49.994Z"
   },
   {
    "duration": 17,
    "start_time": "2023-11-08T10:53:07.531Z"
   },
   {
    "duration": 1829,
    "start_time": "2023-11-08T10:53:27.540Z"
   },
   {
    "duration": 831,
    "start_time": "2023-11-08T10:53:29.371Z"
   },
   {
    "duration": 158,
    "start_time": "2023-11-08T10:53:30.204Z"
   },
   {
    "duration": 52,
    "start_time": "2023-11-08T10:53:30.364Z"
   },
   {
    "duration": 75,
    "start_time": "2023-11-08T10:53:30.417Z"
   },
   {
    "duration": 364,
    "start_time": "2023-11-08T10:53:30.494Z"
   },
   {
    "duration": 84,
    "start_time": "2023-11-08T10:53:30.860Z"
   },
   {
    "duration": 58,
    "start_time": "2023-11-08T10:53:30.946Z"
   },
   {
    "duration": 20315,
    "start_time": "2023-11-08T10:53:31.006Z"
   },
   {
    "duration": 6,
    "start_time": "2023-11-08T10:53:51.323Z"
   },
   {
    "duration": 1047,
    "start_time": "2023-11-08T10:53:51.330Z"
   },
   {
    "duration": 7,
    "start_time": "2023-11-08T10:53:52.379Z"
   },
   {
    "duration": 112,
    "start_time": "2023-11-08T10:53:52.388Z"
   },
   {
    "duration": 5,
    "start_time": "2023-11-08T10:53:52.502Z"
   },
   {
    "duration": 31,
    "start_time": "2023-11-08T10:53:52.509Z"
   },
   {
    "duration": 41,
    "start_time": "2023-11-08T10:53:52.542Z"
   },
   {
    "duration": 55,
    "start_time": "2023-11-08T10:53:52.586Z"
   },
   {
    "duration": 13,
    "start_time": "2023-11-08T10:53:52.642Z"
   },
   {
    "duration": 24,
    "start_time": "2023-11-08T10:53:52.656Z"
   },
   {
    "duration": 141,
    "start_time": "2023-11-08T10:53:52.682Z"
   },
   {
    "duration": 18,
    "start_time": "2023-11-08T10:53:52.824Z"
   },
   {
    "duration": 32,
    "start_time": "2023-11-08T10:53:52.843Z"
   },
   {
    "duration": 428,
    "start_time": "2023-11-08T10:53:52.877Z"
   },
   {
    "duration": 6,
    "start_time": "2023-11-08T10:53:53.307Z"
   },
   {
    "duration": 89,
    "start_time": "2023-11-08T10:53:53.315Z"
   },
   {
    "duration": 11,
    "start_time": "2023-11-08T10:53:53.406Z"
   },
   {
    "duration": 10,
    "start_time": "2023-11-08T10:53:53.419Z"
   },
   {
    "duration": 73,
    "start_time": "2023-11-08T10:53:53.433Z"
   },
   {
    "duration": 23,
    "start_time": "2023-11-08T10:53:53.507Z"
   },
   {
    "duration": 115,
    "start_time": "2023-11-08T10:53:53.532Z"
   },
   {
    "duration": 52,
    "start_time": "2023-11-08T10:53:53.649Z"
   },
   {
    "duration": 20,
    "start_time": "2023-11-08T10:53:53.703Z"
   },
   {
    "duration": 25,
    "start_time": "2023-11-08T10:53:53.725Z"
   },
   {
    "duration": 8,
    "start_time": "2023-11-08T10:53:53.752Z"
   },
   {
    "duration": 9,
    "start_time": "2023-11-08T10:53:53.761Z"
   },
   {
    "duration": 68,
    "start_time": "2023-11-08T10:53:53.772Z"
   },
   {
    "duration": 213,
    "start_time": "2023-11-08T10:53:53.842Z"
   },
   {
    "duration": 240,
    "start_time": "2023-11-08T10:53:54.057Z"
   },
   {
    "duration": 22,
    "start_time": "2023-11-08T10:53:54.301Z"
   },
   {
    "duration": 38,
    "start_time": "2023-11-08T10:53:54.326Z"
   },
   {
    "duration": 356,
    "start_time": "2023-11-08T10:53:54.366Z"
   },
   {
    "duration": 19,
    "start_time": "2023-11-08T10:53:54.724Z"
   },
   {
    "duration": 314,
    "start_time": "2023-11-08T10:53:54.746Z"
   },
   {
    "duration": 18,
    "start_time": "2023-11-08T10:53:55.063Z"
   },
   {
    "duration": 18,
    "start_time": "2023-11-08T10:53:55.101Z"
   },
   {
    "duration": 15,
    "start_time": "2023-11-08T10:53:55.120Z"
   },
   {
    "duration": 43,
    "start_time": "2023-11-08T10:53:55.136Z"
   },
   {
    "duration": 20,
    "start_time": "2023-11-08T10:53:55.200Z"
   },
   {
    "duration": 9,
    "start_time": "2023-11-08T10:53:55.222Z"
   },
   {
    "duration": 14,
    "start_time": "2023-11-08T10:53:55.233Z"
   },
   {
    "duration": 95,
    "start_time": "2023-11-08T10:53:55.249Z"
   },
   {
    "duration": 64,
    "start_time": "2023-11-08T11:20:32.439Z"
   },
   {
    "duration": 57,
    "start_time": "2023-11-08T11:20:39.204Z"
   },
   {
    "duration": 206,
    "start_time": "2023-11-08T11:28:22.074Z"
   },
   {
    "duration": 15,
    "start_time": "2023-11-08T11:29:38.910Z"
   },
   {
    "duration": 15,
    "start_time": "2023-11-08T11:36:08.900Z"
   },
   {
    "duration": 16,
    "start_time": "2023-11-08T11:36:18.132Z"
   },
   {
    "duration": 1594,
    "start_time": "2023-11-08T11:36:50.311Z"
   },
   {
    "duration": 851,
    "start_time": "2023-11-08T11:36:51.907Z"
   },
   {
    "duration": 147,
    "start_time": "2023-11-08T11:36:52.760Z"
   },
   {
    "duration": 32,
    "start_time": "2023-11-08T11:36:52.910Z"
   },
   {
    "duration": 91,
    "start_time": "2023-11-08T11:36:52.944Z"
   },
   {
    "duration": 365,
    "start_time": "2023-11-08T11:36:53.037Z"
   },
   {
    "duration": 65,
    "start_time": "2023-11-08T11:36:53.404Z"
   },
   {
    "duration": 71,
    "start_time": "2023-11-08T11:36:53.470Z"
   },
   {
    "duration": 20159,
    "start_time": "2023-11-08T11:36:53.542Z"
   },
   {
    "duration": 5,
    "start_time": "2023-11-08T11:37:13.704Z"
   },
   {
    "duration": 1119,
    "start_time": "2023-11-08T11:37:13.711Z"
   },
   {
    "duration": 9,
    "start_time": "2023-11-08T11:37:14.832Z"
   },
   {
    "duration": 60,
    "start_time": "2023-11-08T11:37:14.842Z"
   },
   {
    "duration": 6,
    "start_time": "2023-11-08T11:37:14.904Z"
   },
   {
    "duration": 16,
    "start_time": "2023-11-08T11:37:14.912Z"
   },
   {
    "duration": 16,
    "start_time": "2023-11-08T11:37:14.930Z"
   },
   {
    "duration": 84,
    "start_time": "2023-11-08T11:37:14.948Z"
   },
   {
    "duration": 28,
    "start_time": "2023-11-08T11:37:15.033Z"
   },
   {
    "duration": 9,
    "start_time": "2023-11-08T11:37:15.064Z"
   },
   {
    "duration": 148,
    "start_time": "2023-11-08T11:37:15.074Z"
   },
   {
    "duration": 20,
    "start_time": "2023-11-08T11:37:15.224Z"
   },
   {
    "duration": 19,
    "start_time": "2023-11-08T11:37:15.245Z"
   },
   {
    "duration": 396,
    "start_time": "2023-11-08T11:37:15.265Z"
   },
   {
    "duration": 8,
    "start_time": "2023-11-08T11:37:15.663Z"
   },
   {
    "duration": 75,
    "start_time": "2023-11-08T11:37:15.673Z"
   },
   {
    "duration": 17,
    "start_time": "2023-11-08T11:37:15.802Z"
   },
   {
    "duration": 12,
    "start_time": "2023-11-08T11:37:15.820Z"
   },
   {
    "duration": 76,
    "start_time": "2023-11-08T11:37:15.837Z"
   },
   {
    "duration": 27,
    "start_time": "2023-11-08T11:37:15.914Z"
   },
   {
    "duration": 78,
    "start_time": "2023-11-08T11:37:15.943Z"
   },
   {
    "duration": 12,
    "start_time": "2023-11-08T11:37:16.023Z"
   },
   {
    "duration": 20,
    "start_time": "2023-11-08T11:37:16.037Z"
   },
   {
    "duration": 15,
    "start_time": "2023-11-08T11:37:16.059Z"
   },
   {
    "duration": 18,
    "start_time": "2023-11-08T11:37:16.101Z"
   },
   {
    "duration": 30,
    "start_time": "2023-11-08T11:37:16.121Z"
   },
   {
    "duration": 8,
    "start_time": "2023-11-08T11:37:16.153Z"
   },
   {
    "duration": 21,
    "start_time": "2023-11-08T11:37:16.162Z"
   },
   {
    "duration": 61,
    "start_time": "2023-11-08T11:37:16.185Z"
   },
   {
    "duration": 256,
    "start_time": "2023-11-08T11:37:16.248Z"
   },
   {
    "duration": 234,
    "start_time": "2023-11-08T11:37:16.506Z"
   },
   {
    "duration": 21,
    "start_time": "2023-11-08T11:37:16.742Z"
   },
   {
    "duration": 5,
    "start_time": "2023-11-08T11:37:16.765Z"
   },
   {
    "duration": 301,
    "start_time": "2023-11-08T11:37:16.771Z"
   },
   {
    "duration": 14,
    "start_time": "2023-11-08T11:37:17.074Z"
   },
   {
    "duration": 243,
    "start_time": "2023-11-08T11:37:17.090Z"
   },
   {
    "duration": 12,
    "start_time": "2023-11-08T11:37:17.335Z"
   },
   {
    "duration": 24,
    "start_time": "2023-11-08T11:37:17.349Z"
   },
   {
    "duration": 38,
    "start_time": "2023-11-08T11:37:17.375Z"
   },
   {
    "duration": 33,
    "start_time": "2023-11-08T11:37:17.415Z"
   },
   {
    "duration": 18,
    "start_time": "2023-11-08T11:37:17.450Z"
   },
   {
    "duration": 31,
    "start_time": "2023-11-08T11:37:17.470Z"
   },
   {
    "duration": 29,
    "start_time": "2023-11-08T11:37:17.504Z"
   },
   {
    "duration": 77,
    "start_time": "2023-11-08T11:37:17.535Z"
   },
   {
    "duration": 259,
    "start_time": "2023-11-08T11:39:19.363Z"
   },
   {
    "duration": 15,
    "start_time": "2023-11-08T11:39:25.982Z"
   },
   {
    "duration": 1749,
    "start_time": "2023-11-08T11:39:32.918Z"
   },
   {
    "duration": 872,
    "start_time": "2023-11-08T11:39:34.670Z"
   },
   {
    "duration": 159,
    "start_time": "2023-11-08T11:39:35.544Z"
   },
   {
    "duration": 35,
    "start_time": "2023-11-08T11:39:35.704Z"
   },
   {
    "duration": 87,
    "start_time": "2023-11-08T11:39:35.742Z"
   },
   {
    "duration": 354,
    "start_time": "2023-11-08T11:39:35.831Z"
   },
   {
    "duration": 82,
    "start_time": "2023-11-08T11:39:36.186Z"
   },
   {
    "duration": 92,
    "start_time": "2023-11-08T11:39:36.270Z"
   },
   {
    "duration": 20086,
    "start_time": "2023-11-08T11:39:36.365Z"
   },
   {
    "duration": 6,
    "start_time": "2023-11-08T11:39:56.452Z"
   },
   {
    "duration": 1019,
    "start_time": "2023-11-08T11:39:56.460Z"
   },
   {
    "duration": 21,
    "start_time": "2023-11-08T11:39:57.481Z"
   },
   {
    "duration": 69,
    "start_time": "2023-11-08T11:39:57.505Z"
   },
   {
    "duration": 23,
    "start_time": "2023-11-08T11:39:57.578Z"
   },
   {
    "duration": 23,
    "start_time": "2023-11-08T11:39:57.603Z"
   },
   {
    "duration": 16,
    "start_time": "2023-11-08T11:39:57.628Z"
   },
   {
    "duration": 68,
    "start_time": "2023-11-08T11:39:57.646Z"
   },
   {
    "duration": 15,
    "start_time": "2023-11-08T11:39:57.716Z"
   },
   {
    "duration": 9,
    "start_time": "2023-11-08T11:39:57.733Z"
   },
   {
    "duration": 202,
    "start_time": "2023-11-08T11:39:57.744Z"
   },
   {
    "duration": 21,
    "start_time": "2023-11-08T11:39:57.948Z"
   },
   {
    "duration": 43,
    "start_time": "2023-11-08T11:39:57.970Z"
   },
   {
    "duration": 501,
    "start_time": "2023-11-08T11:39:58.014Z"
   },
   {
    "duration": 8,
    "start_time": "2023-11-08T11:39:58.517Z"
   },
   {
    "duration": 101,
    "start_time": "2023-11-08T11:39:58.527Z"
   },
   {
    "duration": 13,
    "start_time": "2023-11-08T11:39:58.630Z"
   },
   {
    "duration": 64,
    "start_time": "2023-11-08T11:39:58.645Z"
   },
   {
    "duration": 23,
    "start_time": "2023-11-08T11:39:58.711Z"
   },
   {
    "duration": 82,
    "start_time": "2023-11-08T11:39:58.736Z"
   },
   {
    "duration": 104,
    "start_time": "2023-11-08T11:39:58.820Z"
   },
   {
    "duration": 19,
    "start_time": "2023-11-08T11:39:58.926Z"
   },
   {
    "duration": 38,
    "start_time": "2023-11-08T11:39:58.947Z"
   },
   {
    "duration": 32,
    "start_time": "2023-11-08T11:39:58.988Z"
   },
   {
    "duration": 28,
    "start_time": "2023-11-08T11:39:59.022Z"
   },
   {
    "duration": 55,
    "start_time": "2023-11-08T11:39:59.052Z"
   },
   {
    "duration": 37,
    "start_time": "2023-11-08T11:39:59.109Z"
   },
   {
    "duration": 12,
    "start_time": "2023-11-08T11:39:59.148Z"
   },
   {
    "duration": 7,
    "start_time": "2023-11-08T11:39:59.162Z"
   },
   {
    "duration": 63,
    "start_time": "2023-11-08T11:39:59.171Z"
   },
   {
    "duration": 207,
    "start_time": "2023-11-08T11:39:59.236Z"
   },
   {
    "duration": 247,
    "start_time": "2023-11-08T11:39:59.448Z"
   },
   {
    "duration": 29,
    "start_time": "2023-11-08T11:39:59.697Z"
   },
   {
    "duration": 7,
    "start_time": "2023-11-08T11:39:59.727Z"
   },
   {
    "duration": 313,
    "start_time": "2023-11-08T11:39:59.735Z"
   },
   {
    "duration": 15,
    "start_time": "2023-11-08T11:40:00.050Z"
   },
   {
    "duration": 279,
    "start_time": "2023-11-08T11:40:00.067Z"
   },
   {
    "duration": 12,
    "start_time": "2023-11-08T11:40:00.348Z"
   },
   {
    "duration": 120,
    "start_time": "2023-11-08T11:40:00.362Z"
   },
   {
    "duration": 92,
    "start_time": "2023-11-08T11:40:00.484Z"
   },
   {
    "duration": 90,
    "start_time": "2023-11-08T11:40:00.578Z"
   },
   {
    "duration": 25,
    "start_time": "2023-11-08T11:40:00.670Z"
   },
   {
    "duration": 110,
    "start_time": "2023-11-08T11:40:00.697Z"
   },
   {
    "duration": 302,
    "start_time": "2023-11-08T11:40:00.809Z"
   },
   {
    "duration": 156,
    "start_time": "2023-11-08T11:40:01.113Z"
   },
   {
    "duration": 30,
    "start_time": "2023-11-08T11:40:49.056Z"
   },
   {
    "duration": 8,
    "start_time": "2023-11-08T11:41:01.320Z"
   },
   {
    "duration": 24,
    "start_time": "2023-11-08T11:41:12.506Z"
   },
   {
    "duration": 15,
    "start_time": "2023-11-08T11:41:26.117Z"
   },
   {
    "duration": 15,
    "start_time": "2023-11-08T11:41:35.365Z"
   },
   {
    "duration": 2012,
    "start_time": "2023-11-08T11:41:42.898Z"
   },
   {
    "duration": 841,
    "start_time": "2023-11-08T11:41:44.913Z"
   },
   {
    "duration": 178,
    "start_time": "2023-11-08T11:41:45.756Z"
   },
   {
    "duration": 41,
    "start_time": "2023-11-08T11:41:45.938Z"
   },
   {
    "duration": 52,
    "start_time": "2023-11-08T11:41:46.000Z"
   },
   {
    "duration": 407,
    "start_time": "2023-11-08T11:41:46.054Z"
   },
   {
    "duration": 104,
    "start_time": "2023-11-08T11:41:46.464Z"
   },
   {
    "duration": 77,
    "start_time": "2023-11-08T11:41:46.570Z"
   },
   {
    "duration": 21002,
    "start_time": "2023-11-08T11:41:46.649Z"
   },
   {
    "duration": 7,
    "start_time": "2023-11-08T11:42:07.654Z"
   },
   {
    "duration": 1222,
    "start_time": "2023-11-08T11:42:07.663Z"
   },
   {
    "duration": 16,
    "start_time": "2023-11-08T11:42:08.886Z"
   },
   {
    "duration": 54,
    "start_time": "2023-11-08T11:42:08.904Z"
   },
   {
    "duration": 7,
    "start_time": "2023-11-08T11:42:08.960Z"
   },
   {
    "duration": 39,
    "start_time": "2023-11-08T11:42:08.969Z"
   },
   {
    "duration": 18,
    "start_time": "2023-11-08T11:42:09.011Z"
   },
   {
    "duration": 43,
    "start_time": "2023-11-08T11:42:09.032Z"
   },
   {
    "duration": 34,
    "start_time": "2023-11-08T11:42:09.077Z"
   },
   {
    "duration": 45,
    "start_time": "2023-11-08T11:42:09.113Z"
   },
   {
    "duration": 183,
    "start_time": "2023-11-08T11:42:09.161Z"
   },
   {
    "duration": 21,
    "start_time": "2023-11-08T11:42:09.346Z"
   },
   {
    "duration": 47,
    "start_time": "2023-11-08T11:42:09.370Z"
   },
   {
    "duration": 1533,
    "start_time": "2023-11-08T11:42:09.419Z"
   },
   {
    "duration": 10,
    "start_time": "2023-11-08T11:42:10.954Z"
   },
   {
    "duration": 71,
    "start_time": "2023-11-08T11:42:10.966Z"
   },
   {
    "duration": 69,
    "start_time": "2023-11-08T11:42:11.040Z"
   },
   {
    "duration": 16,
    "start_time": "2023-11-08T11:42:11.111Z"
   },
   {
    "duration": 88,
    "start_time": "2023-11-08T11:42:11.132Z"
   },
   {
    "duration": 25,
    "start_time": "2023-11-08T11:42:11.222Z"
   },
   {
    "duration": 111,
    "start_time": "2023-11-08T11:42:11.249Z"
   },
   {
    "duration": 14,
    "start_time": "2023-11-08T11:42:11.362Z"
   },
   {
    "duration": 41,
    "start_time": "2023-11-08T11:42:11.379Z"
   },
   {
    "duration": 23,
    "start_time": "2023-11-08T11:42:11.421Z"
   },
   {
    "duration": 55,
    "start_time": "2023-11-08T11:42:11.446Z"
   },
   {
    "duration": 29,
    "start_time": "2023-11-08T11:42:11.504Z"
   },
   {
    "duration": 39,
    "start_time": "2023-11-08T11:42:11.535Z"
   },
   {
    "duration": 35,
    "start_time": "2023-11-08T11:42:11.575Z"
   },
   {
    "duration": 8,
    "start_time": "2023-11-08T11:42:11.613Z"
   },
   {
    "duration": 97,
    "start_time": "2023-11-08T11:42:11.623Z"
   },
   {
    "duration": 252,
    "start_time": "2023-11-08T11:42:11.722Z"
   },
   {
    "duration": 261,
    "start_time": "2023-11-08T11:42:11.977Z"
   },
   {
    "duration": 29,
    "start_time": "2023-11-08T11:42:12.240Z"
   },
   {
    "duration": 21,
    "start_time": "2023-11-08T11:42:12.270Z"
   },
   {
    "duration": 300,
    "start_time": "2023-11-08T11:42:12.301Z"
   },
   {
    "duration": 16,
    "start_time": "2023-11-08T11:42:12.603Z"
   },
   {
    "duration": 300,
    "start_time": "2023-11-08T11:42:12.621Z"
   },
   {
    "duration": 15,
    "start_time": "2023-11-08T11:42:12.924Z"
   },
   {
    "duration": 26,
    "start_time": "2023-11-08T11:42:12.941Z"
   },
   {
    "duration": 38,
    "start_time": "2023-11-08T11:42:12.969Z"
   },
   {
    "duration": 46,
    "start_time": "2023-11-08T11:42:13.009Z"
   },
   {
    "duration": 19,
    "start_time": "2023-11-08T11:42:13.057Z"
   },
   {
    "duration": 26,
    "start_time": "2023-11-08T11:42:13.078Z"
   },
   {
    "duration": 12,
    "start_time": "2023-11-08T11:42:13.106Z"
   },
   {
    "duration": 88,
    "start_time": "2023-11-08T11:42:13.120Z"
   },
   {
    "duration": 1868,
    "start_time": "2023-11-08T11:47:13.591Z"
   },
   {
    "duration": 869,
    "start_time": "2023-11-08T11:47:15.461Z"
   },
   {
    "duration": 171,
    "start_time": "2023-11-08T11:47:16.332Z"
   },
   {
    "duration": 37,
    "start_time": "2023-11-08T11:47:16.505Z"
   },
   {
    "duration": 82,
    "start_time": "2023-11-08T11:47:16.544Z"
   },
   {
    "duration": 365,
    "start_time": "2023-11-08T11:47:16.628Z"
   },
   {
    "duration": 73,
    "start_time": "2023-11-08T11:47:16.995Z"
   },
   {
    "duration": 89,
    "start_time": "2023-11-08T11:47:17.070Z"
   },
   {
    "duration": 20341,
    "start_time": "2023-11-08T11:47:17.161Z"
   },
   {
    "duration": 7,
    "start_time": "2023-11-08T11:47:37.506Z"
   },
   {
    "duration": 1090,
    "start_time": "2023-11-08T11:47:37.515Z"
   },
   {
    "duration": 10,
    "start_time": "2023-11-08T11:47:38.606Z"
   },
   {
    "duration": 77,
    "start_time": "2023-11-08T11:47:38.618Z"
   },
   {
    "duration": 6,
    "start_time": "2023-11-08T11:47:38.697Z"
   },
   {
    "duration": 33,
    "start_time": "2023-11-08T11:47:38.704Z"
   },
   {
    "duration": 32,
    "start_time": "2023-11-08T11:47:38.740Z"
   },
   {
    "duration": 41,
    "start_time": "2023-11-08T11:47:38.774Z"
   },
   {
    "duration": 12,
    "start_time": "2023-11-08T11:47:38.817Z"
   },
   {
    "duration": 23,
    "start_time": "2023-11-08T11:47:38.831Z"
   },
   {
    "duration": 146,
    "start_time": "2023-11-08T11:47:38.856Z"
   },
   {
    "duration": 20,
    "start_time": "2023-11-08T11:47:39.004Z"
   },
   {
    "duration": 21,
    "start_time": "2023-11-08T11:47:39.026Z"
   },
   {
    "duration": 600,
    "start_time": "2023-11-08T11:47:39.048Z"
   },
   {
    "duration": 7,
    "start_time": "2023-11-08T11:47:39.650Z"
   },
   {
    "duration": 66,
    "start_time": "2023-11-08T11:47:39.658Z"
   },
   {
    "duration": 11,
    "start_time": "2023-11-08T11:47:39.726Z"
   },
   {
    "duration": 64,
    "start_time": "2023-11-08T11:47:39.738Z"
   },
   {
    "duration": 19,
    "start_time": "2023-11-08T11:47:39.807Z"
   },
   {
    "duration": 80,
    "start_time": "2023-11-08T11:47:39.828Z"
   },
   {
    "duration": 124,
    "start_time": "2023-11-08T11:47:39.910Z"
   },
   {
    "duration": 15,
    "start_time": "2023-11-08T11:47:40.036Z"
   },
   {
    "duration": 50,
    "start_time": "2023-11-08T11:47:40.052Z"
   },
   {
    "duration": 17,
    "start_time": "2023-11-08T11:47:40.104Z"
   },
   {
    "duration": 23,
    "start_time": "2023-11-08T11:47:40.123Z"
   },
   {
    "duration": 23,
    "start_time": "2023-11-08T11:47:40.148Z"
   },
   {
    "duration": 48,
    "start_time": "2023-11-08T11:47:40.173Z"
   },
   {
    "duration": 12,
    "start_time": "2023-11-08T11:47:40.224Z"
   },
   {
    "duration": 22,
    "start_time": "2023-11-08T11:47:40.237Z"
   },
   {
    "duration": 52,
    "start_time": "2023-11-08T11:47:40.261Z"
   },
   {
    "duration": 227,
    "start_time": "2023-11-08T11:47:40.315Z"
   },
   {
    "duration": 265,
    "start_time": "2023-11-08T11:47:40.545Z"
   },
   {
    "duration": 28,
    "start_time": "2023-11-08T11:47:40.812Z"
   },
   {
    "duration": 6,
    "start_time": "2023-11-08T11:47:40.843Z"
   },
   {
    "duration": 350,
    "start_time": "2023-11-08T11:47:40.851Z"
   },
   {
    "duration": 16,
    "start_time": "2023-11-08T11:47:41.203Z"
   },
   {
    "duration": 265,
    "start_time": "2023-11-08T11:47:41.221Z"
   },
   {
    "duration": 25,
    "start_time": "2023-11-08T11:47:41.488Z"
   },
   {
    "duration": 20,
    "start_time": "2023-11-08T11:47:41.515Z"
   },
   {
    "duration": 15,
    "start_time": "2023-11-08T11:47:41.537Z"
   },
   {
    "duration": 86,
    "start_time": "2023-11-08T11:47:41.554Z"
   },
   {
    "duration": 24,
    "start_time": "2023-11-08T11:47:41.642Z"
   },
   {
    "duration": 7,
    "start_time": "2023-11-08T11:47:41.668Z"
   },
   {
    "duration": 24,
    "start_time": "2023-11-08T11:47:41.677Z"
   },
   {
    "duration": 76,
    "start_time": "2023-11-08T11:47:41.703Z"
   },
   {
    "duration": 9,
    "start_time": "2023-11-08T11:48:03.660Z"
   },
   {
    "duration": 16,
    "start_time": "2023-11-08T11:48:07.389Z"
   },
   {
    "duration": 1791,
    "start_time": "2023-11-08T11:48:11.805Z"
   },
   {
    "duration": 814,
    "start_time": "2023-11-08T11:48:13.600Z"
   },
   {
    "duration": 213,
    "start_time": "2023-11-08T11:48:14.419Z"
   },
   {
    "duration": 41,
    "start_time": "2023-11-08T11:48:14.635Z"
   },
   {
    "duration": 84,
    "start_time": "2023-11-08T11:48:14.678Z"
   },
   {
    "duration": 438,
    "start_time": "2023-11-08T11:48:14.765Z"
   },
   {
    "duration": 68,
    "start_time": "2023-11-08T11:48:15.204Z"
   },
   {
    "duration": 80,
    "start_time": "2023-11-08T11:48:15.274Z"
   },
   {
    "duration": 20230,
    "start_time": "2023-11-08T11:48:15.357Z"
   },
   {
    "duration": 12,
    "start_time": "2023-11-08T11:48:35.589Z"
   },
   {
    "duration": 1138,
    "start_time": "2023-11-08T11:48:35.603Z"
   },
   {
    "duration": 9,
    "start_time": "2023-11-08T11:48:36.743Z"
   },
   {
    "duration": 63,
    "start_time": "2023-11-08T11:48:36.754Z"
   },
   {
    "duration": 5,
    "start_time": "2023-11-08T11:48:36.819Z"
   },
   {
    "duration": 21,
    "start_time": "2023-11-08T11:48:36.826Z"
   },
   {
    "duration": 18,
    "start_time": "2023-11-08T11:48:36.849Z"
   },
   {
    "duration": 73,
    "start_time": "2023-11-08T11:48:36.869Z"
   },
   {
    "duration": 14,
    "start_time": "2023-11-08T11:48:36.944Z"
   },
   {
    "duration": 15,
    "start_time": "2023-11-08T11:48:36.960Z"
   },
   {
    "duration": 191,
    "start_time": "2023-11-08T11:48:36.977Z"
   },
   {
    "duration": 33,
    "start_time": "2023-11-08T11:48:37.170Z"
   },
   {
    "duration": 22,
    "start_time": "2023-11-08T11:48:37.205Z"
   },
   {
    "duration": 383,
    "start_time": "2023-11-08T11:48:37.229Z"
   },
   {
    "duration": 7,
    "start_time": "2023-11-08T11:48:37.613Z"
   },
   {
    "duration": 91,
    "start_time": "2023-11-08T11:48:37.622Z"
   },
   {
    "duration": 18,
    "start_time": "2023-11-08T11:48:37.715Z"
   },
   {
    "duration": 66,
    "start_time": "2023-11-08T11:48:37.738Z"
   },
   {
    "duration": 25,
    "start_time": "2023-11-08T11:48:37.806Z"
   },
   {
    "duration": 72,
    "start_time": "2023-11-08T11:48:37.832Z"
   },
   {
    "duration": 100,
    "start_time": "2023-11-08T11:48:37.906Z"
   },
   {
    "duration": 14,
    "start_time": "2023-11-08T11:48:38.007Z"
   },
   {
    "duration": 18,
    "start_time": "2023-11-08T11:48:38.023Z"
   },
   {
    "duration": 19,
    "start_time": "2023-11-08T11:48:38.043Z"
   },
   {
    "duration": 52,
    "start_time": "2023-11-08T11:48:38.064Z"
   },
   {
    "duration": 11,
    "start_time": "2023-11-08T11:48:38.118Z"
   },
   {
    "duration": 35,
    "start_time": "2023-11-08T11:48:38.132Z"
   },
   {
    "duration": 48,
    "start_time": "2023-11-08T11:48:38.169Z"
   },
   {
    "duration": 11,
    "start_time": "2023-11-08T11:48:38.220Z"
   },
   {
    "duration": 8,
    "start_time": "2023-11-08T11:48:38.233Z"
   },
   {
    "duration": 72,
    "start_time": "2023-11-08T11:48:38.244Z"
   },
   {
    "duration": 301,
    "start_time": "2023-11-08T11:48:38.318Z"
   },
   {
    "duration": 264,
    "start_time": "2023-11-08T11:48:38.622Z"
   },
   {
    "duration": 33,
    "start_time": "2023-11-08T11:48:38.888Z"
   },
   {
    "duration": 6,
    "start_time": "2023-11-08T11:48:38.923Z"
   },
   {
    "duration": 292,
    "start_time": "2023-11-08T11:48:38.931Z"
   },
   {
    "duration": 22,
    "start_time": "2023-11-08T11:48:39.226Z"
   },
   {
    "duration": 295,
    "start_time": "2023-11-08T11:48:39.250Z"
   },
   {
    "duration": 13,
    "start_time": "2023-11-08T11:48:39.548Z"
   },
   {
    "duration": 40,
    "start_time": "2023-11-08T11:48:39.563Z"
   },
   {
    "duration": 21,
    "start_time": "2023-11-08T11:48:39.605Z"
   },
   {
    "duration": 74,
    "start_time": "2023-11-08T11:48:39.628Z"
   },
   {
    "duration": 21,
    "start_time": "2023-11-08T11:48:39.704Z"
   },
   {
    "duration": 7,
    "start_time": "2023-11-08T11:48:39.728Z"
   },
   {
    "duration": 10,
    "start_time": "2023-11-08T11:48:39.737Z"
   },
   {
    "duration": 100,
    "start_time": "2023-11-08T11:48:39.750Z"
   },
   {
    "duration": 18,
    "start_time": "2023-11-08T11:53:04.024Z"
   },
   {
    "duration": 1663,
    "start_time": "2023-11-08T11:53:10.553Z"
   },
   {
    "duration": 848,
    "start_time": "2023-11-08T11:53:12.218Z"
   },
   {
    "duration": 171,
    "start_time": "2023-11-08T11:53:13.071Z"
   },
   {
    "duration": 34,
    "start_time": "2023-11-08T11:53:13.244Z"
   },
   {
    "duration": 70,
    "start_time": "2023-11-08T11:53:13.279Z"
   },
   {
    "duration": 381,
    "start_time": "2023-11-08T11:53:13.350Z"
   },
   {
    "duration": 73,
    "start_time": "2023-11-08T11:53:13.733Z"
   },
   {
    "duration": 72,
    "start_time": "2023-11-08T11:53:13.807Z"
   },
   {
    "duration": 20126,
    "start_time": "2023-11-08T11:53:13.882Z"
   },
   {
    "duration": 6,
    "start_time": "2023-11-08T11:53:34.010Z"
   },
   {
    "duration": 1140,
    "start_time": "2023-11-08T11:53:34.018Z"
   },
   {
    "duration": 8,
    "start_time": "2023-11-08T11:53:35.160Z"
   },
   {
    "duration": 81,
    "start_time": "2023-11-08T11:53:35.170Z"
   },
   {
    "duration": 5,
    "start_time": "2023-11-08T11:53:35.253Z"
   },
   {
    "duration": 18,
    "start_time": "2023-11-08T11:53:35.259Z"
   },
   {
    "duration": 35,
    "start_time": "2023-11-08T11:53:35.279Z"
   },
   {
    "duration": 39,
    "start_time": "2023-11-08T11:53:35.316Z"
   },
   {
    "duration": 11,
    "start_time": "2023-11-08T11:53:35.357Z"
   },
   {
    "duration": 32,
    "start_time": "2023-11-08T11:53:35.370Z"
   },
   {
    "duration": 140,
    "start_time": "2023-11-08T11:53:35.404Z"
   },
   {
    "duration": 18,
    "start_time": "2023-11-08T11:53:35.546Z"
   },
   {
    "duration": 40,
    "start_time": "2023-11-08T11:53:35.566Z"
   },
   {
    "duration": 369,
    "start_time": "2023-11-08T11:53:35.608Z"
   },
   {
    "duration": 7,
    "start_time": "2023-11-08T11:53:35.979Z"
   },
   {
    "duration": 47,
    "start_time": "2023-11-08T11:53:35.988Z"
   },
   {
    "duration": 13,
    "start_time": "2023-11-08T11:53:36.037Z"
   },
   {
    "duration": 15,
    "start_time": "2023-11-08T11:53:36.102Z"
   },
   {
    "duration": 32,
    "start_time": "2023-11-08T11:53:36.119Z"
   },
   {
    "duration": 58,
    "start_time": "2023-11-08T11:53:36.153Z"
   },
   {
    "duration": 67,
    "start_time": "2023-11-08T11:53:36.213Z"
   },
   {
    "duration": 18,
    "start_time": "2023-11-08T11:53:36.301Z"
   },
   {
    "duration": 32,
    "start_time": "2023-11-08T11:53:36.320Z"
   },
   {
    "duration": 17,
    "start_time": "2023-11-08T11:53:36.354Z"
   },
   {
    "duration": 34,
    "start_time": "2023-11-08T11:53:36.373Z"
   },
   {
    "duration": 9,
    "start_time": "2023-11-08T11:53:36.410Z"
   },
   {
    "duration": 20,
    "start_time": "2023-11-08T11:53:36.421Z"
   },
   {
    "duration": 26,
    "start_time": "2023-11-08T11:53:36.442Z"
   },
   {
    "duration": 37,
    "start_time": "2023-11-08T11:53:36.470Z"
   },
   {
    "duration": 5,
    "start_time": "2023-11-08T11:53:36.509Z"
   },
   {
    "duration": 41,
    "start_time": "2023-11-08T11:53:36.516Z"
   },
   {
    "duration": 236,
    "start_time": "2023-11-08T11:53:36.559Z"
   },
   {
    "duration": 232,
    "start_time": "2023-11-08T11:53:36.797Z"
   },
   {
    "duration": 23,
    "start_time": "2023-11-08T11:53:37.030Z"
   },
   {
    "duration": 5,
    "start_time": "2023-11-08T11:53:37.055Z"
   },
   {
    "duration": 285,
    "start_time": "2023-11-08T11:53:37.061Z"
   },
   {
    "duration": 15,
    "start_time": "2023-11-08T11:53:37.348Z"
   },
   {
    "duration": 259,
    "start_time": "2023-11-08T11:53:37.365Z"
   },
   {
    "duration": 13,
    "start_time": "2023-11-08T11:53:37.626Z"
   },
   {
    "duration": 26,
    "start_time": "2023-11-08T11:53:37.641Z"
   },
   {
    "duration": 36,
    "start_time": "2023-11-08T11:53:37.669Z"
   },
   {
    "duration": 35,
    "start_time": "2023-11-08T11:53:37.707Z"
   },
   {
    "duration": 21,
    "start_time": "2023-11-08T11:53:37.743Z"
   },
   {
    "duration": 35,
    "start_time": "2023-11-08T11:53:37.766Z"
   },
   {
    "duration": 3,
    "start_time": "2023-11-08T11:53:37.803Z"
   },
   {
    "duration": 82,
    "start_time": "2023-11-08T11:53:37.807Z"
   },
   {
    "duration": 21,
    "start_time": "2023-11-08T11:55:11.052Z"
   },
   {
    "duration": 27,
    "start_time": "2023-11-08T11:55:14.544Z"
   },
   {
    "duration": 1683,
    "start_time": "2023-11-08T11:55:34.028Z"
   },
   {
    "duration": 834,
    "start_time": "2023-11-08T11:55:35.714Z"
   },
   {
    "duration": 156,
    "start_time": "2023-11-08T11:55:36.550Z"
   },
   {
    "duration": 30,
    "start_time": "2023-11-08T11:55:36.707Z"
   },
   {
    "duration": 81,
    "start_time": "2023-11-08T11:55:36.740Z"
   },
   {
    "duration": 349,
    "start_time": "2023-11-08T11:55:36.823Z"
   },
   {
    "duration": 76,
    "start_time": "2023-11-08T11:55:37.173Z"
   },
   {
    "duration": 58,
    "start_time": "2023-11-08T11:55:37.251Z"
   },
   {
    "duration": 19113,
    "start_time": "2023-11-08T11:55:37.310Z"
   },
   {
    "duration": 6,
    "start_time": "2023-11-08T11:55:56.425Z"
   },
   {
    "duration": 991,
    "start_time": "2023-11-08T11:55:56.433Z"
   },
   {
    "duration": 7,
    "start_time": "2023-11-08T11:55:57.425Z"
   },
   {
    "duration": 51,
    "start_time": "2023-11-08T11:55:57.434Z"
   },
   {
    "duration": 16,
    "start_time": "2023-11-08T11:55:57.489Z"
   },
   {
    "duration": 32,
    "start_time": "2023-11-08T11:55:57.507Z"
   },
   {
    "duration": 19,
    "start_time": "2023-11-08T11:55:57.541Z"
   },
   {
    "duration": 57,
    "start_time": "2023-11-08T11:55:57.562Z"
   },
   {
    "duration": 13,
    "start_time": "2023-11-08T11:55:57.621Z"
   },
   {
    "duration": 12,
    "start_time": "2023-11-08T11:55:57.635Z"
   },
   {
    "duration": 151,
    "start_time": "2023-11-08T11:55:57.648Z"
   },
   {
    "duration": 19,
    "start_time": "2023-11-08T11:55:57.802Z"
   },
   {
    "duration": 24,
    "start_time": "2023-11-08T11:55:57.823Z"
   },
   {
    "duration": 375,
    "start_time": "2023-11-08T11:55:57.848Z"
   },
   {
    "duration": 7,
    "start_time": "2023-11-08T11:55:58.224Z"
   },
   {
    "duration": 80,
    "start_time": "2023-11-08T11:55:58.233Z"
   },
   {
    "duration": 12,
    "start_time": "2023-11-08T11:55:58.315Z"
   },
   {
    "duration": 73,
    "start_time": "2023-11-08T11:55:58.328Z"
   },
   {
    "duration": 17,
    "start_time": "2023-11-08T11:55:58.403Z"
   },
   {
    "duration": 22,
    "start_time": "2023-11-08T11:55:58.421Z"
   },
   {
    "duration": 96,
    "start_time": "2023-11-08T11:55:58.445Z"
   },
   {
    "duration": 16,
    "start_time": "2023-11-08T11:55:58.543Z"
   },
   {
    "duration": 42,
    "start_time": "2023-11-08T11:55:58.561Z"
   },
   {
    "duration": 18,
    "start_time": "2023-11-08T11:55:58.605Z"
   },
   {
    "duration": 32,
    "start_time": "2023-11-08T11:55:58.625Z"
   },
   {
    "duration": 20,
    "start_time": "2023-11-08T11:55:58.659Z"
   },
   {
    "duration": 19,
    "start_time": "2023-11-08T11:55:58.701Z"
   },
   {
    "duration": 46,
    "start_time": "2023-11-08T11:55:58.722Z"
   },
   {
    "duration": 8,
    "start_time": "2023-11-08T11:55:58.770Z"
   },
   {
    "duration": 28,
    "start_time": "2023-11-08T11:55:58.780Z"
   },
   {
    "duration": 47,
    "start_time": "2023-11-08T11:55:58.811Z"
   },
   {
    "duration": 240,
    "start_time": "2023-11-08T11:55:58.863Z"
   },
   {
    "duration": 222,
    "start_time": "2023-11-08T11:55:59.105Z"
   },
   {
    "duration": 21,
    "start_time": "2023-11-08T11:55:59.329Z"
   },
   {
    "duration": 6,
    "start_time": "2023-11-08T11:55:59.352Z"
   },
   {
    "duration": 290,
    "start_time": "2023-11-08T11:55:59.359Z"
   },
   {
    "duration": 20,
    "start_time": "2023-11-08T11:55:59.651Z"
   },
   {
    "duration": 273,
    "start_time": "2023-11-08T11:55:59.673Z"
   },
   {
    "duration": 13,
    "start_time": "2023-11-08T11:55:59.948Z"
   },
   {
    "duration": 39,
    "start_time": "2023-11-08T11:55:59.963Z"
   },
   {
    "duration": 16,
    "start_time": "2023-11-08T11:56:00.004Z"
   },
   {
    "duration": 98,
    "start_time": "2023-11-08T11:56:00.022Z"
   },
   {
    "duration": 33,
    "start_time": "2023-11-08T11:56:00.122Z"
   },
   {
    "duration": 48,
    "start_time": "2023-11-08T11:56:00.157Z"
   },
   {
    "duration": 73,
    "start_time": "2023-11-08T11:56:00.206Z"
   },
   {
    "duration": 207,
    "start_time": "2023-11-08T11:56:00.281Z"
   },
   {
    "duration": 41,
    "start_time": "2023-11-08T12:10:34.569Z"
   },
   {
    "duration": 40,
    "start_time": "2023-11-08T12:10:44.148Z"
   },
   {
    "duration": 41,
    "start_time": "2023-11-08T12:14:45.823Z"
   },
   {
    "duration": 507,
    "start_time": "2023-11-08T12:15:13.152Z"
   },
   {
    "duration": 57530,
    "start_time": "2023-11-08T12:15:28.503Z"
   },
   {
    "duration": 213,
    "start_time": "2023-11-08T12:16:56.635Z"
   },
   {
    "duration": 327,
    "start_time": "2023-11-08T12:17:31.462Z"
   },
   {
    "duration": 38,
    "start_time": "2023-11-08T12:20:42.724Z"
   },
   {
    "duration": 795,
    "start_time": "2023-11-08T12:21:36.474Z"
   },
   {
    "duration": 56,
    "start_time": "2023-11-08T12:22:07.563Z"
   },
   {
    "duration": 12,
    "start_time": "2023-11-08T12:23:41.614Z"
   },
   {
    "duration": 17,
    "start_time": "2023-11-08T12:24:07.917Z"
   },
   {
    "duration": 64,
    "start_time": "2023-11-08T12:24:46.042Z"
   },
   {
    "duration": 59,
    "start_time": "2023-11-08T12:41:17.275Z"
   },
   {
    "duration": 1626,
    "start_time": "2023-11-08T12:41:22.714Z"
   },
   {
    "duration": 997,
    "start_time": "2023-11-08T12:41:24.342Z"
   },
   {
    "duration": 143,
    "start_time": "2023-11-08T12:41:25.341Z"
   },
   {
    "duration": 52,
    "start_time": "2023-11-08T12:41:25.486Z"
   },
   {
    "duration": 79,
    "start_time": "2023-11-08T12:41:25.541Z"
   },
   {
    "duration": 352,
    "start_time": "2023-11-08T12:41:25.622Z"
   },
   {
    "duration": 82,
    "start_time": "2023-11-08T12:41:25.976Z"
   },
   {
    "duration": 62,
    "start_time": "2023-11-08T12:41:26.060Z"
   },
   {
    "duration": 19803,
    "start_time": "2023-11-08T12:41:26.124Z"
   },
   {
    "duration": 7,
    "start_time": "2023-11-08T12:41:45.929Z"
   },
   {
    "duration": 1052,
    "start_time": "2023-11-08T12:41:45.938Z"
   },
   {
    "duration": 12,
    "start_time": "2023-11-08T12:41:46.992Z"
   },
   {
    "duration": 51,
    "start_time": "2023-11-08T12:41:47.006Z"
   },
   {
    "duration": 6,
    "start_time": "2023-11-08T12:41:47.059Z"
   },
   {
    "duration": 42,
    "start_time": "2023-11-08T12:41:47.066Z"
   },
   {
    "duration": 22,
    "start_time": "2023-11-08T12:41:47.110Z"
   },
   {
    "duration": 67,
    "start_time": "2023-11-08T12:41:47.135Z"
   },
   {
    "duration": 14,
    "start_time": "2023-11-08T12:41:47.204Z"
   },
   {
    "duration": 26,
    "start_time": "2023-11-08T12:41:47.220Z"
   },
   {
    "duration": 131,
    "start_time": "2023-11-08T12:41:47.248Z"
   },
   {
    "duration": 27,
    "start_time": "2023-11-08T12:41:47.381Z"
   },
   {
    "duration": 20,
    "start_time": "2023-11-08T12:41:47.410Z"
   },
   {
    "duration": 406,
    "start_time": "2023-11-08T12:41:47.431Z"
   },
   {
    "duration": 7,
    "start_time": "2023-11-08T12:41:47.839Z"
   },
   {
    "duration": 77,
    "start_time": "2023-11-08T12:41:47.848Z"
   },
   {
    "duration": 11,
    "start_time": "2023-11-08T12:41:47.927Z"
   },
   {
    "duration": 65,
    "start_time": "2023-11-08T12:41:47.939Z"
   },
   {
    "duration": 31,
    "start_time": "2023-11-08T12:41:48.010Z"
   },
   {
    "duration": 59,
    "start_time": "2023-11-08T12:41:48.043Z"
   },
   {
    "duration": 64,
    "start_time": "2023-11-08T12:41:48.105Z"
   },
   {
    "duration": 34,
    "start_time": "2023-11-08T12:41:48.171Z"
   },
   {
    "duration": 19,
    "start_time": "2023-11-08T12:41:48.206Z"
   },
   {
    "duration": 24,
    "start_time": "2023-11-08T12:41:48.227Z"
   },
   {
    "duration": 25,
    "start_time": "2023-11-08T12:41:48.253Z"
   },
   {
    "duration": 42,
    "start_time": "2023-11-08T12:41:48.280Z"
   },
   {
    "duration": 8,
    "start_time": "2023-11-08T12:41:48.324Z"
   },
   {
    "duration": 25,
    "start_time": "2023-11-08T12:41:48.334Z"
   },
   {
    "duration": 51,
    "start_time": "2023-11-08T12:41:48.361Z"
   },
   {
    "duration": 15,
    "start_time": "2023-11-08T12:41:48.414Z"
   },
   {
    "duration": 72,
    "start_time": "2023-11-08T12:41:48.430Z"
   },
   {
    "duration": 205,
    "start_time": "2023-11-08T12:41:48.504Z"
   },
   {
    "duration": 226,
    "start_time": "2023-11-08T12:41:48.711Z"
   },
   {
    "duration": 28,
    "start_time": "2023-11-08T12:41:48.939Z"
   },
   {
    "duration": 6,
    "start_time": "2023-11-08T12:41:48.969Z"
   },
   {
    "duration": 299,
    "start_time": "2023-11-08T12:41:48.977Z"
   },
   {
    "duration": 24,
    "start_time": "2023-11-08T12:41:49.278Z"
   },
   {
    "duration": 268,
    "start_time": "2023-11-08T12:41:49.304Z"
   },
   {
    "duration": 12,
    "start_time": "2023-11-08T12:41:49.574Z"
   },
   {
    "duration": 56,
    "start_time": "2023-11-08T12:41:49.588Z"
   },
   {
    "duration": 14,
    "start_time": "2023-11-08T12:41:49.646Z"
   },
   {
    "duration": 33,
    "start_time": "2023-11-08T12:41:49.661Z"
   },
   {
    "duration": 18,
    "start_time": "2023-11-08T12:41:49.696Z"
   },
   {
    "duration": 10,
    "start_time": "2023-11-08T12:41:49.715Z"
   },
   {
    "duration": 22,
    "start_time": "2023-11-08T12:41:49.727Z"
   },
   {
    "duration": 80,
    "start_time": "2023-11-08T12:41:49.751Z"
   },
   {
    "duration": 68,
    "start_time": "2023-11-08T12:43:28.557Z"
   },
   {
    "duration": 61,
    "start_time": "2023-11-08T12:43:47.752Z"
   },
   {
    "duration": 70,
    "start_time": "2023-11-08T12:44:31.460Z"
   },
   {
    "duration": 73,
    "start_time": "2023-11-08T12:44:35.656Z"
   },
   {
    "duration": 59,
    "start_time": "2023-11-08T12:45:00.726Z"
   },
   {
    "duration": 70,
    "start_time": "2023-11-08T12:45:09.823Z"
   },
   {
    "duration": 66,
    "start_time": "2023-11-08T12:45:29.526Z"
   },
   {
    "duration": 63,
    "start_time": "2023-11-08T12:46:08.565Z"
   },
   {
    "duration": 14,
    "start_time": "2023-11-08T12:50:27.137Z"
   },
   {
    "duration": 17,
    "start_time": "2023-11-08T12:50:33.657Z"
   },
   {
    "duration": 203,
    "start_time": "2023-11-08T12:50:40.578Z"
   },
   {
    "duration": 16,
    "start_time": "2023-11-08T12:50:44.524Z"
   },
   {
    "duration": 783,
    "start_time": "2023-11-08T12:51:10.258Z"
   },
   {
    "duration": 16,
    "start_time": "2023-11-08T12:52:04.495Z"
   },
   {
    "duration": 19,
    "start_time": "2023-11-08T12:52:39.423Z"
   },
   {
    "duration": 20,
    "start_time": "2023-11-08T12:52:47.798Z"
   },
   {
    "duration": 26,
    "start_time": "2023-11-08T12:52:50.449Z"
   },
   {
    "duration": 39,
    "start_time": "2023-11-08T12:54:26.680Z"
   },
   {
    "duration": 36,
    "start_time": "2023-11-08T12:54:42.757Z"
   },
   {
    "duration": 2729,
    "start_time": "2023-11-08T12:54:54.879Z"
   },
   {
    "duration": 973,
    "start_time": "2023-11-08T12:54:57.617Z"
   },
   {
    "duration": 145,
    "start_time": "2023-11-08T12:54:58.592Z"
   },
   {
    "duration": 31,
    "start_time": "2023-11-08T12:54:58.739Z"
   },
   {
    "duration": 78,
    "start_time": "2023-11-08T12:54:58.771Z"
   },
   {
    "duration": 374,
    "start_time": "2023-11-08T12:54:58.851Z"
   },
   {
    "duration": 57,
    "start_time": "2023-11-08T12:54:59.226Z"
   },
   {
    "duration": 64,
    "start_time": "2023-11-08T12:54:59.284Z"
   },
   {
    "duration": 20797,
    "start_time": "2023-11-08T12:54:59.350Z"
   },
   {
    "duration": 6,
    "start_time": "2023-11-08T12:55:20.149Z"
   },
   {
    "duration": 1077,
    "start_time": "2023-11-08T12:55:20.157Z"
   },
   {
    "duration": 8,
    "start_time": "2023-11-08T12:55:21.236Z"
   },
   {
    "duration": 69,
    "start_time": "2023-11-08T12:55:21.245Z"
   },
   {
    "duration": 6,
    "start_time": "2023-11-08T12:55:21.316Z"
   },
   {
    "duration": 19,
    "start_time": "2023-11-08T12:55:21.323Z"
   },
   {
    "duration": 15,
    "start_time": "2023-11-08T12:55:21.343Z"
   },
   {
    "duration": 70,
    "start_time": "2023-11-08T12:55:21.360Z"
   },
   {
    "duration": 16,
    "start_time": "2023-11-08T12:55:21.432Z"
   },
   {
    "duration": 9,
    "start_time": "2023-11-08T12:55:21.450Z"
   },
   {
    "duration": 140,
    "start_time": "2023-11-08T12:55:21.462Z"
   },
   {
    "duration": 20,
    "start_time": "2023-11-08T12:55:21.614Z"
   },
   {
    "duration": 19,
    "start_time": "2023-11-08T12:55:21.635Z"
   },
   {
    "duration": 496,
    "start_time": "2023-11-08T12:55:21.655Z"
   },
   {
    "duration": 7,
    "start_time": "2023-11-08T12:55:22.153Z"
   },
   {
    "duration": 85,
    "start_time": "2023-11-08T12:55:22.161Z"
   },
   {
    "duration": 68,
    "start_time": "2023-11-08T12:55:22.248Z"
   },
   {
    "duration": 11,
    "start_time": "2023-11-08T12:55:22.319Z"
   },
   {
    "duration": 18,
    "start_time": "2023-11-08T12:55:22.333Z"
   },
   {
    "duration": 67,
    "start_time": "2023-11-08T12:55:22.353Z"
   },
   {
    "duration": 58,
    "start_time": "2023-11-08T12:55:22.422Z"
   },
   {
    "duration": 42,
    "start_time": "2023-11-08T12:55:22.482Z"
   },
   {
    "duration": 19,
    "start_time": "2023-11-08T12:55:22.526Z"
   },
   {
    "duration": 26,
    "start_time": "2023-11-08T12:55:22.547Z"
   },
   {
    "duration": 49,
    "start_time": "2023-11-08T12:55:22.575Z"
   },
   {
    "duration": 8,
    "start_time": "2023-11-08T12:55:22.626Z"
   },
   {
    "duration": 6,
    "start_time": "2023-11-08T12:55:22.635Z"
   },
   {
    "duration": 70,
    "start_time": "2023-11-08T12:55:22.642Z"
   },
   {
    "duration": 16,
    "start_time": "2023-11-08T12:55:22.714Z"
   },
   {
    "duration": 72,
    "start_time": "2023-11-08T12:55:22.731Z"
   },
   {
    "duration": 210,
    "start_time": "2023-11-08T12:55:22.811Z"
   },
   {
    "duration": 227,
    "start_time": "2023-11-08T12:55:23.023Z"
   },
   {
    "duration": 27,
    "start_time": "2023-11-08T12:55:23.252Z"
   },
   {
    "duration": 57,
    "start_time": "2023-11-08T12:55:23.281Z"
   },
   {
    "duration": 103754,
    "start_time": "2023-11-08T12:55:23.340Z"
   },
   {
    "duration": 25,
    "start_time": "2023-11-08T12:57:07.095Z"
   },
   {
    "duration": 296,
    "start_time": "2023-11-08T12:57:07.122Z"
   },
   {
    "duration": 12,
    "start_time": "2023-11-08T12:57:07.420Z"
   },
   {
    "duration": 28,
    "start_time": "2023-11-08T12:57:07.434Z"
   },
   {
    "duration": 14,
    "start_time": "2023-11-08T12:57:07.464Z"
   },
   {
    "duration": 59,
    "start_time": "2023-11-08T12:57:07.480Z"
   },
   {
    "duration": 20,
    "start_time": "2023-11-08T12:57:07.541Z"
   },
   {
    "duration": 12,
    "start_time": "2023-11-08T12:57:07.563Z"
   },
   {
    "duration": 64,
    "start_time": "2023-11-08T12:57:07.576Z"
   },
   {
    "duration": 100,
    "start_time": "2023-11-08T12:57:07.641Z"
   },
   {
    "duration": 38,
    "start_time": "2023-11-08T12:57:15.006Z"
   },
   {
    "duration": 307,
    "start_time": "2023-11-08T12:57:25.775Z"
   },
   {
    "duration": 34,
    "start_time": "2023-11-08T12:57:35.522Z"
   },
   {
    "duration": 1744,
    "start_time": "2023-11-08T12:57:56.368Z"
   },
   {
    "duration": 824,
    "start_time": "2023-11-08T12:57:58.115Z"
   },
   {
    "duration": 184,
    "start_time": "2023-11-08T12:57:58.941Z"
   },
   {
    "duration": 31,
    "start_time": "2023-11-08T12:57:59.127Z"
   },
   {
    "duration": 79,
    "start_time": "2023-11-08T12:57:59.160Z"
   },
   {
    "duration": 350,
    "start_time": "2023-11-08T12:57:59.241Z"
   },
   {
    "duration": 75,
    "start_time": "2023-11-08T12:57:59.593Z"
   },
   {
    "duration": 73,
    "start_time": "2023-11-08T12:57:59.670Z"
   },
   {
    "duration": 20267,
    "start_time": "2023-11-08T12:57:59.745Z"
   },
   {
    "duration": 6,
    "start_time": "2023-11-08T12:58:20.016Z"
   },
   {
    "duration": 1089,
    "start_time": "2023-11-08T12:58:20.023Z"
   },
   {
    "duration": 8,
    "start_time": "2023-11-08T12:58:21.115Z"
   },
   {
    "duration": 86,
    "start_time": "2023-11-08T12:58:21.125Z"
   },
   {
    "duration": 6,
    "start_time": "2023-11-08T12:58:21.214Z"
   },
   {
    "duration": 47,
    "start_time": "2023-11-08T12:58:21.222Z"
   },
   {
    "duration": 17,
    "start_time": "2023-11-08T12:58:21.271Z"
   },
   {
    "duration": 54,
    "start_time": "2023-11-08T12:58:21.290Z"
   },
   {
    "duration": 13,
    "start_time": "2023-11-08T12:58:21.346Z"
   },
   {
    "duration": 11,
    "start_time": "2023-11-08T12:58:21.360Z"
   },
   {
    "duration": 156,
    "start_time": "2023-11-08T12:58:21.373Z"
   },
   {
    "duration": 18,
    "start_time": "2023-11-08T12:58:21.531Z"
   },
   {
    "duration": 18,
    "start_time": "2023-11-08T12:58:21.551Z"
   },
   {
    "duration": 401,
    "start_time": "2023-11-08T12:58:21.571Z"
   },
   {
    "duration": 7,
    "start_time": "2023-11-08T12:58:21.974Z"
   },
   {
    "duration": 61,
    "start_time": "2023-11-08T12:58:21.983Z"
   },
   {
    "duration": 64,
    "start_time": "2023-11-08T12:58:22.046Z"
   },
   {
    "duration": 11,
    "start_time": "2023-11-08T12:58:22.119Z"
   },
   {
    "duration": 15,
    "start_time": "2023-11-08T12:58:22.134Z"
   },
   {
    "duration": 67,
    "start_time": "2023-11-08T12:58:22.151Z"
   },
   {
    "duration": 58,
    "start_time": "2023-11-08T12:58:22.220Z"
   },
   {
    "duration": 38,
    "start_time": "2023-11-08T12:58:22.280Z"
   },
   {
    "duration": 53,
    "start_time": "2023-11-08T12:58:22.319Z"
   },
   {
    "duration": 39,
    "start_time": "2023-11-08T12:58:22.374Z"
   },
   {
    "duration": 23,
    "start_time": "2023-11-08T12:58:22.415Z"
   },
   {
    "duration": 9,
    "start_time": "2023-11-08T12:58:22.440Z"
   },
   {
    "duration": 18,
    "start_time": "2023-11-08T12:58:22.451Z"
   },
   {
    "duration": 62,
    "start_time": "2023-11-08T12:58:22.471Z"
   },
   {
    "duration": 17,
    "start_time": "2023-11-08T12:58:22.535Z"
   },
   {
    "duration": 81,
    "start_time": "2023-11-08T12:58:22.553Z"
   },
   {
    "duration": 216,
    "start_time": "2023-11-08T12:58:22.636Z"
   },
   {
    "duration": 251,
    "start_time": "2023-11-08T12:58:22.854Z"
   },
   {
    "duration": 21,
    "start_time": "2023-11-08T12:58:23.114Z"
   },
   {
    "duration": 64,
    "start_time": "2023-11-08T12:58:23.136Z"
   },
   {
    "duration": 98828,
    "start_time": "2023-11-08T12:58:23.211Z"
   },
   {
    "duration": 14,
    "start_time": "2023-11-08T13:00:02.042Z"
   },
   {
    "duration": 374,
    "start_time": "2023-11-08T13:00:02.058Z"
   },
   {
    "duration": 13,
    "start_time": "2023-11-08T13:00:02.434Z"
   },
   {
    "duration": 98,
    "start_time": "2023-11-08T13:00:02.448Z"
   },
   {
    "duration": 28,
    "start_time": "2023-11-08T13:00:02.549Z"
   },
   {
    "duration": 171,
    "start_time": "2023-11-08T13:00:02.579Z"
   },
   {
    "duration": 20,
    "start_time": "2023-11-08T13:00:02.752Z"
   },
   {
    "duration": 17,
    "start_time": "2023-11-08T13:00:02.774Z"
   },
   {
    "duration": 66,
    "start_time": "2023-11-08T13:00:02.793Z"
   },
   {
    "duration": 84,
    "start_time": "2023-11-08T13:00:02.861Z"
   },
   {
    "duration": 43,
    "start_time": "2023-11-08T13:00:03.003Z"
   },
   {
    "duration": 35,
    "start_time": "2023-11-08T13:00:25.185Z"
   },
   {
    "duration": 12,
    "start_time": "2023-11-08T13:04:45.215Z"
   },
   {
    "duration": 215,
    "start_time": "2023-11-08T13:04:48.430Z"
   },
   {
    "duration": 241,
    "start_time": "2023-11-08T13:06:12.000Z"
   },
   {
    "duration": 19,
    "start_time": "2023-11-08T13:06:24.672Z"
   },
   {
    "duration": 792,
    "start_time": "2023-11-08T13:07:07.235Z"
   },
   {
    "duration": 468,
    "start_time": "2023-11-08T13:08:17.558Z"
   },
   {
    "duration": 24,
    "start_time": "2023-11-08T13:10:00.713Z"
   },
   {
    "duration": 23,
    "start_time": "2023-11-08T13:10:04.950Z"
   },
   {
    "duration": 658,
    "start_time": "2023-11-08T13:10:24.499Z"
   },
   {
    "duration": 738,
    "start_time": "2023-11-08T13:10:32.588Z"
   },
   {
    "duration": 17,
    "start_time": "2023-11-08T13:11:47.081Z"
   },
   {
    "duration": 23,
    "start_time": "2023-11-08T13:11:58.633Z"
   },
   {
    "duration": 30,
    "start_time": "2023-11-08T13:12:51.743Z"
   },
   {
    "duration": 21,
    "start_time": "2023-11-08T13:12:59.848Z"
   },
   {
    "duration": 16,
    "start_time": "2023-11-08T13:13:10.937Z"
   },
   {
    "duration": 3,
    "start_time": "2023-11-08T13:13:51.852Z"
   },
   {
    "duration": 22,
    "start_time": "2023-11-08T13:16:18.001Z"
   },
   {
    "duration": 22,
    "start_time": "2023-11-08T13:18:22.550Z"
   },
   {
    "duration": 19,
    "start_time": "2023-11-08T13:18:44.519Z"
   },
   {
    "duration": 17,
    "start_time": "2023-11-08T13:18:47.327Z"
   },
   {
    "duration": 27,
    "start_time": "2023-11-08T13:18:53.528Z"
   },
   {
    "duration": 34,
    "start_time": "2023-11-08T13:19:02.339Z"
   },
   {
    "duration": 620,
    "start_time": "2023-11-08T13:19:07.841Z"
   },
   {
    "duration": 200,
    "start_time": "2023-11-08T13:19:43.108Z"
   },
   {
    "duration": 26,
    "start_time": "2023-11-08T13:19:46.167Z"
   },
   {
    "duration": 40,
    "start_time": "2023-11-08T13:19:56.718Z"
   },
   {
    "duration": 2240,
    "start_time": "2023-11-08T13:20:02.500Z"
   },
   {
    "duration": 24,
    "start_time": "2023-11-08T13:20:25.018Z"
   },
   {
    "duration": 26,
    "start_time": "2023-11-08T13:20:47.102Z"
   },
   {
    "duration": 823,
    "start_time": "2023-11-08T13:20:54.789Z"
   },
   {
    "duration": 8,
    "start_time": "2023-11-08T13:22:48.346Z"
   },
   {
    "duration": 38,
    "start_time": "2023-11-08T13:22:55.339Z"
   },
   {
    "duration": 1947,
    "start_time": "2023-11-08T13:23:02.120Z"
   },
   {
    "duration": 1072,
    "start_time": "2023-11-08T13:23:04.070Z"
   },
   {
    "duration": 150,
    "start_time": "2023-11-08T13:23:05.144Z"
   },
   {
    "duration": 44,
    "start_time": "2023-11-08T13:23:05.295Z"
   },
   {
    "duration": 76,
    "start_time": "2023-11-08T13:23:05.341Z"
   },
   {
    "duration": 353,
    "start_time": "2023-11-08T13:23:05.419Z"
   },
   {
    "duration": 88,
    "start_time": "2023-11-08T13:23:05.774Z"
   },
   {
    "duration": 72,
    "start_time": "2023-11-08T13:23:05.864Z"
   },
   {
    "duration": 20608,
    "start_time": "2023-11-08T13:23:05.938Z"
   },
   {
    "duration": 7,
    "start_time": "2023-11-08T13:23:26.548Z"
   },
   {
    "duration": 1099,
    "start_time": "2023-11-08T13:23:26.557Z"
   },
   {
    "duration": 11,
    "start_time": "2023-11-08T13:23:27.658Z"
   },
   {
    "duration": 84,
    "start_time": "2023-11-08T13:23:27.671Z"
   },
   {
    "duration": 6,
    "start_time": "2023-11-08T13:23:27.759Z"
   },
   {
    "duration": 43,
    "start_time": "2023-11-08T13:23:27.766Z"
   },
   {
    "duration": 19,
    "start_time": "2023-11-08T13:23:27.811Z"
   },
   {
    "duration": 44,
    "start_time": "2023-11-08T13:23:27.832Z"
   },
   {
    "duration": 31,
    "start_time": "2023-11-08T13:23:27.878Z"
   },
   {
    "duration": 10,
    "start_time": "2023-11-08T13:23:27.911Z"
   },
   {
    "duration": 139,
    "start_time": "2023-11-08T13:23:27.923Z"
   },
   {
    "duration": 18,
    "start_time": "2023-11-08T13:23:28.064Z"
   },
   {
    "duration": 39,
    "start_time": "2023-11-08T13:23:28.084Z"
   },
   {
    "duration": 394,
    "start_time": "2023-11-08T13:23:28.125Z"
   },
   {
    "duration": 6,
    "start_time": "2023-11-08T13:23:28.521Z"
   },
   {
    "duration": 92,
    "start_time": "2023-11-08T13:23:28.530Z"
   },
   {
    "duration": 13,
    "start_time": "2023-11-08T13:23:28.624Z"
   },
   {
    "duration": 66,
    "start_time": "2023-11-08T13:23:28.639Z"
   },
   {
    "duration": 22,
    "start_time": "2023-11-08T13:23:28.706Z"
   },
   {
    "duration": 22,
    "start_time": "2023-11-08T13:23:28.730Z"
   },
   {
    "duration": 112,
    "start_time": "2023-11-08T13:23:28.754Z"
   },
   {
    "duration": 14,
    "start_time": "2023-11-08T13:23:28.867Z"
   },
   {
    "duration": 35,
    "start_time": "2023-11-08T13:23:28.882Z"
   },
   {
    "duration": 32,
    "start_time": "2023-11-08T13:23:28.918Z"
   },
   {
    "duration": 22,
    "start_time": "2023-11-08T13:23:28.951Z"
   },
   {
    "duration": 30,
    "start_time": "2023-11-08T13:23:28.974Z"
   },
   {
    "duration": 9,
    "start_time": "2023-11-08T13:23:29.006Z"
   },
   {
    "duration": 41,
    "start_time": "2023-11-08T13:23:29.017Z"
   },
   {
    "duration": 14,
    "start_time": "2023-11-08T13:23:29.059Z"
   },
   {
    "duration": 82,
    "start_time": "2023-11-08T13:23:29.075Z"
   },
   {
    "duration": 235,
    "start_time": "2023-11-08T13:23:29.159Z"
   },
   {
    "duration": 261,
    "start_time": "2023-11-08T13:23:29.400Z"
   },
   {
    "duration": 21,
    "start_time": "2023-11-08T13:23:29.663Z"
   },
   {
    "duration": 183,
    "start_time": "2023-11-08T13:23:29.701Z"
   },
   {
    "duration": 0,
    "start_time": "2023-11-08T13:23:29.886Z"
   },
   {
    "duration": 0,
    "start_time": "2023-11-08T13:23:29.887Z"
   },
   {
    "duration": 0,
    "start_time": "2023-11-08T13:23:29.888Z"
   },
   {
    "duration": 0,
    "start_time": "2023-11-08T13:23:29.889Z"
   },
   {
    "duration": 0,
    "start_time": "2023-11-08T13:23:29.902Z"
   },
   {
    "duration": 0,
    "start_time": "2023-11-08T13:23:29.904Z"
   },
   {
    "duration": 0,
    "start_time": "2023-11-08T13:23:29.907Z"
   },
   {
    "duration": 0,
    "start_time": "2023-11-08T13:23:29.908Z"
   },
   {
    "duration": 0,
    "start_time": "2023-11-08T13:23:29.909Z"
   },
   {
    "duration": 0,
    "start_time": "2023-11-08T13:23:29.910Z"
   },
   {
    "duration": 0,
    "start_time": "2023-11-08T13:23:29.911Z"
   },
   {
    "duration": 0,
    "start_time": "2023-11-08T13:23:29.912Z"
   },
   {
    "duration": 43,
    "start_time": "2023-11-08T13:23:51.649Z"
   },
   {
    "duration": 20,
    "start_time": "2023-11-08T13:24:52.837Z"
   },
   {
    "duration": 20,
    "start_time": "2023-11-08T13:25:00.157Z"
   },
   {
    "duration": 41,
    "start_time": "2023-11-08T13:25:05.398Z"
   },
   {
    "duration": 14,
    "start_time": "2023-11-08T13:25:08.834Z"
   },
   {
    "duration": 350,
    "start_time": "2023-11-08T13:25:14.293Z"
   },
   {
    "duration": 1898,
    "start_time": "2023-11-08T16:38:37.299Z"
   },
   {
    "duration": 1147,
    "start_time": "2023-11-08T16:38:39.199Z"
   },
   {
    "duration": 131,
    "start_time": "2023-11-08T16:38:40.347Z"
   },
   {
    "duration": 42,
    "start_time": "2023-11-08T16:38:40.480Z"
   },
   {
    "duration": 55,
    "start_time": "2023-11-08T16:38:40.524Z"
   },
   {
    "duration": 345,
    "start_time": "2023-11-08T16:38:40.602Z"
   },
   {
    "duration": 79,
    "start_time": "2023-11-08T16:38:40.949Z"
   },
   {
    "duration": 76,
    "start_time": "2023-11-08T16:38:41.030Z"
   },
   {
    "duration": 19716,
    "start_time": "2023-11-08T16:38:41.107Z"
   },
   {
    "duration": 7,
    "start_time": "2023-11-08T16:39:00.827Z"
   },
   {
    "duration": 1028,
    "start_time": "2023-11-08T16:39:00.835Z"
   },
   {
    "duration": 8,
    "start_time": "2023-11-08T16:39:01.865Z"
   },
   {
    "duration": 218,
    "start_time": "2023-11-08T16:39:01.875Z"
   },
   {
    "duration": 154,
    "start_time": "2023-11-08T16:39:02.095Z"
   },
   {
    "duration": 220,
    "start_time": "2023-11-08T16:39:02.251Z"
   },
   {
    "duration": 72,
    "start_time": "2023-11-08T16:39:02.473Z"
   },
   {
    "duration": 40,
    "start_time": "2023-11-08T16:39:02.547Z"
   },
   {
    "duration": 26,
    "start_time": "2023-11-08T16:39:02.589Z"
   },
   {
    "duration": 8,
    "start_time": "2023-11-08T16:39:02.617Z"
   },
   {
    "duration": 131,
    "start_time": "2023-11-08T16:39:02.627Z"
   },
   {
    "duration": 19,
    "start_time": "2023-11-08T16:39:02.760Z"
   },
   {
    "duration": 36,
    "start_time": "2023-11-08T16:39:02.781Z"
   },
   {
    "duration": 406,
    "start_time": "2023-11-08T16:39:02.819Z"
   },
   {
    "duration": 8,
    "start_time": "2023-11-08T16:39:03.227Z"
   },
   {
    "duration": 87,
    "start_time": "2023-11-08T16:39:03.236Z"
   },
   {
    "duration": 17,
    "start_time": "2023-11-08T16:39:03.324Z"
   },
   {
    "duration": 61,
    "start_time": "2023-11-08T16:39:03.343Z"
   },
   {
    "duration": 26,
    "start_time": "2023-11-08T16:39:03.409Z"
   },
   {
    "duration": 26,
    "start_time": "2023-11-08T16:39:03.437Z"
   },
   {
    "duration": 77,
    "start_time": "2023-11-08T16:39:03.464Z"
   },
   {
    "duration": 13,
    "start_time": "2023-11-08T16:39:03.543Z"
   },
   {
    "duration": 26,
    "start_time": "2023-11-08T16:39:03.558Z"
   },
   {
    "duration": 45,
    "start_time": "2023-11-08T16:39:03.586Z"
   },
   {
    "duration": 26,
    "start_time": "2023-11-08T16:39:03.634Z"
   },
   {
    "duration": 20,
    "start_time": "2023-11-08T16:39:03.662Z"
   },
   {
    "duration": 18,
    "start_time": "2023-11-08T16:39:03.685Z"
   },
   {
    "duration": 73,
    "start_time": "2023-11-08T16:39:03.706Z"
   },
   {
    "duration": 17,
    "start_time": "2023-11-08T16:39:03.782Z"
   },
   {
    "duration": 58,
    "start_time": "2023-11-08T16:39:03.801Z"
   },
   {
    "duration": 225,
    "start_time": "2023-11-08T16:39:03.861Z"
   },
   {
    "duration": 220,
    "start_time": "2023-11-08T16:39:04.088Z"
   },
   {
    "duration": 20,
    "start_time": "2023-11-08T16:39:04.310Z"
   },
   {
    "duration": 38,
    "start_time": "2023-11-08T16:39:04.332Z"
   },
   {
    "duration": 11,
    "start_time": "2023-11-08T16:39:04.371Z"
   },
   {
    "duration": 337,
    "start_time": "2023-11-08T16:39:04.402Z"
   },
   {
    "duration": 20,
    "start_time": "2023-11-08T16:39:04.741Z"
   },
   {
    "duration": 293,
    "start_time": "2023-11-08T16:39:04.763Z"
   },
   {
    "duration": 18,
    "start_time": "2023-11-08T16:39:05.059Z"
   },
   {
    "duration": 52,
    "start_time": "2023-11-08T16:39:05.079Z"
   },
   {
    "duration": 33,
    "start_time": "2023-11-08T16:39:05.132Z"
   },
   {
    "duration": 53,
    "start_time": "2023-11-08T16:39:05.167Z"
   },
   {
    "duration": 17,
    "start_time": "2023-11-08T16:39:05.222Z"
   },
   {
    "duration": 7,
    "start_time": "2023-11-08T16:39:05.241Z"
   },
   {
    "duration": 25,
    "start_time": "2023-11-08T16:39:05.250Z"
   },
   {
    "duration": 84,
    "start_time": "2023-11-08T16:39:05.277Z"
   },
   {
    "duration": 204,
    "start_time": "2023-11-08T16:51:18.227Z"
   },
   {
    "duration": 1759,
    "start_time": "2023-11-08T16:51:33.966Z"
   },
   {
    "duration": 998,
    "start_time": "2023-11-08T16:51:35.727Z"
   },
   {
    "duration": 153,
    "start_time": "2023-11-08T16:51:36.728Z"
   },
   {
    "duration": 52,
    "start_time": "2023-11-08T16:51:36.883Z"
   },
   {
    "duration": 46,
    "start_time": "2023-11-08T16:51:36.937Z"
   },
   {
    "duration": 419,
    "start_time": "2023-11-08T16:51:36.985Z"
   },
   {
    "duration": 74,
    "start_time": "2023-11-08T16:51:37.407Z"
   },
   {
    "duration": 74,
    "start_time": "2023-11-08T16:51:37.482Z"
   },
   {
    "duration": 21208,
    "start_time": "2023-11-08T16:51:37.557Z"
   },
   {
    "duration": 5,
    "start_time": "2023-11-08T16:51:58.767Z"
   },
   {
    "duration": 1114,
    "start_time": "2023-11-08T16:51:58.773Z"
   },
   {
    "duration": 22,
    "start_time": "2023-11-08T16:51:59.889Z"
   },
   {
    "duration": 59,
    "start_time": "2023-11-08T16:51:59.912Z"
   },
   {
    "duration": 6,
    "start_time": "2023-11-08T16:51:59.974Z"
   },
   {
    "duration": 49,
    "start_time": "2023-11-08T16:51:59.981Z"
   },
   {
    "duration": 105,
    "start_time": "2023-11-08T16:52:00.032Z"
   },
   {
    "duration": 93,
    "start_time": "2023-11-08T16:52:00.138Z"
   },
   {
    "duration": 17,
    "start_time": "2023-11-08T16:52:00.233Z"
   },
   {
    "duration": 42,
    "start_time": "2023-11-08T16:52:00.252Z"
   },
   {
    "duration": 168,
    "start_time": "2023-11-08T16:52:00.295Z"
   },
   {
    "duration": 18,
    "start_time": "2023-11-08T16:52:00.465Z"
   },
   {
    "duration": 51,
    "start_time": "2023-11-08T16:52:00.485Z"
   },
   {
    "duration": 517,
    "start_time": "2023-11-08T16:52:00.538Z"
   },
   {
    "duration": 6,
    "start_time": "2023-11-08T16:52:01.057Z"
   },
   {
    "duration": 111,
    "start_time": "2023-11-08T16:52:01.065Z"
   },
   {
    "duration": 59,
    "start_time": "2023-11-08T16:52:01.178Z"
   },
   {
    "duration": 185,
    "start_time": "2023-11-08T16:52:01.239Z"
   },
   {
    "duration": 19,
    "start_time": "2023-11-08T16:52:01.430Z"
   },
   {
    "duration": 85,
    "start_time": "2023-11-08T16:52:01.451Z"
   },
   {
    "duration": 84,
    "start_time": "2023-11-08T16:52:01.538Z"
   },
   {
    "duration": 19,
    "start_time": "2023-11-08T16:52:01.625Z"
   },
   {
    "duration": 83,
    "start_time": "2023-11-08T16:52:01.647Z"
   },
   {
    "duration": 89,
    "start_time": "2023-11-08T16:52:01.732Z"
   },
   {
    "duration": 36,
    "start_time": "2023-11-08T16:52:01.823Z"
   },
   {
    "duration": 14,
    "start_time": "2023-11-08T16:52:01.862Z"
   },
   {
    "duration": 39,
    "start_time": "2023-11-08T16:52:01.878Z"
   },
   {
    "duration": 58,
    "start_time": "2023-11-08T16:52:01.918Z"
   },
   {
    "duration": 60,
    "start_time": "2023-11-08T16:52:01.978Z"
   },
   {
    "duration": 155,
    "start_time": "2023-11-08T16:52:02.040Z"
   },
   {
    "duration": 247,
    "start_time": "2023-11-08T16:52:02.197Z"
   },
   {
    "duration": 247,
    "start_time": "2023-11-08T16:52:02.449Z"
   },
   {
    "duration": 36,
    "start_time": "2023-11-08T16:52:02.701Z"
   },
   {
    "duration": 75,
    "start_time": "2023-11-08T16:52:02.739Z"
   },
   {
    "duration": 89,
    "start_time": "2023-11-08T16:52:02.815Z"
   },
   {
    "duration": 718,
    "start_time": "2023-11-08T16:52:02.906Z"
   },
   {
    "duration": 16,
    "start_time": "2023-11-08T16:52:03.626Z"
   },
   {
    "duration": 264,
    "start_time": "2023-11-08T16:52:03.644Z"
   },
   {
    "duration": 18,
    "start_time": "2023-11-08T16:52:03.910Z"
   },
   {
    "duration": 26,
    "start_time": "2023-11-08T16:52:03.931Z"
   },
   {
    "duration": 16,
    "start_time": "2023-11-08T16:52:03.958Z"
   },
   {
    "duration": 63,
    "start_time": "2023-11-08T16:52:03.976Z"
   },
   {
    "duration": 21,
    "start_time": "2023-11-08T16:52:04.041Z"
   },
   {
    "duration": 10,
    "start_time": "2023-11-08T16:52:04.064Z"
   },
   {
    "duration": 15,
    "start_time": "2023-11-08T16:52:04.076Z"
   },
   {
    "duration": 75,
    "start_time": "2023-11-08T16:52:04.109Z"
   },
   {
    "duration": 16,
    "start_time": "2023-11-08T17:30:23.191Z"
   },
   {
    "duration": 18,
    "start_time": "2023-11-08T17:30:33.518Z"
   },
   {
    "duration": 1652,
    "start_time": "2023-11-08T17:37:04.969Z"
   },
   {
    "duration": 788,
    "start_time": "2023-11-08T17:37:06.624Z"
   },
   {
    "duration": 139,
    "start_time": "2023-11-08T17:37:07.414Z"
   },
   {
    "duration": 53,
    "start_time": "2023-11-08T17:37:07.555Z"
   },
   {
    "duration": 49,
    "start_time": "2023-11-08T17:37:07.610Z"
   },
   {
    "duration": 363,
    "start_time": "2023-11-08T17:37:07.661Z"
   },
   {
    "duration": 60,
    "start_time": "2023-11-08T17:37:08.025Z"
   },
   {
    "duration": 75,
    "start_time": "2023-11-08T17:37:08.086Z"
   },
   {
    "duration": 19163,
    "start_time": "2023-11-08T17:37:08.163Z"
   },
   {
    "duration": 6,
    "start_time": "2023-11-08T17:37:27.329Z"
   },
   {
    "duration": 1007,
    "start_time": "2023-11-08T17:37:27.337Z"
   },
   {
    "duration": 7,
    "start_time": "2023-11-08T17:37:28.346Z"
   },
   {
    "duration": 58,
    "start_time": "2023-11-08T17:37:28.354Z"
   },
   {
    "duration": 6,
    "start_time": "2023-11-08T17:37:28.414Z"
   },
   {
    "duration": 35,
    "start_time": "2023-11-08T17:37:28.421Z"
   },
   {
    "duration": 19,
    "start_time": "2023-11-08T17:37:28.458Z"
   },
   {
    "duration": 63,
    "start_time": "2023-11-08T17:37:28.478Z"
   },
   {
    "duration": 14,
    "start_time": "2023-11-08T17:37:28.543Z"
   },
   {
    "duration": 10,
    "start_time": "2023-11-08T17:37:28.559Z"
   },
   {
    "duration": 150,
    "start_time": "2023-11-08T17:37:28.572Z"
   },
   {
    "duration": 19,
    "start_time": "2023-11-08T17:37:28.724Z"
   },
   {
    "duration": 21,
    "start_time": "2023-11-08T17:37:28.744Z"
   },
   {
    "duration": 434,
    "start_time": "2023-11-08T17:37:28.766Z"
   },
   {
    "duration": 8,
    "start_time": "2023-11-08T17:37:29.202Z"
   },
   {
    "duration": 91,
    "start_time": "2023-11-08T17:37:29.212Z"
   },
   {
    "duration": 16,
    "start_time": "2023-11-08T17:37:29.305Z"
   },
   {
    "duration": 13,
    "start_time": "2023-11-08T17:37:29.323Z"
   },
   {
    "duration": 75,
    "start_time": "2023-11-08T17:37:29.341Z"
   },
   {
    "duration": 24,
    "start_time": "2023-11-08T17:37:29.417Z"
   },
   {
    "duration": 115,
    "start_time": "2023-11-08T17:37:29.443Z"
   },
   {
    "duration": 19,
    "start_time": "2023-11-08T17:37:29.560Z"
   },
   {
    "duration": 42,
    "start_time": "2023-11-08T17:37:29.582Z"
   },
   {
    "duration": 38,
    "start_time": "2023-11-08T17:37:29.626Z"
   },
   {
    "duration": 46,
    "start_time": "2023-11-08T17:37:29.666Z"
   },
   {
    "duration": 8,
    "start_time": "2023-11-08T17:37:29.714Z"
   },
   {
    "duration": 6,
    "start_time": "2023-11-08T17:37:29.725Z"
   },
   {
    "duration": 74,
    "start_time": "2023-11-08T17:37:29.733Z"
   },
   {
    "duration": 22,
    "start_time": "2023-11-08T17:37:29.809Z"
   },
   {
    "duration": 82,
    "start_time": "2023-11-08T17:37:29.833Z"
   },
   {
    "duration": 224,
    "start_time": "2023-11-08T17:37:29.917Z"
   },
   {
    "duration": 231,
    "start_time": "2023-11-08T17:37:30.143Z"
   },
   {
    "duration": 35,
    "start_time": "2023-11-08T17:37:30.376Z"
   },
   {
    "duration": 72,
    "start_time": "2023-11-08T17:37:30.414Z"
   },
   {
    "duration": 91,
    "start_time": "2023-11-08T17:37:30.488Z"
   },
   {
    "duration": 750,
    "start_time": "2023-11-08T17:37:30.581Z"
   },
   {
    "duration": 14,
    "start_time": "2023-11-08T17:37:31.334Z"
   },
   {
    "duration": 340,
    "start_time": "2023-11-08T17:37:31.350Z"
   },
   {
    "duration": 18,
    "start_time": "2023-11-08T17:37:31.692Z"
   },
   {
    "duration": 41,
    "start_time": "2023-11-08T17:37:31.712Z"
   },
   {
    "duration": 46,
    "start_time": "2023-11-08T17:37:31.755Z"
   },
   {
    "duration": 64,
    "start_time": "2023-11-08T17:37:31.803Z"
   },
   {
    "duration": 31,
    "start_time": "2023-11-08T17:37:31.870Z"
   },
   {
    "duration": 28,
    "start_time": "2023-11-08T17:37:31.903Z"
   },
   {
    "duration": 135,
    "start_time": "2023-11-08T17:37:31.933Z"
   },
   {
    "duration": 123,
    "start_time": "2023-11-08T17:37:32.070Z"
   },
   {
    "duration": 35,
    "start_time": "2023-11-08T17:44:50.672Z"
   },
   {
    "duration": 18,
    "start_time": "2023-11-08T17:44:52.243Z"
   },
   {
    "duration": 57,
    "start_time": "2023-11-08T17:45:25.859Z"
   },
   {
    "duration": 58,
    "start_time": "2023-11-08T17:46:32.461Z"
   },
   {
    "duration": 91,
    "start_time": "2023-11-08T17:51:09.643Z"
   },
   {
    "duration": 167,
    "start_time": "2023-11-08T17:51:13.172Z"
   },
   {
    "duration": 13,
    "start_time": "2023-11-08T17:51:14.999Z"
   },
   {
    "duration": 52,
    "start_time": "2023-11-08T17:51:43.136Z"
   },
   {
    "duration": 19,
    "start_time": "2023-11-08T17:51:52.919Z"
   },
   {
    "duration": 50,
    "start_time": "2023-11-08T17:52:10.146Z"
   },
   {
    "duration": 10,
    "start_time": "2023-11-08T17:53:23.567Z"
   },
   {
    "duration": 1603,
    "start_time": "2023-11-08T17:54:00.667Z"
   },
   {
    "duration": 807,
    "start_time": "2023-11-08T17:54:02.272Z"
   },
   {
    "duration": 163,
    "start_time": "2023-11-08T17:54:03.083Z"
   },
   {
    "duration": 29,
    "start_time": "2023-11-08T17:54:03.249Z"
   },
   {
    "duration": 63,
    "start_time": "2023-11-08T17:54:03.280Z"
   },
   {
    "duration": 371,
    "start_time": "2023-11-08T17:54:03.345Z"
   },
   {
    "duration": 82,
    "start_time": "2023-11-08T17:54:03.718Z"
   },
   {
    "duration": 56,
    "start_time": "2023-11-08T17:54:03.802Z"
   },
   {
    "duration": 20707,
    "start_time": "2023-11-08T17:54:03.860Z"
   },
   {
    "duration": 8,
    "start_time": "2023-11-08T17:54:24.569Z"
   },
   {
    "duration": 1169,
    "start_time": "2023-11-08T17:54:24.579Z"
   },
   {
    "duration": 7,
    "start_time": "2023-11-08T17:54:25.750Z"
   },
   {
    "duration": 79,
    "start_time": "2023-11-08T17:54:25.760Z"
   },
   {
    "duration": 5,
    "start_time": "2023-11-08T17:54:25.841Z"
   },
   {
    "duration": 22,
    "start_time": "2023-11-08T17:54:25.848Z"
   },
   {
    "duration": 14,
    "start_time": "2023-11-08T17:54:25.872Z"
   },
   {
    "duration": 46,
    "start_time": "2023-11-08T17:54:25.901Z"
   },
   {
    "duration": 12,
    "start_time": "2023-11-08T17:54:25.949Z"
   },
   {
    "duration": 9,
    "start_time": "2023-11-08T17:54:25.963Z"
   },
   {
    "duration": 170,
    "start_time": "2023-11-08T17:54:25.974Z"
   },
   {
    "duration": 19,
    "start_time": "2023-11-08T17:54:26.146Z"
   },
   {
    "duration": 19,
    "start_time": "2023-11-08T17:54:26.167Z"
   },
   {
    "duration": 445,
    "start_time": "2023-11-08T17:54:26.202Z"
   },
   {
    "duration": 7,
    "start_time": "2023-11-08T17:54:26.649Z"
   },
   {
    "duration": 76,
    "start_time": "2023-11-08T17:54:26.658Z"
   },
   {
    "duration": 12,
    "start_time": "2023-11-08T17:54:26.736Z"
   },
   {
    "duration": 16,
    "start_time": "2023-11-08T17:54:26.802Z"
   },
   {
    "duration": 19,
    "start_time": "2023-11-08T17:54:26.820Z"
   },
   {
    "duration": 81,
    "start_time": "2023-11-08T17:54:26.841Z"
   },
   {
    "duration": 56,
    "start_time": "2023-11-08T17:54:26.924Z"
   },
   {
    "duration": 19,
    "start_time": "2023-11-08T17:54:27.001Z"
   },
   {
    "duration": 18,
    "start_time": "2023-11-08T17:54:27.021Z"
   },
   {
    "duration": 21,
    "start_time": "2023-11-08T17:54:27.040Z"
   },
   {
    "duration": 44,
    "start_time": "2023-11-08T17:54:27.063Z"
   },
   {
    "duration": 14,
    "start_time": "2023-11-08T17:54:27.110Z"
   },
   {
    "duration": 5,
    "start_time": "2023-11-08T17:54:27.126Z"
   },
   {
    "duration": 42,
    "start_time": "2023-11-08T17:54:27.132Z"
   },
   {
    "duration": 49,
    "start_time": "2023-11-08T17:54:27.176Z"
   },
   {
    "duration": 55,
    "start_time": "2023-11-08T17:54:27.227Z"
   },
   {
    "duration": 231,
    "start_time": "2023-11-08T17:54:27.301Z"
   },
   {
    "duration": 245,
    "start_time": "2023-11-08T17:54:27.534Z"
   },
   {
    "duration": 41,
    "start_time": "2023-11-08T17:54:27.781Z"
   },
   {
    "duration": 31,
    "start_time": "2023-11-08T17:54:27.824Z"
   },
   {
    "duration": 11,
    "start_time": "2023-11-08T17:54:27.857Z"
   },
   {
    "duration": 81,
    "start_time": "2023-11-08T17:54:27.870Z"
   },
   {
    "duration": 16,
    "start_time": "2023-11-08T17:54:27.953Z"
   },
   {
    "duration": 81,
    "start_time": "2023-11-08T17:54:27.971Z"
   },
   {
    "duration": 12,
    "start_time": "2023-11-08T17:54:28.053Z"
   },
   {
    "duration": 51,
    "start_time": "2023-11-08T17:54:28.066Z"
   },
   {
    "duration": 16,
    "start_time": "2023-11-08T17:54:28.119Z"
   },
   {
    "duration": 37,
    "start_time": "2023-11-08T17:54:28.137Z"
   },
   {
    "duration": 52,
    "start_time": "2023-11-08T17:54:28.176Z"
   },
   {
    "duration": 6,
    "start_time": "2023-11-08T17:54:28.230Z"
   },
   {
    "duration": 10,
    "start_time": "2023-11-08T17:54:28.238Z"
   },
   {
    "duration": 80,
    "start_time": "2023-11-08T17:54:28.250Z"
   },
   {
    "duration": 226,
    "start_time": "2023-11-08T18:00:02.548Z"
   },
   {
    "duration": 1619,
    "start_time": "2023-11-08T18:00:12.855Z"
   },
   {
    "duration": 895,
    "start_time": "2023-11-08T18:00:14.476Z"
   },
   {
    "duration": 160,
    "start_time": "2023-11-08T18:00:15.373Z"
   },
   {
    "duration": 35,
    "start_time": "2023-11-08T18:00:15.535Z"
   },
   {
    "duration": 73,
    "start_time": "2023-11-08T18:00:15.572Z"
   },
   {
    "duration": 370,
    "start_time": "2023-11-08T18:00:15.647Z"
   },
   {
    "duration": 68,
    "start_time": "2023-11-08T18:00:16.019Z"
   },
   {
    "duration": 67,
    "start_time": "2023-11-08T18:00:16.089Z"
   },
   {
    "duration": 19813,
    "start_time": "2023-11-08T18:00:16.157Z"
   },
   {
    "duration": 6,
    "start_time": "2023-11-08T18:00:35.973Z"
   },
   {
    "duration": 1112,
    "start_time": "2023-11-08T18:00:35.981Z"
   },
   {
    "duration": 13,
    "start_time": "2023-11-08T18:00:37.094Z"
   },
   {
    "duration": 51,
    "start_time": "2023-11-08T18:00:37.109Z"
   },
   {
    "duration": 4,
    "start_time": "2023-11-08T18:00:37.162Z"
   },
   {
    "duration": 34,
    "start_time": "2023-11-08T18:00:37.168Z"
   },
   {
    "duration": 16,
    "start_time": "2023-11-08T18:00:37.204Z"
   },
   {
    "duration": 53,
    "start_time": "2023-11-08T18:00:37.221Z"
   },
   {
    "duration": 35,
    "start_time": "2023-11-08T18:00:37.276Z"
   },
   {
    "duration": 9,
    "start_time": "2023-11-08T18:00:37.313Z"
   },
   {
    "duration": 153,
    "start_time": "2023-11-08T18:00:37.324Z"
   },
   {
    "duration": 26,
    "start_time": "2023-11-08T18:00:37.479Z"
   },
   {
    "duration": 18,
    "start_time": "2023-11-08T18:00:37.507Z"
   },
   {
    "duration": 416,
    "start_time": "2023-11-08T18:00:37.527Z"
   },
   {
    "duration": 9,
    "start_time": "2023-11-08T18:00:37.944Z"
   },
   {
    "duration": 70,
    "start_time": "2023-11-08T18:00:37.955Z"
   },
   {
    "duration": 12,
    "start_time": "2023-11-08T18:00:38.026Z"
   },
   {
    "duration": 18,
    "start_time": "2023-11-08T18:00:38.039Z"
   },
   {
    "duration": 53,
    "start_time": "2023-11-08T18:00:38.061Z"
   },
   {
    "duration": 21,
    "start_time": "2023-11-08T18:00:38.116Z"
   },
   {
    "duration": 81,
    "start_time": "2023-11-08T18:00:38.139Z"
   },
   {
    "duration": 12,
    "start_time": "2023-11-08T18:00:38.221Z"
   },
   {
    "duration": 23,
    "start_time": "2023-11-08T18:00:38.235Z"
   },
   {
    "duration": 47,
    "start_time": "2023-11-08T18:00:38.259Z"
   },
   {
    "duration": 21,
    "start_time": "2023-11-08T18:00:38.308Z"
   },
   {
    "duration": 14,
    "start_time": "2023-11-08T18:00:38.331Z"
   },
   {
    "duration": 9,
    "start_time": "2023-11-08T18:00:38.347Z"
   },
   {
    "duration": 64,
    "start_time": "2023-11-08T18:00:38.357Z"
   },
   {
    "duration": 15,
    "start_time": "2023-11-08T18:00:38.423Z"
   },
   {
    "duration": 84,
    "start_time": "2023-11-08T18:00:38.440Z"
   },
   {
    "duration": 229,
    "start_time": "2023-11-08T18:00:38.526Z"
   },
   {
    "duration": 237,
    "start_time": "2023-11-08T18:00:38.757Z"
   },
   {
    "duration": 21,
    "start_time": "2023-11-08T18:00:39.000Z"
   },
   {
    "duration": 33,
    "start_time": "2023-11-08T18:00:39.023Z"
   },
   {
    "duration": 29,
    "start_time": "2023-11-08T18:00:39.058Z"
   },
   {
    "duration": 58,
    "start_time": "2023-11-08T18:00:39.089Z"
   },
   {
    "duration": 17,
    "start_time": "2023-11-08T18:00:39.148Z"
   },
   {
    "duration": 78,
    "start_time": "2023-11-08T18:00:39.167Z"
   },
   {
    "duration": 205,
    "start_time": "2023-11-08T18:00:39.246Z"
   },
   {
    "duration": 0,
    "start_time": "2023-11-08T18:00:39.453Z"
   },
   {
    "duration": 0,
    "start_time": "2023-11-08T18:00:39.454Z"
   },
   {
    "duration": 0,
    "start_time": "2023-11-08T18:00:39.455Z"
   },
   {
    "duration": 0,
    "start_time": "2023-11-08T18:00:39.456Z"
   },
   {
    "duration": 0,
    "start_time": "2023-11-08T18:00:39.457Z"
   },
   {
    "duration": 0,
    "start_time": "2023-11-08T18:00:39.458Z"
   },
   {
    "duration": 0,
    "start_time": "2023-11-08T18:00:39.459Z"
   },
   {
    "duration": 13,
    "start_time": "2023-11-08T18:01:01.215Z"
   },
   {
    "duration": 11,
    "start_time": "2023-11-08T18:01:09.103Z"
   },
   {
    "duration": 1735,
    "start_time": "2023-11-08T18:12:40.296Z"
   },
   {
    "duration": 928,
    "start_time": "2023-11-08T18:12:42.033Z"
   },
   {
    "duration": 155,
    "start_time": "2023-11-08T18:12:42.963Z"
   },
   {
    "duration": 37,
    "start_time": "2023-11-08T18:12:43.121Z"
   },
   {
    "duration": 120,
    "start_time": "2023-11-08T18:12:43.160Z"
   },
   {
    "duration": 422,
    "start_time": "2023-11-08T18:12:43.282Z"
   },
   {
    "duration": 112,
    "start_time": "2023-11-08T18:12:43.706Z"
   },
   {
    "duration": 51,
    "start_time": "2023-11-08T18:12:43.820Z"
   },
   {
    "duration": 19865,
    "start_time": "2023-11-08T18:12:43.873Z"
   },
   {
    "duration": 6,
    "start_time": "2023-11-08T18:13:03.741Z"
   },
   {
    "duration": 1116,
    "start_time": "2023-11-08T18:13:03.749Z"
   },
   {
    "duration": 12,
    "start_time": "2023-11-08T18:13:04.867Z"
   },
   {
    "duration": 91,
    "start_time": "2023-11-08T18:13:04.880Z"
   },
   {
    "duration": 6,
    "start_time": "2023-11-08T18:13:04.973Z"
   },
   {
    "duration": 31,
    "start_time": "2023-11-08T18:13:04.981Z"
   },
   {
    "duration": 20,
    "start_time": "2023-11-08T18:13:05.015Z"
   },
   {
    "duration": 68,
    "start_time": "2023-11-08T18:13:05.037Z"
   },
   {
    "duration": 14,
    "start_time": "2023-11-08T18:13:05.107Z"
   },
   {
    "duration": 30,
    "start_time": "2023-11-08T18:13:05.123Z"
   },
   {
    "duration": 157,
    "start_time": "2023-11-08T18:13:05.156Z"
   },
   {
    "duration": 19,
    "start_time": "2023-11-08T18:13:05.315Z"
   },
   {
    "duration": 23,
    "start_time": "2023-11-08T18:13:05.337Z"
   },
   {
    "duration": 427,
    "start_time": "2023-11-08T18:13:05.362Z"
   },
   {
    "duration": 8,
    "start_time": "2023-11-08T18:13:05.792Z"
   },
   {
    "duration": 101,
    "start_time": "2023-11-08T18:13:05.802Z"
   },
   {
    "duration": 17,
    "start_time": "2023-11-08T18:13:05.905Z"
   },
   {
    "duration": 40,
    "start_time": "2023-11-08T18:13:05.925Z"
   },
   {
    "duration": 23,
    "start_time": "2023-11-08T18:13:06.005Z"
   },
   {
    "duration": 65,
    "start_time": "2023-11-08T18:13:06.030Z"
   },
   {
    "duration": 91,
    "start_time": "2023-11-08T18:13:06.097Z"
   },
   {
    "duration": 281,
    "start_time": "2023-11-08T18:13:06.190Z"
   },
   {
    "duration": 27,
    "start_time": "2023-11-08T18:13:06.473Z"
   },
   {
    "duration": 33,
    "start_time": "2023-11-08T18:13:06.502Z"
   },
   {
    "duration": 32,
    "start_time": "2023-11-08T18:13:06.537Z"
   },
   {
    "duration": 35,
    "start_time": "2023-11-08T18:13:06.572Z"
   },
   {
    "duration": 6,
    "start_time": "2023-11-08T18:13:06.609Z"
   },
   {
    "duration": 16,
    "start_time": "2023-11-08T18:13:06.617Z"
   },
   {
    "duration": 89,
    "start_time": "2023-11-08T18:13:06.635Z"
   },
   {
    "duration": 25,
    "start_time": "2023-11-08T18:13:06.726Z"
   },
   {
    "duration": 87,
    "start_time": "2023-11-08T18:13:06.753Z"
   },
   {
    "duration": 251,
    "start_time": "2023-11-08T18:13:06.843Z"
   },
   {
    "duration": 248,
    "start_time": "2023-11-08T18:13:07.096Z"
   },
   {
    "duration": 33,
    "start_time": "2023-11-08T18:13:07.347Z"
   },
   {
    "duration": 58,
    "start_time": "2023-11-08T18:13:07.383Z"
   },
   {
    "duration": 18,
    "start_time": "2023-11-08T18:13:07.443Z"
   },
   {
    "duration": 109,
    "start_time": "2023-11-08T18:13:07.463Z"
   },
   {
    "duration": 41,
    "start_time": "2023-11-08T18:13:07.574Z"
   },
   {
    "duration": 66,
    "start_time": "2023-11-08T18:13:07.617Z"
   },
   {
    "duration": 27,
    "start_time": "2023-11-08T18:13:07.684Z"
   },
   {
    "duration": 54,
    "start_time": "2023-11-08T18:13:07.714Z"
   },
   {
    "duration": 16,
    "start_time": "2023-11-08T18:13:07.770Z"
   },
   {
    "duration": 41,
    "start_time": "2023-11-08T18:13:07.788Z"
   },
   {
    "duration": 35,
    "start_time": "2023-11-08T18:13:07.831Z"
   },
   {
    "duration": 21,
    "start_time": "2023-11-08T18:13:07.868Z"
   },
   {
    "duration": 12,
    "start_time": "2023-11-08T18:13:07.891Z"
   },
   {
    "duration": 85,
    "start_time": "2023-11-08T18:13:07.905Z"
   },
   {
    "duration": 26,
    "start_time": "2023-11-08T18:28:29.647Z"
   },
   {
    "duration": 186,
    "start_time": "2023-11-08T18:52:49.924Z"
   },
   {
    "duration": 17,
    "start_time": "2023-11-08T18:53:01.018Z"
   },
   {
    "duration": 12,
    "start_time": "2023-11-08T18:53:07.021Z"
   },
   {
    "duration": 24,
    "start_time": "2023-11-08T18:58:41.133Z"
   },
   {
    "duration": 22,
    "start_time": "2023-11-08T19:10:54.434Z"
   },
   {
    "duration": 24,
    "start_time": "2023-11-08T19:11:22.835Z"
   },
   {
    "duration": 77,
    "start_time": "2023-11-08T19:12:19.198Z"
   },
   {
    "duration": 78,
    "start_time": "2023-11-08T19:12:31.344Z"
   },
   {
    "duration": 44,
    "start_time": "2023-11-08T19:12:37.173Z"
   },
   {
    "duration": 907,
    "start_time": "2023-11-08T19:12:45.454Z"
   },
   {
    "duration": 1064,
    "start_time": "2023-11-08T19:13:15.980Z"
   },
   {
    "duration": 25,
    "start_time": "2023-11-08T19:13:41.526Z"
   },
   {
    "duration": 138,
    "start_time": "2023-11-08T19:15:07.551Z"
   },
   {
    "duration": 1542,
    "start_time": "2023-11-08T19:15:17.342Z"
   },
   {
    "duration": 24,
    "start_time": "2023-11-08T19:15:32.831Z"
   },
   {
    "duration": 20,
    "start_time": "2023-11-08T19:15:34.267Z"
   },
   {
    "duration": 22,
    "start_time": "2023-11-08T19:15:39.670Z"
   },
   {
    "duration": 15,
    "start_time": "2023-11-08T19:15:40.261Z"
   },
   {
    "duration": 14,
    "start_time": "2023-11-08T19:15:51.123Z"
   },
   {
    "duration": 21,
    "start_time": "2023-11-08T19:17:36.196Z"
   },
   {
    "duration": 22,
    "start_time": "2023-11-08T19:20:04.021Z"
   },
   {
    "duration": 20,
    "start_time": "2023-11-08T19:20:06.356Z"
   },
   {
    "duration": 22,
    "start_time": "2023-11-08T19:20:18.369Z"
   },
   {
    "duration": 14,
    "start_time": "2023-11-08T19:20:18.637Z"
   },
   {
    "duration": 32,
    "start_time": "2023-11-08T19:28:59.520Z"
   },
   {
    "duration": 26,
    "start_time": "2023-11-08T19:29:29.022Z"
   },
   {
    "duration": 32,
    "start_time": "2023-11-08T19:29:49.176Z"
   },
   {
    "duration": 105,
    "start_time": "2023-11-08T19:36:13.628Z"
   },
   {
    "duration": 151,
    "start_time": "2023-11-08T19:36:31.799Z"
   },
   {
    "duration": 95,
    "start_time": "2023-11-08T19:36:41.891Z"
   },
   {
    "duration": 124,
    "start_time": "2023-11-08T19:37:03.034Z"
   },
   {
    "duration": 140,
    "start_time": "2023-11-08T19:37:07.123Z"
   },
   {
    "duration": 9,
    "start_time": "2023-11-08T19:38:02.691Z"
   },
   {
    "duration": 28,
    "start_time": "2023-11-08T19:38:06.362Z"
   },
   {
    "duration": 1826,
    "start_time": "2023-11-08T19:38:17.725Z"
   },
   {
    "duration": 1100,
    "start_time": "2023-11-08T19:38:19.553Z"
   },
   {
    "duration": 181,
    "start_time": "2023-11-08T19:38:20.655Z"
   },
   {
    "duration": 44,
    "start_time": "2023-11-08T19:38:20.839Z"
   },
   {
    "duration": 80,
    "start_time": "2023-11-08T19:38:20.885Z"
   },
   {
    "duration": 444,
    "start_time": "2023-11-08T19:38:20.967Z"
   },
   {
    "duration": 74,
    "start_time": "2023-11-08T19:38:21.413Z"
   },
   {
    "duration": 68,
    "start_time": "2023-11-08T19:38:21.500Z"
   },
   {
    "duration": 22077,
    "start_time": "2023-11-08T19:38:21.570Z"
   },
   {
    "duration": 5,
    "start_time": "2023-11-08T19:38:43.649Z"
   },
   {
    "duration": 1210,
    "start_time": "2023-11-08T19:38:43.656Z"
   },
   {
    "duration": 10,
    "start_time": "2023-11-08T19:38:44.868Z"
   },
   {
    "duration": 91,
    "start_time": "2023-11-08T19:38:44.880Z"
   },
   {
    "duration": 7,
    "start_time": "2023-11-08T19:38:44.973Z"
   },
   {
    "duration": 32,
    "start_time": "2023-11-08T19:38:44.982Z"
   },
   {
    "duration": 23,
    "start_time": "2023-11-08T19:38:45.016Z"
   },
   {
    "duration": 90,
    "start_time": "2023-11-08T19:38:45.041Z"
   },
   {
    "duration": 13,
    "start_time": "2023-11-08T19:38:45.134Z"
   },
   {
    "duration": 44,
    "start_time": "2023-11-08T19:38:45.149Z"
   },
   {
    "duration": 148,
    "start_time": "2023-11-08T19:38:45.195Z"
   },
   {
    "duration": 17,
    "start_time": "2023-11-08T19:38:45.345Z"
   },
   {
    "duration": 18,
    "start_time": "2023-11-08T19:38:45.363Z"
   },
   {
    "duration": 394,
    "start_time": "2023-11-08T19:38:45.402Z"
   },
   {
    "duration": 7,
    "start_time": "2023-11-08T19:38:45.798Z"
   },
   {
    "duration": 56,
    "start_time": "2023-11-08T19:38:45.806Z"
   },
   {
    "duration": 58,
    "start_time": "2023-11-08T19:38:45.863Z"
   },
   {
    "duration": 19,
    "start_time": "2023-11-08T19:38:45.923Z"
   },
   {
    "duration": 85,
    "start_time": "2023-11-08T19:38:45.945Z"
   },
   {
    "duration": 38,
    "start_time": "2023-11-08T19:38:46.031Z"
   },
   {
    "duration": 71,
    "start_time": "2023-11-08T19:38:46.071Z"
   },
   {
    "duration": 13,
    "start_time": "2023-11-08T19:38:46.144Z"
   },
   {
    "duration": 31,
    "start_time": "2023-11-08T19:38:46.159Z"
   },
   {
    "duration": 51,
    "start_time": "2023-11-08T19:38:46.201Z"
   },
   {
    "duration": 34,
    "start_time": "2023-11-08T19:38:46.254Z"
   },
   {
    "duration": 15,
    "start_time": "2023-11-08T19:38:46.290Z"
   },
   {
    "duration": 19,
    "start_time": "2023-11-08T19:38:46.306Z"
   },
   {
    "duration": 26,
    "start_time": "2023-11-08T19:38:46.327Z"
   },
   {
    "duration": 48,
    "start_time": "2023-11-08T19:38:46.356Z"
   },
   {
    "duration": 34,
    "start_time": "2023-11-08T19:38:46.406Z"
   },
   {
    "duration": 79,
    "start_time": "2023-11-08T19:38:46.442Z"
   },
   {
    "duration": 254,
    "start_time": "2023-11-08T19:38:46.524Z"
   },
   {
    "duration": 264,
    "start_time": "2023-11-08T19:38:46.780Z"
   },
   {
    "duration": 21,
    "start_time": "2023-11-08T19:38:47.046Z"
   },
   {
    "duration": 52,
    "start_time": "2023-11-08T19:38:47.068Z"
   },
   {
    "duration": 17,
    "start_time": "2023-11-08T19:38:47.121Z"
   },
   {
    "duration": 83,
    "start_time": "2023-11-08T19:38:47.140Z"
   },
   {
    "duration": 22,
    "start_time": "2023-11-08T19:38:47.225Z"
   },
   {
    "duration": 75,
    "start_time": "2023-11-08T19:38:47.249Z"
   },
   {
    "duration": 17,
    "start_time": "2023-11-08T19:38:47.326Z"
   },
   {
    "duration": 121,
    "start_time": "2023-11-08T19:38:47.345Z"
   },
   {
    "duration": 120,
    "start_time": "2023-11-08T19:38:47.468Z"
   },
   {
    "duration": 50,
    "start_time": "2023-11-08T19:38:47.590Z"
   },
   {
    "duration": 23,
    "start_time": "2023-11-08T19:38:47.642Z"
   },
   {
    "duration": 24,
    "start_time": "2023-11-08T19:38:47.667Z"
   },
   {
    "duration": 31,
    "start_time": "2023-11-08T19:38:47.703Z"
   },
   {
    "duration": 28,
    "start_time": "2023-11-08T19:38:47.736Z"
   },
   {
    "duration": 44,
    "start_time": "2023-11-08T19:38:47.765Z"
   },
   {
    "duration": 13,
    "start_time": "2023-11-08T19:38:47.814Z"
   },
   {
    "duration": 7,
    "start_time": "2023-11-08T19:38:47.829Z"
   },
   {
    "duration": 118,
    "start_time": "2023-11-08T19:38:47.838Z"
   },
   {
    "duration": 21,
    "start_time": "2023-11-08T19:40:01.775Z"
   },
   {
    "duration": 246,
    "start_time": "2023-11-08T19:40:04.500Z"
   },
   {
    "duration": 24,
    "start_time": "2023-11-08T19:40:12.365Z"
   },
   {
    "duration": 24,
    "start_time": "2023-11-08T19:40:35.847Z"
   },
   {
    "duration": 22,
    "start_time": "2023-11-08T19:40:44.125Z"
   },
   {
    "duration": 26,
    "start_time": "2023-11-08T19:41:09.449Z"
   },
   {
    "duration": 22,
    "start_time": "2023-11-08T19:41:25.747Z"
   },
   {
    "duration": 9,
    "start_time": "2023-11-08T19:42:16.849Z"
   },
   {
    "duration": 1688,
    "start_time": "2023-11-08T19:42:26.652Z"
   },
   {
    "duration": 877,
    "start_time": "2023-11-08T19:42:28.342Z"
   },
   {
    "duration": 155,
    "start_time": "2023-11-08T19:42:29.226Z"
   },
   {
    "duration": 52,
    "start_time": "2023-11-08T19:42:29.383Z"
   },
   {
    "duration": 70,
    "start_time": "2023-11-08T19:42:29.437Z"
   },
   {
    "duration": 365,
    "start_time": "2023-11-08T19:42:29.510Z"
   },
   {
    "duration": 75,
    "start_time": "2023-11-08T19:42:29.877Z"
   },
   {
    "duration": 76,
    "start_time": "2023-11-08T19:42:29.954Z"
   },
   {
    "duration": 20926,
    "start_time": "2023-11-08T19:42:30.032Z"
   },
   {
    "duration": 5,
    "start_time": "2023-11-08T19:42:50.961Z"
   },
   {
    "duration": 1128,
    "start_time": "2023-11-08T19:42:50.968Z"
   },
   {
    "duration": 20,
    "start_time": "2023-11-08T19:42:52.097Z"
   },
   {
    "duration": 42,
    "start_time": "2023-11-08T19:42:52.125Z"
   },
   {
    "duration": 5,
    "start_time": "2023-11-08T19:42:52.169Z"
   },
   {
    "duration": 39,
    "start_time": "2023-11-08T19:42:52.176Z"
   },
   {
    "duration": 24,
    "start_time": "2023-11-08T19:42:52.216Z"
   },
   {
    "duration": 45,
    "start_time": "2023-11-08T19:42:52.242Z"
   },
   {
    "duration": 22,
    "start_time": "2023-11-08T19:42:52.289Z"
   },
   {
    "duration": 13,
    "start_time": "2023-11-08T19:42:52.313Z"
   },
   {
    "duration": 160,
    "start_time": "2023-11-08T19:42:52.328Z"
   },
   {
    "duration": 29,
    "start_time": "2023-11-08T19:42:52.490Z"
   },
   {
    "duration": 31,
    "start_time": "2023-11-08T19:42:52.521Z"
   },
   {
    "duration": 441,
    "start_time": "2023-11-08T19:42:52.554Z"
   },
   {
    "duration": 11,
    "start_time": "2023-11-08T19:42:52.997Z"
   },
   {
    "duration": 50,
    "start_time": "2023-11-08T19:42:53.010Z"
   },
   {
    "duration": 60,
    "start_time": "2023-11-08T19:42:53.061Z"
   },
   {
    "duration": 17,
    "start_time": "2023-11-08T19:42:53.123Z"
   },
   {
    "duration": 63,
    "start_time": "2023-11-08T19:42:53.145Z"
   },
   {
    "duration": 32,
    "start_time": "2023-11-08T19:42:53.210Z"
   },
   {
    "duration": 113,
    "start_time": "2023-11-08T19:42:53.244Z"
   },
   {
    "duration": 11,
    "start_time": "2023-11-08T19:42:53.359Z"
   },
   {
    "duration": 31,
    "start_time": "2023-11-08T19:42:53.372Z"
   },
   {
    "duration": 37,
    "start_time": "2023-11-08T19:42:53.406Z"
   },
   {
    "duration": 21,
    "start_time": "2023-11-08T19:42:53.445Z"
   },
   {
    "duration": 7,
    "start_time": "2023-11-08T19:42:53.468Z"
   },
   {
    "duration": 33,
    "start_time": "2023-11-08T19:42:53.477Z"
   },
   {
    "duration": 34,
    "start_time": "2023-11-08T19:42:53.513Z"
   },
   {
    "duration": 45,
    "start_time": "2023-11-08T19:42:53.549Z"
   },
   {
    "duration": 37,
    "start_time": "2023-11-08T19:42:53.596Z"
   },
   {
    "duration": 80,
    "start_time": "2023-11-08T19:42:53.635Z"
   },
   {
    "duration": 237,
    "start_time": "2023-11-08T19:42:53.717Z"
   },
   {
    "duration": 237,
    "start_time": "2023-11-08T19:42:53.956Z"
   },
   {
    "duration": 32,
    "start_time": "2023-11-08T19:42:54.194Z"
   },
   {
    "duration": 42,
    "start_time": "2023-11-08T19:42:54.228Z"
   },
   {
    "duration": 14,
    "start_time": "2023-11-08T19:42:54.272Z"
   },
   {
    "duration": 65,
    "start_time": "2023-11-08T19:42:54.302Z"
   },
   {
    "duration": 24,
    "start_time": "2023-11-08T19:42:54.370Z"
   },
   {
    "duration": 71,
    "start_time": "2023-11-08T19:42:54.404Z"
   },
   {
    "duration": 39,
    "start_time": "2023-11-08T19:42:54.477Z"
   },
   {
    "duration": 32,
    "start_time": "2023-11-08T19:42:54.520Z"
   },
   {
    "duration": 19,
    "start_time": "2023-11-08T19:42:54.554Z"
   },
   {
    "duration": 68,
    "start_time": "2023-11-08T19:42:54.575Z"
   },
   {
    "duration": 29,
    "start_time": "2023-11-08T19:42:54.646Z"
   },
   {
    "duration": 11,
    "start_time": "2023-11-08T19:42:54.677Z"
   },
   {
    "duration": 29,
    "start_time": "2023-11-08T19:42:54.703Z"
   },
   {
    "duration": 29,
    "start_time": "2023-11-08T19:42:54.735Z"
   },
   {
    "duration": 55,
    "start_time": "2023-11-08T19:42:54.767Z"
   },
   {
    "duration": 13,
    "start_time": "2023-11-08T19:42:54.824Z"
   },
   {
    "duration": 34,
    "start_time": "2023-11-08T19:42:54.839Z"
   },
   {
    "duration": 140,
    "start_time": "2023-11-08T19:42:54.875Z"
   },
   {
    "duration": 208,
    "start_time": "2023-11-08T19:44:41.358Z"
   },
   {
    "duration": 19,
    "start_time": "2023-11-08T19:44:50.573Z"
   },
   {
    "duration": 14,
    "start_time": "2023-11-08T19:45:50.733Z"
   },
   {
    "duration": 16,
    "start_time": "2023-11-08T19:45:54.926Z"
   },
   {
    "duration": 1752,
    "start_time": "2023-11-08T19:46:01.693Z"
   },
   {
    "duration": 868,
    "start_time": "2023-11-08T19:46:03.447Z"
   },
   {
    "duration": 178,
    "start_time": "2023-11-08T19:46:04.317Z"
   },
   {
    "duration": 54,
    "start_time": "2023-11-08T19:46:04.506Z"
   },
   {
    "duration": 85,
    "start_time": "2023-11-08T19:46:04.563Z"
   },
   {
    "duration": 446,
    "start_time": "2023-11-08T19:46:04.650Z"
   },
   {
    "duration": 67,
    "start_time": "2023-11-08T19:46:05.103Z"
   },
   {
    "duration": 72,
    "start_time": "2023-11-08T19:46:05.171Z"
   },
   {
    "duration": 21822,
    "start_time": "2023-11-08T19:46:05.245Z"
   },
   {
    "duration": 6,
    "start_time": "2023-11-08T19:46:27.069Z"
   },
   {
    "duration": 1119,
    "start_time": "2023-11-08T19:46:27.076Z"
   },
   {
    "duration": 20,
    "start_time": "2023-11-08T19:46:28.196Z"
   },
   {
    "duration": 50,
    "start_time": "2023-11-08T19:46:28.218Z"
   },
   {
    "duration": 5,
    "start_time": "2023-11-08T19:46:28.271Z"
   },
   {
    "duration": 43,
    "start_time": "2023-11-08T19:46:28.278Z"
   },
   {
    "duration": 24,
    "start_time": "2023-11-08T19:46:28.323Z"
   },
   {
    "duration": 46,
    "start_time": "2023-11-08T19:46:28.348Z"
   },
   {
    "duration": 19,
    "start_time": "2023-11-08T19:46:28.404Z"
   },
   {
    "duration": 11,
    "start_time": "2023-11-08T19:46:28.425Z"
   },
   {
    "duration": 176,
    "start_time": "2023-11-08T19:46:28.438Z"
   },
   {
    "duration": 30,
    "start_time": "2023-11-08T19:46:28.616Z"
   },
   {
    "duration": 19,
    "start_time": "2023-11-08T19:46:28.647Z"
   },
   {
    "duration": 414,
    "start_time": "2023-11-08T19:46:28.667Z"
   },
   {
    "duration": 7,
    "start_time": "2023-11-08T19:46:29.083Z"
   },
   {
    "duration": 67,
    "start_time": "2023-11-08T19:46:29.091Z"
   },
   {
    "duration": 76,
    "start_time": "2023-11-08T19:46:29.160Z"
   },
   {
    "duration": 11,
    "start_time": "2023-11-08T19:46:29.239Z"
   },
   {
    "duration": 54,
    "start_time": "2023-11-08T19:46:29.252Z"
   },
   {
    "duration": 32,
    "start_time": "2023-11-08T19:46:29.308Z"
   },
   {
    "duration": 84,
    "start_time": "2023-11-08T19:46:29.341Z"
   },
   {
    "duration": 17,
    "start_time": "2023-11-08T19:46:29.427Z"
   },
   {
    "duration": 16,
    "start_time": "2023-11-08T19:46:29.445Z"
   },
   {
    "duration": 42,
    "start_time": "2023-11-08T19:46:29.463Z"
   },
   {
    "duration": 31,
    "start_time": "2023-11-08T19:46:29.510Z"
   },
   {
    "duration": 8,
    "start_time": "2023-11-08T19:46:29.543Z"
   },
   {
    "duration": 6,
    "start_time": "2023-11-08T19:46:29.554Z"
   },
   {
    "duration": 15,
    "start_time": "2023-11-08T19:46:29.562Z"
   },
   {
    "duration": 72,
    "start_time": "2023-11-08T19:46:29.578Z"
   },
   {
    "duration": 19,
    "start_time": "2023-11-08T19:46:29.652Z"
   },
   {
    "duration": 87,
    "start_time": "2023-11-08T19:46:29.673Z"
   },
   {
    "duration": 222,
    "start_time": "2023-11-08T19:46:29.764Z"
   },
   {
    "duration": 264,
    "start_time": "2023-11-08T19:46:29.988Z"
   },
   {
    "duration": 21,
    "start_time": "2023-11-08T19:46:30.254Z"
   },
   {
    "duration": 76,
    "start_time": "2023-11-08T19:46:30.277Z"
   },
   {
    "duration": 22,
    "start_time": "2023-11-08T19:46:30.355Z"
   },
   {
    "duration": 86,
    "start_time": "2023-11-08T19:46:30.379Z"
   },
   {
    "duration": 33,
    "start_time": "2023-11-08T19:46:30.467Z"
   },
   {
    "duration": 78,
    "start_time": "2023-11-08T19:46:30.509Z"
   },
   {
    "duration": 18,
    "start_time": "2023-11-08T19:46:30.589Z"
   },
   {
    "duration": 52,
    "start_time": "2023-11-08T19:46:30.610Z"
   },
   {
    "duration": 30,
    "start_time": "2023-11-08T19:46:30.664Z"
   },
   {
    "duration": 58,
    "start_time": "2023-11-08T19:46:30.696Z"
   },
   {
    "duration": 39,
    "start_time": "2023-11-08T19:46:30.756Z"
   },
   {
    "duration": 203,
    "start_time": "2023-11-08T19:46:30.796Z"
   },
   {
    "duration": 0,
    "start_time": "2023-11-08T19:46:31.001Z"
   },
   {
    "duration": 0,
    "start_time": "2023-11-08T19:46:31.004Z"
   },
   {
    "duration": 0,
    "start_time": "2023-11-08T19:46:31.006Z"
   },
   {
    "duration": 0,
    "start_time": "2023-11-08T19:46:31.008Z"
   },
   {
    "duration": 0,
    "start_time": "2023-11-08T19:46:31.009Z"
   },
   {
    "duration": 0,
    "start_time": "2023-11-08T19:46:31.010Z"
   },
   {
    "duration": 13,
    "start_time": "2023-11-08T19:47:33.377Z"
   },
   {
    "duration": 19,
    "start_time": "2023-11-08T19:48:11.771Z"
   },
   {
    "duration": 33,
    "start_time": "2023-11-08T19:48:36.134Z"
   },
   {
    "duration": 11,
    "start_time": "2023-11-08T19:50:53.044Z"
   },
   {
    "duration": 9,
    "start_time": "2023-11-08T19:51:05.156Z"
   },
   {
    "duration": 9,
    "start_time": "2023-11-08T19:51:27.881Z"
   },
   {
    "duration": 4,
    "start_time": "2023-11-08T19:52:48.550Z"
   },
   {
    "duration": 9,
    "start_time": "2023-11-08T19:52:53.041Z"
   },
   {
    "duration": 7,
    "start_time": "2023-11-08T19:53:40.839Z"
   },
   {
    "duration": 14,
    "start_time": "2023-11-08T19:54:03.126Z"
   },
   {
    "duration": 9,
    "start_time": "2023-11-08T20:00:40.818Z"
   },
   {
    "duration": 9,
    "start_time": "2023-11-08T20:00:54.386Z"
   },
   {
    "duration": 10,
    "start_time": "2023-11-08T20:01:07.054Z"
   },
   {
    "duration": 9,
    "start_time": "2023-11-08T20:02:19.946Z"
   },
   {
    "duration": 10,
    "start_time": "2023-11-08T20:10:14.581Z"
   },
   {
    "duration": 9,
    "start_time": "2023-11-08T20:10:21.336Z"
   },
   {
    "duration": 13,
    "start_time": "2023-11-08T20:12:37.596Z"
   },
   {
    "duration": 8,
    "start_time": "2023-11-08T20:13:40.823Z"
   },
   {
    "duration": 13,
    "start_time": "2023-11-08T20:15:55.078Z"
   },
   {
    "duration": 21,
    "start_time": "2023-11-08T20:16:29.110Z"
   },
   {
    "duration": 16,
    "start_time": "2023-11-08T20:16:45.802Z"
   },
   {
    "duration": 91,
    "start_time": "2023-11-08T20:19:46.229Z"
   },
   {
    "duration": 31,
    "start_time": "2023-11-08T20:19:53.894Z"
   },
   {
    "duration": 24,
    "start_time": "2023-11-08T20:19:56.920Z"
   },
   {
    "duration": 24,
    "start_time": "2023-11-08T20:20:04.296Z"
   },
   {
    "duration": 20,
    "start_time": "2023-11-08T20:20:44.746Z"
   },
   {
    "duration": 28,
    "start_time": "2023-11-08T20:22:06.554Z"
   },
   {
    "duration": 19,
    "start_time": "2023-11-08T20:22:11.529Z"
   },
   {
    "duration": 12,
    "start_time": "2023-11-08T20:23:24.298Z"
   },
   {
    "duration": 21,
    "start_time": "2023-11-08T20:23:28.955Z"
   },
   {
    "duration": 13,
    "start_time": "2023-11-08T20:24:48.030Z"
   },
   {
    "duration": 16,
    "start_time": "2023-11-08T20:26:31.815Z"
   },
   {
    "duration": 31,
    "start_time": "2023-11-08T20:27:16.734Z"
   },
   {
    "duration": 19,
    "start_time": "2023-11-08T20:27:22.984Z"
   },
   {
    "duration": 1562,
    "start_time": "2023-11-08T20:27:29.453Z"
   },
   {
    "duration": 784,
    "start_time": "2023-11-08T20:27:31.018Z"
   },
   {
    "duration": 142,
    "start_time": "2023-11-08T20:27:31.803Z"
   },
   {
    "duration": 33,
    "start_time": "2023-11-08T20:27:31.948Z"
   },
   {
    "duration": 50,
    "start_time": "2023-11-08T20:27:32.002Z"
   },
   {
    "duration": 355,
    "start_time": "2023-11-08T20:27:32.054Z"
   },
   {
    "duration": 62,
    "start_time": "2023-11-08T20:27:32.410Z"
   },
   {
    "duration": 83,
    "start_time": "2023-11-08T20:27:32.474Z"
   },
   {
    "duration": 18773,
    "start_time": "2023-11-08T20:27:32.560Z"
   },
   {
    "duration": 6,
    "start_time": "2023-11-08T20:27:51.336Z"
   },
   {
    "duration": 963,
    "start_time": "2023-11-08T20:27:51.344Z"
   },
   {
    "duration": 8,
    "start_time": "2023-11-08T20:27:52.309Z"
   },
   {
    "duration": 54,
    "start_time": "2023-11-08T20:27:52.319Z"
   },
   {
    "duration": 6,
    "start_time": "2023-11-08T20:27:52.375Z"
   },
   {
    "duration": 16,
    "start_time": "2023-11-08T20:27:52.401Z"
   },
   {
    "duration": 24,
    "start_time": "2023-11-08T20:27:52.419Z"
   },
   {
    "duration": 53,
    "start_time": "2023-11-08T20:27:52.445Z"
   },
   {
    "duration": 13,
    "start_time": "2023-11-08T20:27:52.500Z"
   },
   {
    "duration": 7,
    "start_time": "2023-11-08T20:27:52.515Z"
   },
   {
    "duration": 146,
    "start_time": "2023-11-08T20:27:52.524Z"
   },
   {
    "duration": 21,
    "start_time": "2023-11-08T20:27:52.672Z"
   },
   {
    "duration": 19,
    "start_time": "2023-11-08T20:27:52.701Z"
   },
   {
    "duration": 353,
    "start_time": "2023-11-08T20:27:52.722Z"
   },
   {
    "duration": 7,
    "start_time": "2023-11-08T20:27:53.078Z"
   },
   {
    "duration": 42,
    "start_time": "2023-11-08T20:27:53.102Z"
   },
   {
    "duration": 62,
    "start_time": "2023-11-08T20:27:53.146Z"
   },
   {
    "duration": 10,
    "start_time": "2023-11-08T20:27:53.210Z"
   },
   {
    "duration": 17,
    "start_time": "2023-11-08T20:27:53.224Z"
   },
   {
    "duration": 75,
    "start_time": "2023-11-08T20:27:53.243Z"
   },
   {
    "duration": 55,
    "start_time": "2023-11-08T20:27:53.320Z"
   },
   {
    "duration": 35,
    "start_time": "2023-11-08T20:27:53.377Z"
   },
   {
    "duration": 23,
    "start_time": "2023-11-08T20:27:53.414Z"
   },
   {
    "duration": 24,
    "start_time": "2023-11-08T20:27:53.439Z"
   },
   {
    "duration": 43,
    "start_time": "2023-11-08T20:27:53.464Z"
   },
   {
    "duration": 9,
    "start_time": "2023-11-08T20:27:53.508Z"
   },
   {
    "duration": 9,
    "start_time": "2023-11-08T20:27:53.518Z"
   },
   {
    "duration": 18,
    "start_time": "2023-11-08T20:27:53.529Z"
   },
   {
    "duration": 63,
    "start_time": "2023-11-08T20:27:53.549Z"
   },
   {
    "duration": 17,
    "start_time": "2023-11-08T20:27:53.614Z"
   },
   {
    "duration": 72,
    "start_time": "2023-11-08T20:27:53.633Z"
   },
   {
    "duration": 206,
    "start_time": "2023-11-08T20:27:53.707Z"
   },
   {
    "duration": 215,
    "start_time": "2023-11-08T20:27:53.916Z"
   },
   {
    "duration": 21,
    "start_time": "2023-11-08T20:27:54.133Z"
   },
   {
    "duration": 48,
    "start_time": "2023-11-08T20:27:54.156Z"
   },
   {
    "duration": 11,
    "start_time": "2023-11-08T20:27:54.206Z"
   },
   {
    "duration": 47,
    "start_time": "2023-11-08T20:27:54.219Z"
   },
   {
    "duration": 44,
    "start_time": "2023-11-08T20:27:54.268Z"
   },
   {
    "duration": 55,
    "start_time": "2023-11-08T20:27:54.314Z"
   },
   {
    "duration": 12,
    "start_time": "2023-11-08T20:27:54.371Z"
   },
   {
    "duration": 30,
    "start_time": "2023-11-08T20:27:54.385Z"
   },
   {
    "duration": 13,
    "start_time": "2023-11-08T20:27:54.417Z"
   },
   {
    "duration": 39,
    "start_time": "2023-11-08T20:27:54.432Z"
   },
   {
    "duration": 64,
    "start_time": "2023-11-08T20:27:54.473Z"
   },
   {
    "duration": 27,
    "start_time": "2023-11-08T20:27:54.539Z"
   },
   {
    "duration": 37,
    "start_time": "2023-11-08T20:27:54.568Z"
   },
   {
    "duration": 241,
    "start_time": "2023-11-08T20:27:54.608Z"
   },
   {
    "duration": 0,
    "start_time": "2023-11-08T20:27:54.851Z"
   },
   {
    "duration": 0,
    "start_time": "2023-11-08T20:27:54.853Z"
   },
   {
    "duration": 0,
    "start_time": "2023-11-08T20:27:54.855Z"
   },
   {
    "duration": 0,
    "start_time": "2023-11-08T20:27:54.857Z"
   },
   {
    "duration": 0,
    "start_time": "2023-11-08T20:27:54.860Z"
   },
   {
    "duration": 0,
    "start_time": "2023-11-08T20:27:54.861Z"
   },
   {
    "duration": 0,
    "start_time": "2023-11-08T20:27:54.864Z"
   },
   {
    "duration": 13,
    "start_time": "2023-11-08T20:28:40.327Z"
   },
   {
    "duration": 8,
    "start_time": "2023-11-08T20:29:36.578Z"
   },
   {
    "duration": 18,
    "start_time": "2023-11-08T20:29:41.908Z"
   },
   {
    "duration": 1631,
    "start_time": "2023-11-08T20:29:50.201Z"
   },
   {
    "duration": 782,
    "start_time": "2023-11-08T20:29:51.835Z"
   },
   {
    "duration": 146,
    "start_time": "2023-11-08T20:29:52.619Z"
   },
   {
    "duration": 53,
    "start_time": "2023-11-08T20:29:52.768Z"
   },
   {
    "duration": 80,
    "start_time": "2023-11-08T20:29:52.823Z"
   },
   {
    "duration": 350,
    "start_time": "2023-11-08T20:29:52.906Z"
   },
   {
    "duration": 153,
    "start_time": "2023-11-08T20:29:53.258Z"
   },
   {
    "duration": 49,
    "start_time": "2023-11-08T20:29:53.413Z"
   },
   {
    "duration": 19205,
    "start_time": "2023-11-08T20:29:53.464Z"
   },
   {
    "duration": 6,
    "start_time": "2023-11-08T20:30:12.672Z"
   },
   {
    "duration": 980,
    "start_time": "2023-11-08T20:30:12.679Z"
   },
   {
    "duration": 7,
    "start_time": "2023-11-08T20:30:13.661Z"
   },
   {
    "duration": 56,
    "start_time": "2023-11-08T20:30:13.670Z"
   },
   {
    "duration": 6,
    "start_time": "2023-11-08T20:30:13.728Z"
   },
   {
    "duration": 15,
    "start_time": "2023-11-08T20:30:13.735Z"
   },
   {
    "duration": 14,
    "start_time": "2023-11-08T20:30:13.752Z"
   },
   {
    "duration": 62,
    "start_time": "2023-11-08T20:30:13.768Z"
   },
   {
    "duration": 13,
    "start_time": "2023-11-08T20:30:13.831Z"
   },
   {
    "duration": 10,
    "start_time": "2023-11-08T20:30:13.845Z"
   },
   {
    "duration": 169,
    "start_time": "2023-11-08T20:30:13.857Z"
   },
   {
    "duration": 20,
    "start_time": "2023-11-08T20:30:14.028Z"
   },
   {
    "duration": 32,
    "start_time": "2023-11-08T20:30:14.050Z"
   },
   {
    "duration": 368,
    "start_time": "2023-11-08T20:30:14.084Z"
   },
   {
    "duration": 6,
    "start_time": "2023-11-08T20:30:14.454Z"
   },
   {
    "duration": 73,
    "start_time": "2023-11-08T20:30:14.462Z"
   },
   {
    "duration": 66,
    "start_time": "2023-11-08T20:30:14.536Z"
   },
   {
    "duration": 17,
    "start_time": "2023-11-08T20:30:14.605Z"
   },
   {
    "duration": 72,
    "start_time": "2023-11-08T20:30:14.629Z"
   },
   {
    "duration": 38,
    "start_time": "2023-11-08T20:30:14.704Z"
   },
   {
    "duration": 78,
    "start_time": "2023-11-08T20:30:14.745Z"
   },
   {
    "duration": 17,
    "start_time": "2023-11-08T20:30:14.825Z"
   },
   {
    "duration": 20,
    "start_time": "2023-11-08T20:30:14.844Z"
   },
   {
    "duration": 53,
    "start_time": "2023-11-08T20:30:14.866Z"
   },
   {
    "duration": 32,
    "start_time": "2023-11-08T20:30:14.921Z"
   },
   {
    "duration": 8,
    "start_time": "2023-11-08T20:30:14.955Z"
   },
   {
    "duration": 12,
    "start_time": "2023-11-08T20:30:14.965Z"
   },
   {
    "duration": 33,
    "start_time": "2023-11-08T20:30:14.979Z"
   },
   {
    "duration": 40,
    "start_time": "2023-11-08T20:30:15.014Z"
   },
   {
    "duration": 16,
    "start_time": "2023-11-08T20:30:15.056Z"
   },
   {
    "duration": 82,
    "start_time": "2023-11-08T20:30:15.074Z"
   },
   {
    "duration": 234,
    "start_time": "2023-11-08T20:30:15.158Z"
   },
   {
    "duration": 233,
    "start_time": "2023-11-08T20:30:15.401Z"
   },
   {
    "duration": 21,
    "start_time": "2023-11-08T20:30:15.636Z"
   },
   {
    "duration": 48,
    "start_time": "2023-11-08T20:30:15.660Z"
   },
   {
    "duration": 12,
    "start_time": "2023-11-08T20:30:15.710Z"
   },
   {
    "duration": 52,
    "start_time": "2023-11-08T20:30:15.723Z"
   },
   {
    "duration": 16,
    "start_time": "2023-11-08T20:30:15.802Z"
   },
   {
    "duration": 53,
    "start_time": "2023-11-08T20:30:15.819Z"
   },
   {
    "duration": 35,
    "start_time": "2023-11-08T20:30:15.874Z"
   },
   {
    "duration": 36,
    "start_time": "2023-11-08T20:30:15.910Z"
   },
   {
    "duration": 14,
    "start_time": "2023-11-08T20:30:15.947Z"
   },
   {
    "duration": 59,
    "start_time": "2023-11-08T20:30:15.962Z"
   },
   {
    "duration": 24,
    "start_time": "2023-11-08T20:30:16.023Z"
   },
   {
    "duration": 14,
    "start_time": "2023-11-08T20:30:16.049Z"
   },
   {
    "duration": 38,
    "start_time": "2023-11-08T20:30:16.065Z"
   },
   {
    "duration": 18,
    "start_time": "2023-11-08T20:30:16.104Z"
   },
   {
    "duration": 23,
    "start_time": "2023-11-08T20:30:16.123Z"
   },
   {
    "duration": 54,
    "start_time": "2023-11-08T20:30:16.148Z"
   },
   {
    "duration": 22,
    "start_time": "2023-11-08T20:30:16.204Z"
   },
   {
    "duration": 6,
    "start_time": "2023-11-08T20:30:16.227Z"
   },
   {
    "duration": 8,
    "start_time": "2023-11-08T20:30:16.235Z"
   },
   {
    "duration": 120,
    "start_time": "2023-11-08T20:30:16.245Z"
   },
   {
    "duration": 17,
    "start_time": "2023-11-08T20:33:50.525Z"
   },
   {
    "duration": 16,
    "start_time": "2023-11-08T20:34:21.135Z"
   },
   {
    "duration": 8,
    "start_time": "2023-11-08T20:34:53.152Z"
   },
   {
    "duration": 1595,
    "start_time": "2023-11-08T20:35:33.579Z"
   },
   {
    "duration": 768,
    "start_time": "2023-11-08T20:35:35.176Z"
   },
   {
    "duration": 147,
    "start_time": "2023-11-08T20:35:35.945Z"
   },
   {
    "duration": 32,
    "start_time": "2023-11-08T20:35:36.103Z"
   },
   {
    "duration": 78,
    "start_time": "2023-11-08T20:35:36.137Z"
   },
   {
    "duration": 416,
    "start_time": "2023-11-08T20:35:36.217Z"
   },
   {
    "duration": 76,
    "start_time": "2023-11-08T20:35:36.634Z"
   },
   {
    "duration": 44,
    "start_time": "2023-11-08T20:35:36.711Z"
   },
   {
    "duration": 19576,
    "start_time": "2023-11-08T20:35:36.756Z"
   },
   {
    "duration": 9,
    "start_time": "2023-11-08T20:35:56.335Z"
   },
   {
    "duration": 1057,
    "start_time": "2023-11-08T20:35:56.346Z"
   },
   {
    "duration": 12,
    "start_time": "2023-11-08T20:35:57.406Z"
   },
   {
    "duration": 47,
    "start_time": "2023-11-08T20:35:57.419Z"
   },
   {
    "duration": 5,
    "start_time": "2023-11-08T20:35:57.468Z"
   },
   {
    "duration": 39,
    "start_time": "2023-11-08T20:35:57.474Z"
   },
   {
    "duration": 16,
    "start_time": "2023-11-08T20:35:57.515Z"
   },
   {
    "duration": 41,
    "start_time": "2023-11-08T20:35:57.532Z"
   },
   {
    "duration": 35,
    "start_time": "2023-11-08T20:35:57.575Z"
   },
   {
    "duration": 10,
    "start_time": "2023-11-08T20:35:57.612Z"
   },
   {
    "duration": 149,
    "start_time": "2023-11-08T20:35:57.623Z"
   },
   {
    "duration": 18,
    "start_time": "2023-11-08T20:35:57.774Z"
   },
   {
    "duration": 25,
    "start_time": "2023-11-08T20:35:57.802Z"
   },
   {
    "duration": 364,
    "start_time": "2023-11-08T20:35:57.828Z"
   },
   {
    "duration": 8,
    "start_time": "2023-11-08T20:35:58.201Z"
   },
   {
    "duration": 33,
    "start_time": "2023-11-08T20:35:58.212Z"
   },
   {
    "duration": 60,
    "start_time": "2023-11-08T20:35:58.246Z"
   },
   {
    "duration": 13,
    "start_time": "2023-11-08T20:35:58.309Z"
   },
   {
    "duration": 15,
    "start_time": "2023-11-08T20:35:58.327Z"
   },
   {
    "duration": 75,
    "start_time": "2023-11-08T20:35:58.344Z"
   },
   {
    "duration": 56,
    "start_time": "2023-11-08T20:35:58.420Z"
   },
   {
    "duration": 38,
    "start_time": "2023-11-08T20:35:58.479Z"
   },
   {
    "duration": 29,
    "start_time": "2023-11-08T20:35:58.519Z"
   },
   {
    "duration": 22,
    "start_time": "2023-11-08T20:35:58.550Z"
   },
   {
    "duration": 45,
    "start_time": "2023-11-08T20:35:58.574Z"
   },
   {
    "duration": 8,
    "start_time": "2023-11-08T20:35:58.621Z"
   },
   {
    "duration": 7,
    "start_time": "2023-11-08T20:35:58.630Z"
   },
   {
    "duration": 44,
    "start_time": "2023-11-08T20:35:58.638Z"
   },
   {
    "duration": 45,
    "start_time": "2023-11-08T20:35:58.683Z"
   },
   {
    "duration": 14,
    "start_time": "2023-11-08T20:35:58.730Z"
   },
   {
    "duration": 78,
    "start_time": "2023-11-08T20:35:58.746Z"
   },
   {
    "duration": 215,
    "start_time": "2023-11-08T20:35:58.825Z"
   },
   {
    "duration": 222,
    "start_time": "2023-11-08T20:35:59.042Z"
   },
   {
    "duration": 19,
    "start_time": "2023-11-08T20:35:59.266Z"
   },
   {
    "duration": 47,
    "start_time": "2023-11-08T20:35:59.286Z"
   },
   {
    "duration": 12,
    "start_time": "2023-11-08T20:35:59.334Z"
   },
   {
    "duration": 75,
    "start_time": "2023-11-08T20:35:59.347Z"
   },
   {
    "duration": 17,
    "start_time": "2023-11-08T20:35:59.424Z"
   },
   {
    "duration": 79,
    "start_time": "2023-11-08T20:35:59.443Z"
   },
   {
    "duration": 12,
    "start_time": "2023-11-08T20:35:59.524Z"
   },
   {
    "duration": 18,
    "start_time": "2023-11-08T20:35:59.538Z"
   },
   {
    "duration": 51,
    "start_time": "2023-11-08T20:35:59.558Z"
   },
   {
    "duration": 31,
    "start_time": "2023-11-08T20:35:59.616Z"
   },
   {
    "duration": 24,
    "start_time": "2023-11-08T20:35:59.648Z"
   },
   {
    "duration": 14,
    "start_time": "2023-11-08T20:35:59.673Z"
   },
   {
    "duration": 15,
    "start_time": "2023-11-08T20:35:59.702Z"
   },
   {
    "duration": 12,
    "start_time": "2023-11-08T20:35:59.719Z"
   },
   {
    "duration": 20,
    "start_time": "2023-11-08T20:35:59.733Z"
   },
   {
    "duration": 56,
    "start_time": "2023-11-08T20:35:59.755Z"
   },
   {
    "duration": 19,
    "start_time": "2023-11-08T20:35:59.813Z"
   },
   {
    "duration": 6,
    "start_time": "2023-11-08T20:35:59.834Z"
   },
   {
    "duration": 7,
    "start_time": "2023-11-08T20:35:59.841Z"
   },
   {
    "duration": 88,
    "start_time": "2023-11-08T20:35:59.850Z"
   },
   {
    "duration": 10,
    "start_time": "2023-11-08T20:36:51.290Z"
   },
   {
    "duration": 12,
    "start_time": "2023-11-08T20:37:43.815Z"
   },
   {
    "duration": 1684,
    "start_time": "2023-11-08T20:38:00.094Z"
   },
   {
    "duration": 800,
    "start_time": "2023-11-08T20:38:01.780Z"
   },
   {
    "duration": 153,
    "start_time": "2023-11-08T20:38:02.582Z"
   },
   {
    "duration": 67,
    "start_time": "2023-11-08T20:38:02.737Z"
   },
   {
    "duration": 73,
    "start_time": "2023-11-08T20:38:02.807Z"
   },
   {
    "duration": 346,
    "start_time": "2023-11-08T20:38:02.882Z"
   },
   {
    "duration": 73,
    "start_time": "2023-11-08T20:38:03.230Z"
   },
   {
    "duration": 44,
    "start_time": "2023-11-08T20:38:03.304Z"
   },
   {
    "duration": 19020,
    "start_time": "2023-11-08T20:38:03.350Z"
   },
   {
    "duration": 7,
    "start_time": "2023-11-08T20:38:22.372Z"
   },
   {
    "duration": 970,
    "start_time": "2023-11-08T20:38:22.380Z"
   },
   {
    "duration": 8,
    "start_time": "2023-11-08T20:38:23.352Z"
   },
   {
    "duration": 57,
    "start_time": "2023-11-08T20:38:23.362Z"
   },
   {
    "duration": 5,
    "start_time": "2023-11-08T20:38:23.424Z"
   },
   {
    "duration": 21,
    "start_time": "2023-11-08T20:38:23.430Z"
   },
   {
    "duration": 16,
    "start_time": "2023-11-08T20:38:23.453Z"
   },
   {
    "duration": 65,
    "start_time": "2023-11-08T20:38:23.471Z"
   },
   {
    "duration": 12,
    "start_time": "2023-11-08T20:38:23.538Z"
   },
   {
    "duration": 7,
    "start_time": "2023-11-08T20:38:23.551Z"
   },
   {
    "duration": 145,
    "start_time": "2023-11-08T20:38:23.560Z"
   },
   {
    "duration": 18,
    "start_time": "2023-11-08T20:38:23.707Z"
   },
   {
    "duration": 18,
    "start_time": "2023-11-08T20:38:23.727Z"
   },
   {
    "duration": 368,
    "start_time": "2023-11-08T20:38:23.747Z"
   },
   {
    "duration": 7,
    "start_time": "2023-11-08T20:38:24.117Z"
   },
   {
    "duration": 90,
    "start_time": "2023-11-08T20:38:24.125Z"
   },
   {
    "duration": 11,
    "start_time": "2023-11-08T20:38:24.217Z"
   },
   {
    "duration": 10,
    "start_time": "2023-11-08T20:38:24.230Z"
   },
   {
    "duration": 71,
    "start_time": "2023-11-08T20:38:24.242Z"
   },
   {
    "duration": 21,
    "start_time": "2023-11-08T20:38:24.315Z"
   },
   {
    "duration": 88,
    "start_time": "2023-11-08T20:38:24.338Z"
   },
   {
    "duration": 13,
    "start_time": "2023-11-08T20:38:24.427Z"
   },
   {
    "duration": 16,
    "start_time": "2023-11-08T20:38:24.442Z"
   },
   {
    "duration": 48,
    "start_time": "2023-11-08T20:38:24.460Z"
   },
   {
    "duration": 23,
    "start_time": "2023-11-08T20:38:24.510Z"
   },
   {
    "duration": 13,
    "start_time": "2023-11-08T20:38:24.540Z"
   },
   {
    "duration": 9,
    "start_time": "2023-11-08T20:38:24.555Z"
   },
   {
    "duration": 43,
    "start_time": "2023-11-08T20:38:24.566Z"
   },
   {
    "duration": 58,
    "start_time": "2023-11-08T20:38:24.611Z"
   },
   {
    "duration": 46,
    "start_time": "2023-11-08T20:38:24.671Z"
   },
   {
    "duration": 101,
    "start_time": "2023-11-08T20:38:24.720Z"
   },
   {
    "duration": 222,
    "start_time": "2023-11-08T20:38:24.830Z"
   },
   {
    "duration": 213,
    "start_time": "2023-11-08T20:38:25.054Z"
   },
   {
    "duration": 20,
    "start_time": "2023-11-08T20:38:25.269Z"
   },
   {
    "duration": 30,
    "start_time": "2023-11-08T20:38:25.301Z"
   },
   {
    "duration": 11,
    "start_time": "2023-11-08T20:38:25.332Z"
   },
   {
    "duration": 72,
    "start_time": "2023-11-08T20:38:25.344Z"
   },
   {
    "duration": 21,
    "start_time": "2023-11-08T20:38:25.418Z"
   },
   {
    "duration": 74,
    "start_time": "2023-11-08T20:38:25.441Z"
   },
   {
    "duration": 14,
    "start_time": "2023-11-08T20:38:25.516Z"
   },
   {
    "duration": 28,
    "start_time": "2023-11-08T20:38:25.532Z"
   },
   {
    "duration": 13,
    "start_time": "2023-11-08T20:38:25.561Z"
   },
   {
    "duration": 48,
    "start_time": "2023-11-08T20:38:25.576Z"
   },
   {
    "duration": 22,
    "start_time": "2023-11-08T20:38:25.626Z"
   },
   {
    "duration": 14,
    "start_time": "2023-11-08T20:38:25.650Z"
   },
   {
    "duration": 41,
    "start_time": "2023-11-08T20:38:25.666Z"
   },
   {
    "duration": 28,
    "start_time": "2023-11-08T20:38:25.709Z"
   },
   {
    "duration": 39,
    "start_time": "2023-11-08T20:38:25.738Z"
   },
   {
    "duration": 27,
    "start_time": "2023-11-08T20:38:25.778Z"
   },
   {
    "duration": 18,
    "start_time": "2023-11-08T20:38:25.807Z"
   },
   {
    "duration": 5,
    "start_time": "2023-11-08T20:38:25.827Z"
   },
   {
    "duration": 10,
    "start_time": "2023-11-08T20:38:25.834Z"
   },
   {
    "duration": 77,
    "start_time": "2023-11-08T20:38:25.845Z"
   },
   {
    "duration": 14,
    "start_time": "2023-11-08T20:39:08.581Z"
   },
   {
    "duration": 1612,
    "start_time": "2023-11-08T20:39:28.341Z"
   },
   {
    "duration": 800,
    "start_time": "2023-11-08T20:39:29.954Z"
   },
   {
    "duration": 146,
    "start_time": "2023-11-08T20:39:30.756Z"
   },
   {
    "duration": 32,
    "start_time": "2023-11-08T20:39:30.904Z"
   },
   {
    "duration": 74,
    "start_time": "2023-11-08T20:39:30.937Z"
   },
   {
    "duration": 336,
    "start_time": "2023-11-08T20:39:31.013Z"
   },
   {
    "duration": 65,
    "start_time": "2023-11-08T20:39:31.351Z"
   },
   {
    "duration": 81,
    "start_time": "2023-11-08T20:39:31.417Z"
   },
   {
    "duration": 19507,
    "start_time": "2023-11-08T20:39:31.500Z"
   },
   {
    "duration": 7,
    "start_time": "2023-11-08T20:39:51.010Z"
   },
   {
    "duration": 984,
    "start_time": "2023-11-08T20:39:51.018Z"
   },
   {
    "duration": 8,
    "start_time": "2023-11-08T20:39:52.003Z"
   },
   {
    "duration": 41,
    "start_time": "2023-11-08T20:39:52.012Z"
   },
   {
    "duration": 5,
    "start_time": "2023-11-08T20:39:52.055Z"
   },
   {
    "duration": 40,
    "start_time": "2023-11-08T20:39:52.062Z"
   },
   {
    "duration": 15,
    "start_time": "2023-11-08T20:39:52.104Z"
   },
   {
    "duration": 38,
    "start_time": "2023-11-08T20:39:52.121Z"
   },
   {
    "duration": 42,
    "start_time": "2023-11-08T20:39:52.160Z"
   },
   {
    "duration": 8,
    "start_time": "2023-11-08T20:39:52.204Z"
   },
   {
    "duration": 135,
    "start_time": "2023-11-08T20:39:52.213Z"
   },
   {
    "duration": 18,
    "start_time": "2023-11-08T20:39:52.350Z"
   },
   {
    "duration": 34,
    "start_time": "2023-11-08T20:39:52.370Z"
   },
   {
    "duration": 348,
    "start_time": "2023-11-08T20:39:52.406Z"
   },
   {
    "duration": 6,
    "start_time": "2023-11-08T20:39:52.756Z"
   },
   {
    "duration": 67,
    "start_time": "2023-11-08T20:39:52.763Z"
   },
   {
    "duration": 11,
    "start_time": "2023-11-08T20:39:52.831Z"
   },
   {
    "duration": 68,
    "start_time": "2023-11-08T20:39:52.844Z"
   },
   {
    "duration": 17,
    "start_time": "2023-11-08T20:39:52.916Z"
   },
   {
    "duration": 76,
    "start_time": "2023-11-08T20:39:52.935Z"
   },
   {
    "duration": 56,
    "start_time": "2023-11-08T20:39:53.012Z"
   },
   {
    "duration": 32,
    "start_time": "2023-11-08T20:39:53.070Z"
   },
   {
    "duration": 18,
    "start_time": "2023-11-08T20:39:53.104Z"
   },
   {
    "duration": 22,
    "start_time": "2023-11-08T20:39:53.124Z"
   },
   {
    "duration": 22,
    "start_time": "2023-11-08T20:39:53.148Z"
   },
   {
    "duration": 37,
    "start_time": "2023-11-08T20:39:53.172Z"
   },
   {
    "duration": 5,
    "start_time": "2023-11-08T20:39:53.212Z"
   },
   {
    "duration": 18,
    "start_time": "2023-11-08T20:39:53.220Z"
   },
   {
    "duration": 75,
    "start_time": "2023-11-08T20:39:53.240Z"
   },
   {
    "duration": 15,
    "start_time": "2023-11-08T20:39:53.317Z"
   },
   {
    "duration": 71,
    "start_time": "2023-11-08T20:39:53.334Z"
   },
   {
    "duration": 225,
    "start_time": "2023-11-08T20:39:53.407Z"
   },
   {
    "duration": 228,
    "start_time": "2023-11-08T20:39:53.634Z"
   },
   {
    "duration": 20,
    "start_time": "2023-11-08T20:39:53.864Z"
   },
   {
    "duration": 150,
    "start_time": "2023-11-08T20:39:53.886Z"
   },
   {
    "duration": 10,
    "start_time": "2023-11-08T20:39:54.038Z"
   },
   {
    "duration": 67,
    "start_time": "2023-11-08T20:39:54.049Z"
   },
   {
    "duration": 16,
    "start_time": "2023-11-08T20:39:54.118Z"
   },
   {
    "duration": 78,
    "start_time": "2023-11-08T20:39:54.135Z"
   },
   {
    "duration": 11,
    "start_time": "2023-11-08T20:39:54.217Z"
   },
   {
    "duration": 23,
    "start_time": "2023-11-08T20:39:54.230Z"
   },
   {
    "duration": 28,
    "start_time": "2023-11-08T20:39:54.255Z"
   },
   {
    "duration": 47,
    "start_time": "2023-11-08T20:39:54.285Z"
   },
   {
    "duration": 24,
    "start_time": "2023-11-08T20:39:54.333Z"
   },
   {
    "duration": 22,
    "start_time": "2023-11-08T20:39:54.358Z"
   },
   {
    "duration": 31,
    "start_time": "2023-11-08T20:39:54.383Z"
   },
   {
    "duration": 216,
    "start_time": "2023-11-08T20:39:54.416Z"
   },
   {
    "duration": 0,
    "start_time": "2023-11-08T20:39:54.634Z"
   },
   {
    "duration": 0,
    "start_time": "2023-11-08T20:39:54.635Z"
   },
   {
    "duration": 0,
    "start_time": "2023-11-08T20:39:54.638Z"
   },
   {
    "duration": 0,
    "start_time": "2023-11-08T20:39:54.639Z"
   },
   {
    "duration": 0,
    "start_time": "2023-11-08T20:39:54.640Z"
   },
   {
    "duration": 0,
    "start_time": "2023-11-08T20:39:54.641Z"
   },
   {
    "duration": 18,
    "start_time": "2023-11-08T20:40:04.475Z"
   },
   {
    "duration": 1639,
    "start_time": "2023-11-08T20:40:12.418Z"
   },
   {
    "duration": 891,
    "start_time": "2023-11-08T20:40:14.059Z"
   },
   {
    "duration": 161,
    "start_time": "2023-11-08T20:40:14.952Z"
   },
   {
    "duration": 31,
    "start_time": "2023-11-08T20:40:15.117Z"
   },
   {
    "duration": 81,
    "start_time": "2023-11-08T20:40:15.150Z"
   },
   {
    "duration": 353,
    "start_time": "2023-11-08T20:40:15.233Z"
   },
   {
    "duration": 74,
    "start_time": "2023-11-08T20:40:15.588Z"
   },
   {
    "duration": 89,
    "start_time": "2023-11-08T20:40:15.664Z"
   },
   {
    "duration": 20974,
    "start_time": "2023-11-08T20:40:15.754Z"
   },
   {
    "duration": 5,
    "start_time": "2023-11-08T20:40:36.731Z"
   },
   {
    "duration": 1077,
    "start_time": "2023-11-08T20:40:36.738Z"
   },
   {
    "duration": 8,
    "start_time": "2023-11-08T20:40:37.818Z"
   },
   {
    "duration": 58,
    "start_time": "2023-11-08T20:40:37.827Z"
   },
   {
    "duration": 5,
    "start_time": "2023-11-08T20:40:37.886Z"
   },
   {
    "duration": 25,
    "start_time": "2023-11-08T20:40:37.901Z"
   },
   {
    "duration": 16,
    "start_time": "2023-11-08T20:40:37.928Z"
   },
   {
    "duration": 66,
    "start_time": "2023-11-08T20:40:37.946Z"
   },
   {
    "duration": 12,
    "start_time": "2023-11-08T20:40:38.014Z"
   },
   {
    "duration": 7,
    "start_time": "2023-11-08T20:40:38.028Z"
   },
   {
    "duration": 144,
    "start_time": "2023-11-08T20:40:38.037Z"
   },
   {
    "duration": 23,
    "start_time": "2023-11-08T20:40:38.183Z"
   },
   {
    "duration": 22,
    "start_time": "2023-11-08T20:40:38.208Z"
   },
   {
    "duration": 372,
    "start_time": "2023-11-08T20:40:38.231Z"
   },
   {
    "duration": 11,
    "start_time": "2023-11-08T20:40:38.605Z"
   },
   {
    "duration": 84,
    "start_time": "2023-11-08T20:40:38.619Z"
   },
   {
    "duration": 17,
    "start_time": "2023-11-08T20:40:38.704Z"
   },
   {
    "duration": 30,
    "start_time": "2023-11-08T20:40:38.723Z"
   },
   {
    "duration": 26,
    "start_time": "2023-11-08T20:40:38.801Z"
   },
   {
    "duration": 28,
    "start_time": "2023-11-08T20:40:38.829Z"
   },
   {
    "duration": 89,
    "start_time": "2023-11-08T20:40:38.859Z"
   },
   {
    "duration": 17,
    "start_time": "2023-11-08T20:40:38.950Z"
   },
   {
    "duration": 49,
    "start_time": "2023-11-08T20:40:38.969Z"
   },
   {
    "duration": 34,
    "start_time": "2023-11-08T20:40:39.020Z"
   },
   {
    "duration": 33,
    "start_time": "2023-11-08T20:40:39.056Z"
   },
   {
    "duration": 27,
    "start_time": "2023-11-08T20:40:39.091Z"
   },
   {
    "duration": 35,
    "start_time": "2023-11-08T20:40:39.120Z"
   },
   {
    "duration": 53,
    "start_time": "2023-11-08T20:40:39.157Z"
   },
   {
    "duration": 39,
    "start_time": "2023-11-08T20:40:39.217Z"
   },
   {
    "duration": 15,
    "start_time": "2023-11-08T20:40:39.258Z"
   },
   {
    "duration": 75,
    "start_time": "2023-11-08T20:40:39.275Z"
   },
   {
    "duration": 228,
    "start_time": "2023-11-08T20:40:39.352Z"
   },
   {
    "duration": 254,
    "start_time": "2023-11-08T20:40:39.582Z"
   },
   {
    "duration": 22,
    "start_time": "2023-11-08T20:40:39.837Z"
   },
   {
    "duration": 47,
    "start_time": "2023-11-08T20:40:39.861Z"
   },
   {
    "duration": 14,
    "start_time": "2023-11-08T20:40:39.911Z"
   },
   {
    "duration": 50,
    "start_time": "2023-11-08T20:40:39.927Z"
   },
   {
    "duration": 23,
    "start_time": "2023-11-08T20:40:40.000Z"
   },
   {
    "duration": 57,
    "start_time": "2023-11-08T20:40:40.025Z"
   },
   {
    "duration": 14,
    "start_time": "2023-11-08T20:40:40.113Z"
   },
   {
    "duration": 46,
    "start_time": "2023-11-08T20:40:40.129Z"
   },
   {
    "duration": 12,
    "start_time": "2023-11-08T20:40:40.177Z"
   },
   {
    "duration": 44,
    "start_time": "2023-11-08T20:40:40.191Z"
   },
   {
    "duration": 24,
    "start_time": "2023-11-08T20:40:40.237Z"
   },
   {
    "duration": 22,
    "start_time": "2023-11-08T20:40:40.262Z"
   },
   {
    "duration": 24,
    "start_time": "2023-11-08T20:40:40.286Z"
   },
   {
    "duration": 34,
    "start_time": "2023-11-08T20:40:40.312Z"
   },
   {
    "duration": 32,
    "start_time": "2023-11-08T20:40:40.347Z"
   },
   {
    "duration": 26,
    "start_time": "2023-11-08T20:40:40.381Z"
   },
   {
    "duration": 17,
    "start_time": "2023-11-08T20:40:40.409Z"
   },
   {
    "duration": 6,
    "start_time": "2023-11-08T20:40:40.428Z"
   },
   {
    "duration": 32,
    "start_time": "2023-11-08T20:40:40.435Z"
   },
   {
    "duration": 88,
    "start_time": "2023-11-08T20:40:40.469Z"
   },
   {
    "duration": 8,
    "start_time": "2023-11-08T20:41:17.569Z"
   },
   {
    "duration": 16,
    "start_time": "2023-11-08T20:41:21.674Z"
   },
   {
    "duration": 1582,
    "start_time": "2023-11-08T20:41:30.819Z"
   },
   {
    "duration": 780,
    "start_time": "2023-11-08T20:41:32.403Z"
   },
   {
    "duration": 139,
    "start_time": "2023-11-08T20:41:33.185Z"
   },
   {
    "duration": 39,
    "start_time": "2023-11-08T20:41:33.326Z"
   },
   {
    "duration": 81,
    "start_time": "2023-11-08T20:41:33.367Z"
   },
   {
    "duration": 332,
    "start_time": "2023-11-08T20:41:33.450Z"
   },
   {
    "duration": 70,
    "start_time": "2023-11-08T20:41:33.784Z"
   },
   {
    "duration": 77,
    "start_time": "2023-11-08T20:41:33.856Z"
   },
   {
    "duration": 18677,
    "start_time": "2023-11-08T20:41:33.935Z"
   },
   {
    "duration": 5,
    "start_time": "2023-11-08T20:41:52.615Z"
   },
   {
    "duration": 951,
    "start_time": "2023-11-08T20:41:52.622Z"
   },
   {
    "duration": 7,
    "start_time": "2023-11-08T20:41:53.575Z"
   },
   {
    "duration": 57,
    "start_time": "2023-11-08T20:41:53.584Z"
   },
   {
    "duration": 5,
    "start_time": "2023-11-08T20:41:53.643Z"
   },
   {
    "duration": 20,
    "start_time": "2023-11-08T20:41:53.649Z"
   },
   {
    "duration": 32,
    "start_time": "2023-11-08T20:41:53.670Z"
   },
   {
    "duration": 35,
    "start_time": "2023-11-08T20:41:53.704Z"
   },
   {
    "duration": 11,
    "start_time": "2023-11-08T20:41:53.741Z"
   },
   {
    "duration": 8,
    "start_time": "2023-11-08T20:41:53.754Z"
   },
   {
    "duration": 140,
    "start_time": "2023-11-08T20:41:53.764Z"
   },
   {
    "duration": 17,
    "start_time": "2023-11-08T20:41:53.906Z"
   },
   {
    "duration": 17,
    "start_time": "2023-11-08T20:41:53.924Z"
   },
   {
    "duration": 362,
    "start_time": "2023-11-08T20:41:53.943Z"
   },
   {
    "duration": 6,
    "start_time": "2023-11-08T20:41:54.307Z"
   },
   {
    "duration": 90,
    "start_time": "2023-11-08T20:41:54.314Z"
   },
   {
    "duration": 11,
    "start_time": "2023-11-08T20:41:54.406Z"
   },
   {
    "duration": 10,
    "start_time": "2023-11-08T20:41:54.418Z"
   },
   {
    "duration": 15,
    "start_time": "2023-11-08T20:41:54.432Z"
   },
   {
    "duration": 75,
    "start_time": "2023-11-08T20:41:54.448Z"
   },
   {
    "duration": 87,
    "start_time": "2023-11-08T20:41:54.525Z"
   },
   {
    "duration": 17,
    "start_time": "2023-11-08T20:41:54.614Z"
   },
   {
    "duration": 22,
    "start_time": "2023-11-08T20:41:54.632Z"
   },
   {
    "duration": 56,
    "start_time": "2023-11-08T20:41:54.656Z"
   },
   {
    "duration": 26,
    "start_time": "2023-11-08T20:41:54.716Z"
   },
   {
    "duration": 8,
    "start_time": "2023-11-08T20:41:54.744Z"
   },
   {
    "duration": 6,
    "start_time": "2023-11-08T20:41:54.755Z"
   },
   {
    "duration": 51,
    "start_time": "2023-11-08T20:41:54.763Z"
   },
   {
    "duration": 53,
    "start_time": "2023-11-08T20:41:54.817Z"
   },
   {
    "duration": 35,
    "start_time": "2023-11-08T20:41:54.873Z"
   },
   {
    "duration": 64,
    "start_time": "2023-11-08T20:41:54.910Z"
   },
   {
    "duration": 230,
    "start_time": "2023-11-08T20:41:54.976Z"
   },
   {
    "duration": 216,
    "start_time": "2023-11-08T20:41:55.208Z"
   },
   {
    "duration": 20,
    "start_time": "2023-11-08T20:41:55.426Z"
   },
   {
    "duration": 46,
    "start_time": "2023-11-08T20:41:55.448Z"
   },
   {
    "duration": 15,
    "start_time": "2023-11-08T20:41:55.495Z"
   },
   {
    "duration": 47,
    "start_time": "2023-11-08T20:41:55.512Z"
   },
   {
    "duration": 16,
    "start_time": "2023-11-08T20:41:55.561Z"
   },
   {
    "duration": 55,
    "start_time": "2023-11-08T20:41:55.601Z"
   },
   {
    "duration": 12,
    "start_time": "2023-11-08T20:41:55.658Z"
   },
   {
    "duration": 48,
    "start_time": "2023-11-08T20:41:55.672Z"
   },
   {
    "duration": 13,
    "start_time": "2023-11-08T20:41:55.722Z"
   },
   {
    "duration": 32,
    "start_time": "2023-11-08T20:41:55.737Z"
   },
   {
    "duration": 49,
    "start_time": "2023-11-08T20:41:55.770Z"
   },
   {
    "duration": 16,
    "start_time": "2023-11-08T20:41:55.820Z"
   },
   {
    "duration": 27,
    "start_time": "2023-11-08T20:41:55.838Z"
   },
   {
    "duration": 23,
    "start_time": "2023-11-08T20:41:55.867Z"
   },
   {
    "duration": 44,
    "start_time": "2023-11-08T20:41:55.892Z"
   },
   {
    "duration": 24,
    "start_time": "2023-11-08T20:41:55.938Z"
   },
   {
    "duration": 18,
    "start_time": "2023-11-08T20:41:55.963Z"
   },
   {
    "duration": 22,
    "start_time": "2023-11-08T20:41:55.983Z"
   },
   {
    "duration": 9,
    "start_time": "2023-11-08T20:41:56.007Z"
   },
   {
    "duration": 65,
    "start_time": "2023-11-08T20:41:56.018Z"
   },
   {
    "duration": 1565,
    "start_time": "2023-11-08T20:47:47.464Z"
   },
   {
    "duration": 764,
    "start_time": "2023-11-08T20:47:49.030Z"
   },
   {
    "duration": 139,
    "start_time": "2023-11-08T20:47:49.802Z"
   },
   {
    "duration": 32,
    "start_time": "2023-11-08T20:47:49.943Z"
   },
   {
    "duration": 78,
    "start_time": "2023-11-08T20:47:49.976Z"
   },
   {
    "duration": 358,
    "start_time": "2023-11-08T20:47:50.056Z"
   },
   {
    "duration": 60,
    "start_time": "2023-11-08T20:47:50.416Z"
   },
   {
    "duration": 62,
    "start_time": "2023-11-08T20:47:50.478Z"
   },
   {
    "duration": 19346,
    "start_time": "2023-11-08T20:47:50.543Z"
   },
   {
    "duration": 13,
    "start_time": "2023-11-08T20:48:09.891Z"
   },
   {
    "duration": 964,
    "start_time": "2023-11-08T20:48:09.906Z"
   },
   {
    "duration": 8,
    "start_time": "2023-11-08T20:48:10.872Z"
   },
   {
    "duration": 53,
    "start_time": "2023-11-08T20:48:10.881Z"
   },
   {
    "duration": 6,
    "start_time": "2023-11-08T20:48:10.936Z"
   },
   {
    "duration": 15,
    "start_time": "2023-11-08T20:48:10.944Z"
   },
   {
    "duration": 47,
    "start_time": "2023-11-08T20:48:10.961Z"
   },
   {
    "duration": 35,
    "start_time": "2023-11-08T20:48:11.010Z"
   },
   {
    "duration": 11,
    "start_time": "2023-11-08T20:48:11.047Z"
   },
   {
    "duration": 7,
    "start_time": "2023-11-08T20:48:11.061Z"
   },
   {
    "duration": 145,
    "start_time": "2023-11-08T20:48:11.070Z"
   },
   {
    "duration": 17,
    "start_time": "2023-11-08T20:48:11.217Z"
   },
   {
    "duration": 18,
    "start_time": "2023-11-08T20:48:11.235Z"
   },
   {
    "duration": 376,
    "start_time": "2023-11-08T20:48:11.255Z"
   },
   {
    "duration": 8,
    "start_time": "2023-11-08T20:48:11.632Z"
   },
   {
    "duration": 93,
    "start_time": "2023-11-08T20:48:11.642Z"
   },
   {
    "duration": 68,
    "start_time": "2023-11-08T20:48:11.737Z"
   },
   {
    "duration": 13,
    "start_time": "2023-11-08T20:48:11.810Z"
   },
   {
    "duration": 21,
    "start_time": "2023-11-08T20:48:11.824Z"
   },
   {
    "duration": 69,
    "start_time": "2023-11-08T20:48:11.846Z"
   },
   {
    "duration": 59,
    "start_time": "2023-11-08T20:48:11.917Z"
   },
   {
    "duration": 31,
    "start_time": "2023-11-08T20:48:11.978Z"
   },
   {
    "duration": 15,
    "start_time": "2023-11-08T20:48:12.010Z"
   },
   {
    "duration": 22,
    "start_time": "2023-11-08T20:48:12.027Z"
   },
   {
    "duration": 54,
    "start_time": "2023-11-08T20:48:12.051Z"
   },
   {
    "duration": 10,
    "start_time": "2023-11-08T20:48:12.107Z"
   },
   {
    "duration": 12,
    "start_time": "2023-11-08T20:48:12.119Z"
   },
   {
    "duration": 16,
    "start_time": "2023-11-08T20:48:12.133Z"
   },
   {
    "duration": 57,
    "start_time": "2023-11-08T20:48:12.151Z"
   },
   {
    "duration": 19,
    "start_time": "2023-11-08T20:48:12.210Z"
   },
   {
    "duration": 83,
    "start_time": "2023-11-08T20:48:12.231Z"
   },
   {
    "duration": 255,
    "start_time": "2023-11-08T20:48:12.315Z"
   },
   {
    "duration": 238,
    "start_time": "2023-11-08T20:48:12.573Z"
   },
   {
    "duration": 22,
    "start_time": "2023-11-08T20:48:12.814Z"
   },
   {
    "duration": 65,
    "start_time": "2023-11-08T20:48:12.838Z"
   },
   {
    "duration": 15,
    "start_time": "2023-11-08T20:48:12.905Z"
   },
   {
    "duration": 52,
    "start_time": "2023-11-08T20:48:12.922Z"
   },
   {
    "duration": 43,
    "start_time": "2023-11-08T20:48:12.976Z"
   },
   {
    "duration": 103,
    "start_time": "2023-11-08T20:48:13.020Z"
   },
   {
    "duration": 18,
    "start_time": "2023-11-08T20:48:13.125Z"
   },
   {
    "duration": 25,
    "start_time": "2023-11-08T20:48:13.145Z"
   },
   {
    "duration": 44,
    "start_time": "2023-11-08T20:48:13.172Z"
   },
   {
    "duration": 47,
    "start_time": "2023-11-08T20:48:13.218Z"
   },
   {
    "duration": 61,
    "start_time": "2023-11-08T20:48:13.267Z"
   },
   {
    "duration": 14,
    "start_time": "2023-11-08T20:48:13.330Z"
   },
   {
    "duration": 19,
    "start_time": "2023-11-08T20:48:13.346Z"
   },
   {
    "duration": 42,
    "start_time": "2023-11-08T20:48:13.367Z"
   },
   {
    "duration": 28,
    "start_time": "2023-11-08T20:48:13.412Z"
   },
   {
    "duration": 29,
    "start_time": "2023-11-08T20:48:13.442Z"
   },
   {
    "duration": 49,
    "start_time": "2023-11-08T20:48:13.473Z"
   },
   {
    "duration": 8,
    "start_time": "2023-11-08T20:48:13.525Z"
   },
   {
    "duration": 19,
    "start_time": "2023-11-08T20:48:13.535Z"
   },
   {
    "duration": 83,
    "start_time": "2023-11-08T20:48:13.556Z"
   },
   {
    "duration": 46,
    "start_time": "2023-11-08T20:49:26.589Z"
   },
   {
    "duration": 1508,
    "start_time": "2023-11-08T20:49:32.611Z"
   },
   {
    "duration": 1044,
    "start_time": "2023-11-08T20:49:34.121Z"
   },
   {
    "duration": 146,
    "start_time": "2023-11-08T20:49:35.167Z"
   },
   {
    "duration": 50,
    "start_time": "2023-11-08T20:49:35.315Z"
   },
   {
    "duration": 89,
    "start_time": "2023-11-08T20:49:35.368Z"
   },
   {
    "duration": 348,
    "start_time": "2023-11-08T20:49:35.459Z"
   },
   {
    "duration": 62,
    "start_time": "2023-11-08T20:49:35.809Z"
   },
   {
    "duration": 80,
    "start_time": "2023-11-08T20:49:35.873Z"
   },
   {
    "duration": 19259,
    "start_time": "2023-11-08T20:49:35.955Z"
   },
   {
    "duration": 7,
    "start_time": "2023-11-08T20:49:55.216Z"
   },
   {
    "duration": 989,
    "start_time": "2023-11-08T20:49:55.225Z"
   },
   {
    "duration": 8,
    "start_time": "2023-11-08T20:49:56.216Z"
   },
   {
    "duration": 88,
    "start_time": "2023-11-08T20:49:56.226Z"
   },
   {
    "duration": 10,
    "start_time": "2023-11-08T20:49:56.318Z"
   },
   {
    "duration": 24,
    "start_time": "2023-11-08T20:49:56.330Z"
   },
   {
    "duration": 21,
    "start_time": "2023-11-08T20:49:56.356Z"
   },
   {
    "duration": 68,
    "start_time": "2023-11-08T20:49:56.379Z"
   },
   {
    "duration": 13,
    "start_time": "2023-11-08T20:49:56.448Z"
   },
   {
    "duration": 8,
    "start_time": "2023-11-08T20:49:56.462Z"
   },
   {
    "duration": 149,
    "start_time": "2023-11-08T20:49:56.471Z"
   },
   {
    "duration": 17,
    "start_time": "2023-11-08T20:49:56.622Z"
   },
   {
    "duration": 18,
    "start_time": "2023-11-08T20:49:56.641Z"
   },
   {
    "duration": 364,
    "start_time": "2023-11-08T20:49:56.661Z"
   },
   {
    "duration": 7,
    "start_time": "2023-11-08T20:49:57.027Z"
   },
   {
    "duration": 97,
    "start_time": "2023-11-08T20:49:57.036Z"
   },
   {
    "duration": 66,
    "start_time": "2023-11-08T20:49:57.136Z"
   },
   {
    "duration": 12,
    "start_time": "2023-11-08T20:49:57.203Z"
   },
   {
    "duration": 26,
    "start_time": "2023-11-08T20:49:57.217Z"
   },
   {
    "duration": 31,
    "start_time": "2023-11-08T20:49:57.245Z"
   },
   {
    "duration": 59,
    "start_time": "2023-11-08T20:49:57.305Z"
   },
   {
    "duration": 15,
    "start_time": "2023-11-08T20:49:57.365Z"
   },
   {
    "duration": 32,
    "start_time": "2023-11-08T20:49:57.382Z"
   },
   {
    "duration": 23,
    "start_time": "2023-11-08T20:49:57.416Z"
   },
   {
    "duration": 21,
    "start_time": "2023-11-08T20:49:57.441Z"
   },
   {
    "duration": 45,
    "start_time": "2023-11-08T20:49:57.463Z"
   },
   {
    "duration": 6,
    "start_time": "2023-11-08T20:49:57.510Z"
   },
   {
    "duration": 26,
    "start_time": "2023-11-08T20:49:57.518Z"
   },
   {
    "duration": 50,
    "start_time": "2023-11-08T20:49:57.547Z"
   },
   {
    "duration": 21,
    "start_time": "2023-11-08T20:49:57.599Z"
   },
   {
    "duration": 58,
    "start_time": "2023-11-08T20:49:57.622Z"
   },
   {
    "duration": 227,
    "start_time": "2023-11-08T20:49:57.684Z"
   },
   {
    "duration": 212,
    "start_time": "2023-11-08T20:49:57.912Z"
   },
   {
    "duration": 22,
    "start_time": "2023-11-08T20:49:58.125Z"
   },
   {
    "duration": 30,
    "start_time": "2023-11-08T20:49:58.148Z"
   },
   {
    "duration": 12,
    "start_time": "2023-11-08T20:49:58.202Z"
   },
   {
    "duration": 60,
    "start_time": "2023-11-08T20:49:58.216Z"
   },
   {
    "duration": 31,
    "start_time": "2023-11-08T20:49:58.278Z"
   },
   {
    "duration": 99,
    "start_time": "2023-11-08T20:49:58.311Z"
   },
   {
    "duration": 17,
    "start_time": "2023-11-08T20:49:58.412Z"
   },
   {
    "duration": 42,
    "start_time": "2023-11-08T20:49:58.431Z"
   },
   {
    "duration": 13,
    "start_time": "2023-11-08T20:49:58.475Z"
   },
   {
    "duration": 61,
    "start_time": "2023-11-08T20:49:58.489Z"
   },
   {
    "duration": 53,
    "start_time": "2023-11-08T20:49:58.551Z"
   },
   {
    "duration": 15,
    "start_time": "2023-11-08T20:49:58.606Z"
   },
   {
    "duration": 17,
    "start_time": "2023-11-08T20:49:58.623Z"
   },
   {
    "duration": 18,
    "start_time": "2023-11-08T20:49:58.641Z"
   },
   {
    "duration": 58,
    "start_time": "2023-11-08T20:49:58.662Z"
   },
   {
    "duration": 51,
    "start_time": "2023-11-08T20:49:58.723Z"
   },
   {
    "duration": 32,
    "start_time": "2023-11-08T20:49:58.776Z"
   },
   {
    "duration": 9,
    "start_time": "2023-11-08T20:49:58.811Z"
   },
   {
    "duration": 21,
    "start_time": "2023-11-08T20:49:58.822Z"
   },
   {
    "duration": 78,
    "start_time": "2023-11-08T20:49:58.845Z"
   },
   {
    "duration": 46,
    "start_time": "2023-11-08T20:50:25.847Z"
   },
   {
    "duration": 8,
    "start_time": "2023-11-08T20:51:03.626Z"
   },
   {
    "duration": 9,
    "start_time": "2023-11-08T20:51:07.376Z"
   },
   {
    "duration": 9,
    "start_time": "2023-11-08T20:51:10.181Z"
   },
   {
    "duration": 46,
    "start_time": "2023-11-08T20:51:21.007Z"
   },
   {
    "duration": 47,
    "start_time": "2023-11-08T20:51:35.014Z"
   },
   {
    "duration": 48,
    "start_time": "2023-11-08T20:52:02.805Z"
   },
   {
    "duration": 56,
    "start_time": "2023-11-08T20:56:06.174Z"
   },
   {
    "duration": 2273,
    "start_time": "2023-11-09T05:36:36.878Z"
   },
   {
    "duration": 863,
    "start_time": "2023-11-09T05:36:39.156Z"
   },
   {
    "duration": 143,
    "start_time": "2023-11-09T05:36:40.020Z"
   },
   {
    "duration": 43,
    "start_time": "2023-11-09T05:36:40.167Z"
   },
   {
    "duration": 71,
    "start_time": "2023-11-09T05:36:40.212Z"
   },
   {
    "duration": 359,
    "start_time": "2023-11-09T05:36:40.284Z"
   },
   {
    "duration": 76,
    "start_time": "2023-11-09T05:36:40.644Z"
   },
   {
    "duration": 66,
    "start_time": "2023-11-09T05:36:40.722Z"
   },
   {
    "duration": 20780,
    "start_time": "2023-11-09T05:36:40.790Z"
   },
   {
    "duration": 10,
    "start_time": "2023-11-09T05:37:01.572Z"
   },
   {
    "duration": 1117,
    "start_time": "2023-11-09T05:37:01.583Z"
   },
   {
    "duration": 8,
    "start_time": "2023-11-09T05:37:02.702Z"
   },
   {
    "duration": 44,
    "start_time": "2023-11-09T05:37:02.713Z"
   },
   {
    "duration": 24,
    "start_time": "2023-11-09T05:37:02.758Z"
   },
   {
    "duration": 17,
    "start_time": "2023-11-09T05:37:02.784Z"
   },
   {
    "duration": 16,
    "start_time": "2023-11-09T05:37:02.802Z"
   },
   {
    "duration": 63,
    "start_time": "2023-11-09T05:37:02.820Z"
   },
   {
    "duration": 13,
    "start_time": "2023-11-09T05:37:02.885Z"
   },
   {
    "duration": 77,
    "start_time": "2023-11-09T05:37:02.899Z"
   },
   {
    "duration": 252,
    "start_time": "2023-11-09T05:37:02.978Z"
   },
   {
    "duration": 18,
    "start_time": "2023-11-09T05:37:03.232Z"
   },
   {
    "duration": 30,
    "start_time": "2023-11-09T05:37:03.252Z"
   },
   {
    "duration": 528,
    "start_time": "2023-11-09T05:37:03.284Z"
   },
   {
    "duration": 9,
    "start_time": "2023-11-09T05:37:03.814Z"
   },
   {
    "duration": 94,
    "start_time": "2023-11-09T05:37:03.825Z"
   },
   {
    "duration": 12,
    "start_time": "2023-11-09T05:37:03.920Z"
   },
   {
    "duration": 23,
    "start_time": "2023-11-09T05:37:03.980Z"
   },
   {
    "duration": 36,
    "start_time": "2023-11-09T05:37:04.005Z"
   },
   {
    "duration": 21,
    "start_time": "2023-11-09T05:37:04.043Z"
   },
   {
    "duration": 74,
    "start_time": "2023-11-09T05:37:04.066Z"
   },
   {
    "duration": 22,
    "start_time": "2023-11-09T05:37:04.142Z"
   },
   {
    "duration": 31,
    "start_time": "2023-11-09T05:37:04.166Z"
   },
   {
    "duration": 27,
    "start_time": "2023-11-09T05:37:04.199Z"
   },
   {
    "duration": 53,
    "start_time": "2023-11-09T05:37:04.228Z"
   },
   {
    "duration": 10,
    "start_time": "2023-11-09T05:37:04.284Z"
   },
   {
    "duration": 10,
    "start_time": "2023-11-09T05:37:04.296Z"
   },
   {
    "duration": 22,
    "start_time": "2023-11-09T05:37:04.308Z"
   },
   {
    "duration": 76,
    "start_time": "2023-11-09T05:37:04.332Z"
   },
   {
    "duration": 15,
    "start_time": "2023-11-09T05:37:04.410Z"
   },
   {
    "duration": 98,
    "start_time": "2023-11-09T05:37:04.429Z"
   },
   {
    "duration": 232,
    "start_time": "2023-11-09T05:37:04.529Z"
   },
   {
    "duration": 271,
    "start_time": "2023-11-09T05:37:04.762Z"
   },
   {
    "duration": 25,
    "start_time": "2023-11-09T05:37:05.035Z"
   },
   {
    "duration": 44,
    "start_time": "2023-11-09T05:37:05.062Z"
   },
   {
    "duration": 12,
    "start_time": "2023-11-09T05:37:05.108Z"
   },
   {
    "duration": 117,
    "start_time": "2023-11-09T05:37:05.122Z"
   },
   {
    "duration": 23,
    "start_time": "2023-11-09T05:37:05.242Z"
   },
   {
    "duration": 67,
    "start_time": "2023-11-09T05:37:05.268Z"
   },
   {
    "duration": 12,
    "start_time": "2023-11-09T05:37:05.337Z"
   },
   {
    "duration": 41,
    "start_time": "2023-11-09T05:37:05.350Z"
   },
   {
    "duration": 13,
    "start_time": "2023-11-09T05:37:05.393Z"
   },
   {
    "duration": 47,
    "start_time": "2023-11-09T05:37:05.408Z"
   },
   {
    "duration": 58,
    "start_time": "2023-11-09T05:37:05.457Z"
   },
   {
    "duration": 19,
    "start_time": "2023-11-09T05:37:05.517Z"
   },
   {
    "duration": 7,
    "start_time": "2023-11-09T05:37:05.537Z"
   },
   {
    "duration": 35,
    "start_time": "2023-11-09T05:37:05.546Z"
   },
   {
    "duration": 80,
    "start_time": "2023-11-09T05:37:05.583Z"
   },
   {
    "duration": 1898,
    "start_time": "2023-11-09T10:06:44.383Z"
   },
   {
    "duration": 1193,
    "start_time": "2023-11-09T10:06:46.283Z"
   },
   {
    "duration": 177,
    "start_time": "2023-11-09T10:06:47.479Z"
   },
   {
    "duration": 34,
    "start_time": "2023-11-09T10:06:47.658Z"
   },
   {
    "duration": 77,
    "start_time": "2023-11-09T10:06:47.693Z"
   },
   {
    "duration": 327,
    "start_time": "2023-11-09T10:06:47.772Z"
   },
   {
    "duration": 67,
    "start_time": "2023-11-09T10:06:48.101Z"
   },
   {
    "duration": 44,
    "start_time": "2023-11-09T10:06:48.170Z"
   },
   {
    "duration": 21637,
    "start_time": "2023-11-09T10:06:48.216Z"
   },
   {
    "duration": 6,
    "start_time": "2023-11-09T10:07:09.856Z"
   },
   {
    "duration": 1091,
    "start_time": "2023-11-09T10:07:09.864Z"
   },
   {
    "duration": 9,
    "start_time": "2023-11-09T10:07:10.957Z"
   },
   {
    "duration": 83,
    "start_time": "2023-11-09T10:07:10.968Z"
   },
   {
    "duration": 6,
    "start_time": "2023-11-09T10:07:11.053Z"
   },
   {
    "duration": 27,
    "start_time": "2023-11-09T10:07:11.061Z"
   },
   {
    "duration": 29,
    "start_time": "2023-11-09T10:07:11.090Z"
   },
   {
    "duration": 50,
    "start_time": "2023-11-09T10:07:11.121Z"
   },
   {
    "duration": 13,
    "start_time": "2023-11-09T10:07:11.173Z"
   },
   {
    "duration": 19,
    "start_time": "2023-11-09T10:07:11.188Z"
   },
   {
    "duration": 140,
    "start_time": "2023-11-09T10:07:11.208Z"
   },
   {
    "duration": 19,
    "start_time": "2023-11-09T10:07:11.350Z"
   },
   {
    "duration": 20,
    "start_time": "2023-11-09T10:07:11.370Z"
   },
   {
    "duration": 403,
    "start_time": "2023-11-09T10:07:11.392Z"
   },
   {
    "duration": 8,
    "start_time": "2023-11-09T10:07:11.797Z"
   },
   {
    "duration": 84,
    "start_time": "2023-11-09T10:07:11.807Z"
   },
   {
    "duration": 12,
    "start_time": "2023-11-09T10:07:11.948Z"
   },
   {
    "duration": 11,
    "start_time": "2023-11-09T10:07:11.962Z"
   },
   {
    "duration": 17,
    "start_time": "2023-11-09T10:07:11.978Z"
   },
   {
    "duration": 60,
    "start_time": "2023-11-09T10:07:11.997Z"
   },
   {
    "duration": 64,
    "start_time": "2023-11-09T10:07:12.059Z"
   },
   {
    "duration": 13,
    "start_time": "2023-11-09T10:07:12.146Z"
   },
   {
    "duration": 17,
    "start_time": "2023-11-09T10:07:12.161Z"
   },
   {
    "duration": 23,
    "start_time": "2023-11-09T10:07:12.179Z"
   },
   {
    "duration": 48,
    "start_time": "2023-11-09T10:07:12.204Z"
   },
   {
    "duration": 8,
    "start_time": "2023-11-09T10:07:12.254Z"
   },
   {
    "duration": 5,
    "start_time": "2023-11-09T10:07:12.264Z"
   },
   {
    "duration": 18,
    "start_time": "2023-11-09T10:07:12.270Z"
   },
   {
    "duration": 71,
    "start_time": "2023-11-09T10:07:12.290Z"
   },
   {
    "duration": 16,
    "start_time": "2023-11-09T10:07:12.363Z"
   },
   {
    "duration": 79,
    "start_time": "2023-11-09T10:07:12.381Z"
   },
   {
    "duration": 224,
    "start_time": "2023-11-09T10:07:12.462Z"
   },
   {
    "duration": 232,
    "start_time": "2023-11-09T10:07:12.688Z"
   },
   {
    "duration": 28,
    "start_time": "2023-11-09T10:07:12.922Z"
   },
   {
    "duration": 47,
    "start_time": "2023-11-09T10:07:12.953Z"
   },
   {
    "duration": 13,
    "start_time": "2023-11-09T10:07:13.002Z"
   },
   {
    "duration": 85,
    "start_time": "2023-11-09T10:07:13.017Z"
   },
   {
    "duration": 23,
    "start_time": "2023-11-09T10:07:13.103Z"
   },
   {
    "duration": 66,
    "start_time": "2023-11-09T10:07:13.128Z"
   },
   {
    "duration": 13,
    "start_time": "2023-11-09T10:07:13.196Z"
   },
   {
    "duration": 40,
    "start_time": "2023-11-09T10:07:13.211Z"
   },
   {
    "duration": 29,
    "start_time": "2023-11-09T10:07:13.253Z"
   },
   {
    "duration": 54,
    "start_time": "2023-11-09T10:07:13.284Z"
   },
   {
    "duration": 39,
    "start_time": "2023-11-09T10:07:13.339Z"
   },
   {
    "duration": 20,
    "start_time": "2023-11-09T10:07:13.380Z"
   },
   {
    "duration": 10,
    "start_time": "2023-11-09T10:07:13.402Z"
   },
   {
    "duration": 33,
    "start_time": "2023-11-09T10:07:13.414Z"
   },
   {
    "duration": 79,
    "start_time": "2023-11-09T10:07:13.449Z"
   },
   {
    "duration": 17,
    "start_time": "2023-11-09T10:17:00.547Z"
   },
   {
    "duration": 16,
    "start_time": "2023-11-09T10:17:09.593Z"
   },
   {
    "duration": 1899,
    "start_time": "2023-11-09T17:18:04.554Z"
   },
   {
    "duration": 1099,
    "start_time": "2023-11-09T17:18:06.455Z"
   },
   {
    "duration": 129,
    "start_time": "2023-11-09T17:18:07.556Z"
   },
   {
    "duration": 43,
    "start_time": "2023-11-09T17:18:07.687Z"
   },
   {
    "duration": 127,
    "start_time": "2023-11-09T17:18:07.733Z"
   },
   {
    "duration": 333,
    "start_time": "2023-11-09T17:18:07.862Z"
   },
   {
    "duration": 76,
    "start_time": "2023-11-09T17:18:08.196Z"
   },
   {
    "duration": 133,
    "start_time": "2023-11-09T17:18:08.274Z"
   },
   {
    "duration": 19973,
    "start_time": "2023-11-09T17:18:08.408Z"
   },
   {
    "duration": 5,
    "start_time": "2023-11-09T17:18:28.385Z"
   },
   {
    "duration": 1126,
    "start_time": "2023-11-09T17:18:28.391Z"
   },
   {
    "duration": 12,
    "start_time": "2023-11-09T17:18:29.519Z"
   },
   {
    "duration": 96,
    "start_time": "2023-11-09T17:18:29.532Z"
   },
   {
    "duration": 5,
    "start_time": "2023-11-09T17:18:29.630Z"
   },
   {
    "duration": 30,
    "start_time": "2023-11-09T17:18:29.636Z"
   },
   {
    "duration": 18,
    "start_time": "2023-11-09T17:18:29.667Z"
   },
   {
    "duration": 53,
    "start_time": "2023-11-09T17:18:29.686Z"
   },
   {
    "duration": 11,
    "start_time": "2023-11-09T17:18:29.742Z"
   },
   {
    "duration": 16,
    "start_time": "2023-11-09T17:18:29.754Z"
   },
   {
    "duration": 162,
    "start_time": "2023-11-09T17:18:29.772Z"
   },
   {
    "duration": 17,
    "start_time": "2023-11-09T17:18:29.936Z"
   },
   {
    "duration": 19,
    "start_time": "2023-11-09T17:18:29.955Z"
   },
   {
    "duration": 3747,
    "start_time": "2023-11-09T17:18:29.976Z"
   },
   {
    "duration": 6,
    "start_time": "2023-11-09T17:18:33.724Z"
   },
   {
    "duration": 447,
    "start_time": "2023-11-09T17:18:33.732Z"
   },
   {
    "duration": 224,
    "start_time": "2023-11-09T17:18:34.181Z"
   },
   {
    "duration": 41,
    "start_time": "2023-11-09T17:18:34.407Z"
   },
   {
    "duration": 49,
    "start_time": "2023-11-09T17:18:34.451Z"
   },
   {
    "duration": 29,
    "start_time": "2023-11-09T17:18:34.502Z"
   },
   {
    "duration": 101,
    "start_time": "2023-11-09T17:18:34.532Z"
   },
   {
    "duration": 56,
    "start_time": "2023-11-09T17:18:34.635Z"
   },
   {
    "duration": 18,
    "start_time": "2023-11-09T17:18:34.693Z"
   },
   {
    "duration": 32,
    "start_time": "2023-11-09T17:18:34.713Z"
   },
   {
    "duration": 67,
    "start_time": "2023-11-09T17:18:34.748Z"
   },
   {
    "duration": 71,
    "start_time": "2023-11-09T17:18:34.817Z"
   },
   {
    "duration": 48,
    "start_time": "2023-11-09T17:18:34.890Z"
   },
   {
    "duration": 79,
    "start_time": "2023-11-09T17:18:34.940Z"
   },
   {
    "duration": 88,
    "start_time": "2023-11-09T17:18:35.020Z"
   },
   {
    "duration": 27,
    "start_time": "2023-11-09T17:18:35.109Z"
   },
   {
    "duration": 53,
    "start_time": "2023-11-09T17:18:35.138Z"
   },
   {
    "duration": 246,
    "start_time": "2023-11-09T17:18:35.193Z"
   },
   {
    "duration": 218,
    "start_time": "2023-11-09T17:18:35.441Z"
   },
   {
    "duration": 20,
    "start_time": "2023-11-09T17:18:35.661Z"
   },
   {
    "duration": 48,
    "start_time": "2023-11-09T17:18:35.683Z"
   },
   {
    "duration": 75,
    "start_time": "2023-11-09T17:18:35.736Z"
   },
   {
    "duration": 77,
    "start_time": "2023-11-09T17:18:35.813Z"
   },
   {
    "duration": 36,
    "start_time": "2023-11-09T17:18:35.892Z"
   },
   {
    "duration": 78,
    "start_time": "2023-11-09T17:18:35.930Z"
   },
   {
    "duration": 18,
    "start_time": "2023-11-09T17:18:36.023Z"
   },
   {
    "duration": 139,
    "start_time": "2023-11-09T17:18:36.043Z"
   },
   {
    "duration": 26,
    "start_time": "2023-11-09T17:18:36.185Z"
   },
   {
    "duration": 51,
    "start_time": "2023-11-09T17:18:36.213Z"
   },
   {
    "duration": 56,
    "start_time": "2023-11-09T17:18:36.267Z"
   },
   {
    "duration": 19,
    "start_time": "2023-11-09T17:18:36.326Z"
   },
   {
    "duration": 26,
    "start_time": "2023-11-09T17:18:36.347Z"
   },
   {
    "duration": 32,
    "start_time": "2023-11-09T17:18:36.374Z"
   },
   {
    "duration": 71,
    "start_time": "2023-11-09T17:18:36.408Z"
   },
   {
    "duration": 16,
    "start_time": "2023-11-09T17:20:06.299Z"
   },
   {
    "duration": 54,
    "start_time": "2023-11-09T17:20:10.592Z"
   },
   {
    "duration": 33,
    "start_time": "2023-11-09T17:24:33.367Z"
   },
   {
    "duration": 5,
    "start_time": "2023-11-09T17:25:05.934Z"
   },
   {
    "duration": 6,
    "start_time": "2023-11-09T17:25:12.659Z"
   },
   {
    "duration": 31,
    "start_time": "2023-11-09T17:25:51.904Z"
   },
   {
    "duration": 188,
    "start_time": "2023-11-09T17:26:45.871Z"
   },
   {
    "duration": 10,
    "start_time": "2023-11-09T17:26:52.184Z"
   },
   {
    "duration": 12,
    "start_time": "2023-11-09T17:26:58.603Z"
   },
   {
    "duration": 18,
    "start_time": "2023-11-09T18:39:39.453Z"
   },
   {
    "duration": 17,
    "start_time": "2023-11-09T18:39:44.741Z"
   },
   {
    "duration": 57,
    "start_time": "2023-11-09T18:40:36.446Z"
   },
   {
    "duration": 19,
    "start_time": "2023-11-09T18:41:24.641Z"
   },
   {
    "duration": 15,
    "start_time": "2023-11-09T18:42:34.470Z"
   },
   {
    "duration": 15,
    "start_time": "2023-11-09T18:42:42.538Z"
   },
   {
    "duration": 24,
    "start_time": "2023-11-09T18:42:52.533Z"
   },
   {
    "duration": 13,
    "start_time": "2023-11-09T18:43:06.055Z"
   },
   {
    "duration": 16,
    "start_time": "2023-11-09T18:43:18.891Z"
   },
   {
    "duration": 27,
    "start_time": "2023-11-09T18:43:24.744Z"
   },
   {
    "duration": 11,
    "start_time": "2023-11-09T19:06:54.407Z"
   },
   {
    "duration": 17,
    "start_time": "2023-11-09T19:07:07.051Z"
   },
   {
    "duration": 18,
    "start_time": "2023-11-09T19:07:48.507Z"
   },
   {
    "duration": 17,
    "start_time": "2023-11-09T19:20:37.055Z"
   },
   {
    "duration": 1575,
    "start_time": "2023-11-09T19:20:45.245Z"
   },
   {
    "duration": 740,
    "start_time": "2023-11-09T19:20:46.822Z"
   },
   {
    "duration": 137,
    "start_time": "2023-11-09T19:20:47.564Z"
   },
   {
    "duration": 38,
    "start_time": "2023-11-09T19:20:47.703Z"
   },
   {
    "duration": 47,
    "start_time": "2023-11-09T19:20:47.743Z"
   },
   {
    "duration": 356,
    "start_time": "2023-11-09T19:20:47.792Z"
   },
   {
    "duration": 58,
    "start_time": "2023-11-09T19:20:48.150Z"
   },
   {
    "duration": 49,
    "start_time": "2023-11-09T19:20:48.223Z"
   },
   {
    "duration": 18407,
    "start_time": "2023-11-09T19:20:48.274Z"
   },
   {
    "duration": 5,
    "start_time": "2023-11-09T19:21:06.685Z"
   },
   {
    "duration": 984,
    "start_time": "2023-11-09T19:21:06.691Z"
   },
   {
    "duration": 7,
    "start_time": "2023-11-09T19:21:07.677Z"
   },
   {
    "duration": 58,
    "start_time": "2023-11-09T19:21:07.685Z"
   },
   {
    "duration": 4,
    "start_time": "2023-11-09T19:21:07.745Z"
   },
   {
    "duration": 35,
    "start_time": "2023-11-09T19:21:07.751Z"
   },
   {
    "duration": 14,
    "start_time": "2023-11-09T19:21:07.788Z"
   },
   {
    "duration": 41,
    "start_time": "2023-11-09T19:21:07.803Z"
   },
   {
    "duration": 11,
    "start_time": "2023-11-09T19:21:07.846Z"
   },
   {
    "duration": 9,
    "start_time": "2023-11-09T19:21:07.858Z"
   },
   {
    "duration": 133,
    "start_time": "2023-11-09T19:21:07.869Z"
   },
   {
    "duration": 25,
    "start_time": "2023-11-09T19:21:08.003Z"
   },
   {
    "duration": 16,
    "start_time": "2023-11-09T19:21:08.030Z"
   },
   {
    "duration": 343,
    "start_time": "2023-11-09T19:21:08.048Z"
   },
   {
    "duration": 7,
    "start_time": "2023-11-09T19:21:08.392Z"
   },
   {
    "duration": 55,
    "start_time": "2023-11-09T19:21:08.400Z"
   },
   {
    "duration": 11,
    "start_time": "2023-11-09T19:21:08.456Z"
   },
   {
    "duration": 11,
    "start_time": "2023-11-09T19:21:08.523Z"
   },
   {
    "duration": 25,
    "start_time": "2023-11-09T19:21:08.538Z"
   },
   {
    "duration": 21,
    "start_time": "2023-11-09T19:21:08.565Z"
   },
   {
    "duration": 82,
    "start_time": "2023-11-09T19:21:08.587Z"
   },
   {
    "duration": 11,
    "start_time": "2023-11-09T19:21:08.671Z"
   },
   {
    "duration": 16,
    "start_time": "2023-11-09T19:21:08.684Z"
   },
   {
    "duration": 41,
    "start_time": "2023-11-09T19:21:08.702Z"
   },
   {
    "duration": 20,
    "start_time": "2023-11-09T19:21:08.744Z"
   },
   {
    "duration": 8,
    "start_time": "2023-11-09T19:21:08.765Z"
   },
   {
    "duration": 42,
    "start_time": "2023-11-09T19:21:08.774Z"
   },
   {
    "duration": 64,
    "start_time": "2023-11-09T19:21:08.817Z"
   },
   {
    "duration": 40,
    "start_time": "2023-11-09T19:21:08.883Z"
   },
   {
    "duration": 15,
    "start_time": "2023-11-09T19:21:08.925Z"
   },
   {
    "duration": 59,
    "start_time": "2023-11-09T19:21:08.942Z"
   },
   {
    "duration": 112,
    "start_time": "2023-11-09T19:21:09.003Z"
   },
   {
    "duration": 167,
    "start_time": "2023-11-09T19:21:09.117Z"
   },
   {
    "duration": 239,
    "start_time": "2023-11-09T19:21:09.286Z"
   },
   {
    "duration": 219,
    "start_time": "2023-11-09T19:21:09.527Z"
   },
   {
    "duration": 20,
    "start_time": "2023-11-09T19:21:09.748Z"
   },
   {
    "duration": 61,
    "start_time": "2023-11-09T19:21:09.770Z"
   },
   {
    "duration": 11,
    "start_time": "2023-11-09T19:21:09.833Z"
   },
   {
    "duration": 53,
    "start_time": "2023-11-09T19:21:09.846Z"
   },
   {
    "duration": 37,
    "start_time": "2023-11-09T19:21:09.901Z"
   },
   {
    "duration": 51,
    "start_time": "2023-11-09T19:21:09.939Z"
   },
   {
    "duration": 12,
    "start_time": "2023-11-09T19:21:09.991Z"
   },
   {
    "duration": 23,
    "start_time": "2023-11-09T19:21:10.023Z"
   },
   {
    "duration": 15,
    "start_time": "2023-11-09T19:21:10.047Z"
   },
   {
    "duration": 62,
    "start_time": "2023-11-09T19:21:10.064Z"
   },
   {
    "duration": 31,
    "start_time": "2023-11-09T19:21:10.128Z"
   },
   {
    "duration": 23,
    "start_time": "2023-11-09T19:21:10.161Z"
   },
   {
    "duration": 18,
    "start_time": "2023-11-09T19:21:10.185Z"
   },
   {
    "duration": 12,
    "start_time": "2023-11-09T19:21:10.205Z"
   },
   {
    "duration": 63,
    "start_time": "2023-11-09T19:21:10.224Z"
   },
   {
    "duration": 18,
    "start_time": "2023-11-09T19:22:01.969Z"
   },
   {
    "duration": 189,
    "start_time": "2023-11-09T19:22:19.442Z"
   },
   {
    "duration": 21,
    "start_time": "2023-11-09T19:23:03.101Z"
   },
   {
    "duration": 25,
    "start_time": "2023-11-09T19:25:00.438Z"
   },
   {
    "duration": 22,
    "start_time": "2023-11-09T19:25:13.568Z"
   },
   {
    "duration": 23,
    "start_time": "2023-11-09T19:26:42.689Z"
   },
   {
    "duration": 12,
    "start_time": "2023-11-09T19:27:36.504Z"
   },
   {
    "duration": 13,
    "start_time": "2023-11-09T19:27:51.241Z"
   },
   {
    "duration": 13,
    "start_time": "2023-11-09T19:27:58.972Z"
   },
   {
    "duration": 16,
    "start_time": "2023-11-09T19:28:15.288Z"
   },
   {
    "duration": 54,
    "start_time": "2023-11-09T19:28:20.457Z"
   },
   {
    "duration": 12,
    "start_time": "2023-11-09T19:32:50.800Z"
   },
   {
    "duration": 15,
    "start_time": "2023-11-09T19:33:21.816Z"
   },
   {
    "duration": 12,
    "start_time": "2023-11-09T19:33:38.116Z"
   },
   {
    "duration": 9,
    "start_time": "2023-11-09T19:33:49.492Z"
   },
   {
    "duration": 5,
    "start_time": "2023-11-09T19:34:10.995Z"
   },
   {
    "duration": 17,
    "start_time": "2023-11-09T19:34:34.608Z"
   },
   {
    "duration": 10,
    "start_time": "2023-11-09T19:35:03.439Z"
   },
   {
    "duration": 5,
    "start_time": "2023-11-09T19:37:15.049Z"
   },
   {
    "duration": 10,
    "start_time": "2023-11-09T19:37:27.723Z"
   },
   {
    "duration": 13,
    "start_time": "2023-11-09T19:37:47.403Z"
   },
   {
    "duration": 98,
    "start_time": "2023-11-10T05:52:10.645Z"
   },
   {
    "duration": 0,
    "start_time": "2023-11-10T05:52:10.745Z"
   },
   {
    "duration": 0,
    "start_time": "2023-11-10T05:52:10.747Z"
   },
   {
    "duration": 0,
    "start_time": "2023-11-10T05:52:10.747Z"
   },
   {
    "duration": 0,
    "start_time": "2023-11-10T05:52:10.748Z"
   },
   {
    "duration": 0,
    "start_time": "2023-11-10T05:52:10.750Z"
   },
   {
    "duration": 0,
    "start_time": "2023-11-10T05:52:10.751Z"
   },
   {
    "duration": 0,
    "start_time": "2023-11-10T05:52:10.752Z"
   },
   {
    "duration": 0,
    "start_time": "2023-11-10T05:52:10.753Z"
   },
   {
    "duration": 0,
    "start_time": "2023-11-10T05:52:10.754Z"
   },
   {
    "duration": 0,
    "start_time": "2023-11-10T05:52:10.755Z"
   },
   {
    "duration": 0,
    "start_time": "2023-11-10T05:52:10.756Z"
   },
   {
    "duration": 0,
    "start_time": "2023-11-10T05:52:10.757Z"
   },
   {
    "duration": 0,
    "start_time": "2023-11-10T05:52:10.758Z"
   },
   {
    "duration": 0,
    "start_time": "2023-11-10T05:52:10.759Z"
   },
   {
    "duration": 0,
    "start_time": "2023-11-10T05:52:10.760Z"
   },
   {
    "duration": 0,
    "start_time": "2023-11-10T05:52:10.761Z"
   },
   {
    "duration": 0,
    "start_time": "2023-11-10T05:52:10.762Z"
   },
   {
    "duration": 0,
    "start_time": "2023-11-10T05:52:10.763Z"
   },
   {
    "duration": 0,
    "start_time": "2023-11-10T05:52:10.764Z"
   },
   {
    "duration": 0,
    "start_time": "2023-11-10T05:52:10.766Z"
   },
   {
    "duration": 0,
    "start_time": "2023-11-10T05:52:10.766Z"
   },
   {
    "duration": 0,
    "start_time": "2023-11-10T05:52:10.767Z"
   },
   {
    "duration": 0,
    "start_time": "2023-11-10T05:52:10.769Z"
   },
   {
    "duration": 63,
    "start_time": "2023-11-10T05:52:10.771Z"
   },
   {
    "duration": 0,
    "start_time": "2023-11-10T05:52:10.881Z"
   },
   {
    "duration": 0,
    "start_time": "2023-11-10T05:52:10.882Z"
   },
   {
    "duration": 0,
    "start_time": "2023-11-10T05:52:10.882Z"
   },
   {
    "duration": 0,
    "start_time": "2023-11-10T05:52:10.883Z"
   },
   {
    "duration": 0,
    "start_time": "2023-11-10T05:52:10.886Z"
   },
   {
    "duration": 0,
    "start_time": "2023-11-10T05:52:10.887Z"
   },
   {
    "duration": 0,
    "start_time": "2023-11-10T05:52:10.887Z"
   },
   {
    "duration": 0,
    "start_time": "2023-11-10T05:52:10.888Z"
   },
   {
    "duration": 0,
    "start_time": "2023-11-10T05:52:10.889Z"
   },
   {
    "duration": 0,
    "start_time": "2023-11-10T05:52:10.889Z"
   },
   {
    "duration": 0,
    "start_time": "2023-11-10T05:52:10.890Z"
   },
   {
    "duration": 0,
    "start_time": "2023-11-10T05:52:10.891Z"
   },
   {
    "duration": 0,
    "start_time": "2023-11-10T05:52:10.891Z"
   },
   {
    "duration": 0,
    "start_time": "2023-11-10T05:52:10.892Z"
   },
   {
    "duration": 0,
    "start_time": "2023-11-10T05:52:10.893Z"
   },
   {
    "duration": 0,
    "start_time": "2023-11-10T05:52:10.893Z"
   },
   {
    "duration": 0,
    "start_time": "2023-11-10T05:52:10.894Z"
   },
   {
    "duration": 0,
    "start_time": "2023-11-10T05:52:10.895Z"
   },
   {
    "duration": 0,
    "start_time": "2023-11-10T05:52:10.895Z"
   },
   {
    "duration": 0,
    "start_time": "2023-11-10T05:52:10.896Z"
   },
   {
    "duration": 0,
    "start_time": "2023-11-10T05:52:10.897Z"
   },
   {
    "duration": 0,
    "start_time": "2023-11-10T05:52:10.897Z"
   },
   {
    "duration": 0,
    "start_time": "2023-11-10T05:52:10.898Z"
   },
   {
    "duration": 0,
    "start_time": "2023-11-10T05:52:10.898Z"
   },
   {
    "duration": 11,
    "start_time": "2023-11-10T05:52:10.907Z"
   },
   {
    "duration": 0,
    "start_time": "2023-11-10T05:52:10.920Z"
   },
   {
    "duration": 0,
    "start_time": "2023-11-10T05:52:10.922Z"
   },
   {
    "duration": 0,
    "start_time": "2023-11-10T05:52:10.923Z"
   },
   {
    "duration": 0,
    "start_time": "2023-11-10T05:52:10.924Z"
   },
   {
    "duration": 0,
    "start_time": "2023-11-10T05:52:10.925Z"
   },
   {
    "duration": 0,
    "start_time": "2023-11-10T05:52:10.926Z"
   },
   {
    "duration": 0,
    "start_time": "2023-11-10T05:52:10.928Z"
   },
   {
    "duration": 0,
    "start_time": "2023-11-10T05:52:10.985Z"
   },
   {
    "duration": 1,
    "start_time": "2023-11-10T05:52:10.986Z"
   },
   {
    "duration": 0,
    "start_time": "2023-11-10T05:52:10.988Z"
   },
   {
    "duration": 0,
    "start_time": "2023-11-10T05:52:10.989Z"
   },
   {
    "duration": 0,
    "start_time": "2023-11-10T05:52:10.993Z"
   },
   {
    "duration": 0,
    "start_time": "2023-11-10T05:52:10.994Z"
   },
   {
    "duration": 0,
    "start_time": "2023-11-10T05:52:10.995Z"
   },
   {
    "duration": 0,
    "start_time": "2023-11-10T05:52:10.997Z"
   },
   {
    "duration": 0,
    "start_time": "2023-11-10T05:52:10.998Z"
   },
   {
    "duration": 0,
    "start_time": "2023-11-10T05:52:10.999Z"
   },
   {
    "duration": 4,
    "start_time": "2023-11-10T05:52:11.002Z"
   },
   {
    "duration": 9,
    "start_time": "2023-11-10T05:52:11.008Z"
   },
   {
    "duration": 11091,
    "start_time": "2023-11-10T05:55:51.313Z"
   },
   {
    "duration": 341,
    "start_time": "2023-11-10T05:56:02.406Z"
   },
   {
    "duration": 129,
    "start_time": "2023-11-10T05:56:02.749Z"
   },
   {
    "duration": 134,
    "start_time": "2023-11-10T05:56:02.880Z"
   },
   {
    "duration": 118,
    "start_time": "2023-11-10T05:56:03.015Z"
   },
   {
    "duration": 133,
    "start_time": "2023-11-10T05:56:03.134Z"
   },
   {
    "duration": 68,
    "start_time": "2023-11-10T05:56:03.268Z"
   },
   {
    "duration": 112,
    "start_time": "2023-11-10T05:56:03.338Z"
   },
   {
    "duration": 68,
    "start_time": "2023-11-10T05:56:03.452Z"
   },
   {
    "duration": 55,
    "start_time": "2023-11-10T05:56:03.522Z"
   },
   {
    "duration": 67,
    "start_time": "2023-11-10T05:56:03.579Z"
   },
   {
    "duration": 1956,
    "start_time": "2023-11-10T05:58:35.378Z"
   },
   {
    "duration": 872,
    "start_time": "2023-11-10T05:58:37.336Z"
   },
   {
    "duration": 146,
    "start_time": "2023-11-10T05:58:38.210Z"
   },
   {
    "duration": 47,
    "start_time": "2023-11-10T05:58:38.358Z"
   },
   {
    "duration": 51,
    "start_time": "2023-11-10T05:58:38.406Z"
   },
   {
    "duration": 396,
    "start_time": "2023-11-10T05:58:38.459Z"
   },
   {
    "duration": 79,
    "start_time": "2023-11-10T05:58:38.857Z"
   },
   {
    "duration": 65,
    "start_time": "2023-11-10T05:58:38.938Z"
   },
   {
    "duration": 20692,
    "start_time": "2023-11-10T05:58:39.005Z"
   },
   {
    "duration": 8,
    "start_time": "2023-11-10T05:58:59.700Z"
   },
   {
    "duration": 1076,
    "start_time": "2023-11-10T05:58:59.712Z"
   },
   {
    "duration": 13,
    "start_time": "2023-11-10T05:59:00.790Z"
   },
   {
    "duration": 79,
    "start_time": "2023-11-10T05:59:00.805Z"
   },
   {
    "duration": 69,
    "start_time": "2023-11-10T05:59:00.886Z"
   },
   {
    "duration": 62,
    "start_time": "2023-11-10T05:59:00.957Z"
   },
   {
    "duration": 77,
    "start_time": "2023-11-10T05:59:01.021Z"
   },
   {
    "duration": 145,
    "start_time": "2023-11-10T05:59:01.100Z"
   },
   {
    "duration": 83,
    "start_time": "2023-11-10T05:59:01.246Z"
   },
   {
    "duration": 33,
    "start_time": "2023-11-10T05:59:01.330Z"
   },
   {
    "duration": 158,
    "start_time": "2023-11-10T05:59:01.365Z"
   },
   {
    "duration": 18,
    "start_time": "2023-11-10T05:59:01.525Z"
   },
   {
    "duration": 39,
    "start_time": "2023-11-10T05:59:01.545Z"
   },
   {
    "duration": 577,
    "start_time": "2023-11-10T05:59:01.586Z"
   },
   {
    "duration": 6,
    "start_time": "2023-11-10T05:59:02.165Z"
   },
   {
    "duration": 114,
    "start_time": "2023-11-10T05:59:02.182Z"
   },
   {
    "duration": 15,
    "start_time": "2023-11-10T05:59:02.300Z"
   },
   {
    "duration": 13,
    "start_time": "2023-11-10T05:59:02.317Z"
   },
   {
    "duration": 59,
    "start_time": "2023-11-10T05:59:02.334Z"
   },
   {
    "duration": 27,
    "start_time": "2023-11-10T05:59:02.397Z"
   },
   {
    "duration": 73,
    "start_time": "2023-11-10T05:59:02.425Z"
   },
   {
    "duration": 17,
    "start_time": "2023-11-10T05:59:02.500Z"
   },
   {
    "duration": 17,
    "start_time": "2023-11-10T05:59:02.518Z"
   },
   {
    "duration": 54,
    "start_time": "2023-11-10T05:59:02.537Z"
   },
   {
    "duration": 27,
    "start_time": "2023-11-10T05:59:02.592Z"
   },
   {
    "duration": 9,
    "start_time": "2023-11-10T05:59:02.622Z"
   },
   {
    "duration": 18,
    "start_time": "2023-11-10T05:59:02.633Z"
   },
   {
    "duration": 19,
    "start_time": "2023-11-10T05:59:02.653Z"
   },
   {
    "duration": 53,
    "start_time": "2023-11-10T05:59:02.674Z"
   },
   {
    "duration": 178,
    "start_time": "2023-11-10T05:59:02.729Z"
   },
   {
    "duration": 131,
    "start_time": "2023-11-10T05:59:02.913Z"
   },
   {
    "duration": 265,
    "start_time": "2023-11-10T05:59:03.046Z"
   },
   {
    "duration": 235,
    "start_time": "2023-11-10T05:59:03.314Z"
   },
   {
    "duration": 32,
    "start_time": "2023-11-10T05:59:03.551Z"
   },
   {
    "duration": 143,
    "start_time": "2023-11-10T05:59:03.585Z"
   },
   {
    "duration": 10,
    "start_time": "2023-11-10T05:59:03.730Z"
   },
   {
    "duration": 77,
    "start_time": "2023-11-10T05:59:03.742Z"
   },
   {
    "duration": 17,
    "start_time": "2023-11-10T05:59:03.820Z"
   },
   {
    "duration": 84,
    "start_time": "2023-11-10T05:59:03.839Z"
   },
   {
    "duration": 13,
    "start_time": "2023-11-10T05:59:03.924Z"
   },
   {
    "duration": 34,
    "start_time": "2023-11-10T05:59:03.938Z"
   },
   {
    "duration": 29,
    "start_time": "2023-11-10T05:59:03.974Z"
   },
   {
    "duration": 48,
    "start_time": "2023-11-10T05:59:04.004Z"
   },
   {
    "duration": 54,
    "start_time": "2023-11-10T05:59:04.053Z"
   },
   {
    "duration": 23,
    "start_time": "2023-11-10T05:59:04.109Z"
   },
   {
    "duration": 7,
    "start_time": "2023-11-10T05:59:04.133Z"
   },
   {
    "duration": 10,
    "start_time": "2023-11-10T05:59:04.142Z"
   },
   {
    "duration": 101,
    "start_time": "2023-11-10T05:59:04.154Z"
   },
   {
    "duration": 410,
    "start_time": "2023-11-10T07:28:41.336Z"
   },
   {
    "duration": 0,
    "start_time": "2023-11-10T07:28:41.753Z"
   },
   {
    "duration": 0,
    "start_time": "2023-11-10T07:28:41.757Z"
   },
   {
    "duration": 0,
    "start_time": "2023-11-10T07:28:41.758Z"
   },
   {
    "duration": 0,
    "start_time": "2023-11-10T07:28:41.760Z"
   },
   {
    "duration": 0,
    "start_time": "2023-11-10T07:28:41.762Z"
   },
   {
    "duration": 0,
    "start_time": "2023-11-10T07:28:41.763Z"
   },
   {
    "duration": 0,
    "start_time": "2023-11-10T07:28:41.765Z"
   },
   {
    "duration": 0,
    "start_time": "2023-11-10T07:28:41.767Z"
   },
   {
    "duration": 0,
    "start_time": "2023-11-10T07:28:41.768Z"
   },
   {
    "duration": 0,
    "start_time": "2023-11-10T07:28:41.770Z"
   },
   {
    "duration": 0,
    "start_time": "2023-11-10T07:28:41.772Z"
   },
   {
    "duration": 0,
    "start_time": "2023-11-10T07:28:41.774Z"
   },
   {
    "duration": 0,
    "start_time": "2023-11-10T07:28:41.776Z"
   },
   {
    "duration": 0,
    "start_time": "2023-11-10T07:28:41.777Z"
   },
   {
    "duration": 0,
    "start_time": "2023-11-10T07:28:41.779Z"
   },
   {
    "duration": 0,
    "start_time": "2023-11-10T07:28:41.781Z"
   },
   {
    "duration": 0,
    "start_time": "2023-11-10T07:28:41.782Z"
   },
   {
    "duration": 0,
    "start_time": "2023-11-10T07:28:41.784Z"
   },
   {
    "duration": 0,
    "start_time": "2023-11-10T07:28:41.785Z"
   },
   {
    "duration": 0,
    "start_time": "2023-11-10T07:28:41.787Z"
   },
   {
    "duration": 0,
    "start_time": "2023-11-10T07:28:41.789Z"
   },
   {
    "duration": 0,
    "start_time": "2023-11-10T07:28:41.791Z"
   },
   {
    "duration": 0,
    "start_time": "2023-11-10T07:28:41.793Z"
   },
   {
    "duration": 0,
    "start_time": "2023-11-10T07:28:41.794Z"
   },
   {
    "duration": 0,
    "start_time": "2023-11-10T07:28:41.816Z"
   },
   {
    "duration": 0,
    "start_time": "2023-11-10T07:28:41.819Z"
   },
   {
    "duration": 0,
    "start_time": "2023-11-10T07:28:41.820Z"
   },
   {
    "duration": 0,
    "start_time": "2023-11-10T07:28:41.821Z"
   },
   {
    "duration": 0,
    "start_time": "2023-11-10T07:28:41.822Z"
   },
   {
    "duration": 0,
    "start_time": "2023-11-10T07:28:41.823Z"
   },
   {
    "duration": 0,
    "start_time": "2023-11-10T07:28:41.824Z"
   },
   {
    "duration": 0,
    "start_time": "2023-11-10T07:28:41.825Z"
   },
   {
    "duration": 0,
    "start_time": "2023-11-10T07:28:41.826Z"
   },
   {
    "duration": 0,
    "start_time": "2023-11-10T07:28:41.827Z"
   },
   {
    "duration": 0,
    "start_time": "2023-11-10T07:28:41.828Z"
   },
   {
    "duration": 0,
    "start_time": "2023-11-10T07:28:41.835Z"
   },
   {
    "duration": 0,
    "start_time": "2023-11-10T07:28:41.836Z"
   },
   {
    "duration": 0,
    "start_time": "2023-11-10T07:28:41.837Z"
   },
   {
    "duration": 0,
    "start_time": "2023-11-10T07:28:41.839Z"
   },
   {
    "duration": 0,
    "start_time": "2023-11-10T07:28:41.841Z"
   },
   {
    "duration": 0,
    "start_time": "2023-11-10T07:28:41.842Z"
   },
   {
    "duration": 0,
    "start_time": "2023-11-10T07:28:41.844Z"
   },
   {
    "duration": 0,
    "start_time": "2023-11-10T07:28:41.846Z"
   },
   {
    "duration": 0,
    "start_time": "2023-11-10T07:28:41.848Z"
   },
   {
    "duration": 0,
    "start_time": "2023-11-10T07:28:41.850Z"
   },
   {
    "duration": 0,
    "start_time": "2023-11-10T07:28:41.852Z"
   },
   {
    "duration": 1,
    "start_time": "2023-11-10T07:28:41.853Z"
   },
   {
    "duration": 0,
    "start_time": "2023-11-10T07:28:41.863Z"
   },
   {
    "duration": 0,
    "start_time": "2023-11-10T07:28:41.864Z"
   },
   {
    "duration": 0,
    "start_time": "2023-11-10T07:28:41.865Z"
   },
   {
    "duration": 0,
    "start_time": "2023-11-10T07:28:41.866Z"
   },
   {
    "duration": 1,
    "start_time": "2023-11-10T07:28:41.866Z"
   },
   {
    "duration": 0,
    "start_time": "2023-11-10T07:28:41.867Z"
   },
   {
    "duration": 0,
    "start_time": "2023-11-10T07:28:41.868Z"
   },
   {
    "duration": 0,
    "start_time": "2023-11-10T07:28:41.869Z"
   },
   {
    "duration": 0,
    "start_time": "2023-11-10T07:28:41.870Z"
   },
   {
    "duration": 0,
    "start_time": "2023-11-10T07:28:41.871Z"
   },
   {
    "duration": 0,
    "start_time": "2023-11-10T07:28:41.917Z"
   },
   {
    "duration": 0,
    "start_time": "2023-11-10T07:28:41.918Z"
   },
   {
    "duration": 0,
    "start_time": "2023-11-10T07:28:41.921Z"
   },
   {
    "duration": 0,
    "start_time": "2023-11-10T07:28:41.922Z"
   },
   {
    "duration": 0,
    "start_time": "2023-11-10T07:28:41.924Z"
   },
   {
    "duration": 0,
    "start_time": "2023-11-10T07:28:41.925Z"
   },
   {
    "duration": 0,
    "start_time": "2023-11-10T07:28:41.927Z"
   },
   {
    "duration": 0,
    "start_time": "2023-11-10T07:28:41.928Z"
   },
   {
    "duration": 0,
    "start_time": "2023-11-10T07:28:41.929Z"
   },
   {
    "duration": 0,
    "start_time": "2023-11-10T07:28:41.930Z"
   },
   {
    "duration": 0,
    "start_time": "2023-11-10T07:28:41.932Z"
   },
   {
    "duration": 206,
    "start_time": "2023-11-10T07:29:56.303Z"
   },
   {
    "duration": 0,
    "start_time": "2023-11-10T07:29:56.513Z"
   },
   {
    "duration": 0,
    "start_time": "2023-11-10T07:29:56.519Z"
   },
   {
    "duration": 0,
    "start_time": "2023-11-10T07:29:56.521Z"
   },
   {
    "duration": 0,
    "start_time": "2023-11-10T07:29:56.528Z"
   },
   {
    "duration": 0,
    "start_time": "2023-11-10T07:29:56.529Z"
   },
   {
    "duration": 0,
    "start_time": "2023-11-10T07:29:56.538Z"
   },
   {
    "duration": 0,
    "start_time": "2023-11-10T07:29:56.539Z"
   },
   {
    "duration": 0,
    "start_time": "2023-11-10T07:29:56.540Z"
   },
   {
    "duration": 0,
    "start_time": "2023-11-10T07:29:56.541Z"
   },
   {
    "duration": 0,
    "start_time": "2023-11-10T07:29:56.542Z"
   },
   {
    "duration": 0,
    "start_time": "2023-11-10T07:29:56.543Z"
   },
   {
    "duration": 0,
    "start_time": "2023-11-10T07:29:56.544Z"
   },
   {
    "duration": 0,
    "start_time": "2023-11-10T07:29:56.547Z"
   },
   {
    "duration": 0,
    "start_time": "2023-11-10T07:29:56.548Z"
   },
   {
    "duration": 0,
    "start_time": "2023-11-10T07:29:56.550Z"
   },
   {
    "duration": 0,
    "start_time": "2023-11-10T07:29:56.551Z"
   },
   {
    "duration": 0,
    "start_time": "2023-11-10T07:29:56.552Z"
   },
   {
    "duration": 0,
    "start_time": "2023-11-10T07:29:56.555Z"
   },
   {
    "duration": 0,
    "start_time": "2023-11-10T07:29:56.557Z"
   },
   {
    "duration": 0,
    "start_time": "2023-11-10T07:29:56.558Z"
   },
   {
    "duration": 0,
    "start_time": "2023-11-10T07:29:56.559Z"
   },
   {
    "duration": 0,
    "start_time": "2023-11-10T07:29:56.560Z"
   },
   {
    "duration": 0,
    "start_time": "2023-11-10T07:29:56.567Z"
   },
   {
    "duration": 0,
    "start_time": "2023-11-10T07:29:56.569Z"
   },
   {
    "duration": 0,
    "start_time": "2023-11-10T07:29:56.570Z"
   },
   {
    "duration": 0,
    "start_time": "2023-11-10T07:29:56.572Z"
   },
   {
    "duration": 0,
    "start_time": "2023-11-10T07:29:56.574Z"
   },
   {
    "duration": 0,
    "start_time": "2023-11-10T07:29:56.575Z"
   },
   {
    "duration": 0,
    "start_time": "2023-11-10T07:29:56.576Z"
   },
   {
    "duration": 0,
    "start_time": "2023-11-10T07:29:56.578Z"
   },
   {
    "duration": 0,
    "start_time": "2023-11-10T07:29:56.579Z"
   },
   {
    "duration": 0,
    "start_time": "2023-11-10T07:29:56.580Z"
   },
   {
    "duration": 0,
    "start_time": "2023-11-10T07:29:56.581Z"
   },
   {
    "duration": 0,
    "start_time": "2023-11-10T07:29:56.615Z"
   },
   {
    "duration": 0,
    "start_time": "2023-11-10T07:29:56.616Z"
   },
   {
    "duration": 0,
    "start_time": "2023-11-10T07:29:56.617Z"
   },
   {
    "duration": 0,
    "start_time": "2023-11-10T07:29:56.618Z"
   },
   {
    "duration": 0,
    "start_time": "2023-11-10T07:29:56.620Z"
   },
   {
    "duration": 0,
    "start_time": "2023-11-10T07:29:56.620Z"
   },
   {
    "duration": 0,
    "start_time": "2023-11-10T07:29:56.624Z"
   },
   {
    "duration": 0,
    "start_time": "2023-11-10T07:29:56.625Z"
   },
   {
    "duration": 0,
    "start_time": "2023-11-10T07:29:56.626Z"
   },
   {
    "duration": 0,
    "start_time": "2023-11-10T07:29:56.627Z"
   },
   {
    "duration": 0,
    "start_time": "2023-11-10T07:29:56.631Z"
   },
   {
    "duration": 0,
    "start_time": "2023-11-10T07:29:56.632Z"
   },
   {
    "duration": 0,
    "start_time": "2023-11-10T07:29:56.633Z"
   },
   {
    "duration": 0,
    "start_time": "2023-11-10T07:29:56.635Z"
   },
   {
    "duration": 0,
    "start_time": "2023-11-10T07:29:56.636Z"
   },
   {
    "duration": 0,
    "start_time": "2023-11-10T07:29:56.637Z"
   },
   {
    "duration": 0,
    "start_time": "2023-11-10T07:29:56.639Z"
   },
   {
    "duration": 0,
    "start_time": "2023-11-10T07:29:56.640Z"
   },
   {
    "duration": 0,
    "start_time": "2023-11-10T07:29:56.641Z"
   },
   {
    "duration": 0,
    "start_time": "2023-11-10T07:29:56.643Z"
   },
   {
    "duration": 0,
    "start_time": "2023-11-10T07:29:56.646Z"
   },
   {
    "duration": 0,
    "start_time": "2023-11-10T07:29:56.648Z"
   },
   {
    "duration": 0,
    "start_time": "2023-11-10T07:29:56.649Z"
   },
   {
    "duration": 0,
    "start_time": "2023-11-10T07:29:56.650Z"
   },
   {
    "duration": 0,
    "start_time": "2023-11-10T07:29:56.652Z"
   },
   {
    "duration": 0,
    "start_time": "2023-11-10T07:29:56.653Z"
   },
   {
    "duration": 186,
    "start_time": "2023-11-10T07:29:56.658Z"
   },
   {
    "duration": 0,
    "start_time": "2023-11-10T07:29:56.852Z"
   },
   {
    "duration": 0,
    "start_time": "2023-11-10T07:29:56.853Z"
   },
   {
    "duration": 0,
    "start_time": "2023-11-10T07:29:56.854Z"
   },
   {
    "duration": 0,
    "start_time": "2023-11-10T07:29:56.855Z"
   },
   {
    "duration": 0,
    "start_time": "2023-11-10T07:29:56.859Z"
   },
   {
    "duration": 0,
    "start_time": "2023-11-10T07:29:56.862Z"
   },
   {
    "duration": 0,
    "start_time": "2023-11-10T07:29:56.863Z"
   },
   {
    "duration": 0,
    "start_time": "2023-11-10T07:29:56.865Z"
   },
   {
    "duration": 16434,
    "start_time": "2023-11-10T07:30:53.545Z"
   },
   {
    "duration": 299,
    "start_time": "2023-11-10T07:31:09.981Z"
   },
   {
    "duration": 111,
    "start_time": "2023-11-10T07:31:10.281Z"
   },
   {
    "duration": 112,
    "start_time": "2023-11-10T07:31:10.394Z"
   },
   {
    "duration": 116,
    "start_time": "2023-11-10T07:31:10.507Z"
   },
   {
    "duration": 124,
    "start_time": "2023-11-10T07:31:10.625Z"
   },
   {
    "duration": 50,
    "start_time": "2023-11-10T07:31:10.751Z"
   },
   {
    "duration": 90,
    "start_time": "2023-11-10T07:31:10.803Z"
   },
   {
    "duration": 56,
    "start_time": "2023-11-10T07:31:10.895Z"
   },
   {
    "duration": 57,
    "start_time": "2023-11-10T07:31:10.955Z"
   },
   {
    "duration": 56,
    "start_time": "2023-11-10T07:31:11.014Z"
   },
   {
    "duration": 1634,
    "start_time": "2023-11-10T07:31:11.072Z"
   },
   {
    "duration": 1349,
    "start_time": "2023-11-10T07:31:12.708Z"
   },
   {
    "duration": 157,
    "start_time": "2023-11-10T07:31:14.059Z"
   },
   {
    "duration": 52,
    "start_time": "2023-11-10T07:31:14.218Z"
   },
   {
    "duration": 80,
    "start_time": "2023-11-10T07:31:14.272Z"
   },
   {
    "duration": 467,
    "start_time": "2023-11-10T07:31:14.354Z"
   },
   {
    "duration": 101,
    "start_time": "2023-11-10T07:31:14.823Z"
   },
   {
    "duration": 67,
    "start_time": "2023-11-10T07:31:14.926Z"
   },
   {
    "duration": 26271,
    "start_time": "2023-11-10T07:31:14.995Z"
   },
   {
    "duration": 7,
    "start_time": "2023-11-10T07:31:41.267Z"
   },
   {
    "duration": 1516,
    "start_time": "2023-11-10T07:31:41.276Z"
   },
   {
    "duration": 37,
    "start_time": "2023-11-10T07:31:42.795Z"
   },
   {
    "duration": 67,
    "start_time": "2023-11-10T07:31:42.843Z"
   },
   {
    "duration": 17,
    "start_time": "2023-11-10T07:31:42.912Z"
   },
   {
    "duration": 25,
    "start_time": "2023-11-10T07:31:42.938Z"
   },
   {
    "duration": 16,
    "start_time": "2023-11-10T07:31:42.965Z"
   },
   {
    "duration": 77,
    "start_time": "2023-11-10T07:31:42.987Z"
   },
   {
    "duration": 13,
    "start_time": "2023-11-10T07:31:43.067Z"
   },
   {
    "duration": 11,
    "start_time": "2023-11-10T07:31:43.082Z"
   },
   {
    "duration": 217,
    "start_time": "2023-11-10T07:31:43.094Z"
   },
   {
    "duration": 24,
    "start_time": "2023-11-10T07:31:43.313Z"
   },
   {
    "duration": 31,
    "start_time": "2023-11-10T07:31:43.339Z"
   },
   {
    "duration": 534,
    "start_time": "2023-11-10T07:31:43.372Z"
   },
   {
    "duration": 9,
    "start_time": "2023-11-10T07:31:43.908Z"
   },
   {
    "duration": 105,
    "start_time": "2023-11-10T07:31:43.919Z"
   },
   {
    "duration": 32,
    "start_time": "2023-11-10T07:31:44.025Z"
   },
   {
    "duration": 10,
    "start_time": "2023-11-10T07:31:44.061Z"
   },
   {
    "duration": 69,
    "start_time": "2023-11-10T07:31:44.074Z"
   },
   {
    "duration": 27,
    "start_time": "2023-11-10T07:31:44.145Z"
   },
   {
    "duration": 118,
    "start_time": "2023-11-10T07:31:44.174Z"
   },
   {
    "duration": 12,
    "start_time": "2023-11-10T07:31:44.294Z"
   },
   {
    "duration": 27,
    "start_time": "2023-11-10T07:31:44.319Z"
   },
   {
    "duration": 40,
    "start_time": "2023-11-10T07:31:44.349Z"
   },
   {
    "duration": 33,
    "start_time": "2023-11-10T07:31:44.391Z"
   },
   {
    "duration": 11,
    "start_time": "2023-11-10T07:31:44.427Z"
   },
   {
    "duration": 29,
    "start_time": "2023-11-10T07:31:44.441Z"
   },
   {
    "duration": 71,
    "start_time": "2023-11-10T07:31:44.472Z"
   },
   {
    "duration": 82,
    "start_time": "2023-11-10T07:31:44.545Z"
   },
   {
    "duration": 241,
    "start_time": "2023-11-10T07:31:44.631Z"
   },
   {
    "duration": 312,
    "start_time": "2023-11-10T07:31:44.875Z"
   },
   {
    "duration": 322,
    "start_time": "2023-11-10T07:31:45.189Z"
   },
   {
    "duration": 413,
    "start_time": "2023-11-10T07:31:45.518Z"
   },
   {
    "duration": 46,
    "start_time": "2023-11-10T07:31:45.934Z"
   },
   {
    "duration": 50,
    "start_time": "2023-11-10T07:31:45.982Z"
   },
   {
    "duration": 26,
    "start_time": "2023-11-10T07:31:46.040Z"
   },
   {
    "duration": 86,
    "start_time": "2023-11-10T07:31:46.068Z"
   },
   {
    "duration": 27,
    "start_time": "2023-11-10T07:31:46.161Z"
   },
   {
    "duration": 100,
    "start_time": "2023-11-10T07:31:46.190Z"
   },
   {
    "duration": 18,
    "start_time": "2023-11-10T07:31:46.292Z"
   },
   {
    "duration": 46,
    "start_time": "2023-11-10T07:31:46.317Z"
   },
   {
    "duration": 21,
    "start_time": "2023-11-10T07:31:46.367Z"
   },
   {
    "duration": 70,
    "start_time": "2023-11-10T07:31:46.390Z"
   },
   {
    "duration": 68,
    "start_time": "2023-11-10T07:31:46.464Z"
   },
   {
    "duration": 27,
    "start_time": "2023-11-10T07:31:46.539Z"
   },
   {
    "duration": 8,
    "start_time": "2023-11-10T07:31:46.568Z"
   },
   {
    "duration": 11,
    "start_time": "2023-11-10T07:31:46.578Z"
   },
   {
    "duration": 102,
    "start_time": "2023-11-10T07:31:46.591Z"
   },
   {
    "duration": 31,
    "start_time": "2023-11-10T07:34:27.460Z"
   },
   {
    "duration": 23,
    "start_time": "2023-11-10T07:34:59.438Z"
   },
   {
    "duration": 63,
    "start_time": "2023-11-10T07:35:06.629Z"
   },
   {
    "duration": 9510,
    "start_time": "2023-11-10T20:25:59.461Z"
   },
   {
    "duration": 292,
    "start_time": "2023-11-10T20:26:08.973Z"
   },
   {
    "duration": 99,
    "start_time": "2023-11-10T20:26:09.266Z"
   },
   {
    "duration": 100,
    "start_time": "2023-11-10T20:26:09.367Z"
   },
   {
    "duration": 101,
    "start_time": "2023-11-10T20:26:09.469Z"
   },
   {
    "duration": 103,
    "start_time": "2023-11-10T20:26:09.572Z"
   },
   {
    "duration": 49,
    "start_time": "2023-11-10T20:26:09.676Z"
   },
   {
    "duration": 89,
    "start_time": "2023-11-10T20:26:09.726Z"
   },
   {
    "duration": 50,
    "start_time": "2023-11-10T20:26:09.817Z"
   },
   {
    "duration": 54,
    "start_time": "2023-11-10T20:26:09.870Z"
   },
   {
    "duration": 54,
    "start_time": "2023-11-10T20:26:09.925Z"
   },
   {
    "duration": 1244,
    "start_time": "2023-11-10T20:26:09.980Z"
   },
   {
    "duration": 1047,
    "start_time": "2023-11-10T20:26:11.226Z"
   },
   {
    "duration": 115,
    "start_time": "2023-11-10T20:26:12.275Z"
   },
   {
    "duration": 32,
    "start_time": "2023-11-10T20:26:12.392Z"
   },
   {
    "duration": 43,
    "start_time": "2023-11-10T20:26:12.426Z"
   },
   {
    "duration": 315,
    "start_time": "2023-11-10T20:26:12.471Z"
   },
   {
    "duration": 49,
    "start_time": "2023-11-10T20:26:12.800Z"
   },
   {
    "duration": 50,
    "start_time": "2023-11-10T20:26:12.851Z"
   },
   {
    "duration": 17917,
    "start_time": "2023-11-10T20:26:12.902Z"
   },
   {
    "duration": 6,
    "start_time": "2023-11-10T20:26:30.821Z"
   },
   {
    "duration": 972,
    "start_time": "2023-11-10T20:26:30.829Z"
   },
   {
    "duration": 7,
    "start_time": "2023-11-10T20:26:31.802Z"
   },
   {
    "duration": 58,
    "start_time": "2023-11-10T20:26:31.810Z"
   },
   {
    "duration": 4,
    "start_time": "2023-11-10T20:26:31.870Z"
   },
   {
    "duration": 48,
    "start_time": "2023-11-10T20:26:31.876Z"
   },
   {
    "duration": 12,
    "start_time": "2023-11-10T20:26:31.925Z"
   },
   {
    "duration": 44,
    "start_time": "2023-11-10T20:26:31.941Z"
   },
   {
    "duration": 9,
    "start_time": "2023-11-10T20:26:31.987Z"
   },
   {
    "duration": 19,
    "start_time": "2023-11-10T20:26:31.998Z"
   },
   {
    "duration": 101,
    "start_time": "2023-11-10T20:26:32.019Z"
   },
   {
    "duration": 16,
    "start_time": "2023-11-10T20:26:32.122Z"
   },
   {
    "duration": 20,
    "start_time": "2023-11-10T20:26:32.139Z"
   },
   {
    "duration": 358,
    "start_time": "2023-11-10T20:26:32.161Z"
   },
   {
    "duration": 6,
    "start_time": "2023-11-10T20:26:32.521Z"
   },
   {
    "duration": 79,
    "start_time": "2023-11-10T20:26:32.528Z"
   },
   {
    "duration": 22,
    "start_time": "2023-11-10T20:26:32.608Z"
   },
   {
    "duration": 9,
    "start_time": "2023-11-10T20:26:32.631Z"
   },
   {
    "duration": 15,
    "start_time": "2023-11-10T20:26:32.641Z"
   },
   {
    "duration": 57,
    "start_time": "2023-11-10T20:26:32.657Z"
   },
   {
    "duration": 138,
    "start_time": "2023-11-10T20:26:32.716Z"
   },
   {
    "duration": 10,
    "start_time": "2023-11-10T20:26:32.856Z"
   },
   {
    "duration": 14,
    "start_time": "2023-11-10T20:26:32.867Z"
   },
   {
    "duration": 20,
    "start_time": "2023-11-10T20:26:32.899Z"
   },
   {
    "duration": 18,
    "start_time": "2023-11-10T20:26:32.920Z"
   },
   {
    "duration": 6,
    "start_time": "2023-11-10T20:26:32.939Z"
   },
   {
    "duration": 12,
    "start_time": "2023-11-10T20:26:32.947Z"
   },
   {
    "duration": 22,
    "start_time": "2023-11-10T20:26:32.960Z"
   },
   {
    "duration": 45,
    "start_time": "2023-11-10T20:26:32.984Z"
   },
   {
    "duration": 25,
    "start_time": "2023-11-10T20:26:33.031Z"
   },
   {
    "duration": 16,
    "start_time": "2023-11-10T20:26:33.057Z"
   },
   {
    "duration": 68,
    "start_time": "2023-11-10T20:26:33.074Z"
   },
   {
    "duration": 187,
    "start_time": "2023-11-10T20:26:33.144Z"
   },
   {
    "duration": 201,
    "start_time": "2023-11-10T20:26:33.333Z"
   },
   {
    "duration": 26,
    "start_time": "2023-11-10T20:26:33.535Z"
   },
   {
    "duration": 45,
    "start_time": "2023-11-10T20:26:33.562Z"
   },
   {
    "duration": 10,
    "start_time": "2023-11-10T20:26:33.609Z"
   },
   {
    "duration": 53,
    "start_time": "2023-11-10T20:26:33.620Z"
   },
   {
    "duration": 35,
    "start_time": "2023-11-10T20:26:33.674Z"
   },
   {
    "duration": 51,
    "start_time": "2023-11-10T20:26:33.710Z"
   },
   {
    "duration": 12,
    "start_time": "2023-11-10T20:26:33.763Z"
   },
   {
    "duration": 16,
    "start_time": "2023-11-10T20:26:33.800Z"
   },
   {
    "duration": 12,
    "start_time": "2023-11-10T20:26:33.818Z"
   },
   {
    "duration": 40,
    "start_time": "2023-11-10T20:26:33.832Z"
   },
   {
    "duration": 54,
    "start_time": "2023-11-10T20:26:33.874Z"
   },
   {
    "duration": 18,
    "start_time": "2023-11-10T20:26:33.930Z"
   },
   {
    "duration": 7,
    "start_time": "2023-11-10T20:26:33.950Z"
   },
   {
    "duration": 7,
    "start_time": "2023-11-10T20:26:33.958Z"
   },
   {
    "duration": 80,
    "start_time": "2023-11-10T20:26:33.966Z"
   },
   {
    "duration": 86,
    "start_time": "2023-11-10T20:26:34.048Z"
   },
   {
    "duration": 84,
    "start_time": "2023-11-10T20:26:34.574Z"
   },
   {
    "duration": 50,
    "start_time": "2023-11-10T21:38:17.351Z"
   }
  ],
  "kernelspec": {
   "display_name": "Python 3 (ipykernel)",
   "language": "python",
   "name": "python3"
  },
  "language_info": {
   "codemirror_mode": {
    "name": "ipython",
    "version": 3
   },
   "file_extension": ".py",
   "mimetype": "text/x-python",
   "name": "python",
   "nbconvert_exporter": "python",
   "pygments_lexer": "ipython3",
   "version": "3.11.4"
  },
  "toc": {
   "base_numbering": 1,
   "nav_menu": {},
   "number_sections": true,
   "sideBar": true,
   "skip_h1_title": true,
   "title_cell": "Table of Contents",
   "title_sidebar": "Contents",
   "toc_cell": false,
   "toc_position": {},
   "toc_section_display": true,
   "toc_window_display": false
  }
 },
 "nbformat": 4,
 "nbformat_minor": 5
}
