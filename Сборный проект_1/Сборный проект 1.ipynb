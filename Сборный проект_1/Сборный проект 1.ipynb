{
 "cells": [
  {
   "cell_type": "markdown",
   "metadata": {},
   "source": [
    "# Исследование продаж  компьютерных игр в интернет магазине \"Стримчик\"\n",
    "\n",
    "Из открытых источников доступны исторические данные о продажах игр, оценки пользователей и экспертов, жанры и платформы (например, Xbox или PlayStation).\n",
    "Перед вами данные до 2016 года. Представим, что сейчас декабрь 2016 г., и вы планируете кампанию на 2017-й. Нужно отработать принцип работы с данными. Неважно, прогнозируете ли вы продажи на 2017 год по данным 2016-го или же 2027-й — по данным 2026 года.\n",
    "В наборе данных попадается аббревиатура ESRB (Entertainment Software Rating Board) — это ассоциация, определяющая возрастной рейтинг компьютерных игр. ESRB оценивает игровой контент и присваивает ему подходящую возрастную категорию, например, «Для взрослых», «Для детей младшего возраста» или «Для подростков».\n",
    "\n",
    "#### Цель исследования:\n",
    "Выявить определяющие успешность игры закономерности,ч то позволит сделать ставку на потенциально популярный продукт и спланировать рекламные кампании.\n",
    "#### Ход исследования: \n",
    "Данные о продаже игр я получу из файла \"/datasets/games.csv\". О качестве данных ничего неизвестно,поэтому перед тем как пресутпить к цели исследования понадобится обзор данных.\n",
    "Я проверю данные на ошибки и оценю их влияние на исследование. Затем на этапе предобработке я поищу возможность исправить все ошибки данных, которые не приведут к искажению конечного результата. Далее создам необходимые стобцы и приступлю к проведению исследовательского анализа.\n",
    "\n",
    "Таким образом мое исследование пройдет в шесть этапов:\n",
    "\n",
    "- Обзор Данных\n",
    "- предобработка данных\n",
    "- исследовательский анализ данных\n",
    "- составление портрета пользователя каждого региноа\n",
    "- проверки гипотез\n",
    "- написание общего вывода\n"
   ]
  },
  {
   "cell_type": "markdown",
   "metadata": {},
   "source": [
    "#  1. Откройте файл с данными и изучите общую информацию"
   ]
  },
  {
   "cell_type": "code",
   "execution_count": 2,
   "metadata": {},
   "outputs": [],
   "source": [
    "from scipy import stats as st\n",
    "from math import factorial\n",
    "import pandas as pd\n",
    "import numpy as np\n",
    "import matplotlib.pyplot as plt\n",
    "import seaborn as sns\n",
    "\n",
    "\n",
    "\n"
   ]
  },
  {
   "cell_type": "code",
   "execution_count": 3,
   "metadata": {},
   "outputs": [
    {
     "data": {
      "text/html": [
       "<div>\n",
       "<style scoped>\n",
       "    .dataframe tbody tr th:only-of-type {\n",
       "        vertical-align: middle;\n",
       "    }\n",
       "\n",
       "    .dataframe tbody tr th {\n",
       "        vertical-align: top;\n",
       "    }\n",
       "\n",
       "    .dataframe thead th {\n",
       "        text-align: right;\n",
       "    }\n",
       "</style>\n",
       "<table border=\"1\" class=\"dataframe\">\n",
       "  <thead>\n",
       "    <tr style=\"text-align: right;\">\n",
       "      <th></th>\n",
       "      <th>Name</th>\n",
       "      <th>Platform</th>\n",
       "      <th>Year_of_Release</th>\n",
       "      <th>Genre</th>\n",
       "      <th>NA_sales</th>\n",
       "      <th>EU_sales</th>\n",
       "      <th>JP_sales</th>\n",
       "      <th>Other_sales</th>\n",
       "      <th>Critic_Score</th>\n",
       "      <th>User_Score</th>\n",
       "      <th>Rating</th>\n",
       "    </tr>\n",
       "  </thead>\n",
       "  <tbody>\n",
       "    <tr>\n",
       "      <th>0</th>\n",
       "      <td>Wii Sports</td>\n",
       "      <td>Wii</td>\n",
       "      <td>2006.0</td>\n",
       "      <td>Sports</td>\n",
       "      <td>41.36</td>\n",
       "      <td>28.96</td>\n",
       "      <td>3.77</td>\n",
       "      <td>8.45</td>\n",
       "      <td>76.0</td>\n",
       "      <td>8</td>\n",
       "      <td>E</td>\n",
       "    </tr>\n",
       "    <tr>\n",
       "      <th>1</th>\n",
       "      <td>Super Mario Bros.</td>\n",
       "      <td>NES</td>\n",
       "      <td>1985.0</td>\n",
       "      <td>Platform</td>\n",
       "      <td>29.08</td>\n",
       "      <td>3.58</td>\n",
       "      <td>6.81</td>\n",
       "      <td>0.77</td>\n",
       "      <td>NaN</td>\n",
       "      <td>NaN</td>\n",
       "      <td>NaN</td>\n",
       "    </tr>\n",
       "    <tr>\n",
       "      <th>2</th>\n",
       "      <td>Mario Kart Wii</td>\n",
       "      <td>Wii</td>\n",
       "      <td>2008.0</td>\n",
       "      <td>Racing</td>\n",
       "      <td>15.68</td>\n",
       "      <td>12.76</td>\n",
       "      <td>3.79</td>\n",
       "      <td>3.29</td>\n",
       "      <td>82.0</td>\n",
       "      <td>8.3</td>\n",
       "      <td>E</td>\n",
       "    </tr>\n",
       "    <tr>\n",
       "      <th>3</th>\n",
       "      <td>Wii Sports Resort</td>\n",
       "      <td>Wii</td>\n",
       "      <td>2009.0</td>\n",
       "      <td>Sports</td>\n",
       "      <td>15.61</td>\n",
       "      <td>10.93</td>\n",
       "      <td>3.28</td>\n",
       "      <td>2.95</td>\n",
       "      <td>80.0</td>\n",
       "      <td>8</td>\n",
       "      <td>E</td>\n",
       "    </tr>\n",
       "    <tr>\n",
       "      <th>4</th>\n",
       "      <td>Pokemon Red/Pokemon Blue</td>\n",
       "      <td>GB</td>\n",
       "      <td>1996.0</td>\n",
       "      <td>Role-Playing</td>\n",
       "      <td>11.27</td>\n",
       "      <td>8.89</td>\n",
       "      <td>10.22</td>\n",
       "      <td>1.00</td>\n",
       "      <td>NaN</td>\n",
       "      <td>NaN</td>\n",
       "      <td>NaN</td>\n",
       "    </tr>\n",
       "  </tbody>\n",
       "</table>\n",
       "</div>"
      ],
      "text/plain": [
       "                       Name Platform  Year_of_Release         Genre  NA_sales  \\\n",
       "0                Wii Sports      Wii           2006.0        Sports     41.36   \n",
       "1         Super Mario Bros.      NES           1985.0      Platform     29.08   \n",
       "2            Mario Kart Wii      Wii           2008.0        Racing     15.68   \n",
       "3         Wii Sports Resort      Wii           2009.0        Sports     15.61   \n",
       "4  Pokemon Red/Pokemon Blue       GB           1996.0  Role-Playing     11.27   \n",
       "\n",
       "   EU_sales  JP_sales  Other_sales  Critic_Score User_Score Rating  \n",
       "0     28.96      3.77         8.45          76.0          8      E  \n",
       "1      3.58      6.81         0.77           NaN        NaN    NaN  \n",
       "2     12.76      3.79         3.29          82.0        8.3      E  \n",
       "3     10.93      3.28         2.95          80.0          8      E  \n",
       "4      8.89     10.22         1.00           NaN        NaN    NaN  "
      ]
     },
     "execution_count": 3,
     "metadata": {},
     "output_type": "execute_result"
    }
   ],
   "source": [
    "#создадим переменную и прочитаем файл с данными\n",
    "df = pd.read_csv('/datasets/games.csv')\n",
    "df.head()"
   ]
  },
  {
   "cell_type": "code",
   "execution_count": 4,
   "metadata": {},
   "outputs": [
    {
     "name": "stdout",
     "output_type": "stream",
     "text": [
      "<class 'pandas.core.frame.DataFrame'>\n",
      "RangeIndex: 16715 entries, 0 to 16714\n",
      "Data columns (total 11 columns):\n",
      " #   Column           Non-Null Count  Dtype  \n",
      "---  ------           --------------  -----  \n",
      " 0   Name             16713 non-null  object \n",
      " 1   Platform         16715 non-null  object \n",
      " 2   Year_of_Release  16446 non-null  float64\n",
      " 3   Genre            16713 non-null  object \n",
      " 4   NA_sales         16715 non-null  float64\n",
      " 5   EU_sales         16715 non-null  float64\n",
      " 6   JP_sales         16715 non-null  float64\n",
      " 7   Other_sales      16715 non-null  float64\n",
      " 8   Critic_Score     8137 non-null   float64\n",
      " 9   User_Score       10014 non-null  object \n",
      " 10  Rating           9949 non-null   object \n",
      "dtypes: float64(6), object(5)\n",
      "memory usage: 1.4+ MB\n"
     ]
    }
   ],
   "source": [
    "#смотрим информацию по данным\n",
    "df.info()"
   ]
  },
  {
   "cell_type": "markdown",
   "metadata": {},
   "source": [
    "- Name - название игры\n",
    "- Platform - платформа\n",
    "- Year_of_Release - год выпуска\n",
    "- Genre - жанр игры\n",
    "- NA_sales - продажи в Северной Америке (млн. проданных копий)\n",
    "- EU_sales - продажи в Европе (млн. проданных копий)\n",
    "- JP_sales - продажи в Японии (млн. проданных копий)\n",
    "- Other_sales - продажи в других странах (млн. проданных копий)\n",
    "- Critic_Score - оценка критиков (максимум 100 баллов)\n",
    "- User_score - оценка пользователей (максимум 10 баллов)\n",
    "- Rating - возрастной рейтинг организации ESRB (англ. Entertainment Spftware Rating Board)"
   ]
  },
  {
   "cell_type": "markdown",
   "metadata": {},
   "source": [
    "Открыл файл с данными \"/datasets/games.csv\". С помощью метода info() узнал данные о таблице. "
   ]
  },
  {
   "cell_type": "markdown",
   "metadata": {},
   "source": [
    "# 2. Предобработка Данных"
   ]
  },
  {
   "cell_type": "code",
   "execution_count": 5,
   "metadata": {},
   "outputs": [
    {
     "data": {
      "text/html": [
       "<div>\n",
       "<style scoped>\n",
       "    .dataframe tbody tr th:only-of-type {\n",
       "        vertical-align: middle;\n",
       "    }\n",
       "\n",
       "    .dataframe tbody tr th {\n",
       "        vertical-align: top;\n",
       "    }\n",
       "\n",
       "    .dataframe thead th {\n",
       "        text-align: right;\n",
       "    }\n",
       "</style>\n",
       "<table border=\"1\" class=\"dataframe\">\n",
       "  <thead>\n",
       "    <tr style=\"text-align: right;\">\n",
       "      <th></th>\n",
       "      <th>name</th>\n",
       "      <th>platform</th>\n",
       "      <th>year_of_release</th>\n",
       "      <th>genre</th>\n",
       "      <th>na_sales</th>\n",
       "      <th>eu_sales</th>\n",
       "      <th>jp_sales</th>\n",
       "      <th>other_sales</th>\n",
       "      <th>critic_score</th>\n",
       "      <th>user_score</th>\n",
       "      <th>rating</th>\n",
       "    </tr>\n",
       "  </thead>\n",
       "  <tbody>\n",
       "    <tr>\n",
       "      <th>0</th>\n",
       "      <td>Wii Sports</td>\n",
       "      <td>Wii</td>\n",
       "      <td>2006.0</td>\n",
       "      <td>Sports</td>\n",
       "      <td>41.36</td>\n",
       "      <td>28.96</td>\n",
       "      <td>3.77</td>\n",
       "      <td>8.45</td>\n",
       "      <td>76.0</td>\n",
       "      <td>8</td>\n",
       "      <td>E</td>\n",
       "    </tr>\n",
       "    <tr>\n",
       "      <th>1</th>\n",
       "      <td>Super Mario Bros.</td>\n",
       "      <td>NES</td>\n",
       "      <td>1985.0</td>\n",
       "      <td>Platform</td>\n",
       "      <td>29.08</td>\n",
       "      <td>3.58</td>\n",
       "      <td>6.81</td>\n",
       "      <td>0.77</td>\n",
       "      <td>NaN</td>\n",
       "      <td>NaN</td>\n",
       "      <td>NaN</td>\n",
       "    </tr>\n",
       "    <tr>\n",
       "      <th>2</th>\n",
       "      <td>Mario Kart Wii</td>\n",
       "      <td>Wii</td>\n",
       "      <td>2008.0</td>\n",
       "      <td>Racing</td>\n",
       "      <td>15.68</td>\n",
       "      <td>12.76</td>\n",
       "      <td>3.79</td>\n",
       "      <td>3.29</td>\n",
       "      <td>82.0</td>\n",
       "      <td>8.3</td>\n",
       "      <td>E</td>\n",
       "    </tr>\n",
       "    <tr>\n",
       "      <th>3</th>\n",
       "      <td>Wii Sports Resort</td>\n",
       "      <td>Wii</td>\n",
       "      <td>2009.0</td>\n",
       "      <td>Sports</td>\n",
       "      <td>15.61</td>\n",
       "      <td>10.93</td>\n",
       "      <td>3.28</td>\n",
       "      <td>2.95</td>\n",
       "      <td>80.0</td>\n",
       "      <td>8</td>\n",
       "      <td>E</td>\n",
       "    </tr>\n",
       "    <tr>\n",
       "      <th>4</th>\n",
       "      <td>Pokemon Red/Pokemon Blue</td>\n",
       "      <td>GB</td>\n",
       "      <td>1996.0</td>\n",
       "      <td>Role-Playing</td>\n",
       "      <td>11.27</td>\n",
       "      <td>8.89</td>\n",
       "      <td>10.22</td>\n",
       "      <td>1.00</td>\n",
       "      <td>NaN</td>\n",
       "      <td>NaN</td>\n",
       "      <td>NaN</td>\n",
       "    </tr>\n",
       "    <tr>\n",
       "      <th>...</th>\n",
       "      <td>...</td>\n",
       "      <td>...</td>\n",
       "      <td>...</td>\n",
       "      <td>...</td>\n",
       "      <td>...</td>\n",
       "      <td>...</td>\n",
       "      <td>...</td>\n",
       "      <td>...</td>\n",
       "      <td>...</td>\n",
       "      <td>...</td>\n",
       "      <td>...</td>\n",
       "    </tr>\n",
       "    <tr>\n",
       "      <th>16710</th>\n",
       "      <td>Samurai Warriors: Sanada Maru</td>\n",
       "      <td>PS3</td>\n",
       "      <td>2016.0</td>\n",
       "      <td>Action</td>\n",
       "      <td>0.00</td>\n",
       "      <td>0.00</td>\n",
       "      <td>0.01</td>\n",
       "      <td>0.00</td>\n",
       "      <td>NaN</td>\n",
       "      <td>NaN</td>\n",
       "      <td>NaN</td>\n",
       "    </tr>\n",
       "    <tr>\n",
       "      <th>16711</th>\n",
       "      <td>LMA Manager 2007</td>\n",
       "      <td>X360</td>\n",
       "      <td>2006.0</td>\n",
       "      <td>Sports</td>\n",
       "      <td>0.00</td>\n",
       "      <td>0.01</td>\n",
       "      <td>0.00</td>\n",
       "      <td>0.00</td>\n",
       "      <td>NaN</td>\n",
       "      <td>NaN</td>\n",
       "      <td>NaN</td>\n",
       "    </tr>\n",
       "    <tr>\n",
       "      <th>16712</th>\n",
       "      <td>Haitaka no Psychedelica</td>\n",
       "      <td>PSV</td>\n",
       "      <td>2016.0</td>\n",
       "      <td>Adventure</td>\n",
       "      <td>0.00</td>\n",
       "      <td>0.00</td>\n",
       "      <td>0.01</td>\n",
       "      <td>0.00</td>\n",
       "      <td>NaN</td>\n",
       "      <td>NaN</td>\n",
       "      <td>NaN</td>\n",
       "    </tr>\n",
       "    <tr>\n",
       "      <th>16713</th>\n",
       "      <td>Spirits &amp; Spells</td>\n",
       "      <td>GBA</td>\n",
       "      <td>2003.0</td>\n",
       "      <td>Platform</td>\n",
       "      <td>0.01</td>\n",
       "      <td>0.00</td>\n",
       "      <td>0.00</td>\n",
       "      <td>0.00</td>\n",
       "      <td>NaN</td>\n",
       "      <td>NaN</td>\n",
       "      <td>NaN</td>\n",
       "    </tr>\n",
       "    <tr>\n",
       "      <th>16714</th>\n",
       "      <td>Winning Post 8 2016</td>\n",
       "      <td>PSV</td>\n",
       "      <td>2016.0</td>\n",
       "      <td>Simulation</td>\n",
       "      <td>0.00</td>\n",
       "      <td>0.00</td>\n",
       "      <td>0.01</td>\n",
       "      <td>0.00</td>\n",
       "      <td>NaN</td>\n",
       "      <td>NaN</td>\n",
       "      <td>NaN</td>\n",
       "    </tr>\n",
       "  </tbody>\n",
       "</table>\n",
       "<p>16715 rows × 11 columns</p>\n",
       "</div>"
      ],
      "text/plain": [
       "                                name platform  year_of_release         genre  \\\n",
       "0                         Wii Sports      Wii           2006.0        Sports   \n",
       "1                  Super Mario Bros.      NES           1985.0      Platform   \n",
       "2                     Mario Kart Wii      Wii           2008.0        Racing   \n",
       "3                  Wii Sports Resort      Wii           2009.0        Sports   \n",
       "4           Pokemon Red/Pokemon Blue       GB           1996.0  Role-Playing   \n",
       "...                              ...      ...              ...           ...   \n",
       "16710  Samurai Warriors: Sanada Maru      PS3           2016.0        Action   \n",
       "16711               LMA Manager 2007     X360           2006.0        Sports   \n",
       "16712        Haitaka no Psychedelica      PSV           2016.0     Adventure   \n",
       "16713               Spirits & Spells      GBA           2003.0      Platform   \n",
       "16714            Winning Post 8 2016      PSV           2016.0    Simulation   \n",
       "\n",
       "       na_sales  eu_sales  jp_sales  other_sales  critic_score user_score  \\\n",
       "0         41.36     28.96      3.77         8.45          76.0          8   \n",
       "1         29.08      3.58      6.81         0.77           NaN        NaN   \n",
       "2         15.68     12.76      3.79         3.29          82.0        8.3   \n",
       "3         15.61     10.93      3.28         2.95          80.0          8   \n",
       "4         11.27      8.89     10.22         1.00           NaN        NaN   \n",
       "...         ...       ...       ...          ...           ...        ...   \n",
       "16710      0.00      0.00      0.01         0.00           NaN        NaN   \n",
       "16711      0.00      0.01      0.00         0.00           NaN        NaN   \n",
       "16712      0.00      0.00      0.01         0.00           NaN        NaN   \n",
       "16713      0.01      0.00      0.00         0.00           NaN        NaN   \n",
       "16714      0.00      0.00      0.01         0.00           NaN        NaN   \n",
       "\n",
       "      rating  \n",
       "0          E  \n",
       "1        NaN  \n",
       "2          E  \n",
       "3          E  \n",
       "4        NaN  \n",
       "...      ...  \n",
       "16710    NaN  \n",
       "16711    NaN  \n",
       "16712    NaN  \n",
       "16713    NaN  \n",
       "16714    NaN  \n",
       "\n",
       "[16715 rows x 11 columns]"
      ]
     },
     "execution_count": 5,
     "metadata": {},
     "output_type": "execute_result"
    }
   ],
   "source": [
    "#Приведем название столбцов к нижнему регистру\n",
    "df.columns = df.columns.str.lower()\n",
    "df\n"
   ]
  },
  {
   "cell_type": "markdown",
   "metadata": {},
   "source": [
    "- Проведем работу с пропусками,удалим где значение не сыграют роли в исследовании и заменим где это возможно\n",
    "\n",
    "\n",
    "\n",
    "\n",
    "\n"
   ]
  },
  {
   "cell_type": "code",
   "execution_count": 6,
   "metadata": {},
   "outputs": [
    {
     "data": {
      "text/plain": [
       "name                  2\n",
       "platform              0\n",
       "year_of_release     269\n",
       "genre                 2\n",
       "na_sales              0\n",
       "eu_sales              0\n",
       "jp_sales              0\n",
       "other_sales           0\n",
       "critic_score       8578\n",
       "user_score         6701\n",
       "rating             6766\n",
       "dtype: int64"
      ]
     },
     "execution_count": 6,
     "metadata": {},
     "output_type": "execute_result"
    }
   ],
   "source": [
    "#Выведем количество пропущенных значений для каждого столбца,использывав комбинацию двух методов.\n",
    "df.isnull().sum()"
   ]
  },
  {
   "cell_type": "code",
   "execution_count": 7,
   "metadata": {},
   "outputs": [
    {
     "data": {
      "text/plain": [
       "(16715, 11)"
      ]
     },
     "execution_count": 7,
     "metadata": {},
     "output_type": "execute_result"
    }
   ],
   "source": [
    "df.shape\n"
   ]
  },
  {
   "cell_type": "code",
   "execution_count": 8,
   "metadata": {},
   "outputs": [
    {
     "data": {
      "text/plain": [
       "name                  0\n",
       "platform              0\n",
       "year_of_release       0\n",
       "genre                 0\n",
       "na_sales              0\n",
       "eu_sales              0\n",
       "jp_sales              0\n",
       "other_sales           0\n",
       "critic_score       8461\n",
       "user_score         6605\n",
       "rating                0\n",
       "dtype: int64"
      ]
     },
     "execution_count": 8,
     "metadata": {},
     "output_type": "execute_result"
    }
   ],
   "source": [
    "#Удаляем строки из года выпуска,так как их сравнительно мало и они не повлияют на дальнейшее исследование,а заменить их нечем.\n",
    "df = df.dropna(subset=['year_of_release'])\n",
    "\n",
    "#Удаляем строки из названия игры,так как их  всего 2 и они не повлияют на дальнейшее исследование,а заменить их нечем.\n",
    "df = df.dropna(subset=['name'])\n",
    "\n",
    "#Заменим пропущенные значения в стобце с возврастным рейтингом на \"unknown\"\n",
    "df['rating'] = df['rating'].fillna('unknown')\n",
    "\n",
    "df.isnull().sum()"
   ]
  },
  {
   "cell_type": "code",
   "execution_count": 9,
   "metadata": {},
   "outputs": [
    {
     "data": {
      "text/plain": [
       "(16444, 11)"
      ]
     },
     "execution_count": 9,
     "metadata": {},
     "output_type": "execute_result"
    }
   ],
   "source": [
    "#С помощью метода shape проверили сколько строк\\столбцов было удалено\n",
    "df.shape"
   ]
  },
  {
   "cell_type": "markdown",
   "metadata": {},
   "source": [
    "1. Удалили пропуски в стобцах \"name\" и \"year_of_release\". В столбце с названиями было всего 2 пропуска из 16 тыс,в которых отсутсвовала оценка пользователей,критиков и также отсутствовали рейтинги,соответсвенно сделали вывод,что данные удаление данных не повлияет на анализ,так же в столбце с годами 269 пропусков,что является менее 2% от общего кол-ва.В столбце \"rating\"(рейтинг) заполнили пропуски заглушкой \"unknown\",удалить мы их не можем,так как удаление может сущетсвенно повлияет на исследование. Пропуски в оценка пользователе и оценках критиков заполнять заглушками мы не стали,так как это может помешать в дальнейших вычислениях,если бы мы заменили например на какое-то число,данные исказились бы,а если на слово,то формат для вычислений поменялся бы и был не корректным. \n",
    "2. Причины возникновения пропусков в рейтинге от ESRB может быть то,что в Японии например более популярно другое рейтинговое агенство,а Япония занимаю внушительную долю рынка. Пропуски в годах можно предположить отсутсвуют по причине того,что игра этого года воможно вышла очень давно и была не слишком популярна,возможно в те года еще не так следили за индустрией. 2 пропуска в названии можно предположить появились от возможной технической ошибки,возможно какой-то баг. Пропуски в столбцах с оценками критиков и пользователей могли получится из-за того,что есть игры,которые не являются слишком продаваемыми,они могут быть менее популярными,поэтому им не дают оценок.\n",
    "3. \"tbd\" - это означает,что рейтинг еще не известен,поэтому есть логика в том,что бы заменить его заглушкой,в нашем случае пропуском.\n",
    "4. Что касается связи между большим кол-вом пропусков в стобце с рейтингами и тем кто их выставляет,можно предположить причино-следсвенную связь,например мы выше описывали момент,что в Японии в основном выставляет собственное рейтинговое агенство,соответственно рейтинг от компании ESRB там выставляется менее чем в 50% случаев,значит можно констатировать,что связь присутсвует между пропусками и тем кто эти рейтинги выставляет."
   ]
  },
  {
   "cell_type": "code",
   "execution_count": 10,
   "metadata": {},
   "outputs": [
    {
     "data": {
      "text/plain": [
       "array([2006, 1985, 2008, 2009, 1996, 1989, 1984, 2005, 1999, 2007, 2010,\n",
       "       2013, 2004, 1990, 1988, 2002, 2001, 2011, 1998, 2015, 2012, 2014,\n",
       "       1992, 1997, 1993, 1994, 1982, 2016, 2003, 1986, 2000, 1995, 1991,\n",
       "       1981, 1987, 1980, 1983])"
      ]
     },
     "execution_count": 10,
     "metadata": {},
     "output_type": "execute_result"
    }
   ],
   "source": [
    "#столбец год релиза приведем к целочисленному виду\n",
    "df['year_of_release'] = df['year_of_release'].astype(int)\n",
    "df['year_of_release'].unique()"
   ]
  },
  {
   "cell_type": "markdown",
   "metadata": {},
   "source": [
    "Удалили пропуски из стобцов \"name\" и \"year_of_release\" так как их мало и они не повлияют на дальнейшее исследование. В столбце \"rating\" заменили пропуски на \"unknown\" для удобства в дальнейшем. Столбцы \"critic_score\" \"user_score\" оставили без изменений,что бы не нарушить ход дальнейшего исследования."
   ]
  },
  {
   "cell_type": "markdown",
   "metadata": {},
   "source": [
    "Привели год релиза к целочисленному виду,так будет корректно."
   ]
  },
  {
   "cell_type": "code",
   "execution_count": 11,
   "metadata": {},
   "outputs": [
    {
     "data": {
      "text/plain": [
       "3"
      ]
     },
     "execution_count": 11,
     "metadata": {},
     "output_type": "execute_result"
    }
   ],
   "source": [
    "#Проверим данные в таблице на явные дубликаты\n",
    "df.duplicated(subset=['name','platform']).sum()"
   ]
  },
  {
   "cell_type": "code",
   "execution_count": 12,
   "metadata": {},
   "outputs": [
    {
     "data": {
      "text/plain": [
       "array(['8', nan, '8.3', '8.5', '6.6', '8.4', '8.6', '7.7', '6.3', '7.4',\n",
       "       '8.2', '9', '7.9', '8.1', '8.7', '7.1', '3.4', '5.3', '4.8', '3.2',\n",
       "       '8.9', '6.4', '7.8', '7.5', '2.6', '7.2', '9.2', '7', '7.3', '4.3',\n",
       "       '7.6', '5.7', '5', '9.1', '6.5', 'tbd', '8.8', '6.9', '9.4', '6.8',\n",
       "       '6.1', '6.7', '5.4', '4', '4.9', '4.5', '9.3', '6.2', '4.2', '6',\n",
       "       '3.7', '4.1', '5.8', '5.6', '5.5', '4.4', '4.6', '5.9', '3.9',\n",
       "       '3.1', '2.9', '5.2', '3.3', '4.7', '5.1', '3.5', '2.5', '1.9', '3',\n",
       "       '2.7', '2.2', '2', '9.5', '2.1', '3.6', '2.8', '1.8', '3.8', '0',\n",
       "       '1.6', '9.6', '2.4', '1.7', '1.1', '0.3', '1.5', '0.7', '1.2',\n",
       "       '2.3', '0.5', '1.3', '0.2', '0.6', '1.4', '0.9', '1', '9.7'],\n",
       "      dtype=object)"
      ]
     },
     "execution_count": 12,
     "metadata": {},
     "output_type": "execute_result"
    }
   ],
   "source": [
    "#проверим уникальные значения в столбце оценки пользователей\n",
    "df['user_score'].unique()"
   ]
  },
  {
   "cell_type": "code",
   "execution_count": 13,
   "metadata": {},
   "outputs": [
    {
     "data": {
      "text/plain": [
       "array([76., nan, 82., 80., 89., 58., 87., 91., 61., 97., 95., 77., 88.,\n",
       "       83., 94., 93., 85., 86., 98., 96., 90., 84., 73., 74., 78., 92.,\n",
       "       71., 72., 68., 62., 49., 67., 81., 66., 56., 79., 70., 59., 64.,\n",
       "       75., 60., 63., 69., 50., 25., 42., 44., 55., 48., 57., 29., 47.,\n",
       "       65., 54., 20., 53., 37., 38., 33., 52., 30., 32., 43., 45., 51.,\n",
       "       40., 46., 39., 34., 41., 36., 31., 27., 35., 26., 19., 28., 23.,\n",
       "       24., 21., 17., 13.])"
      ]
     },
     "execution_count": 13,
     "metadata": {},
     "output_type": "execute_result"
    }
   ],
   "source": [
    "#проверим уникальные значения в столбце оценки критиков\n",
    "df['critic_score'].unique()"
   ]
  },
  {
   "cell_type": "code",
   "execution_count": 14,
   "metadata": {},
   "outputs": [],
   "source": [
    "#Заменим аномальное значение tbd на заглушку nan\n",
    "df['user_score'] = df['user_score'].replace('tbd', np.NaN)\n",
    "df['user_score'].unique()\n",
    "df['user_score'] = df['user_score'].astype('float')"
   ]
  },
  {
   "cell_type": "markdown",
   "metadata": {},
   "source": [
    "Нашли аномалию \"tbd\" в столбце с оценками пользователей и заменили ее на пустое значение и заменили тип столбца.\n",
    "\"tbd\" - с английского переводится как рейтинг еще не известен,соответвенно логично поставить заглушку в виде пропуска."
   ]
  },
  {
   "cell_type": "code",
   "execution_count": 15,
   "metadata": {},
   "outputs": [
    {
     "name": "stdout",
     "output_type": "stream",
     "text": [
      "<class 'pandas.core.frame.DataFrame'>\n",
      "Int64Index: 16444 entries, 0 to 16714\n",
      "Data columns (total 11 columns):\n",
      " #   Column           Non-Null Count  Dtype  \n",
      "---  ------           --------------  -----  \n",
      " 0   name             16444 non-null  object \n",
      " 1   platform         16444 non-null  object \n",
      " 2   year_of_release  16444 non-null  int64  \n",
      " 3   genre            16444 non-null  object \n",
      " 4   na_sales         16444 non-null  float64\n",
      " 5   eu_sales         16444 non-null  float64\n",
      " 6   jp_sales         16444 non-null  float64\n",
      " 7   other_sales      16444 non-null  float64\n",
      " 8   critic_score     7983 non-null   float64\n",
      " 9   user_score       7463 non-null   float64\n",
      " 10  rating           16444 non-null  object \n",
      "dtypes: float64(6), int64(1), object(4)\n",
      "memory usage: 1.5+ MB\n"
     ]
    }
   ],
   "source": [
    "df.info()"
   ]
  },
  {
   "cell_type": "code",
   "execution_count": 16,
   "metadata": {},
   "outputs": [
    {
     "data": {
      "text/html": [
       "<div>\n",
       "<style scoped>\n",
       "    .dataframe tbody tr th:only-of-type {\n",
       "        vertical-align: middle;\n",
       "    }\n",
       "\n",
       "    .dataframe tbody tr th {\n",
       "        vertical-align: top;\n",
       "    }\n",
       "\n",
       "    .dataframe thead th {\n",
       "        text-align: right;\n",
       "    }\n",
       "</style>\n",
       "<table border=\"1\" class=\"dataframe\">\n",
       "  <thead>\n",
       "    <tr style=\"text-align: right;\">\n",
       "      <th></th>\n",
       "      <th>name</th>\n",
       "      <th>platform</th>\n",
       "      <th>year_of_release</th>\n",
       "      <th>genre</th>\n",
       "      <th>na_sales</th>\n",
       "      <th>eu_sales</th>\n",
       "      <th>jp_sales</th>\n",
       "      <th>other_sales</th>\n",
       "      <th>critic_score</th>\n",
       "      <th>user_score</th>\n",
       "      <th>rating</th>\n",
       "      <th>total_sales</th>\n",
       "    </tr>\n",
       "  </thead>\n",
       "  <tbody>\n",
       "    <tr>\n",
       "      <th>0</th>\n",
       "      <td>Wii Sports</td>\n",
       "      <td>Wii</td>\n",
       "      <td>2006</td>\n",
       "      <td>Sports</td>\n",
       "      <td>41.36</td>\n",
       "      <td>28.96</td>\n",
       "      <td>3.77</td>\n",
       "      <td>8.45</td>\n",
       "      <td>76.0</td>\n",
       "      <td>8.0</td>\n",
       "      <td>E</td>\n",
       "      <td>82.54</td>\n",
       "    </tr>\n",
       "    <tr>\n",
       "      <th>1</th>\n",
       "      <td>Super Mario Bros.</td>\n",
       "      <td>NES</td>\n",
       "      <td>1985</td>\n",
       "      <td>Platform</td>\n",
       "      <td>29.08</td>\n",
       "      <td>3.58</td>\n",
       "      <td>6.81</td>\n",
       "      <td>0.77</td>\n",
       "      <td>NaN</td>\n",
       "      <td>NaN</td>\n",
       "      <td>unknown</td>\n",
       "      <td>40.24</td>\n",
       "    </tr>\n",
       "    <tr>\n",
       "      <th>2</th>\n",
       "      <td>Mario Kart Wii</td>\n",
       "      <td>Wii</td>\n",
       "      <td>2008</td>\n",
       "      <td>Racing</td>\n",
       "      <td>15.68</td>\n",
       "      <td>12.76</td>\n",
       "      <td>3.79</td>\n",
       "      <td>3.29</td>\n",
       "      <td>82.0</td>\n",
       "      <td>8.3</td>\n",
       "      <td>E</td>\n",
       "      <td>35.52</td>\n",
       "    </tr>\n",
       "    <tr>\n",
       "      <th>3</th>\n",
       "      <td>Wii Sports Resort</td>\n",
       "      <td>Wii</td>\n",
       "      <td>2009</td>\n",
       "      <td>Sports</td>\n",
       "      <td>15.61</td>\n",
       "      <td>10.93</td>\n",
       "      <td>3.28</td>\n",
       "      <td>2.95</td>\n",
       "      <td>80.0</td>\n",
       "      <td>8.0</td>\n",
       "      <td>E</td>\n",
       "      <td>32.77</td>\n",
       "    </tr>\n",
       "    <tr>\n",
       "      <th>4</th>\n",
       "      <td>Pokemon Red/Pokemon Blue</td>\n",
       "      <td>GB</td>\n",
       "      <td>1996</td>\n",
       "      <td>Role-Playing</td>\n",
       "      <td>11.27</td>\n",
       "      <td>8.89</td>\n",
       "      <td>10.22</td>\n",
       "      <td>1.00</td>\n",
       "      <td>NaN</td>\n",
       "      <td>NaN</td>\n",
       "      <td>unknown</td>\n",
       "      <td>31.38</td>\n",
       "    </tr>\n",
       "  </tbody>\n",
       "</table>\n",
       "</div>"
      ],
      "text/plain": [
       "                       name platform  year_of_release         genre  na_sales  \\\n",
       "0                Wii Sports      Wii             2006        Sports     41.36   \n",
       "1         Super Mario Bros.      NES             1985      Platform     29.08   \n",
       "2            Mario Kart Wii      Wii             2008        Racing     15.68   \n",
       "3         Wii Sports Resort      Wii             2009        Sports     15.61   \n",
       "4  Pokemon Red/Pokemon Blue       GB             1996  Role-Playing     11.27   \n",
       "\n",
       "   eu_sales  jp_sales  other_sales  critic_score  user_score   rating  \\\n",
       "0     28.96      3.77         8.45          76.0         8.0        E   \n",
       "1      3.58      6.81         0.77           NaN         NaN  unknown   \n",
       "2     12.76      3.79         3.29          82.0         8.3        E   \n",
       "3     10.93      3.28         2.95          80.0         8.0        E   \n",
       "4      8.89     10.22         1.00           NaN         NaN  unknown   \n",
       "\n",
       "   total_sales  \n",
       "0        82.54  \n",
       "1        40.24  \n",
       "2        35.52  \n",
       "3        32.77  \n",
       "4        31.38  "
      ]
     },
     "execution_count": 16,
     "metadata": {},
     "output_type": "execute_result"
    }
   ],
   "source": [
    "#добавим столбец в таблицу df c общей суммой продаж по регионам\n",
    "df['total_sales'] = df['na_sales'] + df['eu_sales'] + df['jp_sales'] + df['other_sales']\n",
    "df.head()"
   ]
  },
  {
   "cell_type": "markdown",
   "metadata": {},
   "source": [
    "Посчитали суммарные продажи во всех регионах и записали их в отдельный столбец"
   ]
  },
  {
   "cell_type": "markdown",
   "metadata": {},
   "source": [
    "# Вывод\n",
    "Выполнили предобработку данных,нашли пропущенные значения и где это было возможно заменили их,привели к целочисленному типу некоторые столбцы для удобства дальнейшего анализа. Проверили на Явные дубликаты(их не оказалось) и не явные дубликаты,устранили их. Отсекли аномальные значения,оставив высоту потолков не выше 5 и не ниже 2.3 метров"
   ]
  },
  {
   "cell_type": "markdown",
   "metadata": {},
   "source": [
    "# 3. Исследовательский анализ"
   ]
  },
  {
   "cell_type": "markdown",
   "metadata": {},
   "source": [
    "Посмотрим сколько игр выпускалось в разные годы."
   ]
  },
  {
   "cell_type": "code",
   "execution_count": 17,
   "metadata": {},
   "outputs": [
    {
     "data": {
      "image/png": "[encoded data removed]",
      "text/plain": [
       "<Figure size 1440x720 with 1 Axes>"
      ]
     },
     "metadata": {
      "needs_background": "light"
     },
     "output_type": "display_data"
    }
   ],
   "source": [
    "#построим свод с колличеством игр по годам\n",
    "df.pivot_table(index='year_of_release',values='name',aggfunc='count').plot(kind='bar',grid='True',figsize=(20,10))\n",
    "plt.title('Распределение по годам количества выпущенных игр')\n",
    "plt.xlabel('Годы')\n",
    "plt.ylabel('Количество выпущенных игр')\n",
    "plt.show()"
   ]
  },
  {
   "cell_type": "markdown",
   "metadata": {},
   "source": [
    "Глядя на гистограмму,можно сделать вывод,что до 1995 года игры практически не выпускались,кол-во составляет менее 500 за год. Активный рост индустрии начался с начала 2000-х,скорее всего это связано с высоким уровнем развития компьютерных технологий и то,что для людей появились новые способы развлечений,появился большой спрос,видно что пик приходится на 2010 год. \n",
    "Отвечая на вопрос,важны ли все данные,можно предположить,что данные до 1995 года не сильно повлияют на результат исследования"
   ]
  },
  {
   "cell_type": "code",
   "execution_count": 18,
   "metadata": {},
   "outputs": [
    {
     "data": {
      "text/html": [
       "<div>\n",
       "<style scoped>\n",
       "    .dataframe tbody tr th:only-of-type {\n",
       "        vertical-align: middle;\n",
       "    }\n",
       "\n",
       "    .dataframe tbody tr th {\n",
       "        vertical-align: top;\n",
       "    }\n",
       "\n",
       "    .dataframe thead th {\n",
       "        text-align: right;\n",
       "    }\n",
       "</style>\n",
       "<table border=\"1\" class=\"dataframe\">\n",
       "  <thead>\n",
       "    <tr style=\"text-align: right;\">\n",
       "      <th></th>\n",
       "      <th>platform</th>\n",
       "      <th>total_sales</th>\n",
       "    </tr>\n",
       "  </thead>\n",
       "  <tbody>\n",
       "    <tr>\n",
       "      <th>16</th>\n",
       "      <td>PS2</td>\n",
       "      <td>1233.56</td>\n",
       "    </tr>\n",
       "    <tr>\n",
       "      <th>28</th>\n",
       "      <td>X360</td>\n",
       "      <td>961.24</td>\n",
       "    </tr>\n",
       "    <tr>\n",
       "      <th>17</th>\n",
       "      <td>PS3</td>\n",
       "      <td>931.34</td>\n",
       "    </tr>\n",
       "    <tr>\n",
       "      <th>26</th>\n",
       "      <td>Wii</td>\n",
       "      <td>891.18</td>\n",
       "    </tr>\n",
       "    <tr>\n",
       "      <th>4</th>\n",
       "      <td>DS</td>\n",
       "      <td>802.78</td>\n",
       "    </tr>\n",
       "    <tr>\n",
       "      <th>15</th>\n",
       "      <td>PS</td>\n",
       "      <td>727.58</td>\n",
       "    </tr>\n",
       "    <tr>\n",
       "      <th>18</th>\n",
       "      <td>PS4</td>\n",
       "      <td>314.14</td>\n",
       "    </tr>\n",
       "    <tr>\n",
       "      <th>6</th>\n",
       "      <td>GBA</td>\n",
       "      <td>312.88</td>\n",
       "    </tr>\n",
       "    <tr>\n",
       "      <th>19</th>\n",
       "      <td>PSP</td>\n",
       "      <td>289.53</td>\n",
       "    </tr>\n",
       "    <tr>\n",
       "      <th>2</th>\n",
       "      <td>3DS</td>\n",
       "      <td>257.81</td>\n",
       "    </tr>\n",
       "    <tr>\n",
       "      <th>13</th>\n",
       "      <td>PC</td>\n",
       "      <td>255.76</td>\n",
       "    </tr>\n",
       "    <tr>\n",
       "      <th>5</th>\n",
       "      <td>GB</td>\n",
       "      <td>254.43</td>\n",
       "    </tr>\n",
       "    <tr>\n",
       "      <th>29</th>\n",
       "      <td>XB</td>\n",
       "      <td>251.57</td>\n",
       "    </tr>\n",
       "    <tr>\n",
       "      <th>11</th>\n",
       "      <td>NES</td>\n",
       "      <td>251.05</td>\n",
       "    </tr>\n",
       "    <tr>\n",
       "      <th>10</th>\n",
       "      <td>N64</td>\n",
       "      <td>218.01</td>\n",
       "    </tr>\n",
       "    <tr>\n",
       "      <th>23</th>\n",
       "      <td>SNES</td>\n",
       "      <td>200.04</td>\n",
       "    </tr>\n",
       "    <tr>\n",
       "      <th>7</th>\n",
       "      <td>GC</td>\n",
       "      <td>196.73</td>\n",
       "    </tr>\n",
       "    <tr>\n",
       "      <th>30</th>\n",
       "      <td>XOne</td>\n",
       "      <td>159.32</td>\n",
       "    </tr>\n",
       "    <tr>\n",
       "      <th>0</th>\n",
       "      <td>2600</td>\n",
       "      <td>86.48</td>\n",
       "    </tr>\n",
       "    <tr>\n",
       "      <th>27</th>\n",
       "      <td>WiiU</td>\n",
       "      <td>82.19</td>\n",
       "    </tr>\n",
       "    <tr>\n",
       "      <th>20</th>\n",
       "      <td>PSV</td>\n",
       "      <td>53.81</td>\n",
       "    </tr>\n",
       "    <tr>\n",
       "      <th>21</th>\n",
       "      <td>SAT</td>\n",
       "      <td>33.59</td>\n",
       "    </tr>\n",
       "    <tr>\n",
       "      <th>8</th>\n",
       "      <td>GEN</td>\n",
       "      <td>28.35</td>\n",
       "    </tr>\n",
       "    <tr>\n",
       "      <th>3</th>\n",
       "      <td>DC</td>\n",
       "      <td>15.95</td>\n",
       "    </tr>\n",
       "    <tr>\n",
       "      <th>22</th>\n",
       "      <td>SCD</td>\n",
       "      <td>1.86</td>\n",
       "    </tr>\n",
       "    <tr>\n",
       "      <th>12</th>\n",
       "      <td>NG</td>\n",
       "      <td>1.44</td>\n",
       "    </tr>\n",
       "    <tr>\n",
       "      <th>25</th>\n",
       "      <td>WS</td>\n",
       "      <td>1.42</td>\n",
       "    </tr>\n",
       "    <tr>\n",
       "      <th>24</th>\n",
       "      <td>TG16</td>\n",
       "      <td>0.16</td>\n",
       "    </tr>\n",
       "    <tr>\n",
       "      <th>1</th>\n",
       "      <td>3DO</td>\n",
       "      <td>0.10</td>\n",
       "    </tr>\n",
       "    <tr>\n",
       "      <th>9</th>\n",
       "      <td>GG</td>\n",
       "      <td>0.04</td>\n",
       "    </tr>\n",
       "    <tr>\n",
       "      <th>14</th>\n",
       "      <td>PCFX</td>\n",
       "      <td>0.03</td>\n",
       "    </tr>\n",
       "  </tbody>\n",
       "</table>\n",
       "</div>"
      ],
      "text/plain": [
       "   platform  total_sales\n",
       "16      PS2      1233.56\n",
       "28     X360       961.24\n",
       "17      PS3       931.34\n",
       "26      Wii       891.18\n",
       "4        DS       802.78\n",
       "15       PS       727.58\n",
       "18      PS4       314.14\n",
       "6       GBA       312.88\n",
       "19      PSP       289.53\n",
       "2       3DS       257.81\n",
       "13       PC       255.76\n",
       "5        GB       254.43\n",
       "29       XB       251.57\n",
       "11      NES       251.05\n",
       "10      N64       218.01\n",
       "23     SNES       200.04\n",
       "7        GC       196.73\n",
       "30     XOne       159.32\n",
       "0      2600        86.48\n",
       "27     WiiU        82.19\n",
       "20      PSV        53.81\n",
       "21      SAT        33.59\n",
       "8       GEN        28.35\n",
       "3        DC        15.95\n",
       "22      SCD         1.86\n",
       "12       NG         1.44\n",
       "25       WS         1.42\n",
       "24     TG16         0.16\n",
       "1       3DO         0.10\n",
       "9        GG         0.04\n",
       "14     PCFX         0.03"
      ]
     },
     "execution_count": 18,
     "metadata": {},
     "output_type": "execute_result"
    }
   ],
   "source": [
    "#Выявили платформы с наибольшими сумарными продажами\n",
    "df_top_platform = df.pivot_table(index='platform',values='total_sales',aggfunc='sum').reset_index().sort_values(by='total_sales',ascending=False)\n",
    "df_top_platform"
   ]
  },
  {
   "cell_type": "markdown",
   "metadata": {},
   "source": [
    "<div style=\"background: #B0E0E6; padding: 5px; border: 1px solid SteelBlue; border-radius: 5px;\">\n",
    "    <font color='4682B4'><u><b>КОММЕНТАРИЙ СТУДЕНТА</b></u></font>\n",
    "    <br />\n",
    "    <font color='4682B4'>Принял к сведению,благодарю за совет</font>\n",
    "</div>"
   ]
  },
  {
   "cell_type": "code",
   "execution_count": 19,
   "metadata": {},
   "outputs": [
    {
     "data": {
      "image/png": "[encoded data removed]",
      "text/plain": [
       "<Figure size 1440x720 with 1 Axes>"
      ]
     },
     "metadata": {
      "needs_background": "light"
     },
     "output_type": "display_data"
    }
   ],
   "source": [
    "#построим график как менялись продажи по платформам\n",
    "df_top_platform.plot(x='platform',kind='bar',color='green',grid=True,figsize=(20,10))\n",
    "plt.title('Как менялись продажи по платформам')\n",
    "plt.xlabel('Платформы')\n",
    "plt.ylabel('Продажи')\n",
    "plt.show()"
   ]
  },
  {
   "cell_type": "markdown",
   "metadata": {},
   "source": [
    "По графику видно топ 6 лидирующих платформ. На основании топ 6 построим график распределения по годам"
   ]
  },
  {
   "cell_type": "code",
   "execution_count": 21,
   "metadata": {},
   "outputs": [
    {
     "data": {
      "image/png": "[encoded data removed]",
      "text/plain": [
       "<Figure size 432x288 with 1 Axes>"
      ]
     },
     "metadata": {
      "needs_background": "light"
     },
     "output_type": "display_data"
    },
    {
     "data": {
      "image/png": "[encoded data removed]",
      "text/plain": [
       "<Figure size 432x288 with 1 Axes>"
      ]
     },
     "metadata": {
      "needs_background": "light"
     },
     "output_type": "display_data"
    },
    {
     "data": {
      "image/png": "[encoded data removed]",
      "text/plain": [
       "<Figure size 432x288 with 1 Axes>"
      ]
     },
     "metadata": {
      "needs_background": "light"
     },
     "output_type": "display_data"
    }
   ],
   "source": [
    "platform_list = ['PS2', 'X360', 'DS']\n",
    "\n",
    "for pl in platform_list:\n",
    "    df[df['platform'] == pl] \\\n",
    "                        .pivot_table(index='year_of_release',\n",
    "                                     values='total_sales',\n",
    "                                     aggfunc='sum') \\\n",
    "                        .plot(grid=True,kind='bar')\n",
    "\n",
    "    plt.title('Распределение для {}'.format(pl))\n",
    "    plt.xlabel('Год')\n",
    "    plt.ylabel('Продажи млн.копий')\n",
    "    plt.show()"
   ]
  },
  {
   "cell_type": "markdown",
   "metadata": {},
   "source": [
    "Пик популярности PS2 приходится на период с 2002-2004 года"
   ]
  },
  {
   "cell_type": "markdown",
   "metadata": {},
   "source": [
    "Пик популярности х360 приходится на 2010 год"
   ]
  },
  {
   "cell_type": "markdown",
   "metadata": {},
   "source": [
    "Пик популярности PS3 приходится на 2011 год"
   ]
  },
  {
   "cell_type": "code",
   "execution_count": 25,
   "metadata": {},
   "outputs": [
    {
     "data": {
      "text/html": [
       "<div>\n",
       "<style scoped>\n",
       "    .dataframe tbody tr th:only-of-type {\n",
       "        vertical-align: middle;\n",
       "    }\n",
       "\n",
       "    .dataframe tbody tr th {\n",
       "        vertical-align: top;\n",
       "    }\n",
       "\n",
       "    .dataframe thead th {\n",
       "        text-align: right;\n",
       "    }\n",
       "</style>\n",
       "<table border=\"1\" class=\"dataframe\">\n",
       "  <thead>\n",
       "    <tr style=\"text-align: right;\">\n",
       "      <th></th>\n",
       "      <th>total_sales</th>\n",
       "    </tr>\n",
       "    <tr>\n",
       "      <th>year_of_release</th>\n",
       "      <th></th>\n",
       "    </tr>\n",
       "  </thead>\n",
       "  <tbody>\n",
       "    <tr>\n",
       "      <th>2004</th>\n",
       "      <td>17.27</td>\n",
       "    </tr>\n",
       "    <tr>\n",
       "      <th>2005</th>\n",
       "      <td>130.14</td>\n",
       "    </tr>\n",
       "    <tr>\n",
       "      <th>2006</th>\n",
       "      <td>119.81</td>\n",
       "    </tr>\n",
       "    <tr>\n",
       "      <th>2007</th>\n",
       "      <td>146.94</td>\n",
       "    </tr>\n",
       "    <tr>\n",
       "      <th>2008</th>\n",
       "      <td>145.31</td>\n",
       "    </tr>\n",
       "    <tr>\n",
       "      <th>2009</th>\n",
       "      <td>119.54</td>\n",
       "    </tr>\n",
       "    <tr>\n",
       "      <th>2010</th>\n",
       "      <td>85.02</td>\n",
       "    </tr>\n",
       "    <tr>\n",
       "      <th>2011</th>\n",
       "      <td>26.18</td>\n",
       "    </tr>\n",
       "    <tr>\n",
       "      <th>2012</th>\n",
       "      <td>11.01</td>\n",
       "    </tr>\n",
       "    <tr>\n",
       "      <th>2013</th>\n",
       "      <td>1.54</td>\n",
       "    </tr>\n",
       "  </tbody>\n",
       "</table>\n",
       "</div>"
      ],
      "text/plain": [
       "                 total_sales\n",
       "year_of_release             \n",
       "2004                   17.27\n",
       "2005                  130.14\n",
       "2006                  119.81\n",
       "2007                  146.94\n",
       "2008                  145.31\n",
       "2009                  119.54\n",
       "2010                   85.02\n",
       "2011                   26.18\n",
       "2012                   11.01\n",
       "2013                    1.54"
      ]
     },
     "execution_count": 25,
     "metadata": {},
     "output_type": "execute_result"
    }
   ],
   "source": [
    "#Удалим аномалию 1985 год,т.к. DS начали выпускать только в 2004 году\n",
    "\n",
    "ds = df.query('platform == \"DS\"').pivot_table(index='year_of_release',values='total_sales',aggfunc='sum').reset_index().drop(labels=0)\n",
    "\n",
    "ds = ds.pivot_table(index='year_of_release',values='total_sales',aggfunc='sum')\n",
    "ds"
   ]
  },
  {
   "cell_type": "markdown",
   "metadata": {},
   "source": [
    "Пик популярности DS приходится на 2007-2008 года."
   ]
  },
  {
   "cell_type": "code",
   "execution_count": 27,
   "metadata": {},
   "outputs": [
    {
     "data": {
      "image/png": "[encoded data removed]",
      "text/plain": [
       "<Figure size 432x288 with 1 Axes>"
      ]
     },
     "metadata": {
      "needs_background": "light"
     },
     "output_type": "display_data"
    }
   ],
   "source": [
    "#построим график распределения для PS\n",
    "df[df['platform'] == 'PS'].pivot_table(index='year_of_release',values='total_sales',aggfunc='sum')\\\n",
    ".plot(grid=True,kind='bar')\n",
    "plt.title('Распределение для PS')\n",
    "plt.xlabel('Год')\n",
    "plt.ylabel('Продажи млн.копий')\n",
    "plt.show()"
   ]
  },
  {
   "cell_type": "markdown",
   "metadata": {},
   "source": [
    "Пик популярности Ps приходится на 1998 год."
   ]
  },
  {
   "cell_type": "markdown",
   "metadata": {},
   "source": [
    "###### Вывод\n",
    "Мы построили графики распределения по годам 6 крупнейших платформ по продажам. Глядя на них можно сделать вывод,что в среднем характерный срок \"жизни\" платформы составляет около 10 лет,по графику это хорошо видно.Из 10 лет около 5-7 лет продажи идут очень хорошо,далее спад. Скорее всего по истечению времени выпускается обновленная платформа,с более современными технологиями и сменяет старую."
   ]
  },
  {
   "cell_type": "code",
   "execution_count": 28,
   "metadata": {},
   "outputs": [
    {
     "data": {
      "image/png": "[encoded data removed]",
      "text/plain": [
       "<Figure size 1440x720 with 1 Axes>"
      ]
     },
     "metadata": {
      "needs_background": "light"
     },
     "output_type": "display_data"
    }
   ],
   "source": [
    "#построим график по актуальным данным,с 2012 года\n",
    "games = df[df['year_of_release'] >= 2012]\n",
    "games.pivot_table(index ='platform',values='total_sales',aggfunc='sum')\\\n",
    ".sort_values(by='total_sales',ascending=False)\\\n",
    ".plot(kind='bar',grid=True,figsize=(20,10))\n",
    "plt.title('Как менялись продажи по платформам')\n",
    "plt.xlabel('Платформы')\n",
    "plt.ylabel('Продажи')\n",
    "plt.show()"
   ]
  },
  {
   "cell_type": "markdown",
   "metadata": {},
   "source": [
    "Глядя на новый график с актуальной информацией не ниже 2012 года,видно что лидеры поменялись."
   ]
  },
  {
   "cell_type": "markdown",
   "metadata": {},
   "source": [
    "Посмотрим какие платформы лидируют по продажам, растут или падают. Возьмем несколько потенциально прибыльных платформ."
   ]
  },
  {
   "cell_type": "code",
   "execution_count": 29,
   "metadata": {},
   "outputs": [
    {
     "data": {
      "image/png": "[encoded data removed]",
      "text/plain": [
       "<Figure size 1440x432 with 1 Axes>"
      ]
     },
     "metadata": {
      "needs_background": "light"
     },
     "output_type": "display_data"
    }
   ],
   "source": [
    "#построим график лидирующих топ 6 платформ по продажам,кто лидирует,кто растет,кто падает.\n",
    "top_6 = ['PS4','PS3','X360','3DS','XOne','WiiU']\n",
    "bar_colors = 'blue','red','green','orange','grey','yellow'\n",
    "games.query('platform == @top_6').pivot_table(\n",
    "    index='year_of_release',columns='platform',values='total_sales',aggfunc='sum').plot(grid=True,\\\n",
    "                                                                                       color=bar_colors,figsize=(20,6))\n",
    "plt.xlabel('Год')\n",
    "plt.ylabel('Продажи')\n",
    "plt.title('Платформы')\n",
    "plt.show()"
   ]
  },
  {
   "cell_type": "markdown",
   "metadata": {},
   "source": [
    "Если брать актуальные данные,то видно что есть два лидера,которые показали лучший результат на фоне остальных это \"PS4\" и \"Xone\", что не удивительно,на тот момент времени это были новейшие консоли и самые популярные платформы в мире. Видно что пик продаж пришелся на начало 2015 года,возможно как раз предзаказы к моменту их выхода,далее покупки пошли на спад,но тем неменее они остались в лидерах"
   ]
  },
  {
   "cell_type": "code",
   "execution_count": 30,
   "metadata": {},
   "outputs": [
    {
     "data": {
      "image/png": "[encoded data removed]",
      "text/plain": [
       "<Figure size 1440x720 with 1 Axes>"
      ]
     },
     "metadata": {
      "needs_background": "light"
     },
     "output_type": "display_data"
    }
   ],
   "source": [
    "#Построим график «ящик с усами» по глобальным продажам игр в разбивке по платформам\n",
    "games_top = games.query('platform == @top_6')\n",
    "plt.figure(figsize=(20, 10))\n",
    "plt.ylim(0, 3)\n",
    "sns.boxplot(x='platform',y='total_sales',data=games_top)\n",
    "plt.title('глобальные продажи игр топ 6 платформ')\n",
    "plt.xlabel('платформы')\n",
    "plt.ylabel('продажи')\n",
    "plt.show()\n"
   ]
  },
  {
   "cell_type": "code",
   "execution_count": 31,
   "metadata": {},
   "outputs": [
    {
     "data": {
      "image/png": "[encoded data removed]",
      "text/plain": [
       "<Figure size 1440x720 with 1 Axes>"
      ]
     },
     "metadata": {
      "needs_background": "light"
     },
     "output_type": "display_data"
    }
   ],
   "source": [
    "#Построим второй график «ящик с усами» по глобальным продажам игр в разбивке по платформам с теми же данными,\n",
    "#но уменьшим параметр ylim для большей наглядности,что бы было четко видно нижнюю часть boxplot\n",
    "\n",
    "games_top = games.query('platform == @top_6')\n",
    "plt.figure(figsize=(20, 10))\n",
    "plt.ylim(0, 0.9)\n",
    "sns.boxplot(x='platform',y='total_sales',data=games_top)\n",
    "plt.title('глобальные продажи игр топ 6 платформ')\n",
    "plt.xlabel('платформы')\n",
    "plt.ylabel('продажи')\n",
    "plt.show()\n"
   ]
  },
  {
   "cell_type": "markdown",
   "metadata": {},
   "source": [
    "На графике видно,что медиана находится ближе к нижней части,что дает понять что на платформах выходит достаточно много игр,но с не сильно высокими продажами"
   ]
  },
  {
   "cell_type": "code",
   "execution_count": 32,
   "metadata": {},
   "outputs": [
    {
     "data": {
      "image/png": "[encoded data removed]",
      "text/plain": [
       "<Figure size 936x936 with 9 Axes>"
      ]
     },
     "metadata": {
      "needs_background": "light"
     },
     "output_type": "display_data"
    },
    {
     "name": "stdout",
     "output_type": "stream",
     "text": [
      "Корреляция между отзывами и продажами:\n",
      "\n",
      "critic_score    0.416998\n",
      "user_score     -0.068925\n",
      "total_sales     1.000000\n",
      "Name: total_sales, dtype: float64\n"
     ]
    }
   ],
   "source": [
    "#Посмотрим, как влияют на продажи внутри одной популярной платформы отзывы пользователей и критиков. \n",
    "#Построим диаграмму рассеяния и посчитаем корреляцию между отзывами и продажами\n",
    "xone = ['XOne']\n",
    "games_top_xone = games_top.query('platform == @xone')\n",
    "games_top_xone_matrix = games_top_xone[['critic_score', 'user_score', 'total_sales']]\n",
    "pd.plotting.scatter_matrix(games_top_xone_matrix,figsize=(13,13))\n",
    "plt.show()\n",
    "print('Корреляция между отзывами и продажами:')\n",
    "print()\n",
    "print(games_top_xone[['critic_score', 'user_score', 'total_sales']].corr()['total_sales'])"
   ]
  },
  {
   "cell_type": "markdown",
   "metadata": {},
   "source": [
    "Можно увидеть,что оценки пользователей на платформе Х360 не имеют корреляции с продажами на этой платформе,если глянуть на корреляцию от критиков,тут корреляция средне-слабая с \"цифрами\" продаж.\n"
   ]
  },
  {
   "cell_type": "code",
   "execution_count": 33,
   "metadata": {},
   "outputs": [
    {
     "data": {
      "image/png": "[encoded data removed]",
      "text/plain": [
       "<Figure size 936x936 with 9 Axes>"
      ]
     },
     "metadata": {
      "needs_background": "light"
     },
     "output_type": "display_data"
    },
    {
     "name": "stdout",
     "output_type": "stream",
     "text": [
      "Корреляция между отзывами и продажами:\n",
      "\n",
      "critic_score    0.331497\n",
      "user_score     -0.005144\n",
      "total_sales     1.000000\n",
      "Name: total_sales, dtype: float64\n"
     ]
    }
   ],
   "source": [
    "#Соотнесем выводы с продажами игр на других платформах. \n",
    "\n",
    "ps3 = ['PS3']\n",
    "games_top_ps3 = games_top.query('platform == @ps3')\n",
    "games_top_ps3_matrix = games_top_ps3[['critic_score', 'user_score', 'total_sales']]\n",
    "pd.plotting.scatter_matrix(games_top_ps3_matrix,figsize=(13,13))\n",
    "plt.show()\n",
    "print('Корреляция между отзывами и продажами:')\n",
    "print()\n",
    "print(games_top_ps3[['critic_score', 'user_score', 'total_sales']].corr()['total_sales'])\n"
   ]
  },
  {
   "cell_type": "code",
   "execution_count": 34,
   "metadata": {},
   "outputs": [
    {
     "data": {
      "image/png": "[encoded data removed]",
      "text/plain": [
       "<Figure size 936x936 with 9 Axes>"
      ]
     },
     "metadata": {
      "needs_background": "light"
     },
     "output_type": "display_data"
    },
    {
     "name": "stdout",
     "output_type": "stream",
     "text": [
      "Корреляция между отзывами и продажами:\n",
      "\n",
      "critic_score    0.406568\n",
      "user_score     -0.031957\n",
      "total_sales     1.000000\n",
      "Name: total_sales, dtype: float64\n"
     ]
    }
   ],
   "source": [
    "#Соотнесем выводы с продажами игр на других платформах. \n",
    "\n",
    "ps4 = ['PS4']\n",
    "games_top_ps4 = games_top.query('platform == @ps4')\n",
    "games_top_ps4_matrix = games_top_ps4[['critic_score', 'user_score', 'total_sales']]\n",
    "pd.plotting.scatter_matrix(games_top_ps4_matrix,figsize=(13,13))\n",
    "plt.show()\n",
    "print('Корреляция между отзывами и продажами:')\n",
    "print()\n",
    "print(games_top_ps4[['critic_score', 'user_score', 'total_sales']].corr()['total_sales'])\n"
   ]
  },
  {
   "cell_type": "code",
   "execution_count": 35,
   "metadata": {},
   "outputs": [
    {
     "data": {
      "image/png": "[encoded data removed]",
      "text/plain": [
       "<Figure size 936x936 with 9 Axes>"
      ]
     },
     "metadata": {
      "needs_background": "light"
     },
     "output_type": "display_data"
    },
    {
     "name": "stdout",
     "output_type": "stream",
     "text": [
      "Корреляция между отзывами и продажами:\n",
      "\n",
      "critic_score    0.360573\n",
      "user_score      0.006164\n",
      "total_sales     1.000000\n",
      "Name: total_sales, dtype: float64\n"
     ]
    }
   ],
   "source": [
    "#Соотнесем выводы с продажами игр на других платформах. \n",
    "\n",
    "x360 = ['X360']\n",
    "games_top_x360 = games_top.query('platform == @x360')\n",
    "games_top_x360_matrix = games_top_x360[['critic_score', 'user_score', 'total_sales']]\n",
    "pd.plotting.scatter_matrix(games_top_x360_matrix,figsize=(13,13))\n",
    "plt.show()\n",
    "print('Корреляция между отзывами и продажами:')\n",
    "print()\n",
    "print(games_top_x360[['critic_score', 'user_score', 'total_sales']].corr()['total_sales'])"
   ]
  },
  {
   "cell_type": "markdown",
   "metadata": {},
   "source": [
    "Соотнесли выводы с платформы Xone с предыдущим поколением X360 и прямыми конкурентами PS3 и PS4 и можно сказать,что ситуации похожии,существенной разницы нет."
   ]
  },
  {
   "cell_type": "code",
   "execution_count": 36,
   "metadata": {},
   "outputs": [
    {
     "data": {
      "text/html": [
       "<div>\n",
       "<style scoped>\n",
       "    .dataframe tbody tr th:only-of-type {\n",
       "        vertical-align: middle;\n",
       "    }\n",
       "\n",
       "    .dataframe tbody tr th {\n",
       "        vertical-align: top;\n",
       "    }\n",
       "\n",
       "    .dataframe thead th {\n",
       "        text-align: right;\n",
       "    }\n",
       "</style>\n",
       "<table border=\"1\" class=\"dataframe\">\n",
       "  <thead>\n",
       "    <tr style=\"text-align: right;\">\n",
       "      <th></th>\n",
       "      <th>genre</th>\n",
       "      <th>total_sales</th>\n",
       "    </tr>\n",
       "  </thead>\n",
       "  <tbody>\n",
       "    <tr>\n",
       "      <th>0</th>\n",
       "      <td>Action</td>\n",
       "      <td>441.12</td>\n",
       "    </tr>\n",
       "    <tr>\n",
       "      <th>8</th>\n",
       "      <td>Shooter</td>\n",
       "      <td>304.73</td>\n",
       "    </tr>\n",
       "    <tr>\n",
       "      <th>7</th>\n",
       "      <td>Role-Playing</td>\n",
       "      <td>192.80</td>\n",
       "    </tr>\n",
       "    <tr>\n",
       "      <th>10</th>\n",
       "      <td>Sports</td>\n",
       "      <td>181.07</td>\n",
       "    </tr>\n",
       "    <tr>\n",
       "      <th>3</th>\n",
       "      <td>Misc</td>\n",
       "      <td>85.04</td>\n",
       "    </tr>\n",
       "    <tr>\n",
       "      <th>4</th>\n",
       "      <td>Platform</td>\n",
       "      <td>61.00</td>\n",
       "    </tr>\n",
       "    <tr>\n",
       "      <th>6</th>\n",
       "      <td>Racing</td>\n",
       "      <td>53.50</td>\n",
       "    </tr>\n",
       "    <tr>\n",
       "      <th>2</th>\n",
       "      <td>Fighting</td>\n",
       "      <td>44.49</td>\n",
       "    </tr>\n",
       "    <tr>\n",
       "      <th>9</th>\n",
       "      <td>Simulation</td>\n",
       "      <td>35.12</td>\n",
       "    </tr>\n",
       "    <tr>\n",
       "      <th>1</th>\n",
       "      <td>Adventure</td>\n",
       "      <td>29.43</td>\n",
       "    </tr>\n",
       "    <tr>\n",
       "      <th>11</th>\n",
       "      <td>Strategy</td>\n",
       "      <td>13.34</td>\n",
       "    </tr>\n",
       "    <tr>\n",
       "      <th>5</th>\n",
       "      <td>Puzzle</td>\n",
       "      <td>4.89</td>\n",
       "    </tr>\n",
       "  </tbody>\n",
       "</table>\n",
       "</div>"
      ],
      "text/plain": [
       "           genre  total_sales\n",
       "0         Action       441.12\n",
       "8        Shooter       304.73\n",
       "7   Role-Playing       192.80\n",
       "10        Sports       181.07\n",
       "3           Misc        85.04\n",
       "4       Platform        61.00\n",
       "6         Racing        53.50\n",
       "2       Fighting        44.49\n",
       "9     Simulation        35.12\n",
       "1      Adventure        29.43\n",
       "11      Strategy        13.34\n",
       "5         Puzzle         4.89"
      ]
     },
     "execution_count": 36,
     "metadata": {},
     "output_type": "execute_result"
    }
   ],
   "source": [
    "#Посмотрим на общее распределение игр по жанрам\n",
    "games_genre = games.pivot_table(\n",
    "    index='genre',values='total_sales',aggfunc='sum').reset_index().sort_values(\n",
    "    by='total_sales',ascending=False)\n",
    "games_genre"
   ]
  },
  {
   "cell_type": "code",
   "execution_count": 37,
   "metadata": {},
   "outputs": [
    {
     "data": {
      "image/png": "[encoded data removed]",
      "text/plain": [
       "<Figure size 1440x720 with 1 Axes>"
      ]
     },
     "metadata": {
      "needs_background": "light"
     },
     "output_type": "display_data"
    }
   ],
   "source": [
    "#Посмотрим на общее распределение игр по жанрам на графике\n",
    "games_genre.plot(kind='bar',x='genre',grid=True,figsize=(20,10))\n",
    "plt.title('Общее распределение игр по жанрам')\n",
    "plt.xlabel('Жанры')\n",
    "plt.ylabel('Продажи млн.копий')\n",
    "plt.show()"
   ]
  },
  {
   "cell_type": "markdown",
   "metadata": {},
   "source": [
    "Топ 4 самых продаваемых жанров:\n",
    "\n",
    "1) Action - жанр видео игр, в котором делается упор на эксплуатацию физических возможностей игрока, в том числе координации глаз и рук и скорости реакции. Этот жанр вызывает наибольший интерес у пользователей,отличается своей динамичностью и захватывающим сюжетом.\n",
    "\n",
    "2) Shooter - жанр видео игр, в которых игровой процесс основывается на сражениях с использованием огнестрельного или любого другого оружия с видом от первого лица таким образом, чтобы игрок воспринимал происходящее глазами протагониста. Кому из нас не хотелось бы после тяжелого дня зайти в игру и хорошенечко спустить пар,постреляв из оружия от первого лица:)\n",
    "\n",
    "3) Role-Playing - знаменитый жанр видео игр, где основой игрового процесса является отогревание определенной роли. Игрок берёт под контроль определённого героя или героиню, с набором стандартных навыков, характеристик и умений. Играм этого жанра свойственны очень глубокие диалоги, нелинейное прохождение, использование продвинутого инвентаря и большие и открытые для исследования игровые пространства.\n",
    "\n",
    "4) Sports - Жанр видео игр для любителей спорта и азарта,данный жанр погружает тебя в мир спорта,в нем вы можете ощутить себя в роли футболиста,баскетболиста,боксера или другого спортсмена. Можете брать в управление целые спортивные клубы или стать менеджером какого-нибудь например футбольного клуба. Как пример можно взять серию игр \"fifa\", это одна из самых популярных игр не только в своем жанре,но и в целом\n",
    "\n",
    "Из самых непродаваемых игр можем выделить:\n",
    "\n",
    "1) Pazzle - название жанра видео игр, целью которых является решение логических задач, требующих от игрока задействования логики, стратегии и интуиции. Не самые продаваемые игры,наверное потому что большинство из нас заходя в мир видеоигр погружается в свой отдельный мир и хочет как можно сильнее отвлечься от своих проблем,где не надо сильно задумываться,где можно сесть и расслабиться. Но не стоит исключать и тех людей,которые любят посидеть и над головоломками,их не так много,но всё же они есть :)\n",
    "\n",
    "2) Strategy - жанр  видео игр, где игрок использует стратегическое планирование и тактику для достижения определённых целей. Игрок — командует, это основа геймплея. Основными признаками этого жанра можно назвать:\n",
    " Глобальное или тактическое управление (Войной, экономикой или всем одновременно).\n",
    " Обзор сверху, который позволяет оценить с большой высоты место деятельности (карту). \n",
    " В большинстве своем в игры играют всё-таки дети и молодые люди,а этот жанр по моему мнению в большинстве своем предпочитает более взрослая аудитория. Хотя лично я с удовольствием в свободное время построил бы какую-нибудь империю и проверил свои навыки в стратегии,тут на вкус и цвет как говорится:)"
   ]
  },
  {
   "cell_type": "code",
   "execution_count": 38,
   "metadata": {},
   "outputs": [
    {
     "data": {
      "text/html": [
       "<div>\n",
       "<style scoped>\n",
       "    .dataframe tbody tr th:only-of-type {\n",
       "        vertical-align: middle;\n",
       "    }\n",
       "\n",
       "    .dataframe tbody tr th {\n",
       "        vertical-align: top;\n",
       "    }\n",
       "\n",
       "    .dataframe thead th {\n",
       "        text-align: right;\n",
       "    }\n",
       "</style>\n",
       "<table border=\"1\" class=\"dataframe\">\n",
       "  <thead>\n",
       "    <tr style=\"text-align: right;\">\n",
       "      <th></th>\n",
       "      <th>genre</th>\n",
       "      <th>total_sales</th>\n",
       "    </tr>\n",
       "  </thead>\n",
       "  <tbody>\n",
       "    <tr>\n",
       "      <th>8</th>\n",
       "      <td>Shooter</td>\n",
       "      <td>0.440</td>\n",
       "    </tr>\n",
       "    <tr>\n",
       "      <th>10</th>\n",
       "      <td>Sports</td>\n",
       "      <td>0.240</td>\n",
       "    </tr>\n",
       "    <tr>\n",
       "      <th>4</th>\n",
       "      <td>Platform</td>\n",
       "      <td>0.210</td>\n",
       "    </tr>\n",
       "    <tr>\n",
       "      <th>7</th>\n",
       "      <td>Role-Playing</td>\n",
       "      <td>0.140</td>\n",
       "    </tr>\n",
       "    <tr>\n",
       "      <th>6</th>\n",
       "      <td>Racing</td>\n",
       "      <td>0.140</td>\n",
       "    </tr>\n",
       "    <tr>\n",
       "      <th>2</th>\n",
       "      <td>Fighting</td>\n",
       "      <td>0.130</td>\n",
       "    </tr>\n",
       "    <tr>\n",
       "      <th>0</th>\n",
       "      <td>Action</td>\n",
       "      <td>0.120</td>\n",
       "    </tr>\n",
       "    <tr>\n",
       "      <th>3</th>\n",
       "      <td>Misc</td>\n",
       "      <td>0.120</td>\n",
       "    </tr>\n",
       "    <tr>\n",
       "      <th>9</th>\n",
       "      <td>Simulation</td>\n",
       "      <td>0.120</td>\n",
       "    </tr>\n",
       "    <tr>\n",
       "      <th>11</th>\n",
       "      <td>Strategy</td>\n",
       "      <td>0.080</td>\n",
       "    </tr>\n",
       "    <tr>\n",
       "      <th>5</th>\n",
       "      <td>Puzzle</td>\n",
       "      <td>0.045</td>\n",
       "    </tr>\n",
       "    <tr>\n",
       "      <th>1</th>\n",
       "      <td>Adventure</td>\n",
       "      <td>0.030</td>\n",
       "    </tr>\n",
       "  </tbody>\n",
       "</table>\n",
       "</div>"
      ],
      "text/plain": [
       "           genre  total_sales\n",
       "8        Shooter        0.440\n",
       "10        Sports        0.240\n",
       "4       Platform        0.210\n",
       "7   Role-Playing        0.140\n",
       "6         Racing        0.140\n",
       "2       Fighting        0.130\n",
       "0         Action        0.120\n",
       "3           Misc        0.120\n",
       "9     Simulation        0.120\n",
       "11      Strategy        0.080\n",
       "5         Puzzle        0.045\n",
       "1      Adventure        0.030"
      ]
     },
     "execution_count": 38,
     "metadata": {},
     "output_type": "execute_result"
    }
   ],
   "source": [
    "#Посмотрим на медианное распределение игр по жанрам\n",
    "games_genre_median = games.pivot_table(\n",
    "    index='genre',values='total_sales',aggfunc='median').reset_index().sort_values(\n",
    "    by='total_sales',ascending=False)\n",
    "games_genre_median"
   ]
  },
  {
   "cell_type": "code",
   "execution_count": 39,
   "metadata": {},
   "outputs": [
    {
     "data": {
      "image/png": "[encoded data removed]",
      "text/plain": [
       "<Figure size 1440x720 with 1 Axes>"
      ]
     },
     "metadata": {
      "needs_background": "light"
     },
     "output_type": "display_data"
    }
   ],
   "source": [
    "#Посмотрим на медианное распределение игр по жанрам на графике\n",
    "games_genre_median.plot(kind='bar',x='genre',grid=True,figsize=(20,10))\n",
    "plt.title('Общее распределение игр по жанрам')\n",
    "plt.xlabel('Жанры')\n",
    "plt.ylabel('Продажи млн.копий')\n",
    "plt.show()"
   ]
  },
  {
   "cell_type": "markdown",
   "metadata": {},
   "source": [
    " По медианному колличеству продаж мы можем заметить,что лидеры поменялись,теперь мы можем наблюдать, что Шуттеры заняли первую позицию. Это обозначено тем,что игр в жанре Экшн выпускается значительно больше,чем других, практически в 2 раза. При этом доля кол-ва игр в жанре Шуттер всего лишь 8%. На фоне этого можем сделать вывод,что в жанре Экшн присутсвует большое кол-во непопулярных игр с низкими объемами продаж,в результать чего объем продаж берётся не качеством,а кол-во,что не скажешь о жанре Шуттер,где по результату видно,что данный жанр Шуттер имеет достаточное кол-во игр с высоким уровнем продаж. Так же с 4 места на второе переместился жанр Спорт,что тоже показывает уровень качества. Жанр РПГ сместился на 4 позицию,а в наш топ ворвался жанр Платформа. \n",
    " Платформа - это жанр видео игр, в которых основу игрового процесса составляют прыжки по платформам, лазанье по лестницам, сбор предметов, необходимых для победы над врагами или завершения уровня.\n",
    " Что касается аутсайдеров нашего списка то самым плохим по качеству продаж стал жанр Adventure\n",
    " Adventure - довольно старый и распространённый жанр компьютерных и видео игр, в котором игрок управляет персонажем, продвигается по сюжету, решает головоломки и избегает опасностей. Далее на втором месте с конца остался жанр Пазлы,а за ним расположился нами известный жанр стратегии.\n",
    " "
   ]
  },
  {
   "cell_type": "markdown",
   "metadata": {},
   "source": [
    "# Вывод\n",
    "\n",
    "Мы провели исследовательский анализ данных,посмотрели сколько игр выпускалось в разные годы,отсеяли неактуальную информацию до 2012 года.\n",
    "\n",
    "Проанализировали , как менялись продажи по платформам. Выбрали платформы с наибольшими суммарными продажами и построили распределение по годам.Провели анализ и узнали за какой характерный срок появляются новые и исчезают старые платформы.\n",
    "\n",
    "Провели анализ и узнали какие платформы лидируют по продажам, какие растут или падают? Выбрали топ 6 потенциально прибыльных платформ\n",
    "\n",
    "Построили график «ящик с усами» по глобальным продажам игр в разбивке по платформам.По нему увидели что медиана находится ближе к нижней части,что дает понять что на платформах выходит достаточно много игр,но с не сильно высокими продажами.\n",
    "\n",
    "Проанализировали, как влияют на продажи внутри одной популярной платформы отзывы пользователей и критиков. Построили диаграмму рассеяния и посчитали корреляцию между отзывами и продажами. Соотнесли выводы с продажами игр на других платформах.\n",
    "\n",
    "Проанализировали общее распределение по жанрам. Выбрали топ жанры и отстающие. Предположили почему некоторые жанры продаются лучше,а некоторые хуже\n",
    "\n",
    "\n",
    "\n"
   ]
  },
  {
   "cell_type": "markdown",
   "metadata": {},
   "source": [
    "# 4. Составим портрет пользователя каждого региона"
   ]
  },
  {
   "cell_type": "markdown",
   "metadata": {},
   "source": [
    "Определем для каждого региона (NA, EU, JP) самые популярные платформы (топ-5)."
   ]
  },
  {
   "cell_type": "code",
   "execution_count": 40,
   "metadata": {},
   "outputs": [
    {
     "data": {
      "image/png": "[encoded data removed]",
      "text/plain": [
       "<Figure size 432x288 with 1 Axes>"
      ]
     },
     "metadata": {
      "needs_background": "light"
     },
     "output_type": "display_data"
    }
   ],
   "source": [
    "#возьмем топ 5 платформу,затем сгрупируем по платформам 3 разных региона\n",
    "top_5 = ['PS4','PS3','X360','3DS','XOne']\n",
    "games_top_5 = games.query('platform == @top_5')\n",
    "games_top_5 = games_top_5.pivot_table(index='platform',values=['na_sales','eu_sales','jp_sales'],aggfunc='sum')\n",
    "#узнаем в долях\n",
    "games_top_5  = games_top_5 / games_top_5.sum() \n",
    "\n",
    "games_top_5.plot(grid=True,kind='bar')\n",
    "plt.title('Топ 5 платформ в регионах')\n",
    "plt.xlabel('Платформы')\n",
    "plt.ylabel('Продажи')\n",
    "plt.show()"
   ]
  },
  {
   "cell_type": "code",
   "execution_count": 53,
   "metadata": {},
   "outputs": [
    {
     "data": {
      "text/html": [
       "<style  type=\"text/css\" >\n",
       "</style><table id=\"T_4b229_\" ><thead>    <tr>        <th class=\"blank level0\" ></th>        <th class=\"col_heading level0 col0\" >eu_sales</th>        <th class=\"col_heading level0 col1\" >jp_sales</th>        <th class=\"col_heading level0 col2\" >na_sales</th>    </tr>    <tr>        <th class=\"index_name level0\" >platform</th>        <th class=\"blank\" ></th>        <th class=\"blank\" ></th>        <th class=\"blank\" ></th>    </tr></thead><tbody>\n",
       "                <tr>\n",
       "                        <th id=\"T_4b229_level0_row0\" class=\"row_heading level0 row0\" >3DS</th>\n",
       "                        <td id=\"T_4b229_row0_col0\" class=\"data row0 col0\" >10.2%</td>\n",
       "                        <td id=\"T_4b229_row0_col1\" class=\"data row0 col1\" >62.3%</td>\n",
       "                        <td id=\"T_4b229_row0_col2\" class=\"data row0 col2\" >11.0%</td>\n",
       "            </tr>\n",
       "            <tr>\n",
       "                        <th id=\"T_4b229_level0_row1\" class=\"row_heading level0 row1\" >PS3</th>\n",
       "                        <td id=\"T_4b229_row1_col0\" class=\"data row1 col0\" >25.6%</td>\n",
       "                        <td id=\"T_4b229_row1_col1\" class=\"data row1 col1\" >25.0%</td>\n",
       "                        <td id=\"T_4b229_row1_col2\" class=\"data row1 col2\" >20.7%</td>\n",
       "            </tr>\n",
       "            <tr>\n",
       "                        <th id=\"T_4b229_level0_row2\" class=\"row_heading level0 row2\" >PS4</th>\n",
       "                        <td id=\"T_4b229_row2_col0\" class=\"data row2 col0\" >33.9%</td>\n",
       "                        <td id=\"T_4b229_row2_col1\" class=\"data row2 col1\" >11.3%</td>\n",
       "                        <td id=\"T_4b229_row2_col2\" class=\"data row2 col2\" >21.7%</td>\n",
       "            </tr>\n",
       "            <tr>\n",
       "                        <th id=\"T_4b229_level0_row3\" class=\"row_heading level0 row3\" >X360</th>\n",
       "                        <td id=\"T_4b229_row3_col0\" class=\"data row3 col0\" >17.9%</td>\n",
       "                        <td id=\"T_4b229_row3_col1\" class=\"data row3 col1\" >1.1%</td>\n",
       "                        <td id=\"T_4b229_row3_col2\" class=\"data row3 col2\" >28.0%</td>\n",
       "            </tr>\n",
       "            <tr>\n",
       "                        <th id=\"T_4b229_level0_row4\" class=\"row_heading level0 row4\" >XOne</th>\n",
       "                        <td id=\"T_4b229_row4_col0\" class=\"data row4 col0\" >12.4%</td>\n",
       "                        <td id=\"T_4b229_row4_col1\" class=\"data row4 col1\" >0.2%</td>\n",
       "                        <td id=\"T_4b229_row4_col2\" class=\"data row4 col2\" >18.6%</td>\n",
       "            </tr>\n",
       "    </tbody></table>"
      ],
      "text/plain": [
       "<pandas.io.formats.style.Styler at 0x7f061cec0a60>"
      ]
     },
     "execution_count": 53,
     "metadata": {},
     "output_type": "execute_result"
    }
   ],
   "source": [
    "#Доли в процентах\n",
    "games_top_5.style.format(\"{:.1%}\")\n",
    "\n"
   ]
  },
  {
   "cell_type": "markdown",
   "metadata": {},
   "source": [
    "Из графика и процентного соотношения видно,что в Европе предпочитаю больше всего PS4 и PS3, в Японии с большим отрывом лидируют продажи 3DS, в Штатах люди отдают предпочтение X360,но по сравнению с Европой и Японией нет такого большого разрыва между консолями."
   ]
  },
  {
   "cell_type": "markdown",
   "metadata": {},
   "source": [
    "Определем для каждого региона (NA, EU, JP) самые популярные жанры (топ-5)."
   ]
  },
  {
   "cell_type": "code",
   "execution_count": 42,
   "metadata": {},
   "outputs": [
    {
     "data": {
      "image/png": "[encoded data removed]",
      "text/plain": [
       "<Figure size 504x504 with 1 Axes>"
      ]
     },
     "metadata": {
      "needs_background": "light"
     },
     "output_type": "display_data"
    }
   ],
   "source": [
    "#возьмем топ 5 жанров,затем сгрупируем по жанрам 3 разных региона\n",
    "games_top_5_genre = games.pivot_table(index='genre',values=['na_sales','eu_sales','jp_sales'],aggfunc='sum')\n",
    "games_top_5_genre = games_top_5_genre / games_top_5_genre.sum()\n",
    "games_top_5_genre.plot(grid=True,kind='bar',figsize=(7,7))\n",
    "plt.title('Топ 5 жанров в регионах')\n",
    "plt.xlabel('Жанры')\n",
    "plt.ylabel('Продажи')\n",
    "plt.show()"
   ]
  },
  {
   "cell_type": "code",
   "execution_count": 43,
   "metadata": {},
   "outputs": [
    {
     "data": {
      "text/html": [
       "<style  type=\"text/css\" >\n",
       "</style><table id=\"T_f6a72_\" ><thead>    <tr>        <th class=\"blank level0\" ></th>        <th class=\"col_heading level0 col0\" >eu_sales</th>        <th class=\"col_heading level0 col1\" >jp_sales</th>        <th class=\"col_heading level0 col2\" >na_sales</th>    </tr>    <tr>        <th class=\"index_name level0\" >genre</th>        <th class=\"blank\" ></th>        <th class=\"blank\" ></th>        <th class=\"blank\" ></th>    </tr></thead><tbody>\n",
       "                <tr>\n",
       "                        <th id=\"T_f6a72_level0_row0\" class=\"row_heading level0 row0\" >Action</th>\n",
       "                        <td id=\"T_f6a72_row0_col0\" class=\"data row0 col0\" >31.4%</td>\n",
       "                        <td id=\"T_f6a72_row0_col1\" class=\"data row0 col1\" >27.4%</td>\n",
       "                        <td id=\"T_f6a72_row0_col2\" class=\"data row0 col2\" >30.1%</td>\n",
       "            </tr>\n",
       "            <tr>\n",
       "                        <th id=\"T_f6a72_level0_row1\" class=\"row_heading level0 row1\" >Shooter</th>\n",
       "                        <td id=\"T_f6a72_row1_col0\" class=\"data row1 col0\" >22.4%</td>\n",
       "                        <td id=\"T_f6a72_row1_col1\" class=\"data row1 col1\" >4.8%</td>\n",
       "                        <td id=\"T_f6a72_row1_col2\" class=\"data row1 col2\" >24.5%</td>\n",
       "            </tr>\n",
       "            <tr>\n",
       "                        <th id=\"T_f6a72_level0_row2\" class=\"row_heading level0 row2\" >Sports</th>\n",
       "                        <td id=\"T_f6a72_row2_col0\" class=\"data row2 col0\" >13.6%</td>\n",
       "                        <td id=\"T_f6a72_row2_col1\" class=\"data row2 col1\" >4.2%</td>\n",
       "                        <td id=\"T_f6a72_row2_col2\" class=\"data row2 col2\" >13.8%</td>\n",
       "            </tr>\n",
       "            <tr>\n",
       "                        <th id=\"T_f6a72_level0_row3\" class=\"row_heading level0 row3\" >Role-Playing</th>\n",
       "                        <td id=\"T_f6a72_row3_col0\" class=\"data row3 col0\" >9.6%</td>\n",
       "                        <td id=\"T_f6a72_row3_col1\" class=\"data row3 col1\" >34.0%</td>\n",
       "                        <td id=\"T_f6a72_row3_col2\" class=\"data row3 col2\" >10.8%</td>\n",
       "            </tr>\n",
       "            <tr>\n",
       "                        <th id=\"T_f6a72_level0_row4\" class=\"row_heading level0 row4\" >Misc</th>\n",
       "                        <td id=\"T_f6a72_row4_col0\" class=\"data row4 col0\" >5.2%</td>\n",
       "                        <td id=\"T_f6a72_row4_col1\" class=\"data row4 col1\" >6.7%</td>\n",
       "                        <td id=\"T_f6a72_row4_col2\" class=\"data row4 col2\" >6.5%</td>\n",
       "            </tr>\n",
       "            <tr>\n",
       "                        <th id=\"T_f6a72_level0_row5\" class=\"row_heading level0 row5\" >Platform</th>\n",
       "                        <td id=\"T_f6a72_row5_col0\" class=\"data row5 col0\" >4.2%</td>\n",
       "                        <td id=\"T_f6a72_row5_col1\" class=\"data row5 col1\" >4.5%</td>\n",
       "                        <td id=\"T_f6a72_row5_col2\" class=\"data row5 col2\" >4.3%</td>\n",
       "            </tr>\n",
       "            <tr>\n",
       "                        <th id=\"T_f6a72_level0_row6\" class=\"row_heading level0 row6\" >Fighting</th>\n",
       "                        <td id=\"T_f6a72_row6_col0\" class=\"data row6 col0\" >2.1%</td>\n",
       "                        <td id=\"T_f6a72_row6_col1\" class=\"data row6 col1\" >4.9%</td>\n",
       "                        <td id=\"T_f6a72_row6_col2\" class=\"data row6 col2\" >3.3%</td>\n",
       "            </tr>\n",
       "            <tr>\n",
       "                        <th id=\"T_f6a72_level0_row7\" class=\"row_heading level0 row7\" >Racing</th>\n",
       "                        <td id=\"T_f6a72_row7_col0\" class=\"data row7 col0\" >5.4%</td>\n",
       "                        <td id=\"T_f6a72_row7_col1\" class=\"data row7 col1\" >1.3%</td>\n",
       "                        <td id=\"T_f6a72_row7_col2\" class=\"data row7 col2\" >2.9%</td>\n",
       "            </tr>\n",
       "            <tr>\n",
       "                        <th id=\"T_f6a72_level0_row8\" class=\"row_heading level0 row8\" >Adventure</th>\n",
       "                        <td id=\"T_f6a72_row8_col0\" class=\"data row8 col0\" >1.9%</td>\n",
       "                        <td id=\"T_f6a72_row8_col1\" class=\"data row8 col1\" >4.3%</td>\n",
       "                        <td id=\"T_f6a72_row8_col2\" class=\"data row8 col2\" >1.5%</td>\n",
       "            </tr>\n",
       "            <tr>\n",
       "                        <th id=\"T_f6a72_level0_row9\" class=\"row_heading level0 row9\" >Simulation</th>\n",
       "                        <td id=\"T_f6a72_row9_col0\" class=\"data row9 col0\" >2.9%</td>\n",
       "                        <td id=\"T_f6a72_row9_col1\" class=\"data row9 col1\" >5.4%</td>\n",
       "                        <td id=\"T_f6a72_row9_col2\" class=\"data row9 col2\" >1.3%</td>\n",
       "            </tr>\n",
       "            <tr>\n",
       "                        <th id=\"T_f6a72_level0_row10\" class=\"row_heading level0 row10\" >Strategy</th>\n",
       "                        <td id=\"T_f6a72_row10_col0\" class=\"data row10 col0\" >1.0%</td>\n",
       "                        <td id=\"T_f6a72_row10_col1\" class=\"data row10 col1\" >1.5%</td>\n",
       "                        <td id=\"T_f6a72_row10_col2\" class=\"data row10 col2\" >0.7%</td>\n",
       "            </tr>\n",
       "            <tr>\n",
       "                        <th id=\"T_f6a72_level0_row11\" class=\"row_heading level0 row11\" >Puzzle</th>\n",
       "                        <td id=\"T_f6a72_row11_col0\" class=\"data row11 col0\" >0.3%</td>\n",
       "                        <td id=\"T_f6a72_row11_col1\" class=\"data row11 col1\" >1.1%</td>\n",
       "                        <td id=\"T_f6a72_row11_col2\" class=\"data row11 col2\" >0.2%</td>\n",
       "            </tr>\n",
       "    </tbody></table>"
      ],
      "text/plain": [
       "<pandas.io.formats.style.Styler at 0x7f061cdc62b0>"
      ]
     },
     "execution_count": 43,
     "metadata": {},
     "output_type": "execute_result"
    }
   ],
   "source": [
    "games_top_5_genre.sort_values(by=['na_sales','eu_sales','jp_sales'],ascending=False).style.format(\"{:.1%}\")"
   ]
  },
  {
   "cell_type": "markdown",
   "metadata": {},
   "source": [
    "Самыми популярными жанрами в Америке и Европе  является \"Action\",далее в Европе и Америке идет \"Shooter\" в то время как в Японии первую строчку занимает \"Role-Playing\",а уже вторую \"Action\". Что касается жанра \"Shooter\", то в Японии он даже не входит в топ 5,вот такая миролюбивая страна:) на 3 месте в Японии находятся \"Misc\",на 4 \"Simulation\" и топ 5 закрывает \"Fighting\". В США и Европе предпочтения по жанрам очень схожи,на 3 месте и там и там жанр \"Sports\", на 4 месте \"Role-Playing\t\",а на 5 есть отличие,например в США 5 строчку занимает жанр \"Misc\",а в Европе \"Racing\"."
   ]
  },
  {
   "cell_type": "markdown",
   "metadata": {},
   "source": [
    "Выясним влияет ли рейтинг ESRB на продажи в отдельном регионе"
   ]
  },
  {
   "cell_type": "code",
   "execution_count": 44,
   "metadata": {},
   "outputs": [
    {
     "data": {
      "image/png": "[encoded data removed]",
      "text/plain": [
       "<Figure size 504x504 with 1 Axes>"
      ]
     },
     "metadata": {
      "needs_background": "light"
     },
     "output_type": "display_data"
    }
   ],
   "source": [
    "games_rating = games.pivot_table(index='rating',values=['na_sales','eu_sales','jp_sales'],aggfunc='sum')\n",
    "games_rating = games_rating / games_rating.sum()\n",
    "games_rating.plot(grid=True,kind='bar',figsize=(7,7))\n",
    "plt.title('Влияние рейтинга')\n",
    "plt.xlabel('рейтинг')\n",
    "plt.ylabel('Продажи')\n",
    "plt.show()"
   ]
  },
  {
   "cell_type": "markdown",
   "metadata": {},
   "source": [
    "\n",
    "- E\tПодходит для всех возрастных категорий. Игра не должна содержать звуков или изображений, которые могут напугать маленьких детей. Не должна использоваться ненормативная лексика. Примеры: Просто таннцуй, FIFA.\n",
    "- E 10+\tПодходит для лиц старше 10 лет. Игра может содержать умеренные формы насилия, а некоторые сцены могут пугать детей. Примеры: Minecraft Dungeons, Растения против зомби.\n",
    "- T\tПодходит для лиц старше 13 лет. Игра может содержать более реалистичные и натуралистические сцены насилия. Примеры: Fortnite, Sims 4.\n",
    "- M\tПодходит для лиц старше 17 лет. Этот рейтинг используется, когда насилие становится реалистичным и похожим на реальную жизнь. Также может присутствовать ненормативная лексика, употребление табака, алкоголя или запрещенных наркотиков. Примеры: Ark: Survival Evolved, Destiny 2.\n"
   ]
  },
  {
   "cell_type": "code",
   "execution_count": 45,
   "metadata": {},
   "outputs": [
    {
     "data": {
      "text/html": [
       "<style  type=\"text/css\" >\n",
       "</style><table id=\"T_730b3_\" ><thead>    <tr>        <th class=\"blank level0\" ></th>        <th class=\"col_heading level0 col0\" >eu_sales</th>        <th class=\"col_heading level0 col1\" >jp_sales</th>        <th class=\"col_heading level0 col2\" >na_sales</th>    </tr>    <tr>        <th class=\"index_name level0\" >rating</th>        <th class=\"blank\" ></th>        <th class=\"blank\" ></th>        <th class=\"blank\" ></th>    </tr></thead><tbody>\n",
       "                <tr>\n",
       "                        <th id=\"T_730b3_level0_row0\" class=\"row_heading level0 row0\" >E</th>\n",
       "                        <td id=\"T_730b3_row0_col0\" class=\"data row0 col0\" >22.3%</td>\n",
       "                        <td id=\"T_730b3_row0_col1\" class=\"data row0 col1\" >14.7%</td>\n",
       "                        <td id=\"T_730b3_row0_col2\" class=\"data row0 col2\" >19.4%</td>\n",
       "            </tr>\n",
       "            <tr>\n",
       "                        <th id=\"T_730b3_level0_row1\" class=\"row_heading level0 row1\" >E10+</th>\n",
       "                        <td id=\"T_730b3_row1_col0\" class=\"data row1 col0\" >10.9%</td>\n",
       "                        <td id=\"T_730b3_row1_col1\" class=\"data row1 col1\" >4.3%</td>\n",
       "                        <td id=\"T_730b3_row1_col2\" class=\"data row1 col2\" >12.8%</td>\n",
       "            </tr>\n",
       "            <tr>\n",
       "                        <th id=\"T_730b3_level0_row2\" class=\"row_heading level0 row2\" >M</th>\n",
       "                        <td id=\"T_730b3_row2_col0\" class=\"data row2 col0\" >38.3%</td>\n",
       "                        <td id=\"T_730b3_row2_col1\" class=\"data row2 col1\" >11.0%</td>\n",
       "                        <td id=\"T_730b3_row2_col2\" class=\"data row2 col2\" >39.2%</td>\n",
       "            </tr>\n",
       "            <tr>\n",
       "                        <th id=\"T_730b3_level0_row3\" class=\"row_heading level0 row3\" >T</th>\n",
       "                        <td id=\"T_730b3_row3_col0\" class=\"data row3 col0\" >10.4%</td>\n",
       "                        <td id=\"T_730b3_row3_col1\" class=\"data row3 col1\" >13.5%</td>\n",
       "                        <td id=\"T_730b3_row3_col2\" class=\"data row3 col2\" >11.2%</td>\n",
       "            </tr>\n",
       "            <tr>\n",
       "                        <th id=\"T_730b3_level0_row4\" class=\"row_heading level0 row4\" >unknown</th>\n",
       "                        <td id=\"T_730b3_row4_col0\" class=\"data row4 col0\" >18.1%</td>\n",
       "                        <td id=\"T_730b3_row4_col1\" class=\"data row4 col1\" >56.5%</td>\n",
       "                        <td id=\"T_730b3_row4_col2\" class=\"data row4 col2\" >17.5%</td>\n",
       "            </tr>\n",
       "    </tbody></table>"
      ],
      "text/plain": [
       "<pandas.io.formats.style.Styler at 0x7f061ce499a0>"
      ]
     },
     "execution_count": 45,
     "metadata": {},
     "output_type": "execute_result"
    }
   ],
   "source": [
    "games_rating.style.format(\"{:.1%}\")"
   ]
  },
  {
   "cell_type": "markdown",
   "metadata": {},
   "source": [
    "В полученом исследовании видно,что в Японии в больше чем половине случаев отсутсвует рейтинг.Япония страна которая отличается своими обычиями и культурой.Computer Entertainment Rating Organization (CERO) — агентство по выдаче рейтинга в Японии. Если вы хотите издавать вашу игру на консолях в этой стране, вы обязаны получить этот рейтинг.Соответсвенно так много пропусков потому, что в Японии в основном используют другое рейтинговое агенство,которое более строгое,по сравнению с тем же ESRB.Так же можно предположить,игры без этого рейтинга - это локальные игры,выпущенны для внутреннего рынка.Европейцы и Американцы в этом смысле больше схожи. Возможно у них есть другой рейтинг,который является для них более авторитетным.Глядя на табличку и график видно,что у Европейцев и Американцев данные практически не отличаются."
   ]
  },
  {
   "cell_type": "markdown",
   "metadata": {},
   "source": [
    "# Вывод\n",
    "\n",
    "Составили портрет пользователя каждого региона (NA, EU, JP):\n",
    "Определили Самые популярные платформы (топ-5),выяснили их различия в долях продаж\n",
    "Определили Самые популярные жанры (топ-5). Разобрались в чем разница между ними и какие пользуются спросом в разных регионах.\n",
    "Проанализировали Влияет ли рейтинг ESRB на продажи в отдельном регионе.\n"
   ]
  },
  {
   "cell_type": "markdown",
   "metadata": {},
   "source": [
    "#  5. Проверим Гипотезы"
   ]
  },
  {
   "cell_type": "markdown",
   "metadata": {},
   "source": [
    "H_0: Средние пользовательские рейтинги (user_score) платформ Xbox One и PC одинаковые\n",
    "\n",
    "H_1: Средние пользовательские рейтинги (user_score) платформ Xbox One и PC не являются  одинаковыми"
   ]
  },
  {
   "cell_type": "code",
   "execution_count": 46,
   "metadata": {},
   "outputs": [
    {
     "data": {
      "text/html": [
       "<div>\n",
       "<style scoped>\n",
       "    .dataframe tbody tr th:only-of-type {\n",
       "        vertical-align: middle;\n",
       "    }\n",
       "\n",
       "    .dataframe tbody tr th {\n",
       "        vertical-align: top;\n",
       "    }\n",
       "\n",
       "    .dataframe thead th {\n",
       "        text-align: right;\n",
       "    }\n",
       "</style>\n",
       "<table border=\"1\" class=\"dataframe\">\n",
       "  <thead>\n",
       "    <tr style=\"text-align: right;\">\n",
       "      <th></th>\n",
       "      <th>user_score</th>\n",
       "    </tr>\n",
       "    <tr>\n",
       "      <th>platform</th>\n",
       "      <th></th>\n",
       "    </tr>\n",
       "  </thead>\n",
       "  <tbody>\n",
       "    <tr>\n",
       "      <th>PC</th>\n",
       "      <td>6.428641</td>\n",
       "    </tr>\n",
       "    <tr>\n",
       "      <th>XOne</th>\n",
       "      <td>6.521429</td>\n",
       "    </tr>\n",
       "  </tbody>\n",
       "</table>\n",
       "</div>"
      ],
      "text/plain": [
       "          user_score\n",
       "platform            \n",
       "PC          6.428641\n",
       "XOne        6.521429"
      ]
     },
     "execution_count": 46,
     "metadata": {},
     "output_type": "execute_result"
    }
   ],
   "source": [
    "#Построим сводную таблицу по платформам Хbox и PC и приведем к среднему оценки пользователей\n",
    "games_platform = games.query('platform == [\"XOne\",\"PC\"]')\\\n",
    ".pivot_table(index='platform',values='user_score',aggfunc='mean')\n",
    "games_platform\n"
   ]
  },
  {
   "cell_type": "code",
   "execution_count": 47,
   "metadata": {},
   "outputs": [
    {
     "name": "stdout",
     "output_type": "stream",
     "text": [
      "p-значение: 0.5489537965134912\n",
      "Не получилось отвергнуть нулевую гипотезу\n"
     ]
    }
   ],
   "source": [
    "# results = вызов метода для проверки гипотезы\n",
    "results = st.ttest_ind(\n",
    "    games.loc[games.platform == 'XOne','user_score'].dropna(),\n",
    "    games.loc[games.platform == 'PC','user_score'].dropna(),\n",
    "    equal_var = False)\n",
    "\n",
    "# alpha = задайте значение уровня значимости\n",
    "alpha = 0.05\n",
    "\n",
    "# вывод значения p-value на экран \n",
    "print('p-значение:', results.pvalue)\n",
    "\n",
    "# условный оператор с выводом строки с ответом\n",
    "if results.pvalue < alpha:\n",
    "    print('Отвергаем нулевую гипотезу ')\n",
    "else:\n",
    "    print('Не получилось отвергнуть нулевую гипотезу')"
   ]
  },
  {
   "cell_type": "markdown",
   "metadata": {},
   "source": [
    "Различие средних значений статистически не значимо: средние пользовательские рейтинги Xbox One и PC практически не различаются."
   ]
  },
  {
   "cell_type": "markdown",
   "metadata": {},
   "source": [
    "H_0: Средние пользовательские рейтинги (user_score) жанров Action и Sports разные\n",
    "\n",
    "H_1: Средние пользовательские рейтинги (user_score)  жанров Action и Sports не разные"
   ]
  },
  {
   "cell_type": "code",
   "execution_count": 48,
   "metadata": {},
   "outputs": [
    {
     "data": {
      "text/html": [
       "<div>\n",
       "<style scoped>\n",
       "    .dataframe tbody tr th:only-of-type {\n",
       "        vertical-align: middle;\n",
       "    }\n",
       "\n",
       "    .dataframe tbody tr th {\n",
       "        vertical-align: top;\n",
       "    }\n",
       "\n",
       "    .dataframe thead th {\n",
       "        text-align: right;\n",
       "    }\n",
       "</style>\n",
       "<table border=\"1\" class=\"dataframe\">\n",
       "  <thead>\n",
       "    <tr style=\"text-align: right;\">\n",
       "      <th></th>\n",
       "      <th>user_score</th>\n",
       "    </tr>\n",
       "    <tr>\n",
       "      <th>genre</th>\n",
       "      <th></th>\n",
       "    </tr>\n",
       "  </thead>\n",
       "  <tbody>\n",
       "    <tr>\n",
       "      <th>Action</th>\n",
       "      <td>6.825048</td>\n",
       "    </tr>\n",
       "    <tr>\n",
       "      <th>Sports</th>\n",
       "      <td>5.455897</td>\n",
       "    </tr>\n",
       "  </tbody>\n",
       "</table>\n",
       "</div>"
      ],
      "text/plain": [
       "        user_score\n",
       "genre             \n",
       "Action    6.825048\n",
       "Sports    5.455897"
      ]
     },
     "execution_count": 48,
     "metadata": {},
     "output_type": "execute_result"
    }
   ],
   "source": [
    "#Построим сводную таблицу по жанрам action и sports и приведем к среднему оценки пользователей\n",
    "games_genre =  games.query('genre == [\"Action\",\"Sports\"]').pivot_table(index='genre',values='user_score',aggfunc='mean')\n",
    "games_genre"
   ]
  },
  {
   "cell_type": "code",
   "execution_count": 49,
   "metadata": {},
   "outputs": [
    {
     "name": "stdout",
     "output_type": "stream",
     "text": [
      "p-значение: 4.24307776572644e-20\n",
      "Отвергаем нулевую гипотезу \n"
     ]
    }
   ],
   "source": [
    "# results = вызов метода для проверки гипотезы\n",
    "results = st.ttest_ind(\n",
    "    games.loc[games.genre == 'Action','user_score'].dropna(),\n",
    "    games.loc[games.genre == 'Sports','user_score'].dropna(),\n",
    "    equal_var = False)\n",
    "\n",
    "# alpha = задайте значение уровня значимости\n",
    "alpha = 0.05\n",
    "\n",
    "# вывод значения p-value на экран \n",
    "print('p-значение:', results.pvalue)\n",
    "\n",
    "# условный оператор с выводом строки с ответом\n",
    "if results.pvalue < alpha:\n",
    "    print('Отвергаем нулевую гипотезу ')\n",
    "else:\n",
    "    print('Не получилось отвергнуть нулевую гипотезу')"
   ]
  },
  {
   "cell_type": "markdown",
   "metadata": {},
   "source": [
    "Различие средних значений статистически не значимо: средние пользовательские рейтинги Action и Sport различаются не сильно. Отвергаем нулевую гипотезу "
   ]
  },
  {
   "cell_type": "markdown",
   "metadata": {},
   "source": [
    "# 5. Вывод\n",
    "Мы сформулировали нулевую гипотезу для проверки что средние пользовательские рейтинги платформ Xbox One и PC одинаковые, и сформулировали альтернативную гипотезу, допустив что средние пользовательские рейтинги платформ Xbox One и PC не являются одинаковыми.\n",
    "Подобным образом сформулировали нулевую гипотезу для проверки что средние пользовательские рейтинги жанров Action и Sports разные и сформулировали альтернативную гипотезу, допустив что средние пользовательские рейтинги жанров Action и Sports не являются разными.\n",
    "\n",
    "Для проверки данных гипотез мы использовали t-критерий Стьюдента при помощи специального метода для проверки гипотезы о равенстве среднего двух генеральных совокупностей по взятым из них выборкам."
   ]
  },
  {
   "cell_type": "markdown",
   "metadata": {},
   "source": [
    "# Общий вывод"
   ]
  },
  {
   "cell_type": "markdown",
   "metadata": {},
   "source": [
    "В ходе исследования мы проделали следующие шаги:\n",
    "    \n",
    "    - Открыли файл с данными \"/datasets/games.csv\", и ознакомились с общей информацией.\n",
    "    \n",
    "    - Провели предобработку данных,привели столбцы к ккоректному формату,заменили на нужный тип.\n",
    "    \n",
    "    - Обработали пропуски,там где пропуски не повлияли бы на исследование - удалили их. Избавились от аномалий и проверили на уникальные значения\n",
    "    \n",
    "    - Провели исследовательский анализ,где отсеяли все года до 2012 года,что бы делать анализ по актуальным годам.\n",
    "    \n",
    "    - Мы выбрали топ 6 самых перспективных платформ, которыми оказались ('PS4','PS3','X360','3DS','XOne','WiiU'),проверили как долго платформы сохраняют свою доминацию на рынке. Выяснили что годы жизни в среднем около 7-10 лет.\n",
    "    \n",
    "    - В ходе исследования выяснили, что в Европе предпочитаю больше всего PS4 и PS3, в Японии с большим отрывом лидируют продажи 3DS, в Штатах люди отдают предпочтение X360,но по сравнению с Европой и Японией нет такого большого разрыва между консолями.\n",
    "    \n",
    "    - В ходе исследования выяснили что самыми популярными жанрами в Америке и Европе является \"Action\",далее в Европе и Америке идет \"Shooter\" в то время как в Японии первую строчку занимает \"Role-Playing\",а уже вторую \"Action\". Что касается жанра \"Shooter\", то в Японии он даже не входит в топ 5,вот такая миролюбивая страна:) на 3 месте в Японии находятся \"Misc\",на 4 \"Simulation\" и топ 5 закрывает \"Fighting\". В США и Европе предпочтения по жанрам очень схожи,на 3 месте и там и там жанр \"Sports\", на 4 месте \"Role-Playing \",а на 5 есть отличие,например в США 5 строчку занимает жанр \"Misc\",а в Европе \"Racing\".\n",
    "    \n",
    "    - В ходе исследования выяснили что оценки пользователей на платформе Х360 не имеют корреляции с продажами на этой платформе,если глянуть на корреляцию от критиков,тут корреляция средне-слабая с \"цифрами\" продаж.. Так же провели исследование и по другим топовым платформам,результат оказался +\\- подобным.\n",
    "    \n",
    "    - Проверили две гипотезы и в результате получили что:\n",
    "    1) Различие средних значений статистически не значимо: средние пользовательские рейтинги Xbox One и PC практически не различаются.\n",
    "    2) Различие средних значений статистически не значимо: средние пользовательские рейтинги Action и Sport различаются не сильно. Отвергаем нулевую гипотезу\n",
    "   \n",
    "Исходя из нашего исследования стоит выделить две самые выгодные платформы с точки зрения их популярности  и актуальности текущего времени - это PS4 и PS3,стоит обратить внимание именно на них выстраивая стратегию на 2017 год.\n",
    "Что касается жанров, то самыми рентабельными с точки зрения продаж являются шуттеры и спортивные игры. Например индустрия киберспорта развивается семимильными шагами и там присутствуют огромные рекламные компании,огромные бюджеты и крупные инвесторы,их рекламируют знаменитости из абсолютно разных сфер. Как пример можно привести серию игр \"FIFA\",в эту игру играют спортсмены с огромным кол-вом подписчиков,часто выставляя это на свою аудиторию,которая может превышать и 100+ миллионов людей,соревнования в этой дисциплине проходят как и на локальных уровнях так и на мировых аренах! Если взять отдельно взятый регион Японию,то здесь ситуация складывается немного по другому,во первых в Японии преобладает другая платформа \"DS3\",нельзя сказать что PS там не пользуется спросом,но DS3 явно преобладает.Во вторых нельзя со 100% уверенностью доверять рейтингу ESRB т.к. в Японии в более чем 50% случаев он отсутсвует,у них есть свой отдельно взятый рейтинг. Что касается жанров,то в этом регионе люди предпочитают РПГ игры,лучше сделать акцент на них. В целом это говорит о том,что у Японского рынка своя особенность,под которую нужно продумывать стратегию иначе,чем под Европейский а Американские рынки. Что касается рейтинга ESRB для европейский и американских рынов,можно увидеть что категория М,а это  игры который Подходят для лиц старше 17 лет. Этот рейтинг используется, когда насилие становится реалистичным и похожим на реальную жизнь. Также может присутствовать ненормативная лексика, употребление табака, алкоголя или запрещенных наркотиков. Стоит обратить что это люди старше 17+, одна из самых платежеспособных и заинтересованых категорий,поэтому стоить обратить на это внимание.Кстати некоторые шуттеры как раз могут попасть в эту категорию. Что касается отзывов от пользователей и критиков,в ходе исследования мы увидели,что корреляция между отзывами пользователей и продажами отсутсвует,а корреляция между отзывами критиков и продажами крайне мала,поэтому на мой взгляд я бы не рассматривал этот фактор,ну а если и брать в учет,то далеко не в первую очередь.\n"
   ]
  }
 ],
 "metadata": {
  "ExecuteTimeLog": [
   {
    "duration": 407,
    "start_time": "2023-03-06T13:24:45.932Z"
   },
   {
    "duration": 184,
    "start_time": "2023-03-06T13:25:19.618Z"
   },
   {
    "duration": 69,
    "start_time": "2023-03-06T13:25:23.885Z"
   },
   {
    "duration": 60,
    "start_time": "2023-03-06T13:26:04.163Z"
   },
   {
    "duration": 13,
    "start_time": "2023-03-06T13:26:09.063Z"
   },
   {
    "duration": 18,
    "start_time": "2023-03-06T13:28:07.733Z"
   },
   {
    "duration": 58,
    "start_time": "2023-03-06T13:29:51.804Z"
   },
   {
    "duration": 1197,
    "start_time": "2023-03-06T13:33:04.462Z"
   },
   {
    "duration": 1186,
    "start_time": "2023-03-06T13:33:06.721Z"
   },
   {
    "duration": 6,
    "start_time": "2023-03-06T13:33:15.292Z"
   },
   {
    "duration": 7,
    "start_time": "2023-03-06T13:33:27.061Z"
   },
   {
    "duration": 10,
    "start_time": "2023-03-06T13:33:36.866Z"
   },
   {
    "duration": 5,
    "start_time": "2023-03-06T13:33:40.285Z"
   },
   {
    "duration": 4,
    "start_time": "2023-03-06T13:37:23.900Z"
   },
   {
    "duration": 7,
    "start_time": "2023-03-06T13:37:49.774Z"
   },
   {
    "duration": 7,
    "start_time": "2023-03-06T13:38:20.202Z"
   },
   {
    "duration": 8,
    "start_time": "2023-03-06T13:39:32.111Z"
   },
   {
    "duration": 352,
    "start_time": "2023-03-06T13:39:44.716Z"
   },
   {
    "duration": 73,
    "start_time": "2023-03-06T13:39:45.070Z"
   },
   {
    "duration": 19,
    "start_time": "2023-03-06T13:39:45.145Z"
   },
   {
    "duration": 5,
    "start_time": "2023-03-06T13:39:45.166Z"
   },
   {
    "duration": 20,
    "start_time": "2023-03-06T13:39:48.672Z"
   },
   {
    "duration": 3,
    "start_time": "2023-03-06T13:40:02.878Z"
   },
   {
    "duration": 60,
    "start_time": "2023-03-06T13:40:04.622Z"
   },
   {
    "duration": 7,
    "start_time": "2023-03-06T13:40:14.368Z"
   },
   {
    "duration": 334,
    "start_time": "2023-03-06T13:40:20.606Z"
   },
   {
    "duration": 65,
    "start_time": "2023-03-06T13:40:20.942Z"
   },
   {
    "duration": 12,
    "start_time": "2023-03-06T13:40:21.009Z"
   },
   {
    "duration": 20,
    "start_time": "2023-03-06T13:40:21.022Z"
   },
   {
    "duration": 71,
    "start_time": "2023-03-06T13:43:53.936Z"
   },
   {
    "duration": 9,
    "start_time": "2023-03-06T13:47:43.369Z"
   },
   {
    "duration": 5,
    "start_time": "2023-03-06T14:00:46.080Z"
   },
   {
    "duration": 6,
    "start_time": "2023-03-06T14:00:49.585Z"
   },
   {
    "duration": 8,
    "start_time": "2023-03-06T14:00:58.409Z"
   },
   {
    "duration": 62,
    "start_time": "2023-03-06T14:01:23.516Z"
   },
   {
    "duration": 11,
    "start_time": "2023-03-06T14:01:33.198Z"
   },
   {
    "duration": 11,
    "start_time": "2023-03-06T14:01:35.279Z"
   },
   {
    "duration": 11,
    "start_time": "2023-03-06T14:01:39.821Z"
   },
   {
    "duration": 41,
    "start_time": "2023-03-06T14:02:02.481Z"
   },
   {
    "duration": 12,
    "start_time": "2023-03-06T14:02:09.425Z"
   },
   {
    "duration": 11,
    "start_time": "2023-03-06T14:02:34.672Z"
   },
   {
    "duration": 16,
    "start_time": "2023-03-06T14:04:18.276Z"
   },
   {
    "duration": 18,
    "start_time": "2023-03-06T14:11:23.903Z"
   },
   {
    "duration": 19,
    "start_time": "2023-03-06T14:12:39.049Z"
   },
   {
    "duration": 16,
    "start_time": "2023-03-06T14:18:04.554Z"
   },
   {
    "duration": 16,
    "start_time": "2023-03-06T14:18:13.580Z"
   },
   {
    "duration": 340,
    "start_time": "2023-03-06T14:18:26.601Z"
   },
   {
    "duration": 66,
    "start_time": "2023-03-06T14:18:26.943Z"
   },
   {
    "duration": 13,
    "start_time": "2023-03-06T14:18:27.011Z"
   },
   {
    "duration": 36,
    "start_time": "2023-03-06T14:18:27.025Z"
   },
   {
    "duration": 54,
    "start_time": "2023-03-06T14:18:27.063Z"
   },
   {
    "duration": 25,
    "start_time": "2023-03-06T14:18:27.118Z"
   },
   {
    "duration": 25,
    "start_time": "2023-03-06T14:23:08.307Z"
   },
   {
    "duration": 4,
    "start_time": "2023-03-06T14:27:04.428Z"
   },
   {
    "duration": 14,
    "start_time": "2023-03-06T14:28:15.729Z"
   },
   {
    "duration": 5,
    "start_time": "2023-03-06T14:29:35.255Z"
   },
   {
    "duration": 5,
    "start_time": "2023-03-06T14:32:23.615Z"
   },
   {
    "duration": 4,
    "start_time": "2023-03-06T14:32:51.997Z"
   },
   {
    "duration": 5,
    "start_time": "2023-03-06T14:34:36.152Z"
   },
   {
    "duration": 1175,
    "start_time": "2023-03-06T14:38:19.037Z"
   },
   {
    "duration": 10,
    "start_time": "2023-03-06T14:38:22.478Z"
   },
   {
    "duration": 7,
    "start_time": "2023-03-06T14:39:34.447Z"
   },
   {
    "duration": 629,
    "start_time": "2023-03-06T14:40:27.119Z"
   },
   {
    "duration": 6,
    "start_time": "2023-03-06T14:40:31.687Z"
   },
   {
    "duration": 12,
    "start_time": "2023-03-06T14:42:48.274Z"
   },
   {
    "duration": 9,
    "start_time": "2023-03-06T14:43:32.322Z"
   },
   {
    "duration": 14,
    "start_time": "2023-03-06T14:43:43.604Z"
   },
   {
    "duration": 60,
    "start_time": "2023-03-06T14:44:07.840Z"
   },
   {
    "duration": 12,
    "start_time": "2023-03-06T14:44:15.316Z"
   },
   {
    "duration": 17,
    "start_time": "2023-03-06T14:44:53.508Z"
   },
   {
    "duration": 1138,
    "start_time": "2023-03-06T14:46:04.559Z"
   },
   {
    "duration": 141,
    "start_time": "2023-03-06T14:46:05.698Z"
   },
   {
    "duration": 20,
    "start_time": "2023-03-06T14:46:05.842Z"
   },
   {
    "duration": 32,
    "start_time": "2023-03-06T14:46:05.874Z"
   },
   {
    "duration": 15,
    "start_time": "2023-03-06T14:46:05.909Z"
   },
   {
    "duration": 23,
    "start_time": "2023-03-06T14:46:05.926Z"
   },
   {
    "duration": 10,
    "start_time": "2023-03-06T14:46:05.950Z"
   },
   {
    "duration": 32,
    "start_time": "2023-03-06T14:46:05.962Z"
   },
   {
    "duration": 5,
    "start_time": "2023-03-06T14:46:05.995Z"
   },
   {
    "duration": 7,
    "start_time": "2023-03-06T14:46:06.002Z"
   },
   {
    "duration": 16,
    "start_time": "2023-03-06T14:46:06.011Z"
   },
   {
    "duration": 95,
    "start_time": "2023-03-06T14:46:14.929Z"
   },
   {
    "duration": 14,
    "start_time": "2023-03-06T14:46:18.878Z"
   },
   {
    "duration": 7,
    "start_time": "2023-03-06T14:46:44.875Z"
   },
   {
    "duration": 13,
    "start_time": "2023-03-06T14:46:46.970Z"
   },
   {
    "duration": 1200,
    "start_time": "2023-03-06T14:53:16.195Z"
   },
   {
    "duration": 23,
    "start_time": "2023-03-06T14:53:34.362Z"
   },
   {
    "duration": 19,
    "start_time": "2023-03-06T14:53:44.827Z"
   },
   {
    "duration": 50,
    "start_time": "2023-03-06T17:05:43.404Z"
   },
   {
    "duration": 1278,
    "start_time": "2023-03-06T17:05:51.887Z"
   },
   {
    "duration": 258,
    "start_time": "2023-03-06T17:05:53.168Z"
   },
   {
    "duration": 15,
    "start_time": "2023-03-06T17:05:53.428Z"
   },
   {
    "duration": 21,
    "start_time": "2023-03-06T17:05:53.446Z"
   },
   {
    "duration": 10,
    "start_time": "2023-03-06T17:05:53.470Z"
   },
   {
    "duration": 49,
    "start_time": "2023-03-06T17:05:53.481Z"
   },
   {
    "duration": 7,
    "start_time": "2023-03-06T17:05:53.532Z"
   },
   {
    "duration": 22,
    "start_time": "2023-03-06T17:05:53.543Z"
   },
   {
    "duration": 5,
    "start_time": "2023-03-06T17:05:53.567Z"
   },
   {
    "duration": 5,
    "start_time": "2023-03-06T17:05:53.574Z"
   },
   {
    "duration": 8,
    "start_time": "2023-03-06T17:05:53.613Z"
   },
   {
    "duration": 18,
    "start_time": "2023-03-06T17:05:53.623Z"
   },
   {
    "duration": 24,
    "start_time": "2023-03-06T17:05:53.643Z"
   },
   {
    "duration": 15,
    "start_time": "2023-03-06T17:05:53.670Z"
   },
   {
    "duration": 6,
    "start_time": "2023-03-06T17:05:53.883Z"
   },
   {
    "duration": 8,
    "start_time": "2023-03-06T17:06:10.912Z"
   },
   {
    "duration": 6,
    "start_time": "2023-03-06T17:06:28.773Z"
   },
   {
    "duration": 5,
    "start_time": "2023-03-06T17:06:36.473Z"
   },
   {
    "duration": 6,
    "start_time": "2023-03-06T17:06:42.070Z"
   },
   {
    "duration": 13,
    "start_time": "2023-03-06T17:11:31.773Z"
   },
   {
    "duration": 67,
    "start_time": "2023-03-06T17:11:57.954Z"
   },
   {
    "duration": 74,
    "start_time": "2023-03-06T17:12:37.336Z"
   },
   {
    "duration": 61,
    "start_time": "2023-03-06T17:12:44.875Z"
   },
   {
    "duration": 59,
    "start_time": "2023-03-06T17:14:40.542Z"
   },
   {
    "duration": 125,
    "start_time": "2023-03-06T17:19:38.702Z"
   },
   {
    "duration": 82,
    "start_time": "2023-03-06T17:19:48.826Z"
   },
   {
    "duration": 83,
    "start_time": "2023-03-06T17:20:37.995Z"
   },
   {
    "duration": 72,
    "start_time": "2023-03-06T17:21:22.777Z"
   },
   {
    "duration": 69,
    "start_time": "2023-03-06T17:23:03.806Z"
   },
   {
    "duration": 351,
    "start_time": "2023-03-06T17:23:14.008Z"
   },
   {
    "duration": 22,
    "start_time": "2023-03-06T17:23:40.354Z"
   },
   {
    "duration": 65,
    "start_time": "2023-03-06T17:24:06.372Z"
   },
   {
    "duration": 1159,
    "start_time": "2023-03-06T17:24:54.470Z"
   },
   {
    "duration": 1136,
    "start_time": "2023-03-06T17:25:05.528Z"
   },
   {
    "duration": 19,
    "start_time": "2023-03-06T17:28:34.060Z"
   },
   {
    "duration": 62,
    "start_time": "2023-03-06T17:28:38.708Z"
   },
   {
    "duration": 2577,
    "start_time": "2023-03-06T17:29:42.678Z"
   },
   {
    "duration": 668,
    "start_time": "2023-03-06T17:30:56.894Z"
   },
   {
    "duration": 664,
    "start_time": "2023-03-06T17:33:30.574Z"
   },
   {
    "duration": 2879,
    "start_time": "2023-03-06T17:33:45.423Z"
   },
   {
    "duration": 2805,
    "start_time": "2023-03-06T17:34:09.990Z"
   },
   {
    "duration": 3115,
    "start_time": "2023-03-06T17:34:36.056Z"
   },
   {
    "duration": 777,
    "start_time": "2023-03-06T17:34:53.857Z"
   },
   {
    "duration": 93,
    "start_time": "2023-03-06T17:36:58.781Z"
   },
   {
    "duration": 1341,
    "start_time": "2023-03-06T17:37:04.093Z"
   },
   {
    "duration": 645,
    "start_time": "2023-03-06T17:37:16.012Z"
   },
   {
    "duration": 696,
    "start_time": "2023-03-06T17:37:29.660Z"
   },
   {
    "duration": 510,
    "start_time": "2023-03-06T17:37:52.747Z"
   },
   {
    "duration": 453,
    "start_time": "2023-03-06T17:38:02.756Z"
   },
   {
    "duration": 245,
    "start_time": "2023-03-06T17:38:16.302Z"
   },
   {
    "duration": 137,
    "start_time": "2023-03-06T17:38:24.857Z"
   },
   {
    "duration": 150,
    "start_time": "2023-03-06T17:40:11.150Z"
   },
   {
    "duration": 150,
    "start_time": "2023-03-06T17:40:20.349Z"
   },
   {
    "duration": 146,
    "start_time": "2023-03-06T17:40:26.138Z"
   },
   {
    "duration": 133,
    "start_time": "2023-03-06T17:40:48.273Z"
   },
   {
    "duration": 165,
    "start_time": "2023-03-06T17:40:54.107Z"
   },
   {
    "duration": 143,
    "start_time": "2023-03-06T17:40:59.853Z"
   },
   {
    "duration": 386,
    "start_time": "2023-03-06T17:41:05.614Z"
   },
   {
    "duration": 131,
    "start_time": "2023-03-06T17:41:12.847Z"
   },
   {
    "duration": 125,
    "start_time": "2023-03-06T17:41:17.732Z"
   },
   {
    "duration": 124,
    "start_time": "2023-03-06T17:41:26.163Z"
   },
   {
    "duration": 138,
    "start_time": "2023-03-06T17:41:32.037Z"
   },
   {
    "duration": 200,
    "start_time": "2023-03-06T17:41:37.503Z"
   },
   {
    "duration": 140,
    "start_time": "2023-03-06T17:41:41.025Z"
   },
   {
    "duration": 136,
    "start_time": "2023-03-06T17:41:45.979Z"
   },
   {
    "duration": 153,
    "start_time": "2023-03-06T17:41:59.391Z"
   },
   {
    "duration": 145,
    "start_time": "2023-03-06T17:42:39.154Z"
   },
   {
    "duration": 144,
    "start_time": "2023-03-06T17:42:46.059Z"
   },
   {
    "duration": 157,
    "start_time": "2023-03-06T17:42:50.473Z"
   },
   {
    "duration": 166,
    "start_time": "2023-03-06T17:43:05.641Z"
   },
   {
    "duration": 169,
    "start_time": "2023-03-06T17:44:18.943Z"
   },
   {
    "duration": 22,
    "start_time": "2023-03-06T17:53:12.937Z"
   },
   {
    "duration": 21,
    "start_time": "2023-03-06T17:55:51.789Z"
   },
   {
    "duration": 19,
    "start_time": "2023-03-06T17:56:03.714Z"
   },
   {
    "duration": 17,
    "start_time": "2023-03-06T17:56:19.812Z"
   },
   {
    "duration": 18,
    "start_time": "2023-03-06T17:56:27.800Z"
   },
   {
    "duration": 17,
    "start_time": "2023-03-06T17:56:47.840Z"
   },
   {
    "duration": 22,
    "start_time": "2023-03-06T17:59:14.401Z"
   },
   {
    "duration": 18,
    "start_time": "2023-03-06T17:59:28.578Z"
   },
   {
    "duration": 12,
    "start_time": "2023-03-06T18:00:06.395Z"
   },
   {
    "duration": 23,
    "start_time": "2023-03-06T18:01:05.153Z"
   },
   {
    "duration": 36,
    "start_time": "2023-03-06T18:01:34.470Z"
   },
   {
    "duration": 32,
    "start_time": "2023-03-06T18:01:42.244Z"
   },
   {
    "duration": 25,
    "start_time": "2023-03-06T18:01:48.153Z"
   },
   {
    "duration": 530,
    "start_time": "2023-03-06T18:02:04.130Z"
   },
   {
    "duration": 9,
    "start_time": "2023-03-06T18:11:42.195Z"
   },
   {
    "duration": 9,
    "start_time": "2023-03-06T18:11:51.854Z"
   },
   {
    "duration": 56,
    "start_time": "2023-03-06T18:11:58.637Z"
   },
   {
    "duration": 1013,
    "start_time": "2023-03-06T18:11:59.968Z"
   },
   {
    "duration": 129,
    "start_time": "2023-03-06T18:12:00.983Z"
   },
   {
    "duration": 14,
    "start_time": "2023-03-06T18:12:01.114Z"
   },
   {
    "duration": 45,
    "start_time": "2023-03-06T18:12:01.130Z"
   },
   {
    "duration": 45,
    "start_time": "2023-03-06T18:12:01.176Z"
   },
   {
    "duration": 59,
    "start_time": "2023-03-06T18:12:01.223Z"
   },
   {
    "duration": 28,
    "start_time": "2023-03-06T18:12:01.284Z"
   },
   {
    "duration": 35,
    "start_time": "2023-03-06T18:12:01.314Z"
   },
   {
    "duration": 29,
    "start_time": "2023-03-06T18:12:01.350Z"
   },
   {
    "duration": 46,
    "start_time": "2023-03-06T18:12:01.382Z"
   },
   {
    "duration": 34,
    "start_time": "2023-03-06T18:12:01.430Z"
   },
   {
    "duration": 39,
    "start_time": "2023-03-06T18:12:01.466Z"
   },
   {
    "duration": 55,
    "start_time": "2023-03-06T18:12:01.507Z"
   },
   {
    "duration": 180,
    "start_time": "2023-03-06T18:12:01.564Z"
   },
   {
    "duration": 19,
    "start_time": "2023-03-06T18:12:01.745Z"
   },
   {
    "duration": 270,
    "start_time": "2023-03-06T18:12:01.765Z"
   },
   {
    "duration": 267,
    "start_time": "2023-03-06T18:12:11.323Z"
   },
   {
    "duration": 74,
    "start_time": "2023-03-06T18:13:26.602Z"
   },
   {
    "duration": 253,
    "start_time": "2023-03-06T18:13:32.330Z"
   },
   {
    "duration": 264,
    "start_time": "2023-03-06T18:14:47.931Z"
   },
   {
    "duration": 65,
    "start_time": "2023-03-06T18:14:53.674Z"
   },
   {
    "duration": 272,
    "start_time": "2023-03-06T18:14:57.297Z"
   },
   {
    "duration": 348,
    "start_time": "2023-03-06T18:15:11.580Z"
   },
   {
    "duration": 288,
    "start_time": "2023-03-06T18:16:00.195Z"
   },
   {
    "duration": 276,
    "start_time": "2023-03-06T18:16:27.937Z"
   },
   {
    "duration": 296,
    "start_time": "2023-03-06T18:18:30.770Z"
   },
   {
    "duration": 299,
    "start_time": "2023-03-06T18:18:47.327Z"
   },
   {
    "duration": 129,
    "start_time": "2023-03-06T18:24:14.025Z"
   },
   {
    "duration": 80,
    "start_time": "2023-03-06T18:24:44.057Z"
   },
   {
    "duration": 25,
    "start_time": "2023-03-06T18:24:51.164Z"
   },
   {
    "duration": 1060,
    "start_time": "2023-03-06T18:25:10.700Z"
   },
   {
    "duration": 136,
    "start_time": "2023-03-06T18:25:11.762Z"
   },
   {
    "duration": 16,
    "start_time": "2023-03-06T18:25:11.899Z"
   },
   {
    "duration": 23,
    "start_time": "2023-03-06T18:25:11.917Z"
   },
   {
    "duration": 11,
    "start_time": "2023-03-06T18:25:11.941Z"
   },
   {
    "duration": 20,
    "start_time": "2023-03-06T18:25:11.954Z"
   },
   {
    "duration": 40,
    "start_time": "2023-03-06T18:25:11.976Z"
   },
   {
    "duration": 28,
    "start_time": "2023-03-06T18:25:12.018Z"
   },
   {
    "duration": 5,
    "start_time": "2023-03-06T18:25:12.048Z"
   },
   {
    "duration": 6,
    "start_time": "2023-03-06T18:25:12.056Z"
   },
   {
    "duration": 8,
    "start_time": "2023-03-06T18:25:12.064Z"
   },
   {
    "duration": 39,
    "start_time": "2023-03-06T18:25:12.074Z"
   },
   {
    "duration": 20,
    "start_time": "2023-03-06T18:25:12.115Z"
   },
   {
    "duration": 194,
    "start_time": "2023-03-06T18:25:12.137Z"
   },
   {
    "duration": 21,
    "start_time": "2023-03-06T18:25:12.334Z"
   },
   {
    "duration": 334,
    "start_time": "2023-03-06T18:25:12.357Z"
   },
   {
    "duration": 130,
    "start_time": "2023-03-06T18:25:12.692Z"
   },
   {
    "duration": 27,
    "start_time": "2023-03-06T18:26:50.389Z"
   },
   {
    "duration": 1062,
    "start_time": "2023-03-06T18:27:00.430Z"
   },
   {
    "duration": 133,
    "start_time": "2023-03-06T18:27:01.495Z"
   },
   {
    "duration": 15,
    "start_time": "2023-03-06T18:27:01.629Z"
   },
   {
    "duration": 42,
    "start_time": "2023-03-06T18:27:01.647Z"
   },
   {
    "duration": 37,
    "start_time": "2023-03-06T18:27:01.691Z"
   },
   {
    "duration": 52,
    "start_time": "2023-03-06T18:27:01.730Z"
   },
   {
    "duration": 7,
    "start_time": "2023-03-06T18:27:01.784Z"
   },
   {
    "duration": 22,
    "start_time": "2023-03-06T18:27:01.793Z"
   },
   {
    "duration": 23,
    "start_time": "2023-03-06T18:27:01.817Z"
   },
   {
    "duration": 30,
    "start_time": "2023-03-06T18:27:01.842Z"
   },
   {
    "duration": 29,
    "start_time": "2023-03-06T18:27:01.874Z"
   },
   {
    "duration": 25,
    "start_time": "2023-03-06T18:27:01.904Z"
   },
   {
    "duration": 17,
    "start_time": "2023-03-06T18:27:01.931Z"
   },
   {
    "duration": 180,
    "start_time": "2023-03-06T18:27:01.950Z"
   },
   {
    "duration": 21,
    "start_time": "2023-03-06T18:27:02.132Z"
   },
   {
    "duration": 320,
    "start_time": "2023-03-06T18:27:02.156Z"
   },
   {
    "duration": 124,
    "start_time": "2023-03-06T18:27:02.478Z"
   },
   {
    "duration": 30,
    "start_time": "2023-03-06T18:28:54.507Z"
   },
   {
    "duration": 178,
    "start_time": "2023-03-06T18:29:58.822Z"
   },
   {
    "duration": 182,
    "start_time": "2023-03-06T18:30:07.721Z"
   },
   {
    "duration": 191,
    "start_time": "2023-03-06T18:31:42.323Z"
   },
   {
    "duration": 188,
    "start_time": "2023-03-06T18:32:27.167Z"
   },
   {
    "duration": 180,
    "start_time": "2023-03-06T18:32:45.704Z"
   },
   {
    "duration": 185,
    "start_time": "2023-03-06T18:33:25.730Z"
   },
   {
    "duration": 192,
    "start_time": "2023-03-06T18:34:14.966Z"
   },
   {
    "duration": 260,
    "start_time": "2023-03-06T18:42:41.837Z"
   },
   {
    "duration": 166,
    "start_time": "2023-03-06T18:43:16.226Z"
   },
   {
    "duration": 192,
    "start_time": "2023-03-06T18:52:52.743Z"
   },
   {
    "duration": 107,
    "start_time": "2023-03-06T18:53:57.026Z"
   },
   {
    "duration": 94,
    "start_time": "2023-03-06T19:19:17.639Z"
   },
   {
    "duration": 72,
    "start_time": "2023-03-06T19:19:54.779Z"
   },
   {
    "duration": 14,
    "start_time": "2023-03-06T19:20:04.746Z"
   },
   {
    "duration": 143,
    "start_time": "2023-03-06T19:20:21.459Z"
   },
   {
    "duration": 24,
    "start_time": "2023-03-06T19:23:49.754Z"
   },
   {
    "duration": 11,
    "start_time": "2023-03-06T19:26:08.636Z"
   },
   {
    "duration": 147,
    "start_time": "2023-03-06T19:26:20.138Z"
   },
   {
    "duration": 150,
    "start_time": "2023-03-06T19:26:39.048Z"
   },
   {
    "duration": 143,
    "start_time": "2023-03-06T19:27:05.972Z"
   },
   {
    "duration": 186,
    "start_time": "2023-03-06T19:27:30.968Z"
   },
   {
    "duration": 172,
    "start_time": "2023-03-06T19:27:50.434Z"
   },
   {
    "duration": 183,
    "start_time": "2023-03-06T19:29:11.651Z"
   },
   {
    "duration": 195,
    "start_time": "2023-03-06T19:29:27.353Z"
   },
   {
    "duration": 284,
    "start_time": "2023-03-06T19:29:41.406Z"
   },
   {
    "duration": 193,
    "start_time": "2023-03-06T19:29:53.208Z"
   },
   {
    "duration": 155,
    "start_time": "2023-03-06T19:31:05.544Z"
   },
   {
    "duration": 169,
    "start_time": "2023-03-06T19:31:38.815Z"
   },
   {
    "duration": 324,
    "start_time": "2023-03-06T22:41:28.227Z"
   },
   {
    "duration": 204,
    "start_time": "2023-03-06T22:42:26.736Z"
   },
   {
    "duration": 33,
    "start_time": "2023-03-06T22:45:01.514Z"
   },
   {
    "duration": 5,
    "start_time": "2023-03-06T22:48:34.316Z"
   },
   {
    "duration": 32,
    "start_time": "2023-03-06T22:53:30.919Z"
   },
   {
    "duration": 97,
    "start_time": "2023-03-06T22:54:43.246Z"
   },
   {
    "duration": 279,
    "start_time": "2023-03-06T22:56:36.638Z"
   },
   {
    "duration": 271,
    "start_time": "2023-03-06T22:57:33.627Z"
   },
   {
    "duration": 296,
    "start_time": "2023-03-06T22:59:00.048Z"
   },
   {
    "duration": 282,
    "start_time": "2023-03-06T22:59:33.206Z"
   },
   {
    "duration": 21,
    "start_time": "2023-03-06T22:59:53.129Z"
   },
   {
    "duration": 47,
    "start_time": "2023-03-07T19:26:13.643Z"
   },
   {
    "duration": 1317,
    "start_time": "2023-03-07T19:26:29.287Z"
   },
   {
    "duration": 264,
    "start_time": "2023-03-07T19:26:30.606Z"
   },
   {
    "duration": 16,
    "start_time": "2023-03-07T19:26:30.871Z"
   },
   {
    "duration": 40,
    "start_time": "2023-03-07T19:26:30.889Z"
   },
   {
    "duration": 33,
    "start_time": "2023-03-07T19:26:30.931Z"
   },
   {
    "duration": 31,
    "start_time": "2023-03-07T19:26:30.966Z"
   },
   {
    "duration": 5,
    "start_time": "2023-03-07T19:26:30.999Z"
   },
   {
    "duration": 36,
    "start_time": "2023-03-07T19:26:31.006Z"
   },
   {
    "duration": 9,
    "start_time": "2023-03-07T19:26:31.043Z"
   },
   {
    "duration": 34,
    "start_time": "2023-03-07T19:26:31.055Z"
   },
   {
    "duration": 40,
    "start_time": "2023-03-07T19:26:31.091Z"
   },
   {
    "duration": 31,
    "start_time": "2023-03-07T19:26:31.132Z"
   },
   {
    "duration": 54,
    "start_time": "2023-03-07T19:26:31.165Z"
   },
   {
    "duration": 193,
    "start_time": "2023-03-07T19:26:31.221Z"
   },
   {
    "duration": 21,
    "start_time": "2023-03-07T19:26:31.416Z"
   },
   {
    "duration": 307,
    "start_time": "2023-03-07T19:26:31.439Z"
   },
   {
    "duration": 208,
    "start_time": "2023-03-07T19:26:31.748Z"
   },
   {
    "duration": 203,
    "start_time": "2023-03-07T19:26:31.958Z"
   },
   {
    "duration": 204,
    "start_time": "2023-03-07T19:26:32.163Z"
   },
   {
    "duration": 205,
    "start_time": "2023-03-07T19:26:32.369Z"
   },
   {
    "duration": 191,
    "start_time": "2023-03-07T19:26:32.576Z"
   },
   {
    "duration": 192,
    "start_time": "2023-03-07T19:26:32.769Z"
   },
   {
    "duration": 189,
    "start_time": "2023-03-07T19:26:32.963Z"
   },
   {
    "duration": 356,
    "start_time": "2023-03-07T19:26:33.153Z"
   },
   {
    "duration": 32,
    "start_time": "2023-03-07T19:26:33.534Z"
   },
   {
    "duration": 205,
    "start_time": "2023-03-07T19:27:03.246Z"
   },
   {
    "duration": 207,
    "start_time": "2023-03-07T19:29:37.809Z"
   },
   {
    "duration": 55,
    "start_time": "2023-03-07T19:30:46.078Z"
   },
   {
    "duration": 119,
    "start_time": "2023-03-07T19:30:52.132Z"
   },
   {
    "duration": 115,
    "start_time": "2023-03-07T19:31:26.441Z"
   },
   {
    "duration": 16,
    "start_time": "2023-03-07T19:36:58.262Z"
   },
   {
    "duration": 263,
    "start_time": "2023-03-07T19:37:14.272Z"
   },
   {
    "duration": 24,
    "start_time": "2023-03-07T19:38:12.387Z"
   },
   {
    "duration": 241,
    "start_time": "2023-03-07T19:38:45.768Z"
   },
   {
    "duration": 286,
    "start_time": "2023-03-07T19:38:58.748Z"
   },
   {
    "duration": 216,
    "start_time": "2023-03-07T19:39:35.323Z"
   },
   {
    "duration": 241,
    "start_time": "2023-03-07T19:40:19.973Z"
   },
   {
    "duration": 184,
    "start_time": "2023-03-07T19:40:35.165Z"
   },
   {
    "duration": 182,
    "start_time": "2023-03-07T19:41:27.621Z"
   },
   {
    "duration": 184,
    "start_time": "2023-03-07T19:41:33.373Z"
   },
   {
    "duration": 192,
    "start_time": "2023-03-07T19:42:50.930Z"
   },
   {
    "duration": 201,
    "start_time": "2023-03-07T19:42:55.810Z"
   },
   {
    "duration": 203,
    "start_time": "2023-03-07T19:43:04.635Z"
   },
   {
    "duration": 128,
    "start_time": "2023-03-07T19:45:04.997Z"
   },
   {
    "duration": 240,
    "start_time": "2023-03-07T19:45:09.922Z"
   },
   {
    "duration": 388,
    "start_time": "2023-03-07T19:45:22.835Z"
   },
   {
    "duration": 197,
    "start_time": "2023-03-07T19:45:35.236Z"
   },
   {
    "duration": 263,
    "start_time": "2023-03-07T19:46:30.827Z"
   },
   {
    "duration": 250,
    "start_time": "2023-03-07T19:46:47.309Z"
   },
   {
    "duration": 213,
    "start_time": "2023-03-07T19:47:17.216Z"
   },
   {
    "duration": 199,
    "start_time": "2023-03-07T19:48:17.231Z"
   },
   {
    "duration": 1184,
    "start_time": "2023-03-07T19:48:36.391Z"
   },
   {
    "duration": 69,
    "start_time": "2023-03-07T19:48:37.577Z"
   },
   {
    "duration": 16,
    "start_time": "2023-03-07T19:48:37.648Z"
   },
   {
    "duration": 24,
    "start_time": "2023-03-07T19:48:37.667Z"
   },
   {
    "duration": 32,
    "start_time": "2023-03-07T19:48:37.693Z"
   },
   {
    "duration": 21,
    "start_time": "2023-03-07T19:48:37.727Z"
   },
   {
    "duration": 7,
    "start_time": "2023-03-07T19:48:37.750Z"
   },
   {
    "duration": 29,
    "start_time": "2023-03-07T19:48:37.758Z"
   },
   {
    "duration": 5,
    "start_time": "2023-03-07T19:48:37.790Z"
   },
   {
    "duration": 7,
    "start_time": "2023-03-07T19:48:37.824Z"
   },
   {
    "duration": 11,
    "start_time": "2023-03-07T19:48:37.833Z"
   },
   {
    "duration": 18,
    "start_time": "2023-03-07T19:48:37.847Z"
   },
   {
    "duration": 23,
    "start_time": "2023-03-07T19:48:37.867Z"
   },
   {
    "duration": 201,
    "start_time": "2023-03-07T19:48:37.922Z"
   },
   {
    "duration": 21,
    "start_time": "2023-03-07T19:48:38.126Z"
   },
   {
    "duration": 366,
    "start_time": "2023-03-07T19:48:38.149Z"
   },
   {
    "duration": 211,
    "start_time": "2023-03-07T19:48:38.518Z"
   },
   {
    "duration": 223,
    "start_time": "2023-03-07T19:48:38.731Z"
   },
   {
    "duration": 214,
    "start_time": "2023-03-07T19:48:38.955Z"
   },
   {
    "duration": 207,
    "start_time": "2023-03-07T19:48:39.171Z"
   },
   {
    "duration": 232,
    "start_time": "2023-03-07T19:48:39.380Z"
   },
   {
    "duration": 216,
    "start_time": "2023-03-07T19:48:39.614Z"
   },
   {
    "duration": 292,
    "start_time": "2023-03-07T19:48:39.833Z"
   },
   {
    "duration": 391,
    "start_time": "2023-03-07T19:48:40.127Z"
   },
   {
    "duration": 237,
    "start_time": "2023-03-07T19:48:40.786Z"
   },
   {
    "duration": 203,
    "start_time": "2023-03-07T19:49:00.668Z"
   },
   {
    "duration": 270,
    "start_time": "2023-03-07T19:50:29.086Z"
   },
   {
    "duration": 262,
    "start_time": "2023-03-07T19:51:06.729Z"
   },
   {
    "duration": 236,
    "start_time": "2023-03-07T20:00:16.480Z"
   },
   {
    "duration": 116,
    "start_time": "2023-03-07T20:01:30.272Z"
   },
   {
    "duration": 1115,
    "start_time": "2023-03-07T20:01:36.124Z"
   },
   {
    "duration": 201,
    "start_time": "2023-03-07T20:01:55.968Z"
   },
   {
    "duration": 203,
    "start_time": "2023-03-07T20:05:02.028Z"
   },
   {
    "duration": 28,
    "start_time": "2023-03-07T20:11:50.543Z"
   },
   {
    "duration": 34,
    "start_time": "2023-03-07T20:13:39.322Z"
   },
   {
    "duration": 23,
    "start_time": "2023-03-07T20:14:09.536Z"
   },
   {
    "duration": 127,
    "start_time": "2023-03-07T20:15:04.740Z"
   },
   {
    "duration": 25,
    "start_time": "2023-03-07T20:18:43.516Z"
   },
   {
    "duration": 16,
    "start_time": "2023-03-07T20:23:02.703Z"
   },
   {
    "duration": 653,
    "start_time": "2023-03-07T20:24:01.646Z"
   },
   {
    "duration": 663,
    "start_time": "2023-03-07T20:24:29.672Z"
   },
   {
    "duration": 18,
    "start_time": "2023-03-07T20:25:36.603Z"
   },
   {
    "duration": 18,
    "start_time": "2023-03-07T20:26:06.671Z"
   },
   {
    "duration": 759,
    "start_time": "2023-03-07T20:26:22.354Z"
   },
   {
    "duration": 588,
    "start_time": "2023-03-07T20:27:41.038Z"
   },
   {
    "duration": 590,
    "start_time": "2023-03-07T20:27:55.444Z"
   },
   {
    "duration": 178,
    "start_time": "2023-03-07T20:29:21.332Z"
   },
   {
    "duration": 192,
    "start_time": "2023-03-07T20:29:58.602Z"
   },
   {
    "duration": 294,
    "start_time": "2023-03-07T20:31:46.410Z"
   },
   {
    "duration": 182,
    "start_time": "2023-03-07T20:32:05.718Z"
   },
   {
    "duration": 1309,
    "start_time": "2023-03-07T20:33:01.426Z"
   },
   {
    "duration": 17,
    "start_time": "2023-03-07T20:35:17.753Z"
   },
   {
    "duration": 30,
    "start_time": "2023-03-07T20:37:45.092Z"
   },
   {
    "duration": 14,
    "start_time": "2023-03-07T20:37:56.997Z"
   },
   {
    "duration": 16,
    "start_time": "2023-03-07T20:38:11.141Z"
   },
   {
    "duration": 8,
    "start_time": "2023-03-07T20:41:07.293Z"
   },
   {
    "duration": 8,
    "start_time": "2023-03-07T20:41:40.714Z"
   },
   {
    "duration": 1167,
    "start_time": "2023-03-07T20:41:52.597Z"
   },
   {
    "duration": 68,
    "start_time": "2023-03-07T20:41:53.766Z"
   },
   {
    "duration": 18,
    "start_time": "2023-03-07T20:41:53.836Z"
   },
   {
    "duration": 29,
    "start_time": "2023-03-07T20:41:53.856Z"
   },
   {
    "duration": 11,
    "start_time": "2023-03-07T20:41:53.887Z"
   },
   {
    "duration": 21,
    "start_time": "2023-03-07T20:41:53.921Z"
   },
   {
    "duration": 7,
    "start_time": "2023-03-07T20:41:53.944Z"
   },
   {
    "duration": 18,
    "start_time": "2023-03-07T20:41:53.953Z"
   },
   {
    "duration": 16,
    "start_time": "2023-03-07T20:41:53.973Z"
   },
   {
    "duration": 34,
    "start_time": "2023-03-07T20:41:53.991Z"
   },
   {
    "duration": 8,
    "start_time": "2023-03-07T20:41:54.027Z"
   },
   {
    "duration": 16,
    "start_time": "2023-03-07T20:41:54.037Z"
   },
   {
    "duration": 17,
    "start_time": "2023-03-07T20:41:54.055Z"
   },
   {
    "duration": 203,
    "start_time": "2023-03-07T20:41:54.076Z"
   },
   {
    "duration": 19,
    "start_time": "2023-03-07T20:41:54.282Z"
   },
   {
    "duration": 324,
    "start_time": "2023-03-07T20:41:54.302Z"
   },
   {
    "duration": 210,
    "start_time": "2023-03-07T20:41:54.628Z"
   },
   {
    "duration": 210,
    "start_time": "2023-03-07T20:41:54.840Z"
   },
   {
    "duration": 213,
    "start_time": "2023-03-07T20:41:55.052Z"
   },
   {
    "duration": 216,
    "start_time": "2023-03-07T20:41:55.267Z"
   },
   {
    "duration": 208,
    "start_time": "2023-03-07T20:41:55.485Z"
   },
   {
    "duration": 232,
    "start_time": "2023-03-07T20:41:55.696Z"
   },
   {
    "duration": 277,
    "start_time": "2023-03-07T20:41:55.929Z"
   },
   {
    "duration": 305,
    "start_time": "2023-03-07T20:41:56.208Z"
   },
   {
    "duration": 23,
    "start_time": "2023-03-07T20:41:56.721Z"
   },
   {
    "duration": 210,
    "start_time": "2023-03-07T20:41:56.749Z"
   },
   {
    "duration": 8,
    "start_time": "2023-03-07T20:42:18.619Z"
   },
   {
    "duration": 10,
    "start_time": "2023-03-07T20:44:30.280Z"
   },
   {
    "duration": 188,
    "start_time": "2023-03-07T20:45:15.307Z"
   },
   {
    "duration": 173,
    "start_time": "2023-03-07T20:45:56.012Z"
   },
   {
    "duration": 182,
    "start_time": "2023-03-07T20:47:12.392Z"
   },
   {
    "duration": 690,
    "start_time": "2023-03-07T20:48:54.361Z"
   },
   {
    "duration": 69,
    "start_time": "2023-03-07T20:50:43.325Z"
   },
   {
    "duration": 755,
    "start_time": "2023-03-07T20:50:53.817Z"
   },
   {
    "duration": 734,
    "start_time": "2023-03-07T20:51:19.619Z"
   },
   {
    "duration": 759,
    "start_time": "2023-03-07T20:51:54.392Z"
   },
   {
    "duration": 745,
    "start_time": "2023-03-07T20:52:03.482Z"
   },
   {
    "duration": 686,
    "start_time": "2023-03-07T21:02:06.249Z"
   },
   {
    "duration": 923,
    "start_time": "2023-03-07T21:02:57.187Z"
   },
   {
    "duration": 672,
    "start_time": "2023-03-07T21:03:07.035Z"
   },
   {
    "duration": 679,
    "start_time": "2023-03-07T21:03:11.971Z"
   },
   {
    "duration": 28,
    "start_time": "2023-03-07T21:03:28.647Z"
   },
   {
    "duration": 809,
    "start_time": "2023-03-07T21:05:44.828Z"
   },
   {
    "duration": 665,
    "start_time": "2023-03-07T21:07:34.772Z"
   },
   {
    "duration": 707,
    "start_time": "2023-03-07T21:08:30.618Z"
   },
   {
    "duration": 841,
    "start_time": "2023-03-07T21:10:37.734Z"
   },
   {
    "duration": 24,
    "start_time": "2023-03-07T21:16:43.583Z"
   },
   {
    "duration": 24,
    "start_time": "2023-03-07T21:17:15.620Z"
   },
   {
    "duration": 14,
    "start_time": "2023-03-07T21:19:18.225Z"
   },
   {
    "duration": 15,
    "start_time": "2023-03-07T21:19:25.523Z"
   },
   {
    "duration": 22,
    "start_time": "2023-03-07T21:19:28.871Z"
   },
   {
    "duration": 16,
    "start_time": "2023-03-07T21:20:08.915Z"
   },
   {
    "duration": 22,
    "start_time": "2023-03-07T21:22:20.254Z"
   },
   {
    "duration": 25,
    "start_time": "2023-03-07T21:23:28.873Z"
   },
   {
    "duration": 22,
    "start_time": "2023-03-07T21:24:05.270Z"
   },
   {
    "duration": 32,
    "start_time": "2023-03-07T21:24:32.792Z"
   },
   {
    "duration": 31,
    "start_time": "2023-03-07T21:24:54.601Z"
   },
   {
    "duration": 17,
    "start_time": "2023-03-07T21:26:26.035Z"
   },
   {
    "duration": 16,
    "start_time": "2023-03-07T21:26:41.061Z"
   },
   {
    "duration": 22,
    "start_time": "2023-03-07T21:26:54.537Z"
   },
   {
    "duration": 138,
    "start_time": "2023-03-07T21:29:04.734Z"
   },
   {
    "duration": 124,
    "start_time": "2023-03-07T21:29:25.208Z"
   },
   {
    "duration": 156,
    "start_time": "2023-03-07T21:30:50.512Z"
   },
   {
    "duration": 176,
    "start_time": "2023-03-07T21:31:12.892Z"
   },
   {
    "duration": 194,
    "start_time": "2023-03-07T21:31:36.738Z"
   },
   {
    "duration": 184,
    "start_time": "2023-03-07T21:32:07.918Z"
   },
   {
    "duration": 128,
    "start_time": "2023-03-07T21:32:26.004Z"
   },
   {
    "duration": 205,
    "start_time": "2023-03-07T21:32:30.510Z"
   },
   {
    "duration": 317,
    "start_time": "2023-03-07T21:32:39.552Z"
   },
   {
    "duration": 241,
    "start_time": "2023-03-07T21:32:50.333Z"
   },
   {
    "duration": 205,
    "start_time": "2023-03-07T21:34:11.455Z"
   },
   {
    "duration": 22,
    "start_time": "2023-03-07T22:03:56.721Z"
   },
   {
    "duration": 25,
    "start_time": "2023-03-07T22:16:25.639Z"
   },
   {
    "duration": 13,
    "start_time": "2023-03-07T22:17:54.018Z"
   },
   {
    "duration": 14,
    "start_time": "2023-03-07T22:18:35.365Z"
   },
   {
    "duration": 20,
    "start_time": "2023-03-07T22:19:26.642Z"
   },
   {
    "duration": 19,
    "start_time": "2023-03-07T22:27:09.947Z"
   },
   {
    "duration": 20,
    "start_time": "2023-03-07T22:27:44.500Z"
   },
   {
    "duration": 15,
    "start_time": "2023-03-07T22:28:01.540Z"
   },
   {
    "duration": 19,
    "start_time": "2023-03-07T22:28:11.585Z"
   },
   {
    "duration": 22,
    "start_time": "2023-03-07T22:29:29.816Z"
   },
   {
    "duration": 20,
    "start_time": "2023-03-07T22:29:52.496Z"
   },
   {
    "duration": 19,
    "start_time": "2023-03-07T22:29:58.114Z"
   },
   {
    "duration": 19,
    "start_time": "2023-03-07T22:30:09.162Z"
   },
   {
    "duration": 19,
    "start_time": "2023-03-07T22:30:14.840Z"
   },
   {
    "duration": 19,
    "start_time": "2023-03-07T22:30:28.073Z"
   },
   {
    "duration": 18,
    "start_time": "2023-03-07T22:30:32.967Z"
   },
   {
    "duration": 9,
    "start_time": "2023-03-07T22:33:13.816Z"
   },
   {
    "duration": 74,
    "start_time": "2023-03-07T22:33:27.412Z"
   },
   {
    "duration": 10,
    "start_time": "2023-03-07T22:33:53.263Z"
   },
   {
    "duration": 19,
    "start_time": "2023-03-07T22:34:10.900Z"
   },
   {
    "duration": 19,
    "start_time": "2023-03-07T22:34:24.058Z"
   },
   {
    "duration": 16,
    "start_time": "2023-03-07T22:36:55.285Z"
   },
   {
    "duration": 22,
    "start_time": "2023-03-07T22:37:16.966Z"
   },
   {
    "duration": 27,
    "start_time": "2023-03-07T22:38:05.868Z"
   },
   {
    "duration": 27,
    "start_time": "2023-03-07T22:38:13.092Z"
   },
   {
    "duration": 27,
    "start_time": "2023-03-07T22:38:22.828Z"
   },
   {
    "duration": 52,
    "start_time": "2023-03-07T22:38:55.081Z"
   },
   {
    "duration": 21,
    "start_time": "2023-03-07T22:40:39.209Z"
   },
   {
    "duration": 21,
    "start_time": "2023-03-07T22:40:58.528Z"
   },
   {
    "duration": 15,
    "start_time": "2023-03-07T22:41:02.562Z"
   },
   {
    "duration": 17,
    "start_time": "2023-03-07T22:41:11.301Z"
   },
   {
    "duration": 20,
    "start_time": "2023-03-07T22:42:03.249Z"
   },
   {
    "duration": 171,
    "start_time": "2023-03-07T22:42:25.712Z"
   },
   {
    "duration": 165,
    "start_time": "2023-03-07T22:42:45.948Z"
   },
   {
    "duration": 181,
    "start_time": "2023-03-07T22:42:54.216Z"
   },
   {
    "duration": 6,
    "start_time": "2023-03-07T22:43:47.152Z"
   },
   {
    "duration": 191,
    "start_time": "2023-03-07T22:46:38.477Z"
   },
   {
    "duration": 15,
    "start_time": "2023-03-07T22:52:18.879Z"
   },
   {
    "duration": 19,
    "start_time": "2023-03-07T22:54:10.591Z"
   },
   {
    "duration": 253,
    "start_time": "2023-03-07T22:59:15.577Z"
   },
   {
    "duration": 202,
    "start_time": "2023-03-07T23:00:08.293Z"
   },
   {
    "duration": 12,
    "start_time": "2023-03-07T23:00:33.214Z"
   },
   {
    "duration": 7,
    "start_time": "2023-03-07T23:01:12.080Z"
   },
   {
    "duration": 201,
    "start_time": "2023-03-07T23:02:05.420Z"
   },
   {
    "duration": 323,
    "start_time": "2023-03-07T23:02:14.159Z"
   },
   {
    "duration": 4,
    "start_time": "2023-03-07T23:02:35.649Z"
   },
   {
    "duration": 64,
    "start_time": "2023-03-07T23:02:35.656Z"
   },
   {
    "duration": 14,
    "start_time": "2023-03-07T23:02:35.722Z"
   },
   {
    "duration": 44,
    "start_time": "2023-03-07T23:02:35.738Z"
   },
   {
    "duration": 14,
    "start_time": "2023-03-07T23:02:35.785Z"
   },
   {
    "duration": 33,
    "start_time": "2023-03-07T23:02:35.801Z"
   },
   {
    "duration": 7,
    "start_time": "2023-03-07T23:02:35.836Z"
   },
   {
    "duration": 25,
    "start_time": "2023-03-07T23:02:35.845Z"
   },
   {
    "duration": 5,
    "start_time": "2023-03-07T23:02:35.872Z"
   },
   {
    "duration": 7,
    "start_time": "2023-03-07T23:02:35.879Z"
   },
   {
    "duration": 36,
    "start_time": "2023-03-07T23:02:35.888Z"
   },
   {
    "duration": 44,
    "start_time": "2023-03-07T23:02:35.926Z"
   },
   {
    "duration": 83,
    "start_time": "2023-03-07T23:02:35.972Z"
   },
   {
    "duration": 171,
    "start_time": "2023-03-07T23:02:36.058Z"
   },
   {
    "duration": 19,
    "start_time": "2023-03-07T23:02:36.231Z"
   },
   {
    "duration": 327,
    "start_time": "2023-03-07T23:02:36.252Z"
   },
   {
    "duration": 209,
    "start_time": "2023-03-07T23:02:36.580Z"
   },
   {
    "duration": 214,
    "start_time": "2023-03-07T23:02:36.791Z"
   },
   {
    "duration": 219,
    "start_time": "2023-03-07T23:02:37.007Z"
   },
   {
    "duration": 207,
    "start_time": "2023-03-07T23:02:37.228Z"
   },
   {
    "duration": 205,
    "start_time": "2023-03-07T23:02:37.437Z"
   },
   {
    "duration": 203,
    "start_time": "2023-03-07T23:02:37.645Z"
   },
   {
    "duration": 200,
    "start_time": "2023-03-07T23:02:37.851Z"
   },
   {
    "duration": 410,
    "start_time": "2023-03-07T23:02:38.054Z"
   },
   {
    "duration": 210,
    "start_time": "2023-03-07T23:02:38.466Z"
   },
   {
    "duration": 707,
    "start_time": "2023-03-07T23:02:38.677Z"
   },
   {
    "duration": 723,
    "start_time": "2023-03-07T23:02:39.385Z"
   },
   {
    "duration": 822,
    "start_time": "2023-03-07T23:02:40.110Z"
   },
   {
    "duration": 687,
    "start_time": "2023-03-07T23:02:40.934Z"
   },
   {
    "duration": 15,
    "start_time": "2023-03-07T23:02:41.623Z"
   },
   {
    "duration": 217,
    "start_time": "2023-03-07T23:02:41.640Z"
   },
   {
    "duration": 197,
    "start_time": "2023-03-07T23:02:41.859Z"
   },
   {
    "duration": 7,
    "start_time": "2023-03-07T23:02:42.058Z"
   },
   {
    "duration": 212,
    "start_time": "2023-03-07T23:02:42.067Z"
   },
   {
    "duration": 21,
    "start_time": "2023-03-07T23:02:42.292Z"
   },
   {
    "duration": 193,
    "start_time": "2023-03-07T23:02:44.000Z"
   },
   {
    "duration": 6,
    "start_time": "2023-03-07T23:03:05.202Z"
   },
   {
    "duration": 9,
    "start_time": "2023-03-07T23:03:26.147Z"
   },
   {
    "duration": 16,
    "start_time": "2023-03-07T23:03:40.622Z"
   },
   {
    "duration": 15,
    "start_time": "2023-03-07T23:04:01.779Z"
   },
   {
    "duration": 15,
    "start_time": "2023-03-07T23:04:04.661Z"
   },
   {
    "duration": 14,
    "start_time": "2023-03-07T23:05:46.840Z"
   },
   {
    "duration": 11,
    "start_time": "2023-03-07T23:06:07.665Z"
   },
   {
    "duration": 174,
    "start_time": "2023-03-07T23:06:13.871Z"
   },
   {
    "duration": 273,
    "start_time": "2023-03-07T23:07:22.197Z"
   },
   {
    "duration": 80,
    "start_time": "2023-03-07T23:07:37.747Z"
   },
   {
    "duration": 293,
    "start_time": "2023-03-07T23:07:42.756Z"
   },
   {
    "duration": 278,
    "start_time": "2023-03-07T23:07:55.202Z"
   },
   {
    "duration": 262,
    "start_time": "2023-03-07T23:08:57.837Z"
   },
   {
    "duration": 8,
    "start_time": "2023-03-07T23:09:44.758Z"
   },
   {
    "duration": 11,
    "start_time": "2023-03-07T23:10:24.201Z"
   },
   {
    "duration": 76,
    "start_time": "2023-03-07T23:11:02.505Z"
   },
   {
    "duration": 17,
    "start_time": "2023-03-07T23:11:06.155Z"
   },
   {
    "duration": 10,
    "start_time": "2023-03-07T23:11:21.263Z"
   },
   {
    "duration": 309,
    "start_time": "2023-03-07T23:27:49.390Z"
   },
   {
    "duration": 21,
    "start_time": "2023-03-07T23:28:58.792Z"
   },
   {
    "duration": 224,
    "start_time": "2023-03-07T23:29:32.351Z"
   },
   {
    "duration": 10,
    "start_time": "2023-03-07T23:30:24.552Z"
   },
   {
    "duration": 10,
    "start_time": "2023-03-07T23:30:47.708Z"
   },
   {
    "duration": 10,
    "start_time": "2023-03-07T23:30:57.372Z"
   },
   {
    "duration": 1235,
    "start_time": "2023-03-07T23:31:25.883Z"
   },
   {
    "duration": 79,
    "start_time": "2023-03-07T23:31:27.123Z"
   },
   {
    "duration": 16,
    "start_time": "2023-03-07T23:31:27.204Z"
   },
   {
    "duration": 25,
    "start_time": "2023-03-07T23:31:27.222Z"
   },
   {
    "duration": 9,
    "start_time": "2023-03-07T23:31:27.250Z"
   },
   {
    "duration": 20,
    "start_time": "2023-03-07T23:31:27.261Z"
   },
   {
    "duration": 6,
    "start_time": "2023-03-07T23:31:27.282Z"
   },
   {
    "duration": 54,
    "start_time": "2023-03-07T23:31:27.289Z"
   },
   {
    "duration": 8,
    "start_time": "2023-03-07T23:31:27.346Z"
   },
   {
    "duration": 8,
    "start_time": "2023-03-07T23:31:27.356Z"
   },
   {
    "duration": 12,
    "start_time": "2023-03-07T23:31:27.367Z"
   },
   {
    "duration": 58,
    "start_time": "2023-03-07T23:31:27.382Z"
   },
   {
    "duration": 17,
    "start_time": "2023-03-07T23:31:27.442Z"
   },
   {
    "duration": 209,
    "start_time": "2023-03-07T23:31:27.462Z"
   },
   {
    "duration": 19,
    "start_time": "2023-03-07T23:31:27.672Z"
   },
   {
    "duration": 347,
    "start_time": "2023-03-07T23:31:27.693Z"
   },
   {
    "duration": 218,
    "start_time": "2023-03-07T23:31:28.041Z"
   },
   {
    "duration": 213,
    "start_time": "2023-03-07T23:31:28.262Z"
   },
   {
    "duration": 205,
    "start_time": "2023-03-07T23:31:28.477Z"
   },
   {
    "duration": 208,
    "start_time": "2023-03-07T23:31:28.683Z"
   },
   {
    "duration": 199,
    "start_time": "2023-03-07T23:31:28.892Z"
   },
   {
    "duration": 204,
    "start_time": "2023-03-07T23:31:29.093Z"
   },
   {
    "duration": 286,
    "start_time": "2023-03-07T23:31:29.298Z"
   },
   {
    "duration": 346,
    "start_time": "2023-03-07T23:31:29.587Z"
   },
   {
    "duration": 191,
    "start_time": "2023-03-07T23:31:29.935Z"
   },
   {
    "duration": 754,
    "start_time": "2023-03-07T23:31:30.128Z"
   },
   {
    "duration": 682,
    "start_time": "2023-03-07T23:31:30.883Z"
   },
   {
    "duration": 781,
    "start_time": "2023-03-07T23:31:31.567Z"
   },
   {
    "duration": 663,
    "start_time": "2023-03-07T23:31:32.350Z"
   },
   {
    "duration": 22,
    "start_time": "2023-03-07T23:31:33.015Z"
   },
   {
    "duration": 219,
    "start_time": "2023-03-07T23:31:33.039Z"
   },
   {
    "duration": 191,
    "start_time": "2023-03-07T23:31:33.260Z"
   },
   {
    "duration": 39,
    "start_time": "2023-03-07T23:31:33.453Z"
   },
   {
    "duration": 413,
    "start_time": "2023-03-07T23:31:33.493Z"
   },
   {
    "duration": 20,
    "start_time": "2023-03-07T23:31:33.908Z"
   },
   {
    "duration": 212,
    "start_time": "2023-03-07T23:31:33.929Z"
   },
   {
    "duration": 10,
    "start_time": "2023-03-07T23:31:34.143Z"
   },
   {
    "duration": 9,
    "start_time": "2023-03-07T23:31:55.958Z"
   },
   {
    "duration": 6,
    "start_time": "2023-03-07T23:32:20.866Z"
   },
   {
    "duration": 85,
    "start_time": "2023-03-08T14:37:14.111Z"
   },
   {
    "duration": 1999,
    "start_time": "2023-03-08T14:37:23.908Z"
   },
   {
    "duration": 281,
    "start_time": "2023-03-08T14:37:25.911Z"
   },
   {
    "duration": 26,
    "start_time": "2023-03-08T14:37:26.194Z"
   },
   {
    "duration": 52,
    "start_time": "2023-03-08T14:37:26.222Z"
   },
   {
    "duration": 18,
    "start_time": "2023-03-08T14:37:26.277Z"
   },
   {
    "duration": 84,
    "start_time": "2023-03-08T14:37:26.298Z"
   },
   {
    "duration": 10,
    "start_time": "2023-03-08T14:37:26.386Z"
   },
   {
    "duration": 51,
    "start_time": "2023-03-08T14:37:26.400Z"
   },
   {
    "duration": 8,
    "start_time": "2023-03-08T14:37:26.454Z"
   },
   {
    "duration": 8,
    "start_time": "2023-03-08T14:37:26.465Z"
   },
   {
    "duration": 13,
    "start_time": "2023-03-08T14:37:26.476Z"
   },
   {
    "duration": 39,
    "start_time": "2023-03-08T14:37:26.492Z"
   },
   {
    "duration": 32,
    "start_time": "2023-03-08T14:37:26.533Z"
   },
   {
    "duration": 335,
    "start_time": "2023-03-08T14:37:26.570Z"
   },
   {
    "duration": 47,
    "start_time": "2023-03-08T14:37:26.908Z"
   },
   {
    "duration": 426,
    "start_time": "2023-03-08T14:37:26.959Z"
   },
   {
    "duration": 279,
    "start_time": "2023-03-08T14:37:27.387Z"
   },
   {
    "duration": 253,
    "start_time": "2023-03-08T14:37:27.668Z"
   },
   {
    "duration": 295,
    "start_time": "2023-03-08T14:37:27.925Z"
   },
   {
    "duration": 286,
    "start_time": "2023-03-08T14:37:28.222Z"
   },
   {
    "duration": 292,
    "start_time": "2023-03-08T14:37:28.510Z"
   },
   {
    "duration": 365,
    "start_time": "2023-03-08T14:37:28.805Z"
   },
   {
    "duration": 485,
    "start_time": "2023-03-08T14:37:29.174Z"
   },
   {
    "duration": 424,
    "start_time": "2023-03-08T14:37:29.661Z"
   },
   {
    "duration": 277,
    "start_time": "2023-03-08T14:37:30.087Z"
   },
   {
    "duration": 961,
    "start_time": "2023-03-08T14:37:30.370Z"
   },
   {
    "duration": 1045,
    "start_time": "2023-03-08T14:37:31.335Z"
   },
   {
    "duration": 1305,
    "start_time": "2023-03-08T14:37:32.381Z"
   },
   {
    "duration": 1051,
    "start_time": "2023-03-08T14:37:33.688Z"
   },
   {
    "duration": 29,
    "start_time": "2023-03-08T14:37:34.744Z"
   },
   {
    "duration": 328,
    "start_time": "2023-03-08T14:37:34.776Z"
   },
   {
    "duration": 10,
    "start_time": "2023-03-08T14:37:36.583Z"
   },
   {
    "duration": 120,
    "start_time": "2023-03-08T14:37:36.595Z"
   },
   {
    "duration": 35,
    "start_time": "2023-03-08T14:37:36.718Z"
   },
   {
    "duration": 34,
    "start_time": "2023-03-08T14:37:36.759Z"
   },
   {
    "duration": 52,
    "start_time": "2023-03-08T14:37:36.795Z"
   },
   {
    "duration": 32,
    "start_time": "2023-03-08T14:37:36.852Z"
   },
   {
    "duration": 9,
    "start_time": "2023-03-08T14:37:36.886Z"
   },
   {
    "duration": 46,
    "start_time": "2023-03-08T14:37:36.898Z"
   },
   {
    "duration": 12,
    "start_time": "2023-03-08T14:37:36.946Z"
   },
   {
    "duration": 7,
    "start_time": "2023-03-08T14:37:36.959Z"
   },
   {
    "duration": 14,
    "start_time": "2023-03-08T14:37:36.968Z"
   },
   {
    "duration": 67,
    "start_time": "2023-03-08T14:37:36.985Z"
   },
   {
    "duration": 32,
    "start_time": "2023-03-08T14:37:37.056Z"
   },
   {
    "duration": 332,
    "start_time": "2023-03-08T14:37:37.090Z"
   },
   {
    "duration": 47,
    "start_time": "2023-03-08T14:37:37.424Z"
   },
   {
    "duration": 562,
    "start_time": "2023-03-08T14:37:37.474Z"
   },
   {
    "duration": 332,
    "start_time": "2023-03-08T14:37:38.038Z"
   },
   {
    "duration": 316,
    "start_time": "2023-03-08T14:37:38.375Z"
   },
   {
    "duration": 291,
    "start_time": "2023-03-08T14:37:38.693Z"
   },
   {
    "duration": 326,
    "start_time": "2023-03-08T14:37:38.986Z"
   },
   {
    "duration": 352,
    "start_time": "2023-03-08T14:37:39.314Z"
   },
   {
    "duration": 287,
    "start_time": "2023-03-08T14:37:39.669Z"
   },
   {
    "duration": 390,
    "start_time": "2023-03-08T14:37:39.960Z"
   },
   {
    "duration": 420,
    "start_time": "2023-03-08T14:37:40.352Z"
   },
   {
    "duration": 370,
    "start_time": "2023-03-08T14:37:40.776Z"
   },
   {
    "duration": 1168,
    "start_time": "2023-03-08T14:37:41.149Z"
   },
   {
    "duration": 1012,
    "start_time": "2023-03-08T14:37:42.340Z"
   },
   {
    "duration": 1107,
    "start_time": "2023-03-08T14:37:43.356Z"
   },
   {
    "duration": 886,
    "start_time": "2023-03-08T14:37:44.465Z"
   },
   {
    "duration": 23,
    "start_time": "2023-03-08T14:37:45.364Z"
   },
   {
    "duration": 287,
    "start_time": "2023-03-08T14:37:45.390Z"
   },
   {
    "duration": 292,
    "start_time": "2023-03-08T14:37:45.680Z"
   },
   {
    "duration": 9,
    "start_time": "2023-03-08T14:37:45.974Z"
   },
   {
    "duration": 468,
    "start_time": "2023-03-08T14:37:45.986Z"
   },
   {
    "duration": 12,
    "start_time": "2023-03-08T14:37:46.456Z"
   },
   {
    "duration": 412,
    "start_time": "2023-03-08T14:37:46.470Z"
   },
   {
    "duration": 48,
    "start_time": "2023-03-08T14:37:46.893Z"
   },
   {
    "duration": 8,
    "start_time": "2023-03-08T14:37:46.948Z"
   },
   {
    "duration": 238,
    "start_time": "2023-03-08T14:39:14.157Z"
   },
   {
    "duration": 33,
    "start_time": "2023-03-08T14:39:26.741Z"
   },
   {
    "duration": 33,
    "start_time": "2023-03-08T14:39:33.277Z"
   },
   {
    "duration": 27,
    "start_time": "2023-03-08T14:39:37.476Z"
   },
   {
    "duration": 5,
    "start_time": "2023-03-08T14:40:33.561Z"
   },
   {
    "duration": 6,
    "start_time": "2023-03-08T14:42:01.955Z"
   },
   {
    "duration": 14,
    "start_time": "2023-03-08T14:42:07.041Z"
   },
   {
    "duration": 15,
    "start_time": "2023-03-08T14:42:30.642Z"
   },
   {
    "duration": 1383,
    "start_time": "2023-03-08T14:42:53.843Z"
   },
   {
    "duration": 82,
    "start_time": "2023-03-08T14:42:55.230Z"
   },
   {
    "duration": 24,
    "start_time": "2023-03-08T14:42:55.314Z"
   },
   {
    "duration": 36,
    "start_time": "2023-03-08T14:42:55.340Z"
   },
   {
    "duration": 12,
    "start_time": "2023-03-08T14:42:55.378Z"
   },
   {
    "duration": 61,
    "start_time": "2023-03-08T14:42:55.392Z"
   },
   {
    "duration": 7,
    "start_time": "2023-03-08T14:42:55.456Z"
   },
   {
    "duration": 23,
    "start_time": "2023-03-08T14:42:55.466Z"
   },
   {
    "duration": 10,
    "start_time": "2023-03-08T14:42:55.491Z"
   },
   {
    "duration": 7,
    "start_time": "2023-03-08T14:42:55.524Z"
   },
   {
    "duration": 12,
    "start_time": "2023-03-08T14:42:55.532Z"
   },
   {
    "duration": 22,
    "start_time": "2023-03-08T14:42:55.546Z"
   },
   {
    "duration": 56,
    "start_time": "2023-03-08T14:42:55.570Z"
   },
   {
    "duration": 245,
    "start_time": "2023-03-08T14:42:55.630Z"
   },
   {
    "duration": 29,
    "start_time": "2023-03-08T14:42:55.877Z"
   },
   {
    "duration": 423,
    "start_time": "2023-03-08T14:42:55.908Z"
   },
   {
    "duration": 259,
    "start_time": "2023-03-08T14:42:56.339Z"
   },
   {
    "duration": 296,
    "start_time": "2023-03-08T14:42:56.601Z"
   },
   {
    "duration": 287,
    "start_time": "2023-03-08T14:42:56.899Z"
   },
   {
    "duration": 256,
    "start_time": "2023-03-08T14:42:57.188Z"
   },
   {
    "duration": 252,
    "start_time": "2023-03-08T14:42:57.446Z"
   },
   {
    "duration": 253,
    "start_time": "2023-03-08T14:42:57.701Z"
   },
   {
    "duration": 350,
    "start_time": "2023-03-08T14:42:57.956Z"
   },
   {
    "duration": 365,
    "start_time": "2023-03-08T14:42:58.308Z"
   },
   {
    "duration": 252,
    "start_time": "2023-03-08T14:42:58.675Z"
   },
   {
    "duration": 975,
    "start_time": "2023-03-08T14:42:58.930Z"
   },
   {
    "duration": 860,
    "start_time": "2023-03-08T14:42:59.908Z"
   },
   {
    "duration": 986,
    "start_time": "2023-03-08T14:43:00.771Z"
   },
   {
    "duration": 858,
    "start_time": "2023-03-08T14:43:01.760Z"
   },
   {
    "duration": 28,
    "start_time": "2023-03-08T14:43:02.620Z"
   },
   {
    "duration": 265,
    "start_time": "2023-03-08T14:43:02.650Z"
   },
   {
    "duration": 241,
    "start_time": "2023-03-08T14:43:02.917Z"
   },
   {
    "duration": 56,
    "start_time": "2023-03-08T14:43:03.162Z"
   },
   {
    "duration": 482,
    "start_time": "2023-03-08T14:43:03.226Z"
   },
   {
    "duration": 15,
    "start_time": "2023-03-08T14:43:03.711Z"
   },
   {
    "duration": 301,
    "start_time": "2023-03-08T14:43:03.728Z"
   },
   {
    "duration": 8,
    "start_time": "2023-03-08T14:43:04.032Z"
   },
   {
    "duration": 191,
    "start_time": "2023-03-08T14:43:04.043Z"
   },
   {
    "duration": 18,
    "start_time": "2023-03-08T14:43:08.358Z"
   },
   {
    "duration": 28,
    "start_time": "2023-03-08T14:43:18.757Z"
   },
   {
    "duration": 18,
    "start_time": "2023-03-08T14:44:24.403Z"
   },
   {
    "duration": 17,
    "start_time": "2023-03-08T14:44:33.746Z"
   },
   {
    "duration": 19,
    "start_time": "2023-03-08T14:45:26.393Z"
   },
   {
    "duration": 19,
    "start_time": "2023-03-08T15:04:42.619Z"
   },
   {
    "duration": 31,
    "start_time": "2023-03-08T15:13:31.076Z"
   },
   {
    "duration": 20,
    "start_time": "2023-03-08T15:13:56.005Z"
   },
   {
    "duration": 11,
    "start_time": "2023-03-08T15:14:41.438Z"
   },
   {
    "duration": 17,
    "start_time": "2023-03-08T15:15:20.698Z"
   },
   {
    "duration": 14,
    "start_time": "2023-03-08T15:15:31.104Z"
   },
   {
    "duration": 13,
    "start_time": "2023-03-08T15:15:39.979Z"
   },
   {
    "duration": 165,
    "start_time": "2023-03-08T15:16:24.278Z"
   },
   {
    "duration": 174,
    "start_time": "2023-03-08T15:16:31.482Z"
   },
   {
    "duration": 733,
    "start_time": "2023-03-08T15:18:00.786Z"
   },
   {
    "duration": 14,
    "start_time": "2023-03-08T15:18:23.732Z"
   },
   {
    "duration": 18,
    "start_time": "2023-03-08T15:18:28.880Z"
   },
   {
    "duration": 25,
    "start_time": "2023-03-08T15:22:49.749Z"
   },
   {
    "duration": 1341,
    "start_time": "2023-03-08T15:23:27.823Z"
   },
   {
    "duration": 99,
    "start_time": "2023-03-08T15:23:29.166Z"
   },
   {
    "duration": 16,
    "start_time": "2023-03-08T15:23:29.266Z"
   },
   {
    "duration": 39,
    "start_time": "2023-03-08T15:23:29.285Z"
   },
   {
    "duration": 11,
    "start_time": "2023-03-08T15:23:29.326Z"
   },
   {
    "duration": 29,
    "start_time": "2023-03-08T15:23:29.339Z"
   },
   {
    "duration": 7,
    "start_time": "2023-03-08T15:23:29.370Z"
   },
   {
    "duration": 50,
    "start_time": "2023-03-08T15:23:29.379Z"
   },
   {
    "duration": 6,
    "start_time": "2023-03-08T15:23:29.431Z"
   },
   {
    "duration": 7,
    "start_time": "2023-03-08T15:23:29.440Z"
   },
   {
    "duration": 14,
    "start_time": "2023-03-08T15:23:29.449Z"
   },
   {
    "duration": 14,
    "start_time": "2023-03-08T15:23:29.465Z"
   },
   {
    "duration": 57,
    "start_time": "2023-03-08T15:23:29.481Z"
   },
   {
    "duration": 193,
    "start_time": "2023-03-08T15:23:29.540Z"
   },
   {
    "duration": 21,
    "start_time": "2023-03-08T15:23:29.736Z"
   },
   {
    "duration": 340,
    "start_time": "2023-03-08T15:23:29.759Z"
   },
   {
    "duration": 230,
    "start_time": "2023-03-08T15:23:30.101Z"
   },
   {
    "duration": 243,
    "start_time": "2023-03-08T15:23:30.333Z"
   },
   {
    "duration": 220,
    "start_time": "2023-03-08T15:23:30.578Z"
   },
   {
    "duration": 233,
    "start_time": "2023-03-08T15:23:30.801Z"
   },
   {
    "duration": 241,
    "start_time": "2023-03-08T15:23:31.036Z"
   },
   {
    "duration": 251,
    "start_time": "2023-03-08T15:23:31.279Z"
   },
   {
    "duration": 301,
    "start_time": "2023-03-08T15:23:31.533Z"
   },
   {
    "duration": 333,
    "start_time": "2023-03-08T15:23:31.836Z"
   },
   {
    "duration": 216,
    "start_time": "2023-03-08T15:23:32.171Z"
   },
   {
    "duration": 718,
    "start_time": "2023-03-08T15:23:32.389Z"
   },
   {
    "duration": 701,
    "start_time": "2023-03-08T15:23:33.109Z"
   },
   {
    "duration": 893,
    "start_time": "2023-03-08T15:23:33.823Z"
   },
   {
    "duration": 765,
    "start_time": "2023-03-08T15:23:34.723Z"
   },
   {
    "duration": 43,
    "start_time": "2023-03-08T15:23:35.490Z"
   },
   {
    "duration": 354,
    "start_time": "2023-03-08T15:23:35.536Z"
   },
   {
    "duration": 304,
    "start_time": "2023-03-08T15:23:35.893Z"
   },
   {
    "duration": 75,
    "start_time": "2023-03-08T15:23:36.200Z"
   },
   {
    "duration": 635,
    "start_time": "2023-03-08T15:23:36.280Z"
   },
   {
    "duration": 16,
    "start_time": "2023-03-08T15:23:36.923Z"
   },
   {
    "duration": 335,
    "start_time": "2023-03-08T15:23:36.942Z"
   },
   {
    "duration": 9,
    "start_time": "2023-03-08T15:23:37.279Z"
   },
   {
    "duration": 46,
    "start_time": "2023-03-08T15:23:37.290Z"
   },
   {
    "duration": 10,
    "start_time": "2023-03-08T15:23:37.338Z"
   },
   {
    "duration": 208,
    "start_time": "2023-03-08T15:23:37.351Z"
   },
   {
    "duration": 24,
    "start_time": "2023-03-08T15:59:56.423Z"
   },
   {
    "duration": 8,
    "start_time": "2023-03-08T16:01:20.659Z"
   },
   {
    "duration": 20,
    "start_time": "2023-03-08T16:01:29.366Z"
   },
   {
    "duration": 23,
    "start_time": "2023-03-08T16:02:22.299Z"
   },
   {
    "duration": 17,
    "start_time": "2023-03-08T16:07:01.544Z"
   },
   {
    "duration": 14,
    "start_time": "2023-03-08T16:09:44.344Z"
   },
   {
    "duration": 21,
    "start_time": "2023-03-08T16:11:56.719Z"
   },
   {
    "duration": 15,
    "start_time": "2023-03-08T16:12:00.732Z"
   },
   {
    "duration": 1223,
    "start_time": "2023-03-08T16:12:15.280Z"
   },
   {
    "duration": 75,
    "start_time": "2023-03-08T16:12:16.505Z"
   },
   {
    "duration": 20,
    "start_time": "2023-03-08T16:12:16.583Z"
   },
   {
    "duration": 36,
    "start_time": "2023-03-08T16:12:16.606Z"
   },
   {
    "duration": 11,
    "start_time": "2023-03-08T16:12:16.644Z"
   },
   {
    "duration": 27,
    "start_time": "2023-03-08T16:12:16.660Z"
   },
   {
    "duration": 37,
    "start_time": "2023-03-08T16:12:16.689Z"
   },
   {
    "duration": 22,
    "start_time": "2023-03-08T16:12:16.729Z"
   },
   {
    "duration": 7,
    "start_time": "2023-03-08T16:12:16.753Z"
   },
   {
    "duration": 7,
    "start_time": "2023-03-08T16:12:16.764Z"
   },
   {
    "duration": 10,
    "start_time": "2023-03-08T16:12:16.774Z"
   },
   {
    "duration": 59,
    "start_time": "2023-03-08T16:12:16.786Z"
   },
   {
    "duration": 24,
    "start_time": "2023-03-08T16:12:16.847Z"
   },
   {
    "duration": 221,
    "start_time": "2023-03-08T16:12:16.873Z"
   },
   {
    "duration": 35,
    "start_time": "2023-03-08T16:12:17.096Z"
   },
   {
    "duration": 342,
    "start_time": "2023-03-08T16:12:17.133Z"
   },
   {
    "duration": 219,
    "start_time": "2023-03-08T16:12:17.477Z"
   },
   {
    "duration": 239,
    "start_time": "2023-03-08T16:12:17.698Z"
   },
   {
    "duration": 217,
    "start_time": "2023-03-08T16:12:17.940Z"
   },
   {
    "duration": 229,
    "start_time": "2023-03-08T16:12:18.159Z"
   },
   {
    "duration": 203,
    "start_time": "2023-03-08T16:12:18.390Z"
   },
   {
    "duration": 204,
    "start_time": "2023-03-08T16:12:18.596Z"
   },
   {
    "duration": 385,
    "start_time": "2023-03-08T16:12:18.802Z"
   },
   {
    "duration": 376,
    "start_time": "2023-03-08T16:12:19.189Z"
   },
   {
    "duration": 275,
    "start_time": "2023-03-08T16:12:19.567Z"
   },
   {
    "duration": 806,
    "start_time": "2023-03-08T16:12:19.844Z"
   },
   {
    "duration": 751,
    "start_time": "2023-03-08T16:12:20.652Z"
   },
   {
    "duration": 852,
    "start_time": "2023-03-08T16:12:21.408Z"
   },
   {
    "duration": 718,
    "start_time": "2023-03-08T16:12:22.262Z"
   },
   {
    "duration": 19,
    "start_time": "2023-03-08T16:12:22.982Z"
   },
   {
    "duration": 259,
    "start_time": "2023-03-08T16:12:23.003Z"
   },
   {
    "duration": 222,
    "start_time": "2023-03-08T16:12:23.264Z"
   },
   {
    "duration": 58,
    "start_time": "2023-03-08T16:12:23.488Z"
   },
   {
    "duration": 427,
    "start_time": "2023-03-08T16:12:23.548Z"
   },
   {
    "duration": 14,
    "start_time": "2023-03-08T16:12:23.977Z"
   },
   {
    "duration": 262,
    "start_time": "2023-03-08T16:12:23.994Z"
   },
   {
    "duration": 7,
    "start_time": "2023-03-08T16:12:24.258Z"
   },
   {
    "duration": 17,
    "start_time": "2023-03-08T16:12:24.268Z"
   },
   {
    "duration": 46,
    "start_time": "2023-03-08T16:12:24.288Z"
   },
   {
    "duration": 123,
    "start_time": "2023-03-08T16:12:24.337Z"
   },
   {
    "duration": 21,
    "start_time": "2023-03-08T16:12:42.510Z"
   },
   {
    "duration": 8,
    "start_time": "2023-03-08T16:16:49.917Z"
   },
   {
    "duration": 7,
    "start_time": "2023-03-08T16:19:38.165Z"
   },
   {
    "duration": 8,
    "start_time": "2023-03-08T16:21:12.367Z"
   },
   {
    "duration": 8,
    "start_time": "2023-03-08T16:21:17.927Z"
   },
   {
    "duration": 11,
    "start_time": "2023-03-08T16:21:21.974Z"
   },
   {
    "duration": 20,
    "start_time": "2023-03-08T16:47:30.482Z"
   },
   {
    "duration": 8,
    "start_time": "2023-03-08T16:51:06.532Z"
   },
   {
    "duration": 8,
    "start_time": "2023-03-08T16:52:09.851Z"
   },
   {
    "duration": 9,
    "start_time": "2023-03-08T16:52:13.665Z"
   },
   {
    "duration": 10,
    "start_time": "2023-03-08T17:04:40.706Z"
   },
   {
    "duration": 10,
    "start_time": "2023-03-08T17:04:55.696Z"
   },
   {
    "duration": 1117,
    "start_time": "2023-03-08T18:22:24.812Z"
   },
   {
    "duration": 200,
    "start_time": "2023-03-08T18:22:25.931Z"
   },
   {
    "duration": 12,
    "start_time": "2023-03-08T18:22:26.133Z"
   },
   {
    "duration": 19,
    "start_time": "2023-03-08T18:22:26.146Z"
   },
   {
    "duration": 8,
    "start_time": "2023-03-08T18:22:26.167Z"
   },
   {
    "duration": 17,
    "start_time": "2023-03-08T18:22:26.176Z"
   },
   {
    "duration": 5,
    "start_time": "2023-03-08T18:22:26.194Z"
   },
   {
    "duration": 15,
    "start_time": "2023-03-08T18:22:26.200Z"
   },
   {
    "duration": 4,
    "start_time": "2023-03-08T18:22:26.216Z"
   },
   {
    "duration": 34,
    "start_time": "2023-03-08T18:22:26.222Z"
   },
   {
    "duration": 7,
    "start_time": "2023-03-08T18:22:26.257Z"
   },
   {
    "duration": 12,
    "start_time": "2023-03-08T18:22:26.265Z"
   },
   {
    "duration": 15,
    "start_time": "2023-03-08T18:22:26.278Z"
   },
   {
    "duration": 175,
    "start_time": "2023-03-08T18:22:26.296Z"
   },
   {
    "duration": 17,
    "start_time": "2023-03-08T18:22:26.473Z"
   },
   {
    "duration": 335,
    "start_time": "2023-03-08T18:22:26.491Z"
   },
   {
    "duration": 181,
    "start_time": "2023-03-08T18:22:26.828Z"
   },
   {
    "duration": 175,
    "start_time": "2023-03-08T18:22:27.011Z"
   },
   {
    "duration": 176,
    "start_time": "2023-03-08T18:22:27.187Z"
   },
   {
    "duration": 177,
    "start_time": "2023-03-08T18:22:27.365Z"
   },
   {
    "duration": 172,
    "start_time": "2023-03-08T18:22:27.544Z"
   },
   {
    "duration": 177,
    "start_time": "2023-03-08T18:22:27.717Z"
   },
   {
    "duration": 227,
    "start_time": "2023-03-08T18:22:27.896Z"
   },
   {
    "duration": 255,
    "start_time": "2023-03-08T18:22:28.124Z"
   },
   {
    "duration": 184,
    "start_time": "2023-03-08T18:22:28.381Z"
   },
   {
    "duration": 635,
    "start_time": "2023-03-08T18:22:28.567Z"
   },
   {
    "duration": 597,
    "start_time": "2023-03-08T18:22:29.203Z"
   },
   {
    "duration": 664,
    "start_time": "2023-03-08T18:22:29.801Z"
   },
   {
    "duration": 613,
    "start_time": "2023-03-08T18:22:30.467Z"
   },
   {
    "duration": 15,
    "start_time": "2023-03-08T18:22:31.081Z"
   },
   {
    "duration": 204,
    "start_time": "2023-03-08T18:22:31.098Z"
   },
   {
    "duration": 174,
    "start_time": "2023-03-08T18:22:31.304Z"
   },
   {
    "duration": 39,
    "start_time": "2023-03-08T18:22:31.480Z"
   },
   {
    "duration": 325,
    "start_time": "2023-03-08T18:22:31.521Z"
   },
   {
    "duration": 11,
    "start_time": "2023-03-08T18:22:31.847Z"
   },
   {
    "duration": 183,
    "start_time": "2023-03-08T18:22:31.860Z"
   },
   {
    "duration": 5,
    "start_time": "2023-03-08T18:22:32.045Z"
   },
   {
    "duration": 14,
    "start_time": "2023-03-08T18:22:32.055Z"
   },
   {
    "duration": 6,
    "start_time": "2023-03-08T18:22:32.071Z"
   },
   {
    "duration": 22,
    "start_time": "2023-03-08T18:22:32.078Z"
   },
   {
    "duration": 7,
    "start_time": "2023-03-08T18:22:32.104Z"
   },
   {
    "duration": 1431,
    "start_time": "2023-03-09T15:38:45.907Z"
   },
   {
    "duration": 132,
    "start_time": "2023-03-09T15:42:19.830Z"
   },
   {
    "duration": 14,
    "start_time": "2023-03-09T15:42:26.620Z"
   },
   {
    "duration": 10,
    "start_time": "2023-03-09T15:42:48.750Z"
   },
   {
    "duration": 1160,
    "start_time": "2023-03-09T15:43:02.077Z"
   },
   {
    "duration": 515,
    "start_time": "2023-03-09T15:43:03.239Z"
   },
   {
    "duration": 14,
    "start_time": "2023-03-09T15:43:03.756Z"
   },
   {
    "duration": 21,
    "start_time": "2023-03-09T15:43:03.772Z"
   },
   {
    "duration": 11,
    "start_time": "2023-03-09T15:43:03.795Z"
   },
   {
    "duration": 25,
    "start_time": "2023-03-09T15:43:03.824Z"
   },
   {
    "duration": 19,
    "start_time": "2023-03-09T15:43:03.851Z"
   },
   {
    "duration": 19,
    "start_time": "2023-03-09T15:43:03.872Z"
   },
   {
    "duration": 20,
    "start_time": "2023-03-09T15:43:03.893Z"
   },
   {
    "duration": 9,
    "start_time": "2023-03-09T15:43:03.923Z"
   },
   {
    "duration": 24,
    "start_time": "2023-03-09T15:43:03.936Z"
   },
   {
    "duration": 9,
    "start_time": "2023-03-09T15:43:03.961Z"
   },
   {
    "duration": 15,
    "start_time": "2023-03-09T15:43:03.972Z"
   },
   {
    "duration": 19,
    "start_time": "2023-03-09T15:43:03.989Z"
   },
   {
    "duration": 202,
    "start_time": "2023-03-09T15:43:04.010Z"
   },
   {
    "duration": 28,
    "start_time": "2023-03-09T15:43:04.214Z"
   },
   {
    "duration": 336,
    "start_time": "2023-03-09T15:43:04.247Z"
   },
   {
    "duration": 200,
    "start_time": "2023-03-09T15:43:04.585Z"
   },
   {
    "duration": 227,
    "start_time": "2023-03-09T15:43:04.786Z"
   },
   {
    "duration": 198,
    "start_time": "2023-03-09T15:43:05.015Z"
   },
   {
    "duration": 201,
    "start_time": "2023-03-09T15:43:05.214Z"
   },
   {
    "duration": 216,
    "start_time": "2023-03-09T15:43:05.421Z"
   },
   {
    "duration": 191,
    "start_time": "2023-03-09T15:43:05.639Z"
   },
   {
    "duration": 281,
    "start_time": "2023-03-09T15:43:05.833Z"
   },
   {
    "duration": 323,
    "start_time": "2023-03-09T15:43:06.116Z"
   },
   {
    "duration": 187,
    "start_time": "2023-03-09T15:43:06.441Z"
   },
   {
    "duration": 681,
    "start_time": "2023-03-09T15:43:06.630Z"
   },
   {
    "duration": 675,
    "start_time": "2023-03-09T15:43:07.314Z"
   },
   {
    "duration": 752,
    "start_time": "2023-03-09T15:43:07.991Z"
   },
   {
    "duration": 663,
    "start_time": "2023-03-09T15:43:08.745Z"
   },
   {
    "duration": 22,
    "start_time": "2023-03-09T15:43:09.409Z"
   },
   {
    "duration": 247,
    "start_time": "2023-03-09T15:43:09.432Z"
   },
   {
    "duration": 217,
    "start_time": "2023-03-09T15:43:09.680Z"
   },
   {
    "duration": 58,
    "start_time": "2023-03-09T15:43:09.899Z"
   },
   {
    "duration": 419,
    "start_time": "2023-03-09T15:43:09.958Z"
   },
   {
    "duration": 11,
    "start_time": "2023-03-09T15:43:10.379Z"
   },
   {
    "duration": 252,
    "start_time": "2023-03-09T15:43:10.393Z"
   },
   {
    "duration": 6,
    "start_time": "2023-03-09T15:43:10.646Z"
   },
   {
    "duration": 15,
    "start_time": "2023-03-09T15:43:10.654Z"
   },
   {
    "duration": 6,
    "start_time": "2023-03-09T15:43:10.671Z"
   },
   {
    "duration": 12,
    "start_time": "2023-03-09T15:43:10.679Z"
   },
   {
    "duration": 10,
    "start_time": "2023-03-09T15:43:10.721Z"
   },
   {
    "duration": 116,
    "start_time": "2023-03-09T15:43:18.246Z"
   },
   {
    "duration": 5,
    "start_time": "2023-03-09T15:43:24.537Z"
   },
   {
    "duration": 9,
    "start_time": "2023-03-09T15:46:34.049Z"
   },
   {
    "duration": 4,
    "start_time": "2023-03-09T15:46:37.146Z"
   },
   {
    "duration": 9,
    "start_time": "2023-03-09T15:46:52.194Z"
   },
   {
    "duration": 4,
    "start_time": "2023-03-09T15:46:57.045Z"
   },
   {
    "duration": 85,
    "start_time": "2023-03-09T15:46:57.051Z"
   },
   {
    "duration": 18,
    "start_time": "2023-03-09T15:46:57.140Z"
   },
   {
    "duration": 26,
    "start_time": "2023-03-09T15:46:57.160Z"
   },
   {
    "duration": 11,
    "start_time": "2023-03-09T15:46:57.189Z"
   },
   {
    "duration": 8,
    "start_time": "2023-03-09T15:46:57.202Z"
   },
   {
    "duration": 29,
    "start_time": "2023-03-09T15:46:57.224Z"
   },
   {
    "duration": 3,
    "start_time": "2023-03-09T15:46:57.255Z"
   },
   {
    "duration": 6,
    "start_time": "2023-03-09T15:46:57.259Z"
   },
   {
    "duration": 15,
    "start_time": "2023-03-09T15:46:57.267Z"
   },
   {
    "duration": 5,
    "start_time": "2023-03-09T15:46:57.285Z"
   },
   {
    "duration": 33,
    "start_time": "2023-03-09T15:46:57.291Z"
   },
   {
    "duration": 10,
    "start_time": "2023-03-09T15:46:57.336Z"
   },
   {
    "duration": 18,
    "start_time": "2023-03-09T15:46:57.348Z"
   },
   {
    "duration": 16,
    "start_time": "2023-03-09T15:46:57.368Z"
   },
   {
    "duration": 180,
    "start_time": "2023-03-09T15:46:57.385Z"
   },
   {
    "duration": 18,
    "start_time": "2023-03-09T15:46:57.567Z"
   },
   {
    "duration": 320,
    "start_time": "2023-03-09T15:46:57.587Z"
   },
   {
    "duration": 200,
    "start_time": "2023-03-09T15:46:57.909Z"
   },
   {
    "duration": 205,
    "start_time": "2023-03-09T15:46:58.111Z"
   },
   {
    "duration": 219,
    "start_time": "2023-03-09T15:46:58.318Z"
   },
   {
    "duration": 198,
    "start_time": "2023-03-09T15:46:58.539Z"
   },
   {
    "duration": 184,
    "start_time": "2023-03-09T15:46:58.739Z"
   },
   {
    "duration": 205,
    "start_time": "2023-03-09T15:46:58.931Z"
   },
   {
    "duration": 268,
    "start_time": "2023-03-09T15:46:59.138Z"
   },
   {
    "duration": 292,
    "start_time": "2023-03-09T15:46:59.408Z"
   },
   {
    "duration": 204,
    "start_time": "2023-03-09T15:46:59.702Z"
   },
   {
    "duration": 748,
    "start_time": "2023-03-09T15:46:59.908Z"
   },
   {
    "duration": 689,
    "start_time": "2023-03-09T15:47:00.661Z"
   },
   {
    "duration": 786,
    "start_time": "2023-03-09T15:47:01.352Z"
   },
   {
    "duration": 710,
    "start_time": "2023-03-09T15:47:02.140Z"
   },
   {
    "duration": 17,
    "start_time": "2023-03-09T15:47:02.852Z"
   },
   {
    "duration": 224,
    "start_time": "2023-03-09T15:47:02.871Z"
   },
   {
    "duration": 196,
    "start_time": "2023-03-09T15:47:03.097Z"
   },
   {
    "duration": 6,
    "start_time": "2023-03-09T15:47:03.294Z"
   },
   {
    "duration": 281,
    "start_time": "2023-03-09T15:47:03.302Z"
   },
   {
    "duration": 11,
    "start_time": "2023-03-09T15:47:03.584Z"
   },
   {
    "duration": 313,
    "start_time": "2023-03-09T15:47:03.597Z"
   },
   {
    "duration": 7,
    "start_time": "2023-03-09T15:47:03.911Z"
   },
   {
    "duration": 21,
    "start_time": "2023-03-09T15:47:03.921Z"
   },
   {
    "duration": 10,
    "start_time": "2023-03-09T15:47:03.944Z"
   },
   {
    "duration": 15,
    "start_time": "2023-03-09T15:47:03.956Z"
   },
   {
    "duration": 9,
    "start_time": "2023-03-09T15:47:03.973Z"
   },
   {
    "duration": 6,
    "start_time": "2023-03-09T15:48:39.635Z"
   },
   {
    "duration": 4,
    "start_time": "2023-03-09T15:49:33.606Z"
   },
   {
    "duration": 11,
    "start_time": "2023-03-09T15:50:17.035Z"
   },
   {
    "duration": 4,
    "start_time": "2023-03-09T15:50:24.210Z"
   },
   {
    "duration": 6,
    "start_time": "2023-03-09T15:50:39.377Z"
   },
   {
    "duration": 6,
    "start_time": "2023-03-09T15:50:49.012Z"
   },
   {
    "duration": 3,
    "start_time": "2023-03-09T15:51:38.340Z"
   },
   {
    "duration": 69,
    "start_time": "2023-03-09T15:51:38.347Z"
   },
   {
    "duration": 20,
    "start_time": "2023-03-09T15:51:38.418Z"
   },
   {
    "duration": 21,
    "start_time": "2023-03-09T15:51:38.440Z"
   },
   {
    "duration": 15,
    "start_time": "2023-03-09T15:51:38.463Z"
   },
   {
    "duration": 3,
    "start_time": "2023-03-09T15:51:38.480Z"
   },
   {
    "duration": 56,
    "start_time": "2023-03-09T15:51:38.485Z"
   },
   {
    "duration": 3,
    "start_time": "2023-03-09T15:51:38.543Z"
   },
   {
    "duration": 24,
    "start_time": "2023-03-09T15:51:38.548Z"
   },
   {
    "duration": 23,
    "start_time": "2023-03-09T15:51:38.574Z"
   },
   {
    "duration": 5,
    "start_time": "2023-03-09T15:51:38.598Z"
   },
   {
    "duration": 13,
    "start_time": "2023-03-09T15:51:38.605Z"
   },
   {
    "duration": 26,
    "start_time": "2023-03-09T15:51:38.621Z"
   },
   {
    "duration": 14,
    "start_time": "2023-03-09T15:51:38.649Z"
   },
   {
    "duration": 16,
    "start_time": "2023-03-09T15:51:38.666Z"
   },
   {
    "duration": 163,
    "start_time": "2023-03-09T15:51:38.684Z"
   },
   {
    "duration": 22,
    "start_time": "2023-03-09T15:51:38.849Z"
   },
   {
    "duration": 314,
    "start_time": "2023-03-09T15:51:38.873Z"
   },
   {
    "duration": 200,
    "start_time": "2023-03-09T15:51:39.189Z"
   },
   {
    "duration": 224,
    "start_time": "2023-03-09T15:51:39.390Z"
   },
   {
    "duration": 214,
    "start_time": "2023-03-09T15:51:39.622Z"
   },
   {
    "duration": 198,
    "start_time": "2023-03-09T15:51:39.844Z"
   },
   {
    "duration": 202,
    "start_time": "2023-03-09T15:51:40.044Z"
   },
   {
    "duration": 236,
    "start_time": "2023-03-09T15:51:40.247Z"
   },
   {
    "duration": 208,
    "start_time": "2023-03-09T15:51:40.485Z"
   },
   {
    "duration": 363,
    "start_time": "2023-03-09T15:51:40.694Z"
   },
   {
    "duration": 195,
    "start_time": "2023-03-09T15:51:41.059Z"
   },
   {
    "duration": 684,
    "start_time": "2023-03-09T15:51:41.256Z"
   },
   {
    "duration": 664,
    "start_time": "2023-03-09T15:51:41.941Z"
   },
   {
    "duration": 791,
    "start_time": "2023-03-09T15:51:42.607Z"
   },
   {
    "duration": 694,
    "start_time": "2023-03-09T15:51:43.399Z"
   },
   {
    "duration": 27,
    "start_time": "2023-03-09T15:51:44.095Z"
   },
   {
    "duration": 212,
    "start_time": "2023-03-09T15:51:44.129Z"
   },
   {
    "duration": 198,
    "start_time": "2023-03-09T15:51:44.343Z"
   },
   {
    "duration": 6,
    "start_time": "2023-03-09T15:51:44.542Z"
   },
   {
    "duration": 312,
    "start_time": "2023-03-09T15:51:44.550Z"
   },
   {
    "duration": 11,
    "start_time": "2023-03-09T15:51:44.863Z"
   },
   {
    "duration": 209,
    "start_time": "2023-03-09T15:51:44.876Z"
   },
   {
    "duration": 7,
    "start_time": "2023-03-09T15:51:45.087Z"
   },
   {
    "duration": 30,
    "start_time": "2023-03-09T15:51:45.095Z"
   },
   {
    "duration": 11,
    "start_time": "2023-03-09T15:51:45.127Z"
   },
   {
    "duration": 14,
    "start_time": "2023-03-09T15:51:45.141Z"
   },
   {
    "duration": 8,
    "start_time": "2023-03-09T15:51:45.156Z"
   },
   {
    "duration": 9,
    "start_time": "2023-03-09T16:03:04.702Z"
   },
   {
    "duration": 11,
    "start_time": "2023-03-09T16:03:29.140Z"
   },
   {
    "duration": 11,
    "start_time": "2023-03-09T16:03:38.509Z"
   },
   {
    "duration": 10,
    "start_time": "2023-03-09T16:03:43.157Z"
   },
   {
    "duration": 10,
    "start_time": "2023-03-09T16:04:27.384Z"
   },
   {
    "duration": 9,
    "start_time": "2023-03-09T16:04:54.908Z"
   },
   {
    "duration": 9,
    "start_time": "2023-03-09T16:05:10.746Z"
   },
   {
    "duration": 1327,
    "start_time": "2023-03-09T16:05:38.775Z"
   },
   {
    "duration": 919,
    "start_time": "2023-03-09T16:06:06.586Z"
   },
   {
    "duration": 5,
    "start_time": "2023-03-09T16:06:16.599Z"
   },
   {
    "duration": 14,
    "start_time": "2023-03-09T16:12:48.585Z"
   },
   {
    "duration": 10,
    "start_time": "2023-03-09T16:12:56.895Z"
   },
   {
    "duration": 10,
    "start_time": "2023-03-09T16:13:14.878Z"
   },
   {
    "duration": 9,
    "start_time": "2023-03-09T16:13:21.279Z"
   },
   {
    "duration": 18,
    "start_time": "2023-03-09T16:14:55.813Z"
   },
   {
    "duration": 10,
    "start_time": "2023-03-09T16:15:14.647Z"
   },
   {
    "duration": 8,
    "start_time": "2023-03-09T16:16:55.090Z"
   },
   {
    "duration": 15,
    "start_time": "2023-03-09T16:17:07.494Z"
   },
   {
    "duration": 14,
    "start_time": "2023-03-09T16:17:11.910Z"
   },
   {
    "duration": 25,
    "start_time": "2023-03-09T17:15:00.573Z"
   },
   {
    "duration": 280,
    "start_time": "2023-03-09T17:15:21.170Z"
   },
   {
    "duration": 1162,
    "start_time": "2023-03-09T17:16:31.739Z"
   },
   {
    "duration": 66,
    "start_time": "2023-03-09T17:16:32.903Z"
   },
   {
    "duration": 14,
    "start_time": "2023-03-09T17:16:32.971Z"
   },
   {
    "duration": 34,
    "start_time": "2023-03-09T17:16:32.987Z"
   },
   {
    "duration": 15,
    "start_time": "2023-03-09T17:16:33.023Z"
   },
   {
    "duration": 5,
    "start_time": "2023-03-09T17:16:33.040Z"
   },
   {
    "duration": 30,
    "start_time": "2023-03-09T17:16:33.047Z"
   },
   {
    "duration": 3,
    "start_time": "2023-03-09T17:16:33.079Z"
   },
   {
    "duration": 15,
    "start_time": "2023-03-09T17:16:33.084Z"
   },
   {
    "duration": 26,
    "start_time": "2023-03-09T17:16:33.101Z"
   },
   {
    "duration": 17,
    "start_time": "2023-03-09T17:16:33.129Z"
   },
   {
    "duration": 11,
    "start_time": "2023-03-09T17:16:33.148Z"
   },
   {
    "duration": 8,
    "start_time": "2023-03-09T17:16:33.162Z"
   },
   {
    "duration": 30,
    "start_time": "2023-03-09T17:16:33.172Z"
   },
   {
    "duration": 16,
    "start_time": "2023-03-09T17:16:33.204Z"
   },
   {
    "duration": 17,
    "start_time": "2023-03-09T17:16:33.222Z"
   },
   {
    "duration": 194,
    "start_time": "2023-03-09T17:16:33.241Z"
   },
   {
    "duration": 200,
    "start_time": "2023-03-09T17:16:33.437Z"
   },
   {
    "duration": 19,
    "start_time": "2023-03-09T17:16:33.639Z"
   },
   {
    "duration": 320,
    "start_time": "2023-03-09T17:16:33.659Z"
   },
   {
    "duration": 213,
    "start_time": "2023-03-09T17:16:33.981Z"
   },
   {
    "duration": 235,
    "start_time": "2023-03-09T17:16:34.196Z"
   },
   {
    "duration": 199,
    "start_time": "2023-03-09T17:16:34.433Z"
   },
   {
    "duration": 203,
    "start_time": "2023-03-09T17:16:34.633Z"
   },
   {
    "duration": 206,
    "start_time": "2023-03-09T17:16:34.838Z"
   },
   {
    "duration": 283,
    "start_time": "2023-03-09T17:16:35.046Z"
   },
   {
    "duration": 195,
    "start_time": "2023-03-09T17:16:35.331Z"
   },
   {
    "duration": 297,
    "start_time": "2023-03-09T17:16:35.529Z"
   },
   {
    "duration": 230,
    "start_time": "2023-03-09T17:16:35.829Z"
   },
   {
    "duration": 737,
    "start_time": "2023-03-09T17:16:36.062Z"
   },
   {
    "duration": 758,
    "start_time": "2023-03-09T17:16:36.800Z"
   },
   {
    "duration": 673,
    "start_time": "2023-03-09T17:16:37.560Z"
   },
   {
    "duration": 707,
    "start_time": "2023-03-09T17:16:38.235Z"
   },
   {
    "duration": 17,
    "start_time": "2023-03-09T17:16:38.944Z"
   },
   {
    "duration": 225,
    "start_time": "2023-03-09T17:16:38.963Z"
   },
   {
    "duration": 194,
    "start_time": "2023-03-09T17:16:39.190Z"
   },
   {
    "duration": 191,
    "start_time": "2023-03-09T17:16:39.385Z"
   },
   {
    "duration": 287,
    "start_time": "2023-03-09T17:16:39.578Z"
   },
   {
    "duration": 13,
    "start_time": "2023-03-09T17:16:39.868Z"
   },
   {
    "duration": 201,
    "start_time": "2023-03-09T17:16:39.886Z"
   },
   {
    "duration": 7,
    "start_time": "2023-03-09T17:16:40.089Z"
   },
   {
    "duration": 32,
    "start_time": "2023-03-09T17:16:40.097Z"
   },
   {
    "duration": 9,
    "start_time": "2023-03-09T17:16:40.131Z"
   },
   {
    "duration": 16,
    "start_time": "2023-03-09T17:16:40.142Z"
   },
   {
    "duration": 7,
    "start_time": "2023-03-09T17:16:40.160Z"
   },
   {
    "duration": 286,
    "start_time": "2023-03-09T17:16:58.663Z"
   },
   {
    "duration": 1224,
    "start_time": "2023-03-09T17:17:49.892Z"
   },
   {
    "duration": 73,
    "start_time": "2023-03-09T17:17:51.118Z"
   },
   {
    "duration": 17,
    "start_time": "2023-03-09T17:17:51.193Z"
   },
   {
    "duration": 28,
    "start_time": "2023-03-09T17:17:51.212Z"
   },
   {
    "duration": 10,
    "start_time": "2023-03-09T17:17:51.242Z"
   },
   {
    "duration": 4,
    "start_time": "2023-03-09T17:17:51.254Z"
   },
   {
    "duration": 25,
    "start_time": "2023-03-09T17:17:51.260Z"
   },
   {
    "duration": 4,
    "start_time": "2023-03-09T17:17:51.287Z"
   },
   {
    "duration": 29,
    "start_time": "2023-03-09T17:17:51.293Z"
   },
   {
    "duration": 8,
    "start_time": "2023-03-09T17:17:51.327Z"
   },
   {
    "duration": 10,
    "start_time": "2023-03-09T17:17:51.336Z"
   },
   {
    "duration": 5,
    "start_time": "2023-03-09T17:17:51.348Z"
   },
   {
    "duration": 5,
    "start_time": "2023-03-09T17:17:51.354Z"
   },
   {
    "duration": 7,
    "start_time": "2023-03-09T17:17:51.360Z"
   },
   {
    "duration": 57,
    "start_time": "2023-03-09T17:17:51.369Z"
   },
   {
    "duration": 17,
    "start_time": "2023-03-09T17:17:51.428Z"
   },
   {
    "duration": 189,
    "start_time": "2023-03-09T17:17:51.447Z"
   },
   {
    "duration": 28,
    "start_time": "2023-03-09T17:17:51.638Z"
   },
   {
    "duration": 17,
    "start_time": "2023-03-09T17:17:51.668Z"
   },
   {
    "duration": 330,
    "start_time": "2023-03-09T17:17:51.687Z"
   },
   {
    "duration": 200,
    "start_time": "2023-03-09T17:17:52.021Z"
   },
   {
    "duration": 208,
    "start_time": "2023-03-09T17:17:52.223Z"
   },
   {
    "duration": 205,
    "start_time": "2023-03-09T17:17:52.434Z"
   },
   {
    "duration": 206,
    "start_time": "2023-03-09T17:17:52.642Z"
   },
   {
    "duration": 202,
    "start_time": "2023-03-09T17:17:52.850Z"
   },
   {
    "duration": 195,
    "start_time": "2023-03-09T17:17:53.054Z"
   },
   {
    "duration": 276,
    "start_time": "2023-03-09T17:17:53.251Z"
   },
   {
    "duration": 291,
    "start_time": "2023-03-09T17:17:53.531Z"
   },
   {
    "duration": 218,
    "start_time": "2023-03-09T17:17:53.824Z"
   },
   {
    "duration": 670,
    "start_time": "2023-03-09T17:17:54.043Z"
   },
   {
    "duration": 665,
    "start_time": "2023-03-09T17:17:54.722Z"
   },
   {
    "duration": 740,
    "start_time": "2023-03-09T17:17:55.389Z"
   },
   {
    "duration": 659,
    "start_time": "2023-03-09T17:17:56.131Z"
   },
   {
    "duration": 16,
    "start_time": "2023-03-09T17:17:56.791Z"
   },
   {
    "duration": 211,
    "start_time": "2023-03-09T17:17:56.821Z"
   },
   {
    "duration": 189,
    "start_time": "2023-03-09T17:17:57.034Z"
   },
   {
    "duration": 41,
    "start_time": "2023-03-09T17:17:57.225Z"
   },
   {
    "duration": 375,
    "start_time": "2023-03-09T17:17:57.268Z"
   },
   {
    "duration": 10,
    "start_time": "2023-03-09T17:17:57.645Z"
   },
   {
    "duration": 216,
    "start_time": "2023-03-09T17:17:57.657Z"
   },
   {
    "duration": 7,
    "start_time": "2023-03-09T17:17:57.874Z"
   },
   {
    "duration": 16,
    "start_time": "2023-03-09T17:17:57.882Z"
   },
   {
    "duration": 24,
    "start_time": "2023-03-09T17:17:57.900Z"
   },
   {
    "duration": 15,
    "start_time": "2023-03-09T17:17:57.926Z"
   },
   {
    "duration": 7,
    "start_time": "2023-03-09T17:17:57.943Z"
   },
   {
    "duration": 26,
    "start_time": "2023-03-09T17:18:03.651Z"
   },
   {
    "duration": 173,
    "start_time": "2023-03-09T17:18:25.269Z"
   },
   {
    "duration": 277,
    "start_time": "2023-03-09T17:18:47.452Z"
   },
   {
    "duration": 162,
    "start_time": "2023-03-09T17:23:38.837Z"
   },
   {
    "duration": 60,
    "start_time": "2023-03-09T17:23:54.659Z"
   },
   {
    "duration": 641,
    "start_time": "2023-03-09T17:24:52.410Z"
   },
   {
    "duration": 727,
    "start_time": "2023-03-09T17:25:07.971Z"
   },
   {
    "duration": 2866,
    "start_time": "2023-03-09T17:25:23.465Z"
   },
   {
    "duration": 2745,
    "start_time": "2023-03-09T17:25:56.629Z"
   },
   {
    "duration": 21,
    "start_time": "2023-03-09T17:28:30.555Z"
   },
   {
    "duration": 158,
    "start_time": "2023-03-09T17:28:49.013Z"
   },
   {
    "duration": 556,
    "start_time": "2023-03-09T17:29:31.985Z"
   },
   {
    "duration": 436,
    "start_time": "2023-03-09T17:32:15.467Z"
   },
   {
    "duration": 402,
    "start_time": "2023-03-09T17:32:26.186Z"
   },
   {
    "duration": 396,
    "start_time": "2023-03-09T17:32:35.950Z"
   },
   {
    "duration": 435,
    "start_time": "2023-03-09T17:35:42.184Z"
   },
   {
    "duration": 472,
    "start_time": "2023-03-09T17:40:32.998Z"
   },
   {
    "duration": 434,
    "start_time": "2023-03-09T17:41:41.679Z"
   },
   {
    "duration": 487,
    "start_time": "2023-03-09T17:42:28.789Z"
   },
   {
    "duration": 293,
    "start_time": "2023-03-09T17:45:59.714Z"
   },
   {
    "duration": 225,
    "start_time": "2023-03-09T17:46:11.322Z"
   },
   {
    "duration": 250,
    "start_time": "2023-03-09T17:46:27.274Z"
   },
   {
    "duration": 255,
    "start_time": "2023-03-09T17:46:38.123Z"
   },
   {
    "duration": 207,
    "start_time": "2023-03-09T17:46:47.734Z"
   },
   {
    "duration": 240,
    "start_time": "2023-03-09T17:47:07.774Z"
   },
   {
    "duration": 508,
    "start_time": "2023-03-09T17:47:30.344Z"
   },
   {
    "duration": 23,
    "start_time": "2023-03-09T17:49:46.205Z"
   },
   {
    "duration": 20,
    "start_time": "2023-03-09T17:53:49.917Z"
   },
   {
    "duration": 38,
    "start_time": "2023-03-09T17:53:59.428Z"
   },
   {
    "duration": 16,
    "start_time": "2023-03-09T17:55:02.023Z"
   },
   {
    "duration": 17,
    "start_time": "2023-03-09T17:55:13.400Z"
   },
   {
    "duration": 18,
    "start_time": "2023-03-09T17:55:59.482Z"
   },
   {
    "duration": 24,
    "start_time": "2023-03-09T17:56:29.992Z"
   },
   {
    "duration": 13,
    "start_time": "2023-03-09T17:57:37.696Z"
   },
   {
    "duration": 22,
    "start_time": "2023-03-09T17:58:02.270Z"
   },
   {
    "duration": 18,
    "start_time": "2023-03-09T17:58:08.908Z"
   },
   {
    "duration": 25,
    "start_time": "2023-03-09T17:58:28.103Z"
   },
   {
    "duration": 203,
    "start_time": "2023-03-09T17:58:31.466Z"
   },
   {
    "duration": 23,
    "start_time": "2023-03-09T17:59:37.778Z"
   },
   {
    "duration": 244,
    "start_time": "2023-03-09T17:59:46.676Z"
   },
   {
    "duration": 20,
    "start_time": "2023-03-09T17:59:53.484Z"
   },
   {
    "duration": 226,
    "start_time": "2023-03-09T17:59:58.664Z"
   },
   {
    "duration": 28,
    "start_time": "2023-03-09T18:00:21.603Z"
   },
   {
    "duration": 209,
    "start_time": "2023-03-09T18:01:35.411Z"
   },
   {
    "duration": 17,
    "start_time": "2023-03-09T18:03:11.238Z"
   },
   {
    "duration": 36,
    "start_time": "2023-03-09T18:03:30.129Z"
   },
   {
    "duration": 25,
    "start_time": "2023-03-09T18:03:59.205Z"
   },
   {
    "duration": 22,
    "start_time": "2023-03-09T18:04:22.525Z"
   },
   {
    "duration": 32,
    "start_time": "2023-03-09T18:04:27.709Z"
   },
   {
    "duration": 24,
    "start_time": "2023-03-09T18:04:31.416Z"
   },
   {
    "duration": 19,
    "start_time": "2023-03-09T18:04:41.442Z"
   },
   {
    "duration": 22,
    "start_time": "2023-03-09T18:05:58.210Z"
   },
   {
    "duration": 16,
    "start_time": "2023-03-09T18:06:26.213Z"
   },
   {
    "duration": 18,
    "start_time": "2023-03-09T18:06:29.616Z"
   },
   {
    "duration": 24,
    "start_time": "2023-03-09T18:06:49.328Z"
   },
   {
    "duration": 22,
    "start_time": "2023-03-09T18:08:09.543Z"
   },
   {
    "duration": 19,
    "start_time": "2023-03-09T18:08:21.556Z"
   },
   {
    "duration": 18,
    "start_time": "2023-03-09T18:08:45.727Z"
   },
   {
    "duration": 27,
    "start_time": "2023-03-09T18:08:55.220Z"
   },
   {
    "duration": 26,
    "start_time": "2023-03-09T18:08:59.092Z"
   },
   {
    "duration": 22,
    "start_time": "2023-03-09T18:09:12.638Z"
   },
   {
    "duration": 273,
    "start_time": "2023-03-09T18:09:32.569Z"
   },
   {
    "duration": 214,
    "start_time": "2023-03-09T18:10:14.483Z"
   },
   {
    "duration": 26,
    "start_time": "2023-03-09T18:10:32.501Z"
   },
   {
    "duration": 28,
    "start_time": "2023-03-09T18:11:21.503Z"
   },
   {
    "duration": 17,
    "start_time": "2023-03-09T18:12:59.936Z"
   },
   {
    "duration": 16,
    "start_time": "2023-03-09T18:13:09.073Z"
   },
   {
    "duration": 52,
    "start_time": "2023-03-09T18:14:18.938Z"
   },
   {
    "duration": 42,
    "start_time": "2023-03-09T18:14:44.526Z"
   },
   {
    "duration": 31,
    "start_time": "2023-03-09T18:14:56.953Z"
   },
   {
    "duration": 282,
    "start_time": "2023-03-09T18:15:08.673Z"
   },
   {
    "duration": 38,
    "start_time": "2023-03-09T18:15:18.362Z"
   },
   {
    "duration": 251,
    "start_time": "2023-03-09T18:15:28.532Z"
   },
   {
    "duration": 1494,
    "start_time": "2023-03-09T18:15:42.868Z"
   },
   {
    "duration": 92,
    "start_time": "2023-03-09T18:15:44.365Z"
   },
   {
    "duration": 19,
    "start_time": "2023-03-09T18:15:44.459Z"
   },
   {
    "duration": 45,
    "start_time": "2023-03-09T18:15:44.481Z"
   },
   {
    "duration": 10,
    "start_time": "2023-03-09T18:15:44.529Z"
   },
   {
    "duration": 5,
    "start_time": "2023-03-09T18:15:44.540Z"
   },
   {
    "duration": 29,
    "start_time": "2023-03-09T18:15:44.546Z"
   },
   {
    "duration": 5,
    "start_time": "2023-03-09T18:15:44.577Z"
   },
   {
    "duration": 41,
    "start_time": "2023-03-09T18:15:44.584Z"
   },
   {
    "duration": 12,
    "start_time": "2023-03-09T18:15:44.629Z"
   },
   {
    "duration": 15,
    "start_time": "2023-03-09T18:15:44.643Z"
   },
   {
    "duration": 8,
    "start_time": "2023-03-09T18:15:44.660Z"
   },
   {
    "duration": 7,
    "start_time": "2023-03-09T18:15:44.671Z"
   },
   {
    "duration": 46,
    "start_time": "2023-03-09T18:15:44.680Z"
   },
   {
    "duration": 27,
    "start_time": "2023-03-09T18:15:44.732Z"
   },
   {
    "duration": 23,
    "start_time": "2023-03-09T18:15:44.764Z"
   },
   {
    "duration": 631,
    "start_time": "2023-03-09T18:15:44.790Z"
   },
   {
    "duration": 24,
    "start_time": "2023-03-09T18:15:45.424Z"
   },
   {
    "duration": 428,
    "start_time": "2023-03-09T18:15:45.450Z"
   },
   {
    "duration": 442,
    "start_time": "2023-03-09T18:15:45.880Z"
   },
   {
    "duration": 307,
    "start_time": "2023-03-09T18:15:46.325Z"
   },
   {
    "duration": 325,
    "start_time": "2023-03-09T18:15:46.635Z"
   },
   {
    "duration": 303,
    "start_time": "2023-03-09T18:15:46.962Z"
   },
   {
    "duration": 55,
    "start_time": "2023-03-09T18:15:47.268Z"
   },
   {
    "duration": 305,
    "start_time": "2023-03-09T18:15:47.325Z"
   },
   {
    "duration": 330,
    "start_time": "2023-03-09T18:15:47.633Z"
   },
   {
    "duration": 205,
    "start_time": "2023-03-09T18:15:47.965Z"
   },
   {
    "duration": 327,
    "start_time": "2023-03-09T18:15:48.175Z"
   },
   {
    "duration": 196,
    "start_time": "2023-03-09T18:15:48.504Z"
   },
   {
    "duration": 712,
    "start_time": "2023-03-09T18:15:48.701Z"
   },
   {
    "duration": 863,
    "start_time": "2023-03-09T18:15:49.415Z"
   },
   {
    "duration": 925,
    "start_time": "2023-03-09T18:15:50.280Z"
   },
   {
    "duration": 1080,
    "start_time": "2023-03-09T18:15:51.207Z"
   },
   {
    "duration": 41,
    "start_time": "2023-03-09T18:15:52.289Z"
   },
   {
    "duration": 332,
    "start_time": "2023-03-09T18:15:52.333Z"
   },
   {
    "duration": 292,
    "start_time": "2023-03-09T18:15:52.669Z"
   },
   {
    "duration": 229,
    "start_time": "2023-03-09T18:15:52.963Z"
   },
   {
    "duration": 414,
    "start_time": "2023-03-09T18:15:53.194Z"
   },
   {
    "duration": 17,
    "start_time": "2023-03-09T18:15:53.610Z"
   },
   {
    "duration": 297,
    "start_time": "2023-03-09T18:15:53.629Z"
   },
   {
    "duration": 8,
    "start_time": "2023-03-09T18:15:53.928Z"
   },
   {
    "duration": 19,
    "start_time": "2023-03-09T18:15:53.939Z"
   },
   {
    "duration": 11,
    "start_time": "2023-03-09T18:15:53.961Z"
   },
   {
    "duration": 48,
    "start_time": "2023-03-09T18:15:53.974Z"
   },
   {
    "duration": 10,
    "start_time": "2023-03-09T18:15:54.024Z"
   },
   {
    "duration": 94,
    "start_time": "2023-03-09T18:16:26.210Z"
   },
   {
    "duration": 37,
    "start_time": "2023-03-09T18:16:41.069Z"
   },
   {
    "duration": 138,
    "start_time": "2023-03-09T18:18:55.247Z"
   },
   {
    "duration": 8,
    "start_time": "2023-03-09T18:19:16.339Z"
   },
   {
    "duration": 41,
    "start_time": "2023-03-09T18:19:24.737Z"
   },
   {
    "duration": 90,
    "start_time": "2023-03-09T18:20:41.972Z"
   },
   {
    "duration": 23,
    "start_time": "2023-03-09T18:20:51.970Z"
   },
   {
    "duration": 23,
    "start_time": "2023-03-09T18:21:05.549Z"
   },
   {
    "duration": 17,
    "start_time": "2023-03-09T18:21:32.071Z"
   },
   {
    "duration": 222,
    "start_time": "2023-03-09T18:22:35.736Z"
   },
   {
    "duration": 195,
    "start_time": "2023-03-09T18:23:12.902Z"
   },
   {
    "duration": 22,
    "start_time": "2023-03-09T18:23:22.748Z"
   },
   {
    "duration": 42,
    "start_time": "2023-03-09T18:23:28.104Z"
   },
   {
    "duration": 198,
    "start_time": "2023-03-09T18:23:40.797Z"
   },
   {
    "duration": 231,
    "start_time": "2023-03-09T18:24:09.969Z"
   },
   {
    "duration": 171,
    "start_time": "2023-03-09T18:24:25.061Z"
   },
   {
    "duration": 177,
    "start_time": "2023-03-09T18:24:51.753Z"
   },
   {
    "duration": 197,
    "start_time": "2023-03-09T18:25:02.728Z"
   },
   {
    "duration": 27,
    "start_time": "2023-03-09T18:25:28.169Z"
   },
   {
    "duration": 23,
    "start_time": "2023-03-09T18:25:36.150Z"
   },
   {
    "duration": 24,
    "start_time": "2023-03-09T18:25:49.405Z"
   },
   {
    "duration": 30,
    "start_time": "2023-03-09T18:26:15.113Z"
   },
   {
    "duration": 10,
    "start_time": "2023-03-09T18:26:26.673Z"
   },
   {
    "duration": 31,
    "start_time": "2023-03-09T18:27:30.903Z"
   },
   {
    "duration": 173,
    "start_time": "2023-03-09T18:27:54.549Z"
   },
   {
    "duration": 351,
    "start_time": "2023-03-09T18:32:11.982Z"
   },
   {
    "duration": 359,
    "start_time": "2023-03-09T18:32:48.669Z"
   },
   {
    "duration": 217,
    "start_time": "2023-03-09T18:34:11.934Z"
   },
   {
    "duration": 195,
    "start_time": "2023-03-09T18:34:25.268Z"
   },
   {
    "duration": 197,
    "start_time": "2023-03-09T18:34:46.616Z"
   },
   {
    "duration": 232,
    "start_time": "2023-03-09T18:35:09.486Z"
   },
   {
    "duration": 221,
    "start_time": "2023-03-09T18:35:23.885Z"
   },
   {
    "duration": 224,
    "start_time": "2023-03-09T18:36:28.483Z"
   },
   {
    "duration": 246,
    "start_time": "2023-03-09T18:36:40.491Z"
   },
   {
    "duration": 216,
    "start_time": "2023-03-09T18:36:48.681Z"
   },
   {
    "duration": 322,
    "start_time": "2023-03-09T18:36:57.454Z"
   },
   {
    "duration": 220,
    "start_time": "2023-03-09T18:37:05.240Z"
   },
   {
    "duration": 245,
    "start_time": "2023-03-09T18:38:33.331Z"
   },
   {
    "duration": 273,
    "start_time": "2023-03-09T18:38:43.903Z"
   },
   {
    "duration": 298,
    "start_time": "2023-03-09T18:39:11.677Z"
   },
   {
    "duration": 295,
    "start_time": "2023-03-09T18:39:26.422Z"
   },
   {
    "duration": 23,
    "start_time": "2023-03-09T18:53:11.314Z"
   },
   {
    "duration": 1152,
    "start_time": "2023-03-09T18:55:11.813Z"
   },
   {
    "duration": 1240,
    "start_time": "2023-03-09T18:55:31.267Z"
   },
   {
    "duration": 94,
    "start_time": "2023-03-09T18:55:32.509Z"
   },
   {
    "duration": 13,
    "start_time": "2023-03-09T18:55:32.605Z"
   },
   {
    "duration": 50,
    "start_time": "2023-03-09T18:55:32.620Z"
   },
   {
    "duration": 9,
    "start_time": "2023-03-09T18:55:32.672Z"
   },
   {
    "duration": 27,
    "start_time": "2023-03-09T18:55:32.682Z"
   },
   {
    "duration": 52,
    "start_time": "2023-03-09T18:55:32.711Z"
   },
   {
    "duration": 4,
    "start_time": "2023-03-09T18:55:32.765Z"
   },
   {
    "duration": 18,
    "start_time": "2023-03-09T18:55:32.772Z"
   },
   {
    "duration": 8,
    "start_time": "2023-03-09T18:55:32.793Z"
   },
   {
    "duration": 12,
    "start_time": "2023-03-09T18:55:32.803Z"
   },
   {
    "duration": 23,
    "start_time": "2023-03-09T18:55:32.817Z"
   },
   {
    "duration": 14,
    "start_time": "2023-03-09T18:55:32.841Z"
   },
   {
    "duration": 16,
    "start_time": "2023-03-09T18:55:32.861Z"
   },
   {
    "duration": 13,
    "start_time": "2023-03-09T18:55:32.879Z"
   },
   {
    "duration": 17,
    "start_time": "2023-03-09T18:55:32.893Z"
   },
   {
    "duration": 575,
    "start_time": "2023-03-09T18:55:32.911Z"
   },
   {
    "duration": 18,
    "start_time": "2023-03-09T18:55:33.488Z"
   },
   {
    "duration": 448,
    "start_time": "2023-03-09T18:55:33.508Z"
   },
   {
    "duration": 252,
    "start_time": "2023-03-09T18:55:33.959Z"
   },
   {
    "duration": 318,
    "start_time": "2023-03-09T18:55:34.214Z"
   },
   {
    "duration": 236,
    "start_time": "2023-03-09T18:55:34.534Z"
   },
   {
    "duration": 237,
    "start_time": "2023-03-09T18:55:34.773Z"
   },
   {
    "duration": 29,
    "start_time": "2023-03-09T18:55:35.012Z"
   },
   {
    "duration": 223,
    "start_time": "2023-03-09T18:55:35.043Z"
   },
   {
    "duration": 318,
    "start_time": "2023-03-09T18:55:35.268Z"
   },
   {
    "duration": 216,
    "start_time": "2023-03-09T18:55:35.587Z"
   },
   {
    "duration": 358,
    "start_time": "2023-03-09T18:55:35.804Z"
   },
   {
    "duration": 288,
    "start_time": "2023-03-09T18:55:36.166Z"
   },
   {
    "duration": 322,
    "start_time": "2023-03-09T18:55:36.457Z"
   },
   {
    "duration": 821,
    "start_time": "2023-03-09T18:55:36.781Z"
   },
   {
    "duration": 935,
    "start_time": "2023-03-09T18:55:37.604Z"
   },
   {
    "duration": 828,
    "start_time": "2023-03-09T18:55:38.542Z"
   },
   {
    "duration": 850,
    "start_time": "2023-03-09T18:55:39.372Z"
   },
   {
    "duration": 23,
    "start_time": "2023-03-09T18:55:40.226Z"
   },
   {
    "duration": 333,
    "start_time": "2023-03-09T18:55:40.251Z"
   },
   {
    "duration": 438,
    "start_time": "2023-03-09T18:55:40.586Z"
   },
   {
    "duration": 64,
    "start_time": "2023-03-09T18:55:41.026Z"
   },
   {
    "duration": 324,
    "start_time": "2023-03-09T18:55:41.093Z"
   },
   {
    "duration": 28,
    "start_time": "2023-03-09T18:55:41.419Z"
   },
   {
    "duration": 224,
    "start_time": "2023-03-09T18:55:41.452Z"
   },
   {
    "duration": 6,
    "start_time": "2023-03-09T18:55:41.678Z"
   },
   {
    "duration": 16,
    "start_time": "2023-03-09T18:55:41.686Z"
   },
   {
    "duration": 25,
    "start_time": "2023-03-09T18:55:41.703Z"
   },
   {
    "duration": 25,
    "start_time": "2023-03-09T18:55:41.731Z"
   },
   {
    "duration": 12,
    "start_time": "2023-03-09T18:55:41.759Z"
   },
   {
    "duration": 15,
    "start_time": "2023-03-09T20:19:46.509Z"
   },
   {
    "duration": 21,
    "start_time": "2023-03-09T20:20:28.134Z"
   },
   {
    "duration": 16,
    "start_time": "2023-03-09T20:20:42.238Z"
   },
   {
    "duration": 113,
    "start_time": "2023-03-09T20:20:52.994Z"
   },
   {
    "duration": 23,
    "start_time": "2023-03-09T20:21:00.836Z"
   },
   {
    "duration": 16,
    "start_time": "2023-03-09T20:21:06.355Z"
   },
   {
    "duration": 281,
    "start_time": "2023-03-09T20:21:19.601Z"
   },
   {
    "duration": 30,
    "start_time": "2023-03-09T20:24:12.648Z"
   },
   {
    "duration": 23,
    "start_time": "2023-03-09T20:24:19.463Z"
   },
   {
    "duration": 17,
    "start_time": "2023-03-09T20:26:07.724Z"
   },
   {
    "duration": 1191,
    "start_time": "2023-03-09T20:26:34.349Z"
   },
   {
    "duration": 70,
    "start_time": "2023-03-09T20:26:35.542Z"
   },
   {
    "duration": 19,
    "start_time": "2023-03-09T20:26:35.614Z"
   },
   {
    "duration": 25,
    "start_time": "2023-03-09T20:26:35.638Z"
   },
   {
    "duration": 38,
    "start_time": "2023-03-09T20:26:35.664Z"
   },
   {
    "duration": 13,
    "start_time": "2023-03-09T20:26:35.703Z"
   },
   {
    "duration": 32,
    "start_time": "2023-03-09T20:26:35.718Z"
   },
   {
    "duration": 4,
    "start_time": "2023-03-09T20:26:35.752Z"
   },
   {
    "duration": 10,
    "start_time": "2023-03-09T20:26:35.757Z"
   },
   {
    "duration": 9,
    "start_time": "2023-03-09T20:26:35.770Z"
   },
   {
    "duration": 6,
    "start_time": "2023-03-09T20:26:35.781Z"
   },
   {
    "duration": 6,
    "start_time": "2023-03-09T20:26:35.789Z"
   },
   {
    "duration": 19,
    "start_time": "2023-03-09T20:26:35.822Z"
   },
   {
    "duration": 16,
    "start_time": "2023-03-09T20:26:35.843Z"
   },
   {
    "duration": 17,
    "start_time": "2023-03-09T20:26:35.860Z"
   },
   {
    "duration": 462,
    "start_time": "2023-03-09T20:26:35.878Z"
   },
   {
    "duration": 21,
    "start_time": "2023-03-09T20:26:36.342Z"
   },
   {
    "duration": 369,
    "start_time": "2023-03-09T20:26:36.365Z"
   },
   {
    "duration": 203,
    "start_time": "2023-03-09T20:26:36.736Z"
   },
   {
    "duration": 210,
    "start_time": "2023-03-09T20:26:36.941Z"
   },
   {
    "duration": 202,
    "start_time": "2023-03-09T20:26:37.153Z"
   },
   {
    "duration": 208,
    "start_time": "2023-03-09T20:26:37.357Z"
   },
   {
    "duration": 24,
    "start_time": "2023-03-09T20:26:37.567Z"
   },
   {
    "duration": 222,
    "start_time": "2023-03-09T20:26:37.594Z"
   },
   {
    "duration": 289,
    "start_time": "2023-03-09T20:26:37.821Z"
   },
   {
    "duration": 203,
    "start_time": "2023-03-09T20:26:38.112Z"
   },
   {
    "duration": 286,
    "start_time": "2023-03-09T20:26:38.316Z"
   },
   {
    "duration": 243,
    "start_time": "2023-03-09T20:26:38.605Z"
   },
   {
    "duration": 245,
    "start_time": "2023-03-09T20:26:38.850Z"
   },
   {
    "duration": 728,
    "start_time": "2023-03-09T20:26:39.097Z"
   },
   {
    "duration": 877,
    "start_time": "2023-03-09T20:26:39.827Z"
   },
   {
    "duration": 658,
    "start_time": "2023-03-09T20:26:40.706Z"
   },
   {
    "duration": 698,
    "start_time": "2023-03-09T20:26:41.365Z"
   },
   {
    "duration": 16,
    "start_time": "2023-03-09T20:26:42.064Z"
   },
   {
    "duration": 268,
    "start_time": "2023-03-09T20:26:42.082Z"
   },
   {
    "duration": 315,
    "start_time": "2023-03-09T20:26:42.353Z"
   },
   {
    "duration": 59,
    "start_time": "2023-03-09T20:26:42.670Z"
   },
   {
    "duration": 286,
    "start_time": "2023-03-09T20:26:42.731Z"
   },
   {
    "duration": 11,
    "start_time": "2023-03-09T20:26:43.021Z"
   },
   {
    "duration": 211,
    "start_time": "2023-03-09T20:26:43.034Z"
   },
   {
    "duration": 7,
    "start_time": "2023-03-09T20:26:43.247Z"
   },
   {
    "duration": 16,
    "start_time": "2023-03-09T20:26:43.256Z"
   },
   {
    "duration": 7,
    "start_time": "2023-03-09T20:26:43.274Z"
   },
   {
    "duration": 51,
    "start_time": "2023-03-09T20:26:43.283Z"
   },
   {
    "duration": 11,
    "start_time": "2023-03-09T20:26:43.336Z"
   },
   {
    "duration": 18,
    "start_time": "2023-03-09T20:28:55.859Z"
   },
   {
    "duration": 17,
    "start_time": "2023-03-09T20:29:12.702Z"
   },
   {
    "duration": 1506,
    "start_time": "2023-03-09T20:29:50.079Z"
   },
   {
    "duration": 17,
    "start_time": "2023-03-09T20:30:05.233Z"
   },
   {
    "duration": 260,
    "start_time": "2023-03-09T20:30:13.149Z"
   },
   {
    "duration": 245,
    "start_time": "2023-03-09T20:31:24.443Z"
   },
   {
    "duration": 178,
    "start_time": "2023-03-09T21:47:03.203Z"
   },
   {
    "duration": 191,
    "start_time": "2023-03-09T21:47:22.749Z"
   },
   {
    "duration": 196,
    "start_time": "2023-03-09T21:47:51.106Z"
   },
   {
    "duration": 246,
    "start_time": "2023-03-09T21:48:15.985Z"
   },
   {
    "duration": 52,
    "start_time": "2023-03-10T13:53:09.713Z"
   },
   {
    "duration": 1127,
    "start_time": "2023-03-10T13:53:14.399Z"
   },
   {
    "duration": 69,
    "start_time": "2023-03-10T13:53:15.528Z"
   },
   {
    "duration": 14,
    "start_time": "2023-03-10T13:53:15.599Z"
   },
   {
    "duration": 20,
    "start_time": "2023-03-10T13:53:15.615Z"
   },
   {
    "duration": 8,
    "start_time": "2023-03-10T13:53:15.636Z"
   },
   {
    "duration": 32,
    "start_time": "2023-03-10T13:53:15.646Z"
   },
   {
    "duration": 26,
    "start_time": "2023-03-10T13:53:15.680Z"
   },
   {
    "duration": 3,
    "start_time": "2023-03-10T13:53:15.708Z"
   },
   {
    "duration": 11,
    "start_time": "2023-03-10T13:53:15.713Z"
   },
   {
    "duration": 10,
    "start_time": "2023-03-10T13:53:15.727Z"
   },
   {
    "duration": 5,
    "start_time": "2023-03-10T13:53:15.738Z"
   },
   {
    "duration": 33,
    "start_time": "2023-03-10T13:53:15.745Z"
   },
   {
    "duration": 14,
    "start_time": "2023-03-10T13:53:15.781Z"
   },
   {
    "duration": 19,
    "start_time": "2023-03-10T13:53:15.797Z"
   },
   {
    "duration": 16,
    "start_time": "2023-03-10T13:53:15.818Z"
   },
   {
    "duration": 460,
    "start_time": "2023-03-10T13:53:15.836Z"
   },
   {
    "duration": 19,
    "start_time": "2023-03-10T13:53:16.298Z"
   },
   {
    "duration": 399,
    "start_time": "2023-03-10T13:53:16.318Z"
   },
   {
    "duration": 235,
    "start_time": "2023-03-10T13:53:16.719Z"
   },
   {
    "duration": 600,
    "start_time": "2023-03-10T13:53:16.956Z"
   },
   {
    "duration": 47,
    "start_time": "2023-08-06T19:08:01.788Z"
   },
   {
    "duration": 1147,
    "start_time": "2023-08-06T19:08:06.866Z"
   },
   {
    "duration": 110,
    "start_time": "2023-08-06T19:08:08.015Z"
   },
   {
    "duration": 15,
    "start_time": "2023-08-06T19:08:08.127Z"
   },
   {
    "duration": 23,
    "start_time": "2023-08-06T19:08:08.144Z"
   },
   {
    "duration": 12,
    "start_time": "2023-08-06T19:08:08.169Z"
   },
   {
    "duration": 4,
    "start_time": "2023-08-06T19:08:08.183Z"
   },
   {
    "duration": 20,
    "start_time": "2023-08-06T19:08:08.209Z"
   },
   {
    "duration": 4,
    "start_time": "2023-08-06T19:08:08.230Z"
   },
   {
    "duration": 8,
    "start_time": "2023-08-06T19:08:08.236Z"
   },
   {
    "duration": 9,
    "start_time": "2023-08-06T19:08:08.246Z"
   },
   {
    "duration": 5,
    "start_time": "2023-08-06T19:08:08.256Z"
   },
   {
    "duration": 6,
    "start_time": "2023-08-06T19:08:08.263Z"
   },
   {
    "duration": 45,
    "start_time": "2023-08-06T19:08:08.270Z"
   },
   {
    "duration": 20,
    "start_time": "2023-08-06T19:08:08.317Z"
   },
   {
    "duration": 16,
    "start_time": "2023-08-06T19:08:08.339Z"
   },
   {
    "duration": 434,
    "start_time": "2023-08-06T19:08:08.358Z"
   },
   {
    "duration": 29,
    "start_time": "2023-08-06T19:08:08.794Z"
   },
   {
    "duration": 355,
    "start_time": "2023-08-06T19:08:08.825Z"
   },
   {
    "duration": 197,
    "start_time": "2023-08-06T19:08:09.181Z"
   },
   {
    "duration": 579,
    "start_time": "2023-08-06T19:08:09.380Z"
   },
   {
    "duration": 208,
    "start_time": "2023-08-06T19:08:09.961Z"
   },
   {
    "duration": 281,
    "start_time": "2023-08-06T19:08:10.171Z"
   },
   {
    "duration": 191,
    "start_time": "2023-08-06T19:08:10.454Z"
   },
   {
    "duration": 23,
    "start_time": "2023-08-06T19:08:10.647Z"
   },
   {
    "duration": 183,
    "start_time": "2023-08-06T19:08:10.672Z"
   },
   {
    "duration": 184,
    "start_time": "2023-08-06T19:08:10.857Z"
   },
   {
    "duration": 233,
    "start_time": "2023-08-06T19:08:11.043Z"
   },
   {
    "duration": 273,
    "start_time": "2023-08-06T19:08:11.281Z"
   },
   {
    "duration": 231,
    "start_time": "2023-08-06T19:08:11.556Z"
   },
   {
    "duration": 242,
    "start_time": "2023-08-06T19:08:11.789Z"
   },
   {
    "duration": 776,
    "start_time": "2023-08-06T19:08:12.033Z"
   },
   {
    "duration": 640,
    "start_time": "2023-08-06T19:08:12.811Z"
   },
   {
    "duration": 640,
    "start_time": "2023-08-06T19:08:13.453Z"
   },
   {
    "duration": 790,
    "start_time": "2023-08-06T19:08:14.095Z"
   },
   {
    "duration": 30,
    "start_time": "2023-08-06T19:08:14.886Z"
   },
   {
    "duration": 246,
    "start_time": "2023-08-06T19:08:14.917Z"
   },
   {
    "duration": 16,
    "start_time": "2023-08-06T19:08:15.164Z"
   },
   {
    "duration": 244,
    "start_time": "2023-08-06T19:08:15.181Z"
   },
   {
    "duration": 186,
    "start_time": "2023-08-06T19:08:15.426Z"
   },
   {
    "duration": 276,
    "start_time": "2023-08-06T19:08:15.623Z"
   },
   {
    "duration": 53,
    "start_time": "2023-08-06T19:08:15.910Z"
   },
   {
    "duration": 198,
    "start_time": "2023-08-06T19:08:15.965Z"
   },
   {
    "duration": 6,
    "start_time": "2023-08-06T19:08:16.165Z"
   },
   {
    "duration": 35,
    "start_time": "2023-08-06T19:08:16.173Z"
   },
   {
    "duration": 40,
    "start_time": "2023-08-06T19:08:16.209Z"
   },
   {
    "duration": 37,
    "start_time": "2023-08-06T19:08:16.250Z"
   },
   {
    "duration": 20,
    "start_time": "2023-08-06T19:08:16.289Z"
   },
   {
    "duration": 11,
    "start_time": "2023-08-06T19:08:16.312Z"
   },
   {
    "duration": 6,
    "start_time": "2023-08-06T19:08:23.717Z"
   },
   {
    "duration": 83,
    "start_time": "2023-08-06T19:08:32.639Z"
   },
   {
    "duration": 6,
    "start_time": "2023-08-06T19:08:39.594Z"
   }
  ],
  "kernelspec": {
   "display_name": "Python 3 (ipykernel)",
   "language": "python",
   "name": "python3"
  },
  "language_info": {
   "codemirror_mode": {
    "name": "ipython",
    "version": 3
   },
   "file_extension": ".py",
   "mimetype": "text/x-python",
   "name": "python",
   "nbconvert_exporter": "python",
   "pygments_lexer": "ipython3",
   "version": "3.11.4"
  },
  "toc": {
   "base_numbering": 1,
   "nav_menu": {},
   "number_sections": true,
   "sideBar": true,
   "skip_h1_title": true,
   "title_cell": "Table of Contents",
   "title_sidebar": "Contents",
   "toc_cell": false,
   "toc_position": {
    "height": "calc(100% - 180px)",
    "left": "10px",
    "top": "150px",
    "width": "291.675px"
   },
   "toc_section_display": true,
   "toc_window_display": true
  }
 },
 "nbformat": 4,
 "nbformat_minor": 2
}
