{
 "cells": [
  {
   "cell_type": "markdown",
   "metadata": {},
   "source": [
    "# Исследование гипотез"
   ]
  },
  {
   "cell_type": "markdown",
   "metadata": {},
   "source": [
    "## Цель исследования:\n",
    "\n",
    "Приоритизировать гипотезы, запустить A/B-тест и проанализировать результаты."
   ]
  },
  {
   "cell_type": "markdown",
   "metadata": {},
   "source": [
    "## Ход исследования: \n",
    "\n",
    "### Часть 1. Приоритизация гипотез.\n",
    "\n",
    "В файле /datasets/hypothesis.csv 9 гипотез по увеличению выручки интернет-магазина с указанными параметрами Reach, Impact, Confidence, Effort.\n",
    "\n",
    "#### Задача:\n",
    "\n",
    "* Применить фреймворк ICE для приоритизации гипотез. Отсортировать их по убыванию приоритета.\n",
    "* Применить фреймворк RICE для приоритизации гипотез. Отсортировать их по убыванию приоритета.\n",
    "* Указать, как изменилась приоритизация гипотез при применении RICE вместо ICE. Объяснить, почему так произошло.\n"
   ]
  },
  {
   "cell_type": "markdown",
   "metadata": {},
   "source": [
    "### Часть 2. Анализ A/B-теста\n",
    "Мы провели A/B-тест и получили результаты, которые описаны в файлах /datasets/orders.csv и /datasets/visitors.csv.\n",
    "\n",
    "#### Задача:\n",
    "\n",
    "##### Проанализировать A/B-тест:\n",
    "\n",
    "* Построим график кумулятивной выручки по группам. Сделаем выводы и предположения.\n",
    "* Построим график кумулятивного среднего чека по группам. Сделаем выводы и предположения.\n",
    "* Построим график относительного изменения кумулятивного среднего чека группы B к группе A. Сделаем выводы и предположения.\n",
    "* Построим график кумулятивного среднего количества заказов на посетителя по группам. Сделаем выводы и предположения.\n",
    "* Построим график относительного изменения кумулятивного среднего количества заказов на посетителя группы B к группе A. Сделаем выводы и предположения.\n",
    "* Построим точечный график количества заказов по пользователям. Сделаем выводы и предположения.\n",
    "* Посчитаем 95-й и 99-й перцентили количества заказов на пользователя. Выберем границу для определения аномальных пользователей.\n",
    "* Построим точечный график стоимостей заказов. Сделаем выводы и предположения.\n",
    "* Посчитаем 95-й и 99-й перцентили стоимости заказов. Выберем границу для определения аномальных заказов.\n",
    "* Посчитаем статистическую значимость различий в среднем количестве заказов на посетителя между группами по «сырым» данным. Сделаем выводы и предположения.\n",
    "* Посчитаем статистическую значимость различий в среднем чеке заказа между группами по «сырым» данным. Сделаем выводы и предположения.\n",
    "* Посчитаем статистическую значимость различий в среднем количестве заказов на посетителя между группами по «очищенным» данным. Сделаем выводы и предположения.\n",
    "* Посчитайте статистическую значимость различий в среднем чеке заказа между группами по «очищенным» данным. Сделаем выводы и предположения.\n",
    "* Примем решение по результатам теста и объясним его. Варианты решений:\n",
    "1. Остановить тест, зафиксировать победу одной из групп.\n",
    "2. Остановить тест, зафиксировать отсутствие различий между группами.\n",
    "3. Продолжить тест."
   ]
  },
  {
   "cell_type": "markdown",
   "metadata": {},
   "source": [
    "# Обзор Данных"
   ]
  },
  {
   "cell_type": "code",
   "execution_count": 1,
   "metadata": {},
   "outputs": [],
   "source": [
    "# импорт библиотек\n",
    "\n",
    "import pandas as pd\n",
    "import numpy as np\n",
    "import matplotlib.pyplot as plt\n",
    "import seaborn as sns\n",
    "import datetime as dt\n",
    "import scipy.stats as stats\n",
    "import math"
   ]
  },
  {
   "cell_type": "code",
   "execution_count": 2,
   "metadata": {},
   "outputs": [
    {
     "name": "stdout",
     "output_type": "stream",
     "text": [
      "<class 'pandas.core.frame.DataFrame'>\n",
      "RangeIndex: 9 entries, 0 to 8\n",
      "Data columns (total 5 columns):\n",
      " #   Column      Non-Null Count  Dtype \n",
      "---  ------      --------------  ----- \n",
      " 0   Hypothesis  9 non-null      object\n",
      " 1   Reach       9 non-null      int64 \n",
      " 2   Impact      9 non-null      int64 \n",
      " 3   Confidence  9 non-null      int64 \n",
      " 4   Efforts     9 non-null      int64 \n",
      "dtypes: int64(4), object(1)\n",
      "memory usage: 488.0+ bytes\n",
      "None\n"
     ]
    },
    {
     "data": {
      "text/html": [
       "<div>\n",
       "<style scoped>\n",
       "    .dataframe tbody tr th:only-of-type {\n",
       "        vertical-align: middle;\n",
       "    }\n",
       "\n",
       "    .dataframe tbody tr th {\n",
       "        vertical-align: top;\n",
       "    }\n",
       "\n",
       "    .dataframe thead th {\n",
       "        text-align: right;\n",
       "    }\n",
       "</style>\n",
       "<table border=\"1\" class=\"dataframe\">\n",
       "  <thead>\n",
       "    <tr style=\"text-align: right;\">\n",
       "      <th></th>\n",
       "      <th>Hypothesis</th>\n",
       "      <th>Reach</th>\n",
       "      <th>Impact</th>\n",
       "      <th>Confidence</th>\n",
       "      <th>Efforts</th>\n",
       "    </tr>\n",
       "  </thead>\n",
       "  <tbody>\n",
       "    <tr>\n",
       "      <th>0</th>\n",
       "      <td>Добавить два новых канала привлечения трафика,...</td>\n",
       "      <td>3</td>\n",
       "      <td>10</td>\n",
       "      <td>8</td>\n",
       "      <td>6</td>\n",
       "    </tr>\n",
       "    <tr>\n",
       "      <th>1</th>\n",
       "      <td>Запустить собственную службу доставки, что сок...</td>\n",
       "      <td>2</td>\n",
       "      <td>5</td>\n",
       "      <td>4</td>\n",
       "      <td>10</td>\n",
       "    </tr>\n",
       "    <tr>\n",
       "      <th>2</th>\n",
       "      <td>Добавить блоки рекомендаций товаров на сайт ин...</td>\n",
       "      <td>8</td>\n",
       "      <td>3</td>\n",
       "      <td>7</td>\n",
       "      <td>3</td>\n",
       "    </tr>\n",
       "    <tr>\n",
       "      <th>3</th>\n",
       "      <td>Изменить структура категорий, что увеличит кон...</td>\n",
       "      <td>8</td>\n",
       "      <td>3</td>\n",
       "      <td>3</td>\n",
       "      <td>8</td>\n",
       "    </tr>\n",
       "    <tr>\n",
       "      <th>4</th>\n",
       "      <td>Изменить цвет фона главной страницы, чтобы уве...</td>\n",
       "      <td>3</td>\n",
       "      <td>1</td>\n",
       "      <td>1</td>\n",
       "      <td>1</td>\n",
       "    </tr>\n",
       "    <tr>\n",
       "      <th>5</th>\n",
       "      <td>Добавить страницу отзывов клиентов о магазине,...</td>\n",
       "      <td>3</td>\n",
       "      <td>2</td>\n",
       "      <td>2</td>\n",
       "      <td>3</td>\n",
       "    </tr>\n",
       "    <tr>\n",
       "      <th>6</th>\n",
       "      <td>Показать на главной странице баннеры с актуаль...</td>\n",
       "      <td>5</td>\n",
       "      <td>3</td>\n",
       "      <td>8</td>\n",
       "      <td>3</td>\n",
       "    </tr>\n",
       "    <tr>\n",
       "      <th>7</th>\n",
       "      <td>Добавить форму подписки на все основные страни...</td>\n",
       "      <td>10</td>\n",
       "      <td>7</td>\n",
       "      <td>8</td>\n",
       "      <td>5</td>\n",
       "    </tr>\n",
       "    <tr>\n",
       "      <th>8</th>\n",
       "      <td>Запустить акцию, дающую скидку на товар в день...</td>\n",
       "      <td>1</td>\n",
       "      <td>9</td>\n",
       "      <td>9</td>\n",
       "      <td>5</td>\n",
       "    </tr>\n",
       "  </tbody>\n",
       "</table>\n",
       "</div>"
      ],
      "text/plain": [
       "                                          Hypothesis  Reach  Impact  \\\n",
       "0  Добавить два новых канала привлечения трафика,...      3      10   \n",
       "1  Запустить собственную службу доставки, что сок...      2       5   \n",
       "2  Добавить блоки рекомендаций товаров на сайт ин...      8       3   \n",
       "3  Изменить структура категорий, что увеличит кон...      8       3   \n",
       "4  Изменить цвет фона главной страницы, чтобы уве...      3       1   \n",
       "5  Добавить страницу отзывов клиентов о магазине,...      3       2   \n",
       "6  Показать на главной странице баннеры с актуаль...      5       3   \n",
       "7  Добавить форму подписки на все основные страни...     10       7   \n",
       "8  Запустить акцию, дающую скидку на товар в день...      1       9   \n",
       "\n",
       "   Confidence  Efforts  \n",
       "0           8        6  \n",
       "1           4       10  \n",
       "2           7        3  \n",
       "3           3        8  \n",
       "4           1        1  \n",
       "5           2        3  \n",
       "6           8        3  \n",
       "7           8        5  \n",
       "8           9        5  "
      ]
     },
     "execution_count": 2,
     "metadata": {},
     "output_type": "execute_result"
    }
   ],
   "source": [
    "# чтение файлов с данными и сохранение в df\n",
    "hypothesis = pd.read_csv('/datasets/hypothesis.csv')\n",
    "print(hypothesis.info())\n",
    "hypothesis"
   ]
  },
  {
   "cell_type": "markdown",
   "metadata": {},
   "source": [
    "Структура Hypothesis:\n",
    "* Hypothesis — краткое описание гипотезы;\n",
    "* Reach — охват пользователей по 10-балльной шкале;\n",
    "* Impact — влияние на пользователей по 10-балльной шкале;\n",
    "* Confidence — уверенность в гипотезе по 10-балльной шкале;\n",
    "* Efforts — затраты ресурсов на проверку гипотезы по 10-балльной шкале. Чем больше значение Efforts, тем дороже проверка гипотезы."
   ]
  },
  {
   "cell_type": "code",
   "execution_count": 3,
   "metadata": {},
   "outputs": [
    {
     "name": "stdout",
     "output_type": "stream",
     "text": [
      "<class 'pandas.core.frame.DataFrame'>\n",
      "RangeIndex: 1197 entries, 0 to 1196\n",
      "Data columns (total 5 columns):\n",
      " #   Column         Non-Null Count  Dtype \n",
      "---  ------         --------------  ----- \n",
      " 0   transactionId  1197 non-null   int64 \n",
      " 1   visitorId      1197 non-null   int64 \n",
      " 2   date           1197 non-null   object\n",
      " 3   revenue        1197 non-null   int64 \n",
      " 4   group          1197 non-null   object\n",
      "dtypes: int64(3), object(2)\n",
      "memory usage: 46.9+ KB\n",
      "None\n"
     ]
    },
    {
     "data": {
      "text/html": [
       "<div>\n",
       "<style scoped>\n",
       "    .dataframe tbody tr th:only-of-type {\n",
       "        vertical-align: middle;\n",
       "    }\n",
       "\n",
       "    .dataframe tbody tr th {\n",
       "        vertical-align: top;\n",
       "    }\n",
       "\n",
       "    .dataframe thead th {\n",
       "        text-align: right;\n",
       "    }\n",
       "</style>\n",
       "<table border=\"1\" class=\"dataframe\">\n",
       "  <thead>\n",
       "    <tr style=\"text-align: right;\">\n",
       "      <th></th>\n",
       "      <th>transactionId</th>\n",
       "      <th>visitorId</th>\n",
       "      <th>date</th>\n",
       "      <th>revenue</th>\n",
       "      <th>group</th>\n",
       "    </tr>\n",
       "  </thead>\n",
       "  <tbody>\n",
       "    <tr>\n",
       "      <th>0</th>\n",
       "      <td>3667963787</td>\n",
       "      <td>3312258926</td>\n",
       "      <td>2019-08-15</td>\n",
       "      <td>1650</td>\n",
       "      <td>B</td>\n",
       "    </tr>\n",
       "    <tr>\n",
       "      <th>1</th>\n",
       "      <td>2804400009</td>\n",
       "      <td>3642806036</td>\n",
       "      <td>2019-08-15</td>\n",
       "      <td>730</td>\n",
       "      <td>B</td>\n",
       "    </tr>\n",
       "    <tr>\n",
       "      <th>2</th>\n",
       "      <td>2961555356</td>\n",
       "      <td>4069496402</td>\n",
       "      <td>2019-08-15</td>\n",
       "      <td>400</td>\n",
       "      <td>A</td>\n",
       "    </tr>\n",
       "    <tr>\n",
       "      <th>3</th>\n",
       "      <td>3797467345</td>\n",
       "      <td>1196621759</td>\n",
       "      <td>2019-08-15</td>\n",
       "      <td>9759</td>\n",
       "      <td>B</td>\n",
       "    </tr>\n",
       "    <tr>\n",
       "      <th>4</th>\n",
       "      <td>2282983706</td>\n",
       "      <td>2322279887</td>\n",
       "      <td>2019-08-15</td>\n",
       "      <td>2308</td>\n",
       "      <td>B</td>\n",
       "    </tr>\n",
       "    <tr>\n",
       "      <th>...</th>\n",
       "      <td>...</td>\n",
       "      <td>...</td>\n",
       "      <td>...</td>\n",
       "      <td>...</td>\n",
       "      <td>...</td>\n",
       "    </tr>\n",
       "    <tr>\n",
       "      <th>1192</th>\n",
       "      <td>2662137336</td>\n",
       "      <td>3733762160</td>\n",
       "      <td>2019-08-14</td>\n",
       "      <td>6490</td>\n",
       "      <td>B</td>\n",
       "    </tr>\n",
       "    <tr>\n",
       "      <th>1193</th>\n",
       "      <td>2203539145</td>\n",
       "      <td>370388673</td>\n",
       "      <td>2019-08-14</td>\n",
       "      <td>3190</td>\n",
       "      <td>A</td>\n",
       "    </tr>\n",
       "    <tr>\n",
       "      <th>1194</th>\n",
       "      <td>1807773912</td>\n",
       "      <td>573423106</td>\n",
       "      <td>2019-08-14</td>\n",
       "      <td>10550</td>\n",
       "      <td>A</td>\n",
       "    </tr>\n",
       "    <tr>\n",
       "      <th>1195</th>\n",
       "      <td>1947021204</td>\n",
       "      <td>1614305549</td>\n",
       "      <td>2019-08-14</td>\n",
       "      <td>100</td>\n",
       "      <td>A</td>\n",
       "    </tr>\n",
       "    <tr>\n",
       "      <th>1196</th>\n",
       "      <td>3936777065</td>\n",
       "      <td>2108080724</td>\n",
       "      <td>2019-08-15</td>\n",
       "      <td>202740</td>\n",
       "      <td>B</td>\n",
       "    </tr>\n",
       "  </tbody>\n",
       "</table>\n",
       "<p>1197 rows × 5 columns</p>\n",
       "</div>"
      ],
      "text/plain": [
       "      transactionId   visitorId        date  revenue group\n",
       "0        3667963787  3312258926  2019-08-15     1650     B\n",
       "1        2804400009  3642806036  2019-08-15      730     B\n",
       "2        2961555356  4069496402  2019-08-15      400     A\n",
       "3        3797467345  1196621759  2019-08-15     9759     B\n",
       "4        2282983706  2322279887  2019-08-15     2308     B\n",
       "...             ...         ...         ...      ...   ...\n",
       "1192     2662137336  3733762160  2019-08-14     6490     B\n",
       "1193     2203539145   370388673  2019-08-14     3190     A\n",
       "1194     1807773912   573423106  2019-08-14    10550     A\n",
       "1195     1947021204  1614305549  2019-08-14      100     A\n",
       "1196     3936777065  2108080724  2019-08-15   202740     B\n",
       "\n",
       "[1197 rows x 5 columns]"
      ]
     },
     "execution_count": 3,
     "metadata": {},
     "output_type": "execute_result"
    }
   ],
   "source": [
    "# чтение файлов с данными и сохранение в df\n",
    "orders = pd.read_csv('/datasets/orders.csv')\n",
    "print(orders.info())\n",
    "orders"
   ]
  },
  {
   "cell_type": "markdown",
   "metadata": {},
   "source": [
    "Структура orders:\n",
    "* transactionId — идентификатор заказа;\n",
    "* visitorId — идентификатор пользователя, совершившего заказ;\n",
    "* date — дата, когда был совершён заказ;\n",
    "* revenue — выручка заказа;\n",
    "* group — группа A/B-теста, в которую попал заказ."
   ]
  },
  {
   "cell_type": "code",
   "execution_count": 4,
   "metadata": {},
   "outputs": [
    {
     "name": "stdout",
     "output_type": "stream",
     "text": [
      "<class 'pandas.core.frame.DataFrame'>\n",
      "RangeIndex: 62 entries, 0 to 61\n",
      "Data columns (total 3 columns):\n",
      " #   Column    Non-Null Count  Dtype \n",
      "---  ------    --------------  ----- \n",
      " 0   date      62 non-null     object\n",
      " 1   group     62 non-null     object\n",
      " 2   visitors  62 non-null     int64 \n",
      "dtypes: int64(1), object(2)\n",
      "memory usage: 1.6+ KB\n",
      "None\n"
     ]
    },
    {
     "data": {
      "text/html": [
       "<div>\n",
       "<style scoped>\n",
       "    .dataframe tbody tr th:only-of-type {\n",
       "        vertical-align: middle;\n",
       "    }\n",
       "\n",
       "    .dataframe tbody tr th {\n",
       "        vertical-align: top;\n",
       "    }\n",
       "\n",
       "    .dataframe thead th {\n",
       "        text-align: right;\n",
       "    }\n",
       "</style>\n",
       "<table border=\"1\" class=\"dataframe\">\n",
       "  <thead>\n",
       "    <tr style=\"text-align: right;\">\n",
       "      <th></th>\n",
       "      <th>date</th>\n",
       "      <th>group</th>\n",
       "      <th>visitors</th>\n",
       "    </tr>\n",
       "  </thead>\n",
       "  <tbody>\n",
       "    <tr>\n",
       "      <th>0</th>\n",
       "      <td>2019-08-01</td>\n",
       "      <td>A</td>\n",
       "      <td>719</td>\n",
       "    </tr>\n",
       "    <tr>\n",
       "      <th>1</th>\n",
       "      <td>2019-08-02</td>\n",
       "      <td>A</td>\n",
       "      <td>619</td>\n",
       "    </tr>\n",
       "    <tr>\n",
       "      <th>2</th>\n",
       "      <td>2019-08-03</td>\n",
       "      <td>A</td>\n",
       "      <td>507</td>\n",
       "    </tr>\n",
       "    <tr>\n",
       "      <th>3</th>\n",
       "      <td>2019-08-04</td>\n",
       "      <td>A</td>\n",
       "      <td>717</td>\n",
       "    </tr>\n",
       "    <tr>\n",
       "      <th>4</th>\n",
       "      <td>2019-08-05</td>\n",
       "      <td>A</td>\n",
       "      <td>756</td>\n",
       "    </tr>\n",
       "    <tr>\n",
       "      <th>...</th>\n",
       "      <td>...</td>\n",
       "      <td>...</td>\n",
       "      <td>...</td>\n",
       "    </tr>\n",
       "    <tr>\n",
       "      <th>57</th>\n",
       "      <td>2019-08-27</td>\n",
       "      <td>B</td>\n",
       "      <td>720</td>\n",
       "    </tr>\n",
       "    <tr>\n",
       "      <th>58</th>\n",
       "      <td>2019-08-28</td>\n",
       "      <td>B</td>\n",
       "      <td>654</td>\n",
       "    </tr>\n",
       "    <tr>\n",
       "      <th>59</th>\n",
       "      <td>2019-08-29</td>\n",
       "      <td>B</td>\n",
       "      <td>531</td>\n",
       "    </tr>\n",
       "    <tr>\n",
       "      <th>60</th>\n",
       "      <td>2019-08-30</td>\n",
       "      <td>B</td>\n",
       "      <td>490</td>\n",
       "    </tr>\n",
       "    <tr>\n",
       "      <th>61</th>\n",
       "      <td>2019-08-31</td>\n",
       "      <td>B</td>\n",
       "      <td>718</td>\n",
       "    </tr>\n",
       "  </tbody>\n",
       "</table>\n",
       "<p>62 rows × 3 columns</p>\n",
       "</div>"
      ],
      "text/plain": [
       "          date group  visitors\n",
       "0   2019-08-01     A       719\n",
       "1   2019-08-02     A       619\n",
       "2   2019-08-03     A       507\n",
       "3   2019-08-04     A       717\n",
       "4   2019-08-05     A       756\n",
       "..         ...   ...       ...\n",
       "57  2019-08-27     B       720\n",
       "58  2019-08-28     B       654\n",
       "59  2019-08-29     B       531\n",
       "60  2019-08-30     B       490\n",
       "61  2019-08-31     B       718\n",
       "\n",
       "[62 rows x 3 columns]"
      ]
     },
     "execution_count": 4,
     "metadata": {},
     "output_type": "execute_result"
    }
   ],
   "source": [
    "# чтение файлов с данными и сохранение в df\n",
    "visitors = pd.read_csv('/datasets/visitors.csv')\n",
    "print(visitors.info())\n",
    "visitors"
   ]
  },
  {
   "cell_type": "markdown",
   "metadata": {},
   "source": [
    "Сруктура visitors: \n",
    "* date — дата;\n",
    "* group — группа A/B-теста;\n",
    "* visitors — количество пользователей в указанную дату в указанной группе A/B-теста"
   ]
  },
  {
   "cell_type": "markdown",
   "metadata": {},
   "source": [
    "# Вывод \n",
    "\n",
    "Открыли файлы с данными:\n",
    "/datasets/hypothesis.csv\n",
    "/datasets/orders.csv\n",
    "/datasets/visitors.csv\n",
    "\n",
    "С помощью метода info() узнали данные о таблице. На первый взгляд пропусков нет,но с толбцы с датами имеют некорректный вид.\n",
    "Так же проверим данные на наличие дубликатов и приведем наименование столбцов к единому стилю"
   ]
  },
  {
   "cell_type": "markdown",
   "metadata": {},
   "source": [
    "# Предобработка данных"
   ]
  },
  {
   "cell_type": "code",
   "execution_count": 5,
   "metadata": {},
   "outputs": [
    {
     "data": {
      "text/html": [
       "<div>\n",
       "<style scoped>\n",
       "    .dataframe tbody tr th:only-of-type {\n",
       "        vertical-align: middle;\n",
       "    }\n",
       "\n",
       "    .dataframe tbody tr th {\n",
       "        vertical-align: top;\n",
       "    }\n",
       "\n",
       "    .dataframe thead th {\n",
       "        text-align: right;\n",
       "    }\n",
       "</style>\n",
       "<table border=\"1\" class=\"dataframe\">\n",
       "  <thead>\n",
       "    <tr style=\"text-align: right;\">\n",
       "      <th></th>\n",
       "      <th>transaction_id</th>\n",
       "      <th>visitor_id</th>\n",
       "      <th>date</th>\n",
       "      <th>revenue</th>\n",
       "      <th>group</th>\n",
       "    </tr>\n",
       "  </thead>\n",
       "  <tbody>\n",
       "    <tr>\n",
       "      <th>0</th>\n",
       "      <td>3667963787</td>\n",
       "      <td>3312258926</td>\n",
       "      <td>2019-08-15</td>\n",
       "      <td>1650</td>\n",
       "      <td>B</td>\n",
       "    </tr>\n",
       "    <tr>\n",
       "      <th>1</th>\n",
       "      <td>2804400009</td>\n",
       "      <td>3642806036</td>\n",
       "      <td>2019-08-15</td>\n",
       "      <td>730</td>\n",
       "      <td>B</td>\n",
       "    </tr>\n",
       "    <tr>\n",
       "      <th>2</th>\n",
       "      <td>2961555356</td>\n",
       "      <td>4069496402</td>\n",
       "      <td>2019-08-15</td>\n",
       "      <td>400</td>\n",
       "      <td>A</td>\n",
       "    </tr>\n",
       "    <tr>\n",
       "      <th>3</th>\n",
       "      <td>3797467345</td>\n",
       "      <td>1196621759</td>\n",
       "      <td>2019-08-15</td>\n",
       "      <td>9759</td>\n",
       "      <td>B</td>\n",
       "    </tr>\n",
       "    <tr>\n",
       "      <th>4</th>\n",
       "      <td>2282983706</td>\n",
       "      <td>2322279887</td>\n",
       "      <td>2019-08-15</td>\n",
       "      <td>2308</td>\n",
       "      <td>B</td>\n",
       "    </tr>\n",
       "    <tr>\n",
       "      <th>...</th>\n",
       "      <td>...</td>\n",
       "      <td>...</td>\n",
       "      <td>...</td>\n",
       "      <td>...</td>\n",
       "      <td>...</td>\n",
       "    </tr>\n",
       "    <tr>\n",
       "      <th>1192</th>\n",
       "      <td>2662137336</td>\n",
       "      <td>3733762160</td>\n",
       "      <td>2019-08-14</td>\n",
       "      <td>6490</td>\n",
       "      <td>B</td>\n",
       "    </tr>\n",
       "    <tr>\n",
       "      <th>1193</th>\n",
       "      <td>2203539145</td>\n",
       "      <td>370388673</td>\n",
       "      <td>2019-08-14</td>\n",
       "      <td>3190</td>\n",
       "      <td>A</td>\n",
       "    </tr>\n",
       "    <tr>\n",
       "      <th>1194</th>\n",
       "      <td>1807773912</td>\n",
       "      <td>573423106</td>\n",
       "      <td>2019-08-14</td>\n",
       "      <td>10550</td>\n",
       "      <td>A</td>\n",
       "    </tr>\n",
       "    <tr>\n",
       "      <th>1195</th>\n",
       "      <td>1947021204</td>\n",
       "      <td>1614305549</td>\n",
       "      <td>2019-08-14</td>\n",
       "      <td>100</td>\n",
       "      <td>A</td>\n",
       "    </tr>\n",
       "    <tr>\n",
       "      <th>1196</th>\n",
       "      <td>3936777065</td>\n",
       "      <td>2108080724</td>\n",
       "      <td>2019-08-15</td>\n",
       "      <td>202740</td>\n",
       "      <td>B</td>\n",
       "    </tr>\n",
       "  </tbody>\n",
       "</table>\n",
       "<p>1197 rows × 5 columns</p>\n",
       "</div>"
      ],
      "text/plain": [
       "      transaction_id  visitor_id        date  revenue group\n",
       "0         3667963787  3312258926  2019-08-15     1650     B\n",
       "1         2804400009  3642806036  2019-08-15      730     B\n",
       "2         2961555356  4069496402  2019-08-15      400     A\n",
       "3         3797467345  1196621759  2019-08-15     9759     B\n",
       "4         2282983706  2322279887  2019-08-15     2308     B\n",
       "...              ...         ...         ...      ...   ...\n",
       "1192      2662137336  3733762160  2019-08-14     6490     B\n",
       "1193      2203539145   370388673  2019-08-14     3190     A\n",
       "1194      1807773912   573423106  2019-08-14    10550     A\n",
       "1195      1947021204  1614305549  2019-08-14      100     A\n",
       "1196      3936777065  2108080724  2019-08-15   202740     B\n",
       "\n",
       "[1197 rows x 5 columns]"
      ]
     },
     "execution_count": 5,
     "metadata": {},
     "output_type": "execute_result"
    }
   ],
   "source": [
    "#приведем наименование столбцов к единому стилю\n",
    "\n",
    "hypothesis.columns = hypothesis.columns.str.lower()\n",
    "\n",
    "orders.columns = [x.replace('Id', '_id') for x in orders.columns]\n",
    "orders"
   ]
  },
  {
   "cell_type": "code",
   "execution_count": 6,
   "metadata": {},
   "outputs": [
    {
     "data": {
      "text/html": [
       "<div>\n",
       "<style scoped>\n",
       "    .dataframe tbody tr th:only-of-type {\n",
       "        vertical-align: middle;\n",
       "    }\n",
       "\n",
       "    .dataframe tbody tr th {\n",
       "        vertical-align: top;\n",
       "    }\n",
       "\n",
       "    .dataframe thead th {\n",
       "        text-align: right;\n",
       "    }\n",
       "</style>\n",
       "<table border=\"1\" class=\"dataframe\">\n",
       "  <thead>\n",
       "    <tr style=\"text-align: right;\">\n",
       "      <th></th>\n",
       "      <th>transaction_id</th>\n",
       "      <th>group</th>\n",
       "    </tr>\n",
       "  </thead>\n",
       "  <tbody>\n",
       "  </tbody>\n",
       "</table>\n",
       "</div>"
      ],
      "text/plain": [
       "Empty DataFrame\n",
       "Columns: [transaction_id, group]\n",
       "Index: []"
      ]
     },
     "execution_count": 6,
     "metadata": {},
     "output_type": "execute_result"
    }
   ],
   "source": [
    "O = orders.groupby('transaction_id')['group'].nunique().reset_index()\n",
    "O = O[O['group'] > 1]\n",
    "O"
   ]
  },
  {
   "cell_type": "code",
   "execution_count": 7,
   "metadata": {},
   "outputs": [
    {
     "name": "stdout",
     "output_type": "stream",
     "text": [
      "hypothesis    0\n",
      "reach         0\n",
      "impact        0\n",
      "confidence    0\n",
      "efforts       0\n",
      "dtype: int64\n",
      "\n",
      "transaction_id    0\n",
      "visitor_id        0\n",
      "date              0\n",
      "revenue           0\n",
      "group             0\n",
      "dtype: int64\n",
      "\n",
      "date        0\n",
      "group       0\n",
      "visitors    0\n",
      "dtype: int64\n"
     ]
    }
   ],
   "source": [
    "# Проверим точно нет ли пропусков в данных\n",
    "print(hypothesis.isnull().sum())\n",
    "print()\n",
    "print(orders.isnull().sum())\n",
    "print()\n",
    "print(visitors.isnull().sum())"
   ]
  },
  {
   "cell_type": "code",
   "execution_count": 8,
   "metadata": {},
   "outputs": [
    {
     "name": "stdout",
     "output_type": "stream",
     "text": [
      "0\n",
      "\n",
      "0\n",
      "\n",
      "0\n"
     ]
    }
   ],
   "source": [
    "# проверим данные таблиц на дубликаты\n",
    "print(hypothesis.duplicated().sum())\n",
    "print()\n",
    "print(orders.duplicated().sum())\n",
    "print()\n",
    "print(visitors.duplicated().sum())"
   ]
  },
  {
   "cell_type": "code",
   "execution_count": 9,
   "metadata": {},
   "outputs": [
    {
     "name": "stdout",
     "output_type": "stream",
     "text": [
      "<class 'pandas.core.frame.DataFrame'>\n",
      "RangeIndex: 62 entries, 0 to 61\n",
      "Data columns (total 3 columns):\n",
      " #   Column    Non-Null Count  Dtype         \n",
      "---  ------    --------------  -----         \n",
      " 0   date      62 non-null     datetime64[ns]\n",
      " 1   group     62 non-null     object        \n",
      " 2   visitors  62 non-null     int64         \n",
      "dtypes: datetime64[ns](1), int64(1), object(1)\n",
      "memory usage: 1.6+ KB\n",
      "None\n",
      "\n",
      "<class 'pandas.core.frame.DataFrame'>\n",
      "RangeIndex: 1197 entries, 0 to 1196\n",
      "Data columns (total 5 columns):\n",
      " #   Column          Non-Null Count  Dtype         \n",
      "---  ------          --------------  -----         \n",
      " 0   transaction_id  1197 non-null   int64         \n",
      " 1   visitor_id      1197 non-null   int64         \n",
      " 2   date            1197 non-null   datetime64[ns]\n",
      " 3   revenue         1197 non-null   int64         \n",
      " 4   group           1197 non-null   object        \n",
      "dtypes: datetime64[ns](1), int64(3), object(1)\n",
      "memory usage: 46.9+ KB\n",
      "None\n"
     ]
    }
   ],
   "source": [
    "# изменим тип данных для столбцов с датами\n",
    "visitors['date'] = pd.to_datetime(visitors['date'])\n",
    "orders['date'] = pd.to_datetime(orders['date'])\n",
    "\n",
    "print(visitors.info())\n",
    "print()\n",
    "print(orders.info())"
   ]
  },
  {
   "cell_type": "markdown",
   "metadata": {},
   "source": [
    "# Вывод \n",
    "\n",
    "Провели предобработку данных,удостоверились в том, что пропуски отсутсвуют,привели дату к правильному формату, проверили данные на наличие дубликатов,таковых не выяили. Привели названия столбцов к правильному стилю"
   ]
  },
  {
   "cell_type": "markdown",
   "metadata": {},
   "source": [
    "# Приоритизация гипотез."
   ]
  },
  {
   "cell_type": "markdown",
   "metadata": {},
   "source": [
    "Применим фреймворк ICE для приоритизации гипотез. Отсортируем их по убыванию приоритета."
   ]
  },
  {
   "cell_type": "code",
   "execution_count": 10,
   "metadata": {},
   "outputs": [
    {
     "data": {
      "text/html": [
       "<div>\n",
       "<style scoped>\n",
       "    .dataframe tbody tr th:only-of-type {\n",
       "        vertical-align: middle;\n",
       "    }\n",
       "\n",
       "    .dataframe tbody tr th {\n",
       "        vertical-align: top;\n",
       "    }\n",
       "\n",
       "    .dataframe thead th {\n",
       "        text-align: right;\n",
       "    }\n",
       "</style>\n",
       "<table border=\"1\" class=\"dataframe\">\n",
       "  <thead>\n",
       "    <tr style=\"text-align: right;\">\n",
       "      <th></th>\n",
       "      <th>hypothesis</th>\n",
       "      <th>ice</th>\n",
       "    </tr>\n",
       "  </thead>\n",
       "  <tbody>\n",
       "    <tr>\n",
       "      <th>8</th>\n",
       "      <td>Запустить акцию, дающую скидку на товар в день рождения</td>\n",
       "      <td>16.20</td>\n",
       "    </tr>\n",
       "    <tr>\n",
       "      <th>0</th>\n",
       "      <td>Добавить два новых канала привлечения трафика, что позволит привлекать на 30% больше пользователей</td>\n",
       "      <td>13.33</td>\n",
       "    </tr>\n",
       "    <tr>\n",
       "      <th>7</th>\n",
       "      <td>Добавить форму подписки на все основные страницы, чтобы собрать базу клиентов для email-рассылок</td>\n",
       "      <td>11.20</td>\n",
       "    </tr>\n",
       "    <tr>\n",
       "      <th>6</th>\n",
       "      <td>Показать на главной странице баннеры с актуальными акциями и распродажами, чтобы увеличить конверсию</td>\n",
       "      <td>8.00</td>\n",
       "    </tr>\n",
       "    <tr>\n",
       "      <th>2</th>\n",
       "      <td>Добавить блоки рекомендаций товаров на сайт интернет магазина, чтобы повысить конверсию и средний чек заказа</td>\n",
       "      <td>7.00</td>\n",
       "    </tr>\n",
       "    <tr>\n",
       "      <th>1</th>\n",
       "      <td>Запустить собственную службу доставки, что сократит срок доставки заказов</td>\n",
       "      <td>2.00</td>\n",
       "    </tr>\n",
       "    <tr>\n",
       "      <th>5</th>\n",
       "      <td>Добавить страницу отзывов клиентов о магазине, что позволит увеличить количество заказов</td>\n",
       "      <td>1.33</td>\n",
       "    </tr>\n",
       "    <tr>\n",
       "      <th>3</th>\n",
       "      <td>Изменить структура категорий, что увеличит конверсию, т.к. пользователи быстрее найдут нужный товар</td>\n",
       "      <td>1.12</td>\n",
       "    </tr>\n",
       "    <tr>\n",
       "      <th>4</th>\n",
       "      <td>Изменить цвет фона главной страницы, чтобы увеличить вовлеченность пользователей</td>\n",
       "      <td>1.00</td>\n",
       "    </tr>\n",
       "  </tbody>\n",
       "</table>\n",
       "</div>"
      ],
      "text/plain": [
       "                                                                                                     hypothesis  \\\n",
       "8                                                       Запустить акцию, дающую скидку на товар в день рождения   \n",
       "0            Добавить два новых канала привлечения трафика, что позволит привлекать на 30% больше пользователей   \n",
       "7              Добавить форму подписки на все основные страницы, чтобы собрать базу клиентов для email-рассылок   \n",
       "6          Показать на главной странице баннеры с актуальными акциями и распродажами, чтобы увеличить конверсию   \n",
       "2  Добавить блоки рекомендаций товаров на сайт интернет магазина, чтобы повысить конверсию и средний чек заказа   \n",
       "1                                     Запустить собственную службу доставки, что сократит срок доставки заказов   \n",
       "5                      Добавить страницу отзывов клиентов о магазине, что позволит увеличить количество заказов   \n",
       "3           Изменить структура категорий, что увеличит конверсию, т.к. пользователи быстрее найдут нужный товар   \n",
       "4                              Изменить цвет фона главной страницы, чтобы увеличить вовлеченность пользователей   \n",
       "\n",
       "     ice  \n",
       "8  16.20  \n",
       "0  13.33  \n",
       "7  11.20  \n",
       "6   8.00  \n",
       "2   7.00  \n",
       "1   2.00  \n",
       "5   1.33  \n",
       "3   1.12  \n",
       "4   1.00  "
      ]
     },
     "execution_count": 10,
     "metadata": {},
     "output_type": "execute_result"
    }
   ],
   "source": [
    "hypothesis['ice'] = hypothesis['impact'] * hypothesis['confidence'] / hypothesis['efforts']\n",
    "\n",
    "pd.set_option('max_colwidth', 200)\n",
    "\n",
    "round(hypothesis[['hypothesis', 'ice']].sort_values(by='ice', ascending=False),2)"
   ]
  },
  {
   "cell_type": "code",
   "execution_count": 11,
   "metadata": {},
   "outputs": [
    {
     "data": {
      "image/png": "[encoded data removed]",
      "text/plain": [
       "<Figure size 432x288 with 1 Axes>"
      ]
     },
     "metadata": {
      "needs_background": "light"
     },
     "output_type": "display_data"
    }
   ],
   "source": [
    "hypothesis[['hypothesis', 'ice']].set_index('hypothesis').sort_values(by='ice', ascending=False).plot(kind='barh',grid='True')\n",
    "plt.title('Приоритизация')\n",
    "plt.xlabel('ice')\n",
    "plt.ylabel('гипотезы')\n",
    "plt.show()\n"
   ]
  },
  {
   "cell_type": "markdown",
   "metadata": {},
   "source": [
    "Глядя на гистограмму можем заметить какие гипотезы являются более перспективными. По методу ICE самой перспективной считается \"Запустить акцию,дающую скидку на товар в день рождения\""
   ]
  },
  {
   "cell_type": "markdown",
   "metadata": {},
   "source": [
    "Применим фреймворк RICE для приоритизации гипотез. Отсортируем их по убыванию приоритета.\n",
    "В отличии от ICE здесь добавляется 4 компонент Reach (скольких пользователей затронет изменение, которое мы хотим внести)"
   ]
  },
  {
   "cell_type": "code",
   "execution_count": 12,
   "metadata": {},
   "outputs": [
    {
     "data": {
      "text/html": [
       "<div>\n",
       "<style scoped>\n",
       "    .dataframe tbody tr th:only-of-type {\n",
       "        vertical-align: middle;\n",
       "    }\n",
       "\n",
       "    .dataframe tbody tr th {\n",
       "        vertical-align: top;\n",
       "    }\n",
       "\n",
       "    .dataframe thead th {\n",
       "        text-align: right;\n",
       "    }\n",
       "</style>\n",
       "<table border=\"1\" class=\"dataframe\">\n",
       "  <thead>\n",
       "    <tr style=\"text-align: right;\">\n",
       "      <th></th>\n",
       "      <th>hypothesis</th>\n",
       "      <th>rice</th>\n",
       "    </tr>\n",
       "  </thead>\n",
       "  <tbody>\n",
       "    <tr>\n",
       "      <th>7</th>\n",
       "      <td>Добавить форму подписки на все основные страницы, чтобы собрать базу клиентов для email-рассылок</td>\n",
       "      <td>112.0</td>\n",
       "    </tr>\n",
       "    <tr>\n",
       "      <th>2</th>\n",
       "      <td>Добавить блоки рекомендаций товаров на сайт интернет магазина, чтобы повысить конверсию и средний чек заказа</td>\n",
       "      <td>56.0</td>\n",
       "    </tr>\n",
       "    <tr>\n",
       "      <th>0</th>\n",
       "      <td>Добавить два новых канала привлечения трафика, что позволит привлекать на 30% больше пользователей</td>\n",
       "      <td>40.0</td>\n",
       "    </tr>\n",
       "    <tr>\n",
       "      <th>6</th>\n",
       "      <td>Показать на главной странице баннеры с актуальными акциями и распродажами, чтобы увеличить конверсию</td>\n",
       "      <td>40.0</td>\n",
       "    </tr>\n",
       "    <tr>\n",
       "      <th>8</th>\n",
       "      <td>Запустить акцию, дающую скидку на товар в день рождения</td>\n",
       "      <td>16.2</td>\n",
       "    </tr>\n",
       "    <tr>\n",
       "      <th>3</th>\n",
       "      <td>Изменить структура категорий, что увеличит конверсию, т.к. пользователи быстрее найдут нужный товар</td>\n",
       "      <td>9.0</td>\n",
       "    </tr>\n",
       "    <tr>\n",
       "      <th>1</th>\n",
       "      <td>Запустить собственную службу доставки, что сократит срок доставки заказов</td>\n",
       "      <td>4.0</td>\n",
       "    </tr>\n",
       "    <tr>\n",
       "      <th>5</th>\n",
       "      <td>Добавить страницу отзывов клиентов о магазине, что позволит увеличить количество заказов</td>\n",
       "      <td>4.0</td>\n",
       "    </tr>\n",
       "    <tr>\n",
       "      <th>4</th>\n",
       "      <td>Изменить цвет фона главной страницы, чтобы увеличить вовлеченность пользователей</td>\n",
       "      <td>3.0</td>\n",
       "    </tr>\n",
       "  </tbody>\n",
       "</table>\n",
       "</div>"
      ],
      "text/plain": [
       "                                                                                                     hypothesis  \\\n",
       "7              Добавить форму подписки на все основные страницы, чтобы собрать базу клиентов для email-рассылок   \n",
       "2  Добавить блоки рекомендаций товаров на сайт интернет магазина, чтобы повысить конверсию и средний чек заказа   \n",
       "0            Добавить два новых канала привлечения трафика, что позволит привлекать на 30% больше пользователей   \n",
       "6          Показать на главной странице баннеры с актуальными акциями и распродажами, чтобы увеличить конверсию   \n",
       "8                                                       Запустить акцию, дающую скидку на товар в день рождения   \n",
       "3           Изменить структура категорий, что увеличит конверсию, т.к. пользователи быстрее найдут нужный товар   \n",
       "1                                     Запустить собственную службу доставки, что сократит срок доставки заказов   \n",
       "5                      Добавить страницу отзывов клиентов о магазине, что позволит увеличить количество заказов   \n",
       "4                              Изменить цвет фона главной страницы, чтобы увеличить вовлеченность пользователей   \n",
       "\n",
       "    rice  \n",
       "7  112.0  \n",
       "2   56.0  \n",
       "0   40.0  \n",
       "6   40.0  \n",
       "8   16.2  \n",
       "3    9.0  \n",
       "1    4.0  \n",
       "5    4.0  \n",
       "4    3.0  "
      ]
     },
     "execution_count": 12,
     "metadata": {},
     "output_type": "execute_result"
    }
   ],
   "source": [
    "hypothesis['rice'] = hypothesis['reach'] * hypothesis['impact'] * hypothesis['confidence'] / hypothesis['efforts']\n",
    "\n",
    "hypothesis[['hypothesis', 'rice']].sort_values(by='rice', ascending=False)"
   ]
  },
  {
   "cell_type": "code",
   "execution_count": 13,
   "metadata": {},
   "outputs": [
    {
     "data": {
      "image/png": "[encoded data removed]",
      "text/plain": [
       "<Figure size 432x288 with 1 Axes>"
      ]
     },
     "metadata": {
      "needs_background": "light"
     },
     "output_type": "display_data"
    }
   ],
   "source": [
    "hypothesis[['hypothesis', 'rice']].set_index('hypothesis').sort_values(by='rice', ascending=False).plot(kind='barh',grid='True')\n",
    "plt.title('Приоритизация')\n",
    "plt.xlabel('rice')\n",
    "plt.ylabel('гипотезы')\n",
    "plt.show()"
   ]
  },
  {
   "cell_type": "markdown",
   "metadata": {},
   "source": [
    "Глядя на гистограмму можем заметить какие гипотезы являются более перспективными. По методу ICE самой перспективной считалась \"Запустить акцию,дающую скидку на товар в день рождения\",но если учитывать скольких пользователей это затронет с помощью метода RICE, в лидерах другая гипотеза,но стоит заметить что ТОП 5 гипотез остались теми же, но поменялись местами друг с другом"
   ]
  },
  {
   "cell_type": "markdown",
   "metadata": {},
   "source": [
    "# Анализ A/B-теста"
   ]
  },
  {
   "cell_type": "markdown",
   "metadata": {},
   "source": [
    "###### Построим график кумулятивной выручки по группам. Сделаем выводы и предположения.\n",
    "Чтобы построить графики, нужно собрать кумулятивные данные. Объявим датафрейм cumulativeData со столбцами: \n",
    "* date — дата;\n",
    "* group — группа A/B-теста (A или B);\n",
    "* orders — кумулятивное количество заказов на указанную дату в указанной группе;\n",
    "* buyers — кумулятивное количество пользователей, совершивших хотя бы один заказ, на указанную дату в указанной группе;\n",
    "* revenue — кумулятивная выручка на указанную дату в указанной группе (средний чек);\n",
    "* visitors — кумулятивное количество посетителей интернет-магазина на указанную дату в определённой группе."
   ]
  },
  {
   "cell_type": "code",
   "execution_count": 14,
   "metadata": {},
   "outputs": [
    {
     "data": {
      "text/html": [
       "<div>\n",
       "<style scoped>\n",
       "    .dataframe tbody tr th:only-of-type {\n",
       "        vertical-align: middle;\n",
       "    }\n",
       "\n",
       "    .dataframe tbody tr th {\n",
       "        vertical-align: top;\n",
       "    }\n",
       "\n",
       "    .dataframe thead th {\n",
       "        text-align: right;\n",
       "    }\n",
       "</style>\n",
       "<table border=\"1\" class=\"dataframe\">\n",
       "  <thead>\n",
       "    <tr style=\"text-align: right;\">\n",
       "      <th></th>\n",
       "      <th>date</th>\n",
       "      <th>group</th>\n",
       "      <th>orders</th>\n",
       "      <th>buyers</th>\n",
       "      <th>revenue</th>\n",
       "      <th>visitors</th>\n",
       "    </tr>\n",
       "  </thead>\n",
       "  <tbody>\n",
       "    <tr>\n",
       "      <th>0</th>\n",
       "      <td>2019-08-01</td>\n",
       "      <td>A</td>\n",
       "      <td>24</td>\n",
       "      <td>20</td>\n",
       "      <td>148579</td>\n",
       "      <td>719</td>\n",
       "    </tr>\n",
       "    <tr>\n",
       "      <th>1</th>\n",
       "      <td>2019-08-01</td>\n",
       "      <td>B</td>\n",
       "      <td>21</td>\n",
       "      <td>20</td>\n",
       "      <td>101217</td>\n",
       "      <td>713</td>\n",
       "    </tr>\n",
       "    <tr>\n",
       "      <th>2</th>\n",
       "      <td>2019-08-02</td>\n",
       "      <td>A</td>\n",
       "      <td>44</td>\n",
       "      <td>38</td>\n",
       "      <td>242401</td>\n",
       "      <td>1338</td>\n",
       "    </tr>\n",
       "    <tr>\n",
       "      <th>3</th>\n",
       "      <td>2019-08-02</td>\n",
       "      <td>B</td>\n",
       "      <td>45</td>\n",
       "      <td>43</td>\n",
       "      <td>266748</td>\n",
       "      <td>1294</td>\n",
       "    </tr>\n",
       "    <tr>\n",
       "      <th>4</th>\n",
       "      <td>2019-08-03</td>\n",
       "      <td>A</td>\n",
       "      <td>68</td>\n",
       "      <td>62</td>\n",
       "      <td>354874</td>\n",
       "      <td>1845</td>\n",
       "    </tr>\n",
       "    <tr>\n",
       "      <th>...</th>\n",
       "      <td>...</td>\n",
       "      <td>...</td>\n",
       "      <td>...</td>\n",
       "      <td>...</td>\n",
       "      <td>...</td>\n",
       "      <td>...</td>\n",
       "    </tr>\n",
       "    <tr>\n",
       "      <th>57</th>\n",
       "      <td>2019-08-29</td>\n",
       "      <td>B</td>\n",
       "      <td>596</td>\n",
       "      <td>544</td>\n",
       "      <td>5559398</td>\n",
       "      <td>17708</td>\n",
       "    </tr>\n",
       "    <tr>\n",
       "      <th>58</th>\n",
       "      <td>2019-08-30</td>\n",
       "      <td>A</td>\n",
       "      <td>545</td>\n",
       "      <td>493</td>\n",
       "      <td>4022970</td>\n",
       "      <td>18037</td>\n",
       "    </tr>\n",
       "    <tr>\n",
       "      <th>59</th>\n",
       "      <td>2019-08-30</td>\n",
       "      <td>B</td>\n",
       "      <td>620</td>\n",
       "      <td>567</td>\n",
       "      <td>5774631</td>\n",
       "      <td>18198</td>\n",
       "    </tr>\n",
       "    <tr>\n",
       "      <th>60</th>\n",
       "      <td>2019-08-31</td>\n",
       "      <td>A</td>\n",
       "      <td>557</td>\n",
       "      <td>503</td>\n",
       "      <td>4084803</td>\n",
       "      <td>18736</td>\n",
       "    </tr>\n",
       "    <tr>\n",
       "      <th>61</th>\n",
       "      <td>2019-08-31</td>\n",
       "      <td>B</td>\n",
       "      <td>640</td>\n",
       "      <td>586</td>\n",
       "      <td>5907760</td>\n",
       "      <td>18916</td>\n",
       "    </tr>\n",
       "  </tbody>\n",
       "</table>\n",
       "<p>62 rows × 6 columns</p>\n",
       "</div>"
      ],
      "text/plain": [
       "         date group  orders  buyers  revenue  visitors\n",
       "0  2019-08-01     A      24      20   148579       719\n",
       "1  2019-08-01     B      21      20   101217       713\n",
       "2  2019-08-02     A      44      38   242401      1338\n",
       "3  2019-08-02     B      45      43   266748      1294\n",
       "4  2019-08-03     A      68      62   354874      1845\n",
       "..        ...   ...     ...     ...      ...       ...\n",
       "57 2019-08-29     B     596     544  5559398     17708\n",
       "58 2019-08-30     A     545     493  4022970     18037\n",
       "59 2019-08-30     B     620     567  5774631     18198\n",
       "60 2019-08-31     A     557     503  4084803     18736\n",
       "61 2019-08-31     B     640     586  5907760     18916\n",
       "\n",
       "[62 rows x 6 columns]"
      ]
     },
     "execution_count": 14,
     "metadata": {},
     "output_type": "execute_result"
    }
   ],
   "source": [
    "# создаем массив уникальных пар значений дат и групп теста\n",
    "datesGroups = orders[['date','group']].drop_duplicates()\n",
    "\n",
    "# получаем агрегированные кумулятивные по дням данные о заказах \n",
    "ordersAggregated = datesGroups.apply(\n",
    "    lambda x: orders[np.logical_and(orders['date'] <= x['date'], orders['group'] == x['group'])\n",
    "                    ]\n",
    "    .agg(\n",
    "        {'date' : 'max', \n",
    "         'group' : 'max', \n",
    "         'transaction_id' : 'nunique', \n",
    "         'visitor_id' : 'nunique', \n",
    "         'revenue' : 'sum'}), axis=1).sort_values(by=['date','group'])\n",
    "\n",
    "# получаем агрегированные кумулятивные по дням данные о посетителях интернет-магазина \n",
    "visitorsAggregated = datesGroups.apply(\n",
    "    lambda x: visitors[np.logical_and(visitors['date'] <= x['date'], visitors['group'] == x['group'])\n",
    "                      ]\n",
    "    .agg(\n",
    "        {'date' : 'max', \n",
    "         'group' : 'max', \n",
    "         'visitors' : 'sum'}), axis=1).sort_values(by=['date','group'])\n",
    "\n",
    "# объединяем кумулятивные данные в одной таблице и присваиваем ее столбцам понятные названия\n",
    "cumulativeData = ordersAggregated.merge(visitorsAggregated, left_on=['date', 'group'], right_on=['date', 'group'])\n",
    "cumulativeData.columns = ['date', 'group', 'orders', 'buyers', 'revenue', 'visitors']\n",
    "cumulativeData"
   ]
  },
  {
   "cell_type": "markdown",
   "metadata": {},
   "source": [
    "Убедимся корректно ли был создан датафрейм cumulativeData, проверим совпадает ли минимальная и максимальная даты с исходными данными:"
   ]
  },
  {
   "cell_type": "code",
   "execution_count": 15,
   "metadata": {},
   "outputs": [
    {
     "name": "stdout",
     "output_type": "stream",
     "text": [
      "Минимальная дата заказа: 2019-08-01 00:00:00\n",
      "\n",
      "Максимальная дата заказа: 2019-08-31 00:00:00\n"
     ]
    }
   ],
   "source": [
    "print('Минимальная дата заказа:',orders['date'].min())\n",
    "print()\n",
    "print('Максимальная дата заказа:',orders['date'].max())"
   ]
  },
  {
   "cell_type": "code",
   "execution_count": 16,
   "metadata": {},
   "outputs": [
    {
     "name": "stdout",
     "output_type": "stream",
     "text": [
      "Минимальная дата заказа: 2019-08-01 00:00:00\n",
      "\n",
      "Максимальная дата заказа: 2019-08-31 00:00:00\n"
     ]
    }
   ],
   "source": [
    "print('Минимальная дата заказа:',cumulativeData['date'].min())\n",
    "print()\n",
    "print('Максимальная дата заказа:',cumulativeData['date'].max())"
   ]
  },
  {
   "cell_type": "markdown",
   "metadata": {},
   "source": [
    "###### Даты совпадают - датафрейм создан корректно"
   ]
  },
  {
   "cell_type": "markdown",
   "metadata": {},
   "source": [
    "Построим графики кумулятивной выручки по группам :"
   ]
  },
  {
   "cell_type": "code",
   "execution_count": 17,
   "metadata": {},
   "outputs": [
    {
     "data": {
      "image/png": "[encoded data removed]",
      "text/plain": [
       "<Figure size 720x432 with 1 Axes>"
      ]
     },
     "metadata": {
      "needs_background": "light"
     },
     "output_type": "display_data"
    }
   ],
   "source": [
    "# датафрейм с кумулятивным количеством заказов и кумулятивной выручкой по дням в группе А\n",
    "cumulativeRevenueA = cumulativeData[cumulativeData['group']=='A'][['date','revenue', 'orders']]\n",
    "\n",
    "# датафрейм с кумулятивным количеством заказов и кумулятивной выручкой по дням в группе B\n",
    "cumulativeRevenueB = cumulativeData[cumulativeData['group']=='B'][['date','revenue', 'orders']]\n",
    "\n",
    "# Зададим размер графику\n",
    "plt.figure(figsize=(10,6))\n",
    "\n",
    "# Строим график выручки группы А\n",
    "plt.plot(cumulativeRevenueA['date'], cumulativeRevenueA['revenue'], label='A')\n",
    "\n",
    "# Строим график выручки группы B\n",
    "plt.plot(cumulativeRevenueB['date'], cumulativeRevenueB['revenue'], label='B')\n",
    "\n",
    "plt.title('график кумулятивной выручки по группам')\n",
    "plt.ylabel(\"Выручка, млн.\")\n",
    "plt.xlabel(\"Дата\")\n",
    "plt.xticks(rotation = 40)\n",
    "plt.show()"
   ]
  },
  {
   "cell_type": "markdown",
   "metadata": {},
   "source": [
    "###### Вывод\n",
    "Можем заметить, что выручка равномерно увеличивается в обеих группах до 18 августа,потом у группы В идет резкий скачёк, что может свидетельствовать о выбросах в виде всплеска числа заказов, либо о появлении очень дорогих заказов в выборке. В дальнейшем мы это проверим "
   ]
  },
  {
   "cell_type": "markdown",
   "metadata": {},
   "source": [
    "###### Построим график кумулятивного среднего чека по группам. Сделаем выводы и предположения."
   ]
  },
  {
   "cell_type": "markdown",
   "metadata": {},
   "source": [
    "Построим графики среднего чека по группам — разделим кумулятивную выручку на кумулятивное число заказов:"
   ]
  },
  {
   "cell_type": "code",
   "execution_count": 18,
   "metadata": {},
   "outputs": [
    {
     "data": {
      "image/png": "[encoded data removed]",
      "text/plain": [
       "<Figure size 720x432 with 1 Axes>"
      ]
     },
     "metadata": {
      "needs_background": "light"
     },
     "output_type": "display_data"
    }
   ],
   "source": [
    "# Зададим размер графику\n",
    "plt.figure(figsize=(10,6))\n",
    "\n",
    "\n",
    "plt.plot(cumulativeRevenueA['date'], cumulativeRevenueA['revenue']/cumulativeRevenueA['orders'], label='A')\n",
    "plt.plot(cumulativeRevenueB['date'], cumulativeRevenueB['revenue']/cumulativeRevenueB['orders'], label='B')\n",
    "plt.title('график среднего чека по группам')\n",
    "plt.ylabel(\"Выручка, млн.\")\n",
    "plt.xlabel(\"Дата\")\n",
    "plt.legend()\n",
    "plt.xticks(rotation = 40)\n",
    "plt.show()"
   ]
  },
  {
   "cell_type": "markdown",
   "metadata": {},
   "source": [
    "###### Вывод \n",
    "На графике можем заметить резкий скачек среднего чека у группы В, что скорее всего дает нам понять,что была совершена крупная покупка"
   ]
  },
  {
   "cell_type": "markdown",
   "metadata": {},
   "source": [
    "###### Построим график относительного изменения кумулятивного среднего чека группы B к группе A. Сделаем выводы и предположения."
   ]
  },
  {
   "cell_type": "markdown",
   "metadata": {},
   "source": [
    "Построим график относительного различия для среднего чека. Добавим горизонтальную ось методом axhline()"
   ]
  },
  {
   "cell_type": "code",
   "execution_count": 19,
   "metadata": {},
   "outputs": [
    {
     "data": {
      "image/png": "[encoded data removed]",
      "text/plain": [
       "<Figure size 720x432 with 1 Axes>"
      ]
     },
     "metadata": {
      "needs_background": "light"
     },
     "output_type": "display_data"
    }
   ],
   "source": [
    "# собираем данные в одном датафрейме\n",
    "mergedCumulativeRevenue = cumulativeRevenueA.merge(cumulativeRevenueB, left_on='date', right_on='date', how='left', suffixes=['A', 'B'])\n",
    "\n",
    "# Зададим размер графику\n",
    "plt.figure(figsize=(10,6))\n",
    "\n",
    "# cтроим отношение средних чеков\n",
    "plt.plot(mergedCumulativeRevenue['date'], (mergedCumulativeRevenue['revenueB']/mergedCumulativeRevenue['ordersB'])/(mergedCumulativeRevenue['revenueA']/mergedCumulativeRevenue['ordersA'])-1)\n",
    "\n",
    "# добавляем ось X\n",
    "plt.axhline(y=0, color='black', linestyle='--') \n",
    "\n",
    "plt.title('график относительного изменения кумулятивного среднего чека')\n",
    "plt.xlabel('Дата')\n",
    "plt.ylabel('Средний чек')\n",
    "plt.xticks(rotation = 40)\n",
    "plt.show()"
   ]
  },
  {
   "cell_type": "markdown",
   "metadata": {},
   "source": [
    "###### Вывод \n",
    "На графике можно заметить резкие скачки, что дает нам понять что имеют место быть крупные заказы"
   ]
  },
  {
   "cell_type": "markdown",
   "metadata": {},
   "source": [
    "###### Построим график кумулятивного среднего количества заказов на посетителя по группам. Сделаем выводы и предположения."
   ]
  },
  {
   "cell_type": "code",
   "execution_count": 20,
   "metadata": {},
   "outputs": [
    {
     "data": {
      "image/png": "[encoded data removed]",
      "text/plain": [
       "<Figure size 720x432 with 1 Axes>"
      ]
     },
     "metadata": {
      "needs_background": "light"
     },
     "output_type": "display_data"
    }
   ],
   "source": [
    "# считаем кумулятивную среднее количество заказов на посетителя\n",
    "cumulativeData['conversion'] = cumulativeData['orders']/cumulativeData['visitors']\n",
    "\n",
    "# отделяем данные по группе A\n",
    "cumulativeDataA = cumulativeData[cumulativeData['group']=='A']\n",
    "\n",
    "# отделяем данные по группе B\n",
    "cumulativeDataB = cumulativeData[cumulativeData['group']=='B']\n",
    "\n",
    "# Зададим размер графику\n",
    "plt.figure(figsize=(10,6))\n",
    "\n",
    "# строим графики\n",
    "plt.plot(cumulativeDataA['date'], cumulativeDataA['conversion'], label='A')\n",
    "plt.plot(cumulativeDataB['date'], cumulativeDataB['conversion'], label='B')\n",
    "\n",
    "plt.title('график кумулятивной среднего количества заказов на посетителя')\n",
    "plt.xlabel('Дата')\n",
    "plt.ylabel('Заказы')\n",
    "plt.legend()\n",
    "plt.xticks(rotation = 40)\n",
    "plt.show()\n"
   ]
  },
  {
   "cell_type": "markdown",
   "metadata": {},
   "source": [
    "###### Вывод\n",
    "На графике видны колебания обоих груп примерно до 9 августа,далее они начинают стабилизироваться и глядя на график группа В выглядит предпочтительнее"
   ]
  },
  {
   "cell_type": "markdown",
   "metadata": {},
   "source": [
    "###### Построим график относительного изменения кумулятивного среднего количества заказов на посетителя группы B к группе A. Сделаем выводы и предположения."
   ]
  },
  {
   "cell_type": "code",
   "execution_count": 21,
   "metadata": {},
   "outputs": [
    {
     "data": {
      "image/png": "[encoded data removed]",
      "text/plain": [
       "<Figure size 720x432 with 1 Axes>"
      ]
     },
     "metadata": {
      "needs_background": "light"
     },
     "output_type": "display_data"
    }
   ],
   "source": [
    "mergedCumulativeConversions = cumulativeDataA[['date','conversion']].merge(cumulativeDataB[['date','conversion']], left_on='date', right_on='date', how='left', suffixes=['A', 'B'])\n",
    "\n",
    "# Зададим размер графику\n",
    "plt.figure(figsize=(10,6))\n",
    "\n",
    "plt.plot(mergedCumulativeConversions['date'], mergedCumulativeConversions['conversionB']/mergedCumulativeConversions['conversionA']-1)\n",
    "\n",
    "plt.title('Относительный прирост среднего количества заказов на посетителя группы B относительно группы A')\n",
    "plt.xlabel('Дата')\n",
    "plt.ylabel('Заказы')\n",
    "plt.xticks(rotation = 40)\n",
    "plt.axhline(y=0, color='black', linestyle='--')\n",
    "plt.axhline(y=0.15, color='grey', linestyle='--')\n",
    "plt.show()"
   ]
  },
  {
   "cell_type": "markdown",
   "metadata": {},
   "source": [
    "###### Вывод\n",
    "Глядя на график можем увидеть, что по началу группа В проигрывала группе А, затем вырвалась вперед, затем снова незначительно спустилась,а теперь снова показывает рост. Нам предстоит проанализировать аномалии и посмотерть что они нам дадут"
   ]
  },
  {
   "cell_type": "markdown",
   "metadata": {},
   "source": [
    "###### Построим точечный график количества заказов по пользователям. Сделаем выводы и предположения.\n",
    "Пользователи, совершившие много заказов, влияют на числитель формулы среднего количества заказов на посетителя. Скорее всего, их поведение отличается от нормального. Если речь не идёт об интернет-магазине с регулярным спросом, «обычный» пользователь совершает не больше двух заказов за короткий срок. \n",
    "Подсчитаем количество заказов по пользователям и посмотрим на результат:"
   ]
  },
  {
   "cell_type": "code",
   "execution_count": 22,
   "metadata": {},
   "outputs": [
    {
     "data": {
      "text/html": [
       "<div>\n",
       "<style scoped>\n",
       "    .dataframe tbody tr th:only-of-type {\n",
       "        vertical-align: middle;\n",
       "    }\n",
       "\n",
       "    .dataframe tbody tr th {\n",
       "        vertical-align: top;\n",
       "    }\n",
       "\n",
       "    .dataframe thead th {\n",
       "        text-align: right;\n",
       "    }\n",
       "</style>\n",
       "<table border=\"1\" class=\"dataframe\">\n",
       "  <thead>\n",
       "    <tr style=\"text-align: right;\">\n",
       "      <th></th>\n",
       "      <th>visitor_id</th>\n",
       "      <th>orders</th>\n",
       "    </tr>\n",
       "  </thead>\n",
       "  <tbody>\n",
       "    <tr>\n",
       "      <th>1023</th>\n",
       "      <td>4256040402</td>\n",
       "      <td>11</td>\n",
       "    </tr>\n",
       "    <tr>\n",
       "      <th>591</th>\n",
       "      <td>2458001652</td>\n",
       "      <td>11</td>\n",
       "    </tr>\n",
       "    <tr>\n",
       "      <th>569</th>\n",
       "      <td>2378935119</td>\n",
       "      <td>9</td>\n",
       "    </tr>\n",
       "    <tr>\n",
       "      <th>487</th>\n",
       "      <td>2038680547</td>\n",
       "      <td>8</td>\n",
       "    </tr>\n",
       "    <tr>\n",
       "      <th>44</th>\n",
       "      <td>199603092</td>\n",
       "      <td>5</td>\n",
       "    </tr>\n",
       "    <tr>\n",
       "      <th>744</th>\n",
       "      <td>3062433592</td>\n",
       "      <td>5</td>\n",
       "    </tr>\n",
       "    <tr>\n",
       "      <th>55</th>\n",
       "      <td>237748145</td>\n",
       "      <td>5</td>\n",
       "    </tr>\n",
       "    <tr>\n",
       "      <th>917</th>\n",
       "      <td>3803269165</td>\n",
       "      <td>5</td>\n",
       "    </tr>\n",
       "    <tr>\n",
       "      <th>299</th>\n",
       "      <td>1230306981</td>\n",
       "      <td>5</td>\n",
       "    </tr>\n",
       "    <tr>\n",
       "      <th>897</th>\n",
       "      <td>3717692402</td>\n",
       "      <td>5</td>\n",
       "    </tr>\n",
       "  </tbody>\n",
       "</table>\n",
       "</div>"
      ],
      "text/plain": [
       "      visitor_id  orders\n",
       "1023  4256040402      11\n",
       "591   2458001652      11\n",
       "569   2378935119       9\n",
       "487   2038680547       8\n",
       "44     199603092       5\n",
       "744   3062433592       5\n",
       "55     237748145       5\n",
       "917   3803269165       5\n",
       "299   1230306981       5\n",
       "897   3717692402       5"
      ]
     },
     "execution_count": 22,
     "metadata": {},
     "output_type": "execute_result"
    }
   ],
   "source": [
    "ordersByUsers = (\n",
    "    orders.groupby('visitor_id', as_index=False)\n",
    "    .agg({'transaction_id': 'nunique'})\n",
    ")\n",
    "\n",
    "ordersByUsers.columns = ['visitor_id', 'orders']\n",
    "\n",
    "ordersByUsers.sort_values(by='orders', ascending=False).head(10)"
   ]
  },
  {
   "cell_type": "markdown",
   "metadata": {},
   "source": [
    "Глядя на таблицу видно,что есть пользователи, которые совершали больше 5 и даже 11 заказов,что значительно больше обычных пользователей за неделю"
   ]
  },
  {
   "cell_type": "markdown",
   "metadata": {},
   "source": [
    "###### Построим гистрограмму распределения количества заказов на одного пользователя:"
   ]
  },
  {
   "cell_type": "code",
   "execution_count": 23,
   "metadata": {},
   "outputs": [
    {
     "data": {
      "image/png": "[encoded data removed]",
      "text/plain": [
       "<Figure size 720x432 with 1 Axes>"
      ]
     },
     "metadata": {
      "needs_background": "light"
     },
     "output_type": "display_data"
    }
   ],
   "source": [
    "# Зададим размер графику\n",
    "plt.figure(figsize=(10,6))\n",
    "\n",
    "plt.hist(ordersByUsers['orders']) \n",
    "plt.title('распределение кол-ва заказов на одного пользователя')\n",
    "plt.xlabel('кол-во заказов')\n",
    "plt.ylabel('кол-во пользователей')\n",
    "plt.show()"
   ]
  },
  {
   "cell_type": "markdown",
   "metadata": {},
   "source": [
    "Большинство пользователей заказывали один раз,но кол-во людей которые заказали 2 и 3 раза так же значительна."
   ]
  },
  {
   "cell_type": "markdown",
   "metadata": {},
   "source": [
    "###### Построим точечную диаграмму числа заказов на одного пользователя:\n"
   ]
  },
  {
   "cell_type": "code",
   "execution_count": 24,
   "metadata": {},
   "outputs": [
    {
     "data": {
      "image/png": "[encoded data removed]",
      "text/plain": [
       "<Figure size 720x432 with 1 Axes>"
      ]
     },
     "metadata": {
      "needs_background": "light"
     },
     "output_type": "display_data"
    }
   ],
   "source": [
    "x_values = pd.Series(range(0,len(ordersByUsers)))\n",
    "\n",
    "# Зададим размер графику\n",
    "plt.figure(figsize=(10,6))\n",
    "\n",
    "plt.scatter(x_values, ordersByUsers['orders']) \n",
    "plt.title('распределение кол-ва заказов на одного пользователя')\n",
    "plt.ylabel('кол-во заказов')\n",
    "plt.xlabel('кол-во пользователей')\n",
    "plt.show()"
   ]
  },
  {
   "cell_type": "markdown",
   "metadata": {},
   "source": [
    "По диаграмме видно что большинство пользователей соверщает 1 заказ,но так же видно что 2-3 заказа делают так же большое кол-во людей, их точная доля не ясна,пока не известно стоит считать их выбросами или нет"
   ]
  },
  {
   "cell_type": "markdown",
   "metadata": {},
   "source": [
    "###### Посчитаем 95-й и 99-й перцентили количества заказов на пользователя. Выберем границу для определения аномальных пользователей."
   ]
  },
  {
   "cell_type": "code",
   "execution_count": 25,
   "metadata": {},
   "outputs": [
    {
     "data": {
      "text/plain": [
       "array([2., 4.])"
      ]
     },
     "execution_count": 25,
     "metadata": {},
     "output_type": "execute_result"
    }
   ],
   "source": [
    "np.percentile(ordersByUsers['orders'], [95, 99])"
   ]
  },
  {
   "cell_type": "markdown",
   "metadata": {},
   "source": [
    "Не более 5% пользователей оформляли больше чем 2 заказа и не более 1% заказывали больше 4-х заказов. Возьмем 4 за верхнюю границу числа заказов"
   ]
  },
  {
   "cell_type": "markdown",
   "metadata": {},
   "source": [
    "###### Построим точечный график стоимостей заказов. Сделаем выводы и предположения. "
   ]
  },
  {
   "cell_type": "code",
   "execution_count": 26,
   "metadata": {},
   "outputs": [
    {
     "data": {
      "image/png": "[encoded data removed]",
      "text/plain": [
       "<Figure size 720x432 with 1 Axes>"
      ]
     },
     "metadata": {
      "needs_background": "light"
     },
     "output_type": "display_data"
    }
   ],
   "source": [
    "# Зададим размер графику\n",
    "plt.figure(figsize=(10,6))\n",
    "plt.ylim(0, 10)\n",
    "plt.hist(orders['revenue'])\n",
    "plt.title('распределение cтоимости заказов по пользователям')\n",
    "plt.xlabel('стоимость заказов')\n",
    "plt.ylabel('кол-во пользователей')\n",
    "plt.show()"
   ]
  },
  {
   "cell_type": "markdown",
   "metadata": {},
   "source": [
    "Глядя на гистограмму можем заметить выбросы "
   ]
  },
  {
   "cell_type": "markdown",
   "metadata": {},
   "source": [
    "###### Построим точечную диаграмму стоимостей заказов пользователей:"
   ]
  },
  {
   "cell_type": "code",
   "execution_count": 27,
   "metadata": {},
   "outputs": [
    {
     "data": {
      "image/png": "[encoded data removed]",
      "text/plain": [
       "<Figure size 720x432 with 1 Axes>"
      ]
     },
     "metadata": {
      "needs_background": "light"
     },
     "output_type": "display_data"
    }
   ],
   "source": [
    "x_values = pd.Series(range(0,len(orders['revenue'])))\n",
    "\n",
    "# Зададим размер графику\n",
    "plt.figure(figsize=(10,6))\n",
    "\n",
    "plt.scatter(x_values, orders['revenue']) \n",
    "plt.title('распределение cтоимости заказов по пользователям')\n",
    "plt.ylabel('стоимость заказов')\n",
    "plt.xlabel('кол-во пользователей')\n",
    "plt.show()"
   ]
  },
  {
   "cell_type": "markdown",
   "metadata": {},
   "source": [
    "На диаграмме можем заметить огромный выброс. Стоимость заказа более 1 млн.! Так же есть и другие выбросы которые стоят меньше"
   ]
  },
  {
   "cell_type": "markdown",
   "metadata": {},
   "source": [
    "###### построим диаграмму без явных выбросов, что бы посмотреть основную часть заказов"
   ]
  },
  {
   "cell_type": "code",
   "execution_count": 28,
   "metadata": {},
   "outputs": [
    {
     "data": {
      "image/png": "[encoded data removed]",
      "text/plain": [
       "<Figure size 720x432 with 1 Axes>"
      ]
     },
     "metadata": {
      "needs_background": "light"
     },
     "output_type": "display_data"
    }
   ],
   "source": [
    "x_values = pd.Series(range(0,len(orders['revenue'])))\n",
    "\n",
    "# Зададим размер графику\n",
    "plt.figure(figsize=(10,6))\n",
    "plt.ylim(0, 100000)\n",
    "\n",
    "plt.scatter(x_values, orders['revenue']) \n",
    "plt.title('распределение cтоимости заказов по пользователям')\n",
    "plt.ylabel('стоимость заказов')\n",
    "plt.xlabel('кол-во пользователей')\n",
    "plt.show()"
   ]
  },
  {
   "cell_type": "markdown",
   "metadata": {},
   "source": [
    "Можем заметить, что основная часть пользователей тратит до 20000"
   ]
  },
  {
   "cell_type": "markdown",
   "metadata": {},
   "source": [
    "###### Посчитаем 95-й и 99-й перцентили стоимости заказов. Выберем границу для определения аномальных заказов."
   ]
  },
  {
   "cell_type": "code",
   "execution_count": 29,
   "metadata": {},
   "outputs": [
    {
     "data": {
      "text/plain": [
       "array([28000. , 58233.2])"
      ]
     },
     "execution_count": 29,
     "metadata": {},
     "output_type": "execute_result"
    }
   ],
   "source": [
    "np.percentile(orders['revenue'], [95, 99])"
   ]
  },
  {
   "cell_type": "markdown",
   "metadata": {},
   "source": [
    "Не более 5% заказов дороже 28000 рублей и не более 1% дороже 58233.2 рублей. Возьмем 58233 за верхнюю границу стоимости заказа"
   ]
  },
  {
   "cell_type": "markdown",
   "metadata": {},
   "source": [
    "###### Посчитаем статистическую значимость различий в среднем количестве заказов на посетителя между группами по «сырым» данным. Сделаем выводы и предположения."
   ]
  },
  {
   "cell_type": "markdown",
   "metadata": {},
   "source": [
    "Сформулируем гипотезы. \n",
    "* Нулевая: Статистически значимых различий в среднем количестве заказов между группами по \"сырым\" данным нет\n",
    "\n",
    "* Альтернативная: Статистически значимые различия в среднем количестве заказов между группами по \"сырым\" данным есть\n",
    "\n",
    "Уровень значимости p-value = 0.05\n",
    "\n",
    "Начнём с подготовки данных."
   ]
  },
  {
   "cell_type": "code",
   "execution_count": 30,
   "metadata": {},
   "outputs": [
    {
     "data": {
      "text/html": [
       "<div>\n",
       "<style scoped>\n",
       "    .dataframe tbody tr th:only-of-type {\n",
       "        vertical-align: middle;\n",
       "    }\n",
       "\n",
       "    .dataframe tbody tr th {\n",
       "        vertical-align: top;\n",
       "    }\n",
       "\n",
       "    .dataframe thead th {\n",
       "        text-align: right;\n",
       "    }\n",
       "</style>\n",
       "<table border=\"1\" class=\"dataframe\">\n",
       "  <thead>\n",
       "    <tr style=\"text-align: right;\">\n",
       "      <th></th>\n",
       "      <th>date</th>\n",
       "      <th>ordersPerDateA</th>\n",
       "      <th>revenuePerDateA</th>\n",
       "      <th>ordersPerDateB</th>\n",
       "      <th>revenuePerDateB</th>\n",
       "      <th>ordersCummulativeA</th>\n",
       "      <th>revenueCummulativeA</th>\n",
       "      <th>ordersCummulativeB</th>\n",
       "      <th>revenueCummulativeB</th>\n",
       "      <th>visitorsPerDateA</th>\n",
       "      <th>visitorsPerDateB</th>\n",
       "      <th>visitorsCummulativeA</th>\n",
       "      <th>visitorsCummulativeB</th>\n",
       "    </tr>\n",
       "  </thead>\n",
       "  <tbody>\n",
       "    <tr>\n",
       "      <th>0</th>\n",
       "      <td>2019-08-01</td>\n",
       "      <td>20</td>\n",
       "      <td>148579</td>\n",
       "      <td>20</td>\n",
       "      <td>101217</td>\n",
       "      <td>20</td>\n",
       "      <td>148579</td>\n",
       "      <td>20</td>\n",
       "      <td>101217</td>\n",
       "      <td>719</td>\n",
       "      <td>713</td>\n",
       "      <td>719</td>\n",
       "      <td>713</td>\n",
       "    </tr>\n",
       "    <tr>\n",
       "      <th>1</th>\n",
       "      <td>2019-08-02</td>\n",
       "      <td>19</td>\n",
       "      <td>93822</td>\n",
       "      <td>23</td>\n",
       "      <td>165531</td>\n",
       "      <td>39</td>\n",
       "      <td>242401</td>\n",
       "      <td>43</td>\n",
       "      <td>266748</td>\n",
       "      <td>619</td>\n",
       "      <td>581</td>\n",
       "      <td>1338</td>\n",
       "      <td>1294</td>\n",
       "    </tr>\n",
       "    <tr>\n",
       "      <th>2</th>\n",
       "      <td>2019-08-03</td>\n",
       "      <td>24</td>\n",
       "      <td>112473</td>\n",
       "      <td>16</td>\n",
       "      <td>114248</td>\n",
       "      <td>63</td>\n",
       "      <td>354874</td>\n",
       "      <td>59</td>\n",
       "      <td>380996</td>\n",
       "      <td>507</td>\n",
       "      <td>509</td>\n",
       "      <td>1845</td>\n",
       "      <td>1803</td>\n",
       "    </tr>\n",
       "    <tr>\n",
       "      <th>3</th>\n",
       "      <td>2019-08-04</td>\n",
       "      <td>15</td>\n",
       "      <td>70825</td>\n",
       "      <td>16</td>\n",
       "      <td>108571</td>\n",
       "      <td>78</td>\n",
       "      <td>425699</td>\n",
       "      <td>75</td>\n",
       "      <td>489567</td>\n",
       "      <td>717</td>\n",
       "      <td>770</td>\n",
       "      <td>2562</td>\n",
       "      <td>2573</td>\n",
       "    </tr>\n",
       "    <tr>\n",
       "      <th>4</th>\n",
       "      <td>2019-08-05</td>\n",
       "      <td>25</td>\n",
       "      <td>124218</td>\n",
       "      <td>23</td>\n",
       "      <td>92428</td>\n",
       "      <td>103</td>\n",
       "      <td>549917</td>\n",
       "      <td>98</td>\n",
       "      <td>581995</td>\n",
       "      <td>756</td>\n",
       "      <td>707</td>\n",
       "      <td>3318</td>\n",
       "      <td>3280</td>\n",
       "    </tr>\n",
       "  </tbody>\n",
       "</table>\n",
       "</div>"
      ],
      "text/plain": [
       "        date  ordersPerDateA  revenuePerDateA  ordersPerDateB  \\\n",
       "0 2019-08-01              20           148579              20   \n",
       "1 2019-08-02              19            93822              23   \n",
       "2 2019-08-03              24           112473              16   \n",
       "3 2019-08-04              15            70825              16   \n",
       "4 2019-08-05              25           124218              23   \n",
       "\n",
       "   revenuePerDateB  ordersCummulativeA  revenueCummulativeA  \\\n",
       "0           101217                  20               148579   \n",
       "1           165531                  39               242401   \n",
       "2           114248                  63               354874   \n",
       "3           108571                  78               425699   \n",
       "4            92428                 103               549917   \n",
       "\n",
       "   ordersCummulativeB  revenueCummulativeB  visitorsPerDateA  \\\n",
       "0                  20               101217               719   \n",
       "1                  43               266748               619   \n",
       "2                  59               380996               507   \n",
       "3                  75               489567               717   \n",
       "4                  98               581995               756   \n",
       "\n",
       "   visitorsPerDateB  visitorsCummulativeA  visitorsCummulativeB  \n",
       "0               713                   719                   713  \n",
       "1               581                  1338                  1294  \n",
       "2               509                  1845                  1803  \n",
       "3               770                  2562                  2573  \n",
       "4               707                  3318                  3280  "
      ]
     },
     "execution_count": 30,
     "metadata": {},
     "output_type": "execute_result"
    }
   ],
   "source": [
    "visitorsADaily = visitors[visitors['group'] == 'A'][['date', 'visitors']]\n",
    "visitorsADaily.columns = ['date', 'visitorsPerDateA']\n",
    "\n",
    "visitorsACummulative = visitorsADaily.apply(\n",
    "    lambda x: visitorsADaily[visitorsADaily['date'] <= x['date']].agg(\n",
    "        {'date': 'max', 'visitorsPerDateA': 'sum'}\n",
    "    ),\n",
    "    axis=1,\n",
    ")\n",
    "visitorsACummulative.columns = ['date', 'visitorsCummulativeA']\n",
    "\n",
    "visitorsBDaily = visitors[visitors['group'] == 'B'][['date', 'visitors']]\n",
    "visitorsBDaily.columns = ['date', 'visitorsPerDateB']\n",
    "\n",
    "visitorsBCummulative = visitorsBDaily.apply(\n",
    "    lambda x: visitorsBDaily[visitorsBDaily['date'] <= x['date']].agg(\n",
    "        {'date': 'max', 'visitorsPerDateB': 'sum'}\n",
    "    ),\n",
    "    axis=1,\n",
    ")\n",
    "visitorsBCummulative.columns = ['date', 'visitorsCummulativeB']\n",
    "\n",
    "ordersADaily = (\n",
    "    orders[orders['group'] == 'A'][['date', 'transaction_id', 'visitor_id', 'revenue']]\n",
    "    .groupby('date', as_index=False)\n",
    "    .agg({'visitor_id': pd.Series.nunique, 'revenue': 'sum'})\n",
    ")\n",
    "ordersADaily.columns = ['date', 'ordersPerDateA', 'revenuePerDateA']\n",
    "\n",
    "ordersACummulative = ordersADaily.apply(\n",
    "    lambda x: ordersADaily[ordersADaily['date'] <= x['date']].agg(\n",
    "        {'date': 'max', 'ordersPerDateA': 'sum', 'revenuePerDateA': 'sum'}\n",
    "    ),\n",
    "    axis=1,\n",
    ").sort_values(by=['date'])\n",
    "ordersACummulative.columns = [\n",
    "    'date',\n",
    "    'ordersCummulativeA',\n",
    "    'revenueCummulativeA',\n",
    "]\n",
    "\n",
    "ordersBDaily = (\n",
    "    orders[orders['group'] == 'B'][['date', 'transaction_id', 'visitor_id', 'revenue']]\n",
    "    .groupby('date', as_index=False)\n",
    "    .agg({'visitor_id': pd.Series.nunique, 'revenue': 'sum'})\n",
    ")\n",
    "ordersBDaily.columns = ['date', 'ordersPerDateB', 'revenuePerDateB']\n",
    "\n",
    "ordersBCummulative = ordersBDaily.apply(\n",
    "    lambda x: ordersBDaily[ordersBDaily['date'] <= x['date']].agg(\n",
    "        {'date': 'max', 'ordersPerDateB': 'sum', 'revenuePerDateB': 'sum'}\n",
    "    ),\n",
    "    axis=1,\n",
    ").sort_values(by=['date'])\n",
    "ordersBCummulative.columns = [\n",
    "    'date',\n",
    "    'ordersCummulativeB',\n",
    "    'revenueCummulativeB',\n",
    "]\n",
    "\n",
    "data = (\n",
    "    ordersADaily.merge(\n",
    "        ordersBDaily, left_on='date', right_on='date', how='left'\n",
    "    )\n",
    "    .merge(ordersACummulative, left_on='date', right_on='date', how='left')\n",
    "    .merge(ordersBCummulative, left_on='date', right_on='date', how='left')\n",
    "    .merge(visitorsADaily, left_on='date', right_on='date', how='left')\n",
    "    .merge(visitorsBDaily, left_on='date', right_on='date', how='left')\n",
    "    .merge(visitorsACummulative, left_on='date', right_on='date', how='left')\n",
    "    .merge(visitorsBCummulative, left_on='date', right_on='date', how='left')\n",
    ")\n",
    "\n",
    "data.head(5) \n"
   ]
  },
  {
   "cell_type": "markdown",
   "metadata": {},
   "source": [
    "названия столбцов данных:\n",
    "* date — дата;\n",
    "* ordersPerDateA — количество заказов в выбранную дату в группе A;\n",
    "* revenuePerDateA — суммарная выручка в выбранную дату в группе A;\n",
    "* ordersPerDateB — количество заказов в выбранную дату в группе B;\n",
    "* revenuePerDateB — суммарная выручка в выбранную дату в группе B;\n",
    "* ordersCummulativeA — суммарное число заказов до выбранной даты включительно в группе A;\n",
    "* revenueCummulativeA — суммарная выручка до выбранной даты включительно в группе A;\n",
    "* ordersCummulativeB — суммарное количество заказов до выбранной даты включительно в группе B;\n",
    "* revenueCummulativeB — суммарная выручка до выбранной даты включительно в группе B;\n",
    "* visitorsPerDateA — количество пользователей в выбранную дату в группе A;\n",
    "* visitorsPerDateB — количество пользователей в выбранную дату в группе B;\n",
    "* visitorsCummulativeA — количество пользователей до выбранной даты включительно в группе A;\n",
    "* visitorsCummulativeB — количество пользователей до выбранной даты включительно в группе B."
   ]
  },
  {
   "cell_type": "markdown",
   "metadata": {},
   "source": [
    "Создадим переменные ordersByUsersA и ordersByUsersB со столбцами ['visitor_id', 'orders']. В них для пользователей, которые заказывали хотя бы 1 раз, укажем число совершённых заказов. "
   ]
  },
  {
   "cell_type": "code",
   "execution_count": 31,
   "metadata": {},
   "outputs": [],
   "source": [
    "ordersByUsersA = (\n",
    "    orders[orders['group'] == 'A']\n",
    "    .groupby('visitor_id', as_index=False)\n",
    "    .agg({'transaction_id': pd.Series.nunique})\n",
    ")\n",
    "ordersByUsersA.columns = ['visitor_id', 'orders']\n",
    "\n",
    "ordersByUsersB = (\n",
    "    orders[orders['group'] == 'B']\n",
    "    .groupby('visitor_id', as_index=False)\n",
    "    .agg({'transaction_id': pd.Series.nunique})\n",
    ")\n",
    "ordersByUsersB.columns = ['visitor_id', 'orders'] "
   ]
  },
  {
   "cell_type": "markdown",
   "metadata": {},
   "source": [
    "Объявим переменные sampleA и sampleB, в которых пользователям из разных групп будет соответствовать количество заказов. Тем, кто ничего не заказал, будут соответствовать нули. Это нужно, чтобы подготовить выборки к проверке критерием Манна-Уитни."
   ]
  },
  {
   "cell_type": "code",
   "execution_count": 32,
   "metadata": {},
   "outputs": [],
   "source": [
    "sampleA = pd.concat(\n",
    "    [\n",
    "        ordersByUsersA['orders'],\n",
    "        pd.Series(\n",
    "            0,\n",
    "            index=np.arange(\n",
    "                data['visitorsPerDateA'].sum() - len(ordersByUsersA['orders'])\n",
    "            ),\n",
    "            name='orders',\n",
    "        ),\n",
    "    ],\n",
    "    axis=0,\n",
    ")\n",
    "\n",
    "sampleB = pd.concat(\n",
    "    [\n",
    "        ordersByUsersB['orders'],\n",
    "        pd.Series(\n",
    "            0,\n",
    "            index=np.arange(\n",
    "                data['visitorsPerDateB'].sum() - len(ordersByUsersB['orders'])\n",
    "            ),\n",
    "            name='orders',\n",
    "        ),\n",
    "    ],\n",
    "    axis=0,\n",
    ")\n",
    "\n"
   ]
  },
  {
   "cell_type": "code",
   "execution_count": 33,
   "metadata": {},
   "outputs": [
    {
     "name": "stdout",
     "output_type": "stream",
     "text": [
      "P-value: 0.017\n",
      "Относительный прирост В к А: 0.138\n",
      "Отвергаем нулевую гипотезу: между группами есть разница\n"
     ]
    }
   ],
   "source": [
    "\n",
    "    alpha = 0.05 # уровень значимости \n",
    "    p_value = stats.mannwhitneyu(sampleA, sampleB)[1] # критерий Манна-Уитни\n",
    "    print(\"P-value: {0:.3f}\".format(p_value)) # форматируем p_value до 3-х знаков после запятой\n",
    "    print(\"Относительный прирост В к А: {0:.3f}\".format(sampleB.mean() / sampleA.mean() - 1))\n",
    "    \n",
    "    if (p_value < alpha):\n",
    "        print(\"Отвергаем нулевую гипотезу: между группами есть разница\")\n",
    "        \n",
    "    else:\n",
    "        print(\"Не получилось отвергнуть нулевую гипотезу, нет причин полагать что группы разные\")\n",
    "        \n",
    "        "
   ]
  },
  {
   "cell_type": "markdown",
   "metadata": {},
   "source": [
    "Первое число — p-value = 0.017 меньше 0.05. \n",
    "\n",
    "Значит, нулевую гипотезу о том, что статистически значимых различий в среднем числе заказов между группами нет, отвергаем.  \n",
    "\n",
    "Относительный выигрышь группы B равен 13.8% — второе число в выводе."
   ]
  },
  {
   "cell_type": "markdown",
   "metadata": {},
   "source": [
    "###### Посчитаем статистическую значимость различий в среднем чеке заказа между группами по «сырым» данным. Сделаем выводы и предположения."
   ]
  },
  {
   "cell_type": "markdown",
   "metadata": {},
   "source": [
    "Теперь проверим статистическую значимость различий в среднем чеке между сегментами.\n",
    "\n",
    "Сформулируем гипотезы:\n",
    "\n",
    "* Нулевая гипотеза: Статистически значимых различий в среднем чеке между группами по \"сырым\" данным нет. \n",
    "* Альтернативная гипотеза: Статистически значимые различия в среднем чеке между группами по \"сырым\" данным есть. \n",
    "\n",
    "Уровень значимости p-value = 0.05\n",
    "\n",
    "\n",
    "Чтобы рассчитать статистическую значимость различий в среднем чеке, передадим критерию mannwhitneyu() данные о выручке с заказов. А ещё найдём относительные различия в среднем чеке между группами:"
   ]
  },
  {
   "cell_type": "code",
   "execution_count": 34,
   "metadata": {},
   "outputs": [
    {
     "name": "stdout",
     "output_type": "stream",
     "text": [
      "p_value: 0.729\n",
      "Относительный прирост В к А: 0.259\n",
      "Не получилось отвергнуть нулевую гипотезу, нет причин полагать что группы разны\n"
     ]
    }
   ],
   "source": [
    "\n",
    "    alpha = 0.05 # уровень значимости \n",
    "    p_value = stats.mannwhitneyu(orders[orders['group']=='A']['revenue'], orders[orders['group']=='B']['revenue'])[1] # критерий Манна-Уитни\n",
    "    print(\"p_value: {0:.3f}\".format(p_value)) # форматируем p_value до 3-х знаков после запятой\n",
    "    print('Относительный прирост В к А: {0:.3f}'.format(orders[orders['group']=='B']['revenue'].mean()/orders[orders['group']=='A']['revenue'].mean()-1)) \n",
    "    \n",
    "    if (p_value < alpha):\n",
    "        print(\"Отвергаем нулевую гипотезу: между группами есть разница\")\n",
    "        \n",
    "    else:\n",
    "        print(\"Не получилось отвергнуть нулевую гипотезу, нет причин полагать что группы разны\")"
   ]
  },
  {
   "cell_type": "markdown",
   "metadata": {},
   "source": [
    "P-value значительно больше 0.05. \n",
    "\n",
    "Значит, причин отвергать нулевую гипотезу и считать, что в среднем чеке есть различия, нет. \n",
    "\n",
    "Впрочем, средний чек группы B значительно выше среднего чека группы A что скорее всего вызвано выбросами."
   ]
  },
  {
   "cell_type": "markdown",
   "metadata": {},
   "source": [
    "###### Посчитаем статистическую значимость различий в среднем количестве заказов на посетителя между группами по «очищенным» данным. Сделаем выводы и предположения."
   ]
  },
  {
   "cell_type": "markdown",
   "metadata": {},
   "source": [
    "Сформулируем гипотезы: \n",
    "\n",
    "* Нулевая: Статистически значимых различий в среднем количестве заказов между группами по \"очищенным\" данным нет\n",
    "\n",
    "* Альтернативная: Статистически значимые различия в среднем количестве заказов между группами по \"очищенным\" данным есть\n",
    "\n",
    "Уровень значимости p-value = 0.05"
   ]
  },
  {
   "cell_type": "markdown",
   "metadata": {},
   "source": [
    "Примем за аномальных пользователей тех, кто совершил от 5 заказов или совершил заказ дороже 58233. Так мы уберём 1% пользователей с наибольшим числом заказов и от 1% пользователей с дорогими заказами.\n",
    "Сделаем срезы пользователей с числом заказов больше 4 — usersWithManyOrders и пользователей, совершивших заказы дороже 58233 — usersWithExpensiveOrders. Объединим их в таблице abnormalUsers. \n",
    "Узнаем, сколько всего аномальных пользователей атрибутом shape"
   ]
  },
  {
   "cell_type": "code",
   "execution_count": 35,
   "metadata": {},
   "outputs": [
    {
     "name": "stdout",
     "output_type": "stream",
     "text": [
      "1099     148427295\n",
      "949      887908475\n",
      "744      888512513\n",
      "1103    1164614297\n",
      "1136    1307669133\n",
      "Name: visitor_id, dtype: int64\n",
      "\n",
      "15\n"
     ]
    }
   ],
   "source": [
    "usersWithManyOrders = pd.concat(\n",
    "    [\n",
    "        ordersByUsersA[ordersByUsersA['orders'] > np.percentile(ordersByUsers['orders'],99)]['visitor_id'],\n",
    "        ordersByUsersB[ordersByUsersB['orders'] > np.percentile(ordersByUsers['orders'],99)]['visitor_id'],\n",
    "    ],\n",
    "    axis=0,\n",
    ")\n",
    "usersWithExpensiveOrders = orders[orders['revenue'] > np.percentile(orders['revenue'],99)]['visitor_id']\n",
    "abnormalUsers = (\n",
    "    pd.concat([usersWithManyOrders, usersWithExpensiveOrders], axis=0)\n",
    "    .drop_duplicates()\n",
    "    .sort_values()\n",
    ")\n",
    "print(abnormalUsers.head(5))\n",
    "print()\n",
    "print(abnormalUsers.shape[0]) "
   ]
  },
  {
   "cell_type": "markdown",
   "metadata": {},
   "source": [
    "Всего 15 аномальных пользователей. \n",
    "Узнаем, как их действия повлияли на результаты теста. Посчитаем статистическую значимость различий в среднем количестве заказов между группами теста по очищенным данным. \n",
    "\n",
    "Сначала подготовим выборки количества заказов по пользователям по группам теста:"
   ]
  },
  {
   "cell_type": "code",
   "execution_count": 36,
   "metadata": {},
   "outputs": [],
   "source": [
    "sampleAFiltered = pd.concat(\n",
    "    [\n",
    "        ordersByUsersA[\n",
    "            np.logical_not(ordersByUsersA['visitor_id'].isin(abnormalUsers))\n",
    "        ]['orders'],\n",
    "        pd.Series(\n",
    "            0,\n",
    "            index=np.arange(\n",
    "                data['visitorsPerDateA'].sum() - len(ordersByUsersA['orders'])\n",
    "            ),\n",
    "            name='orders',\n",
    "        ),\n",
    "    ],\n",
    "    axis=0,\n",
    ")\n",
    "\n",
    "sampleBFiltered = pd.concat(\n",
    "    [\n",
    "        ordersByUsersB[\n",
    "            np.logical_not(ordersByUsersB['visitor_id'].isin(abnormalUsers))\n",
    "        ]['orders'],\n",
    "        pd.Series(\n",
    "            0,\n",
    "            index=np.arange(\n",
    "                data['visitorsPerDateB'].sum() - len(ordersByUsersB['orders'])\n",
    "            ),\n",
    "            name='orders',\n",
    "        ),\n",
    "    ],\n",
    "    axis=0,\n",
    ") \n",
    "\n"
   ]
  },
  {
   "cell_type": "code",
   "execution_count": 37,
   "metadata": {},
   "outputs": [
    {
     "name": "stdout",
     "output_type": "stream",
     "text": [
      "p_value: 0.014\n",
      "Относительный прирост В к А: 0.153\n",
      "Отвергаем нулевую гипотезу: между группами есть разница\n"
     ]
    }
   ],
   "source": [
    "\n",
    "    alpha = 0.05 # уровень значимости \n",
    "    p_value = stats.mannwhitneyu(sampleAFiltered, sampleBFiltered)[1] # критерий Манна-Уитни\n",
    "    print(\"p_value: {0:.3f}\".format(p_value)) # форматируем p_value до 3-х знаков после запятой\n",
    "    print(\"Относительный прирост В к А: {0:.3f}\".format(sampleBFiltered.mean()/sampleAFiltered.mean()-1))\n",
    "    \n",
    "    if (p_value < alpha):\n",
    "        print(\"Отвергаем нулевую гипотезу: между группами есть разница\")\n",
    "        \n",
    "    else:\n",
    "        print(\"Не получилось отвергнуть нулевую гипотезу, нет причин полагать что группы разные\")\n",
    "        \n",
    "        "
   ]
  },
  {
   "cell_type": "markdown",
   "metadata": {},
   "source": [
    "Относительный выигрышь группы B увеличился до 15.3%, p-value уменьшился до 0.14. Мы заметили как аномалии влияют на результат,среднее количество заказов на посетителя группы В относительно группы А возросла"
   ]
  },
  {
   "cell_type": "markdown",
   "metadata": {},
   "source": [
    "###### Посчитаем статистическую значимость различий в среднем чеке заказа между группами по «очищенным» данным. Сделаем выводы и предположения."
   ]
  },
  {
   "cell_type": "markdown",
   "metadata": {},
   "source": [
    "Сформулируем гипотезы:\n",
    "\n",
    "* Нулевая гипотеза: Статистически значимых различий в среднем чеке между группами по \"очищенным\" данным нет. \n",
    "* Альтернативная гипотеза: Статистически значимые различия в среднем чеке между группами по \"очищенным\" данным есть. \n",
    "\n",
    "Уровень значимости p-value = 0.05"
   ]
  },
  {
   "cell_type": "code",
   "execution_count": 38,
   "metadata": {},
   "outputs": [
    {
     "name": "stdout",
     "output_type": "stream",
     "text": [
      "p_value: 0.851\n",
      "Относительный прирост В к А: -0.006\n",
      "Не получилось отвергнуть нулевую гипотезу, нет причин полагать что группы разны\n"
     ]
    }
   ],
   "source": [
    "\n",
    "    alpha = 0.05 # уровень значимости \n",
    "    p_value = stats.mannwhitneyu(orders[\n",
    "                np.logical_and(\n",
    "                    orders['group'] == 'A',\n",
    "                    np.logical_not(orders['visitor_id'].isin(abnormalUsers)),\n",
    "                )\n",
    "            ]['revenue'],\n",
    "            orders[\n",
    "                np.logical_and(\n",
    "                    orders['group'] == 'B',\n",
    "                    np.logical_not(orders['visitor_id'].isin(abnormalUsers)),\n",
    "                )\n",
    "            ]['revenue'],\n",
    "        )[1] # критерий Манна-Уитни\n",
    "     \n",
    "    print(\"p_value: {0:.3f}\".format(p_value)) # форматируем p_value до 3-х знаков после запятой\n",
    "    print(\n",
    "    \"Относительный прирост В к А: {0:.3f}\".format(\n",
    "        orders[\n",
    "            np.logical_and(\n",
    "                orders['group'] == 'B',\n",
    "                np.logical_not(orders['visitor_id'].isin(abnormalUsers)),\n",
    "            )\n",
    "        ]['revenue'].mean()\n",
    "        / orders[\n",
    "            np.logical_and(\n",
    "                orders['group'] == 'A',\n",
    "                np.logical_not(orders['visitor_id'].isin(abnormalUsers)),\n",
    "            )\n",
    "        ]['revenue'].mean()\n",
    "        - 1\n",
    "    )\n",
    ") \n",
    "    \n",
    "    if (p_value < alpha):\n",
    "        print(\"Отвергаем нулевую гипотезу: между группами есть разница\")\n",
    "        \n",
    "    else:\n",
    "        print(\"Не получилось отвергнуть нулевую гипотезу, нет причин полагать что группы разны\")"
   ]
  },
  {
   "cell_type": "markdown",
   "metadata": {},
   "source": [
    "P-value значительно больше 0.05. Значит, причин отвергать нулевую гипотезу и считать, что в среднем чеке есть различия, нет.\n"
   ]
  },
  {
   "cell_type": "markdown",
   "metadata": {},
   "source": [
    "###### Исходя из обнаруженных фактов, тест следует остановить и признать победу группы В. Продолжать смысла нет, потому как вероятность, что при имеющихся данных сегмент B на самом деле лучше сегмента A — очевидна."
   ]
  },
  {
   "cell_type": "markdown",
   "metadata": {},
   "source": [
    "# Общий вывод"
   ]
  },
  {
   "cell_type": "markdown",
   "metadata": {},
   "source": [
    "В ходе исследования мы проделали следующие шаги:\n",
    "\n",
    "* Открыли файлы с данными:\n",
    "/datasets/hypothesis.csv;\n",
    "\n",
    "/datasets/orders.csv;\n",
    "\n",
    "/datasets/visitors.csv;\n",
    "\n",
    "* С помощью метода info() узнали данные о таблице.\n",
    "* Выполнили предобработку данных.\n",
    "\n",
    "### 1 Часть\n",
    "\n",
    "* Применили фреймворк ICE для приоритизации гипотез. Отсортировали их по убыванию приоритета.\n",
    "* Применили фреймворк RICE для приоритизации гипотез. Отсортировали их по убыванию приоритета.\n",
    "* Указали, как изменилась приоритизация гипотез при применении RICE вместо ICE. Объясили, почему так произошло.\n",
    "\n",
    "В этой части стоит обратить внимание на следующие гипотезы в первую очередь:\n",
    "\n",
    "* \"Запустить акцию, дающую скидку на товар в день рождения\";\n",
    "* \"Добавить два новых канала привлечения трафика, что позволит привлекать на 30% больше пользователей\";\n",
    "* \"Добавить форму подписки на все основные страницы, чтобы собрать базу клиентов для email-рассылок\";\n",
    "* \"Показать на главной странице юаннеры с актуальными акциями и распродажами, чтобы увеличить среднее количество заказов на посетителя\";\n",
    "* \"Добавить блоки рекомендаций товаров на сайт интернет магазина, чтобы повысить среднее количество заказов на посетителя и средний чек заказа\";\n",
    "\n",
    "Если мы берем в учет охват пользователей, то топ гипотез у нас не поменяется, но поменяется последовательность, поэтому приоритет немного сместится :\n",
    "\n",
    "* \"Добавить форму подписки на все основные страницы, чтобы собрать базу клиентов для email-рассылок\";\n",
    "* \"Добавить блоки рекомендаций товаров на сайт интернет магазина, чтобы повысить среднее количество заказов на посетителя и средний чек заказа\";\n",
    "* \"Добавить два новых канала привлечения трафика, что позволит привлекать на 30% больше пользователей\";\n",
    "* \"Показать на главной странице юаннеры с актуальными акциями и распродажами, чтобы увеличить среднее количество заказов на посетителя\";\n",
    "* \"Запустить акцию, дающую скидку на товар в день рождения\";\n",
    "\n",
    "### 2 Часть\n",
    "\n",
    "Проанализировали A/B-тест:\n",
    "* Построили график кумулятивной выручки по группам. Сделали выводы и предположения.\n",
    "* Построили график кумулятивного среднего чека по группам. Сделали выводы и предположения.\n",
    "* Построили график относительного изменения кумулятивного среднего чека группы B к группе A. Сделали выводы и предположения.\n",
    "* Построили график кумулятивного среднего количества заказов на посетителя по группам. Сделали выводы и предположения.\n",
    "* Построили график относительного изменения кумулятивного среднего количества заказов на посетителя группы B к группе A. Сделали выводы и предположения.\n",
    "* Построили точечный график количества заказов по пользователям. Сделали выводы и предположения.\n",
    "* Посчитали 95-й и 99-й перцентили количества заказов на пользователя. Выбрали границу для определения аномальных пользователей.\n",
    "* Построили точечный график стоимостей заказов. Сделали выводы и предположения.\n",
    "* Посчитали 95-й и 99-й перцентили стоимости заказов. Выбрали границу для определения аномальных заказов.\n",
    "* Посчитали статистическую значимость различий в среднем количестве заказов на посетителя между группами по «сырым» данным. Сделали выводы и предположения.\n",
    "* Посчитали статистическую значимость различий в среднем чеке заказа между группами по «сырым» данным. Сделали выводы и предположения.\n",
    "* Посчитали статистическую значимость различий в среднем количестве заказов на посетителя между группами по «очищенным» данным. Сделали выводы и предположения.\n",
    "* Посчитали статистическую значимость различий в среднем чеке заказа между группами по «очищенным» данным. Сделали выводы и предположения.\n",
    "* Приняли решение по результатам теста.\n",
    "\n",
    "В целом в ходе исследования выявили что между группами А и В есть статистически значимое различие в среднего количества заказов на посетителя как по \"сырым\" данным, так и по данным без \"аномалий\". Разница в среднего количества заказов на посетителя около 15%\n",
    "\n",
    "Что касается данных по среднему чеку, то статистически значимого различия не выявлено ни по \"сырым\" ни по данным без \"аномалий\"\n",
    "\n",
    "График среднего количества заказов на посетителя показывает что результаты у группы В лучше, чем у группы А.\n",
    "\n",
    "Исходя из всех фактов тест можно закончить, при выполнении теста мы увидели, что среднее количество заказов на посетителя группы В показывает рост относительно группы А, что не скажешь о среднем чеке, там проверяемая гипотеза не оправдалась\n"
   ]
  }
 ],
 "metadata": {
  "ExecuteTimeLog": [
   {
    "duration": 1399,
    "start_time": "2023-09-11T14:12:29.232Z"
   },
   {
    "duration": 70,
    "start_time": "2023-09-11T14:21:10.364Z"
   },
   {
    "duration": 36,
    "start_time": "2023-09-11T14:21:17.584Z"
   },
   {
    "duration": 31,
    "start_time": "2023-09-11T14:21:23.938Z"
   },
   {
    "duration": 100,
    "start_time": "2023-09-11T14:22:10.238Z"
   },
   {
    "duration": 71,
    "start_time": "2023-09-11T14:22:51.756Z"
   },
   {
    "duration": 31,
    "start_time": "2023-09-11T14:24:22.263Z"
   },
   {
    "duration": 30,
    "start_time": "2023-09-11T14:24:42.215Z"
   },
   {
    "duration": 36,
    "start_time": "2023-09-11T14:24:47.393Z"
   },
   {
    "duration": 131,
    "start_time": "2023-09-11T14:24:58.409Z"
   },
   {
    "duration": 33,
    "start_time": "2023-09-11T14:25:18.051Z"
   },
   {
    "duration": 40,
    "start_time": "2023-09-11T14:25:29.867Z"
   },
   {
    "duration": 63,
    "start_time": "2023-09-11T14:25:54.834Z"
   },
   {
    "duration": 41,
    "start_time": "2023-09-11T14:26:15.511Z"
   },
   {
    "duration": 7,
    "start_time": "2023-09-11T14:31:28.251Z"
   },
   {
    "duration": 9,
    "start_time": "2023-09-11T14:31:49.575Z"
   },
   {
    "duration": 9,
    "start_time": "2023-09-11T14:32:00.322Z"
   },
   {
    "duration": 13,
    "start_time": "2023-09-11T14:32:26.220Z"
   },
   {
    "duration": 13,
    "start_time": "2023-09-11T14:34:01.698Z"
   },
   {
    "duration": 14,
    "start_time": "2023-09-11T14:34:09.923Z"
   },
   {
    "duration": 14,
    "start_time": "2023-09-11T14:35:06.975Z"
   },
   {
    "duration": 14,
    "start_time": "2023-09-11T14:36:11.571Z"
   },
   {
    "duration": 13,
    "start_time": "2023-09-11T14:36:14.381Z"
   },
   {
    "duration": 5,
    "start_time": "2023-09-11T14:36:28.283Z"
   },
   {
    "duration": 6,
    "start_time": "2023-09-11T14:37:06.049Z"
   },
   {
    "duration": 13,
    "start_time": "2023-09-11T14:37:10.170Z"
   },
   {
    "duration": 13,
    "start_time": "2023-09-11T14:38:17.271Z"
   },
   {
    "duration": 12,
    "start_time": "2023-09-11T14:38:20.317Z"
   },
   {
    "duration": 14,
    "start_time": "2023-09-11T14:39:06.392Z"
   },
   {
    "duration": 1269,
    "start_time": "2023-09-11T14:39:16.021Z"
   },
   {
    "duration": 46,
    "start_time": "2023-09-11T14:39:17.293Z"
   },
   {
    "duration": 63,
    "start_time": "2023-09-11T14:39:17.341Z"
   },
   {
    "duration": 28,
    "start_time": "2023-09-11T14:39:17.405Z"
   },
   {
    "duration": 14,
    "start_time": "2023-09-11T14:39:17.435Z"
   },
   {
    "duration": 9,
    "start_time": "2023-09-11T14:40:44.364Z"
   },
   {
    "duration": 9,
    "start_time": "2023-09-11T14:42:38.860Z"
   },
   {
    "duration": 7,
    "start_time": "2023-09-11T14:43:38.622Z"
   },
   {
    "duration": 104,
    "start_time": "2023-09-11T14:44:00.822Z"
   },
   {
    "duration": 14,
    "start_time": "2023-09-11T14:44:08.304Z"
   },
   {
    "duration": 21,
    "start_time": "2023-09-11T14:44:35.088Z"
   },
   {
    "duration": 119,
    "start_time": "2023-09-11T15:01:01.093Z"
   },
   {
    "duration": 14,
    "start_time": "2023-09-11T15:05:20.888Z"
   },
   {
    "duration": 13,
    "start_time": "2023-09-11T15:06:41.201Z"
   },
   {
    "duration": 1367,
    "start_time": "2023-09-11T15:07:15.484Z"
   },
   {
    "duration": 45,
    "start_time": "2023-09-11T15:07:16.853Z"
   },
   {
    "duration": 66,
    "start_time": "2023-09-11T15:07:16.901Z"
   },
   {
    "duration": 52,
    "start_time": "2023-09-11T15:07:16.969Z"
   },
   {
    "duration": 17,
    "start_time": "2023-09-11T15:07:17.024Z"
   },
   {
    "duration": 20,
    "start_time": "2023-09-11T15:07:17.043Z"
   },
   {
    "duration": 17,
    "start_time": "2023-09-11T15:07:17.065Z"
   },
   {
    "duration": 30,
    "start_time": "2023-09-11T15:07:17.085Z"
   },
   {
    "duration": 17,
    "start_time": "2023-09-11T15:07:17.117Z"
   },
   {
    "duration": 14,
    "start_time": "2023-09-11T15:07:17.731Z"
   },
   {
    "duration": 13,
    "start_time": "2023-09-11T15:07:39.684Z"
   },
   {
    "duration": 1201,
    "start_time": "2023-09-11T15:08:27.401Z"
   },
   {
    "duration": 43,
    "start_time": "2023-09-11T15:08:28.604Z"
   },
   {
    "duration": 54,
    "start_time": "2023-09-11T15:08:28.649Z"
   },
   {
    "duration": 29,
    "start_time": "2023-09-11T15:08:28.705Z"
   },
   {
    "duration": 12,
    "start_time": "2023-09-11T15:08:28.736Z"
   },
   {
    "duration": 19,
    "start_time": "2023-09-11T15:08:28.750Z"
   },
   {
    "duration": 18,
    "start_time": "2023-09-11T15:08:28.770Z"
   },
   {
    "duration": 31,
    "start_time": "2023-09-11T15:08:28.790Z"
   },
   {
    "duration": 13,
    "start_time": "2023-09-11T15:08:28.822Z"
   },
   {
    "duration": 12,
    "start_time": "2023-09-11T15:08:31.561Z"
   },
   {
    "duration": 11,
    "start_time": "2023-09-11T15:09:10.935Z"
   },
   {
    "duration": 197,
    "start_time": "2023-09-11T15:13:58.837Z"
   },
   {
    "duration": 187,
    "start_time": "2023-09-11T15:14:14.299Z"
   },
   {
    "duration": 87,
    "start_time": "2023-09-11T15:16:48.951Z"
   },
   {
    "duration": 198,
    "start_time": "2023-09-11T15:17:07.073Z"
   },
   {
    "duration": 458,
    "start_time": "2023-09-11T15:18:11.684Z"
   },
   {
    "duration": 439,
    "start_time": "2023-09-11T15:18:27.010Z"
   },
   {
    "duration": 316,
    "start_time": "2023-09-11T15:20:36.867Z"
   },
   {
    "duration": 339,
    "start_time": "2023-09-11T15:21:02.325Z"
   },
   {
    "duration": 279,
    "start_time": "2023-09-11T15:21:22.223Z"
   },
   {
    "duration": 324,
    "start_time": "2023-09-11T15:22:17.398Z"
   },
   {
    "duration": 299,
    "start_time": "2023-09-11T15:23:00.447Z"
   },
   {
    "duration": 295,
    "start_time": "2023-09-11T15:24:01.029Z"
   },
   {
    "duration": 12,
    "start_time": "2023-09-11T15:37:16.116Z"
   },
   {
    "duration": 16,
    "start_time": "2023-09-11T15:39:04.539Z"
   },
   {
    "duration": 254,
    "start_time": "2023-09-11T15:39:14.571Z"
   },
   {
    "duration": 12,
    "start_time": "2023-09-11T15:48:30.462Z"
   },
   {
    "duration": 27,
    "start_time": "2023-09-11T16:18:23.433Z"
   },
   {
    "duration": 28,
    "start_time": "2023-09-11T16:18:47.480Z"
   },
   {
    "duration": 8,
    "start_time": "2023-09-11T16:19:33.546Z"
   },
   {
    "duration": 13,
    "start_time": "2023-09-11T16:19:36.094Z"
   },
   {
    "duration": 30,
    "start_time": "2023-09-11T16:21:01.268Z"
   },
   {
    "duration": 292,
    "start_time": "2023-09-11T16:21:54.749Z"
   },
   {
    "duration": 171,
    "start_time": "2023-09-11T16:22:27.657Z"
   },
   {
    "duration": 168,
    "start_time": "2023-09-11T16:22:59.715Z"
   },
   {
    "duration": 140,
    "start_time": "2023-09-11T16:23:56.500Z"
   },
   {
    "duration": 276,
    "start_time": "2023-09-11T16:24:38.554Z"
   },
   {
    "duration": 259,
    "start_time": "2023-09-11T16:28:39.719Z"
   },
   {
    "duration": 162,
    "start_time": "2023-09-11T16:29:35.341Z"
   },
   {
    "duration": 159,
    "start_time": "2023-09-11T16:29:44.378Z"
   },
   {
    "duration": 266,
    "start_time": "2023-09-11T16:30:09.197Z"
   },
   {
    "duration": 182,
    "start_time": "2023-09-11T16:30:19.001Z"
   },
   {
    "duration": 398,
    "start_time": "2023-09-11T16:33:57.863Z"
   },
   {
    "duration": 189,
    "start_time": "2023-09-11T16:34:09.407Z"
   },
   {
    "duration": 191,
    "start_time": "2023-09-11T16:34:15.055Z"
   },
   {
    "duration": 190,
    "start_time": "2023-09-11T16:34:21.000Z"
   },
   {
    "duration": 213,
    "start_time": "2023-09-11T16:34:26.817Z"
   },
   {
    "duration": 212,
    "start_time": "2023-09-11T16:34:31.777Z"
   },
   {
    "duration": 181,
    "start_time": "2023-09-11T16:34:37.807Z"
   },
   {
    "duration": 186,
    "start_time": "2023-09-11T16:34:42.948Z"
   },
   {
    "duration": 192,
    "start_time": "2023-09-11T16:34:47.636Z"
   },
   {
    "duration": 177,
    "start_time": "2023-09-11T16:44:14.312Z"
   },
   {
    "duration": 172,
    "start_time": "2023-09-11T16:44:27.847Z"
   },
   {
    "duration": 209,
    "start_time": "2023-09-11T16:44:55.721Z"
   },
   {
    "duration": 383,
    "start_time": "2023-09-11T16:51:39.605Z"
   },
   {
    "duration": 375,
    "start_time": "2023-09-11T16:52:16.945Z"
   },
   {
    "duration": 289,
    "start_time": "2023-09-11T16:52:24.101Z"
   },
   {
    "duration": 204,
    "start_time": "2023-09-11T17:06:39.343Z"
   },
   {
    "duration": 225,
    "start_time": "2023-09-11T17:07:31.850Z"
   },
   {
    "duration": 294,
    "start_time": "2023-09-11T17:12:54.213Z"
   },
   {
    "duration": 270,
    "start_time": "2023-09-11T17:13:54.119Z"
   },
   {
    "duration": 342,
    "start_time": "2023-09-11T17:14:17.270Z"
   },
   {
    "duration": 264,
    "start_time": "2023-09-11T17:14:28.407Z"
   },
   {
    "duration": 308,
    "start_time": "2023-09-11T17:15:00.473Z"
   },
   {
    "duration": 12,
    "start_time": "2023-09-11T18:21:40.623Z"
   },
   {
    "duration": 11,
    "start_time": "2023-09-11T18:23:38.041Z"
   },
   {
    "duration": 14,
    "start_time": "2023-09-11T18:24:16.722Z"
   },
   {
    "duration": 106,
    "start_time": "2023-09-11T18:26:16.803Z"
   },
   {
    "duration": 111,
    "start_time": "2023-09-11T18:26:29.116Z"
   },
   {
    "duration": 112,
    "start_time": "2023-09-11T18:26:31.836Z"
   },
   {
    "duration": 108,
    "start_time": "2023-09-11T18:26:37.007Z"
   },
   {
    "duration": 202,
    "start_time": "2023-09-11T18:26:46.710Z"
   },
   {
    "duration": 116,
    "start_time": "2023-09-11T18:27:54.240Z"
   },
   {
    "duration": 126,
    "start_time": "2023-09-11T18:28:10.987Z"
   },
   {
    "duration": 133,
    "start_time": "2023-09-11T18:28:37.147Z"
   },
   {
    "duration": 114,
    "start_time": "2023-09-11T18:29:07.667Z"
   },
   {
    "duration": 136,
    "start_time": "2023-09-11T18:29:31.045Z"
   },
   {
    "duration": 116,
    "start_time": "2023-09-11T18:32:26.117Z"
   },
   {
    "duration": 124,
    "start_time": "2023-09-11T18:33:10.001Z"
   },
   {
    "duration": 77,
    "start_time": "2023-09-11T18:36:56.257Z"
   },
   {
    "duration": 5,
    "start_time": "2023-09-11T18:38:27.044Z"
   },
   {
    "duration": 127,
    "start_time": "2023-09-11T18:44:14.121Z"
   },
   {
    "duration": 5,
    "start_time": "2023-09-11T18:45:45.789Z"
   },
   {
    "duration": 15,
    "start_time": "2023-09-11T18:45:52.027Z"
   },
   {
    "duration": 12,
    "start_time": "2023-09-11T18:46:14.567Z"
   },
   {
    "duration": 132,
    "start_time": "2023-09-11T18:47:22.549Z"
   },
   {
    "duration": 152,
    "start_time": "2023-09-11T18:47:26.254Z"
   },
   {
    "duration": 138,
    "start_time": "2023-09-11T18:47:31.511Z"
   },
   {
    "duration": 126,
    "start_time": "2023-09-11T18:47:35.924Z"
   },
   {
    "duration": 138,
    "start_time": "2023-09-11T18:49:32.524Z"
   },
   {
    "duration": 160,
    "start_time": "2023-09-11T18:50:16.689Z"
   },
   {
    "duration": 139,
    "start_time": "2023-09-11T18:51:52.570Z"
   },
   {
    "duration": 128,
    "start_time": "2023-09-11T18:54:30.317Z"
   },
   {
    "duration": 152,
    "start_time": "2023-09-11T18:55:13.195Z"
   },
   {
    "duration": 5,
    "start_time": "2023-09-11T18:59:59.851Z"
   },
   {
    "duration": 5,
    "start_time": "2023-09-11T19:00:59.503Z"
   },
   {
    "duration": 5,
    "start_time": "2023-09-11T19:01:08.126Z"
   },
   {
    "duration": 13,
    "start_time": "2023-09-11T19:24:23.602Z"
   },
   {
    "duration": 216,
    "start_time": "2023-09-11T19:26:43.425Z"
   },
   {
    "duration": 227,
    "start_time": "2023-09-11T19:39:00.262Z"
   },
   {
    "duration": 134,
    "start_time": "2023-09-11T19:43:12.014Z"
   },
   {
    "duration": 94,
    "start_time": "2023-09-11T19:50:39.969Z"
   },
   {
    "duration": 8,
    "start_time": "2023-09-11T19:50:51.811Z"
   },
   {
    "duration": 9,
    "start_time": "2023-09-11T19:51:31.147Z"
   },
   {
    "duration": 66,
    "start_time": "2023-09-11T19:54:05.031Z"
   },
   {
    "duration": 78,
    "start_time": "2023-09-11T19:54:34.532Z"
   },
   {
    "duration": 10,
    "start_time": "2023-09-11T19:54:52.501Z"
   },
   {
    "duration": 4,
    "start_time": "2023-09-11T19:55:50.056Z"
   },
   {
    "duration": 3,
    "start_time": "2023-09-11T19:55:56.512Z"
   },
   {
    "duration": 3,
    "start_time": "2023-09-11T19:55:58.785Z"
   },
   {
    "duration": 1251,
    "start_time": "2023-09-11T19:56:06.072Z"
   },
   {
    "duration": 47,
    "start_time": "2023-09-11T19:56:07.325Z"
   },
   {
    "duration": 60,
    "start_time": "2023-09-11T19:56:07.375Z"
   },
   {
    "duration": 30,
    "start_time": "2023-09-11T19:56:07.438Z"
   },
   {
    "duration": 16,
    "start_time": "2023-09-11T19:56:07.470Z"
   },
   {
    "duration": 10,
    "start_time": "2023-09-11T19:56:07.488Z"
   },
   {
    "duration": 28,
    "start_time": "2023-09-11T19:56:07.499Z"
   },
   {
    "duration": 28,
    "start_time": "2023-09-11T19:56:07.529Z"
   },
   {
    "duration": 14,
    "start_time": "2023-09-11T19:56:07.559Z"
   },
   {
    "duration": 298,
    "start_time": "2023-09-11T19:56:07.575Z"
   },
   {
    "duration": 14,
    "start_time": "2023-09-11T19:56:07.875Z"
   },
   {
    "duration": 272,
    "start_time": "2023-09-11T19:56:07.891Z"
   },
   {
    "duration": 306,
    "start_time": "2023-09-11T19:56:08.165Z"
   },
   {
    "duration": 278,
    "start_time": "2023-09-11T19:56:08.472Z"
   },
   {
    "duration": 194,
    "start_time": "2023-09-11T19:56:08.752Z"
   },
   {
    "duration": 328,
    "start_time": "2023-09-11T19:56:08.947Z"
   },
   {
    "duration": 203,
    "start_time": "2023-09-11T19:56:09.281Z"
   },
   {
    "duration": 288,
    "start_time": "2023-09-11T19:56:09.486Z"
   },
   {
    "duration": 15,
    "start_time": "2023-09-11T19:56:09.775Z"
   },
   {
    "duration": 219,
    "start_time": "2023-09-11T19:56:09.792Z"
   },
   {
    "duration": 132,
    "start_time": "2023-09-11T19:56:10.013Z"
   },
   {
    "duration": 5,
    "start_time": "2023-09-11T19:56:10.146Z"
   },
   {
    "duration": 165,
    "start_time": "2023-09-11T19:56:10.153Z"
   },
   {
    "duration": 157,
    "start_time": "2023-09-11T19:56:10.320Z"
   },
   {
    "duration": 4,
    "start_time": "2023-09-11T19:56:10.481Z"
   },
   {
    "duration": 267,
    "start_time": "2023-09-11T19:56:10.487Z"
   },
   {
    "duration": 142,
    "start_time": "2023-09-11T19:56:10.756Z"
   },
   {
    "duration": 7,
    "start_time": "2023-09-11T19:56:10.901Z"
   },
   {
    "duration": 5,
    "start_time": "2023-09-11T19:56:10.910Z"
   },
   {
    "duration": 4,
    "start_time": "2023-09-11T19:56:14.516Z"
   },
   {
    "duration": 4,
    "start_time": "2023-09-11T19:56:41.179Z"
   },
   {
    "duration": 4,
    "start_time": "2023-09-11T19:56:43.732Z"
   },
   {
    "duration": 1221,
    "start_time": "2023-09-11T19:56:53.292Z"
   },
   {
    "duration": 45,
    "start_time": "2023-09-11T19:56:54.515Z"
   },
   {
    "duration": 54,
    "start_time": "2023-09-11T19:56:54.562Z"
   },
   {
    "duration": 30,
    "start_time": "2023-09-11T19:56:54.618Z"
   },
   {
    "duration": 15,
    "start_time": "2023-09-11T19:56:54.649Z"
   },
   {
    "duration": 13,
    "start_time": "2023-09-11T19:56:54.665Z"
   },
   {
    "duration": 12,
    "start_time": "2023-09-11T19:56:54.680Z"
   },
   {
    "duration": 22,
    "start_time": "2023-09-11T19:56:54.693Z"
   },
   {
    "duration": 13,
    "start_time": "2023-09-11T19:56:54.717Z"
   },
   {
    "duration": 310,
    "start_time": "2023-09-11T19:56:54.734Z"
   },
   {
    "duration": 15,
    "start_time": "2023-09-11T19:56:55.046Z"
   },
   {
    "duration": 271,
    "start_time": "2023-09-11T19:56:55.063Z"
   },
   {
    "duration": 296,
    "start_time": "2023-09-11T19:56:55.335Z"
   },
   {
    "duration": 273,
    "start_time": "2023-09-11T19:56:55.633Z"
   },
   {
    "duration": 199,
    "start_time": "2023-09-11T19:56:55.908Z"
   },
   {
    "duration": 311,
    "start_time": "2023-09-11T19:56:56.108Z"
   },
   {
    "duration": 236,
    "start_time": "2023-09-11T19:56:56.421Z"
   },
   {
    "duration": 327,
    "start_time": "2023-09-11T19:56:56.659Z"
   },
   {
    "duration": 11,
    "start_time": "2023-09-11T19:56:56.988Z"
   },
   {
    "duration": 242,
    "start_time": "2023-09-11T19:56:57.001Z"
   },
   {
    "duration": 141,
    "start_time": "2023-09-11T19:56:57.245Z"
   },
   {
    "duration": 5,
    "start_time": "2023-09-11T19:56:57.388Z"
   },
   {
    "duration": 152,
    "start_time": "2023-09-11T19:56:57.394Z"
   },
   {
    "duration": 145,
    "start_time": "2023-09-11T19:56:57.548Z"
   },
   {
    "duration": 5,
    "start_time": "2023-09-11T19:56:57.694Z"
   },
   {
    "duration": 234,
    "start_time": "2023-09-11T19:56:57.700Z"
   },
   {
    "duration": 148,
    "start_time": "2023-09-11T19:56:57.936Z"
   },
   {
    "duration": 7,
    "start_time": "2023-09-11T19:56:58.087Z"
   },
   {
    "duration": 7,
    "start_time": "2023-09-11T19:56:58.112Z"
   },
   {
    "duration": 4,
    "start_time": "2023-09-11T19:57:00.058Z"
   },
   {
    "duration": 4,
    "start_time": "2023-09-11T19:57:02.166Z"
   },
   {
    "duration": 109,
    "start_time": "2023-09-11T19:57:33.494Z"
   },
   {
    "duration": 161,
    "start_time": "2023-09-11T19:59:14.178Z"
   },
   {
    "duration": 145,
    "start_time": "2023-09-11T19:59:20.512Z"
   },
   {
    "duration": 146,
    "start_time": "2023-09-11T19:59:25.648Z"
   },
   {
    "duration": 15,
    "start_time": "2023-09-11T19:59:46.915Z"
   },
   {
    "duration": 1221,
    "start_time": "2023-09-11T19:59:56.609Z"
   },
   {
    "duration": 46,
    "start_time": "2023-09-11T19:59:57.832Z"
   },
   {
    "duration": 54,
    "start_time": "2023-09-11T19:59:57.880Z"
   },
   {
    "duration": 28,
    "start_time": "2023-09-11T19:59:57.937Z"
   },
   {
    "duration": 13,
    "start_time": "2023-09-11T19:59:57.967Z"
   },
   {
    "duration": 9,
    "start_time": "2023-09-11T19:59:57.982Z"
   },
   {
    "duration": 8,
    "start_time": "2023-09-11T19:59:57.992Z"
   },
   {
    "duration": 27,
    "start_time": "2023-09-11T19:59:58.002Z"
   },
   {
    "duration": 11,
    "start_time": "2023-09-11T19:59:58.031Z"
   },
   {
    "duration": 320,
    "start_time": "2023-09-11T19:59:58.045Z"
   },
   {
    "duration": 17,
    "start_time": "2023-09-11T19:59:58.366Z"
   },
   {
    "duration": 297,
    "start_time": "2023-09-11T19:59:58.385Z"
   },
   {
    "duration": 304,
    "start_time": "2023-09-11T19:59:58.684Z"
   },
   {
    "duration": 298,
    "start_time": "2023-09-11T19:59:58.990Z"
   },
   {
    "duration": 203,
    "start_time": "2023-09-11T19:59:59.291Z"
   },
   {
    "duration": 304,
    "start_time": "2023-09-11T19:59:59.496Z"
   },
   {
    "duration": 235,
    "start_time": "2023-09-11T19:59:59.801Z"
   },
   {
    "duration": 333,
    "start_time": "2023-09-11T20:00:00.038Z"
   },
   {
    "duration": 17,
    "start_time": "2023-09-11T20:00:00.373Z"
   },
   {
    "duration": 286,
    "start_time": "2023-09-11T20:00:00.393Z"
   },
   {
    "duration": 138,
    "start_time": "2023-09-11T20:00:00.681Z"
   },
   {
    "duration": 5,
    "start_time": "2023-09-11T20:00:00.821Z"
   },
   {
    "duration": 203,
    "start_time": "2023-09-11T20:00:00.828Z"
   },
   {
    "duration": 158,
    "start_time": "2023-09-11T20:00:01.033Z"
   },
   {
    "duration": 5,
    "start_time": "2023-09-11T20:00:01.193Z"
   },
   {
    "duration": 271,
    "start_time": "2023-09-11T20:00:01.200Z"
   },
   {
    "duration": 244,
    "start_time": "2023-09-11T20:00:01.473Z"
   },
   {
    "duration": 133,
    "start_time": "2023-09-11T20:00:01.720Z"
   },
   {
    "duration": 0,
    "start_time": "2023-09-11T20:00:01.854Z"
   },
   {
    "duration": 3,
    "start_time": "2023-09-11T20:02:44.766Z"
   },
   {
    "duration": 48,
    "start_time": "2023-09-11T20:02:51.546Z"
   },
   {
    "duration": 6,
    "start_time": "2023-09-11T20:02:59.847Z"
   },
   {
    "duration": 3,
    "start_time": "2023-09-11T20:03:04.120Z"
   },
   {
    "duration": 4,
    "start_time": "2023-09-11T20:03:07.911Z"
   },
   {
    "duration": 4,
    "start_time": "2023-09-11T20:05:44.981Z"
   },
   {
    "duration": 3,
    "start_time": "2023-09-11T20:06:10.020Z"
   },
   {
    "duration": 3,
    "start_time": "2023-09-11T20:07:10.261Z"
   },
   {
    "duration": 4,
    "start_time": "2023-09-11T20:07:14.398Z"
   },
   {
    "duration": 3,
    "start_time": "2023-09-11T20:07:16.115Z"
   },
   {
    "duration": 4,
    "start_time": "2023-09-11T20:07:37.110Z"
   },
   {
    "duration": 1182,
    "start_time": "2023-09-11T20:07:42.034Z"
   },
   {
    "duration": 44,
    "start_time": "2023-09-11T20:07:43.219Z"
   },
   {
    "duration": 54,
    "start_time": "2023-09-11T20:07:43.265Z"
   },
   {
    "duration": 30,
    "start_time": "2023-09-11T20:07:43.320Z"
   },
   {
    "duration": 13,
    "start_time": "2023-09-11T20:07:43.352Z"
   },
   {
    "duration": 16,
    "start_time": "2023-09-11T20:07:43.367Z"
   },
   {
    "duration": 14,
    "start_time": "2023-09-11T20:07:43.385Z"
   },
   {
    "duration": 32,
    "start_time": "2023-09-11T20:07:43.401Z"
   },
   {
    "duration": 29,
    "start_time": "2023-09-11T20:07:43.435Z"
   },
   {
    "duration": 300,
    "start_time": "2023-09-11T20:07:43.465Z"
   },
   {
    "duration": 21,
    "start_time": "2023-09-11T20:07:43.767Z"
   },
   {
    "duration": 286,
    "start_time": "2023-09-11T20:07:43.791Z"
   },
   {
    "duration": 311,
    "start_time": "2023-09-11T20:07:44.079Z"
   },
   {
    "duration": 278,
    "start_time": "2023-09-11T20:07:44.393Z"
   },
   {
    "duration": 198,
    "start_time": "2023-09-11T20:07:44.672Z"
   },
   {
    "duration": 342,
    "start_time": "2023-09-11T20:07:44.871Z"
   },
   {
    "duration": 222,
    "start_time": "2023-09-11T20:07:45.214Z"
   },
   {
    "duration": 318,
    "start_time": "2023-09-11T20:07:45.437Z"
   },
   {
    "duration": 11,
    "start_time": "2023-09-11T20:07:45.757Z"
   },
   {
    "duration": 221,
    "start_time": "2023-09-11T20:07:45.770Z"
   },
   {
    "duration": 141,
    "start_time": "2023-09-11T20:07:45.993Z"
   },
   {
    "duration": 5,
    "start_time": "2023-09-11T20:07:46.135Z"
   },
   {
    "duration": 187,
    "start_time": "2023-09-11T20:07:46.142Z"
   },
   {
    "duration": 160,
    "start_time": "2023-09-11T20:07:46.331Z"
   },
   {
    "duration": 5,
    "start_time": "2023-09-11T20:07:46.493Z"
   },
   {
    "duration": 261,
    "start_time": "2023-09-11T20:07:46.501Z"
   },
   {
    "duration": 145,
    "start_time": "2023-09-11T20:07:46.763Z"
   },
   {
    "duration": 7,
    "start_time": "2023-09-11T20:07:46.910Z"
   },
   {
    "duration": 9,
    "start_time": "2023-09-11T20:07:46.918Z"
   },
   {
    "duration": 3,
    "start_time": "2023-09-11T20:07:49.976Z"
   },
   {
    "duration": 3,
    "start_time": "2023-09-11T20:08:19.963Z"
   },
   {
    "duration": 5,
    "start_time": "2023-09-11T20:08:23.594Z"
   },
   {
    "duration": 31,
    "start_time": "2023-09-11T20:08:43.996Z"
   },
   {
    "duration": 34,
    "start_time": "2023-09-11T20:09:46.756Z"
   },
   {
    "duration": 26,
    "start_time": "2023-09-11T20:11:15.987Z"
   },
   {
    "duration": 100,
    "start_time": "2023-09-11T20:13:08.497Z"
   },
   {
    "duration": 84,
    "start_time": "2023-09-11T20:13:13.763Z"
   },
   {
    "duration": 26,
    "start_time": "2023-09-11T20:13:24.656Z"
   },
   {
    "duration": 26,
    "start_time": "2023-09-11T20:13:34.933Z"
   },
   {
    "duration": 87,
    "start_time": "2023-09-11T20:13:43.680Z"
   },
   {
    "duration": 26,
    "start_time": "2023-09-11T20:14:41.646Z"
   },
   {
    "duration": 27,
    "start_time": "2023-09-11T20:14:59.758Z"
   },
   {
    "duration": 10,
    "start_time": "2023-09-11T20:22:48.786Z"
   },
   {
    "duration": 101,
    "start_time": "2023-09-11T20:23:57.596Z"
   },
   {
    "duration": 24,
    "start_time": "2023-09-11T20:24:18.014Z"
   },
   {
    "duration": 4,
    "start_time": "2023-09-11T20:26:07.454Z"
   },
   {
    "duration": 12,
    "start_time": "2023-09-11T20:26:15.558Z"
   },
   {
    "duration": 9,
    "start_time": "2023-09-11T20:56:10.435Z"
   },
   {
    "duration": 9,
    "start_time": "2023-09-11T20:56:18.009Z"
   },
   {
    "duration": 10,
    "start_time": "2023-09-11T20:57:06.341Z"
   },
   {
    "duration": 31,
    "start_time": "2023-09-11T20:58:41.900Z"
   },
   {
    "duration": 25,
    "start_time": "2023-09-11T21:01:54.667Z"
   },
   {
    "duration": 82,
    "start_time": "2023-09-11T21:02:43.238Z"
   },
   {
    "duration": 27,
    "start_time": "2023-09-11T21:03:03.252Z"
   },
   {
    "duration": 29,
    "start_time": "2023-09-11T21:03:37.083Z"
   },
   {
    "duration": 8,
    "start_time": "2023-09-11T21:13:06.870Z"
   },
   {
    "duration": 70,
    "start_time": "2023-09-11T21:13:22.366Z"
   },
   {
    "duration": 15,
    "start_time": "2023-09-11T21:13:38.133Z"
   },
   {
    "duration": 13,
    "start_time": "2023-09-11T21:14:09.441Z"
   },
   {
    "duration": 16,
    "start_time": "2023-09-11T21:20:43.654Z"
   },
   {
    "duration": 14,
    "start_time": "2023-09-11T21:20:48.523Z"
   },
   {
    "duration": 9,
    "start_time": "2023-09-11T21:25:52.469Z"
   },
   {
    "duration": 1207,
    "start_time": "2023-09-12T00:54:54.798Z"
   },
   {
    "duration": 45,
    "start_time": "2023-09-12T00:54:56.007Z"
   },
   {
    "duration": 53,
    "start_time": "2023-09-12T00:54:56.053Z"
   },
   {
    "duration": 28,
    "start_time": "2023-09-12T00:54:56.107Z"
   },
   {
    "duration": 16,
    "start_time": "2023-09-12T00:54:56.137Z"
   },
   {
    "duration": 15,
    "start_time": "2023-09-12T00:54:56.155Z"
   },
   {
    "duration": 25,
    "start_time": "2023-09-12T00:54:56.172Z"
   },
   {
    "duration": 34,
    "start_time": "2023-09-12T00:54:56.199Z"
   },
   {
    "duration": 20,
    "start_time": "2023-09-12T00:54:56.235Z"
   },
   {
    "duration": 279,
    "start_time": "2023-09-12T00:54:56.256Z"
   },
   {
    "duration": 14,
    "start_time": "2023-09-12T00:54:56.537Z"
   },
   {
    "duration": 263,
    "start_time": "2023-09-12T00:54:56.553Z"
   },
   {
    "duration": 297,
    "start_time": "2023-09-12T00:54:56.817Z"
   },
   {
    "duration": 277,
    "start_time": "2023-09-12T00:54:57.117Z"
   },
   {
    "duration": 202,
    "start_time": "2023-09-12T00:54:57.400Z"
   },
   {
    "duration": 287,
    "start_time": "2023-09-12T00:54:57.604Z"
   },
   {
    "duration": 208,
    "start_time": "2023-09-12T00:54:57.893Z"
   },
   {
    "duration": 282,
    "start_time": "2023-09-12T00:54:58.103Z"
   },
   {
    "duration": 23,
    "start_time": "2023-09-12T00:54:58.386Z"
   },
   {
    "duration": 247,
    "start_time": "2023-09-12T00:54:58.411Z"
   },
   {
    "duration": 138,
    "start_time": "2023-09-12T00:54:58.660Z"
   },
   {
    "duration": 5,
    "start_time": "2023-09-12T00:54:58.800Z"
   },
   {
    "duration": 155,
    "start_time": "2023-09-12T00:54:58.807Z"
   },
   {
    "duration": 149,
    "start_time": "2023-09-12T00:54:58.963Z"
   },
   {
    "duration": 5,
    "start_time": "2023-09-12T00:54:59.114Z"
   },
   {
    "duration": 235,
    "start_time": "2023-09-12T00:54:59.120Z"
   },
   {
    "duration": 152,
    "start_time": "2023-09-12T00:54:59.356Z"
   },
   {
    "duration": 6,
    "start_time": "2023-09-12T00:54:59.510Z"
   },
   {
    "duration": 30,
    "start_time": "2023-09-12T00:54:59.517Z"
   },
   {
    "duration": 10,
    "start_time": "2023-09-12T00:54:59.549Z"
   },
   {
    "duration": 13,
    "start_time": "2023-09-12T00:54:59.561Z"
   },
   {
    "duration": 26,
    "start_time": "2023-09-12T00:54:59.575Z"
   },
   {
    "duration": 28,
    "start_time": "2023-09-12T00:54:59.603Z"
   },
   {
    "duration": 15,
    "start_time": "2023-09-12T00:54:59.632Z"
   },
   {
    "duration": 49,
    "start_time": "2023-09-12T13:40:23.009Z"
   },
   {
    "duration": 8,
    "start_time": "2023-09-12T13:43:07.671Z"
   },
   {
    "duration": 1562,
    "start_time": "2023-09-12T13:43:14.263Z"
   },
   {
    "duration": 94,
    "start_time": "2023-09-12T13:43:15.827Z"
   },
   {
    "duration": 93,
    "start_time": "2023-09-12T13:43:15.923Z"
   },
   {
    "duration": 74,
    "start_time": "2023-09-12T13:43:16.018Z"
   },
   {
    "duration": 13,
    "start_time": "2023-09-12T13:43:16.093Z"
   },
   {
    "duration": 11,
    "start_time": "2023-09-12T13:43:16.107Z"
   },
   {
    "duration": 9,
    "start_time": "2023-09-12T13:43:16.120Z"
   },
   {
    "duration": 22,
    "start_time": "2023-09-12T13:43:16.130Z"
   },
   {
    "duration": 11,
    "start_time": "2023-09-12T13:43:16.157Z"
   },
   {
    "duration": 313,
    "start_time": "2023-09-12T13:43:16.171Z"
   },
   {
    "duration": 13,
    "start_time": "2023-09-12T13:43:16.486Z"
   },
   {
    "duration": 273,
    "start_time": "2023-09-12T13:43:16.501Z"
   },
   {
    "duration": 322,
    "start_time": "2023-09-12T13:43:16.776Z"
   },
   {
    "duration": 277,
    "start_time": "2023-09-12T13:43:17.100Z"
   },
   {
    "duration": 204,
    "start_time": "2023-09-12T13:43:17.379Z"
   },
   {
    "duration": 317,
    "start_time": "2023-09-12T13:43:17.585Z"
   },
   {
    "duration": 233,
    "start_time": "2023-09-12T13:43:17.904Z"
   },
   {
    "duration": 308,
    "start_time": "2023-09-12T13:43:18.139Z"
   },
   {
    "duration": 14,
    "start_time": "2023-09-12T13:43:18.456Z"
   },
   {
    "duration": 252,
    "start_time": "2023-09-12T13:43:18.471Z"
   },
   {
    "duration": 171,
    "start_time": "2023-09-12T13:43:18.725Z"
   },
   {
    "duration": 6,
    "start_time": "2023-09-12T13:43:18.898Z"
   },
   {
    "duration": 175,
    "start_time": "2023-09-12T13:43:18.905Z"
   },
   {
    "duration": 167,
    "start_time": "2023-09-12T13:43:19.082Z"
   },
   {
    "duration": 11,
    "start_time": "2023-09-12T13:43:19.251Z"
   },
   {
    "duration": 322,
    "start_time": "2023-09-12T13:43:19.264Z"
   },
   {
    "duration": 160,
    "start_time": "2023-09-12T13:43:19.589Z"
   },
   {
    "duration": 7,
    "start_time": "2023-09-12T13:43:19.757Z"
   },
   {
    "duration": 94,
    "start_time": "2023-09-12T13:43:19.766Z"
   },
   {
    "duration": 14,
    "start_time": "2023-09-12T13:43:19.862Z"
   },
   {
    "duration": 51,
    "start_time": "2023-09-12T13:43:19.878Z"
   },
   {
    "duration": 40,
    "start_time": "2023-09-12T13:43:19.931Z"
   },
   {
    "duration": 44,
    "start_time": "2023-09-12T13:43:19.973Z"
   },
   {
    "duration": 31,
    "start_time": "2023-09-12T13:43:20.019Z"
   },
   {
    "duration": 12,
    "start_time": "2023-09-12T13:43:49.852Z"
   },
   {
    "duration": 13,
    "start_time": "2023-09-12T13:44:43.637Z"
   },
   {
    "duration": 4,
    "start_time": "2023-09-12T13:45:49.909Z"
   },
   {
    "duration": 5,
    "start_time": "2023-09-12T13:48:36.096Z"
   },
   {
    "duration": 5,
    "start_time": "2023-09-12T13:49:23.762Z"
   },
   {
    "duration": 7,
    "start_time": "2023-09-12T13:49:34.959Z"
   },
   {
    "duration": 7,
    "start_time": "2023-09-12T13:49:38.996Z"
   },
   {
    "duration": 12,
    "start_time": "2023-09-12T13:50:04.850Z"
   },
   {
    "duration": 5,
    "start_time": "2023-09-12T13:50:13.102Z"
   },
   {
    "duration": 4,
    "start_time": "2023-09-12T13:53:54.017Z"
   },
   {
    "duration": 7,
    "start_time": "2023-09-12T13:54:38.796Z"
   },
   {
    "duration": 5,
    "start_time": "2023-09-12T13:54:42.589Z"
   },
   {
    "duration": 7,
    "start_time": "2023-09-12T13:56:33.772Z"
   },
   {
    "duration": 63,
    "start_time": "2023-09-12T13:58:56.791Z"
   },
   {
    "duration": 202,
    "start_time": "2023-09-12T14:01:09.267Z"
   },
   {
    "duration": 218,
    "start_time": "2023-09-12T14:04:13.768Z"
   },
   {
    "duration": 206,
    "start_time": "2023-09-12T14:04:17.700Z"
   },
   {
    "duration": 212,
    "start_time": "2023-09-12T14:04:21.044Z"
   },
   {
    "duration": 215,
    "start_time": "2023-09-12T14:04:27.241Z"
   },
   {
    "duration": 234,
    "start_time": "2023-09-12T14:04:37.987Z"
   },
   {
    "duration": 221,
    "start_time": "2023-09-12T14:04:44.335Z"
   },
   {
    "duration": 919,
    "start_time": "2023-09-12T14:05:30.725Z"
   },
   {
    "duration": 419,
    "start_time": "2023-09-12T14:05:41.184Z"
   },
   {
    "duration": 252,
    "start_time": "2023-09-12T14:05:56.924Z"
   },
   {
    "duration": 437,
    "start_time": "2023-09-12T14:06:00.070Z"
   },
   {
    "duration": 415,
    "start_time": "2023-09-12T14:06:06.726Z"
   },
   {
    "duration": 387,
    "start_time": "2023-09-12T14:06:16.534Z"
   },
   {
    "duration": 184,
    "start_time": "2023-09-12T14:06:24.715Z"
   },
   {
    "duration": 211,
    "start_time": "2023-09-12T14:07:17.927Z"
   },
   {
    "duration": 263,
    "start_time": "2023-09-12T14:07:28.705Z"
   },
   {
    "duration": 221,
    "start_time": "2023-09-12T14:07:37.040Z"
   },
   {
    "duration": 221,
    "start_time": "2023-09-12T14:07:43.581Z"
   },
   {
    "duration": 209,
    "start_time": "2023-09-12T14:07:48.147Z"
   },
   {
    "duration": 212,
    "start_time": "2023-09-12T14:09:05.190Z"
   },
   {
    "duration": 222,
    "start_time": "2023-09-12T14:09:39.380Z"
   },
   {
    "duration": 294,
    "start_time": "2023-09-12T14:10:01.188Z"
   },
   {
    "duration": 239,
    "start_time": "2023-09-12T14:10:34.680Z"
   },
   {
    "duration": 418,
    "start_time": "2023-09-12T14:11:21.960Z"
   },
   {
    "duration": 145,
    "start_time": "2023-09-12T14:12:09.600Z"
   },
   {
    "duration": 143,
    "start_time": "2023-09-12T14:12:18.530Z"
   },
   {
    "duration": 160,
    "start_time": "2023-09-12T14:12:38.471Z"
   },
   {
    "duration": 167,
    "start_time": "2023-09-12T14:12:56.502Z"
   },
   {
    "duration": 171,
    "start_time": "2023-09-12T14:21:10.338Z"
   },
   {
    "duration": 178,
    "start_time": "2023-09-12T14:21:23.271Z"
   },
   {
    "duration": 196,
    "start_time": "2023-09-12T14:21:27.978Z"
   },
   {
    "duration": 171,
    "start_time": "2023-09-12T14:21:34.427Z"
   },
   {
    "duration": 169,
    "start_time": "2023-09-12T14:21:53.358Z"
   },
   {
    "duration": 161,
    "start_time": "2023-09-12T14:23:29.201Z"
   },
   {
    "duration": 277,
    "start_time": "2023-09-12T14:23:36.355Z"
   },
   {
    "duration": 155,
    "start_time": "2023-09-12T14:23:41.224Z"
   },
   {
    "duration": 176,
    "start_time": "2023-09-12T14:26:14.628Z"
   },
   {
    "duration": 189,
    "start_time": "2023-09-12T14:26:18.777Z"
   },
   {
    "duration": 175,
    "start_time": "2023-09-12T14:26:24.259Z"
   },
   {
    "duration": 180,
    "start_time": "2023-09-12T14:26:28.544Z"
   },
   {
    "duration": 204,
    "start_time": "2023-09-12T14:26:32.413Z"
   },
   {
    "duration": 42,
    "start_time": "2023-09-12T14:33:18.970Z"
   },
   {
    "duration": 26,
    "start_time": "2023-09-12T14:33:46.396Z"
   },
   {
    "duration": 5,
    "start_time": "2023-09-12T14:47:24.048Z"
   },
   {
    "duration": 5,
    "start_time": "2023-09-12T14:47:36.458Z"
   },
   {
    "duration": 126,
    "start_time": "2023-09-12T14:48:26.588Z"
   },
   {
    "duration": 11,
    "start_time": "2023-09-12T14:48:36.601Z"
   },
   {
    "duration": 23,
    "start_time": "2023-09-12T14:49:36.189Z"
   },
   {
    "duration": 7,
    "start_time": "2023-09-12T14:50:04.569Z"
   },
   {
    "duration": 12,
    "start_time": "2023-09-12T14:50:21.804Z"
   },
   {
    "duration": 16,
    "start_time": "2023-09-12T14:51:43.458Z"
   },
   {
    "duration": 64,
    "start_time": "2023-09-12T15:01:01.476Z"
   },
   {
    "duration": 71,
    "start_time": "2023-09-12T15:01:15.176Z"
   },
   {
    "duration": 88,
    "start_time": "2023-09-12T15:01:22.559Z"
   },
   {
    "duration": 91,
    "start_time": "2023-09-12T15:01:27.707Z"
   },
   {
    "duration": 18,
    "start_time": "2023-09-12T15:01:32.970Z"
   },
   {
    "duration": 15,
    "start_time": "2023-09-12T15:01:52.928Z"
   },
   {
    "duration": 13,
    "start_time": "2023-09-12T15:02:09.328Z"
   },
   {
    "duration": 14,
    "start_time": "2023-09-12T15:02:12.082Z"
   },
   {
    "duration": 16,
    "start_time": "2023-09-12T15:02:14.846Z"
   },
   {
    "duration": 25,
    "start_time": "2023-09-12T15:02:41.241Z"
   },
   {
    "duration": 17,
    "start_time": "2023-09-12T15:03:08.193Z"
   },
   {
    "duration": 16,
    "start_time": "2023-09-12T15:03:19.696Z"
   },
   {
    "duration": 1388,
    "start_time": "2023-09-12T15:25:58.549Z"
   },
   {
    "duration": 96,
    "start_time": "2023-09-12T15:25:59.939Z"
   },
   {
    "duration": 145,
    "start_time": "2023-09-12T15:26:00.036Z"
   },
   {
    "duration": 67,
    "start_time": "2023-09-12T15:26:00.183Z"
   },
   {
    "duration": 53,
    "start_time": "2023-09-12T15:26:00.251Z"
   },
   {
    "duration": 55,
    "start_time": "2023-09-12T15:26:00.306Z"
   },
   {
    "duration": 48,
    "start_time": "2023-09-12T15:26:00.363Z"
   },
   {
    "duration": 59,
    "start_time": "2023-09-12T15:26:00.413Z"
   },
   {
    "duration": 39,
    "start_time": "2023-09-12T15:26:00.474Z"
   },
   {
    "duration": 300,
    "start_time": "2023-09-12T15:26:00.516Z"
   },
   {
    "duration": 16,
    "start_time": "2023-09-12T15:26:00.818Z"
   },
   {
    "duration": 446,
    "start_time": "2023-09-12T15:26:00.845Z"
   },
   {
    "duration": 282,
    "start_time": "2023-09-12T15:26:01.294Z"
   },
   {
    "duration": 5,
    "start_time": "2023-09-12T15:26:01.577Z"
   },
   {
    "duration": 107,
    "start_time": "2023-09-12T15:26:01.583Z"
   },
   {
    "duration": 329,
    "start_time": "2023-09-12T15:26:01.692Z"
   },
   {
    "duration": 363,
    "start_time": "2023-09-12T15:26:02.022Z"
   },
   {
    "duration": 376,
    "start_time": "2023-09-12T15:26:02.388Z"
   },
   {
    "duration": 238,
    "start_time": "2023-09-12T15:26:02.766Z"
   },
   {
    "duration": 342,
    "start_time": "2023-09-12T15:26:03.006Z"
   },
   {
    "duration": 15,
    "start_time": "2023-09-12T15:26:03.349Z"
   },
   {
    "duration": 227,
    "start_time": "2023-09-12T15:26:03.366Z"
   },
   {
    "duration": 166,
    "start_time": "2023-09-12T15:26:03.595Z"
   },
   {
    "duration": 6,
    "start_time": "2023-09-12T15:26:03.763Z"
   },
   {
    "duration": 225,
    "start_time": "2023-09-12T15:26:03.771Z"
   },
   {
    "duration": 191,
    "start_time": "2023-09-12T15:26:03.998Z"
   },
   {
    "duration": 229,
    "start_time": "2023-09-12T15:26:04.191Z"
   },
   {
    "duration": 7,
    "start_time": "2023-09-12T15:26:04.424Z"
   },
   {
    "duration": 307,
    "start_time": "2023-09-12T15:26:04.433Z"
   },
   {
    "duration": 235,
    "start_time": "2023-09-12T15:26:04.744Z"
   },
   {
    "duration": 9,
    "start_time": "2023-09-12T15:26:04.981Z"
   },
   {
    "duration": 73,
    "start_time": "2023-09-12T15:26:04.992Z"
   },
   {
    "duration": 24,
    "start_time": "2023-09-12T15:26:05.068Z"
   },
   {
    "duration": 89,
    "start_time": "2023-09-12T15:26:05.094Z"
   },
   {
    "duration": 31,
    "start_time": "2023-09-12T15:26:05.185Z"
   },
   {
    "duration": 51,
    "start_time": "2023-09-12T15:26:05.218Z"
   },
   {
    "duration": 15,
    "start_time": "2023-09-12T15:26:05.272Z"
   },
   {
    "duration": 54,
    "start_time": "2023-09-12T17:23:30.476Z"
   },
   {
    "duration": 1469,
    "start_time": "2023-09-12T17:23:46.948Z"
   },
   {
    "duration": 93,
    "start_time": "2023-09-12T17:23:48.419Z"
   },
   {
    "duration": 93,
    "start_time": "2023-09-12T17:23:48.513Z"
   },
   {
    "duration": 74,
    "start_time": "2023-09-12T17:23:48.608Z"
   },
   {
    "duration": 16,
    "start_time": "2023-09-12T17:23:48.684Z"
   },
   {
    "duration": 12,
    "start_time": "2023-09-12T17:23:48.702Z"
   },
   {
    "duration": 19,
    "start_time": "2023-09-12T17:23:48.715Z"
   },
   {
    "duration": 38,
    "start_time": "2023-09-12T17:23:48.736Z"
   },
   {
    "duration": 23,
    "start_time": "2023-09-12T17:23:48.776Z"
   },
   {
    "duration": 315,
    "start_time": "2023-09-12T17:23:48.803Z"
   },
   {
    "duration": 13,
    "start_time": "2023-09-12T17:23:49.120Z"
   },
   {
    "duration": 296,
    "start_time": "2023-09-12T17:23:49.135Z"
   },
   {
    "duration": 308,
    "start_time": "2023-09-12T17:23:49.433Z"
   },
   {
    "duration": 14,
    "start_time": "2023-09-12T17:23:49.743Z"
   },
   {
    "duration": 7,
    "start_time": "2023-09-12T17:23:49.759Z"
   },
   {
    "duration": 303,
    "start_time": "2023-09-12T17:23:49.767Z"
   },
   {
    "duration": 260,
    "start_time": "2023-09-12T17:23:50.073Z"
   },
   {
    "duration": 397,
    "start_time": "2023-09-12T17:23:50.335Z"
   },
   {
    "duration": 240,
    "start_time": "2023-09-12T17:23:50.734Z"
   },
   {
    "duration": 295,
    "start_time": "2023-09-12T17:23:50.976Z"
   },
   {
    "duration": 11,
    "start_time": "2023-09-12T17:23:51.273Z"
   },
   {
    "duration": 363,
    "start_time": "2023-09-12T17:23:51.285Z"
   },
   {
    "duration": 154,
    "start_time": "2023-09-12T17:23:51.650Z"
   },
   {
    "duration": 6,
    "start_time": "2023-09-12T17:23:51.806Z"
   },
   {
    "duration": 172,
    "start_time": "2023-09-12T17:23:51.814Z"
   },
   {
    "duration": 168,
    "start_time": "2023-09-12T17:23:51.988Z"
   },
   {
    "duration": 163,
    "start_time": "2023-09-12T17:23:52.158Z"
   },
   {
    "duration": 5,
    "start_time": "2023-09-12T17:23:52.324Z"
   },
   {
    "duration": 243,
    "start_time": "2023-09-12T17:23:52.330Z"
   },
   {
    "duration": 146,
    "start_time": "2023-09-12T17:23:52.575Z"
   },
   {
    "duration": 7,
    "start_time": "2023-09-12T17:23:52.723Z"
   },
   {
    "duration": 43,
    "start_time": "2023-09-12T17:23:52.732Z"
   },
   {
    "duration": 13,
    "start_time": "2023-09-12T17:23:52.777Z"
   },
   {
    "duration": 13,
    "start_time": "2023-09-12T17:23:52.791Z"
   },
   {
    "duration": 9,
    "start_time": "2023-09-12T17:23:52.806Z"
   },
   {
    "duration": 61,
    "start_time": "2023-09-12T17:23:52.817Z"
   },
   {
    "duration": 15,
    "start_time": "2023-09-12T17:23:52.879Z"
   },
   {
    "duration": 324,
    "start_time": "2023-09-12T17:27:56.146Z"
   },
   {
    "duration": 236,
    "start_time": "2023-09-12T17:28:10.050Z"
   },
   {
    "duration": 262,
    "start_time": "2023-09-12T17:28:15.526Z"
   },
   {
    "duration": 389,
    "start_time": "2023-09-12T17:28:38.767Z"
   },
   {
    "duration": 344,
    "start_time": "2023-09-12T17:29:15.625Z"
   },
   {
    "duration": 75,
    "start_time": "2023-09-12T17:31:01.652Z"
   },
   {
    "duration": 1209,
    "start_time": "2023-11-03T21:20:27.944Z"
   },
   {
    "duration": 76,
    "start_time": "2023-11-03T21:20:29.155Z"
   },
   {
    "duration": 97,
    "start_time": "2023-11-03T21:20:29.232Z"
   },
   {
    "duration": 64,
    "start_time": "2023-11-03T21:20:29.331Z"
   },
   {
    "duration": 12,
    "start_time": "2023-11-03T21:20:29.397Z"
   },
   {
    "duration": 63,
    "start_time": "2023-11-03T21:20:29.410Z"
   },
   {
    "duration": 82,
    "start_time": "2023-11-03T21:20:29.475Z"
   },
   {
    "duration": 104,
    "start_time": "2023-11-03T21:20:29.559Z"
   },
   {
    "duration": 101,
    "start_time": "2023-11-03T21:20:29.665Z"
   },
   {
    "duration": 295,
    "start_time": "2023-11-03T21:20:29.768Z"
   },
   {
    "duration": 11,
    "start_time": "2023-11-03T21:20:30.065Z"
   },
   {
    "duration": 332,
    "start_time": "2023-11-03T21:20:30.078Z"
   },
   {
    "duration": 273,
    "start_time": "2023-11-03T21:20:30.412Z"
   },
   {
    "duration": 4,
    "start_time": "2023-11-03T21:20:30.687Z"
   },
   {
    "duration": 73,
    "start_time": "2023-11-03T21:20:30.692Z"
   },
   {
    "duration": 446,
    "start_time": "2023-11-03T21:20:30.767Z"
   },
   {
    "duration": 200,
    "start_time": "2023-11-03T21:20:31.215Z"
   },
   {
    "duration": 329,
    "start_time": "2023-11-03T21:20:31.417Z"
   },
   {
    "duration": 234,
    "start_time": "2023-11-03T21:20:31.748Z"
   },
   {
    "duration": 313,
    "start_time": "2023-11-03T21:20:31.984Z"
   },
   {
    "duration": 10,
    "start_time": "2023-11-03T21:20:32.298Z"
   },
   {
    "duration": 217,
    "start_time": "2023-11-03T21:20:32.310Z"
   },
   {
    "duration": 139,
    "start_time": "2023-11-03T21:20:32.528Z"
   },
   {
    "duration": 5,
    "start_time": "2023-11-03T21:20:32.668Z"
   },
   {
    "duration": 158,
    "start_time": "2023-11-03T21:20:32.674Z"
   },
   {
    "duration": 158,
    "start_time": "2023-11-03T21:20:32.834Z"
   },
   {
    "duration": 159,
    "start_time": "2023-11-03T21:20:32.994Z"
   },
   {
    "duration": 5,
    "start_time": "2023-11-03T21:20:33.156Z"
   },
   {
    "duration": 238,
    "start_time": "2023-11-03T21:20:33.162Z"
   },
   {
    "duration": 145,
    "start_time": "2023-11-03T21:20:33.402Z"
   },
   {
    "duration": 5,
    "start_time": "2023-11-03T21:20:33.549Z"
   },
   {
    "duration": 29,
    "start_time": "2023-11-03T21:20:33.556Z"
   },
   {
    "duration": 11,
    "start_time": "2023-11-03T21:20:33.587Z"
   },
   {
    "duration": 11,
    "start_time": "2023-11-03T21:20:33.600Z"
   },
   {
    "duration": 39,
    "start_time": "2023-11-03T21:20:33.613Z"
   },
   {
    "duration": 29,
    "start_time": "2023-11-03T21:20:33.653Z"
   },
   {
    "duration": 15,
    "start_time": "2023-11-03T21:20:33.684Z"
   },
   {
    "duration": 10,
    "start_time": "2023-11-03T21:23:06.526Z"
   },
   {
    "duration": 1855,
    "start_time": "2023-11-05T21:45:03.734Z"
   },
   {
    "duration": 79,
    "start_time": "2023-11-05T21:45:05.591Z"
   },
   {
    "duration": 98,
    "start_time": "2023-11-05T21:45:05.672Z"
   },
   {
    "duration": 68,
    "start_time": "2023-11-05T21:45:05.772Z"
   },
   {
    "duration": 21,
    "start_time": "2023-11-05T21:45:05.842Z"
   },
   {
    "duration": 17,
    "start_time": "2023-11-05T21:45:05.865Z"
   },
   {
    "duration": 12,
    "start_time": "2023-11-05T21:45:05.884Z"
   },
   {
    "duration": 26,
    "start_time": "2023-11-05T21:45:05.898Z"
   },
   {
    "duration": 40,
    "start_time": "2023-11-05T21:45:05.925Z"
   },
   {
    "duration": 14,
    "start_time": "2023-11-05T21:45:05.967Z"
   },
   {
    "duration": 339,
    "start_time": "2023-11-05T21:45:05.983Z"
   },
   {
    "duration": 23,
    "start_time": "2023-11-05T21:45:06.324Z"
   },
   {
    "duration": 294,
    "start_time": "2023-11-05T21:45:06.349Z"
   },
   {
    "duration": 336,
    "start_time": "2023-11-05T21:45:06.647Z"
   },
   {
    "duration": 4,
    "start_time": "2023-11-05T21:45:06.985Z"
   },
   {
    "duration": 9,
    "start_time": "2023-11-05T21:45:06.991Z"
   },
   {
    "duration": 315,
    "start_time": "2023-11-05T21:45:07.001Z"
   },
   {
    "duration": 239,
    "start_time": "2023-11-05T21:45:07.318Z"
   },
   {
    "duration": 428,
    "start_time": "2023-11-05T21:45:07.558Z"
   },
   {
    "duration": 262,
    "start_time": "2023-11-05T21:45:07.988Z"
   },
   {
    "duration": 322,
    "start_time": "2023-11-05T21:45:08.252Z"
   },
   {
    "duration": 13,
    "start_time": "2023-11-05T21:45:08.577Z"
   },
   {
    "duration": 245,
    "start_time": "2023-11-05T21:45:08.592Z"
   },
   {
    "duration": 174,
    "start_time": "2023-11-05T21:45:08.839Z"
   },
   {
    "duration": 6,
    "start_time": "2023-11-05T21:45:09.015Z"
   },
   {
    "duration": 191,
    "start_time": "2023-11-05T21:45:09.023Z"
   },
   {
    "duration": 179,
    "start_time": "2023-11-05T21:45:09.216Z"
   },
   {
    "duration": 175,
    "start_time": "2023-11-05T21:45:09.399Z"
   },
   {
    "duration": 5,
    "start_time": "2023-11-05T21:45:09.576Z"
   },
   {
    "duration": 275,
    "start_time": "2023-11-05T21:45:09.583Z"
   },
   {
    "duration": 155,
    "start_time": "2023-11-05T21:45:09.860Z"
   },
   {
    "duration": 8,
    "start_time": "2023-11-05T21:45:10.017Z"
   },
   {
    "duration": 56,
    "start_time": "2023-11-05T21:45:10.027Z"
   },
   {
    "duration": 13,
    "start_time": "2023-11-05T21:45:10.085Z"
   },
   {
    "duration": 34,
    "start_time": "2023-11-05T21:45:10.100Z"
   },
   {
    "duration": 11,
    "start_time": "2023-11-05T21:45:10.136Z"
   },
   {
    "duration": 34,
    "start_time": "2023-11-05T21:45:10.149Z"
   },
   {
    "duration": 15,
    "start_time": "2023-11-05T21:45:10.185Z"
   },
   {
    "duration": 1248,
    "start_time": "2023-11-08T12:18:38.158Z"
   },
   {
    "duration": 83,
    "start_time": "2023-11-08T12:18:39.408Z"
   },
   {
    "duration": 104,
    "start_time": "2023-11-08T12:18:39.493Z"
   },
   {
    "duration": 82,
    "start_time": "2023-11-08T12:18:39.599Z"
   },
   {
    "duration": 13,
    "start_time": "2023-11-08T12:18:39.682Z"
   },
   {
    "duration": 27,
    "start_time": "2023-11-08T12:18:39.697Z"
   },
   {
    "duration": 9,
    "start_time": "2023-11-08T12:18:39.727Z"
   },
   {
    "duration": 10,
    "start_time": "2023-11-08T12:18:39.737Z"
   },
   {
    "duration": 31,
    "start_time": "2023-11-08T12:18:39.748Z"
   },
   {
    "duration": 21,
    "start_time": "2023-11-08T12:18:39.782Z"
   },
   {
    "duration": 388,
    "start_time": "2023-11-08T12:18:39.807Z"
   },
   {
    "duration": 18,
    "start_time": "2023-11-08T12:18:40.201Z"
   },
   {
    "duration": 394,
    "start_time": "2023-11-08T12:18:40.221Z"
   },
   {
    "duration": 340,
    "start_time": "2023-11-08T12:18:40.617Z"
   },
   {
    "duration": 6,
    "start_time": "2023-11-08T12:18:40.959Z"
   },
   {
    "duration": 195,
    "start_time": "2023-11-08T12:18:40.966Z"
   },
   {
    "duration": 315,
    "start_time": "2023-11-08T12:18:41.162Z"
   },
   {
    "duration": 252,
    "start_time": "2023-11-08T12:18:41.479Z"
   },
   {
    "duration": 325,
    "start_time": "2023-11-08T12:18:41.733Z"
   },
   {
    "duration": 270,
    "start_time": "2023-11-08T12:18:42.060Z"
   },
   {
    "duration": 337,
    "start_time": "2023-11-08T12:18:42.332Z"
   },
   {
    "duration": 13,
    "start_time": "2023-11-08T12:18:42.672Z"
   },
   {
    "duration": 256,
    "start_time": "2023-11-08T12:18:42.688Z"
   },
   {
    "duration": 169,
    "start_time": "2023-11-08T12:18:42.946Z"
   },
   {
    "duration": 6,
    "start_time": "2023-11-08T12:18:43.118Z"
   },
   {
    "duration": 204,
    "start_time": "2023-11-08T12:18:43.125Z"
   },
   {
    "duration": 179,
    "start_time": "2023-11-08T12:18:43.331Z"
   },
   {
    "duration": 177,
    "start_time": "2023-11-08T12:18:43.515Z"
   },
   {
    "duration": 12,
    "start_time": "2023-11-08T12:18:43.694Z"
   },
   {
    "duration": 273,
    "start_time": "2023-11-08T12:18:43.708Z"
   },
   {
    "duration": 197,
    "start_time": "2023-11-08T12:18:43.983Z"
   },
   {
    "duration": 20,
    "start_time": "2023-11-08T12:18:44.182Z"
   },
   {
    "duration": 37,
    "start_time": "2023-11-08T12:18:44.204Z"
   },
   {
    "duration": 18,
    "start_time": "2023-11-08T12:18:44.243Z"
   },
   {
    "duration": 40,
    "start_time": "2023-11-08T12:18:44.264Z"
   },
   {
    "duration": 14,
    "start_time": "2023-11-08T12:18:44.307Z"
   },
   {
    "duration": 71,
    "start_time": "2023-11-08T12:18:44.323Z"
   },
   {
    "duration": 25,
    "start_time": "2023-11-08T12:18:44.397Z"
   }
  ],
  "kernelspec": {
   "display_name": "Python 3 (ipykernel)",
   "language": "python",
   "name": "python3"
  },
  "language_info": {
   "codemirror_mode": {
    "name": "ipython",
    "version": 3
   },
   "file_extension": ".py",
   "mimetype": "text/x-python",
   "name": "python",
   "nbconvert_exporter": "python",
   "pygments_lexer": "ipython3",
   "version": "3.11.4"
  },
  "toc": {
   "base_numbering": 1,
   "nav_menu": {},
   "number_sections": true,
   "sideBar": true,
   "skip_h1_title": true,
   "title_cell": "Table of Contents",
   "title_sidebar": "Contents",
   "toc_cell": false,
   "toc_position": {},
   "toc_section_display": true,
   "toc_window_display": false
  }
 },
 "nbformat": 4,
 "nbformat_minor": 2
}
