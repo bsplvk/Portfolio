{
 "cells": [
  {
   "cell_type": "markdown",
   "metadata": {
    "deletable": false,
    "editable": false,
    "id": "E0vqbgi9ay0H"
   },
   "source": [
    "# Яндекс Музыка"
   ]
  },
  {
   "cell_type": "markdown",
   "metadata": {
    "deletable": false,
    "editable": false,
    "id": "VUC88oWjTJw2"
   },
   "source": [
    "Сравнение Москвы и Петербурга окружено мифами. Например:\n",
    " * Москва — мегаполис, подчинённый жёсткому ритму рабочей недели;\n",
    " * Петербург — культурная столица, со своими вкусами.\n",
    "\n",
    "На данных Яндекс Музыки вы сравните поведение пользователей двух столиц.\n",
    "\n",
    "**Цель исследования** — проверьте три гипотезы:\n",
    "1. Активность пользователей зависит от дня недели. Причём в Москве и Петербурге это проявляется по-разному.\n",
    "2. В понедельник утром в Москве преобладают одни жанры, а в Петербурге — другие. Так же и вечером пятницы преобладают разные жанры — в зависимости от города. \n",
    "3. Москва и Петербург предпочитают разные жанры музыки. В Москве чаще слушают поп-музыку, в Петербурге — русский рэп.\n",
    "\n",
    "**Ход исследования**\n",
    "\n",
    "Данные о поведении пользователей вы получите из файла `yandex_music_project.csv`. О качестве данных ничего не известно. Поэтому перед проверкой гипотез понадобится обзор данных. \n",
    "\n",
    "Вы проверите данные на ошибки и оцените их влияние на исследование. Затем, на этапе предобработки вы поищете возможность исправить самые критичные ошибки данных.\n",
    " \n",
    "Таким образом, исследование пройдёт в три этапа:\n",
    " 1. Обзор данных.\n",
    " 2. Предобработка данных.\n",
    " 3. Проверка гипотез.\n",
    "\n"
   ]
  },
  {
   "cell_type": "markdown",
   "metadata": {
    "deletable": false,
    "editable": false,
    "id": "Ml1hmfXC_Zcs"
   },
   "source": [
    "## Обзор данных\n",
    "\n",
    "Составьте первое представление о данных Яндекс Музыки.\n",
    "\n",
    "\n"
   ]
  },
  {
   "cell_type": "markdown",
   "metadata": {
    "deletable": false,
    "editable": false,
    "id": "57eAOGIz_Zcs",
    "tags": [
     "start_task"
    ]
   },
   "source": [
    "**Задание 1**\n",
    "\n",
    "Основной инструмент аналитика — `pandas`. Импортируйте эту библиотеку."
   ]
  },
  {
   "cell_type": "code",
   "execution_count": 1,
   "metadata": {
    "deletable": false,
    "id": "AXN7PHPN_Zcs"
   },
   "outputs": [],
   "source": [
    "import pandas as pd"
   ]
  },
  {
   "cell_type": "markdown",
   "metadata": {
    "deletable": false,
    "editable": false,
    "id": "SG23P8tt_Zcs",
    "tags": [
     "start_task"
    ]
   },
   "source": [
    "**Задание 2**\n",
    "\n",
    "Прочитайте файл `yandex_music_project.csv` из папки `/datasets` и сохраните его в переменной `df`:"
   ]
  },
  {
   "cell_type": "code",
   "execution_count": 2,
   "metadata": {
    "deletable": false,
    "id": "fFVu7vqh_Zct"
   },
   "outputs": [],
   "source": [
    "df = pd.read_csv('/datasets/yandex_music_project.csv')"
   ]
  },
  {
   "cell_type": "markdown",
   "metadata": {
    "deletable": false,
    "editable": false,
    "id": "rDoOMd3uTqnZ",
    "tags": [
     "start_task"
    ]
   },
   "source": [
    "**Задание 3**\n",
    "\n",
    "\n",
    "Выведите на экран первые десять строк таблицы:"
   ]
  },
  {
   "cell_type": "code",
   "execution_count": 3,
   "metadata": {
    "deletable": false,
    "id": "oWTVX3gW_Zct"
   },
   "outputs": [
    {
     "data": {
      "text/html": [
       "<div>\n",
       "<style scoped>\n",
       "    .dataframe tbody tr th:only-of-type {\n",
       "        vertical-align: middle;\n",
       "    }\n",
       "\n",
       "    .dataframe tbody tr th {\n",
       "        vertical-align: top;\n",
       "    }\n",
       "\n",
       "    .dataframe thead th {\n",
       "        text-align: right;\n",
       "    }\n",
       "</style>\n",
       "<table border=\"1\" class=\"dataframe\">\n",
       "  <thead>\n",
       "    <tr style=\"text-align: right;\">\n",
       "      <th></th>\n",
       "      <th>userID</th>\n",
       "      <th>Track</th>\n",
       "      <th>artist</th>\n",
       "      <th>genre</th>\n",
       "      <th>City</th>\n",
       "      <th>time</th>\n",
       "      <th>Day</th>\n",
       "    </tr>\n",
       "  </thead>\n",
       "  <tbody>\n",
       "    <tr>\n",
       "      <th>0</th>\n",
       "      <td>FFB692EC</td>\n",
       "      <td>Kamigata To Boots</td>\n",
       "      <td>The Mass Missile</td>\n",
       "      <td>rock</td>\n",
       "      <td>Saint-Petersburg</td>\n",
       "      <td>20:28:33</td>\n",
       "      <td>Wednesday</td>\n",
       "    </tr>\n",
       "    <tr>\n",
       "      <th>1</th>\n",
       "      <td>55204538</td>\n",
       "      <td>Delayed Because of Accident</td>\n",
       "      <td>Andreas Rönnberg</td>\n",
       "      <td>rock</td>\n",
       "      <td>Moscow</td>\n",
       "      <td>14:07:09</td>\n",
       "      <td>Friday</td>\n",
       "    </tr>\n",
       "    <tr>\n",
       "      <th>2</th>\n",
       "      <td>20EC38</td>\n",
       "      <td>Funiculì funiculà</td>\n",
       "      <td>Mario Lanza</td>\n",
       "      <td>pop</td>\n",
       "      <td>Saint-Petersburg</td>\n",
       "      <td>20:58:07</td>\n",
       "      <td>Wednesday</td>\n",
       "    </tr>\n",
       "    <tr>\n",
       "      <th>3</th>\n",
       "      <td>A3DD03C9</td>\n",
       "      <td>Dragons in the Sunset</td>\n",
       "      <td>Fire + Ice</td>\n",
       "      <td>folk</td>\n",
       "      <td>Saint-Petersburg</td>\n",
       "      <td>08:37:09</td>\n",
       "      <td>Monday</td>\n",
       "    </tr>\n",
       "    <tr>\n",
       "      <th>4</th>\n",
       "      <td>E2DC1FAE</td>\n",
       "      <td>Soul People</td>\n",
       "      <td>Space Echo</td>\n",
       "      <td>dance</td>\n",
       "      <td>Moscow</td>\n",
       "      <td>08:34:34</td>\n",
       "      <td>Monday</td>\n",
       "    </tr>\n",
       "    <tr>\n",
       "      <th>5</th>\n",
       "      <td>842029A1</td>\n",
       "      <td>Преданная</td>\n",
       "      <td>IMPERVTOR</td>\n",
       "      <td>rusrap</td>\n",
       "      <td>Saint-Petersburg</td>\n",
       "      <td>13:09:41</td>\n",
       "      <td>Friday</td>\n",
       "    </tr>\n",
       "    <tr>\n",
       "      <th>6</th>\n",
       "      <td>4CB90AA5</td>\n",
       "      <td>True</td>\n",
       "      <td>Roman Messer</td>\n",
       "      <td>dance</td>\n",
       "      <td>Moscow</td>\n",
       "      <td>13:00:07</td>\n",
       "      <td>Wednesday</td>\n",
       "    </tr>\n",
       "    <tr>\n",
       "      <th>7</th>\n",
       "      <td>F03E1C1F</td>\n",
       "      <td>Feeling This Way</td>\n",
       "      <td>Polina Griffith</td>\n",
       "      <td>dance</td>\n",
       "      <td>Moscow</td>\n",
       "      <td>20:47:49</td>\n",
       "      <td>Wednesday</td>\n",
       "    </tr>\n",
       "    <tr>\n",
       "      <th>8</th>\n",
       "      <td>8FA1D3BE</td>\n",
       "      <td>И вновь продолжается бой</td>\n",
       "      <td>NaN</td>\n",
       "      <td>ruspop</td>\n",
       "      <td>Moscow</td>\n",
       "      <td>09:17:40</td>\n",
       "      <td>Friday</td>\n",
       "    </tr>\n",
       "    <tr>\n",
       "      <th>9</th>\n",
       "      <td>E772D5C0</td>\n",
       "      <td>Pessimist</td>\n",
       "      <td>NaN</td>\n",
       "      <td>dance</td>\n",
       "      <td>Saint-Petersburg</td>\n",
       "      <td>21:20:49</td>\n",
       "      <td>Wednesday</td>\n",
       "    </tr>\n",
       "  </tbody>\n",
       "</table>\n",
       "</div>"
      ],
      "text/plain": [
       "     userID                        Track            artist   genre  \\\n",
       "0  FFB692EC            Kamigata To Boots  The Mass Missile    rock   \n",
       "1  55204538  Delayed Because of Accident  Andreas Rönnberg    rock   \n",
       "2    20EC38            Funiculì funiculà       Mario Lanza     pop   \n",
       "3  A3DD03C9        Dragons in the Sunset        Fire + Ice    folk   \n",
       "4  E2DC1FAE                  Soul People        Space Echo   dance   \n",
       "5  842029A1                    Преданная         IMPERVTOR  rusrap   \n",
       "6  4CB90AA5                         True      Roman Messer   dance   \n",
       "7  F03E1C1F             Feeling This Way   Polina Griffith   dance   \n",
       "8  8FA1D3BE     И вновь продолжается бой               NaN  ruspop   \n",
       "9  E772D5C0                    Pessimist               NaN   dance   \n",
       "\n",
       "             City        time        Day  \n",
       "0  Saint-Petersburg  20:28:33  Wednesday  \n",
       "1            Moscow  14:07:09     Friday  \n",
       "2  Saint-Petersburg  20:58:07  Wednesday  \n",
       "3  Saint-Petersburg  08:37:09     Monday  \n",
       "4            Moscow  08:34:34     Monday  \n",
       "5  Saint-Petersburg  13:09:41     Friday  \n",
       "6            Moscow  13:00:07  Wednesday  \n",
       "7            Moscow  20:47:49  Wednesday  \n",
       "8            Moscow  09:17:40     Friday  \n",
       "9  Saint-Petersburg  21:20:49  Wednesday  "
      ]
     },
     "execution_count": 3,
     "metadata": {},
     "output_type": "execute_result"
    }
   ],
   "source": [
    "df.head(10)"
   ]
  },
  {
   "cell_type": "markdown",
   "metadata": {
    "deletable": false,
    "editable": false,
    "id": "EO73Kwic_Zct",
    "tags": [
     "start_task"
    ]
   },
   "source": [
    "**Задание 4**\n",
    "\n",
    "\n",
    "Одной командой получить общую информацию о таблице c помощью метода `info()`:"
   ]
  },
  {
   "cell_type": "code",
   "execution_count": 4,
   "metadata": {
    "deletable": false,
    "id": "DSf2kIb-_Zct"
   },
   "outputs": [
    {
     "name": "stdout",
     "output_type": "stream",
     "text": [
      "<class 'pandas.core.frame.DataFrame'>\n",
      "RangeIndex: 65079 entries, 0 to 65078\n",
      "Data columns (total 7 columns):\n",
      " #   Column    Non-Null Count  Dtype \n",
      "---  ------    --------------  ----- \n",
      " 0     userID  65079 non-null  object\n",
      " 1   Track     63848 non-null  object\n",
      " 2   artist    57876 non-null  object\n",
      " 3   genre     63881 non-null  object\n",
      " 4     City    65079 non-null  object\n",
      " 5   time      65079 non-null  object\n",
      " 6   Day       65079 non-null  object\n",
      "dtypes: object(7)\n",
      "memory usage: 3.5+ MB\n"
     ]
    }
   ],
   "source": [
    "df.info()"
   ]
  },
  {
   "cell_type": "markdown",
   "metadata": {
    "deletable": false,
    "editable": false,
    "id": "TaQ2Iwbr_Zct"
   },
   "source": [
    "Итак, в таблице семь столбцов. Тип данных во всех столбцах — `object`.\n",
    "\n",
    "Согласно документации к данным:\n",
    "* `userID` — идентификатор пользователя;\n",
    "* `Track` — название трека;  \n",
    "* `artist` — имя исполнителя;\n",
    "* `genre` — название жанра;\n",
    "* `City` — город пользователя;\n",
    "* `time` — время начала прослушивания;\n",
    "* `Day` — день недели.\n",
    "\n",
    "Количество значений в столбцах различается. Значит, в данных есть пропущенные значения."
   ]
  },
  {
   "cell_type": "markdown",
   "metadata": {
    "deletable": false,
    "editable": false,
    "id": "rAfziTBDmf2h",
    "tags": [
     "start_task"
    ]
   },
   "source": [
    "**Задание 5**\n",
    "\n",
    "**Вопрос со свободной формой ответа**\n",
    "\n",
    "В названиях колонок видны нарушения стиля:\n",
    "* Строчные буквы сочетаются с прописными.\n",
    "* Встречаются пробелы.\n",
    "\n",
    "Какое третье нарушение?"
   ]
  },
  {
   "cell_type": "code",
   "execution_count": 5,
   "metadata": {
    "id": "jD8EXEIvmf2h"
   },
   "outputs": [],
   "source": [
    "# возможны использование разных языков#. "
   ]
  },
  {
   "cell_type": "markdown",
   "metadata": {
    "deletable": false,
    "editable": false,
    "id": "MCB6-dXG_Zct"
   },
   "source": [
    "**Выводы**\n",
    "\n",
    "В каждой строке таблицы — данные о прослушанном треке. Часть колонок описывает саму композицию: название, исполнителя и жанр. Остальные данные рассказывают о пользователе: из какого он города, когда он слушал музыку. \n",
    "\n",
    "Предварительно можно утверждать, что данных достаточно для проверки гипотез. Но встречаются пропуски в данных, а в названиях колонок — расхождения с хорошим стилем.\n",
    "\n",
    "Чтобы двигаться дальше, нужно устранить проблемы в данных."
   ]
  },
  {
   "cell_type": "markdown",
   "metadata": {
    "deletable": false,
    "editable": false,
    "id": "SjYF6Ub9_Zct"
   },
   "source": [
    "## Предобработка данных\n",
    "Исправьте стиль в заголовках столбцов, исключите пропуски. Затем проверьте данные на дубликаты."
   ]
  },
  {
   "cell_type": "markdown",
   "metadata": {
    "deletable": false,
    "editable": false,
    "id": "dIaKXr29_Zct",
    "tags": [
     "start_task"
    ]
   },
   "source": [
    "### Стиль заголовков\n",
    "\n",
    "**Задание 6**\n",
    "\n",
    "Выведите на экран названия столбцов:"
   ]
  },
  {
   "cell_type": "code",
   "execution_count": 6,
   "metadata": {
    "deletable": false,
    "id": "oKOTdF_Q_Zct",
    "scrolled": false
   },
   "outputs": [
    {
     "data": {
      "text/plain": [
       "Index(['  userID', 'Track', 'artist', 'genre', '  City  ', 'time', 'Day'], dtype='object')"
      ]
     },
     "execution_count": 6,
     "metadata": {},
     "output_type": "execute_result"
    }
   ],
   "source": [
    "df.columns"
   ]
  },
  {
   "cell_type": "markdown",
   "metadata": {
    "deletable": false,
    "editable": false,
    "id": "zj5534cv_Zct",
    "tags": [
     "start_task"
    ]
   },
   "source": [
    "**Задание 7**\n",
    "\n",
    "\n",
    "Приведите названия в соответствие с хорошим стилем:\n",
    "* несколько слов в названии запишите в «змеином_регистре»,\n",
    "* все символы сделайте строчными,\n",
    "* устраните пробелы.\n",
    "\n",
    "Для этого переименуйте колонки так:\n",
    "* `'  userID'` → `'user_id'`;\n",
    "* `'Track'` → `'track'`;\n",
    "* `'  City  '` → `'city'`;\n",
    "* `'Day'` → `'day'`."
   ]
  },
  {
   "cell_type": "code",
   "execution_count": 7,
   "metadata": {
    "deletable": false,
    "id": "ISlFqs5y_Zct"
   },
   "outputs": [],
   "source": [
    "df = df.rename(columns={'  userID':'user_id', 'Track':'track','  City  ':'city', 'Day':'day'}) "
   ]
  },
  {
   "cell_type": "markdown",
   "metadata": {
    "deletable": false,
    "editable": false,
    "id": "1dqbh00J_Zct",
    "tags": [
     "start_task"
    ]
   },
   "source": [
    "**Задание 8**\n",
    "\n",
    "\n",
    "Проверьте результат. Для этого ещё раз выведите на экран названия столбцов:"
   ]
  },
  {
   "cell_type": "code",
   "execution_count": 8,
   "metadata": {
    "deletable": false,
    "id": "d4NOAmTW_Zct"
   },
   "outputs": [
    {
     "data": {
      "text/plain": [
       "Index(['user_id', 'track', 'artist', 'genre', 'city', 'time', 'day'], dtype='object')"
      ]
     },
     "execution_count": 8,
     "metadata": {},
     "output_type": "execute_result"
    }
   ],
   "source": [
    "df.columns"
   ]
  },
  {
   "cell_type": "markdown",
   "metadata": {
    "deletable": false,
    "editable": false,
    "id": "5ISfbcfY_Zct",
    "tags": [
     "start_task"
    ]
   },
   "source": [
    "### Пропуски значений\n",
    "\n",
    "**Задание 9**\n",
    "\n",
    "Сначала посчитайте, сколько в таблице пропущенных значений. Для этого достаточно двух методов `pandas`:"
   ]
  },
  {
   "cell_type": "code",
   "execution_count": 9,
   "metadata": {
    "deletable": false,
    "id": "RskX29qr_Zct"
   },
   "outputs": [
    {
     "data": {
      "text/plain": [
       "user_id       0\n",
       "track      1231\n",
       "artist     7203\n",
       "genre      1198\n",
       "city          0\n",
       "time          0\n",
       "day           0\n",
       "dtype: int64"
      ]
     },
     "execution_count": 9,
     "metadata": {},
     "output_type": "execute_result"
    }
   ],
   "source": [
    "df.isna().sum()"
   ]
  },
  {
   "cell_type": "markdown",
   "metadata": {
    "deletable": false,
    "editable": false,
    "id": "qubhgnlO_Zct"
   },
   "source": [
    "Не все пропущенные значения влияют на исследование. Так в `track` и `artist` пропуски не важны для вашей работы. Достаточно заменить их явными обозначениями.\n",
    "\n",
    "Но пропуски в `genre` могут помешать сравнению музыкальных вкусов в Москве и Санкт-Петербурге. На практике было бы правильно установить причину пропусков и восстановить данные. Такой возможности нет в учебном проекте. Придётся:\n",
    "* заполнить и эти пропуски явными обозначениями;\n",
    "* оценить, насколько они повредят расчётам. "
   ]
  },
  {
   "cell_type": "markdown",
   "metadata": {
    "deletable": false,
    "editable": false,
    "id": "fSv2laPA_Zct",
    "tags": [
     "start_task"
    ]
   },
   "source": [
    "**Задание 10**\n",
    "\n",
    "Замените пропущенные значения в столбцах `track`, `artist` и `genre` на строку `'unknown'`. Для этого создайте список `columns_to_replace`, переберите его элементы циклом `for` и для каждого столбца выполните замену пропущенных значений:"
   ]
  },
  {
   "cell_type": "code",
   "execution_count": 10,
   "metadata": {
    "deletable": false,
    "id": "KplB5qWs_Zct",
    "scrolled": true
   },
   "outputs": [
    {
     "data": {
      "text/plain": [
       "0              rock\n",
       "1              rock\n",
       "2               pop\n",
       "3              folk\n",
       "4             dance\n",
       "            ...    \n",
       "65074           rnb\n",
       "65075           hip\n",
       "65076    industrial\n",
       "65077          rock\n",
       "65078       country\n",
       "Name: genre, Length: 65079, dtype: object"
      ]
     },
     "execution_count": 10,
     "metadata": {},
     "output_type": "execute_result"
    }
   ],
   "source": [
    "columns_to_replace = df['track'],df['artist'],df['genre']\n",
    "\n",
    "columns_to_replace = df['track'] = df['track'].fillna('unknown')\n",
    "columns_to_replace = df['artist'] = df['artist'].fillna('unknown')\n",
    "columns_to_replace = df['genre'] = df['genre'].fillna('unknown')\n",
    "\n",
    "columns_to_replace\n",
    "\n",
    "    \n",
    "    \n"
   ]
  },
  {
   "cell_type": "markdown",
   "metadata": {
    "deletable": false,
    "editable": false,
    "id": "Ilsm-MZo_Zct",
    "tags": [
     "start_task"
    ]
   },
   "source": [
    "**Задание 11**\n",
    "\n",
    "Убедитесь, что в таблице не осталось пропусков. Для этого ещё раз посчитайте пропущенные значения."
   ]
  },
  {
   "cell_type": "code",
   "execution_count": 11,
   "metadata": {
    "deletable": false,
    "id": "Tq4nYRX4_Zct"
   },
   "outputs": [
    {
     "data": {
      "text/plain": [
       "user_id    0\n",
       "track      0\n",
       "artist     0\n",
       "genre      0\n",
       "city       0\n",
       "time       0\n",
       "day        0\n",
       "dtype: int64"
      ]
     },
     "execution_count": 11,
     "metadata": {},
     "output_type": "execute_result"
    }
   ],
   "source": [
    "df.isna().sum()"
   ]
  },
  {
   "cell_type": "markdown",
   "metadata": {
    "deletable": false,
    "editable": false,
    "id": "BWKRtBJ3_Zct",
    "tags": [
     "start_task"
    ]
   },
   "source": [
    "### Дубликаты\n",
    "\n",
    "**Задание 12**\n",
    "\n",
    "Посчитайте явные дубликаты в таблице одной командой:"
   ]
  },
  {
   "cell_type": "code",
   "execution_count": 12,
   "metadata": {
    "deletable": false,
    "id": "36eES_S0_Zct"
   },
   "outputs": [
    {
     "data": {
      "text/plain": [
       "3826"
      ]
     },
     "execution_count": 12,
     "metadata": {},
     "output_type": "execute_result"
    }
   ],
   "source": [
    "df.duplicated().sum()"
   ]
  },
  {
   "cell_type": "markdown",
   "metadata": {
    "deletable": false,
    "editable": false,
    "id": "Ot25h6XR_Zct",
    "tags": [
     "start_task"
    ]
   },
   "source": [
    "**Задание 13**\n",
    "\n",
    "Вызовите специальный метод `pandas`, чтобы удалить явные дубликаты:"
   ]
  },
  {
   "cell_type": "code",
   "execution_count": 13,
   "metadata": {
    "deletable": false,
    "id": "exFHq6tt_Zct"
   },
   "outputs": [
    {
     "data": {
      "text/html": [
       "<div>\n",
       "<style scoped>\n",
       "    .dataframe tbody tr th:only-of-type {\n",
       "        vertical-align: middle;\n",
       "    }\n",
       "\n",
       "    .dataframe tbody tr th {\n",
       "        vertical-align: top;\n",
       "    }\n",
       "\n",
       "    .dataframe thead th {\n",
       "        text-align: right;\n",
       "    }\n",
       "</style>\n",
       "<table border=\"1\" class=\"dataframe\">\n",
       "  <thead>\n",
       "    <tr style=\"text-align: right;\">\n",
       "      <th></th>\n",
       "      <th>user_id</th>\n",
       "      <th>track</th>\n",
       "      <th>artist</th>\n",
       "      <th>genre</th>\n",
       "      <th>city</th>\n",
       "      <th>time</th>\n",
       "      <th>day</th>\n",
       "    </tr>\n",
       "  </thead>\n",
       "  <tbody>\n",
       "    <tr>\n",
       "      <th>0</th>\n",
       "      <td>FFB692EC</td>\n",
       "      <td>Kamigata To Boots</td>\n",
       "      <td>The Mass Missile</td>\n",
       "      <td>rock</td>\n",
       "      <td>Saint-Petersburg</td>\n",
       "      <td>20:28:33</td>\n",
       "      <td>Wednesday</td>\n",
       "    </tr>\n",
       "    <tr>\n",
       "      <th>1</th>\n",
       "      <td>55204538</td>\n",
       "      <td>Delayed Because of Accident</td>\n",
       "      <td>Andreas Rönnberg</td>\n",
       "      <td>rock</td>\n",
       "      <td>Moscow</td>\n",
       "      <td>14:07:09</td>\n",
       "      <td>Friday</td>\n",
       "    </tr>\n",
       "    <tr>\n",
       "      <th>2</th>\n",
       "      <td>20EC38</td>\n",
       "      <td>Funiculì funiculà</td>\n",
       "      <td>Mario Lanza</td>\n",
       "      <td>pop</td>\n",
       "      <td>Saint-Petersburg</td>\n",
       "      <td>20:58:07</td>\n",
       "      <td>Wednesday</td>\n",
       "    </tr>\n",
       "    <tr>\n",
       "      <th>3</th>\n",
       "      <td>A3DD03C9</td>\n",
       "      <td>Dragons in the Sunset</td>\n",
       "      <td>Fire + Ice</td>\n",
       "      <td>folk</td>\n",
       "      <td>Saint-Petersburg</td>\n",
       "      <td>08:37:09</td>\n",
       "      <td>Monday</td>\n",
       "    </tr>\n",
       "    <tr>\n",
       "      <th>4</th>\n",
       "      <td>E2DC1FAE</td>\n",
       "      <td>Soul People</td>\n",
       "      <td>Space Echo</td>\n",
       "      <td>dance</td>\n",
       "      <td>Moscow</td>\n",
       "      <td>08:34:34</td>\n",
       "      <td>Monday</td>\n",
       "    </tr>\n",
       "    <tr>\n",
       "      <th>...</th>\n",
       "      <td>...</td>\n",
       "      <td>...</td>\n",
       "      <td>...</td>\n",
       "      <td>...</td>\n",
       "      <td>...</td>\n",
       "      <td>...</td>\n",
       "      <td>...</td>\n",
       "    </tr>\n",
       "    <tr>\n",
       "      <th>65074</th>\n",
       "      <td>729CBB09</td>\n",
       "      <td>My Name</td>\n",
       "      <td>McLean</td>\n",
       "      <td>rnb</td>\n",
       "      <td>Moscow</td>\n",
       "      <td>13:32:28</td>\n",
       "      <td>Wednesday</td>\n",
       "    </tr>\n",
       "    <tr>\n",
       "      <th>65075</th>\n",
       "      <td>D08D4A55</td>\n",
       "      <td>Maybe One Day (feat. Black Spade)</td>\n",
       "      <td>Blu &amp; Exile</td>\n",
       "      <td>hip</td>\n",
       "      <td>Saint-Petersburg</td>\n",
       "      <td>10:00:00</td>\n",
       "      <td>Monday</td>\n",
       "    </tr>\n",
       "    <tr>\n",
       "      <th>65076</th>\n",
       "      <td>C5E3A0D5</td>\n",
       "      <td>Jalopiina</td>\n",
       "      <td>unknown</td>\n",
       "      <td>industrial</td>\n",
       "      <td>Moscow</td>\n",
       "      <td>20:09:26</td>\n",
       "      <td>Friday</td>\n",
       "    </tr>\n",
       "    <tr>\n",
       "      <th>65077</th>\n",
       "      <td>321D0506</td>\n",
       "      <td>Freight Train</td>\n",
       "      <td>Chas McDevitt</td>\n",
       "      <td>rock</td>\n",
       "      <td>Moscow</td>\n",
       "      <td>21:43:59</td>\n",
       "      <td>Friday</td>\n",
       "    </tr>\n",
       "    <tr>\n",
       "      <th>65078</th>\n",
       "      <td>3A64EF84</td>\n",
       "      <td>Tell Me Sweet Little Lies</td>\n",
       "      <td>Monica Lopez</td>\n",
       "      <td>country</td>\n",
       "      <td>Moscow</td>\n",
       "      <td>21:59:46</td>\n",
       "      <td>Friday</td>\n",
       "    </tr>\n",
       "  </tbody>\n",
       "</table>\n",
       "<p>61253 rows × 7 columns</p>\n",
       "</div>"
      ],
      "text/plain": [
       "        user_id                              track            artist  \\\n",
       "0      FFB692EC                  Kamigata To Boots  The Mass Missile   \n",
       "1      55204538        Delayed Because of Accident  Andreas Rönnberg   \n",
       "2        20EC38                  Funiculì funiculà       Mario Lanza   \n",
       "3      A3DD03C9              Dragons in the Sunset        Fire + Ice   \n",
       "4      E2DC1FAE                        Soul People        Space Echo   \n",
       "...         ...                                ...               ...   \n",
       "65074  729CBB09                            My Name            McLean   \n",
       "65075  D08D4A55  Maybe One Day (feat. Black Spade)       Blu & Exile   \n",
       "65076  C5E3A0D5                          Jalopiina           unknown   \n",
       "65077  321D0506                      Freight Train     Chas McDevitt   \n",
       "65078  3A64EF84          Tell Me Sweet Little Lies      Monica Lopez   \n",
       "\n",
       "            genre              city      time        day  \n",
       "0            rock  Saint-Petersburg  20:28:33  Wednesday  \n",
       "1            rock            Moscow  14:07:09     Friday  \n",
       "2             pop  Saint-Petersburg  20:58:07  Wednesday  \n",
       "3            folk  Saint-Petersburg  08:37:09     Monday  \n",
       "4           dance            Moscow  08:34:34     Monday  \n",
       "...           ...               ...       ...        ...  \n",
       "65074         rnb            Moscow  13:32:28  Wednesday  \n",
       "65075         hip  Saint-Petersburg  10:00:00     Monday  \n",
       "65076  industrial            Moscow  20:09:26     Friday  \n",
       "65077        rock            Moscow  21:43:59     Friday  \n",
       "65078     country            Moscow  21:59:46     Friday  \n",
       "\n",
       "[61253 rows x 7 columns]"
      ]
     },
     "execution_count": 13,
     "metadata": {},
     "output_type": "execute_result"
    }
   ],
   "source": [
    "df = df.drop_duplicates()\n",
    "df\n"
   ]
  },
  {
   "cell_type": "markdown",
   "metadata": {
    "deletable": false,
    "editable": false,
    "id": "Im2YwBEG_Zct",
    "tags": [
     "start_task"
    ]
   },
   "source": [
    "**Задание 14**\n",
    "\n",
    "Ещё раз посчитайте явные дубликаты в таблице — убедитесь, что полностью от них избавились:"
   ]
  },
  {
   "cell_type": "code",
   "execution_count": 14,
   "metadata": {
    "deletable": false,
    "id": "-8PuNWQ0_Zct"
   },
   "outputs": [
    {
     "data": {
      "text/plain": [
       "0"
      ]
     },
     "execution_count": 14,
     "metadata": {},
     "output_type": "execute_result"
    }
   ],
   "source": [
    "df.duplicated().sum()\n"
   ]
  },
  {
   "cell_type": "markdown",
   "metadata": {
    "deletable": false,
    "editable": false,
    "id": "QlFBsxAr_Zct"
   },
   "source": [
    "Теперь избавьтесь от неявных дубликатов в колонке `genre`. Например, название одного и того же жанра может быть записано немного по-разному. Такие ошибки тоже повлияют на результат исследования."
   ]
  },
  {
   "cell_type": "markdown",
   "metadata": {
    "deletable": false,
    "editable": false,
    "id": "eSjWwsOh_Zct",
    "tags": [
     "start_task"
    ]
   },
   "source": [
    "**Задание 15**\n",
    "\n",
    "Выведите на экран список уникальных названий жанров, отсортированный в алфавитном порядке. Для этого:\n",
    "1. извлеките нужный столбец датафрейма; \n",
    "2. примените к нему метод сортировки;\n",
    "3. для отсортированного столбца вызовите метод, который вернёт уникальные значения из столбца."
   ]
  },
  {
   "cell_type": "code",
   "execution_count": 15,
   "metadata": {
    "deletable": false,
    "id": "JIUcqzZN_Zct"
   },
   "outputs": [
    {
     "data": {
      "text/plain": [
       "array(['acid', 'acoustic', 'action', 'adult', 'africa', 'afrikaans',\n",
       "       'alternative', 'alternativepunk', 'ambient', 'americana',\n",
       "       'animated', 'anime', 'arabesk', 'arabic', 'arena',\n",
       "       'argentinetango', 'art', 'audiobook', 'author', 'avantgarde',\n",
       "       'axé', 'baile', 'balkan', 'beats', 'bigroom', 'black', 'bluegrass',\n",
       "       'blues', 'bollywood', 'bossa', 'brazilian', 'breakbeat', 'breaks',\n",
       "       'broadway', 'cantautori', 'cantopop', 'canzone', 'caribbean',\n",
       "       'caucasian', 'celtic', 'chamber', 'chanson', 'children', 'chill',\n",
       "       'chinese', 'choral', 'christian', 'christmas', 'classical',\n",
       "       'classicmetal', 'club', 'colombian', 'comedy', 'conjazz',\n",
       "       'contemporary', 'country', 'cuban', 'dance', 'dancehall',\n",
       "       'dancepop', 'dark', 'death', 'deep', 'deutschrock', 'deutschspr',\n",
       "       'dirty', 'disco', 'dnb', 'documentary', 'downbeat', 'downtempo',\n",
       "       'drum', 'dub', 'dubstep', 'eastern', 'easy', 'electronic',\n",
       "       'electropop', 'emo', 'entehno', 'epicmetal', 'estrada', 'ethnic',\n",
       "       'eurofolk', 'european', 'experimental', 'extrememetal', 'fado',\n",
       "       'fairytail', 'film', 'fitness', 'flamenco', 'folk', 'folklore',\n",
       "       'folkmetal', 'folkrock', 'folktronica', 'forró', 'frankreich',\n",
       "       'französisch', 'french', 'funk', 'future', 'gangsta', 'garage',\n",
       "       'german', 'ghazal', 'gitarre', 'glitch', 'gospel', 'gothic',\n",
       "       'grime', 'grunge', 'gypsy', 'handsup', \"hard'n'heavy\", 'hardcore',\n",
       "       'hardstyle', 'hardtechno', 'hip', 'hip-hop', 'hiphop',\n",
       "       'historisch', 'holiday', 'hop', 'horror', 'house', 'hymn', 'idm',\n",
       "       'independent', 'indian', 'indie', 'indipop', 'industrial',\n",
       "       'inspirational', 'instrumental', 'international', 'irish', 'jam',\n",
       "       'japanese', 'jazz', 'jewish', 'jpop', 'jungle', 'k-pop',\n",
       "       'karadeniz', 'karaoke', 'kayokyoku', 'korean', 'laiko', 'latin',\n",
       "       'latino', 'leftfield', 'local', 'lounge', 'loungeelectronic',\n",
       "       'lovers', 'malaysian', 'mandopop', 'marschmusik', 'meditative',\n",
       "       'mediterranean', 'melodic', 'metal', 'metalcore', 'mexican',\n",
       "       'middle', 'minimal', 'miscellaneous', 'modern', 'mood', 'mpb',\n",
       "       'muslim', 'native', 'neoklassik', 'neue', 'new', 'newage',\n",
       "       'newwave', 'nu', 'nujazz', 'numetal', 'oceania', 'old', 'opera',\n",
       "       'orchestral', 'other', 'piano', 'podcasts', 'pop', 'popdance',\n",
       "       'popelectronic', 'popeurodance', 'poprussian', 'post',\n",
       "       'posthardcore', 'postrock', 'power', 'progmetal', 'progressive',\n",
       "       'psychedelic', 'punjabi', 'punk', 'quebecois', 'ragga', 'ram',\n",
       "       'rancheras', 'rap', 'rave', 'reggae', 'reggaeton', 'regional',\n",
       "       'relax', 'religious', 'retro', 'rhythm', 'rnb', 'rnr', 'rock',\n",
       "       'rockabilly', 'rockalternative', 'rockindie', 'rockother',\n",
       "       'romance', 'roots', 'ruspop', 'rusrap', 'rusrock', 'russian',\n",
       "       'salsa', 'samba', 'scenic', 'schlager', 'self', 'sertanejo',\n",
       "       'shanson', 'shoegazing', 'showtunes', 'singer', 'ska', 'skarock',\n",
       "       'slow', 'smooth', 'soft', 'soul', 'soulful', 'sound', 'soundtrack',\n",
       "       'southern', 'specialty', 'speech', 'spiritual', 'sport',\n",
       "       'stonerrock', 'surf', 'swing', 'synthpop', 'synthrock',\n",
       "       'sängerportrait', 'tango', 'tanzorchester', 'taraftar', 'tatar',\n",
       "       'tech', 'techno', 'teen', 'thrash', 'top', 'traditional',\n",
       "       'tradjazz', 'trance', 'tribal', 'trip', 'triphop', 'tropical',\n",
       "       'türk', 'türkçe', 'ukrrock', 'unknown', 'urban', 'uzbek',\n",
       "       'variété', 'vi', 'videogame', 'vocal', 'western', 'world',\n",
       "       'worldbeat', 'ïîï', 'электроника'], dtype=object)"
      ]
     },
     "execution_count": 15,
     "metadata": {},
     "output_type": "execute_result"
    }
   ],
   "source": [
    "df['genre'].sort_values().unique()\n",
    "\n",
    "\n"
   ]
  },
  {
   "cell_type": "markdown",
   "metadata": {
    "deletable": false,
    "editable": false,
    "id": "qej-Qmuo_Zct",
    "tags": [
     "start_task"
    ]
   },
   "source": [
    "**Задание 16**\n",
    "\n",
    "Просмотрите список и найдите неявные дубликаты названия `hiphop`. Это могут быть названия с ошибками или альтернативные названия того же жанра.\n",
    "\n",
    "Вы увидите следующие неявные дубликаты:\n",
    "* *hip*,\n",
    "* *hop*,\n",
    "* *hip-hop*.\n",
    "\n",
    "Чтобы очистить от них таблицу используйте метод `replace()` с двумя аргументами: списком строк-дубликатов (включащий *hip*, *hop* и *hip-hop*) и строкой с правильным значением. Вам нужно исправить колонку `genre` в таблице `df`: заменить каждое значение из списка дубликатов на верное. Вместо `hip`, `hop` и `hip-hop` в таблице должно быть значение `hiphop`:"
   ]
  },
  {
   "cell_type": "code",
   "execution_count": 16,
   "metadata": {
    "deletable": false,
    "id": "ErNDkmns_Zct"
   },
   "outputs": [
    {
     "data": {
      "text/html": [
       "<div>\n",
       "<style scoped>\n",
       "    .dataframe tbody tr th:only-of-type {\n",
       "        vertical-align: middle;\n",
       "    }\n",
       "\n",
       "    .dataframe tbody tr th {\n",
       "        vertical-align: top;\n",
       "    }\n",
       "\n",
       "    .dataframe thead th {\n",
       "        text-align: right;\n",
       "    }\n",
       "</style>\n",
       "<table border=\"1\" class=\"dataframe\">\n",
       "  <thead>\n",
       "    <tr style=\"text-align: right;\">\n",
       "      <th></th>\n",
       "      <th>user_id</th>\n",
       "      <th>track</th>\n",
       "      <th>artist</th>\n",
       "      <th>genre</th>\n",
       "      <th>city</th>\n",
       "      <th>time</th>\n",
       "      <th>day</th>\n",
       "    </tr>\n",
       "  </thead>\n",
       "  <tbody>\n",
       "    <tr>\n",
       "      <th>0</th>\n",
       "      <td>FFB692EC</td>\n",
       "      <td>Kamigata To Boots</td>\n",
       "      <td>The Mass Missile</td>\n",
       "      <td>rock</td>\n",
       "      <td>Saint-Petersburg</td>\n",
       "      <td>20:28:33</td>\n",
       "      <td>Wednesday</td>\n",
       "    </tr>\n",
       "    <tr>\n",
       "      <th>1</th>\n",
       "      <td>55204538</td>\n",
       "      <td>Delayed Because of Accident</td>\n",
       "      <td>Andreas Rönnberg</td>\n",
       "      <td>rock</td>\n",
       "      <td>Moscow</td>\n",
       "      <td>14:07:09</td>\n",
       "      <td>Friday</td>\n",
       "    </tr>\n",
       "    <tr>\n",
       "      <th>2</th>\n",
       "      <td>20EC38</td>\n",
       "      <td>Funiculì funiculà</td>\n",
       "      <td>Mario Lanza</td>\n",
       "      <td>pop</td>\n",
       "      <td>Saint-Petersburg</td>\n",
       "      <td>20:58:07</td>\n",
       "      <td>Wednesday</td>\n",
       "    </tr>\n",
       "    <tr>\n",
       "      <th>3</th>\n",
       "      <td>A3DD03C9</td>\n",
       "      <td>Dragons in the Sunset</td>\n",
       "      <td>Fire + Ice</td>\n",
       "      <td>folk</td>\n",
       "      <td>Saint-Petersburg</td>\n",
       "      <td>08:37:09</td>\n",
       "      <td>Monday</td>\n",
       "    </tr>\n",
       "    <tr>\n",
       "      <th>4</th>\n",
       "      <td>E2DC1FAE</td>\n",
       "      <td>Soul People</td>\n",
       "      <td>Space Echo</td>\n",
       "      <td>dance</td>\n",
       "      <td>Moscow</td>\n",
       "      <td>08:34:34</td>\n",
       "      <td>Monday</td>\n",
       "    </tr>\n",
       "    <tr>\n",
       "      <th>...</th>\n",
       "      <td>...</td>\n",
       "      <td>...</td>\n",
       "      <td>...</td>\n",
       "      <td>...</td>\n",
       "      <td>...</td>\n",
       "      <td>...</td>\n",
       "      <td>...</td>\n",
       "    </tr>\n",
       "    <tr>\n",
       "      <th>65074</th>\n",
       "      <td>729CBB09</td>\n",
       "      <td>My Name</td>\n",
       "      <td>McLean</td>\n",
       "      <td>rnb</td>\n",
       "      <td>Moscow</td>\n",
       "      <td>13:32:28</td>\n",
       "      <td>Wednesday</td>\n",
       "    </tr>\n",
       "    <tr>\n",
       "      <th>65075</th>\n",
       "      <td>D08D4A55</td>\n",
       "      <td>Maybe One Day (feat. Black Spade)</td>\n",
       "      <td>Blu &amp; Exile</td>\n",
       "      <td>hiphop</td>\n",
       "      <td>Saint-Petersburg</td>\n",
       "      <td>10:00:00</td>\n",
       "      <td>Monday</td>\n",
       "    </tr>\n",
       "    <tr>\n",
       "      <th>65076</th>\n",
       "      <td>C5E3A0D5</td>\n",
       "      <td>Jalopiina</td>\n",
       "      <td>unknown</td>\n",
       "      <td>industrial</td>\n",
       "      <td>Moscow</td>\n",
       "      <td>20:09:26</td>\n",
       "      <td>Friday</td>\n",
       "    </tr>\n",
       "    <tr>\n",
       "      <th>65077</th>\n",
       "      <td>321D0506</td>\n",
       "      <td>Freight Train</td>\n",
       "      <td>Chas McDevitt</td>\n",
       "      <td>rock</td>\n",
       "      <td>Moscow</td>\n",
       "      <td>21:43:59</td>\n",
       "      <td>Friday</td>\n",
       "    </tr>\n",
       "    <tr>\n",
       "      <th>65078</th>\n",
       "      <td>3A64EF84</td>\n",
       "      <td>Tell Me Sweet Little Lies</td>\n",
       "      <td>Monica Lopez</td>\n",
       "      <td>country</td>\n",
       "      <td>Moscow</td>\n",
       "      <td>21:59:46</td>\n",
       "      <td>Friday</td>\n",
       "    </tr>\n",
       "  </tbody>\n",
       "</table>\n",
       "<p>61253 rows × 7 columns</p>\n",
       "</div>"
      ],
      "text/plain": [
       "        user_id                              track            artist  \\\n",
       "0      FFB692EC                  Kamigata To Boots  The Mass Missile   \n",
       "1      55204538        Delayed Because of Accident  Andreas Rönnberg   \n",
       "2        20EC38                  Funiculì funiculà       Mario Lanza   \n",
       "3      A3DD03C9              Dragons in the Sunset        Fire + Ice   \n",
       "4      E2DC1FAE                        Soul People        Space Echo   \n",
       "...         ...                                ...               ...   \n",
       "65074  729CBB09                            My Name            McLean   \n",
       "65075  D08D4A55  Maybe One Day (feat. Black Spade)       Blu & Exile   \n",
       "65076  C5E3A0D5                          Jalopiina           unknown   \n",
       "65077  321D0506                      Freight Train     Chas McDevitt   \n",
       "65078  3A64EF84          Tell Me Sweet Little Lies      Monica Lopez   \n",
       "\n",
       "            genre              city      time        day  \n",
       "0            rock  Saint-Petersburg  20:28:33  Wednesday  \n",
       "1            rock            Moscow  14:07:09     Friday  \n",
       "2             pop  Saint-Petersburg  20:58:07  Wednesday  \n",
       "3            folk  Saint-Petersburg  08:37:09     Monday  \n",
       "4           dance            Moscow  08:34:34     Monday  \n",
       "...           ...               ...       ...        ...  \n",
       "65074         rnb            Moscow  13:32:28  Wednesday  \n",
       "65075      hiphop  Saint-Petersburg  10:00:00     Monday  \n",
       "65076  industrial            Moscow  20:09:26     Friday  \n",
       "65077        rock            Moscow  21:43:59     Friday  \n",
       "65078     country            Moscow  21:59:46     Friday  \n",
       "\n",
       "[61253 rows x 7 columns]"
      ]
     },
     "execution_count": 16,
     "metadata": {},
     "output_type": "execute_result"
    }
   ],
   "source": [
    "df['genre'] = df['genre'].replace('hip','hiphop')\n",
    "df['genre'] = df['genre'].replace('hop','hiphop')\n",
    "df['genre'] = df['genre'].replace('hip-hop','hiphop')\n",
    "\n",
    "df"
   ]
  },
  {
   "cell_type": "markdown",
   "metadata": {
    "deletable": false,
    "editable": false,
    "id": "zQKF16_RG15m",
    "tags": [
     "start_task"
    ]
   },
   "source": [
    "**Задание 17**\n",
    "\n",
    "Проверьте, что заменили неправильные названия:\n",
    "\n",
    "*   hip,\n",
    "*   hop,\n",
    "*   hip-hop.\n",
    "\n",
    "Выведите отсортированный список уникальных значений столбца `genre`:"
   ]
  },
  {
   "cell_type": "code",
   "execution_count": 17,
   "metadata": {
    "deletable": false,
    "id": "wvixALnFG15m"
   },
   "outputs": [
    {
     "data": {
      "text/plain": [
       "array(['acid', 'acoustic', 'action', 'adult', 'africa', 'afrikaans',\n",
       "       'alternative', 'alternativepunk', 'ambient', 'americana',\n",
       "       'animated', 'anime', 'arabesk', 'arabic', 'arena',\n",
       "       'argentinetango', 'art', 'audiobook', 'author', 'avantgarde',\n",
       "       'axé', 'baile', 'balkan', 'beats', 'bigroom', 'black', 'bluegrass',\n",
       "       'blues', 'bollywood', 'bossa', 'brazilian', 'breakbeat', 'breaks',\n",
       "       'broadway', 'cantautori', 'cantopop', 'canzone', 'caribbean',\n",
       "       'caucasian', 'celtic', 'chamber', 'chanson', 'children', 'chill',\n",
       "       'chinese', 'choral', 'christian', 'christmas', 'classical',\n",
       "       'classicmetal', 'club', 'colombian', 'comedy', 'conjazz',\n",
       "       'contemporary', 'country', 'cuban', 'dance', 'dancehall',\n",
       "       'dancepop', 'dark', 'death', 'deep', 'deutschrock', 'deutschspr',\n",
       "       'dirty', 'disco', 'dnb', 'documentary', 'downbeat', 'downtempo',\n",
       "       'drum', 'dub', 'dubstep', 'eastern', 'easy', 'electronic',\n",
       "       'electropop', 'emo', 'entehno', 'epicmetal', 'estrada', 'ethnic',\n",
       "       'eurofolk', 'european', 'experimental', 'extrememetal', 'fado',\n",
       "       'fairytail', 'film', 'fitness', 'flamenco', 'folk', 'folklore',\n",
       "       'folkmetal', 'folkrock', 'folktronica', 'forró', 'frankreich',\n",
       "       'französisch', 'french', 'funk', 'future', 'gangsta', 'garage',\n",
       "       'german', 'ghazal', 'gitarre', 'glitch', 'gospel', 'gothic',\n",
       "       'grime', 'grunge', 'gypsy', 'handsup', \"hard'n'heavy\", 'hardcore',\n",
       "       'hardstyle', 'hardtechno', 'hiphop', 'historisch', 'holiday',\n",
       "       'horror', 'house', 'hymn', 'idm', 'independent', 'indian', 'indie',\n",
       "       'indipop', 'industrial', 'inspirational', 'instrumental',\n",
       "       'international', 'irish', 'jam', 'japanese', 'jazz', 'jewish',\n",
       "       'jpop', 'jungle', 'k-pop', 'karadeniz', 'karaoke', 'kayokyoku',\n",
       "       'korean', 'laiko', 'latin', 'latino', 'leftfield', 'local',\n",
       "       'lounge', 'loungeelectronic', 'lovers', 'malaysian', 'mandopop',\n",
       "       'marschmusik', 'meditative', 'mediterranean', 'melodic', 'metal',\n",
       "       'metalcore', 'mexican', 'middle', 'minimal', 'miscellaneous',\n",
       "       'modern', 'mood', 'mpb', 'muslim', 'native', 'neoklassik', 'neue',\n",
       "       'new', 'newage', 'newwave', 'nu', 'nujazz', 'numetal', 'oceania',\n",
       "       'old', 'opera', 'orchestral', 'other', 'piano', 'podcasts', 'pop',\n",
       "       'popdance', 'popelectronic', 'popeurodance', 'poprussian', 'post',\n",
       "       'posthardcore', 'postrock', 'power', 'progmetal', 'progressive',\n",
       "       'psychedelic', 'punjabi', 'punk', 'quebecois', 'ragga', 'ram',\n",
       "       'rancheras', 'rap', 'rave', 'reggae', 'reggaeton', 'regional',\n",
       "       'relax', 'religious', 'retro', 'rhythm', 'rnb', 'rnr', 'rock',\n",
       "       'rockabilly', 'rockalternative', 'rockindie', 'rockother',\n",
       "       'romance', 'roots', 'ruspop', 'rusrap', 'rusrock', 'russian',\n",
       "       'salsa', 'samba', 'scenic', 'schlager', 'self', 'sertanejo',\n",
       "       'shanson', 'shoegazing', 'showtunes', 'singer', 'ska', 'skarock',\n",
       "       'slow', 'smooth', 'soft', 'soul', 'soulful', 'sound', 'soundtrack',\n",
       "       'southern', 'specialty', 'speech', 'spiritual', 'sport',\n",
       "       'stonerrock', 'surf', 'swing', 'synthpop', 'synthrock',\n",
       "       'sängerportrait', 'tango', 'tanzorchester', 'taraftar', 'tatar',\n",
       "       'tech', 'techno', 'teen', 'thrash', 'top', 'traditional',\n",
       "       'tradjazz', 'trance', 'tribal', 'trip', 'triphop', 'tropical',\n",
       "       'türk', 'türkçe', 'ukrrock', 'unknown', 'urban', 'uzbek',\n",
       "       'variété', 'vi', 'videogame', 'vocal', 'western', 'world',\n",
       "       'worldbeat', 'ïîï', 'электроника'], dtype=object)"
      ]
     },
     "execution_count": 17,
     "metadata": {},
     "output_type": "execute_result"
    }
   ],
   "source": [
    "df['genre'].sort_values().unique()"
   ]
  },
  {
   "cell_type": "markdown",
   "metadata": {
    "deletable": false,
    "editable": false,
    "id": "jz6a9-7HQUDd"
   },
   "source": [
    "**Выводы**\n",
    "\n",
    "Предобработка обнаружила три проблемы в данных:\n",
    "\n",
    "- нарушения в стиле заголовков,\n",
    "- пропущенные значения,\n",
    "- дубликаты — явные и неявные.\n",
    "\n",
    "Вы исправили заголовки, чтобы упростить работу с таблицей. Без дубликатов исследование станет более точным.\n",
    "\n",
    "Пропущенные значения вы заменили на `'unknown'`. Ещё предстоит увидеть, не повредят ли исследованию пропуски в колонке `genre`.\n",
    "\n",
    "Теперь можно перейти к проверке гипотез. "
   ]
  },
  {
   "cell_type": "markdown",
   "metadata": {
    "deletable": false,
    "editable": false,
    "id": "WttZHXH0SqKk"
   },
   "source": [
    "## Проверка гипотез"
   ]
  },
  {
   "cell_type": "markdown",
   "metadata": {
    "deletable": false,
    "editable": false,
    "id": "Im936VVi_Zcu"
   },
   "source": [
    "### Сравнение поведения пользователей двух столиц"
   ]
  },
  {
   "cell_type": "markdown",
   "metadata": {
    "deletable": false,
    "editable": false,
    "id": "nwt_MuaL_Zcu"
   },
   "source": [
    "Первая гипотеза утверждает, что пользователи по-разному слушают музыку в Москве и Санкт-Петербурге. Проверьте это предположение по данным о трёх днях недели — понедельнике, среде и пятнице. Для этого:\n",
    "\n",
    "* Разделите пользователей Москвы и Санкт-Петербурга.\n",
    "* Сравните, сколько треков послушала каждая группа пользователей в понедельник, среду и пятницу.\n"
   ]
  },
  {
   "cell_type": "markdown",
   "metadata": {
    "deletable": false,
    "editable": false,
    "id": "8Dw_YMmT_Zcu",
    "tags": [
     "start_task"
    ]
   },
   "source": [
    "**Задание 18**\n",
    "\n",
    "Для тренировки сначала выполните каждый из расчётов по отдельности. \n",
    "\n",
    "Оцените активность пользователей в каждом городе. Сгруппируйте данные по городу и посчитайте прослушивания в каждой группе.\n",
    "\n"
   ]
  },
  {
   "cell_type": "code",
   "execution_count": 18,
   "metadata": {
    "deletable": false,
    "id": "0_Qs96oh_Zcu"
   },
   "outputs": [
    {
     "data": {
      "text/plain": [
       "city\n",
       "Moscow              42741\n",
       "Saint-Petersburg    18512\n",
       "Name: time, dtype: int64"
      ]
     },
     "execution_count": 18,
     "metadata": {},
     "output_type": "execute_result"
    }
   ],
   "source": [
    "df.groupby('city')['time'].count()"
   ]
  },
  {
   "cell_type": "markdown",
   "metadata": {
    "deletable": false,
    "editable": false,
    "id": "dzli3w8o_Zcu",
    "tags": [
     "start_task"
    ]
   },
   "source": [
    "В Москве прослушиваний больше, чем в Петербурге. Из этого не следует, что московские пользователи чаще слушают музыку. Просто самих пользователей в Москве больше.\n",
    "\n",
    "**Задание 19**\n",
    "\n",
    "Теперь сгруппируйте данные по дню недели и посчитайте прослушивания в понедельник, среду и пятницу. Учтите, что в данных есть информация о прослушиваниях только за эти дни.\n"
   ]
  },
  {
   "cell_type": "code",
   "execution_count": 19,
   "metadata": {
    "deletable": false,
    "id": "uZMKjiJz_Zcu"
   },
   "outputs": [
    {
     "data": {
      "text/plain": [
       "day\n",
       "Friday       21840\n",
       "Monday       21354\n",
       "Wednesday    18059\n",
       "Name: time, dtype: int64"
      ]
     },
     "execution_count": 19,
     "metadata": {},
     "output_type": "execute_result"
    }
   ],
   "source": [
    "df.groupby('day')['time'].count()"
   ]
  },
  {
   "cell_type": "markdown",
   "metadata": {
    "deletable": false,
    "editable": false,
    "id": "cC2tNrlL_Zcu"
   },
   "source": [
    "В среднем пользователи из двух городов менее активны по средам. Но картина может измениться, если рассмотреть каждый город в отдельности."
   ]
  },
  {
   "cell_type": "markdown",
   "metadata": {
    "deletable": false,
    "editable": false,
    "id": "POzs8bGa_Zcu",
    "tags": [
     "start_task"
    ]
   },
   "source": [
    "**Задание 20**\n",
    "\n",
    "\n",
    "Вы видели, как работает группировка по городу и по дням недели. Теперь напишите функцию, которая объединит два эти расчёта.\n",
    "\n",
    "Создайте функцию `number_tracks()`, которая посчитает прослушивания для заданного дня и города. Ей понадобятся два параметра:\n",
    "* день недели,\n",
    "* название города.\n",
    "\n",
    "В функции сохраните в переменную строки исходной таблицы, у которых значение:\n",
    "  * в колонке `day` равно параметру `day`,\n",
    "  * в колонке `city` равно параметру `city`.\n",
    "\n",
    "Для этого примените последовательную фильтрацию с логической индексацией (или сложные логические выражения в одну строку, если вы уже знакомы с ними).\n",
    "\n",
    "Затем посчитайте значения в столбце `user_id` получившейся таблицы. Результат сохраните в новую переменную. Верните эту переменную из функции."
   ]
  },
  {
   "cell_type": "code",
   "execution_count": 20,
   "metadata": {
    "deletable": false,
    "id": "Nz3GdQB1_Zcu"
   },
   "outputs": [],
   "source": [
    "# <создание функции number_tracks()>\n",
    "\n",
    "def number_tracks(day,city):\n",
    "    track_list = df[df['day'] == day]\n",
    "    track_list = track_list[track_list['city'] == city]\n",
    "    track_list_count = track_list['user_id'].count()\n",
    "    return track_list_count\n",
    "\n",
    "    \n",
    "# Объявляется функция с двумя параметрами: day, city.\n",
    "# В переменной track_list сохраняются те строки таблицы df, для которых \n",
    "# значение в столбце 'day' равно параметру day и одновременно значение\n",
    "# в столбце 'city' равно параметру city (используйте последовательную фильтрацию\n",
    "# с помощью логической индексации или сложные логические выражения в одну строку, если вы уже знакомы с ними).\n",
    "# В переменной track_list_count сохраняется число значений столбца 'user_id',\n",
    "# рассчитанное методом count() для таблицы track_list.\n",
    "# Функция возвращает число - значение track_list_count.\n",
    "\n",
    "# Функция для подсчёта прослушиваний для конкретного города и дня.\n",
    "# С помощью последовательной фильтрации с логической индексацией она \n",
    "# сначала получит из исходной таблицы строки с нужным днём,\n",
    "# затем из результата отфильтрует строки с нужным городом,\n",
    "# методом count() посчитает количество значений в колонке user_id. \n",
    "# Это количество функция вернёт в качестве результата"
   ]
  },
  {
   "cell_type": "markdown",
   "metadata": {
    "deletable": false,
    "editable": false,
    "id": "ytf7xFrFJQ2r",
    "tags": [
     "start_task"
    ]
   },
   "source": [
    "**Задание 21**\n",
    "\n",
    "Вызовите `number_tracks()` шесть раз, меняя значение параметров — так, чтобы получить данные для каждого города в каждый из трёх дней."
   ]
  },
  {
   "cell_type": "code",
   "execution_count": 21,
   "metadata": {
    "deletable": false,
    "id": "rJcRATNQ_Zcu"
   },
   "outputs": [
    {
     "data": {
      "text/plain": [
       "15740"
      ]
     },
     "execution_count": 21,
     "metadata": {},
     "output_type": "execute_result"
    }
   ],
   "source": [
    "number_tracks('Monday', 'Moscow')"
   ]
  },
  {
   "cell_type": "code",
   "execution_count": 22,
   "metadata": {
    "deletable": false,
    "id": "hq_ncZ5T_Zcu"
   },
   "outputs": [
    {
     "data": {
      "text/plain": [
       "5614"
      ]
     },
     "execution_count": 22,
     "metadata": {},
     "output_type": "execute_result"
    }
   ],
   "source": [
    "number_tracks('Monday', 'Saint-Petersburg')"
   ]
  },
  {
   "cell_type": "code",
   "execution_count": 23,
   "metadata": {
    "deletable": false,
    "id": "_NTy2VPU_Zcu"
   },
   "outputs": [
    {
     "data": {
      "text/plain": [
       "11056"
      ]
     },
     "execution_count": 23,
     "metadata": {},
     "output_type": "execute_result"
    }
   ],
   "source": [
    "number_tracks('Wednesday', 'Moscow')\n"
   ]
  },
  {
   "cell_type": "code",
   "execution_count": 24,
   "metadata": {
    "deletable": false,
    "id": "j2y3TAwo_Zcu"
   },
   "outputs": [
    {
     "data": {
      "text/plain": [
       "7003"
      ]
     },
     "execution_count": 24,
     "metadata": {},
     "output_type": "execute_result"
    }
   ],
   "source": [
    "number_tracks('Wednesday', 'Saint-Petersburg')"
   ]
  },
  {
   "cell_type": "code",
   "execution_count": 25,
   "metadata": {
    "deletable": false,
    "id": "vYDw5u_K_Zcu"
   },
   "outputs": [
    {
     "data": {
      "text/plain": [
       "15945"
      ]
     },
     "execution_count": 25,
     "metadata": {},
     "output_type": "execute_result"
    }
   ],
   "source": [
    "number_tracks('Friday', 'Moscow')"
   ]
  },
  {
   "cell_type": "code",
   "execution_count": 26,
   "metadata": {
    "deletable": false,
    "id": "8_yzFtW3_Zcu"
   },
   "outputs": [
    {
     "data": {
      "text/plain": [
       "5895"
      ]
     },
     "execution_count": 26,
     "metadata": {},
     "output_type": "execute_result"
    }
   ],
   "source": [
    "number_tracks('Friday', 'Saint-Petersburg')"
   ]
  },
  {
   "cell_type": "markdown",
   "metadata": {
    "deletable": false,
    "editable": false,
    "id": "7QXffbO-_Zcu",
    "tags": [
     "start_task"
    ]
   },
   "source": [
    "**Задание 22**\n",
    "\n",
    "Создайте c помощью конструктора `pd.DataFrame` таблицу, где\n",
    "* названия колонок — `['city', 'monday', 'wednesday', 'friday']`;\n",
    "* данные — результаты, которые вы получили с помощью `number_tracks`."
   ]
  },
  {
   "cell_type": "code",
   "execution_count": 27,
   "metadata": {
    "deletable": false,
    "id": "APAcLpOr_Zcu"
   },
   "outputs": [
    {
     "data": {
      "text/html": [
       "<div>\n",
       "<style scoped>\n",
       "    .dataframe tbody tr th:only-of-type {\n",
       "        vertical-align: middle;\n",
       "    }\n",
       "\n",
       "    .dataframe tbody tr th {\n",
       "        vertical-align: top;\n",
       "    }\n",
       "\n",
       "    .dataframe thead th {\n",
       "        text-align: right;\n",
       "    }\n",
       "</style>\n",
       "<table border=\"1\" class=\"dataframe\">\n",
       "  <thead>\n",
       "    <tr style=\"text-align: right;\">\n",
       "      <th></th>\n",
       "      <th>city</th>\n",
       "      <th>monday</th>\n",
       "      <th>wednesday</th>\n",
       "      <th>friday</th>\n",
       "    </tr>\n",
       "  </thead>\n",
       "  <tbody>\n",
       "    <tr>\n",
       "      <th>0</th>\n",
       "      <td>Moscow</td>\n",
       "      <td>15740</td>\n",
       "      <td>11056</td>\n",
       "      <td>15945</td>\n",
       "    </tr>\n",
       "    <tr>\n",
       "      <th>1</th>\n",
       "      <td>Saint-Petersburg</td>\n",
       "      <td>5614</td>\n",
       "      <td>7003</td>\n",
       "      <td>5895</td>\n",
       "    </tr>\n",
       "  </tbody>\n",
       "</table>\n",
       "</div>"
      ],
      "text/plain": [
       "               city  monday  wednesday  friday\n",
       "0            Moscow   15740      11056   15945\n",
       "1  Saint-Petersburg    5614       7003    5895"
      ]
     },
     "execution_count": 27,
     "metadata": {},
     "output_type": "execute_result"
    }
   ],
   "source": [
    "data = [['Moscow',15740,11056,15945],['Saint-Petersburg',5614,7003,5895]]\n",
    "columns = ['city', 'monday', 'wednesday', 'friday']\n",
    "pd.DataFrame(data = data,columns = columns)\n"
   ]
  },
  {
   "cell_type": "markdown",
   "metadata": {
    "deletable": false,
    "editable": false,
    "id": "-EgPIHYu_Zcu"
   },
   "source": [
    "**Выводы**\n",
    "\n",
    "Данные показывают разницу поведения пользователей:\n",
    "\n",
    "- В Москве пик прослушиваний приходится на понедельник и пятницу, а в среду заметен спад.\n",
    "- В Петербурге, наоборот, больше слушают музыку по средам. Активность в понедельник и пятницу здесь почти в равной мере уступает среде.\n",
    "\n",
    "Значит, данные говорят в пользу первой гипотезы."
   ]
  },
  {
   "cell_type": "markdown",
   "metadata": {
    "deletable": false,
    "editable": false,
    "id": "atZAxtq4_Zcu"
   },
   "source": [
    "### Музыка в начале и в конце недели"
   ]
  },
  {
   "cell_type": "markdown",
   "metadata": {
    "deletable": false,
    "editable": false,
    "id": "eXrQqXFH_Zcu"
   },
   "source": [
    "Согласно второй гипотезе, утром в понедельник в Москве преобладают одни жанры, а в Петербурге — другие. Так же и вечером пятницы преобладают разные жанры — в зависимости от города."
   ]
  },
  {
   "cell_type": "markdown",
   "metadata": {
    "deletable": false,
    "editable": false,
    "id": "S8UcW6Hw_Zcu",
    "tags": [
     "start_task"
    ]
   },
   "source": [
    "**Задание 23**\n",
    "\n",
    "Сохраните таблицы с данными в две переменные:\n",
    "* по Москве — в `moscow_general`;\n",
    "* по Санкт-Петербургу — в `spb_general`."
   ]
  },
  {
   "cell_type": "code",
   "execution_count": 28,
   "metadata": {
    "deletable": false,
    "id": "qeaFfM_P_Zcu"
   },
   "outputs": [],
   "source": [
    "moscow_general = df[df['city'] == 'Moscow']\n",
    "\n"
   ]
  },
  {
   "cell_type": "code",
   "execution_count": 29,
   "metadata": {
    "deletable": false,
    "id": "ORaVRKto_Zcu"
   },
   "outputs": [],
   "source": [
    "spb_general = df[df['city'] == 'Saint-Petersburg']\n"
   ]
  },
  {
   "cell_type": "markdown",
   "metadata": {
    "deletable": false,
    "editable": false,
    "id": "MEJV-CX2_Zcu",
    "tags": [
     "start_task"
    ]
   },
   "source": [
    "**Задание 24**\n",
    "\n",
    "Создайте функцию `genre_weekday()` с четырьмя параметрами:\n",
    "* таблица (датафрейм) с данными,\n",
    "* день недели,\n",
    "* начальная временная метка в формате 'hh:mm', \n",
    "* последняя временная метка в формате 'hh:mm'.\n",
    "\n",
    "Функция должна вернуть информацию о топ-10 жанров тех треков, которые прослушивали в указанный день, в промежутке между двумя отметками времени."
   ]
  },
  {
   "cell_type": "code",
   "execution_count": 30,
   "metadata": {
    "deletable": false,
    "id": "laJT9BYl_Zcu"
   },
   "outputs": [],
   "source": [
    "# Объявление функции genre_weekday() с параметрами table, day, time1, time2,\n",
    "# которая возвращает информацию о самых популярных жанрах в указанный день в\n",
    "# заданное время:\n",
    "# 1) в переменную genre_df сохраняются те строки переданного датафрейма table, для\n",
    "#    которых одновременно:\n",
    "#    - значение в столбце day равно значению аргумента day\n",
    "#    - значение в столбце time больше значения аргумента time1\n",
    "#    - значение в столбце time меньше значения аргумента time2\n",
    "\n",
    "#    Используйте последовательную фильтрацию с помощью логической индексации.\n",
    "# 2) сгруппировать датафрейм genre_df по столбцу genre, взять один из его\n",
    "#    столбцов и посчитать методом count() количество записей для каждого из\n",
    "#    присутствующих жанров, получившийся Series записать в переменную\n",
    "#    genre_df_count\n",
    "# 3) отсортировать genre_df_count по убыванию встречаемости и сохранить\n",
    "#    в переменную genre_df_sorted\n",
    "# 4) вернуть Series из 10 первых значений genre_df_sorted, это будут топ-10\n",
    "#    популярных жанров (в указанный день, в заданное время)\n",
    "\n",
    "def genre_weekday(df, day, time1, time2):\n",
    "    # последовательная фильтрация\n",
    "    # оставляем в genre_df только те строки df, у которых день равен day\n",
    "    genre_df = df[df['day'] == day]\n",
    "    # оставляем в genre_df только те строки genre_df, у которых время меньше time2\n",
    "    genre_df = genre_df[genre_df['time'] < time2]\n",
    "    # оставляем в genre_df только те строки genre_df, у которых время больше time1\n",
    "    genre_df = genre_df[genre_df['time'] > time1]\n",
    "    # сгруппируем отфильтрованный датафрейм по столбцу с названиями жанров, возьмём столбец genre и посчитаем кол-во строк для каждого жанра методом count()\n",
    "    genre_df_grouped = genre_df.groupby('genre')['genre'].count()\n",
    "    # отсортируем результат по убыванию (чтобы в начале Series оказались самые популярные жанры)\n",
    "    genre_df_sorted = genre_df_grouped.sort_values(ascending=False)\n",
    "    # вернём Series с 10 самыми популярными жанрами в указанный отрезок времени заданного дня\n",
    "    return genre_df_sorted[:10]\n",
    " "
   ]
  },
  {
   "cell_type": "markdown",
   "metadata": {
    "deletable": false,
    "editable": false,
    "id": "la2s2_PF_Zcu",
    "tags": [
     "start_task"
    ]
   },
   "source": [
    "**Задание 25**\n",
    "\n",
    "\n",
    "Cравните результаты функции `genre_weekday()` для Москвы и Санкт-Петербурга в понедельник утром (с 7:00 до 11:00) и в пятницу вечером (с 17:00 до 23:00):"
   ]
  },
  {
   "cell_type": "code",
   "execution_count": 31,
   "metadata": {
    "deletable": false,
    "id": "yz7itPUQ_Zcu"
   },
   "outputs": [
    {
     "data": {
      "text/plain": [
       "genre\n",
       "pop            781\n",
       "dance          549\n",
       "electronic     480\n",
       "rock           474\n",
       "hiphop         286\n",
       "ruspop         186\n",
       "world          181\n",
       "rusrap         175\n",
       "alternative    164\n",
       "unknown        161\n",
       "Name: genre, dtype: int64"
      ]
     },
     "execution_count": 31,
     "metadata": {},
     "output_type": "execute_result"
    }
   ],
   "source": [
    "genre_weekday(moscow_general,'Monday','07:00','11:00')\n",
    "\n",
    "# вызов функции для утра понедельника в Москве (вместо df — таблица moscow_general)\n",
    "# объекты, хранящие время, являются строками и сравниваются как строки\n",
    "# пример вызова: genre_weekday(moscow_general, 'Monday', '07:00', '11:00')"
   ]
  },
  {
   "cell_type": "code",
   "execution_count": 32,
   "metadata": {
    "deletable": false,
    "id": "kwUcHPdy_Zcu"
   },
   "outputs": [
    {
     "data": {
      "text/plain": [
       "genre\n",
       "pop            218\n",
       "dance          182\n",
       "rock           162\n",
       "electronic     147\n",
       "hiphop          80\n",
       "ruspop          64\n",
       "alternative     58\n",
       "rusrap          55\n",
       "jazz            44\n",
       "classical       40\n",
       "Name: genre, dtype: int64"
      ]
     },
     "execution_count": 32,
     "metadata": {},
     "output_type": "execute_result"
    }
   ],
   "source": [
    "genre_weekday(spb_general,'Monday','07:00','11:00')"
   ]
  },
  {
   "cell_type": "code",
   "execution_count": 33,
   "metadata": {
    "deletable": false,
    "id": "EzXVRE1o_Zcu"
   },
   "outputs": [
    {
     "data": {
      "text/plain": [
       "genre\n",
       "pop            713\n",
       "rock           517\n",
       "dance          495\n",
       "electronic     482\n",
       "hiphop         273\n",
       "world          208\n",
       "ruspop         170\n",
       "alternative    163\n",
       "classical      163\n",
       "rusrap         142\n",
       "Name: genre, dtype: int64"
      ]
     },
     "execution_count": 33,
     "metadata": {},
     "output_type": "execute_result"
    }
   ],
   "source": [
    "genre_weekday(moscow_general,'Friday','17:00','23:00')"
   ]
  },
  {
   "cell_type": "code",
   "execution_count": 34,
   "metadata": {
    "deletable": false,
    "id": "JZaEKu5v_Zcu"
   },
   "outputs": [
    {
     "data": {
      "text/plain": [
       "genre\n",
       "pop            256\n",
       "electronic     216\n",
       "rock           216\n",
       "dance          210\n",
       "hiphop          97\n",
       "alternative     63\n",
       "jazz            61\n",
       "classical       60\n",
       "rusrap          59\n",
       "world           54\n",
       "Name: genre, dtype: int64"
      ]
     },
     "execution_count": 34,
     "metadata": {},
     "output_type": "execute_result"
    }
   ],
   "source": [
    "genre_weekday(spb_general,'Friday','17:00','23:00')"
   ]
  },
  {
   "cell_type": "markdown",
   "metadata": {
    "deletable": false,
    "editable": false,
    "id": "wrCe4MNX_Zcu"
   },
   "source": [
    "**Выводы**\n",
    "\n",
    "Если сравнить топ-10 жанров в понедельник утром, можно сделать такие выводы:\n",
    "\n",
    "1. В Москве и Петербурге слушают похожую музыку. Единственное отличие — в московский рейтинг вошёл жанр “world”, а в петербургский — джаз и классика.\n",
    "\n",
    "2. В Москве пропущенных значений оказалось так много, что значение `'unknown'` заняло десятое место среди самых популярных жанров. Значит, пропущенные значения занимают существенную долю в данных и угрожают достоверности исследования.\n",
    "\n",
    "Вечер пятницы не меняет эту картину. Некоторые жанры поднимаются немного выше, другие спускаются, но в целом топ-10 остаётся тем же самым.\n",
    "\n",
    "Таким образом, вторая гипотеза подтвердилась лишь частично:\n",
    "* Пользователи слушают похожую музыку в начале недели и в конце.\n",
    "* Разница между Москвой и Петербургом не слишком выражена. В Москве чаще слушают русскую популярную музыку, в Петербурге — джаз.\n",
    "\n",
    "Однако пропуски в данных ставят под сомнение этот результат. В Москве их так много, что рейтинг топ-10 мог бы выглядеть иначе, если бы не утерянные  данные о жанрах."
   ]
  },
  {
   "cell_type": "markdown",
   "metadata": {
    "deletable": false,
    "editable": false,
    "id": "JolODAqr_Zcu"
   },
   "source": [
    "### Жанровые предпочтения в Москве и Петербурге\n",
    "\n",
    "Гипотеза: Петербург — столица рэпа, музыку этого жанра там слушают чаще, чем в Москве.  А Москва — город контрастов, в котором, тем не менее, преобладает поп-музыка."
   ]
  },
  {
   "cell_type": "markdown",
   "metadata": {
    "deletable": false,
    "editable": false,
    "id": "DlegSvaT_Zcu",
    "tags": [
     "start_task"
    ]
   },
   "source": [
    "**Задание 26**\n",
    "\n",
    "Сгруппируйте таблицу `moscow_general` по жанру и посчитайте прослушивания треков каждого жанра методом `count()`. Затем отсортируйте результат в порядке убывания и сохраните его в таблице `moscow_genres`."
   ]
  },
  {
   "cell_type": "code",
   "execution_count": 46,
   "metadata": {
    "deletable": false,
    "id": "r19lIPke_Zcu"
   },
   "outputs": [],
   "source": [
    "moscow_genres = moscow_general.groupby('genre')['genre'].count().sort_values(ascending=False)\n",
    "\n",
    "# одной строкой: группировка таблицы moscow_general по столбцу 'genre', \n",
    "# подсчёт числа значений 'genre' в этой группировке методом count(), \n",
    "# сортировка получившегося Series в порядке убывания и сохранение в moscow_genres"
   ]
  },
  {
   "cell_type": "markdown",
   "metadata": {
    "deletable": false,
    "editable": false,
    "id": "6kMuomxTiIr8",
    "tags": [
     "start_task"
    ]
   },
   "source": [
    "**Задание 27**\n",
    "\n",
    "Выведите на экран первые десять строк `moscow_genres`:"
   ]
  },
  {
   "cell_type": "code",
   "execution_count": 47,
   "metadata": {
    "deletable": false,
    "id": "WhCSooF8_Zcv"
   },
   "outputs": [
    {
     "data": {
      "text/plain": [
       "genre\n",
       "pop            5892\n",
       "dance          4435\n",
       "rock           3965\n",
       "electronic     3786\n",
       "hiphop         2096\n",
       "classical      1616\n",
       "world          1432\n",
       "alternative    1379\n",
       "ruspop         1372\n",
       "rusrap         1161\n",
       "Name: genre, dtype: int64"
      ]
     },
     "execution_count": 47,
     "metadata": {},
     "output_type": "execute_result"
    }
   ],
   "source": [
    "moscow_genres.head(10)"
   ]
  },
  {
   "cell_type": "markdown",
   "metadata": {
    "deletable": false,
    "editable": false,
    "id": "cnPG2vnN_Zcv",
    "tags": [
     "start_task"
    ]
   },
   "source": [
    "**Задание 28**\n",
    "\n",
    "\n",
    "Теперь повторите то же и для Петербурга.\n",
    "\n",
    "Сгруппируйте таблицу `spb_general` по жанру. Посчитайте прослушивания треков каждого жанра. Результат отсортируйте в порядке убывания и сохраните в таблице `spb_genres`:\n"
   ]
  },
  {
   "cell_type": "code",
   "execution_count": 37,
   "metadata": {
    "deletable": false,
    "id": "gluLIpE7_Zcv"
   },
   "outputs": [],
   "source": [
    "spb_genres = spb_general.groupby('genre')['genre'].count().sort_values(ascending=False)\n",
    "\n",
    "# одной строкой: группировка таблицы spb_general по столбцу 'genre', \n",
    "# подсчёт числа значений 'genre' в этой группировке методом count(), \n",
    "# сортировка получившегося Series в порядке убывания и сохранение в spb_genres"
   ]
  },
  {
   "cell_type": "markdown",
   "metadata": {
    "deletable": false,
    "editable": false,
    "id": "5Doha_ODgyQ8",
    "tags": [
     "start_task"
    ]
   },
   "source": [
    "**Задание 29**\n",
    "\n",
    "Выведите на экран первые десять строк `spb_genres`:"
   ]
  },
  {
   "cell_type": "code",
   "execution_count": 48,
   "metadata": {
    "deletable": false,
    "id": "uaGJHjVU_Zcv"
   },
   "outputs": [
    {
     "ename": "NameError",
     "evalue": "name 'spb_genres' is not defined",
     "output_type": "error",
     "traceback": [
      "\u001b[0;31m---------------------------------------------------------------------------\u001b[0m",
      "\u001b[0;31mNameError\u001b[0m                                 Traceback (most recent call last)",
      "\u001b[0;32m/tmp/ipykernel_246/2863067167.py\u001b[0m in \u001b[0;36m<module>\u001b[0;34m\u001b[0m\n\u001b[0;32m----> 1\u001b[0;31m \u001b[0mspb_genres\u001b[0m\u001b[0;34m.\u001b[0m\u001b[0mhead\u001b[0m\u001b[0;34m(\u001b[0m\u001b[0;36m10\u001b[0m\u001b[0;34m)\u001b[0m\u001b[0;34m\u001b[0m\u001b[0;34m\u001b[0m\u001b[0m\n\u001b[0m",
      "\u001b[0;31mNameError\u001b[0m: name 'spb_genres' is not defined"
     ]
    }
   ],
   "source": [
    "spb_genres.head(10)"
   ]
  },
  {
   "cell_type": "markdown",
   "metadata": {
    "deletable": false,
    "editable": false,
    "id": "RY51YJYu_Zcv"
   },
   "source": [
    "**Выводы**"
   ]
  },
  {
   "cell_type": "markdown",
   "metadata": {
    "deletable": false,
    "editable": false,
    "id": "nVhnJEm__Zcv"
   },
   "source": [
    "Гипотеза частично подтвердилась:\n",
    "* Поп-музыка — самый популярный жанр в Москве, как и предполагала гипотеза. Более того, в топ-10 жанров встречается близкий жанр — русская популярная музыка.\n",
    "* Вопреки ожиданиям, рэп одинаково популярен в Москве и Петербурге. \n"
   ]
  },
  {
   "cell_type": "markdown",
   "metadata": {
    "deletable": false,
    "editable": false,
    "id": "ykKQ0N65_Zcv"
   },
   "source": [
    "## Итоги исследования"
   ]
  },
  {
   "cell_type": "markdown",
   "metadata": {
    "deletable": false,
    "editable": false,
    "id": "tjUwbHb3_Zcv"
   },
   "source": [
    "Вы проверили три гипотезы и установили:\n",
    "\n",
    "1. День недели по-разному влияет на активность пользователей в Москве и Петербурге. \n",
    "\n",
    "Первая гипотеза полностью подтвердилась.\n",
    "\n",
    "2. Музыкальные предпочтения не сильно меняются в течение недели — будь то Москва или Петербург. Небольшие различия заметны в начале недели, по понедельникам:\n",
    "* в Москве слушают музыку жанра “world”,\n",
    "* в Петербурге — джаз и классику.\n",
    "\n",
    "Таким образом, вторая гипотеза подтвердилась лишь отчасти. Этот результат мог оказаться иным, если бы не пропуски в данных.\n",
    "\n",
    "3. Во вкусах пользователей Москвы и Петербурга больше общего чем различий. Вопреки ожиданиям, предпочтения жанров в Петербурге напоминают московские.\n",
    "\n",
    "Третья гипотеза не подтвердилась. Если различия в предпочтениях и существуют, на основной массе пользователей они незаметны.\n",
    "\n",
    "**На практике исследования содержат проверки статистических гипотез.**\n",
    "Из данных одного сервиса не всегда можно сделать вывод о всех жителях города.\n",
    "Проверки статистических гипотез покажут, насколько они достоверны, исходя из имеющихся данных. \n",
    "С методами проверок гипотез вы ещё познакомитесь в следующих темах."
   ]
  }
 ],
 "metadata": {
  "ExecuteTimeLog": [
   {
    "duration": 399,
    "start_time": "2022-12-15T14:31:25.970Z"
   },
   {
    "duration": 59,
    "start_time": "2022-12-15T14:33:11.509Z"
   },
   {
    "duration": 66,
    "start_time": "2022-12-15T14:33:17.255Z"
   },
   {
    "duration": 73,
    "start_time": "2022-12-15T14:33:54.431Z"
   },
   {
    "duration": 6,
    "start_time": "2022-12-15T14:34:38.511Z"
   },
   {
    "duration": 472,
    "start_time": "2022-12-15T14:35:56.698Z"
   },
   {
    "duration": 194,
    "start_time": "2022-12-15T14:36:00.805Z"
   },
   {
    "duration": 13,
    "start_time": "2022-12-15T14:36:09.613Z"
   },
   {
    "duration": 10,
    "start_time": "2022-12-15T14:36:26.358Z"
   },
   {
    "duration": 31,
    "start_time": "2022-12-15T14:36:45.667Z"
   },
   {
    "duration": 2,
    "start_time": "2022-12-15T14:41:25.546Z"
   },
   {
    "duration": 4,
    "start_time": "2022-12-15T14:43:42.159Z"
   },
   {
    "duration": 3,
    "start_time": "2022-12-15T14:47:52.591Z"
   },
   {
    "duration": 8,
    "start_time": "2022-12-15T14:48:18.725Z"
   },
   {
    "duration": 4,
    "start_time": "2022-12-15T14:48:32.788Z"
   },
   {
    "duration": 36,
    "start_time": "2022-12-15T14:50:42.871Z"
   },
   {
    "duration": 30,
    "start_time": "2022-12-15T14:50:51.193Z"
   },
   {
    "duration": 93,
    "start_time": "2022-12-15T16:09:09.026Z"
   },
   {
    "duration": 5,
    "start_time": "2022-12-15T16:09:17.394Z"
   },
   {
    "duration": 15,
    "start_time": "2022-12-15T16:09:32.578Z"
   },
   {
    "duration": 7,
    "start_time": "2022-12-15T16:09:51.992Z"
   },
   {
    "duration": 8,
    "start_time": "2022-12-15T16:10:02.107Z"
   },
   {
    "duration": 7,
    "start_time": "2022-12-15T16:10:21.237Z"
   },
   {
    "duration": 6,
    "start_time": "2022-12-15T16:10:28.264Z"
   },
   {
    "duration": 6,
    "start_time": "2022-12-15T16:10:40.429Z"
   },
   {
    "duration": 12,
    "start_time": "2022-12-15T16:10:54.237Z"
   },
   {
    "duration": 106,
    "start_time": "2022-12-15T16:11:01.021Z"
   },
   {
    "duration": 9,
    "start_time": "2022-12-15T16:11:06.726Z"
   },
   {
    "duration": 6,
    "start_time": "2022-12-15T16:12:07.637Z"
   },
   {
    "duration": 6,
    "start_time": "2022-12-15T16:12:16.846Z"
   },
   {
    "duration": 6,
    "start_time": "2022-12-15T16:14:58.902Z"
   },
   {
    "duration": 6,
    "start_time": "2022-12-15T16:15:10.050Z"
   },
   {
    "duration": 7,
    "start_time": "2022-12-15T16:15:19.534Z"
   },
   {
    "duration": 7,
    "start_time": "2022-12-15T16:15:26.700Z"
   },
   {
    "duration": 6,
    "start_time": "2022-12-15T16:15:31.302Z"
   },
   {
    "duration": 6,
    "start_time": "2022-12-15T16:16:48.821Z"
   },
   {
    "duration": 8,
    "start_time": "2022-12-15T16:19:20.271Z"
   },
   {
    "duration": 9,
    "start_time": "2022-12-15T16:29:15.123Z"
   },
   {
    "duration": 3,
    "start_time": "2022-12-15T16:29:18.494Z"
   },
   {
    "duration": 8,
    "start_time": "2022-12-15T16:29:29.787Z"
   },
   {
    "duration": 46,
    "start_time": "2022-12-15T16:29:43.090Z"
   },
   {
    "duration": 5,
    "start_time": "2022-12-15T16:30:09.393Z"
   },
   {
    "duration": 6,
    "start_time": "2022-12-15T16:30:38.105Z"
   },
   {
    "duration": 5,
    "start_time": "2022-12-15T16:30:50.668Z"
   },
   {
    "duration": 66,
    "start_time": "2022-12-15T16:31:02.697Z"
   },
   {
    "duration": 7,
    "start_time": "2022-12-15T16:31:11.794Z"
   },
   {
    "duration": 13,
    "start_time": "2022-12-15T16:33:09.779Z"
   },
   {
    "duration": 4,
    "start_time": "2022-12-15T16:33:20.217Z"
   },
   {
    "duration": 5,
    "start_time": "2022-12-15T16:33:46.503Z"
   },
   {
    "duration": 11,
    "start_time": "2022-12-15T16:34:19.098Z"
   },
   {
    "duration": 73,
    "start_time": "2022-12-15T16:34:31.010Z"
   },
   {
    "duration": 72,
    "start_time": "2022-12-15T16:34:35.008Z"
   },
   {
    "duration": 3,
    "start_time": "2022-12-15T16:35:12.218Z"
   },
   {
    "duration": 7,
    "start_time": "2022-12-15T16:35:15.764Z"
   },
   {
    "duration": 6,
    "start_time": "2022-12-15T16:35:25.002Z"
   },
   {
    "duration": 7,
    "start_time": "2022-12-15T16:35:40.743Z"
   },
   {
    "duration": 5,
    "start_time": "2022-12-15T16:35:55.204Z"
   },
   {
    "duration": 5,
    "start_time": "2022-12-15T16:43:47.106Z"
   },
   {
    "duration": 50,
    "start_time": "2022-12-15T16:45:03.849Z"
   },
   {
    "duration": 394,
    "start_time": "2022-12-15T16:45:36.395Z"
   },
   {
    "duration": 163,
    "start_time": "2022-12-15T16:45:36.790Z"
   },
   {
    "duration": 16,
    "start_time": "2022-12-15T16:45:36.955Z"
   },
   {
    "duration": 34,
    "start_time": "2022-12-15T16:45:36.978Z"
   },
   {
    "duration": 2,
    "start_time": "2022-12-15T16:45:37.014Z"
   },
   {
    "duration": 8,
    "start_time": "2022-12-15T16:45:37.018Z"
   },
   {
    "duration": 13,
    "start_time": "2022-12-15T16:45:37.028Z"
   },
   {
    "duration": 13,
    "start_time": "2022-12-15T16:45:37.043Z"
   },
   {
    "duration": 50,
    "start_time": "2022-12-15T16:45:37.057Z"
   },
   {
    "duration": 26,
    "start_time": "2022-12-15T16:45:37.110Z"
   },
   {
    "duration": 10,
    "start_time": "2022-12-15T16:45:37.138Z"
   },
   {
    "duration": 6,
    "start_time": "2022-12-15T16:45:37.149Z"
   },
   {
    "duration": 10,
    "start_time": "2022-12-15T16:45:37.156Z"
   },
   {
    "duration": 6,
    "start_time": "2022-12-15T16:45:37.167Z"
   },
   {
    "duration": 19,
    "start_time": "2022-12-15T16:45:37.175Z"
   },
   {
    "duration": 8,
    "start_time": "2022-12-15T16:45:37.195Z"
   },
   {
    "duration": 8,
    "start_time": "2022-12-15T16:45:37.205Z"
   },
   {
    "duration": 8,
    "start_time": "2022-12-15T16:45:37.214Z"
   },
   {
    "duration": 7,
    "start_time": "2022-12-15T16:45:37.223Z"
   },
   {
    "duration": 9,
    "start_time": "2022-12-15T16:45:37.231Z"
   },
   {
    "duration": 8,
    "start_time": "2022-12-15T16:45:37.241Z"
   },
   {
    "duration": 5,
    "start_time": "2022-12-15T16:45:37.250Z"
   },
   {
    "duration": 6,
    "start_time": "2022-12-15T16:45:37.256Z"
   },
   {
    "duration": 10,
    "start_time": "2022-12-15T16:45:37.263Z"
   },
   {
    "duration": 22,
    "start_time": "2022-12-15T16:45:37.274Z"
   },
   {
    "duration": 4,
    "start_time": "2022-12-15T16:45:37.298Z"
   },
   {
    "duration": 9,
    "start_time": "2022-12-15T16:45:37.303Z"
   },
   {
    "duration": 3,
    "start_time": "2022-12-15T16:45:37.315Z"
   },
   {
    "duration": 6,
    "start_time": "2022-12-15T16:45:37.320Z"
   },
   {
    "duration": 74,
    "start_time": "2022-12-15T16:45:37.327Z"
   },
   {
    "duration": 0,
    "start_time": "2022-12-15T16:45:37.402Z"
   },
   {
    "duration": 0,
    "start_time": "2022-12-15T16:45:37.404Z"
   },
   {
    "duration": 0,
    "start_time": "2022-12-15T16:45:37.404Z"
   },
   {
    "duration": 0,
    "start_time": "2022-12-15T16:45:37.406Z"
   },
   {
    "duration": 0,
    "start_time": "2022-12-15T16:45:37.407Z"
   },
   {
    "duration": 0,
    "start_time": "2022-12-15T16:45:37.408Z"
   },
   {
    "duration": 0,
    "start_time": "2022-12-15T16:45:37.409Z"
   },
   {
    "duration": 0,
    "start_time": "2022-12-15T16:45:37.410Z"
   },
   {
    "duration": 73,
    "start_time": "2022-12-15T16:48:29.057Z"
   },
   {
    "duration": 1221,
    "start_time": "2022-12-15T16:48:44.701Z"
   },
   {
    "duration": 1249,
    "start_time": "2022-12-15T16:49:00.105Z"
   },
   {
    "duration": 1264,
    "start_time": "2022-12-15T16:49:28.892Z"
   },
   {
    "duration": 15,
    "start_time": "2022-12-15T16:50:24.921Z"
   },
   {
    "duration": 6,
    "start_time": "2022-12-15T16:50:44.348Z"
   },
   {
    "duration": 1242,
    "start_time": "2022-12-15T16:51:12.972Z"
   },
   {
    "duration": 656,
    "start_time": "2022-12-15T16:51:51.451Z"
   },
   {
    "duration": 589,
    "start_time": "2022-12-15T16:52:08.336Z"
   },
   {
    "duration": 3,
    "start_time": "2022-12-15T16:52:20.465Z"
   },
   {
    "duration": 7,
    "start_time": "2022-12-15T16:52:24.915Z"
   },
   {
    "duration": 9,
    "start_time": "2022-12-15T16:53:20.216Z"
   },
   {
    "duration": 8,
    "start_time": "2022-12-15T16:53:34.776Z"
   },
   {
    "duration": 7,
    "start_time": "2022-12-15T16:53:39.915Z"
   },
   {
    "duration": 210,
    "start_time": "2022-12-15T16:54:25.797Z"
   },
   {
    "duration": 18,
    "start_time": "2022-12-15T16:55:52.599Z"
   },
   {
    "duration": 19,
    "start_time": "2022-12-15T16:55:54.813Z"
   },
   {
    "duration": 16,
    "start_time": "2022-12-15T16:55:58.192Z"
   },
   {
    "duration": 14,
    "start_time": "2022-12-15T16:56:29.672Z"
   },
   {
    "duration": 1300,
    "start_time": "2022-12-15T16:57:19.930Z"
   },
   {
    "duration": 10,
    "start_time": "2022-12-15T16:57:59.902Z"
   },
   {
    "duration": 12,
    "start_time": "2022-12-15T16:58:21.676Z"
   },
   {
    "duration": 77,
    "start_time": "2022-12-15T16:58:28.539Z"
   },
   {
    "duration": 624,
    "start_time": "2022-12-15T16:58:37.777Z"
   },
   {
    "duration": 6,
    "start_time": "2022-12-15T16:58:52.261Z"
   },
   {
    "duration": 7,
    "start_time": "2022-12-15T17:00:32.336Z"
   },
   {
    "duration": 6,
    "start_time": "2022-12-15T17:00:47.362Z"
   },
   {
    "duration": 7,
    "start_time": "2022-12-15T17:01:10.742Z"
   },
   {
    "duration": 16,
    "start_time": "2022-12-15T17:04:13.642Z"
   },
   {
    "duration": 17,
    "start_time": "2022-12-15T17:04:18.095Z"
   },
   {
    "duration": 27,
    "start_time": "2022-12-15T17:04:20.661Z"
   },
   {
    "duration": 32,
    "start_time": "2022-12-15T17:04:43.868Z"
   },
   {
    "duration": 136,
    "start_time": "2022-12-15T17:15:11.791Z"
   },
   {
    "duration": 137,
    "start_time": "2022-12-15T17:15:44.728Z"
   },
   {
    "duration": 26,
    "start_time": "2022-12-15T17:16:04.765Z"
   },
   {
    "duration": 17,
    "start_time": "2022-12-15T17:16:07.424Z"
   },
   {
    "duration": 16,
    "start_time": "2022-12-15T17:16:13.832Z"
   },
   {
    "duration": 26,
    "start_time": "2022-12-15T17:16:25.869Z"
   },
   {
    "duration": 23,
    "start_time": "2022-12-15T17:16:30.676Z"
   },
   {
    "duration": 19,
    "start_time": "2022-12-15T17:16:39.248Z"
   },
   {
    "duration": 42,
    "start_time": "2022-12-15T17:18:05.170Z"
   },
   {
    "duration": 39,
    "start_time": "2022-12-15T17:18:13.308Z"
   },
   {
    "duration": 39,
    "start_time": "2022-12-15T17:18:32.923Z"
   },
   {
    "duration": 25,
    "start_time": "2022-12-15T17:19:22.990Z"
   },
   {
    "duration": 9,
    "start_time": "2022-12-15T17:20:22.067Z"
   },
   {
    "duration": 60,
    "start_time": "2022-12-15T17:21:04.514Z"
   },
   {
    "duration": 69,
    "start_time": "2022-12-15T17:21:37.928Z"
   },
   {
    "duration": 9,
    "start_time": "2022-12-15T17:22:13.886Z"
   },
   {
    "duration": 73,
    "start_time": "2022-12-15T17:22:17.971Z"
   },
   {
    "duration": 99,
    "start_time": "2022-12-15T17:22:44.903Z"
   },
   {
    "duration": 69,
    "start_time": "2022-12-15T17:23:03.036Z"
   },
   {
    "duration": 62,
    "start_time": "2022-12-15T17:23:40.212Z"
   },
   {
    "duration": 58,
    "start_time": "2022-12-15T17:23:42.490Z"
   },
   {
    "duration": 66,
    "start_time": "2022-12-15T17:23:45.990Z"
   },
   {
    "duration": 66,
    "start_time": "2022-12-15T17:24:00.966Z"
   },
   {
    "duration": 7,
    "start_time": "2022-12-15T17:57:54.090Z"
   },
   {
    "duration": 6,
    "start_time": "2022-12-15T18:01:06.750Z"
   },
   {
    "duration": 6,
    "start_time": "2022-12-15T18:02:38.831Z"
   },
   {
    "duration": 6,
    "start_time": "2022-12-15T18:02:41.042Z"
   },
   {
    "duration": 6,
    "start_time": "2022-12-15T18:02:43.492Z"
   },
   {
    "duration": 6,
    "start_time": "2022-12-15T18:02:46.591Z"
   },
   {
    "duration": 399,
    "start_time": "2022-12-15T18:02:48.896Z"
   },
   {
    "duration": 2,
    "start_time": "2022-12-15T18:02:50.817Z"
   },
   {
    "duration": 26,
    "start_time": "2022-12-15T18:03:04.529Z"
   },
   {
    "duration": 390,
    "start_time": "2022-12-15T18:03:52.654Z"
   },
   {
    "duration": 169,
    "start_time": "2022-12-15T18:03:53.046Z"
   },
   {
    "duration": 16,
    "start_time": "2022-12-15T18:03:53.216Z"
   },
   {
    "duration": 56,
    "start_time": "2022-12-15T18:03:53.234Z"
   },
   {
    "duration": 2,
    "start_time": "2022-12-15T18:03:53.292Z"
   },
   {
    "duration": 18,
    "start_time": "2022-12-15T18:03:53.296Z"
   },
   {
    "duration": 14,
    "start_time": "2022-12-15T18:03:53.315Z"
   },
   {
    "duration": 7,
    "start_time": "2022-12-15T18:03:53.330Z"
   },
   {
    "duration": 29,
    "start_time": "2022-12-15T18:03:53.338Z"
   },
   {
    "duration": 56,
    "start_time": "2022-12-15T18:03:53.371Z"
   },
   {
    "duration": 24,
    "start_time": "2022-12-15T18:03:53.429Z"
   },
   {
    "duration": 78,
    "start_time": "2022-12-15T18:03:53.454Z"
   },
   {
    "duration": 84,
    "start_time": "2022-12-15T18:03:53.533Z"
   },
   {
    "duration": 72,
    "start_time": "2022-12-15T18:03:53.619Z"
   },
   {
    "duration": 4,
    "start_time": "2022-12-15T18:03:53.692Z"
   },
   {
    "duration": 9,
    "start_time": "2022-12-15T18:03:53.698Z"
   },
   {
    "duration": 7,
    "start_time": "2022-12-15T18:03:53.708Z"
   },
   {
    "duration": 6,
    "start_time": "2022-12-15T18:03:53.716Z"
   },
   {
    "duration": 7,
    "start_time": "2022-12-15T18:03:53.723Z"
   },
   {
    "duration": 6,
    "start_time": "2022-12-15T18:03:53.732Z"
   },
   {
    "duration": 11,
    "start_time": "2022-12-15T18:03:53.739Z"
   },
   {
    "duration": 10,
    "start_time": "2022-12-15T18:03:53.751Z"
   },
   {
    "duration": 5,
    "start_time": "2022-12-15T18:03:53.763Z"
   },
   {
    "duration": 8,
    "start_time": "2022-12-15T18:03:53.769Z"
   },
   {
    "duration": 10,
    "start_time": "2022-12-15T18:03:53.789Z"
   },
   {
    "duration": 8,
    "start_time": "2022-12-15T18:03:53.800Z"
   },
   {
    "duration": 7,
    "start_time": "2022-12-15T18:03:53.810Z"
   },
   {
    "duration": 5,
    "start_time": "2022-12-15T18:03:53.819Z"
   },
   {
    "duration": 8,
    "start_time": "2022-12-15T18:03:53.826Z"
   },
   {
    "duration": 85,
    "start_time": "2022-12-15T18:03:53.836Z"
   },
   {
    "duration": 0,
    "start_time": "2022-12-15T18:03:53.922Z"
   },
   {
    "duration": 0,
    "start_time": "2022-12-15T18:03:53.924Z"
   },
   {
    "duration": 0,
    "start_time": "2022-12-15T18:03:53.925Z"
   },
   {
    "duration": 0,
    "start_time": "2022-12-15T18:03:53.926Z"
   },
   {
    "duration": 0,
    "start_time": "2022-12-15T18:03:53.927Z"
   },
   {
    "duration": 0,
    "start_time": "2022-12-15T18:03:53.929Z"
   },
   {
    "duration": 0,
    "start_time": "2022-12-15T18:03:53.931Z"
   },
   {
    "duration": 0,
    "start_time": "2022-12-15T18:03:53.932Z"
   },
   {
    "duration": 36,
    "start_time": "2022-12-15T18:04:18.258Z"
   },
   {
    "duration": 4,
    "start_time": "2022-12-15T18:04:25.613Z"
   },
   {
    "duration": 64,
    "start_time": "2022-12-15T18:04:39.148Z"
   },
   {
    "duration": 14,
    "start_time": "2022-12-15T18:04:49.205Z"
   },
   {
    "duration": 5,
    "start_time": "2022-12-15T18:05:01.129Z"
   },
   {
    "duration": 54,
    "start_time": "2022-12-15T18:06:43.291Z"
   },
   {
    "duration": 53,
    "start_time": "2022-12-15T18:07:00.411Z"
   },
   {
    "duration": 8,
    "start_time": "2022-12-15T18:08:46.849Z"
   },
   {
    "duration": 56,
    "start_time": "2022-12-15T18:08:54.498Z"
   },
   {
    "duration": 15,
    "start_time": "2022-12-15T18:11:18.975Z"
   },
   {
    "duration": 94,
    "start_time": "2022-12-15T18:14:33.766Z"
   },
   {
    "duration": 83,
    "start_time": "2022-12-15T18:14:49.871Z"
   },
   {
    "duration": 78,
    "start_time": "2022-12-15T18:15:07.058Z"
   },
   {
    "duration": 63,
    "start_time": "2022-12-15T18:15:42.903Z"
   },
   {
    "duration": 85,
    "start_time": "2022-12-15T18:17:39.109Z"
   },
   {
    "duration": 82,
    "start_time": "2022-12-15T18:17:52.030Z"
   },
   {
    "duration": 77,
    "start_time": "2022-12-15T18:18:20.736Z"
   },
   {
    "duration": 7,
    "start_time": "2022-12-15T18:18:27.562Z"
   },
   {
    "duration": 100,
    "start_time": "2022-12-15T18:18:37.417Z"
   },
   {
    "duration": 6,
    "start_time": "2022-12-15T18:18:42.731Z"
   },
   {
    "duration": 9,
    "start_time": "2022-12-15T18:18:44.240Z"
   },
   {
    "duration": 6,
    "start_time": "2022-12-15T18:18:59.108Z"
   },
   {
    "duration": 56,
    "start_time": "2022-12-15T18:19:20.958Z"
   },
   {
    "duration": 391,
    "start_time": "2022-12-15T18:19:30.414Z"
   },
   {
    "duration": 185,
    "start_time": "2022-12-15T18:19:30.807Z"
   },
   {
    "duration": 22,
    "start_time": "2022-12-15T18:19:30.994Z"
   },
   {
    "duration": 51,
    "start_time": "2022-12-15T18:19:31.018Z"
   },
   {
    "duration": 44,
    "start_time": "2022-12-15T18:19:31.070Z"
   },
   {
    "duration": 22,
    "start_time": "2022-12-15T18:19:31.116Z"
   },
   {
    "duration": 27,
    "start_time": "2022-12-15T18:19:31.139Z"
   },
   {
    "duration": 40,
    "start_time": "2022-12-15T18:19:31.168Z"
   },
   {
    "duration": 37,
    "start_time": "2022-12-15T18:19:31.209Z"
   },
   {
    "duration": 75,
    "start_time": "2022-12-15T18:19:31.248Z"
   },
   {
    "duration": 24,
    "start_time": "2022-12-15T18:19:31.324Z"
   },
   {
    "duration": 80,
    "start_time": "2022-12-15T18:19:31.350Z"
   },
   {
    "duration": 89,
    "start_time": "2022-12-15T18:19:31.432Z"
   },
   {
    "duration": 71,
    "start_time": "2022-12-15T18:19:31.523Z"
   },
   {
    "duration": 55,
    "start_time": "2022-12-15T18:19:31.599Z"
   },
   {
    "duration": 2,
    "start_time": "2022-12-15T18:19:31.655Z"
   },
   {
    "duration": 6,
    "start_time": "2022-12-15T18:19:31.659Z"
   },
   {
    "duration": 5,
    "start_time": "2022-12-15T18:19:31.666Z"
   },
   {
    "duration": 32,
    "start_time": "2022-12-15T18:19:31.673Z"
   },
   {
    "duration": 27,
    "start_time": "2022-12-15T18:19:31.706Z"
   },
   {
    "duration": 11,
    "start_time": "2022-12-15T18:19:31.735Z"
   },
   {
    "duration": 14,
    "start_time": "2022-12-15T18:19:31.748Z"
   },
   {
    "duration": 20,
    "start_time": "2022-12-15T18:19:31.764Z"
   },
   {
    "duration": 27,
    "start_time": "2022-12-15T18:19:31.785Z"
   },
   {
    "duration": 8,
    "start_time": "2022-12-15T18:19:31.813Z"
   },
   {
    "duration": 11,
    "start_time": "2022-12-15T18:19:31.823Z"
   },
   {
    "duration": 6,
    "start_time": "2022-12-15T18:19:31.836Z"
   },
   {
    "duration": 5,
    "start_time": "2022-12-15T18:19:31.845Z"
   },
   {
    "duration": 7,
    "start_time": "2022-12-15T18:19:31.851Z"
   },
   {
    "duration": 95,
    "start_time": "2022-12-15T18:19:31.860Z"
   },
   {
    "duration": 0,
    "start_time": "2022-12-15T18:19:31.957Z"
   },
   {
    "duration": 0,
    "start_time": "2022-12-15T18:19:31.959Z"
   },
   {
    "duration": 0,
    "start_time": "2022-12-15T18:19:31.961Z"
   },
   {
    "duration": 0,
    "start_time": "2022-12-15T18:19:31.962Z"
   },
   {
    "duration": 0,
    "start_time": "2022-12-15T18:19:31.964Z"
   },
   {
    "duration": 0,
    "start_time": "2022-12-15T18:19:31.965Z"
   },
   {
    "duration": 0,
    "start_time": "2022-12-15T18:19:31.966Z"
   },
   {
    "duration": 0,
    "start_time": "2022-12-15T18:19:31.968Z"
   },
   {
    "duration": 24,
    "start_time": "2022-12-15T18:19:39.502Z"
   },
   {
    "duration": 99,
    "start_time": "2022-12-15T18:19:55.072Z"
   },
   {
    "duration": 60,
    "start_time": "2022-12-15T18:20:02.249Z"
   },
   {
    "duration": 54,
    "start_time": "2022-12-15T18:20:34.526Z"
   },
   {
    "duration": 64,
    "start_time": "2022-12-15T18:20:36.948Z"
   },
   {
    "duration": 43,
    "start_time": "2022-12-15T18:21:50.784Z"
   },
   {
    "duration": 20,
    "start_time": "2022-12-15T18:22:01.485Z"
   },
   {
    "duration": 79,
    "start_time": "2022-12-15T18:22:04.058Z"
   },
   {
    "duration": 65,
    "start_time": "2022-12-15T18:22:18.131Z"
   },
   {
    "duration": 1412,
    "start_time": "2022-12-15T18:23:52.715Z"
   },
   {
    "duration": 1376,
    "start_time": "2022-12-15T18:23:58.747Z"
   },
   {
    "duration": 70,
    "start_time": "2022-12-15T18:24:02.052Z"
   },
   {
    "duration": 9,
    "start_time": "2022-12-15T18:24:11.094Z"
   },
   {
    "duration": 59,
    "start_time": "2022-12-15T18:24:20.159Z"
   },
   {
    "duration": 67,
    "start_time": "2022-12-15T18:24:57.298Z"
   },
   {
    "duration": 52,
    "start_time": "2022-12-15T18:25:23.818Z"
   },
   {
    "duration": 57,
    "start_time": "2022-12-15T18:25:30.955Z"
   },
   {
    "duration": 46,
    "start_time": "2022-12-15T18:25:38.590Z"
   },
   {
    "duration": 59,
    "start_time": "2022-12-15T18:27:50.847Z"
   },
   {
    "duration": 55,
    "start_time": "2022-12-15T18:27:53.145Z"
   },
   {
    "duration": 71,
    "start_time": "2022-12-15T18:28:00.574Z"
   },
   {
    "duration": 62,
    "start_time": "2022-12-15T18:31:37.046Z"
   },
   {
    "duration": 6,
    "start_time": "2022-12-15T18:33:15.565Z"
   },
   {
    "duration": 9,
    "start_time": "2022-12-15T18:33:23.970Z"
   },
   {
    "duration": 10,
    "start_time": "2022-12-15T18:33:27.851Z"
   },
   {
    "duration": 5,
    "start_time": "2022-12-15T18:34:03.641Z"
   },
   {
    "duration": 8,
    "start_time": "2022-12-15T18:34:12.165Z"
   },
   {
    "duration": 7,
    "start_time": "2022-12-15T18:34:25.321Z"
   },
   {
    "duration": 11,
    "start_time": "2022-12-15T18:34:36.833Z"
   },
   {
    "duration": 9,
    "start_time": "2022-12-15T18:35:07.131Z"
   },
   {
    "duration": 47,
    "start_time": "2022-12-15T18:35:27.607Z"
   },
   {
    "duration": 63,
    "start_time": "2022-12-15T18:35:39.097Z"
   },
   {
    "duration": 8,
    "start_time": "2022-12-15T18:36:04.028Z"
   },
   {
    "duration": 77,
    "start_time": "2022-12-15T18:36:58.575Z"
   },
   {
    "duration": 7,
    "start_time": "2022-12-15T18:37:02.923Z"
   },
   {
    "duration": 8,
    "start_time": "2022-12-15T18:37:07.992Z"
   },
   {
    "duration": 65,
    "start_time": "2022-12-15T18:37:29.009Z"
   },
   {
    "duration": 13,
    "start_time": "2022-12-15T18:38:02.067Z"
   },
   {
    "duration": 6,
    "start_time": "2022-12-15T18:38:16.933Z"
   },
   {
    "duration": 7,
    "start_time": "2022-12-15T18:38:41.042Z"
   },
   {
    "duration": 8,
    "start_time": "2022-12-15T18:38:46.042Z"
   },
   {
    "duration": 5,
    "start_time": "2022-12-15T18:38:53.789Z"
   },
   {
    "duration": 7,
    "start_time": "2022-12-15T18:39:00.310Z"
   },
   {
    "duration": 8,
    "start_time": "2022-12-15T18:39:33.090Z"
   },
   {
    "duration": 7,
    "start_time": "2022-12-15T18:39:37.117Z"
   },
   {
    "duration": 2,
    "start_time": "2022-12-15T18:39:45.645Z"
   },
   {
    "duration": 191,
    "start_time": "2022-12-15T18:39:45.649Z"
   },
   {
    "duration": 11,
    "start_time": "2022-12-15T18:39:45.842Z"
   },
   {
    "duration": 42,
    "start_time": "2022-12-15T18:39:45.856Z"
   },
   {
    "duration": 3,
    "start_time": "2022-12-15T18:39:45.899Z"
   },
   {
    "duration": 21,
    "start_time": "2022-12-15T18:39:45.904Z"
   },
   {
    "duration": 20,
    "start_time": "2022-12-15T18:39:45.927Z"
   },
   {
    "duration": 14,
    "start_time": "2022-12-15T18:39:45.948Z"
   },
   {
    "duration": 42,
    "start_time": "2022-12-15T18:39:45.963Z"
   },
   {
    "duration": 46,
    "start_time": "2022-12-15T18:39:46.007Z"
   },
   {
    "duration": 45,
    "start_time": "2022-12-15T18:39:46.054Z"
   },
   {
    "duration": 71,
    "start_time": "2022-12-15T18:39:46.101Z"
   },
   {
    "duration": 84,
    "start_time": "2022-12-15T18:39:46.173Z"
   },
   {
    "duration": 69,
    "start_time": "2022-12-15T18:39:46.259Z"
   },
   {
    "duration": 8,
    "start_time": "2022-12-15T18:39:46.329Z"
   },
   {
    "duration": 6,
    "start_time": "2022-12-15T18:39:46.339Z"
   },
   {
    "duration": 22,
    "start_time": "2022-12-15T18:39:46.346Z"
   },
   {
    "duration": 5,
    "start_time": "2022-12-15T18:39:46.370Z"
   },
   {
    "duration": 22,
    "start_time": "2022-12-15T18:39:46.376Z"
   },
   {
    "duration": 9,
    "start_time": "2022-12-15T18:39:46.400Z"
   },
   {
    "duration": 52,
    "start_time": "2022-12-15T18:39:46.410Z"
   },
   {
    "duration": 10,
    "start_time": "2022-12-15T18:39:46.463Z"
   },
   {
    "duration": 18,
    "start_time": "2022-12-15T18:39:46.475Z"
   },
   {
    "duration": 26,
    "start_time": "2022-12-15T18:39:46.495Z"
   },
   {
    "duration": 17,
    "start_time": "2022-12-15T18:39:46.523Z"
   },
   {
    "duration": 8,
    "start_time": "2022-12-15T18:39:46.541Z"
   },
   {
    "duration": 7,
    "start_time": "2022-12-15T18:39:46.551Z"
   },
   {
    "duration": 4,
    "start_time": "2022-12-15T18:39:46.562Z"
   },
   {
    "duration": 6,
    "start_time": "2022-12-15T18:39:46.568Z"
   },
   {
    "duration": 77,
    "start_time": "2022-12-15T18:39:46.576Z"
   },
   {
    "duration": 0,
    "start_time": "2022-12-15T18:39:46.655Z"
   },
   {
    "duration": 0,
    "start_time": "2022-12-15T18:39:46.656Z"
   },
   {
    "duration": 0,
    "start_time": "2022-12-15T18:39:46.657Z"
   },
   {
    "duration": 0,
    "start_time": "2022-12-15T18:39:46.658Z"
   },
   {
    "duration": 0,
    "start_time": "2022-12-15T18:39:46.659Z"
   },
   {
    "duration": 0,
    "start_time": "2022-12-15T18:39:46.660Z"
   },
   {
    "duration": 0,
    "start_time": "2022-12-15T18:39:46.662Z"
   },
   {
    "duration": 0,
    "start_time": "2022-12-15T18:39:46.662Z"
   },
   {
    "duration": 27,
    "start_time": "2022-12-15T18:40:54.464Z"
   },
   {
    "duration": 7,
    "start_time": "2022-12-15T18:41:01.653Z"
   },
   {
    "duration": 7,
    "start_time": "2022-12-15T18:41:07.135Z"
   },
   {
    "duration": 7,
    "start_time": "2022-12-15T18:41:10.254Z"
   },
   {
    "duration": 47,
    "start_time": "2022-12-15T18:41:23.220Z"
   },
   {
    "duration": 403,
    "start_time": "2022-12-15T18:41:31.909Z"
   },
   {
    "duration": 179,
    "start_time": "2022-12-15T18:41:32.314Z"
   },
   {
    "duration": 16,
    "start_time": "2022-12-15T18:41:32.495Z"
   },
   {
    "duration": 31,
    "start_time": "2022-12-15T18:41:32.513Z"
   },
   {
    "duration": 2,
    "start_time": "2022-12-15T18:41:32.546Z"
   },
   {
    "duration": 9,
    "start_time": "2022-12-15T18:41:32.550Z"
   },
   {
    "duration": 29,
    "start_time": "2022-12-15T18:41:32.560Z"
   },
   {
    "duration": 5,
    "start_time": "2022-12-15T18:41:32.591Z"
   },
   {
    "duration": 32,
    "start_time": "2022-12-15T18:41:32.597Z"
   },
   {
    "duration": 68,
    "start_time": "2022-12-15T18:41:32.631Z"
   },
   {
    "duration": 23,
    "start_time": "2022-12-15T18:41:32.701Z"
   },
   {
    "duration": 75,
    "start_time": "2022-12-15T18:41:32.725Z"
   },
   {
    "duration": 110,
    "start_time": "2022-12-15T18:41:32.802Z"
   },
   {
    "duration": 75,
    "start_time": "2022-12-15T18:41:32.916Z"
   },
   {
    "duration": 54,
    "start_time": "2022-12-15T18:41:32.993Z"
   },
   {
    "duration": 3,
    "start_time": "2022-12-15T18:41:33.049Z"
   },
   {
    "duration": 22,
    "start_time": "2022-12-15T18:41:33.054Z"
   },
   {
    "duration": 19,
    "start_time": "2022-12-15T18:41:33.082Z"
   },
   {
    "duration": 6,
    "start_time": "2022-12-15T18:41:33.102Z"
   },
   {
    "duration": 7,
    "start_time": "2022-12-15T18:41:33.109Z"
   },
   {
    "duration": 8,
    "start_time": "2022-12-15T18:41:33.118Z"
   },
   {
    "duration": 5,
    "start_time": "2022-12-15T18:41:33.127Z"
   },
   {
    "duration": 6,
    "start_time": "2022-12-15T18:41:33.134Z"
   },
   {
    "duration": 6,
    "start_time": "2022-12-15T18:41:33.141Z"
   },
   {
    "duration": 9,
    "start_time": "2022-12-15T18:41:33.148Z"
   },
   {
    "duration": 9,
    "start_time": "2022-12-15T18:41:33.159Z"
   },
   {
    "duration": 7,
    "start_time": "2022-12-15T18:41:33.169Z"
   },
   {
    "duration": 26,
    "start_time": "2022-12-15T18:41:33.177Z"
   },
   {
    "duration": 16,
    "start_time": "2022-12-15T18:41:33.205Z"
   },
   {
    "duration": 90,
    "start_time": "2022-12-15T18:41:33.223Z"
   },
   {
    "duration": 0,
    "start_time": "2022-12-15T18:41:33.315Z"
   },
   {
    "duration": 0,
    "start_time": "2022-12-15T18:41:33.316Z"
   },
   {
    "duration": 0,
    "start_time": "2022-12-15T18:41:33.317Z"
   },
   {
    "duration": 0,
    "start_time": "2022-12-15T18:41:33.319Z"
   },
   {
    "duration": 1,
    "start_time": "2022-12-15T18:41:33.319Z"
   },
   {
    "duration": 0,
    "start_time": "2022-12-15T18:41:33.320Z"
   },
   {
    "duration": 0,
    "start_time": "2022-12-15T18:41:33.322Z"
   },
   {
    "duration": 0,
    "start_time": "2022-12-15T18:41:33.323Z"
   },
   {
    "duration": 62,
    "start_time": "2022-12-15T18:42:06.349Z"
   },
   {
    "duration": 51,
    "start_time": "2022-12-15T18:42:15.925Z"
   },
   {
    "duration": 57,
    "start_time": "2022-12-15T18:42:31.971Z"
   },
   {
    "duration": 37,
    "start_time": "2022-12-15T18:42:41.936Z"
   },
   {
    "duration": 40,
    "start_time": "2022-12-15T18:42:50.320Z"
   },
   {
    "duration": 6,
    "start_time": "2022-12-15T18:43:51.760Z"
   },
   {
    "duration": 6,
    "start_time": "2022-12-15T18:46:27.694Z"
   },
   {
    "duration": 7,
    "start_time": "2022-12-15T18:46:41.570Z"
   },
   {
    "duration": 30,
    "start_time": "2022-12-15T18:47:02.706Z"
   },
   {
    "duration": 13,
    "start_time": "2022-12-15T18:47:18.694Z"
   },
   {
    "duration": 9,
    "start_time": "2022-12-15T18:47:26.957Z"
   },
   {
    "duration": 5,
    "start_time": "2022-12-15T18:47:33.806Z"
   },
   {
    "duration": 6,
    "start_time": "2022-12-15T18:47:35.649Z"
   },
   {
    "duration": 5,
    "start_time": "2022-12-15T18:47:37.928Z"
   },
   {
    "duration": 8,
    "start_time": "2022-12-15T18:47:44.503Z"
   },
   {
    "duration": 1144,
    "start_time": "2022-12-15T18:48:02.511Z"
   },
   {
    "duration": 5,
    "start_time": "2022-12-15T18:48:05.769Z"
   },
   {
    "duration": 6,
    "start_time": "2022-12-15T18:48:34.325Z"
   },
   {
    "duration": 6,
    "start_time": "2022-12-15T18:48:46.012Z"
   },
   {
    "duration": 5,
    "start_time": "2022-12-15T18:50:40.424Z"
   },
   {
    "duration": 48,
    "start_time": "2022-12-15T18:51:32.740Z"
   },
   {
    "duration": 43,
    "start_time": "2022-12-15T18:51:51.514Z"
   },
   {
    "duration": 36,
    "start_time": "2022-12-15T18:52:04.330Z"
   },
   {
    "duration": 40,
    "start_time": "2022-12-15T18:52:15.691Z"
   },
   {
    "duration": 61,
    "start_time": "2022-12-15T18:52:49.006Z"
   },
   {
    "duration": 73,
    "start_time": "2022-12-15T18:53:08.800Z"
   },
   {
    "duration": 54,
    "start_time": "2022-12-15T18:53:14.154Z"
   },
   {
    "duration": 44,
    "start_time": "2022-12-15T18:56:22.949Z"
   },
   {
    "duration": 39,
    "start_time": "2022-12-15T18:56:25.992Z"
   },
   {
    "duration": 53,
    "start_time": "2022-12-15T18:57:52.244Z"
   },
   {
    "duration": 48,
    "start_time": "2022-12-15T18:59:22.917Z"
   },
   {
    "duration": 71,
    "start_time": "2022-12-15T18:59:56.190Z"
   },
   {
    "duration": 41,
    "start_time": "2022-12-15T19:00:00.792Z"
   },
   {
    "duration": 42,
    "start_time": "2022-12-15T19:00:30.234Z"
   },
   {
    "duration": 45,
    "start_time": "2022-12-15T19:00:41.455Z"
   },
   {
    "duration": 40,
    "start_time": "2022-12-15T19:23:19.405Z"
   },
   {
    "duration": 37,
    "start_time": "2022-12-15T19:24:37.519Z"
   },
   {
    "duration": 35,
    "start_time": "2022-12-15T19:24:49.229Z"
   },
   {
    "duration": 46,
    "start_time": "2022-12-15T19:24:51.253Z"
   },
   {
    "duration": 43,
    "start_time": "2022-12-15T19:24:56.197Z"
   },
   {
    "duration": 45,
    "start_time": "2022-12-15T19:25:16.250Z"
   },
   {
    "duration": 47,
    "start_time": "2022-12-15T19:25:31.946Z"
   },
   {
    "duration": 50,
    "start_time": "2022-12-15T19:26:02.245Z"
   },
   {
    "duration": 38,
    "start_time": "2022-12-15T19:26:31.738Z"
   },
   {
    "duration": 8,
    "start_time": "2022-12-15T19:26:49.550Z"
   },
   {
    "duration": 954,
    "start_time": "2022-12-15T19:26:53.201Z"
   },
   {
    "duration": 940,
    "start_time": "2022-12-15T19:26:56.399Z"
   },
   {
    "duration": 5,
    "start_time": "2022-12-15T19:26:59.498Z"
   },
   {
    "duration": 5,
    "start_time": "2022-12-15T19:27:01.535Z"
   },
   {
    "duration": 865,
    "start_time": "2022-12-15T19:27:04.074Z"
   },
   {
    "duration": 828,
    "start_time": "2022-12-15T19:27:17.761Z"
   },
   {
    "duration": 871,
    "start_time": "2022-12-15T19:27:24.792Z"
   },
   {
    "duration": 7,
    "start_time": "2022-12-15T19:27:44.797Z"
   },
   {
    "duration": 6,
    "start_time": "2022-12-15T19:27:51.338Z"
   },
   {
    "duration": 11,
    "start_time": "2022-12-15T19:27:54.458Z"
   },
   {
    "duration": 364,
    "start_time": "2022-12-15T19:29:06.539Z"
   },
   {
    "duration": 178,
    "start_time": "2022-12-15T19:29:06.905Z"
   },
   {
    "duration": 16,
    "start_time": "2022-12-15T19:29:07.085Z"
   },
   {
    "duration": 30,
    "start_time": "2022-12-15T19:29:07.102Z"
   },
   {
    "duration": 2,
    "start_time": "2022-12-15T19:29:07.135Z"
   },
   {
    "duration": 7,
    "start_time": "2022-12-15T19:29:07.139Z"
   },
   {
    "duration": 35,
    "start_time": "2022-12-15T19:29:07.147Z"
   },
   {
    "duration": 8,
    "start_time": "2022-12-15T19:29:07.183Z"
   },
   {
    "duration": 28,
    "start_time": "2022-12-15T19:29:07.193Z"
   },
   {
    "duration": 71,
    "start_time": "2022-12-15T19:29:07.223Z"
   },
   {
    "duration": 28,
    "start_time": "2022-12-15T19:29:07.296Z"
   },
   {
    "duration": 83,
    "start_time": "2022-12-15T19:29:07.326Z"
   },
   {
    "duration": 95,
    "start_time": "2022-12-15T19:29:07.410Z"
   },
   {
    "duration": 59,
    "start_time": "2022-12-15T19:29:07.508Z"
   },
   {
    "duration": 13,
    "start_time": "2022-12-15T19:29:07.568Z"
   },
   {
    "duration": 5,
    "start_time": "2022-12-15T19:29:07.582Z"
   },
   {
    "duration": 9,
    "start_time": "2022-12-15T19:29:07.588Z"
   },
   {
    "duration": 5,
    "start_time": "2022-12-15T19:29:07.598Z"
   },
   {
    "duration": 5,
    "start_time": "2022-12-15T19:29:07.604Z"
   },
   {
    "duration": 8,
    "start_time": "2022-12-15T19:29:07.611Z"
   },
   {
    "duration": 5,
    "start_time": "2022-12-15T19:29:07.621Z"
   },
   {
    "duration": 27,
    "start_time": "2022-12-15T19:29:07.628Z"
   },
   {
    "duration": 21,
    "start_time": "2022-12-15T19:29:07.656Z"
   },
   {
    "duration": 11,
    "start_time": "2022-12-15T19:29:07.679Z"
   },
   {
    "duration": 13,
    "start_time": "2022-12-15T19:29:07.692Z"
   },
   {
    "duration": 9,
    "start_time": "2022-12-15T19:29:07.707Z"
   },
   {
    "duration": 8,
    "start_time": "2022-12-15T19:29:07.718Z"
   },
   {
    "duration": 8,
    "start_time": "2022-12-15T19:29:07.728Z"
   },
   {
    "duration": 11,
    "start_time": "2022-12-15T19:29:07.738Z"
   },
   {
    "duration": 82,
    "start_time": "2022-12-15T19:29:07.751Z"
   },
   {
    "duration": 0,
    "start_time": "2022-12-15T19:29:07.834Z"
   },
   {
    "duration": 0,
    "start_time": "2022-12-15T19:29:07.836Z"
   },
   {
    "duration": 0,
    "start_time": "2022-12-15T19:29:07.838Z"
   },
   {
    "duration": 0,
    "start_time": "2022-12-15T19:29:07.839Z"
   },
   {
    "duration": 0,
    "start_time": "2022-12-15T19:29:07.840Z"
   },
   {
    "duration": 0,
    "start_time": "2022-12-15T19:29:07.845Z"
   },
   {
    "duration": 0,
    "start_time": "2022-12-15T19:29:07.846Z"
   },
   {
    "duration": 0,
    "start_time": "2022-12-15T19:29:07.847Z"
   },
   {
    "duration": 48,
    "start_time": "2022-12-15T19:30:37.676Z"
   },
   {
    "duration": 46,
    "start_time": "2022-12-15T19:31:08.929Z"
   },
   {
    "duration": 69,
    "start_time": "2022-12-15T19:31:31.296Z"
   },
   {
    "duration": 56,
    "start_time": "2022-12-15T19:32:14.369Z"
   },
   {
    "duration": 54,
    "start_time": "2022-12-15T19:32:22.420Z"
   },
   {
    "duration": 68,
    "start_time": "2022-12-15T19:33:50.348Z"
   },
   {
    "duration": 62,
    "start_time": "2022-12-15T19:34:33.281Z"
   },
   {
    "duration": 7,
    "start_time": "2022-12-15T19:34:40.485Z"
   },
   {
    "duration": 383,
    "start_time": "2022-12-15T19:35:00.303Z"
   },
   {
    "duration": 183,
    "start_time": "2022-12-15T19:35:00.689Z"
   },
   {
    "duration": 26,
    "start_time": "2022-12-15T19:35:00.873Z"
   },
   {
    "duration": 37,
    "start_time": "2022-12-15T19:35:00.901Z"
   },
   {
    "duration": 11,
    "start_time": "2022-12-15T19:35:00.940Z"
   },
   {
    "duration": 8,
    "start_time": "2022-12-15T19:35:00.953Z"
   },
   {
    "duration": 23,
    "start_time": "2022-12-15T19:35:00.963Z"
   },
   {
    "duration": 23,
    "start_time": "2022-12-15T19:35:00.987Z"
   },
   {
    "duration": 37,
    "start_time": "2022-12-15T19:35:01.012Z"
   },
   {
    "duration": 85,
    "start_time": "2022-12-15T19:35:01.051Z"
   },
   {
    "duration": 26,
    "start_time": "2022-12-15T19:35:01.138Z"
   },
   {
    "duration": 101,
    "start_time": "2022-12-15T19:35:01.165Z"
   },
   {
    "duration": 89,
    "start_time": "2022-12-15T19:35:01.268Z"
   },
   {
    "duration": 70,
    "start_time": "2022-12-15T19:35:01.360Z"
   },
   {
    "duration": 70,
    "start_time": "2022-12-15T19:35:01.432Z"
   },
   {
    "duration": 0,
    "start_time": "2022-12-15T19:35:01.504Z"
   },
   {
    "duration": 0,
    "start_time": "2022-12-15T19:35:01.505Z"
   },
   {
    "duration": 0,
    "start_time": "2022-12-15T19:35:01.507Z"
   },
   {
    "duration": 0,
    "start_time": "2022-12-15T19:35:01.508Z"
   },
   {
    "duration": 0,
    "start_time": "2022-12-15T19:35:01.509Z"
   },
   {
    "duration": 0,
    "start_time": "2022-12-15T19:35:01.511Z"
   },
   {
    "duration": 0,
    "start_time": "2022-12-15T19:35:01.512Z"
   },
   {
    "duration": 0,
    "start_time": "2022-12-15T19:35:01.514Z"
   },
   {
    "duration": 0,
    "start_time": "2022-12-15T19:35:01.515Z"
   },
   {
    "duration": 0,
    "start_time": "2022-12-15T19:35:01.516Z"
   },
   {
    "duration": 0,
    "start_time": "2022-12-15T19:35:01.518Z"
   },
   {
    "duration": 0,
    "start_time": "2022-12-15T19:35:01.519Z"
   },
   {
    "duration": 0,
    "start_time": "2022-12-15T19:35:01.520Z"
   },
   {
    "duration": 0,
    "start_time": "2022-12-15T19:35:01.521Z"
   },
   {
    "duration": 0,
    "start_time": "2022-12-15T19:35:01.522Z"
   },
   {
    "duration": 0,
    "start_time": "2022-12-15T19:35:01.523Z"
   },
   {
    "duration": 0,
    "start_time": "2022-12-15T19:35:01.524Z"
   },
   {
    "duration": 0,
    "start_time": "2022-12-15T19:35:01.525Z"
   },
   {
    "duration": 0,
    "start_time": "2022-12-15T19:35:01.527Z"
   },
   {
    "duration": 0,
    "start_time": "2022-12-15T19:35:01.528Z"
   },
   {
    "duration": 0,
    "start_time": "2022-12-15T19:35:01.529Z"
   },
   {
    "duration": 0,
    "start_time": "2022-12-15T19:35:01.530Z"
   },
   {
    "duration": 0,
    "start_time": "2022-12-15T19:35:01.578Z"
   },
   {
    "duration": 7,
    "start_time": "2022-12-15T19:38:57.161Z"
   },
   {
    "duration": 7,
    "start_time": "2022-12-15T19:39:09.960Z"
   },
   {
    "duration": 8,
    "start_time": "2022-12-15T19:39:28.273Z"
   },
   {
    "duration": 7,
    "start_time": "2022-12-15T19:39:32.964Z"
   },
   {
    "duration": 8,
    "start_time": "2022-12-15T19:39:36.504Z"
   },
   {
    "duration": 393,
    "start_time": "2022-12-15T19:39:51.719Z"
   },
   {
    "duration": 195,
    "start_time": "2022-12-15T19:39:52.114Z"
   },
   {
    "duration": 17,
    "start_time": "2022-12-15T19:39:52.311Z"
   },
   {
    "duration": 30,
    "start_time": "2022-12-15T19:39:52.329Z"
   },
   {
    "duration": 26,
    "start_time": "2022-12-15T19:39:52.361Z"
   },
   {
    "duration": 10,
    "start_time": "2022-12-15T19:39:52.393Z"
   },
   {
    "duration": 12,
    "start_time": "2022-12-15T19:39:52.405Z"
   },
   {
    "duration": 11,
    "start_time": "2022-12-15T19:39:52.418Z"
   },
   {
    "duration": 31,
    "start_time": "2022-12-15T19:39:52.430Z"
   },
   {
    "duration": 78,
    "start_time": "2022-12-15T19:39:52.462Z"
   },
   {
    "duration": 41,
    "start_time": "2022-12-15T19:39:52.542Z"
   },
   {
    "duration": 85,
    "start_time": "2022-12-15T19:39:52.586Z"
   },
   {
    "duration": 95,
    "start_time": "2022-12-15T19:39:52.673Z"
   },
   {
    "duration": 86,
    "start_time": "2022-12-15T19:39:52.771Z"
   },
   {
    "duration": 9,
    "start_time": "2022-12-15T19:39:52.859Z"
   },
   {
    "duration": 41,
    "start_time": "2022-12-15T19:39:52.870Z"
   },
   {
    "duration": 8,
    "start_time": "2022-12-15T19:39:52.913Z"
   },
   {
    "duration": 10,
    "start_time": "2022-12-15T19:39:52.922Z"
   },
   {
    "duration": 9,
    "start_time": "2022-12-15T19:39:52.934Z"
   },
   {
    "duration": 6,
    "start_time": "2022-12-15T19:39:52.945Z"
   },
   {
    "duration": 13,
    "start_time": "2022-12-15T19:39:52.953Z"
   },
   {
    "duration": 22,
    "start_time": "2022-12-15T19:39:52.968Z"
   },
   {
    "duration": 9,
    "start_time": "2022-12-15T19:39:52.992Z"
   },
   {
    "duration": 11,
    "start_time": "2022-12-15T19:39:53.003Z"
   },
   {
    "duration": 17,
    "start_time": "2022-12-15T19:39:53.016Z"
   },
   {
    "duration": 19,
    "start_time": "2022-12-15T19:39:53.035Z"
   },
   {
    "duration": 6,
    "start_time": "2022-12-15T19:39:53.056Z"
   },
   {
    "duration": 9,
    "start_time": "2022-12-15T19:39:53.065Z"
   },
   {
    "duration": 28,
    "start_time": "2022-12-15T19:39:53.075Z"
   },
   {
    "duration": 80,
    "start_time": "2022-12-15T19:39:53.105Z"
   },
   {
    "duration": 0,
    "start_time": "2022-12-15T19:39:53.193Z"
   },
   {
    "duration": 0,
    "start_time": "2022-12-15T19:39:53.195Z"
   },
   {
    "duration": 0,
    "start_time": "2022-12-15T19:39:53.197Z"
   },
   {
    "duration": 0,
    "start_time": "2022-12-15T19:39:53.198Z"
   },
   {
    "duration": 0,
    "start_time": "2022-12-15T19:39:53.199Z"
   },
   {
    "duration": 0,
    "start_time": "2022-12-15T19:39:53.201Z"
   },
   {
    "duration": 0,
    "start_time": "2022-12-15T19:39:53.203Z"
   },
   {
    "duration": 0,
    "start_time": "2022-12-15T19:39:53.204Z"
   },
   {
    "duration": 68,
    "start_time": "2022-12-15T19:40:12.649Z"
   },
   {
    "duration": 73,
    "start_time": "2022-12-15T19:40:46.327Z"
   },
   {
    "duration": 11,
    "start_time": "2022-12-15T19:40:51.533Z"
   },
   {
    "duration": 10,
    "start_time": "2022-12-15T19:41:04.923Z"
   },
   {
    "duration": 6,
    "start_time": "2022-12-15T19:41:10.460Z"
   },
   {
    "duration": 14,
    "start_time": "2022-12-15T19:41:12.574Z"
   },
   {
    "duration": 8,
    "start_time": "2022-12-15T19:41:19.247Z"
   },
   {
    "duration": 3,
    "start_time": "2022-12-15T19:41:24.843Z"
   },
   {
    "duration": 190,
    "start_time": "2022-12-15T19:41:24.848Z"
   },
   {
    "duration": 11,
    "start_time": "2022-12-15T19:41:25.040Z"
   },
   {
    "duration": 43,
    "start_time": "2022-12-15T19:41:25.053Z"
   },
   {
    "duration": 6,
    "start_time": "2022-12-15T19:41:25.098Z"
   },
   {
    "duration": 10,
    "start_time": "2022-12-15T19:41:25.105Z"
   },
   {
    "duration": 23,
    "start_time": "2022-12-15T19:41:25.117Z"
   },
   {
    "duration": 12,
    "start_time": "2022-12-15T19:41:25.142Z"
   },
   {
    "duration": 31,
    "start_time": "2022-12-15T19:41:25.155Z"
   },
   {
    "duration": 84,
    "start_time": "2022-12-15T19:41:25.189Z"
   },
   {
    "duration": 41,
    "start_time": "2022-12-15T19:41:25.275Z"
   },
   {
    "duration": 71,
    "start_time": "2022-12-15T19:41:25.318Z"
   },
   {
    "duration": 71,
    "start_time": "2022-12-15T19:41:25.393Z"
   },
   {
    "duration": 66,
    "start_time": "2022-12-15T19:41:25.468Z"
   },
   {
    "duration": 46,
    "start_time": "2022-12-15T19:41:25.536Z"
   },
   {
    "duration": 5,
    "start_time": "2022-12-15T19:41:25.583Z"
   },
   {
    "duration": 32,
    "start_time": "2022-12-15T19:41:25.590Z"
   },
   {
    "duration": 11,
    "start_time": "2022-12-15T19:41:25.624Z"
   },
   {
    "duration": 10,
    "start_time": "2022-12-15T19:41:25.637Z"
   },
   {
    "duration": 22,
    "start_time": "2022-12-15T19:41:25.649Z"
   },
   {
    "duration": 30,
    "start_time": "2022-12-15T19:41:25.673Z"
   },
   {
    "duration": 6,
    "start_time": "2022-12-15T19:41:25.705Z"
   },
   {
    "duration": 11,
    "start_time": "2022-12-15T19:41:25.713Z"
   },
   {
    "duration": 85,
    "start_time": "2022-12-15T19:41:25.726Z"
   },
   {
    "duration": 17,
    "start_time": "2022-12-15T19:41:25.812Z"
   },
   {
    "duration": 9,
    "start_time": "2022-12-15T19:41:25.831Z"
   },
   {
    "duration": 5,
    "start_time": "2022-12-15T19:41:25.842Z"
   },
   {
    "duration": 5,
    "start_time": "2022-12-15T19:41:25.849Z"
   },
   {
    "duration": 11,
    "start_time": "2022-12-15T19:41:25.857Z"
   },
   {
    "duration": 78,
    "start_time": "2022-12-15T19:41:25.870Z"
   },
   {
    "duration": 0,
    "start_time": "2022-12-15T19:41:25.949Z"
   },
   {
    "duration": 0,
    "start_time": "2022-12-15T19:41:25.950Z"
   },
   {
    "duration": 0,
    "start_time": "2022-12-15T19:41:25.952Z"
   },
   {
    "duration": 0,
    "start_time": "2022-12-15T19:41:25.953Z"
   },
   {
    "duration": 0,
    "start_time": "2022-12-15T19:41:25.953Z"
   },
   {
    "duration": 0,
    "start_time": "2022-12-15T19:41:25.954Z"
   },
   {
    "duration": 0,
    "start_time": "2022-12-15T19:41:25.955Z"
   },
   {
    "duration": 0,
    "start_time": "2022-12-15T19:41:25.956Z"
   },
   {
    "duration": 13,
    "start_time": "2022-12-15T19:41:39.486Z"
   },
   {
    "duration": 12,
    "start_time": "2022-12-15T19:42:28.548Z"
   },
   {
    "duration": 10,
    "start_time": "2022-12-15T19:42:30.606Z"
   },
   {
    "duration": 7,
    "start_time": "2022-12-15T19:42:32.915Z"
   },
   {
    "duration": 3,
    "start_time": "2022-12-15T19:42:40.466Z"
   },
   {
    "duration": 192,
    "start_time": "2022-12-15T19:42:40.471Z"
   },
   {
    "duration": 24,
    "start_time": "2022-12-15T19:42:40.664Z"
   },
   {
    "duration": 52,
    "start_time": "2022-12-15T19:42:40.693Z"
   },
   {
    "duration": 9,
    "start_time": "2022-12-15T19:42:40.747Z"
   },
   {
    "duration": 13,
    "start_time": "2022-12-15T19:42:40.757Z"
   },
   {
    "duration": 33,
    "start_time": "2022-12-15T19:42:40.772Z"
   },
   {
    "duration": 5,
    "start_time": "2022-12-15T19:42:40.807Z"
   },
   {
    "duration": 45,
    "start_time": "2022-12-15T19:42:40.817Z"
   },
   {
    "duration": 70,
    "start_time": "2022-12-15T19:42:40.863Z"
   },
   {
    "duration": 26,
    "start_time": "2022-12-15T19:42:40.935Z"
   },
   {
    "duration": 105,
    "start_time": "2022-12-15T19:42:40.963Z"
   },
   {
    "duration": 96,
    "start_time": "2022-12-15T19:42:41.070Z"
   },
   {
    "duration": 89,
    "start_time": "2022-12-15T19:42:41.168Z"
   },
   {
    "duration": 83,
    "start_time": "2022-12-15T19:42:41.260Z"
   },
   {
    "duration": 3,
    "start_time": "2022-12-15T19:42:41.345Z"
   },
   {
    "duration": 23,
    "start_time": "2022-12-15T19:42:41.349Z"
   },
   {
    "duration": 29,
    "start_time": "2022-12-15T19:42:41.374Z"
   },
   {
    "duration": 11,
    "start_time": "2022-12-15T19:42:41.405Z"
   },
   {
    "duration": 8,
    "start_time": "2022-12-15T19:42:41.419Z"
   },
   {
    "duration": 17,
    "start_time": "2022-12-15T19:42:41.429Z"
   },
   {
    "duration": 8,
    "start_time": "2022-12-15T19:42:41.448Z"
   },
   {
    "duration": 9,
    "start_time": "2022-12-15T19:42:41.458Z"
   },
   {
    "duration": 23,
    "start_time": "2022-12-15T19:42:41.470Z"
   },
   {
    "duration": 25,
    "start_time": "2022-12-15T19:42:41.495Z"
   },
   {
    "duration": 19,
    "start_time": "2022-12-15T19:42:41.522Z"
   },
   {
    "duration": 16,
    "start_time": "2022-12-15T19:42:41.542Z"
   },
   {
    "duration": 12,
    "start_time": "2022-12-15T19:42:41.560Z"
   },
   {
    "duration": 35,
    "start_time": "2022-12-15T19:42:41.574Z"
   },
   {
    "duration": 71,
    "start_time": "2022-12-15T19:42:41.612Z"
   },
   {
    "duration": 0,
    "start_time": "2022-12-15T19:42:41.684Z"
   },
   {
    "duration": 0,
    "start_time": "2022-12-15T19:42:41.685Z"
   },
   {
    "duration": 0,
    "start_time": "2022-12-15T19:42:41.687Z"
   },
   {
    "duration": 0,
    "start_time": "2022-12-15T19:42:41.688Z"
   },
   {
    "duration": 0,
    "start_time": "2022-12-15T19:42:41.689Z"
   },
   {
    "duration": 0,
    "start_time": "2022-12-15T19:42:41.690Z"
   },
   {
    "duration": 0,
    "start_time": "2022-12-15T19:42:41.691Z"
   },
   {
    "duration": 1,
    "start_time": "2022-12-15T19:42:41.692Z"
   },
   {
    "duration": 14,
    "start_time": "2022-12-15T19:43:02.409Z"
   },
   {
    "duration": 7,
    "start_time": "2022-12-15T19:44:30.151Z"
   },
   {
    "duration": 7,
    "start_time": "2022-12-15T19:44:40.421Z"
   },
   {
    "duration": 16,
    "start_time": "2022-12-15T19:44:52.247Z"
   },
   {
    "duration": 61,
    "start_time": "2022-12-15T19:44:57.724Z"
   },
   {
    "duration": 5,
    "start_time": "2022-12-15T19:47:55.584Z"
   },
   {
    "duration": 7,
    "start_time": "2022-12-15T19:48:19.411Z"
   },
   {
    "duration": 37,
    "start_time": "2022-12-15T19:48:24.521Z"
   },
   {
    "duration": 43,
    "start_time": "2022-12-15T19:48:42.254Z"
   },
   {
    "duration": 38,
    "start_time": "2022-12-15T19:49:33.225Z"
   },
   {
    "duration": 10,
    "start_time": "2022-12-15T19:50:44.846Z"
   },
   {
    "duration": 9,
    "start_time": "2022-12-15T19:50:47.655Z"
   },
   {
    "duration": 10,
    "start_time": "2022-12-15T19:50:49.884Z"
   },
   {
    "duration": 458,
    "start_time": "2022-12-15T19:50:59.459Z"
   },
   {
    "duration": 179,
    "start_time": "2022-12-15T19:50:59.919Z"
   },
   {
    "duration": 22,
    "start_time": "2022-12-15T19:51:00.100Z"
   },
   {
    "duration": 73,
    "start_time": "2022-12-15T19:51:00.124Z"
   },
   {
    "duration": 28,
    "start_time": "2022-12-15T19:51:00.200Z"
   },
   {
    "duration": 21,
    "start_time": "2022-12-15T19:51:00.230Z"
   },
   {
    "duration": 35,
    "start_time": "2022-12-15T19:51:00.252Z"
   },
   {
    "duration": 32,
    "start_time": "2022-12-15T19:51:00.289Z"
   },
   {
    "duration": 58,
    "start_time": "2022-12-15T19:51:00.323Z"
   },
   {
    "duration": 74,
    "start_time": "2022-12-15T19:51:00.382Z"
   },
   {
    "duration": 36,
    "start_time": "2022-12-15T19:51:00.458Z"
   },
   {
    "duration": 83,
    "start_time": "2022-12-15T19:51:00.496Z"
   },
   {
    "duration": 129,
    "start_time": "2022-12-15T19:51:00.581Z"
   },
   {
    "duration": 81,
    "start_time": "2022-12-15T19:51:00.714Z"
   },
   {
    "duration": 38,
    "start_time": "2022-12-15T19:51:00.797Z"
   },
   {
    "duration": 3,
    "start_time": "2022-12-15T19:51:00.837Z"
   },
   {
    "duration": 51,
    "start_time": "2022-12-15T19:51:00.841Z"
   },
   {
    "duration": 38,
    "start_time": "2022-12-15T19:51:00.894Z"
   },
   {
    "duration": 7,
    "start_time": "2022-12-15T19:51:00.934Z"
   },
   {
    "duration": 24,
    "start_time": "2022-12-15T19:51:00.944Z"
   },
   {
    "duration": 11,
    "start_time": "2022-12-15T19:51:00.970Z"
   },
   {
    "duration": 6,
    "start_time": "2022-12-15T19:51:00.983Z"
   },
   {
    "duration": 8,
    "start_time": "2022-12-15T19:51:00.991Z"
   },
   {
    "duration": 9,
    "start_time": "2022-12-15T19:51:01.001Z"
   },
   {
    "duration": 43,
    "start_time": "2022-12-15T19:51:01.012Z"
   },
   {
    "duration": 21,
    "start_time": "2022-12-15T19:51:01.058Z"
   },
   {
    "duration": 7,
    "start_time": "2022-12-15T19:51:01.082Z"
   },
   {
    "duration": 20,
    "start_time": "2022-12-15T19:51:01.091Z"
   },
   {
    "duration": 25,
    "start_time": "2022-12-15T19:51:01.113Z"
   },
   {
    "duration": 78,
    "start_time": "2022-12-15T19:51:01.140Z"
   },
   {
    "duration": 0,
    "start_time": "2022-12-15T19:51:01.220Z"
   },
   {
    "duration": 0,
    "start_time": "2022-12-15T19:51:01.222Z"
   },
   {
    "duration": 0,
    "start_time": "2022-12-15T19:51:01.223Z"
   },
   {
    "duration": 0,
    "start_time": "2022-12-15T19:51:01.224Z"
   },
   {
    "duration": 0,
    "start_time": "2022-12-15T19:51:01.228Z"
   },
   {
    "duration": 0,
    "start_time": "2022-12-15T19:51:01.230Z"
   },
   {
    "duration": 0,
    "start_time": "2022-12-15T19:51:01.231Z"
   },
   {
    "duration": 0,
    "start_time": "2022-12-15T19:51:01.232Z"
   },
   {
    "duration": 911,
    "start_time": "2022-12-15T19:51:21.493Z"
   },
   {
    "duration": 842,
    "start_time": "2022-12-15T19:51:34.436Z"
   },
   {
    "duration": 6,
    "start_time": "2022-12-15T19:51:40.044Z"
   },
   {
    "duration": 5,
    "start_time": "2022-12-15T19:51:41.769Z"
   },
   {
    "duration": 3,
    "start_time": "2022-12-15T19:51:44.468Z"
   },
   {
    "duration": 234,
    "start_time": "2022-12-15T19:51:44.474Z"
   },
   {
    "duration": 14,
    "start_time": "2022-12-15T19:51:44.710Z"
   },
   {
    "duration": 36,
    "start_time": "2022-12-15T19:51:44.726Z"
   },
   {
    "duration": 3,
    "start_time": "2022-12-15T19:51:44.777Z"
   },
   {
    "duration": 12,
    "start_time": "2022-12-15T19:51:44.782Z"
   },
   {
    "duration": 18,
    "start_time": "2022-12-15T19:51:44.796Z"
   },
   {
    "duration": 11,
    "start_time": "2022-12-15T19:51:44.816Z"
   },
   {
    "duration": 50,
    "start_time": "2022-12-15T19:51:44.829Z"
   },
   {
    "duration": 59,
    "start_time": "2022-12-15T19:51:44.880Z"
   },
   {
    "duration": 40,
    "start_time": "2022-12-15T19:51:44.942Z"
   },
   {
    "duration": 123,
    "start_time": "2022-12-15T19:51:44.984Z"
   },
   {
    "duration": 101,
    "start_time": "2022-12-15T19:51:45.110Z"
   },
   {
    "duration": 81,
    "start_time": "2022-12-15T19:51:45.216Z"
   },
   {
    "duration": 37,
    "start_time": "2022-12-15T19:51:45.299Z"
   },
   {
    "duration": 2,
    "start_time": "2022-12-15T19:51:45.338Z"
   },
   {
    "duration": 18,
    "start_time": "2022-12-15T19:51:45.342Z"
   },
   {
    "duration": 17,
    "start_time": "2022-12-15T19:51:45.361Z"
   },
   {
    "duration": 6,
    "start_time": "2022-12-15T19:51:45.380Z"
   },
   {
    "duration": 7,
    "start_time": "2022-12-15T19:51:45.388Z"
   },
   {
    "duration": 12,
    "start_time": "2022-12-15T19:51:45.397Z"
   },
   {
    "duration": 6,
    "start_time": "2022-12-15T19:51:45.411Z"
   },
   {
    "duration": 6,
    "start_time": "2022-12-15T19:51:45.419Z"
   },
   {
    "duration": 6,
    "start_time": "2022-12-15T19:51:45.427Z"
   },
   {
    "duration": 14,
    "start_time": "2022-12-15T19:51:45.435Z"
   },
   {
    "duration": 6,
    "start_time": "2022-12-15T19:51:45.452Z"
   },
   {
    "duration": 8,
    "start_time": "2022-12-15T19:51:45.460Z"
   },
   {
    "duration": 15,
    "start_time": "2022-12-15T19:51:45.470Z"
   },
   {
    "duration": 11,
    "start_time": "2022-12-15T19:51:45.486Z"
   },
   {
    "duration": 97,
    "start_time": "2022-12-15T19:51:45.499Z"
   },
   {
    "duration": 0,
    "start_time": "2022-12-15T19:51:45.598Z"
   },
   {
    "duration": 0,
    "start_time": "2022-12-15T19:51:45.599Z"
   },
   {
    "duration": 0,
    "start_time": "2022-12-15T19:51:45.601Z"
   },
   {
    "duration": 0,
    "start_time": "2022-12-15T19:51:45.602Z"
   },
   {
    "duration": 0,
    "start_time": "2022-12-15T19:51:45.603Z"
   },
   {
    "duration": 0,
    "start_time": "2022-12-15T19:51:45.605Z"
   },
   {
    "duration": 0,
    "start_time": "2022-12-15T19:51:45.606Z"
   },
   {
    "duration": 0,
    "start_time": "2022-12-15T19:51:45.608Z"
   },
   {
    "duration": 879,
    "start_time": "2022-12-15T19:51:53.900Z"
   },
   {
    "duration": 842,
    "start_time": "2022-12-15T19:52:01.660Z"
   },
   {
    "duration": 845,
    "start_time": "2022-12-15T19:52:05.497Z"
   },
   {
    "duration": 809,
    "start_time": "2022-12-15T19:52:08.241Z"
   },
   {
    "duration": 3,
    "start_time": "2022-12-15T19:52:33.831Z"
   },
   {
    "duration": 200,
    "start_time": "2022-12-15T19:52:33.836Z"
   },
   {
    "duration": 16,
    "start_time": "2022-12-15T19:52:34.038Z"
   },
   {
    "duration": 51,
    "start_time": "2022-12-15T19:52:34.059Z"
   },
   {
    "duration": 4,
    "start_time": "2022-12-15T19:52:34.112Z"
   },
   {
    "duration": 9,
    "start_time": "2022-12-15T19:52:34.118Z"
   },
   {
    "duration": 26,
    "start_time": "2022-12-15T19:52:34.129Z"
   },
   {
    "duration": 18,
    "start_time": "2022-12-15T19:52:34.157Z"
   },
   {
    "duration": 41,
    "start_time": "2022-12-15T19:52:34.177Z"
   },
   {
    "duration": 50,
    "start_time": "2022-12-15T19:52:34.221Z"
   },
   {
    "duration": 25,
    "start_time": "2022-12-15T19:52:34.273Z"
   },
   {
    "duration": 67,
    "start_time": "2022-12-15T19:52:34.299Z"
   },
   {
    "duration": 78,
    "start_time": "2022-12-15T19:52:34.377Z"
   },
   {
    "duration": 71,
    "start_time": "2022-12-15T19:52:34.457Z"
   },
   {
    "duration": 55,
    "start_time": "2022-12-15T19:52:34.530Z"
   },
   {
    "duration": 3,
    "start_time": "2022-12-15T19:52:34.587Z"
   },
   {
    "duration": 6,
    "start_time": "2022-12-15T19:52:34.591Z"
   },
   {
    "duration": 6,
    "start_time": "2022-12-15T19:52:34.599Z"
   },
   {
    "duration": 15,
    "start_time": "2022-12-15T19:52:34.607Z"
   },
   {
    "duration": 16,
    "start_time": "2022-12-15T19:52:34.624Z"
   },
   {
    "duration": 12,
    "start_time": "2022-12-15T19:52:34.641Z"
   },
   {
    "duration": 7,
    "start_time": "2022-12-15T19:52:34.654Z"
   },
   {
    "duration": 7,
    "start_time": "2022-12-15T19:52:34.662Z"
   },
   {
    "duration": 9,
    "start_time": "2022-12-15T19:52:34.671Z"
   },
   {
    "duration": 12,
    "start_time": "2022-12-15T19:52:34.681Z"
   },
   {
    "duration": 8,
    "start_time": "2022-12-15T19:52:34.694Z"
   },
   {
    "duration": 9,
    "start_time": "2022-12-15T19:52:34.704Z"
   },
   {
    "duration": 8,
    "start_time": "2022-12-15T19:52:34.716Z"
   },
   {
    "duration": 7,
    "start_time": "2022-12-15T19:52:34.725Z"
   },
   {
    "duration": 71,
    "start_time": "2022-12-15T19:52:34.734Z"
   },
   {
    "duration": 0,
    "start_time": "2022-12-15T19:52:34.806Z"
   },
   {
    "duration": 0,
    "start_time": "2022-12-15T19:52:34.808Z"
   },
   {
    "duration": 0,
    "start_time": "2022-12-15T19:52:34.809Z"
   },
   {
    "duration": 0,
    "start_time": "2022-12-15T19:52:34.810Z"
   },
   {
    "duration": 0,
    "start_time": "2022-12-15T19:52:34.811Z"
   },
   {
    "duration": 0,
    "start_time": "2022-12-15T19:52:34.812Z"
   },
   {
    "duration": 0,
    "start_time": "2022-12-15T19:52:34.813Z"
   },
   {
    "duration": 0,
    "start_time": "2022-12-15T19:52:34.814Z"
   },
   {
    "duration": 45,
    "start_time": "2022-12-15T19:54:10.379Z"
   },
   {
    "duration": 5,
    "start_time": "2022-12-15T19:54:12.686Z"
   },
   {
    "duration": 8,
    "start_time": "2022-12-15T19:54:56.174Z"
   },
   {
    "duration": 374,
    "start_time": "2022-12-15T19:55:07.122Z"
   },
   {
    "duration": 175,
    "start_time": "2022-12-15T19:55:07.499Z"
   },
   {
    "duration": 16,
    "start_time": "2022-12-15T19:55:07.676Z"
   },
   {
    "duration": 30,
    "start_time": "2022-12-15T19:55:07.694Z"
   },
   {
    "duration": 2,
    "start_time": "2022-12-15T19:55:07.726Z"
   },
   {
    "duration": 10,
    "start_time": "2022-12-15T19:55:07.729Z"
   },
   {
    "duration": 13,
    "start_time": "2022-12-15T19:55:07.740Z"
   },
   {
    "duration": 26,
    "start_time": "2022-12-15T19:55:07.755Z"
   },
   {
    "duration": 28,
    "start_time": "2022-12-15T19:55:07.783Z"
   },
   {
    "duration": 70,
    "start_time": "2022-12-15T19:55:07.814Z"
   },
   {
    "duration": 25,
    "start_time": "2022-12-15T19:55:07.885Z"
   },
   {
    "duration": 79,
    "start_time": "2022-12-15T19:55:07.911Z"
   },
   {
    "duration": 98,
    "start_time": "2022-12-15T19:55:07.992Z"
   },
   {
    "duration": 58,
    "start_time": "2022-12-15T19:55:08.092Z"
   },
   {
    "duration": 52,
    "start_time": "2022-12-15T19:55:08.152Z"
   },
   {
    "duration": 2,
    "start_time": "2022-12-15T19:55:08.206Z"
   },
   {
    "duration": 7,
    "start_time": "2022-12-15T19:55:08.210Z"
   },
   {
    "duration": 8,
    "start_time": "2022-12-15T19:55:08.218Z"
   },
   {
    "duration": 5,
    "start_time": "2022-12-15T19:55:08.227Z"
   },
   {
    "duration": 5,
    "start_time": "2022-12-15T19:55:08.233Z"
   },
   {
    "duration": 9,
    "start_time": "2022-12-15T19:55:08.240Z"
   },
   {
    "duration": 6,
    "start_time": "2022-12-15T19:55:08.250Z"
   },
   {
    "duration": 26,
    "start_time": "2022-12-15T19:55:08.257Z"
   },
   {
    "duration": 6,
    "start_time": "2022-12-15T19:55:08.284Z"
   },
   {
    "duration": 9,
    "start_time": "2022-12-15T19:55:08.291Z"
   },
   {
    "duration": 8,
    "start_time": "2022-12-15T19:55:08.301Z"
   },
   {
    "duration": 11,
    "start_time": "2022-12-15T19:55:08.310Z"
   },
   {
    "duration": 5,
    "start_time": "2022-12-15T19:55:08.325Z"
   },
   {
    "duration": 6,
    "start_time": "2022-12-15T19:55:08.331Z"
   },
   {
    "duration": 71,
    "start_time": "2022-12-15T19:55:08.338Z"
   },
   {
    "duration": 0,
    "start_time": "2022-12-15T19:55:08.411Z"
   },
   {
    "duration": 0,
    "start_time": "2022-12-15T19:55:08.412Z"
   },
   {
    "duration": 0,
    "start_time": "2022-12-15T19:55:08.413Z"
   },
   {
    "duration": 0,
    "start_time": "2022-12-15T19:55:08.414Z"
   },
   {
    "duration": 0,
    "start_time": "2022-12-15T19:55:08.415Z"
   },
   {
    "duration": 0,
    "start_time": "2022-12-15T19:55:08.416Z"
   },
   {
    "duration": 0,
    "start_time": "2022-12-15T19:55:08.418Z"
   },
   {
    "duration": 0,
    "start_time": "2022-12-15T19:55:08.419Z"
   },
   {
    "duration": 81,
    "start_time": "2022-12-20T11:17:57.939Z"
   },
   {
    "duration": 8,
    "start_time": "2022-12-20T11:18:13.537Z"
   },
   {
    "duration": 6,
    "start_time": "2022-12-20T11:18:19.741Z"
   },
   {
    "duration": 397,
    "start_time": "2022-12-20T11:18:38.435Z"
   },
   {
    "duration": 219,
    "start_time": "2022-12-20T11:18:38.834Z"
   },
   {
    "duration": 17,
    "start_time": "2022-12-20T11:18:39.055Z"
   },
   {
    "duration": 27,
    "start_time": "2022-12-20T11:18:39.074Z"
   },
   {
    "duration": 2,
    "start_time": "2022-12-20T11:18:39.103Z"
   },
   {
    "duration": 7,
    "start_time": "2022-12-20T11:18:39.106Z"
   },
   {
    "duration": 13,
    "start_time": "2022-12-20T11:18:39.114Z"
   },
   {
    "duration": 9,
    "start_time": "2022-12-20T11:18:39.129Z"
   },
   {
    "duration": 25,
    "start_time": "2022-12-20T11:18:39.139Z"
   },
   {
    "duration": 66,
    "start_time": "2022-12-20T11:18:39.167Z"
   },
   {
    "duration": 24,
    "start_time": "2022-12-20T11:18:39.234Z"
   },
   {
    "duration": 79,
    "start_time": "2022-12-20T11:18:39.259Z"
   },
   {
    "duration": 83,
    "start_time": "2022-12-20T11:18:39.339Z"
   },
   {
    "duration": 54,
    "start_time": "2022-12-20T11:18:39.424Z"
   },
   {
    "duration": 52,
    "start_time": "2022-12-20T11:18:39.480Z"
   },
   {
    "duration": 3,
    "start_time": "2022-12-20T11:18:39.533Z"
   },
   {
    "duration": 5,
    "start_time": "2022-12-20T11:18:39.537Z"
   },
   {
    "duration": 4,
    "start_time": "2022-12-20T11:18:39.544Z"
   },
   {
    "duration": 14,
    "start_time": "2022-12-20T11:18:39.550Z"
   },
   {
    "duration": 7,
    "start_time": "2022-12-20T11:18:39.566Z"
   },
   {
    "duration": 7,
    "start_time": "2022-12-20T11:18:39.574Z"
   },
   {
    "duration": 6,
    "start_time": "2022-12-20T11:18:39.583Z"
   },
   {
    "duration": 2,
    "start_time": "2022-12-20T11:18:39.597Z"
   },
   {
    "duration": 12,
    "start_time": "2022-12-20T11:18:39.600Z"
   },
   {
    "duration": 12,
    "start_time": "2022-12-20T11:18:39.613Z"
   },
   {
    "duration": 15,
    "start_time": "2022-12-20T11:18:39.626Z"
   },
   {
    "duration": 11,
    "start_time": "2022-12-20T11:18:39.642Z"
   },
   {
    "duration": 10,
    "start_time": "2022-12-20T11:18:39.656Z"
   },
   {
    "duration": 11,
    "start_time": "2022-12-20T11:18:39.668Z"
   },
   {
    "duration": 48,
    "start_time": "2022-12-20T11:18:39.680Z"
   },
   {
    "duration": 0,
    "start_time": "2022-12-20T11:18:39.730Z"
   },
   {
    "duration": 0,
    "start_time": "2022-12-20T11:18:39.731Z"
   },
   {
    "duration": 0,
    "start_time": "2022-12-20T11:18:39.732Z"
   },
   {
    "duration": 0,
    "start_time": "2022-12-20T11:18:39.733Z"
   },
   {
    "duration": 0,
    "start_time": "2022-12-20T11:18:39.734Z"
   },
   {
    "duration": 0,
    "start_time": "2022-12-20T11:18:39.735Z"
   },
   {
    "duration": 0,
    "start_time": "2022-12-20T11:18:39.736Z"
   },
   {
    "duration": 0,
    "start_time": "2022-12-20T11:18:39.737Z"
   },
   {
    "duration": 75,
    "start_time": "2022-12-20T11:20:32.137Z"
   },
   {
    "duration": 13,
    "start_time": "2022-12-20T11:21:00.022Z"
   },
   {
    "duration": 8,
    "start_time": "2022-12-20T11:21:09.466Z"
   },
   {
    "duration": 402,
    "start_time": "2022-12-20T11:21:32.590Z"
   },
   {
    "duration": 166,
    "start_time": "2022-12-20T11:21:32.994Z"
   },
   {
    "duration": 19,
    "start_time": "2022-12-20T11:21:33.162Z"
   },
   {
    "duration": 56,
    "start_time": "2022-12-20T11:21:33.184Z"
   },
   {
    "duration": 3,
    "start_time": "2022-12-20T11:21:33.242Z"
   },
   {
    "duration": 10,
    "start_time": "2022-12-20T11:21:33.246Z"
   },
   {
    "duration": 15,
    "start_time": "2022-12-20T11:21:33.258Z"
   },
   {
    "duration": 24,
    "start_time": "2022-12-20T11:21:33.276Z"
   },
   {
    "duration": 32,
    "start_time": "2022-12-20T11:21:33.302Z"
   },
   {
    "duration": 76,
    "start_time": "2022-12-20T11:21:33.337Z"
   },
   {
    "duration": 41,
    "start_time": "2022-12-20T11:21:33.415Z"
   },
   {
    "duration": 95,
    "start_time": "2022-12-20T11:21:33.458Z"
   },
   {
    "duration": 92,
    "start_time": "2022-12-20T11:21:33.555Z"
   },
   {
    "duration": 95,
    "start_time": "2022-12-20T11:21:33.649Z"
   },
   {
    "duration": 67,
    "start_time": "2022-12-20T11:21:33.746Z"
   },
   {
    "duration": 3,
    "start_time": "2022-12-20T11:21:33.815Z"
   },
   {
    "duration": 5,
    "start_time": "2022-12-20T11:21:33.820Z"
   },
   {
    "duration": 5,
    "start_time": "2022-12-20T11:21:33.826Z"
   },
   {
    "duration": 6,
    "start_time": "2022-12-20T11:21:33.832Z"
   },
   {
    "duration": 7,
    "start_time": "2022-12-20T11:21:33.840Z"
   },
   {
    "duration": 8,
    "start_time": "2022-12-20T11:21:33.848Z"
   },
   {
    "duration": 5,
    "start_time": "2022-12-20T11:21:33.857Z"
   },
   {
    "duration": 6,
    "start_time": "2022-12-20T11:21:33.863Z"
   },
   {
    "duration": 12,
    "start_time": "2022-12-20T11:21:33.870Z"
   },
   {
    "duration": 8,
    "start_time": "2022-12-20T11:21:33.898Z"
   },
   {
    "duration": 5,
    "start_time": "2022-12-20T11:21:33.908Z"
   },
   {
    "duration": 5,
    "start_time": "2022-12-20T11:21:33.915Z"
   },
   {
    "duration": 13,
    "start_time": "2022-12-20T11:21:33.924Z"
   },
   {
    "duration": 29,
    "start_time": "2022-12-20T11:21:33.939Z"
   },
   {
    "duration": 76,
    "start_time": "2022-12-20T11:21:33.970Z"
   },
   {
    "duration": 0,
    "start_time": "2022-12-20T11:21:34.048Z"
   },
   {
    "duration": 0,
    "start_time": "2022-12-20T11:21:34.049Z"
   },
   {
    "duration": 0,
    "start_time": "2022-12-20T11:21:34.051Z"
   },
   {
    "duration": 0,
    "start_time": "2022-12-20T11:21:34.053Z"
   },
   {
    "duration": 0,
    "start_time": "2022-12-20T11:21:34.054Z"
   },
   {
    "duration": 0,
    "start_time": "2022-12-20T11:21:34.055Z"
   },
   {
    "duration": 0,
    "start_time": "2022-12-20T11:21:34.056Z"
   },
   {
    "duration": 0,
    "start_time": "2022-12-20T11:21:34.058Z"
   },
   {
    "duration": 53,
    "start_time": "2022-12-20T11:27:51.045Z"
   },
   {
    "duration": 38,
    "start_time": "2022-12-20T11:27:53.797Z"
   },
   {
    "duration": 46,
    "start_time": "2022-12-20T11:28:02.351Z"
   },
   {
    "duration": 38,
    "start_time": "2022-12-20T11:28:12.914Z"
   },
   {
    "duration": 68,
    "start_time": "2022-12-20T11:28:24.058Z"
   },
   {
    "duration": 380,
    "start_time": "2022-12-20T11:28:59.061Z"
   },
   {
    "duration": 167,
    "start_time": "2022-12-20T11:28:59.443Z"
   },
   {
    "duration": 16,
    "start_time": "2022-12-20T11:28:59.612Z"
   },
   {
    "duration": 31,
    "start_time": "2022-12-20T11:28:59.630Z"
   },
   {
    "duration": 4,
    "start_time": "2022-12-20T11:28:59.663Z"
   },
   {
    "duration": 30,
    "start_time": "2022-12-20T11:28:59.669Z"
   },
   {
    "duration": 12,
    "start_time": "2022-12-20T11:28:59.701Z"
   },
   {
    "duration": 8,
    "start_time": "2022-12-20T11:28:59.715Z"
   },
   {
    "duration": 28,
    "start_time": "2022-12-20T11:28:59.725Z"
   },
   {
    "duration": 63,
    "start_time": "2022-12-20T11:28:59.756Z"
   },
   {
    "duration": 7,
    "start_time": "2022-12-20T11:28:59.820Z"
   },
   {
    "duration": 11,
    "start_time": "2022-12-20T11:28:59.828Z"
   },
   {
    "duration": 14,
    "start_time": "2022-12-20T11:28:59.841Z"
   },
   {
    "duration": 13,
    "start_time": "2022-12-20T11:28:59.857Z"
   },
   {
    "duration": 92,
    "start_time": "2022-12-20T11:28:59.871Z"
   },
   {
    "duration": 0,
    "start_time": "2022-12-20T11:28:59.966Z"
   },
   {
    "duration": 1,
    "start_time": "2022-12-20T11:28:59.968Z"
   },
   {
    "duration": 0,
    "start_time": "2022-12-20T11:28:59.970Z"
   },
   {
    "duration": 0,
    "start_time": "2022-12-20T11:28:59.972Z"
   },
   {
    "duration": 0,
    "start_time": "2022-12-20T11:28:59.973Z"
   },
   {
    "duration": 0,
    "start_time": "2022-12-20T11:28:59.975Z"
   },
   {
    "duration": 0,
    "start_time": "2022-12-20T11:28:59.976Z"
   },
   {
    "duration": 0,
    "start_time": "2022-12-20T11:28:59.978Z"
   },
   {
    "duration": 0,
    "start_time": "2022-12-20T11:28:59.979Z"
   },
   {
    "duration": 0,
    "start_time": "2022-12-20T11:28:59.981Z"
   },
   {
    "duration": 0,
    "start_time": "2022-12-20T11:28:59.997Z"
   },
   {
    "duration": 0,
    "start_time": "2022-12-20T11:28:59.999Z"
   },
   {
    "duration": 0,
    "start_time": "2022-12-20T11:29:00.000Z"
   },
   {
    "duration": 0,
    "start_time": "2022-12-20T11:29:00.001Z"
   },
   {
    "duration": 0,
    "start_time": "2022-12-20T11:29:00.003Z"
   },
   {
    "duration": 0,
    "start_time": "2022-12-20T11:29:00.003Z"
   },
   {
    "duration": 0,
    "start_time": "2022-12-20T11:29:00.005Z"
   },
   {
    "duration": 0,
    "start_time": "2022-12-20T11:29:00.005Z"
   },
   {
    "duration": 0,
    "start_time": "2022-12-20T11:29:00.006Z"
   },
   {
    "duration": 0,
    "start_time": "2022-12-20T11:29:00.008Z"
   },
   {
    "duration": 0,
    "start_time": "2022-12-20T11:29:00.009Z"
   },
   {
    "duration": 0,
    "start_time": "2022-12-20T11:29:00.010Z"
   },
   {
    "duration": 0,
    "start_time": "2022-12-20T11:29:00.011Z"
   },
   {
    "duration": 41,
    "start_time": "2022-12-20T11:29:30.337Z"
   },
   {
    "duration": 13,
    "start_time": "2022-12-20T11:29:49.064Z"
   },
   {
    "duration": 12,
    "start_time": "2022-12-20T11:29:53.550Z"
   },
   {
    "duration": 44,
    "start_time": "2022-12-20T11:29:59.387Z"
   },
   {
    "duration": 42,
    "start_time": "2022-12-20T11:30:09.100Z"
   },
   {
    "duration": 13,
    "start_time": "2022-12-20T11:30:16.854Z"
   },
   {
    "duration": 9,
    "start_time": "2022-12-20T11:30:37.532Z"
   },
   {
    "duration": 425,
    "start_time": "2022-12-20T11:30:43.761Z"
   },
   {
    "duration": 168,
    "start_time": "2022-12-20T11:30:44.187Z"
   },
   {
    "duration": 20,
    "start_time": "2022-12-20T11:30:44.357Z"
   },
   {
    "duration": 40,
    "start_time": "2022-12-20T11:30:44.379Z"
   },
   {
    "duration": 3,
    "start_time": "2022-12-20T11:30:44.421Z"
   },
   {
    "duration": 9,
    "start_time": "2022-12-20T11:30:44.425Z"
   },
   {
    "duration": 14,
    "start_time": "2022-12-20T11:30:44.436Z"
   },
   {
    "duration": 8,
    "start_time": "2022-12-20T11:30:44.451Z"
   },
   {
    "duration": 50,
    "start_time": "2022-12-20T11:30:44.460Z"
   },
   {
    "duration": 44,
    "start_time": "2022-12-20T11:30:44.513Z"
   },
   {
    "duration": 41,
    "start_time": "2022-12-20T11:30:44.559Z"
   },
   {
    "duration": 67,
    "start_time": "2022-12-20T11:30:44.601Z"
   },
   {
    "duration": 121,
    "start_time": "2022-12-20T11:30:44.670Z"
   },
   {
    "duration": 81,
    "start_time": "2022-12-20T11:30:44.793Z"
   },
   {
    "duration": 82,
    "start_time": "2022-12-20T11:30:44.876Z"
   },
   {
    "duration": 10,
    "start_time": "2022-12-20T11:30:44.961Z"
   },
   {
    "duration": 10,
    "start_time": "2022-12-20T11:30:44.973Z"
   },
   {
    "duration": 23,
    "start_time": "2022-12-20T11:30:44.985Z"
   },
   {
    "duration": 19,
    "start_time": "2022-12-20T11:30:45.010Z"
   },
   {
    "duration": 14,
    "start_time": "2022-12-20T11:30:45.031Z"
   },
   {
    "duration": 29,
    "start_time": "2022-12-20T11:30:45.047Z"
   },
   {
    "duration": 15,
    "start_time": "2022-12-20T11:30:45.078Z"
   },
   {
    "duration": 8,
    "start_time": "2022-12-20T11:30:45.094Z"
   },
   {
    "duration": 12,
    "start_time": "2022-12-20T11:30:45.104Z"
   },
   {
    "duration": 13,
    "start_time": "2022-12-20T11:30:45.118Z"
   },
   {
    "duration": 11,
    "start_time": "2022-12-20T11:30:45.132Z"
   },
   {
    "duration": 6,
    "start_time": "2022-12-20T11:30:45.144Z"
   },
   {
    "duration": 9,
    "start_time": "2022-12-20T11:30:45.153Z"
   },
   {
    "duration": 8,
    "start_time": "2022-12-20T11:30:45.164Z"
   },
   {
    "duration": 72,
    "start_time": "2022-12-20T11:30:45.174Z"
   },
   {
    "duration": 0,
    "start_time": "2022-12-20T11:30:45.247Z"
   },
   {
    "duration": 0,
    "start_time": "2022-12-20T11:30:45.248Z"
   },
   {
    "duration": 0,
    "start_time": "2022-12-20T11:30:45.249Z"
   },
   {
    "duration": 0,
    "start_time": "2022-12-20T11:30:45.250Z"
   },
   {
    "duration": 0,
    "start_time": "2022-12-20T11:30:45.251Z"
   },
   {
    "duration": 0,
    "start_time": "2022-12-20T11:30:45.252Z"
   },
   {
    "duration": 0,
    "start_time": "2022-12-20T11:30:45.253Z"
   },
   {
    "duration": 0,
    "start_time": "2022-12-20T11:30:45.254Z"
   },
   {
    "duration": 2,
    "start_time": "2022-12-20T11:32:01.671Z"
   },
   {
    "duration": 7,
    "start_time": "2022-12-20T11:32:08.404Z"
   },
   {
    "duration": 24,
    "start_time": "2022-12-20T11:32:31.639Z"
   },
   {
    "duration": 28,
    "start_time": "2022-12-20T11:33:26.654Z"
   },
   {
    "duration": 24,
    "start_time": "2022-12-20T11:33:33.098Z"
   },
   {
    "duration": 55,
    "start_time": "2022-12-20T11:33:35.320Z"
   },
   {
    "duration": 54,
    "start_time": "2022-12-20T11:33:37.583Z"
   },
   {
    "duration": 75,
    "start_time": "2022-12-20T11:33:40.968Z"
   },
   {
    "duration": 53,
    "start_time": "2022-12-20T11:33:43.989Z"
   },
   {
    "duration": 36,
    "start_time": "2022-12-20T11:33:47.362Z"
   },
   {
    "duration": 373,
    "start_time": "2022-12-20T11:34:12.817Z"
   },
   {
    "duration": 180,
    "start_time": "2022-12-20T11:34:13.192Z"
   },
   {
    "duration": 16,
    "start_time": "2022-12-20T11:34:13.374Z"
   },
   {
    "duration": 49,
    "start_time": "2022-12-20T11:34:13.398Z"
   },
   {
    "duration": 5,
    "start_time": "2022-12-20T11:34:13.450Z"
   },
   {
    "duration": 19,
    "start_time": "2022-12-20T11:34:13.457Z"
   },
   {
    "duration": 34,
    "start_time": "2022-12-20T11:34:13.478Z"
   },
   {
    "duration": 17,
    "start_time": "2022-12-20T11:34:13.514Z"
   },
   {
    "duration": 54,
    "start_time": "2022-12-20T11:34:13.532Z"
   },
   {
    "duration": 21,
    "start_time": "2022-12-20T11:34:13.588Z"
   },
   {
    "duration": 24,
    "start_time": "2022-12-20T11:34:13.611Z"
   },
   {
    "duration": 78,
    "start_time": "2022-12-20T11:34:13.636Z"
   },
   {
    "duration": 89,
    "start_time": "2022-12-20T11:34:13.716Z"
   },
   {
    "duration": 58,
    "start_time": "2022-12-20T11:34:13.808Z"
   },
   {
    "duration": 54,
    "start_time": "2022-12-20T11:34:13.867Z"
   },
   {
    "duration": 4,
    "start_time": "2022-12-20T11:34:13.922Z"
   },
   {
    "duration": 26,
    "start_time": "2022-12-20T11:34:13.927Z"
   },
   {
    "duration": 25,
    "start_time": "2022-12-20T11:34:13.956Z"
   },
   {
    "duration": 19,
    "start_time": "2022-12-20T11:34:13.983Z"
   },
   {
    "duration": 11,
    "start_time": "2022-12-20T11:34:14.004Z"
   },
   {
    "duration": 26,
    "start_time": "2022-12-20T11:34:14.017Z"
   },
   {
    "duration": 21,
    "start_time": "2022-12-20T11:34:14.045Z"
   },
   {
    "duration": 28,
    "start_time": "2022-12-20T11:34:14.067Z"
   },
   {
    "duration": 8,
    "start_time": "2022-12-20T11:34:14.097Z"
   },
   {
    "duration": 25,
    "start_time": "2022-12-20T11:34:14.106Z"
   },
   {
    "duration": 33,
    "start_time": "2022-12-20T11:34:14.132Z"
   },
   {
    "duration": 11,
    "start_time": "2022-12-20T11:34:14.167Z"
   },
   {
    "duration": 15,
    "start_time": "2022-12-20T11:34:14.180Z"
   },
   {
    "duration": 12,
    "start_time": "2022-12-20T11:34:14.196Z"
   },
   {
    "duration": 66,
    "start_time": "2022-12-20T11:34:14.209Z"
   },
   {
    "duration": 0,
    "start_time": "2022-12-20T11:34:14.277Z"
   },
   {
    "duration": 0,
    "start_time": "2022-12-20T11:34:14.278Z"
   },
   {
    "duration": 0,
    "start_time": "2022-12-20T11:34:14.280Z"
   },
   {
    "duration": 0,
    "start_time": "2022-12-20T11:34:14.281Z"
   },
   {
    "duration": 0,
    "start_time": "2022-12-20T11:34:14.282Z"
   },
   {
    "duration": 0,
    "start_time": "2022-12-20T11:34:14.283Z"
   },
   {
    "duration": 0,
    "start_time": "2022-12-20T11:34:14.284Z"
   },
   {
    "duration": 0,
    "start_time": "2022-12-20T11:34:14.285Z"
   },
   {
    "duration": 50,
    "start_time": "2022-12-20T11:34:35.117Z"
   },
   {
    "duration": 63,
    "start_time": "2022-12-20T11:34:49.093Z"
   },
   {
    "duration": 75,
    "start_time": "2022-12-20T11:35:32.415Z"
   },
   {
    "duration": 61,
    "start_time": "2022-12-20T11:35:42.584Z"
   },
   {
    "duration": 50,
    "start_time": "2022-12-20T11:35:45.171Z"
   },
   {
    "duration": 6,
    "start_time": "2022-12-20T11:38:26.908Z"
   },
   {
    "duration": 22,
    "start_time": "2022-12-20T11:42:43.534Z"
   },
   {
    "duration": 19,
    "start_time": "2022-12-20T11:42:50.953Z"
   },
   {
    "duration": 9,
    "start_time": "2022-12-20T11:44:03.241Z"
   },
   {
    "duration": 38,
    "start_time": "2022-12-20T11:45:11.899Z"
   },
   {
    "duration": 15,
    "start_time": "2022-12-20T12:05:48.465Z"
   },
   {
    "duration": 3,
    "start_time": "2022-12-20T12:06:21.857Z"
   },
   {
    "duration": 550,
    "start_time": "2022-12-20T12:06:28.484Z"
   },
   {
    "duration": 409,
    "start_time": "2022-12-20T12:06:42.214Z"
   },
   {
    "duration": 168,
    "start_time": "2022-12-20T12:06:42.625Z"
   },
   {
    "duration": 15,
    "start_time": "2022-12-20T12:06:42.795Z"
   },
   {
    "duration": 28,
    "start_time": "2022-12-20T12:06:42.812Z"
   },
   {
    "duration": 3,
    "start_time": "2022-12-20T12:06:42.841Z"
   },
   {
    "duration": 10,
    "start_time": "2022-12-20T12:06:42.846Z"
   },
   {
    "duration": 18,
    "start_time": "2022-12-20T12:06:42.858Z"
   },
   {
    "duration": 20,
    "start_time": "2022-12-20T12:06:42.878Z"
   },
   {
    "duration": 36,
    "start_time": "2022-12-20T12:06:42.900Z"
   },
   {
    "duration": 37,
    "start_time": "2022-12-20T12:06:42.940Z"
   },
   {
    "duration": 41,
    "start_time": "2022-12-20T12:06:42.979Z"
   },
   {
    "duration": 80,
    "start_time": "2022-12-20T12:06:43.022Z"
   },
   {
    "duration": 76,
    "start_time": "2022-12-20T12:06:43.103Z"
   },
   {
    "duration": 70,
    "start_time": "2022-12-20T12:06:43.180Z"
   },
   {
    "duration": 49,
    "start_time": "2022-12-20T12:06:43.251Z"
   },
   {
    "duration": 18,
    "start_time": "2022-12-20T12:06:43.302Z"
   },
   {
    "duration": 36,
    "start_time": "2022-12-20T12:06:43.322Z"
   },
   {
    "duration": 5,
    "start_time": "2022-12-20T12:06:43.359Z"
   },
   {
    "duration": 5,
    "start_time": "2022-12-20T12:06:43.365Z"
   },
   {
    "duration": 2,
    "start_time": "2022-12-20T12:06:43.397Z"
   },
   {
    "duration": 8,
    "start_time": "2022-12-20T12:06:43.401Z"
   },
   {
    "duration": 5,
    "start_time": "2022-12-20T12:06:43.410Z"
   },
   {
    "duration": 5,
    "start_time": "2022-12-20T12:06:43.416Z"
   },
   {
    "duration": 6,
    "start_time": "2022-12-20T12:06:43.422Z"
   },
   {
    "duration": 7,
    "start_time": "2022-12-20T12:06:43.430Z"
   },
   {
    "duration": 5,
    "start_time": "2022-12-20T12:06:43.438Z"
   },
   {
    "duration": 5,
    "start_time": "2022-12-20T12:06:43.445Z"
   },
   {
    "duration": 6,
    "start_time": "2022-12-20T12:06:43.452Z"
   },
   {
    "duration": 5,
    "start_time": "2022-12-20T12:06:43.460Z"
   },
   {
    "duration": 46,
    "start_time": "2022-12-20T12:06:43.466Z"
   },
   {
    "duration": 0,
    "start_time": "2022-12-20T12:06:43.514Z"
   },
   {
    "duration": 0,
    "start_time": "2022-12-20T12:06:43.516Z"
   },
   {
    "duration": 0,
    "start_time": "2022-12-20T12:06:43.517Z"
   },
   {
    "duration": 0,
    "start_time": "2022-12-20T12:06:43.519Z"
   },
   {
    "duration": 0,
    "start_time": "2022-12-20T12:06:43.520Z"
   },
   {
    "duration": 0,
    "start_time": "2022-12-20T12:06:43.521Z"
   },
   {
    "duration": 1,
    "start_time": "2022-12-20T12:06:43.522Z"
   },
   {
    "duration": 0,
    "start_time": "2022-12-20T12:06:43.524Z"
   },
   {
    "duration": 89,
    "start_time": "2022-12-20T12:09:08.547Z"
   },
   {
    "duration": 428,
    "start_time": "2022-12-20T12:09:22.859Z"
   },
   {
    "duration": 174,
    "start_time": "2022-12-20T12:09:23.289Z"
   },
   {
    "duration": 18,
    "start_time": "2022-12-20T12:09:23.465Z"
   },
   {
    "duration": 31,
    "start_time": "2022-12-20T12:09:23.497Z"
   },
   {
    "duration": 3,
    "start_time": "2022-12-20T12:09:23.530Z"
   },
   {
    "duration": 7,
    "start_time": "2022-12-20T12:09:23.535Z"
   },
   {
    "duration": 16,
    "start_time": "2022-12-20T12:09:23.544Z"
   },
   {
    "duration": 10,
    "start_time": "2022-12-20T12:09:23.561Z"
   },
   {
    "duration": 60,
    "start_time": "2022-12-20T12:09:23.573Z"
   },
   {
    "duration": 36,
    "start_time": "2022-12-20T12:09:23.635Z"
   },
   {
    "duration": 44,
    "start_time": "2022-12-20T12:09:23.673Z"
   },
   {
    "duration": 90,
    "start_time": "2022-12-20T12:09:23.719Z"
   },
   {
    "duration": 105,
    "start_time": "2022-12-20T12:09:23.811Z"
   },
   {
    "duration": 87,
    "start_time": "2022-12-20T12:09:23.920Z"
   },
   {
    "duration": 42,
    "start_time": "2022-12-20T12:09:24.009Z"
   },
   {
    "duration": 20,
    "start_time": "2022-12-20T12:09:24.053Z"
   },
   {
    "duration": 41,
    "start_time": "2022-12-20T12:09:24.098Z"
   },
   {
    "duration": 79,
    "start_time": "2022-12-20T12:09:24.141Z"
   },
   {
    "duration": 0,
    "start_time": "2022-12-20T12:09:24.222Z"
   },
   {
    "duration": 0,
    "start_time": "2022-12-20T12:09:24.224Z"
   },
   {
    "duration": 0,
    "start_time": "2022-12-20T12:09:24.225Z"
   },
   {
    "duration": 0,
    "start_time": "2022-12-20T12:09:24.226Z"
   },
   {
    "duration": 0,
    "start_time": "2022-12-20T12:09:24.227Z"
   },
   {
    "duration": 0,
    "start_time": "2022-12-20T12:09:24.228Z"
   },
   {
    "duration": 0,
    "start_time": "2022-12-20T12:09:24.229Z"
   },
   {
    "duration": 0,
    "start_time": "2022-12-20T12:09:24.230Z"
   },
   {
    "duration": 0,
    "start_time": "2022-12-20T12:09:24.231Z"
   },
   {
    "duration": 0,
    "start_time": "2022-12-20T12:09:24.232Z"
   },
   {
    "duration": 0,
    "start_time": "2022-12-20T12:09:24.234Z"
   },
   {
    "duration": 0,
    "start_time": "2022-12-20T12:09:24.235Z"
   },
   {
    "duration": 0,
    "start_time": "2022-12-20T12:09:24.236Z"
   },
   {
    "duration": 0,
    "start_time": "2022-12-20T12:09:24.237Z"
   },
   {
    "duration": 0,
    "start_time": "2022-12-20T12:09:24.238Z"
   },
   {
    "duration": 0,
    "start_time": "2022-12-20T12:09:24.240Z"
   },
   {
    "duration": 0,
    "start_time": "2022-12-20T12:09:24.241Z"
   },
   {
    "duration": 0,
    "start_time": "2022-12-20T12:09:24.242Z"
   },
   {
    "duration": 0,
    "start_time": "2022-12-20T12:09:24.244Z"
   },
   {
    "duration": 0,
    "start_time": "2022-12-20T12:09:24.245Z"
   },
   {
    "duration": 8,
    "start_time": "2022-12-20T12:09:43.163Z"
   },
   {
    "duration": 11,
    "start_time": "2022-12-20T12:09:55.665Z"
   },
   {
    "duration": 11,
    "start_time": "2022-12-20T12:11:05.608Z"
   },
   {
    "duration": 394,
    "start_time": "2022-12-20T12:11:12.811Z"
   },
   {
    "duration": 179,
    "start_time": "2022-12-20T12:11:13.207Z"
   },
   {
    "duration": 19,
    "start_time": "2022-12-20T12:11:13.388Z"
   },
   {
    "duration": 30,
    "start_time": "2022-12-20T12:11:13.410Z"
   },
   {
    "duration": 2,
    "start_time": "2022-12-20T12:11:13.442Z"
   },
   {
    "duration": 9,
    "start_time": "2022-12-20T12:11:13.446Z"
   },
   {
    "duration": 45,
    "start_time": "2022-12-20T12:11:13.456Z"
   },
   {
    "duration": 15,
    "start_time": "2022-12-20T12:11:13.504Z"
   },
   {
    "duration": 33,
    "start_time": "2022-12-20T12:11:13.521Z"
   },
   {
    "duration": 30,
    "start_time": "2022-12-20T12:11:13.557Z"
   },
   {
    "duration": 31,
    "start_time": "2022-12-20T12:11:13.589Z"
   },
   {
    "duration": 85,
    "start_time": "2022-12-20T12:11:13.621Z"
   },
   {
    "duration": 94,
    "start_time": "2022-12-20T12:11:13.708Z"
   },
   {
    "duration": 67,
    "start_time": "2022-12-20T12:11:13.803Z"
   },
   {
    "duration": 56,
    "start_time": "2022-12-20T12:11:13.871Z"
   },
   {
    "duration": 22,
    "start_time": "2022-12-20T12:11:13.930Z"
   },
   {
    "duration": 83,
    "start_time": "2022-12-20T12:11:13.954Z"
   },
   {
    "duration": 73,
    "start_time": "2022-12-20T12:11:14.039Z"
   },
   {
    "duration": 0,
    "start_time": "2022-12-20T12:11:14.115Z"
   },
   {
    "duration": 0,
    "start_time": "2022-12-20T12:11:14.116Z"
   },
   {
    "duration": 0,
    "start_time": "2022-12-20T12:11:14.117Z"
   },
   {
    "duration": 0,
    "start_time": "2022-12-20T12:11:14.119Z"
   },
   {
    "duration": 0,
    "start_time": "2022-12-20T12:11:14.120Z"
   },
   {
    "duration": 0,
    "start_time": "2022-12-20T12:11:14.121Z"
   },
   {
    "duration": 0,
    "start_time": "2022-12-20T12:11:14.122Z"
   },
   {
    "duration": 0,
    "start_time": "2022-12-20T12:11:14.123Z"
   },
   {
    "duration": 0,
    "start_time": "2022-12-20T12:11:14.125Z"
   },
   {
    "duration": 0,
    "start_time": "2022-12-20T12:11:14.126Z"
   },
   {
    "duration": 0,
    "start_time": "2022-12-20T12:11:14.127Z"
   },
   {
    "duration": 0,
    "start_time": "2022-12-20T12:11:14.129Z"
   },
   {
    "duration": 0,
    "start_time": "2022-12-20T12:11:14.130Z"
   },
   {
    "duration": 0,
    "start_time": "2022-12-20T12:11:14.131Z"
   },
   {
    "duration": 0,
    "start_time": "2022-12-20T12:11:14.133Z"
   },
   {
    "duration": 0,
    "start_time": "2022-12-20T12:11:14.134Z"
   },
   {
    "duration": 0,
    "start_time": "2022-12-20T12:11:14.135Z"
   },
   {
    "duration": 0,
    "start_time": "2022-12-20T12:11:14.136Z"
   },
   {
    "duration": 0,
    "start_time": "2022-12-20T12:11:14.137Z"
   },
   {
    "duration": 0,
    "start_time": "2022-12-20T12:11:14.139Z"
   },
   {
    "duration": 62,
    "start_time": "2022-12-20T12:12:25.122Z"
   },
   {
    "duration": 18,
    "start_time": "2022-12-20T12:13:57.828Z"
   },
   {
    "duration": 19,
    "start_time": "2022-12-20T12:14:02.571Z"
   },
   {
    "duration": 18,
    "start_time": "2022-12-20T12:17:54.678Z"
   },
   {
    "duration": 32,
    "start_time": "2022-12-20T12:19:11.087Z"
   },
   {
    "duration": 51,
    "start_time": "2022-12-20T12:19:41.859Z"
   },
   {
    "duration": 17,
    "start_time": "2022-12-20T12:19:49.119Z"
   },
   {
    "duration": 13,
    "start_time": "2022-12-20T12:20:14.273Z"
   },
   {
    "duration": 4,
    "start_time": "2022-12-20T12:40:52.272Z"
   },
   {
    "duration": 4,
    "start_time": "2022-12-20T12:40:54.776Z"
   },
   {
    "duration": 5,
    "start_time": "2022-12-20T12:40:58.095Z"
   },
   {
    "duration": 4,
    "start_time": "2022-12-20T12:46:46.742Z"
   },
   {
    "duration": 7,
    "start_time": "2022-12-20T12:49:15.241Z"
   },
   {
    "duration": 441,
    "start_time": "2022-12-20T12:49:25.959Z"
   },
   {
    "duration": 190,
    "start_time": "2022-12-20T12:49:26.402Z"
   },
   {
    "duration": 31,
    "start_time": "2022-12-20T12:49:26.595Z"
   },
   {
    "duration": 63,
    "start_time": "2022-12-20T12:49:26.628Z"
   },
   {
    "duration": 30,
    "start_time": "2022-12-20T12:49:26.694Z"
   },
   {
    "duration": 34,
    "start_time": "2022-12-20T12:49:26.726Z"
   },
   {
    "duration": 42,
    "start_time": "2022-12-20T12:49:26.762Z"
   },
   {
    "duration": 22,
    "start_time": "2022-12-20T12:49:26.811Z"
   },
   {
    "duration": 36,
    "start_time": "2022-12-20T12:49:26.834Z"
   },
   {
    "duration": 52,
    "start_time": "2022-12-20T12:49:26.873Z"
   },
   {
    "duration": 51,
    "start_time": "2022-12-20T12:49:26.927Z"
   },
   {
    "duration": 82,
    "start_time": "2022-12-20T12:49:26.980Z"
   },
   {
    "duration": 99,
    "start_time": "2022-12-20T12:49:27.064Z"
   },
   {
    "duration": 85,
    "start_time": "2022-12-20T12:49:27.166Z"
   },
   {
    "duration": 75,
    "start_time": "2022-12-20T12:49:27.253Z"
   },
   {
    "duration": 23,
    "start_time": "2022-12-20T12:49:27.343Z"
   },
   {
    "duration": 116,
    "start_time": "2022-12-20T12:49:27.368Z"
   },
   {
    "duration": 22,
    "start_time": "2022-12-20T12:49:27.486Z"
   },
   {
    "duration": 43,
    "start_time": "2022-12-20T12:49:27.509Z"
   },
   {
    "duration": 91,
    "start_time": "2022-12-20T12:49:27.554Z"
   },
   {
    "duration": 0,
    "start_time": "2022-12-20T12:49:27.646Z"
   },
   {
    "duration": 0,
    "start_time": "2022-12-20T12:49:27.647Z"
   },
   {
    "duration": 0,
    "start_time": "2022-12-20T12:49:27.648Z"
   },
   {
    "duration": 0,
    "start_time": "2022-12-20T12:49:27.650Z"
   },
   {
    "duration": 0,
    "start_time": "2022-12-20T12:49:27.650Z"
   },
   {
    "duration": 0,
    "start_time": "2022-12-20T12:49:27.652Z"
   },
   {
    "duration": 0,
    "start_time": "2022-12-20T12:49:27.653Z"
   },
   {
    "duration": 0,
    "start_time": "2022-12-20T12:49:27.654Z"
   },
   {
    "duration": 0,
    "start_time": "2022-12-20T12:49:27.655Z"
   },
   {
    "duration": 0,
    "start_time": "2022-12-20T12:49:27.657Z"
   },
   {
    "duration": 0,
    "start_time": "2022-12-20T12:49:27.658Z"
   },
   {
    "duration": 0,
    "start_time": "2022-12-20T12:49:27.659Z"
   },
   {
    "duration": 0,
    "start_time": "2022-12-20T12:49:27.660Z"
   },
   {
    "duration": 0,
    "start_time": "2022-12-20T12:49:27.661Z"
   },
   {
    "duration": 0,
    "start_time": "2022-12-20T12:49:27.662Z"
   },
   {
    "duration": 0,
    "start_time": "2022-12-20T12:49:27.663Z"
   },
   {
    "duration": 0,
    "start_time": "2022-12-20T12:49:27.665Z"
   },
   {
    "duration": 0,
    "start_time": "2022-12-20T12:49:27.702Z"
   },
   {
    "duration": 20,
    "start_time": "2022-12-20T12:50:45.767Z"
   },
   {
    "duration": 21,
    "start_time": "2022-12-20T12:52:14.341Z"
   },
   {
    "duration": 21,
    "start_time": "2022-12-20T12:52:16.338Z"
   },
   {
    "duration": 19,
    "start_time": "2022-12-20T12:52:18.303Z"
   },
   {
    "duration": 21,
    "start_time": "2022-12-20T12:52:21.273Z"
   },
   {
    "duration": 25,
    "start_time": "2022-12-20T12:52:23.302Z"
   },
   {
    "duration": 10,
    "start_time": "2022-12-20T13:00:57.492Z"
   },
   {
    "duration": 8,
    "start_time": "2022-12-20T13:02:09.349Z"
   },
   {
    "duration": 8,
    "start_time": "2022-12-20T13:02:28.453Z"
   },
   {
    "duration": 9,
    "start_time": "2022-12-20T13:09:16.447Z"
   },
   {
    "duration": 19,
    "start_time": "2022-12-20T13:11:48.625Z"
   },
   {
    "duration": 10,
    "start_time": "2022-12-20T13:12:37.004Z"
   },
   {
    "duration": 18,
    "start_time": "2022-12-20T13:12:44.048Z"
   },
   {
    "duration": 12,
    "start_time": "2022-12-20T13:15:00.683Z"
   },
   {
    "duration": 12,
    "start_time": "2022-12-20T13:15:04.548Z"
   },
   {
    "duration": 6,
    "start_time": "2022-12-20T13:27:02.736Z"
   },
   {
    "duration": 8,
    "start_time": "2022-12-20T13:33:17.975Z"
   },
   {
    "duration": 4,
    "start_time": "2022-12-20T13:33:27.339Z"
   },
   {
    "duration": 4,
    "start_time": "2022-12-20T13:33:31.330Z"
   },
   {
    "duration": 8,
    "start_time": "2022-12-20T13:33:41.528Z"
   },
   {
    "duration": 6,
    "start_time": "2022-12-20T13:33:58.818Z"
   },
   {
    "duration": 11,
    "start_time": "2022-12-20T13:40:28.758Z"
   },
   {
    "duration": 4,
    "start_time": "2022-12-20T13:40:39.103Z"
   },
   {
    "duration": 47,
    "start_time": "2022-12-20T13:46:02.539Z"
   },
   {
    "duration": 23,
    "start_time": "2022-12-20T13:47:19.865Z"
   },
   {
    "duration": 15,
    "start_time": "2022-12-20T13:47:34.113Z"
   },
   {
    "duration": 12,
    "start_time": "2022-12-20T13:48:31.213Z"
   },
   {
    "duration": 21,
    "start_time": "2022-12-20T13:48:34.796Z"
   },
   {
    "duration": 13,
    "start_time": "2022-12-20T13:48:40.267Z"
   },
   {
    "duration": 6,
    "start_time": "2022-12-20T13:52:09.851Z"
   },
   {
    "duration": 17,
    "start_time": "2022-12-20T13:52:15.242Z"
   },
   {
    "duration": 402,
    "start_time": "2022-12-20T13:52:27.508Z"
   },
   {
    "duration": 179,
    "start_time": "2022-12-20T13:52:27.913Z"
   },
   {
    "duration": 17,
    "start_time": "2022-12-20T13:52:28.094Z"
   },
   {
    "duration": 30,
    "start_time": "2022-12-20T13:52:28.113Z"
   },
   {
    "duration": 3,
    "start_time": "2022-12-20T13:52:28.145Z"
   },
   {
    "duration": 8,
    "start_time": "2022-12-20T13:52:28.149Z"
   },
   {
    "duration": 38,
    "start_time": "2022-12-20T13:52:28.159Z"
   },
   {
    "duration": 5,
    "start_time": "2022-12-20T13:52:28.199Z"
   },
   {
    "duration": 28,
    "start_time": "2022-12-20T13:52:28.205Z"
   },
   {
    "duration": 23,
    "start_time": "2022-12-20T13:52:28.235Z"
   },
   {
    "duration": 43,
    "start_time": "2022-12-20T13:52:28.259Z"
   },
   {
    "duration": 78,
    "start_time": "2022-12-20T13:52:28.303Z"
   },
   {
    "duration": 82,
    "start_time": "2022-12-20T13:52:28.382Z"
   },
   {
    "duration": 67,
    "start_time": "2022-12-20T13:52:28.467Z"
   },
   {
    "duration": 42,
    "start_time": "2022-12-20T13:52:28.537Z"
   },
   {
    "duration": 33,
    "start_time": "2022-12-20T13:52:28.580Z"
   },
   {
    "duration": 38,
    "start_time": "2022-12-20T13:52:28.615Z"
   },
   {
    "duration": 13,
    "start_time": "2022-12-20T13:52:28.655Z"
   },
   {
    "duration": 35,
    "start_time": "2022-12-20T13:52:28.669Z"
   },
   {
    "duration": 3,
    "start_time": "2022-12-20T13:52:28.706Z"
   },
   {
    "duration": 62,
    "start_time": "2022-12-20T13:52:28.711Z"
   },
   {
    "duration": 17,
    "start_time": "2022-12-20T13:52:28.775Z"
   },
   {
    "duration": 33,
    "start_time": "2022-12-20T13:52:28.794Z"
   },
   {
    "duration": 15,
    "start_time": "2022-12-20T13:52:28.828Z"
   },
   {
    "duration": 32,
    "start_time": "2022-12-20T13:52:28.845Z"
   },
   {
    "duration": 24,
    "start_time": "2022-12-20T13:52:28.879Z"
   },
   {
    "duration": 9,
    "start_time": "2022-12-20T13:52:28.905Z"
   },
   {
    "duration": 65,
    "start_time": "2022-12-20T13:52:28.916Z"
   },
   {
    "duration": 45,
    "start_time": "2022-12-20T13:52:28.983Z"
   },
   {
    "duration": 13,
    "start_time": "2022-12-20T13:52:29.030Z"
   },
   {
    "duration": 30,
    "start_time": "2022-12-20T13:52:29.045Z"
   },
   {
    "duration": 13,
    "start_time": "2022-12-20T13:52:29.077Z"
   },
   {
    "duration": 22,
    "start_time": "2022-12-20T13:52:29.091Z"
   },
   {
    "duration": 14,
    "start_time": "2022-12-20T13:52:29.115Z"
   },
   {
    "duration": 3,
    "start_time": "2022-12-20T13:52:29.131Z"
   },
   {
    "duration": 13,
    "start_time": "2022-12-20T13:52:29.135Z"
   },
   {
    "duration": 11,
    "start_time": "2022-12-20T13:52:29.150Z"
   },
   {
    "duration": 11,
    "start_time": "2022-12-20T13:52:29.163Z"
   },
   {
    "duration": 6,
    "start_time": "2022-12-20T13:58:21.110Z"
   },
   {
    "duration": 48,
    "start_time": "2022-12-20T13:58:40.436Z"
   },
   {
    "duration": 4,
    "start_time": "2022-12-20T13:58:52.979Z"
   },
   {
    "duration": 4,
    "start_time": "2022-12-20T13:59:00.822Z"
   },
   {
    "duration": 66,
    "start_time": "2022-12-20T14:00:11.797Z"
   },
   {
    "duration": 11,
    "start_time": "2022-12-20T14:02:11.007Z"
   },
   {
    "duration": 10,
    "start_time": "2022-12-20T14:02:51.871Z"
   },
   {
    "duration": 9,
    "start_time": "2022-12-20T14:03:09.255Z"
   },
   {
    "duration": 4,
    "start_time": "2022-12-20T14:05:43.003Z"
   },
   {
    "duration": 7,
    "start_time": "2022-12-20T14:08:10.780Z"
   }
  ],
  "celltoolbar": "Вложения",
  "colab": {
   "collapsed_sections": [
    "E0vqbgi9ay0H",
    "VUC88oWjTJw2"
   ],
   "name": "automatization_template_upd4.ipynb",
   "provenance": []
  },
  "kernelspec": {
   "display_name": "Python 3 (ipykernel)",
   "language": "python",
   "name": "python3"
  },
  "language_info": {
   "codemirror_mode": {
    "name": "ipython",
    "version": 3
   },
   "file_extension": ".py",
   "mimetype": "text/x-python",
   "name": "python",
   "nbconvert_exporter": "python",
   "pygments_lexer": "ipython3",
   "version": "3.9.5"
  },
  "toc": {
   "base_numbering": 1,
   "nav_menu": {
    "height": "215px",
    "width": "403px"
   },
   "number_sections": true,
   "sideBar": true,
   "skip_h1_title": true,
   "title_cell": "Table of Contents",
   "title_sidebar": "Contents",
   "toc_cell": false,
   "toc_position": {
    "height": "calc(100% - 180px)",
    "left": "10px",
    "top": "150px",
    "width": "285.825px"
   },
   "toc_section_display": true,
   "toc_window_display": false
  }
 },
 "nbformat": 4,
 "nbformat_minor": 1
}
