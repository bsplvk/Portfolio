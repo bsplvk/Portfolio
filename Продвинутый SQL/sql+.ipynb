{
 "cells": [
  {
   "cell_type": "markdown",
   "id": "d78f533c",
   "metadata": {},
   "source": [
    "## Часть 1"
   ]
  },
  {
   "cell_type": "markdown",
   "id": "7f6dff3a",
   "metadata": {},
   "source": [
    "###### 1.Найдите количество вопросов, которые набрали больше 300 очков или как минимум 100 раз были добавлены в «Закладки»."
   ]
  },
  {
   "cell_type": "code",
   "execution_count": 1,
   "id": "41025394",
   "metadata": {},
   "outputs": [
    {
     "ename": "SyntaxError",
     "evalue": "invalid syntax (2853178450.py, line 1)",
     "output_type": "error",
     "traceback": [
      "\u001b[1;36m  Cell \u001b[1;32mIn[1], line 1\u001b[1;36m\u001b[0m\n\u001b[1;33m    SELECT COUNT(DISTINCT title)\u001b[0m\n\u001b[1;37m           ^\u001b[0m\n\u001b[1;31mSyntaxError\u001b[0m\u001b[1;31m:\u001b[0m invalid syntax\n"
     ]
    }
   ],
   "source": [
    "SELECT COUNT(DISTINCT title)\n",
    "FROM stackoverflow.posts \n",
    "WHERE score > 300 OR favorites_count >= 100"
   ]
  },
  {
   "cell_type": "markdown",
   "id": "5b7acdf0",
   "metadata": {},
   "source": [
    "###### 2.Сколько в среднем в день задавали вопросов с 1 по 18 ноября 2008 включительно? Результат округлите до целого числа."
   ]
  },
  {
   "cell_type": "code",
   "execution_count": null,
   "id": "110702f7",
   "metadata": {},
   "outputs": [],
   "source": [
    "WITH df AS(\n",
    "    SELECT COUNT(p.id) AS cnt,\n",
    "    CAST(DATE_TRUNC('day',creation_date) AS date)\n",
    "    FROM stackoverflow.posts AS p\n",
    "    INNER JOIN stackoverflow.post_types AS pt ON p.post_type_id=pt.id\n",
    "    WHERE CAST(p.creation_date AS date) BETWEEN '2008-11-01' AND '2008-11-18'\n",
    "    AND pt.type = 'Question'\n",
    "    GROUP BY CAST(DATE_TRUNC('day',creation_date) AS date)\n",
    "    ORDER BY CAST(DATE_TRUNC('day',creation_date) AS date)\n",
    ")\n",
    "\n",
    "SELECT\n",
    "ROUND(AVG(cnt),0)\n",
    "FROM df"
   ]
  },
  {
   "cell_type": "markdown",
   "id": "67b2c6ef",
   "metadata": {},
   "source": [
    "###### 3.Сколько пользователей получили значки сразу в день регистрации? Выведите количество уникальных пользователей."
   ]
  },
  {
   "cell_type": "code",
   "execution_count": null,
   "id": "0bdca129",
   "metadata": {},
   "outputs": [],
   "source": [
    "SELECT COUNT(DISTINCT u.id)\n",
    "FROM stackoverflow.badges AS b\n",
    "JOIN stackoverflow.users AS u ON b.user_id=u.id\n",
    "WHERE b.creation_date::date = u.creation_date::date;"
   ]
  },
  {
   "cell_type": "markdown",
   "id": "d8ff40cc",
   "metadata": {},
   "source": [
    "###### 4.Сколько уникальных постов пользователя с именем Joel Coehoorn получили хотя бы один голос?"
   ]
  },
  {
   "cell_type": "code",
   "execution_count": null,
   "id": "7fe8d477",
   "metadata": {},
   "outputs": [],
   "source": [
    "SELECT COUNT(DISTINCT p.id)\n",
    "FROM stackoverflow.posts AS p \n",
    "JOIN stackoverflow.votes AS v ON p.id=v.post_id\n",
    "JOIN stackoverflow.users AS u ON p.user_id = u.id\n",
    "WHERE u.display_name = 'Joel Coehoorn' "
   ]
  },
  {
   "cell_type": "markdown",
   "id": "2e5ddc18",
   "metadata": {},
   "source": [
    "###### 5.Выгрузите все поля таблицы vote_types. Добавьте к таблице поле rank, в которое войдут номера записей в обратном порядке. Таблица должна быть отсортирована по полю id."
   ]
  },
  {
   "cell_type": "code",
   "execution_count": null,
   "id": "03d14d69",
   "metadata": {},
   "outputs": [],
   "source": [
    "SELECT *,\n",
    "RANK() OVER (ORDER BY id DESC)\n",
    "FROM stackoverflow.vote_types\n",
    "ORDER BY id"
   ]
  },
  {
   "cell_type": "markdown",
   "id": "0d0e0ae8",
   "metadata": {},
   "source": [
    "###### 6.Отберите 10 пользователей, которые поставили больше всего голосов типа Close. Отобразите таблицу из двух полей: идентификатором пользователя и количеством голосов. Отсортируйте данные сначала по убыванию количества голосов, потом по убыванию значения идентификатора пользователя."
   ]
  },
  {
   "cell_type": "code",
   "execution_count": null,
   "id": "dc2892f7",
   "metadata": {},
   "outputs": [],
   "source": [
    "SELECT u.id,\n",
    "COUNT(u.id) AS cnt\n",
    "FROM stackoverflow.users AS u\n",
    "JOIN stackoverflow.votes AS v ON u.id = v.user_id\n",
    "JOIN stackoverflow.vote_types AS vt ON v.vote_type_id = vt.id\n",
    "WHERE vt.name = 'Close'\n",
    "GROUP BY u.id\n",
    "ORDER BY cnt DESC, u.id DESC\n",
    "LIMIT 10"
   ]
  },
  {
   "cell_type": "markdown",
   "id": "16272c57",
   "metadata": {},
   "source": [
    "###### 7.Отберите 10 пользователей по количеству значков, полученных в период с 15 ноября по 15 декабря 2008 года включительно.Отобразите несколько полей:идентификатор пользователя;число значков;место в рейтинге — чем больше значков, тем выше рейтинг.Пользователям, которые набрали одинаковое количество значков, присвойте одно и то же место в рейтинге.Отсортируйте записи по количеству значков по убыванию, а затем по возрастанию значения идентификатора пользователя."
   ]
  },
  {
   "cell_type": "code",
   "execution_count": null,
   "id": "a8f25cc3",
   "metadata": {},
   "outputs": [],
   "source": [
    "WITH df AS (\n",
    "SELECT user_id,\n",
    "    COUNT(id) AS cnt\n",
    "    FROM stackoverflow.badges\n",
    "    WHERE creation_date::date BETWEEN '2008-11-15' AND '2008-12-15' \n",
    "    GROUP BY user_id\n",
    ")\n",
    "\n",
    "SELECT user_id,\n",
    "cnt,\n",
    "DENSE_RANK () OVER (ORDER BY cnt DESC)\n",
    "FROM df\n",
    "ORDER BY cnt DESC,user_id\n",
    "LIMIT 10"
   ]
  },
  {
   "cell_type": "markdown",
   "id": "aec4aa4d",
   "metadata": {},
   "source": [
    "###### 8.Сколько в среднем очков получает пост каждого пользователя?Сформируйте таблицу из следующих полей:заголовок поста;идентификатор пользователя;число очков поста;среднее число очков пользователя за пост, округлённое до целого числа.Не учитывайте посты без заголовка, а также те, что набрали ноль очков."
   ]
  },
  {
   "cell_type": "code",
   "execution_count": null,
   "id": "fee95db1",
   "metadata": {},
   "outputs": [],
   "source": [
    "WITH df AS(\n",
    "    SELECT *\n",
    "FROM stackoverflow.posts\n",
    "WHERE title IS NOT NULL AND score != 0\n",
    "    )\n",
    "    \n",
    "SELECT title,\n",
    "user_id,\n",
    "score,\n",
    "ROUND(AVG(score) OVER (PARTITION BY user_id)) AS avg\n",
    "FROM df"
   ]
  },
  {
   "cell_type": "markdown",
   "id": "355e0daf",
   "metadata": {},
   "source": [
    "###### 9.Отобразите заголовки постов, которые были написаны пользователями, получившими более 1000 значков. Посты без заголовков не должны попасть в список."
   ]
  },
  {
   "cell_type": "code",
   "execution_count": null,
   "id": "7b79aa0b",
   "metadata": {},
   "outputs": [],
   "source": [
    "SELECT title\n",
    "FROM stackoverflow.posts\n",
    "WHERE user_id IN (\n",
    "                  SELECT user_id\n",
    "                  FROM stackoverflow.badges\n",
    "                  GROUP BY user_id\n",
    "                  HAVING COUNT(id) >1000\n",
    "                  )\n",
    "  AND title IS NOT NULL;"
   ]
  },
  {
   "cell_type": "markdown",
   "id": "ad2fd924",
   "metadata": {},
   "source": [
    "###### 10.Напишите запрос, который выгрузит данные о пользователях из Канады (англ. Canada). Разделите пользователей на три группы в зависимости от количества просмотров их профилей: пользователям с числом просмотров больше либо равным 350 присвойте группу 1; пользователям с числом просмотров меньше 350, но больше либо равно 100 — группу 2; пользователям с числом просмотров меньше 100 — группу 3. Отобразите в итоговой таблице идентификатор пользователя, количество просмотров профиля и группу. Пользователи с количеством просмотров меньше либо равным нулю не должны войти в итоговую таблицу."
   ]
  },
  {
   "cell_type": "code",
   "execution_count": null,
   "id": "148ce49b",
   "metadata": {},
   "outputs": [],
   "source": [
    "SELECT id,\n",
    "views,\n",
    "CASE \n",
    "    WHEN views >= 350 THEN 1\n",
    "    WHEN views < 350 AND views >= 100 THEN 2\n",
    "    WHEN views < 100 THEN 3\n",
    "    END\n",
    "FROM stackoverflow.users\n",
    "WHERE location LIKE '%Canada%' AND views != 0"
   ]
  },
  {
   "cell_type": "markdown",
   "id": "c437c8fe",
   "metadata": {},
   "source": [
    "###### 11. Дополните предыдущий запрос. Отобразите лидеров каждой группы — пользователей, которые набрали максимальное число просмотров в своей группе. Выведите поля с идентификатором пользователя, группой и количеством просмотров. Отсортируйте таблицу по убыванию просмотров, а затем по возрастанию значения идентификатора."
   ]
  },
  {
   "cell_type": "code",
   "execution_count": null,
   "id": "1a8e50a2",
   "metadata": {},
   "outputs": [],
   "source": [
    "WITH df1 AS(\n",
    "    SELECT id,\n",
    "views,\n",
    "CASE \n",
    "    WHEN views >= 350 THEN 1\n",
    "    WHEN views < 350 AND views >= 100 THEN 2\n",
    "    WHEN views < 100 THEN 3\n",
    "    END category\n",
    "FROM stackoverflow.users\n",
    "WHERE location LIKE '%Canada%' AND views != 0\n",
    "ORDER BY views DESC,id\n",
    "    ),\n",
    "    \n",
    "df2 AS (SELECT id,\n",
    "views,\n",
    "category,\n",
    "MAX(views) OVER (PARTITION BY category) as max\n",
    "FROM df1)\n",
    "\n",
    "SELECT id,\n",
    "category,\n",
    "views\n",
    "FROM df2\n",
    "WHERE views = max\n",
    "ORDER BY views DESC,id\n"
   ]
  },
  {
   "cell_type": "markdown",
   "id": "3d7bb75b",
   "metadata": {},
   "source": [
    "###### 12.Посчитайте ежедневный прирост новых пользователей в ноябре 2008 года. Сформируйте таблицу с полями: номер дня; число пользователей, зарегистрированных в этот день; сумму пользователей с накоплением."
   ]
  },
  {
   "cell_type": "code",
   "execution_count": null,
   "id": "cdc6af7a",
   "metadata": {},
   "outputs": [],
   "source": [
    "WITH df AS (SELECT COUNT(id) AS cnt_id,\n",
    "EXTRACT(DAY FROM creation_date) As day\n",
    "FROM stackoverflow.users\n",
    "WHERE creation_date::date BETWEEN '2008-11-01' AND '2008-11-30'\n",
    "GROUP BY EXTRACT(DAY FROM creation_date)\n",
    "           )\n",
    "           \n",
    "SELECT day,\n",
    "cnt_id,\n",
    "SUM(cnt_id) OVER(ORDER BY day)\n",
    "FROM df\n"
   ]
  },
  {
   "cell_type": "markdown",
   "id": "9d850745",
   "metadata": {},
   "source": [
    "###### 13.Для каждого пользователя, который написал хотя бы один пост, найдите интервал между регистрацией и временем создания первого поста. Отобразите: идентификатор пользователя; разницу во времени между регистрацией и первым постом."
   ]
  },
  {
   "cell_type": "code",
   "execution_count": null,
   "id": "66abf26a",
   "metadata": {},
   "outputs": [],
   "source": [
    "WITH df AS (SELECT DISTINCT user_id ,\n",
    "MIN(creation_date) OVER (PARTITION BY user_id) AS diff\n",
    "FROM stackoverflow.posts\n",
    ")\n",
    "\n",
    "\n",
    "SELECT df.user_id,\n",
    "df.diff - u.creation_date AS raz\n",
    "FROM stackoverflow.users AS u\n",
    "JOIN df ON u.id=df.user_id"
   ]
  },
  {
   "cell_type": "markdown",
   "id": "2aa68892",
   "metadata": {},
   "source": [
    "## Часть 2"
   ]
  },
  {
   "cell_type": "markdown",
   "id": "98209dd8",
   "metadata": {},
   "source": [
    "###### 1.Выведите общую сумму просмотров у постов, опубликованных в каждый месяц 2008 года. Если данных за какой-либо месяц в базе нет, такой месяц можно пропустить. Результат отсортируйте по убыванию общего количества просмотров."
   ]
  },
  {
   "cell_type": "code",
   "execution_count": null,
   "id": "7eea8e60",
   "metadata": {},
   "outputs": [],
   "source": [
    "SELECT \n",
    "SUM(views_count),\n",
    "CAST(DATE_TRUNC('month',creation_date) AS date)\n",
    "FROM stackoverflow.posts\n",
    "WHERE CAST(DATE_TRUNC('month',creation_date) AS date) BETWEEN '2008-01-01' AND '2008-12-01'\n",
    "GROUP BY CAST(DATE_TRUNC('month',creation_date) AS date)\n",
    "ORDER BY SUM(views_count) DESC"
   ]
  },
  {
   "cell_type": "markdown",
   "id": "83218a1e",
   "metadata": {},
   "source": [
    "###### 2.Выведите имена самых активных пользователей, которые в первый месяц после регистрации (включая день регистрации) дали больше 100 ответов. Вопросы, которые задавали пользователи, не учитывайте. Для каждого имени пользователя выведите количество уникальных значений user_id. Отсортируйте результат по полю с именами в лексикографическом порядке."
   ]
  },
  {
   "cell_type": "code",
   "execution_count": null,
   "id": "1c98ef7d",
   "metadata": {},
   "outputs": [],
   "source": [
    "SELECT u.display_name,\n",
    "COUNT(DISTINCT p.user_id)\n",
    "FROM stackoverflow.users AS u\n",
    "JOIN stackoverflow.posts AS p ON u.id=p.user_id\n",
    "JOIN stackoverflow.post_types AS pt ON p.post_type_id = pt.id\n",
    "WHERE p.creation_date::date BETWEEN u.creation_date::date AND (u.creation_date::date + INTERVAL '1 month')\n",
    "   AND pt.type LIKE '%Answer%'\n",
    "GROUP BY u.display_name\n",
    "HAVING COUNT(p.id) > 100\n",
    "ORDER BY u.display_name"
   ]
  },
  {
   "cell_type": "markdown",
   "id": "949d2611",
   "metadata": {},
   "source": [
    "###### 3.Выведите количество постов за 2008 год по месяцам. Отберите посты от пользователей, которые зарегистрировались в сентябре 2008 года и сделали хотя бы один пост в декабре того же года. Отсортируйте таблицу по значению месяца по убыванию."
   ]
  },
  {
   "cell_type": "code",
   "execution_count": null,
   "id": "991c8222",
   "metadata": {},
   "outputs": [],
   "source": [
    "SELECT DATE_TRUNC('month', creation_date)::date,\n",
    "       COUNT(DISTINCT id)\n",
    "FROM\n",
    "(SELECT p.creation_date,\n",
    "        p.id\n",
    "FROM stackoverflow.posts p\n",
    "JOIN (SELECT u.id\n",
    "     FROM stackoverflow.users u\n",
    "     JOIN stackoverflow.posts p\n",
    "     ON u.id=p.user_id\n",
    "     WHERE p.creation_date::date BETWEEN '2008-12-01' AND '2008-12-31'\n",
    "     AND u.creation_date::date BETWEEN '2008-09-01' AND '2008-09-30') u\n",
    "ON p.user_id=u.id) t1\n",
    "WHERE EXTRACT(YEAR FROM creation_date) = 2008\n",
    "GROUP BY 1\n",
    "ORDER BY 1 DESC"
   ]
  },
  {
   "cell_type": "markdown",
   "id": "73aeff25",
   "metadata": {},
   "source": [
    "###### 4.Используя данные о постах, выведите несколько полей:идентификатор пользователя, который написал пост;дата создания поста;количество просмотров у текущего поста;сумма просмотров постов автора с накоплением.Данные в таблице должны быть отсортированы по возрастанию идентификаторов пользователей, а данные об одном и том же пользователе — по возрастанию даты создания поста."
   ]
  },
  {
   "cell_type": "code",
   "execution_count": 2,
   "id": "97404940",
   "metadata": {},
   "outputs": [
    {
     "ename": "SyntaxError",
     "evalue": "invalid syntax (1856271491.py, line 1)",
     "output_type": "error",
     "traceback": [
      "\u001b[1;36m  Cell \u001b[1;32mIn[2], line 1\u001b[1;36m\u001b[0m\n\u001b[1;33m    SELECT user_id,\u001b[0m\n\u001b[1;37m           ^\u001b[0m\n\u001b[1;31mSyntaxError\u001b[0m\u001b[1;31m:\u001b[0m invalid syntax\n"
     ]
    }
   ],
   "source": [
    "SELECT user_id,\n",
    "creation_date,\n",
    "views_count,\n",
    "SUM(views_count) OVER (PARTITION BY user_id ORDER BY creation_date)\n",
    "FROM stackoverflow.posts\n",
    "ORDER BY user_id,creation_date"
   ]
  },
  {
   "cell_type": "markdown",
   "id": "297047f9",
   "metadata": {},
   "source": [
    "###### 5.Сколько в среднем дней в период с 1 по 7 декабря 2008 года включительно пользователи взаимодействовали с платформой? Для каждого пользователя отберите дни, в которые он или она опубликовали хотя бы один пост. Нужно получить одно целое число — не забудьте округлить результат."
   ]
  },
  {
   "cell_type": "code",
   "execution_count": null,
   "id": "42817542",
   "metadata": {},
   "outputs": [],
   "source": [
    "SELECT ROUND(AVG(df.cnt))\n",
    "FROM (\n",
    "      SELECT user_id,\n",
    "             COUNT(DISTINCT creation_date::date)  AS cnt\n",
    "      FROM stackoverflow.posts\n",
    "      WHERE creation_date::date BETWEEN '2008-12-01' AND '2008-12-07' \n",
    "      GROUP BY user_id\n",
    ") AS df"
   ]
  },
  {
   "cell_type": "markdown",
   "id": "6cfb4962",
   "metadata": {},
   "source": [
    "###### 6.На сколько процентов менялось количество постов ежемесячно с 1 сентября по 31 декабря 2008 года? Отобразите таблицу со следующими полями:Номер месяца.Количество постов за месяц.Процент, который показывает, насколько изменилось количество постов в текущем месяце по сравнению с предыдущим.Если постов стало меньше, значение процента должно быть отрицательным, если больше — положительным. Округлите значение процента до двух знаков после запятой."
   ]
  },
  {
   "cell_type": "code",
   "execution_count": null,
   "id": "180cf8a0",
   "metadata": {},
   "outputs": [],
   "source": [
    "WITH df AS(\n",
    "    SELECT COUNT(DISTINCT id) AS cnt,\n",
    "DATE_TRUNC('month',creation_date) :: date AS dt\n",
    "FROM stackoverflow.posts\n",
    "WHERE creation_date::date BETWEEN '2008-09-01' AND '2008-12-31'\n",
    "GROUP BY DATE_TRUNC('month',creation_date) :: date\n",
    ")\n",
    "\n",
    "\n",
    "SELECT EXTRACT(MONTH FROM dt) AS number_dt,\n",
    "cnt,\n",
    "ROUND((cnt ::numeric / LAG(cnt) OVER (ORDER BY EXTRACT(MONTH FROM dt)) - 1) *100,2) AS percent\n",
    "FROM df"
   ]
  },
  {
   "cell_type": "markdown",
   "id": "752f747d",
   "metadata": {},
   "source": [
    "###### 7.Найдите пользователя, который опубликовал больше всего постов за всё время с момента регистрации. Выведите данные его активности за октябрь 2008 года в таком виде:номер недели;дата и время последнего поста, опубликованного на этой неделе."
   ]
  },
  {
   "cell_type": "code",
   "execution_count": null,
   "id": "3327ba1b",
   "metadata": {},
   "outputs": [],
   "source": [
    "WITH cnt_posts AS (SELECT user_id,\n",
    "       COUNT(DISTINCT id) AS cnt\n",
    "FROM stackoverflow.posts\n",
    "GROUP BY user_id\n",
    "ORDER BY cnt DESC\n",
    "LIMIT 1),\n",
    "\n",
    "dt AS (\n",
    "SELECT p.user_id,\n",
    "p.creation_date,\n",
    "EXTRACT('week' FROM p.creation_date) AS week_number\n",
    "FROM stackoverflow.posts AS p\n",
    "JOIN cnt_posts ON cnt_posts.user_id = p.user_id\n",
    "WHERE DATE_TRUNC('month', p.creation_date)::date = '2008-10-01'\n",
    ")\n",
    "\n",
    "SELECT DISTINCT week_number :: numeric,\n",
    "MAX(creation_date) OVER (ORDER BY week_number)\n",
    "FROM dt"
   ]
  }
 ],
 "metadata": {
  "kernelspec": {
   "display_name": "Python 3 (ipykernel)",
   "language": "python",
   "name": "python3"
  },
  "language_info": {
   "codemirror_mode": {
    "name": "ipython",
    "version": 3
   },
   "file_extension": ".py",
   "mimetype": "text/x-python",
   "name": "python",
   "nbconvert_exporter": "python",
   "pygments_lexer": "ipython3",
   "version": "3.11.4"
  }
 },
 "nbformat": 4,
 "nbformat_minor": 5
}
