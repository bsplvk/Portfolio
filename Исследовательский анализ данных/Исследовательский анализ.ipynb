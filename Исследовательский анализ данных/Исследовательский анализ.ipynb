{
 "cells": [
  {
   "cell_type": "markdown",
   "metadata": {},
   "source": [
    "# Исследование объявлений о продаже квартир\n",
    "\n",
    "В вашем распоряжении данные сервиса Яндекс.Недвижимость — архив объявлений о продаже квартир в Санкт-Петербурге и соседних населённых пунктов за несколько лет. Нужно научиться определять рыночную стоимость объектов недвижимости. Ваша задача — установить параметры. Это позволит построить автоматизированную систему: она отследит аномалии и мошенническую деятельность. \n",
    "\n",
    "По каждой квартире на продажу доступны два вида данных. Первые вписаны пользователем, вторые — получены автоматически на основе картографических данных. Например, расстояние до центра, аэропорта, ближайшего парка и водоёма. \n"
   ]
  },
  {
   "cell_type": "markdown",
   "metadata": {},
   "source": [
    "## Цель исследования:\n",
    "1. Определить рыночную стоимость объектов недвижимости.\n",
    "2. Построить автоматизированную систему, которая отследит аномалии и мошенническую деятельность.\n",
    "3. Установить, какие факторы влияют на ценообразование стоимости квартир."
   ]
  },
  {
   "cell_type": "markdown",
   "metadata": {},
   "source": [
    "## Ход исследования:\n",
    "Я проверю данные на ошибки и оценю их влияние на исследование. Затем на этапе предобработки я поищу возможность исправить все ошибки данных, которые не приведут к искажению конечного результата. Далее, создам необходимые столбцы, и приступлю к проведению исследовательского анализа.\n",
    "\n",
    "Таким образом мое исследование пройдет в 7 этапов:\n",
    "\n",
    "1. Обзор данных \n",
    "2. Предобработка данных \n",
    "3. Расчеты и добавление результатов в таблицу\n",
    "4. Проведение анализа для Лен. области\n",
    "5. Проведение анализа для Санкт-Петербурга\n",
    "6. Различаются ли факторы, которые влияют на ценообразования стоимости квартир\n",
    "7. Написание общего вывода."
   ]
  },
  {
   "cell_type": "markdown",
   "metadata": {},
   "source": [
    "### Откройте файл с данными и изучите общую информацию. "
   ]
  },
  {
   "cell_type": "code",
   "execution_count": 1,
   "metadata": {},
   "outputs": [],
   "source": [
    "import pandas as pd\n",
    "import matplotlib.pyplot as plt\n",
    "import warnings #импортируем библиотеку\n",
    "\n",
    "warnings.filterwarnings('ignore') # отключаем предупреждения\n",
    "\n",
    "pd.options.display.float_format = '{:.2f}'.format #Число знаков после точки\n",
    "\n",
    "data = pd.read_csv('/datasets/real_estate_data.csv', sep='\\t')"
   ]
  },
  {
   "cell_type": "code",
   "execution_count": 2,
   "metadata": {},
   "outputs": [
    {
     "data": {
      "text/html": [
       "<div>\n",
       "<style scoped>\n",
       "    .dataframe tbody tr th:only-of-type {\n",
       "        vertical-align: middle;\n",
       "    }\n",
       "\n",
       "    .dataframe tbody tr th {\n",
       "        vertical-align: top;\n",
       "    }\n",
       "\n",
       "    .dataframe thead th {\n",
       "        text-align: right;\n",
       "    }\n",
       "</style>\n",
       "<table border=\"1\" class=\"dataframe\">\n",
       "  <thead>\n",
       "    <tr style=\"text-align: right;\">\n",
       "      <th></th>\n",
       "      <th>total_images</th>\n",
       "      <th>last_price</th>\n",
       "      <th>total_area</th>\n",
       "      <th>first_day_exposition</th>\n",
       "      <th>rooms</th>\n",
       "      <th>ceiling_height</th>\n",
       "      <th>floors_total</th>\n",
       "      <th>living_area</th>\n",
       "      <th>floor</th>\n",
       "      <th>is_apartment</th>\n",
       "      <th>...</th>\n",
       "      <th>kitchen_area</th>\n",
       "      <th>balcony</th>\n",
       "      <th>locality_name</th>\n",
       "      <th>airports_nearest</th>\n",
       "      <th>cityCenters_nearest</th>\n",
       "      <th>parks_around3000</th>\n",
       "      <th>parks_nearest</th>\n",
       "      <th>ponds_around3000</th>\n",
       "      <th>ponds_nearest</th>\n",
       "      <th>days_exposition</th>\n",
       "    </tr>\n",
       "  </thead>\n",
       "  <tbody>\n",
       "    <tr>\n",
       "      <th>0</th>\n",
       "      <td>20</td>\n",
       "      <td>13000000.00</td>\n",
       "      <td>108.00</td>\n",
       "      <td>2019-03-07T00:00:00</td>\n",
       "      <td>3</td>\n",
       "      <td>2.70</td>\n",
       "      <td>16.00</td>\n",
       "      <td>51.00</td>\n",
       "      <td>8</td>\n",
       "      <td>NaN</td>\n",
       "      <td>...</td>\n",
       "      <td>25.00</td>\n",
       "      <td>NaN</td>\n",
       "      <td>Санкт-Петербург</td>\n",
       "      <td>18863.00</td>\n",
       "      <td>16028.00</td>\n",
       "      <td>1.00</td>\n",
       "      <td>482.00</td>\n",
       "      <td>2.00</td>\n",
       "      <td>755.00</td>\n",
       "      <td>NaN</td>\n",
       "    </tr>\n",
       "    <tr>\n",
       "      <th>1</th>\n",
       "      <td>7</td>\n",
       "      <td>3350000.00</td>\n",
       "      <td>40.40</td>\n",
       "      <td>2018-12-04T00:00:00</td>\n",
       "      <td>1</td>\n",
       "      <td>NaN</td>\n",
       "      <td>11.00</td>\n",
       "      <td>18.60</td>\n",
       "      <td>1</td>\n",
       "      <td>NaN</td>\n",
       "      <td>...</td>\n",
       "      <td>11.00</td>\n",
       "      <td>2.00</td>\n",
       "      <td>посёлок Шушары</td>\n",
       "      <td>12817.00</td>\n",
       "      <td>18603.00</td>\n",
       "      <td>0.00</td>\n",
       "      <td>NaN</td>\n",
       "      <td>0.00</td>\n",
       "      <td>NaN</td>\n",
       "      <td>81.00</td>\n",
       "    </tr>\n",
       "    <tr>\n",
       "      <th>2</th>\n",
       "      <td>10</td>\n",
       "      <td>5196000.00</td>\n",
       "      <td>56.00</td>\n",
       "      <td>2015-08-20T00:00:00</td>\n",
       "      <td>2</td>\n",
       "      <td>NaN</td>\n",
       "      <td>5.00</td>\n",
       "      <td>34.30</td>\n",
       "      <td>4</td>\n",
       "      <td>NaN</td>\n",
       "      <td>...</td>\n",
       "      <td>8.30</td>\n",
       "      <td>0.00</td>\n",
       "      <td>Санкт-Петербург</td>\n",
       "      <td>21741.00</td>\n",
       "      <td>13933.00</td>\n",
       "      <td>1.00</td>\n",
       "      <td>90.00</td>\n",
       "      <td>2.00</td>\n",
       "      <td>574.00</td>\n",
       "      <td>558.00</td>\n",
       "    </tr>\n",
       "    <tr>\n",
       "      <th>3</th>\n",
       "      <td>0</td>\n",
       "      <td>64900000.00</td>\n",
       "      <td>159.00</td>\n",
       "      <td>2015-07-24T00:00:00</td>\n",
       "      <td>3</td>\n",
       "      <td>NaN</td>\n",
       "      <td>14.00</td>\n",
       "      <td>NaN</td>\n",
       "      <td>9</td>\n",
       "      <td>NaN</td>\n",
       "      <td>...</td>\n",
       "      <td>NaN</td>\n",
       "      <td>0.00</td>\n",
       "      <td>Санкт-Петербург</td>\n",
       "      <td>28098.00</td>\n",
       "      <td>6800.00</td>\n",
       "      <td>2.00</td>\n",
       "      <td>84.00</td>\n",
       "      <td>3.00</td>\n",
       "      <td>234.00</td>\n",
       "      <td>424.00</td>\n",
       "    </tr>\n",
       "    <tr>\n",
       "      <th>4</th>\n",
       "      <td>2</td>\n",
       "      <td>10000000.00</td>\n",
       "      <td>100.00</td>\n",
       "      <td>2018-06-19T00:00:00</td>\n",
       "      <td>2</td>\n",
       "      <td>3.03</td>\n",
       "      <td>14.00</td>\n",
       "      <td>32.00</td>\n",
       "      <td>13</td>\n",
       "      <td>NaN</td>\n",
       "      <td>...</td>\n",
       "      <td>41.00</td>\n",
       "      <td>NaN</td>\n",
       "      <td>Санкт-Петербург</td>\n",
       "      <td>31856.00</td>\n",
       "      <td>8098.00</td>\n",
       "      <td>2.00</td>\n",
       "      <td>112.00</td>\n",
       "      <td>1.00</td>\n",
       "      <td>48.00</td>\n",
       "      <td>121.00</td>\n",
       "    </tr>\n",
       "  </tbody>\n",
       "</table>\n",
       "<p>5 rows × 22 columns</p>\n",
       "</div>"
      ],
      "text/plain": [
       "   total_images  last_price  total_area first_day_exposition  rooms  \\\n",
       "0            20 13000000.00      108.00  2019-03-07T00:00:00      3   \n",
       "1             7  3350000.00       40.40  2018-12-04T00:00:00      1   \n",
       "2            10  5196000.00       56.00  2015-08-20T00:00:00      2   \n",
       "3             0 64900000.00      159.00  2015-07-24T00:00:00      3   \n",
       "4             2 10000000.00      100.00  2018-06-19T00:00:00      2   \n",
       "\n",
       "   ceiling_height  floors_total  living_area  floor is_apartment  ...  \\\n",
       "0            2.70         16.00        51.00      8          NaN  ...   \n",
       "1             NaN         11.00        18.60      1          NaN  ...   \n",
       "2             NaN          5.00        34.30      4          NaN  ...   \n",
       "3             NaN         14.00          NaN      9          NaN  ...   \n",
       "4            3.03         14.00        32.00     13          NaN  ...   \n",
       "\n",
       "   kitchen_area  balcony    locality_name  airports_nearest  \\\n",
       "0         25.00      NaN  Санкт-Петербург          18863.00   \n",
       "1         11.00     2.00   посёлок Шушары          12817.00   \n",
       "2          8.30     0.00  Санкт-Петербург          21741.00   \n",
       "3           NaN     0.00  Санкт-Петербург          28098.00   \n",
       "4         41.00      NaN  Санкт-Петербург          31856.00   \n",
       "\n",
       "  cityCenters_nearest  parks_around3000  parks_nearest  ponds_around3000  \\\n",
       "0            16028.00              1.00         482.00              2.00   \n",
       "1            18603.00              0.00            NaN              0.00   \n",
       "2            13933.00              1.00          90.00              2.00   \n",
       "3             6800.00              2.00          84.00              3.00   \n",
       "4             8098.00              2.00         112.00              1.00   \n",
       "\n",
       "   ponds_nearest  days_exposition  \n",
       "0         755.00              NaN  \n",
       "1            NaN            81.00  \n",
       "2         574.00           558.00  \n",
       "3         234.00           424.00  \n",
       "4          48.00           121.00  \n",
       "\n",
       "[5 rows x 22 columns]"
      ]
     },
     "execution_count": 2,
     "metadata": {},
     "output_type": "execute_result"
    }
   ],
   "source": [
    "data.head()"
   ]
  },
  {
   "cell_type": "code",
   "execution_count": 3,
   "metadata": {},
   "outputs": [
    {
     "name": "stdout",
     "output_type": "stream",
     "text": [
      "<class 'pandas.core.frame.DataFrame'>\n",
      "RangeIndex: 23699 entries, 0 to 23698\n",
      "Data columns (total 22 columns):\n",
      " #   Column                Non-Null Count  Dtype  \n",
      "---  ------                --------------  -----  \n",
      " 0   total_images          23699 non-null  int64  \n",
      " 1   last_price            23699 non-null  float64\n",
      " 2   total_area            23699 non-null  float64\n",
      " 3   first_day_exposition  23699 non-null  object \n",
      " 4   rooms                 23699 non-null  int64  \n",
      " 5   ceiling_height        14504 non-null  float64\n",
      " 6   floors_total          23613 non-null  float64\n",
      " 7   living_area           21796 non-null  float64\n",
      " 8   floor                 23699 non-null  int64  \n",
      " 9   is_apartment          2775 non-null   object \n",
      " 10  studio                23699 non-null  bool   \n",
      " 11  open_plan             23699 non-null  bool   \n",
      " 12  kitchen_area          21421 non-null  float64\n",
      " 13  balcony               12180 non-null  float64\n",
      " 14  locality_name         23650 non-null  object \n",
      " 15  airports_nearest      18157 non-null  float64\n",
      " 16  cityCenters_nearest   18180 non-null  float64\n",
      " 17  parks_around3000      18181 non-null  float64\n",
      " 18  parks_nearest         8079 non-null   float64\n",
      " 19  ponds_around3000      18181 non-null  float64\n",
      " 20  ponds_nearest         9110 non-null   float64\n",
      " 21  days_exposition       20518 non-null  float64\n",
      "dtypes: bool(2), float64(14), int64(3), object(3)\n",
      "memory usage: 3.7+ MB\n"
     ]
    }
   ],
   "source": [
    "data.info()"
   ]
  },
  {
   "cell_type": "code",
   "execution_count": 4,
   "metadata": {},
   "outputs": [
    {
     "data": {
      "image/png": "[encoded data removed]",
      "text/plain": [
       "<Figure size 1080x1440 with 20 Axes>"
      ]
     },
     "metadata": {
      "needs_background": "light"
     },
     "output_type": "display_data"
    }
   ],
   "source": [
    "data.hist(figsize=(15, 20))\n",
    "plt.show();"
   ]
  },
  {
   "cell_type": "markdown",
   "metadata": {},
   "source": [
    "Открыл файл с данными. С помощью \"\\t\" привел данные к табличному формату. С помощью метода info() узнал данные о таблице. Построил общую гистограмму для всех числовых столбцов таблицы."
   ]
  },
  {
   "cell_type": "markdown",
   "metadata": {},
   "source": [
    "### Предобработка данных"
   ]
  },
  {
   "cell_type": "code",
   "execution_count": 5,
   "metadata": {
    "scrolled": false
   },
   "outputs": [
    {
     "data": {
      "text/plain": [
       "total_images                0\n",
       "last_price                  0\n",
       "total_area                  0\n",
       "first_day_exposition        0\n",
       "rooms                       0\n",
       "ceiling_height           9195\n",
       "floors_total               86\n",
       "living_area              1903\n",
       "floor                       0\n",
       "is_apartment            20924\n",
       "studio                      0\n",
       "open_plan                   0\n",
       "kitchen_area             2278\n",
       "balcony                 11519\n",
       "locality_name              49\n",
       "airports_nearest         5542\n",
       "cityCenters_nearest      5519\n",
       "parks_around3000         5518\n",
       "parks_nearest           15620\n",
       "ponds_around3000         5518\n",
       "ponds_nearest           14589\n",
       "days_exposition          3181\n",
       "dtype: int64"
      ]
     },
     "execution_count": 5,
     "metadata": {},
     "output_type": "execute_result"
    }
   ],
   "source": [
    "data.isnull().sum()\n",
    "\n",
    "#Вывел количество пропущенных значений для каждого столбца,использывав комбинацию двух методов."
   ]
  },
  {
   "cell_type": "code",
   "execution_count": 6,
   "metadata": {},
   "outputs": [],
   "source": [
    "# Приводим к типу даты дату публикации\n",
    "data['first_day_exposition'] = pd.to_datetime(data['first_day_exposition'], format='%Y-%m-%dT%H:%M:%S')\n",
    "\n",
    "#заменяем пропуски аппартаментов на False,так как можно предположить, что это не апартаменты.\n",
    "#Люди могут просто не заполнять это поле.\n",
    "data['is_apartment'] = data['is_apartment'].fillna(value=False)\n",
    "\n",
    "# Заменяем на 0 записи, где отсутствует локация,этажность,балконы,парки,пруды\n",
    "data['balcony'] = data['balcony'].fillna(0)\n",
    "data['locality_name'] = data['locality_name'].fillna(value='no_name')\n",
    "data['floors_total'] = data['floors_total'].fillna(0)\n",
    "data['parks_around3000'] = data['parks_around3000'].fillna(0)\n",
    "data['ponds_around3000'] = data['ponds_around3000'].fillna(0)\n",
    "\n",
    "# Приводим этажность,балконы,парки,пруды и цену квартир к целочисленному типу,так как эти данные могут быть только цельным числом.\n",
    "# Например не может быть 2.5 балкона или 1.7 парков.\n",
    "data['floors_total'] = data['floors_total'].astype(int)\n",
    "data['balcony'] = data['balcony'].astype(int)\n",
    "data['parks_around3000'] = data['parks_around3000'].astype(int)\n",
    "data['ponds_around3000'] = data['ponds_around3000'].astype(int)\n",
    "data['last_price'] = data['last_price'].astype(int)\n",
    "\n",
    "# Заменяем пустые значения жилой площади и площади кухни\n",
    "living_mean = data['living_area'].mean() / data['total_area'].mean()\n",
    "kitchen_mean = data['kitchen_area'].mean() / data['total_area'].mean()\n",
    "\n",
    "data['living_area'].fillna(living_mean * data['total_area'], inplace=True)\n",
    "data['kitchen_area'].fillna(kitchen_mean * data['total_area'], inplace=True)\n",
    "\n",
    "# высоту потолков заменяем на медиану\n",
    "# они во всех квартирах примерно одинаковы, уникальность низкая\n",
    "data['ceiling_height'] = data['ceiling_height'].fillna(data['ceiling_height'].median()) \n",
    "\n",
    "\n"
   ]
  },
  {
   "cell_type": "code",
   "execution_count": 7,
   "metadata": {
    "scrolled": false
   },
   "outputs": [
    {
     "data": {
      "text/plain": [
       "total_images                0\n",
       "last_price                  0\n",
       "total_area                  0\n",
       "first_day_exposition        0\n",
       "rooms                       0\n",
       "ceiling_height              0\n",
       "floors_total                0\n",
       "living_area                 0\n",
       "floor                       0\n",
       "is_apartment                0\n",
       "studio                      0\n",
       "open_plan                   0\n",
       "kitchen_area                0\n",
       "balcony                     0\n",
       "locality_name               0\n",
       "airports_nearest         5542\n",
       "cityCenters_nearest      5519\n",
       "parks_around3000            0\n",
       "parks_nearest           15620\n",
       "ponds_around3000            0\n",
       "ponds_nearest           14589\n",
       "days_exposition          3181\n",
       "dtype: int64"
      ]
     },
     "execution_count": 7,
     "metadata": {},
     "output_type": "execute_result"
    }
   ],
   "source": [
    "#проверяем как изменились данные после удаления пропусков\n",
    "data.isnull().sum()"
   ]
  },
  {
   "cell_type": "markdown",
   "metadata": {},
   "source": [
    " Привели дату к типу даты для удобства и корректного отражения в таблице.\n",
    " Заменили пропуски в столбце \"аппартаменты\" на \"False\",так как скорее всего люди просто не заполняли эту графу,потому что большинсвто объектов по определению ими не являются.\n",
    " В столбце \"балконы\" заполниил пропуски на 0, т.к. можно предположить что, в этой графе люди не указывали балконы,т.к. они попросту отсутвуют.Данные в столбцах \"Этажность\" и \"Локация\" заменили так же на 0,здесь возможно отсутсвует информация,т.к. возможно люди подумали,что это не так важно.В столбцах \"число парков в радиусе 3 км\",\"число водоёмов в радиусе 3 км\" заменили пропуски на 0,здесь пропуски есть возможно потому,что люди могут не знать о водоемах и парках поблизости.\n",
    "\n",
    "\n",
    " Привели этажность,балконы,парки и пруды к целочисленному типу,так как эти данные могут быть только цельным числом.\n",
    "Например не может быть 2.5 балкона или 1.7 парков.\n",
    " Привели столбец с ценой квартир к целочисленному типу,т.к. никто не продает недвижимость с копейками"
   ]
  },
  {
   "cell_type": "code",
   "execution_count": 8,
   "metadata": {},
   "outputs": [
    {
     "data": {
      "text/plain": [
       "0"
      ]
     },
     "execution_count": 8,
     "metadata": {},
     "output_type": "execute_result"
    }
   ],
   "source": [
    "#Проверим данные в таблице на явные дубликаты\n",
    "data.duplicated().sum()"
   ]
  },
  {
   "cell_type": "code",
   "execution_count": 9,
   "metadata": {},
   "outputs": [
    {
     "data": {
      "text/plain": [
       "['садоводческое некоммерческое товарищество Лесная Поляна',\n",
       " 'при железнодорожной Приветнинское',\n",
       " 'при железнодорожной Вещево',\n",
       " 'коттеджный Счастье',\n",
       " 'коттеджный Лесное',\n",
       " 'коттеджный Кивеннапа Север',\n",
       " 'Янино-1',\n",
       " 'Ям-Тесово',\n",
       " 'Яльгелево',\n",
       " 'Ялгино',\n",
       " 'Юкки',\n",
       " 'Щеглово',\n",
       " 'Шушары',\n",
       " 'Шум',\n",
       " 'Шугозеро',\n",
       " 'Шпаньково',\n",
       " 'Шлиссельбург',\n",
       " 'Чудской Бор',\n",
       " 'Цвылево',\n",
       " 'Цвелодубово',\n",
       " 'Хязельки',\n",
       " 'Хапо-Ое',\n",
       " 'Форт Красная Горка',\n",
       " 'Федоровское',\n",
       " 'Фалилеево',\n",
       " 'Ушаки',\n",
       " 'Усть-Луга',\n",
       " 'Усть-Ижора',\n",
       " 'Углово',\n",
       " 'Трубников Бор',\n",
       " 'Тосно',\n",
       " 'Торфяное',\n",
       " 'Торошковичи',\n",
       " 'Торосово',\n",
       " 'Торковичи',\n",
       " 'Тойворово',\n",
       " 'Тихковицы',\n",
       " 'Тихвин',\n",
       " 'Тесово-4',\n",
       " 'Терпилицы',\n",
       " 'Терволово',\n",
       " 'Тельмана',\n",
       " 'Тарасово',\n",
       " 'Сясьстрой',\n",
       " 'Сяськелево',\n",
       " 'Суходолье',\n",
       " 'Суоранда',\n",
       " 'Сумино',\n",
       " 'Суйда',\n",
       " 'Стрельна',\n",
       " 'Стеклянный',\n",
       " 'Старые Бегуницы',\n",
       " 'Старосиверская',\n",
       " 'Старополье',\n",
       " 'Старое Хинколово',\n",
       " 'Старая Пустошь',\n",
       " 'Старая Малукса',\n",
       " 'Старая Ладога',\n",
       " 'Старая',\n",
       " 'Сосновый Бор',\n",
       " 'Сосново',\n",
       " 'Совхозный',\n",
       " 'Советский',\n",
       " 'Снегиревка',\n",
       " 'Сланцы',\n",
       " 'Сижно',\n",
       " 'Сестрорецк',\n",
       " 'Сертолово',\n",
       " 'Серебрянский',\n",
       " 'Семрино',\n",
       " 'Семиозерье',\n",
       " 'Сельцо',\n",
       " 'Селезнево',\n",
       " 'Севастьяново',\n",
       " 'Свирьстрой',\n",
       " 'Свирь',\n",
       " 'Светогорск',\n",
       " 'Саперный',\n",
       " 'Саперное',\n",
       " 'Санкт-Петербург',\n",
       " 'Садко',\n",
       " 'Рябово',\n",
       " 'Русско-Высоцкое',\n",
       " 'Русско',\n",
       " 'Рощино',\n",
       " 'Ропша',\n",
       " 'Ромашки',\n",
       " 'Романовка',\n",
       " 'Рождествено',\n",
       " 'Репино',\n",
       " 'Реброво',\n",
       " 'Рахья',\n",
       " 'Рапполово',\n",
       " 'Разметелево',\n",
       " 'Раздолье',\n",
       " 'Разбегаево',\n",
       " 'Рабитицы',\n",
       " 'Пчевжа',\n",
       " 'Пчева',\n",
       " 'Пушное',\n",
       " 'Пушкин',\n",
       " 'Путилово',\n",
       " 'Пустынка',\n",
       " 'Пудость',\n",
       " 'Пудомяги',\n",
       " 'Приозерск',\n",
       " 'Приморск',\n",
       " 'Приладожский',\n",
       " 'Пригородный',\n",
       " 'Приветнинское',\n",
       " 'Починок',\n",
       " 'Почап',\n",
       " 'Понтонный',\n",
       " 'Поляны',\n",
       " 'Подпорожье',\n",
       " 'Победа',\n",
       " 'Плоское',\n",
       " 'Плодовое',\n",
       " 'Платформа 69-й километр',\n",
       " 'Пикколово',\n",
       " 'Пикалево',\n",
       " 'Пижма',\n",
       " 'Петровское',\n",
       " 'Петро-Славянка',\n",
       " 'Петергоф',\n",
       " 'Песочный',\n",
       " 'Перово',\n",
       " 'Первомайское',\n",
       " 'Пеники',\n",
       " 'Пельгора',\n",
       " 'Паша',\n",
       " 'Парицы',\n",
       " 'Парголово',\n",
       " 'Пансионат Зеленый Бор',\n",
       " 'Павловск',\n",
       " 'Павлово',\n",
       " 'Отрадное',\n",
       " 'Оржицы',\n",
       " 'Оредеж',\n",
       " 'Нурма',\n",
       " 'Новый Учхоз',\n",
       " 'Новый Свет',\n",
       " 'Новоселье',\n",
       " 'Новолисино',\n",
       " 'Новое Девяткино',\n",
       " 'Новогорелово',\n",
       " 'Новая Ропша',\n",
       " 'Новая Ладога',\n",
       " 'Никольское',\n",
       " 'Низино',\n",
       " 'Нижняя',\n",
       " 'Нижние Осельки',\n",
       " 'Ненимяки',\n",
       " 'Назия',\n",
       " 'Мыза-Ивановка',\n",
       " 'Мурино',\n",
       " 'Молодцово',\n",
       " 'Молодежное',\n",
       " 'Мичуринское',\n",
       " 'Мистолово',\n",
       " 'Мины',\n",
       " 'Металлострой',\n",
       " 'Меньково',\n",
       " 'Мельниково',\n",
       " 'Мга',\n",
       " 'Мануйлово',\n",
       " 'Малые Колпаны',\n",
       " 'Малое Карлино',\n",
       " 'Малое Верево',\n",
       " 'Малая Романовка',\n",
       " 'Любань',\n",
       " 'Лупполово',\n",
       " 'Лукаши',\n",
       " 'Лужайка',\n",
       " 'Луга',\n",
       " 'Лопухинка',\n",
       " 'Ломоносов',\n",
       " 'Лодейное Поле',\n",
       " 'Лисий Нос',\n",
       " 'Лесогорский',\n",
       " 'Лесное',\n",
       " 'Лесколово',\n",
       " 'Ленинское',\n",
       " 'Левашово',\n",
       " 'Лампово',\n",
       " 'Лаголово',\n",
       " 'Лаврики',\n",
       " 'Куттузи',\n",
       " 'Куровицы',\n",
       " 'Курковицы',\n",
       " 'Кузьмолово',\n",
       " 'Кудрово',\n",
       " 'Кронштадт',\n",
       " 'Кривко',\n",
       " 'Красносельское',\n",
       " 'Красное Село',\n",
       " 'Красная Долина',\n",
       " 'Котлы',\n",
       " 'Котельский',\n",
       " 'Коробицыно',\n",
       " 'Корнево',\n",
       " 'Коркино',\n",
       " 'Копорье',\n",
       " 'Коммунары',\n",
       " 'Коммунар',\n",
       " 'Колтуши',\n",
       " 'Колпино',\n",
       " 'Кобринское',\n",
       " 'Кобралово',\n",
       " 'Кисельня',\n",
       " 'Кирпичное',\n",
       " 'Кировск',\n",
       " 'Кириши',\n",
       " 'Кипень',\n",
       " 'Кингисеппский',\n",
       " 'Кингисепп',\n",
       " 'Кикерино',\n",
       " 'Келози',\n",
       " 'Каськово',\n",
       " 'Камышовка',\n",
       " 'Каменногорск',\n",
       " 'Кальтино',\n",
       " 'Каложицы',\n",
       " 'Калитино',\n",
       " 'Иссад',\n",
       " 'Ильичево',\n",
       " 'Извара',\n",
       " 'Ивангород',\n",
       " 'Зимитицы',\n",
       " 'Зеленогорск',\n",
       " 'Запорожское',\n",
       " 'Заневка',\n",
       " 'Заклинье',\n",
       " 'Заводской',\n",
       " 'Житково',\n",
       " 'Жилпоселок',\n",
       " 'Жилгородок',\n",
       " 'Елизаветино',\n",
       " 'Дружноселье',\n",
       " 'Дзержинского',\n",
       " 'Громово',\n",
       " 'Гостилицы',\n",
       " 'Горбунки',\n",
       " 'Гончарово',\n",
       " 'Глинка',\n",
       " 'Глебычево',\n",
       " 'Глажево',\n",
       " 'Гладкое',\n",
       " 'Гатчина',\n",
       " 'Гарболово',\n",
       " 'Гаврилово',\n",
       " 'Высоцк',\n",
       " 'Высокоключевой',\n",
       " 'Выскатка',\n",
       " 'Выборг',\n",
       " 'Всеволожск',\n",
       " 'Волхов',\n",
       " 'Волосово',\n",
       " 'Володарское',\n",
       " 'Войскорово',\n",
       " 'Войсковицы',\n",
       " 'Возрождение',\n",
       " 'Виллози',\n",
       " 'Вещево',\n",
       " 'Вахнова Кара',\n",
       " 'Вартемяги',\n",
       " 'Ваганово',\n",
       " 'Будогощь',\n",
       " 'Бугры',\n",
       " 'Борисова Грива',\n",
       " 'Бор',\n",
       " 'Большой Сабск',\n",
       " 'Большое Рейзино',\n",
       " 'Большие Колпаны',\n",
       " 'Большая Пустомержа',\n",
       " 'Большая Ижора',\n",
       " 'Большая Вруда',\n",
       " 'Бокситогорск',\n",
       " 'Белоостров',\n",
       " 'Белогорка',\n",
       " 'Бегуницы',\n",
       " 'Батово',\n",
       " 'Барышево',\n",
       " 'Аро',\n",
       " 'Аннино',\n",
       " 'Алексеевка',\n",
       " 'Александровская',\n",
       " 'Агалатово',\n",
       " 'no_name',\n",
       " ' имени Свердлова',\n",
       " ' имени Морозова',\n",
       " ' Форносово',\n",
       " ' Ульяновка',\n",
       " ' Токсово',\n",
       " ' Тайцы',\n",
       " ' Советский',\n",
       " ' Синявино',\n",
       " ' Сиверский',\n",
       " ' Рябово',\n",
       " ' Рощино',\n",
       " ' Рахья',\n",
       " ' Приладожский',\n",
       " ' Павлово',\n",
       " ' Никольский',\n",
       " ' Назия',\n",
       " ' Мга',\n",
       " ' Лесогорский',\n",
       " ' Лебяжье',\n",
       " ' Кузьмоловский',\n",
       " ' Кузнечное',\n",
       " ' Красный Бор',\n",
       " ' Кондратьево',\n",
       " ' Ефимовский',\n",
       " ' Дубровка',\n",
       " ' Дружная Горка',\n",
       " ' Вырица',\n",
       " ' Вознесенье',\n",
       " ' Важины',\n",
       " ' Большая Ижора']"
      ]
     },
     "execution_count": 9,
     "metadata": {},
     "output_type": "execute_result"
    }
   ],
   "source": [
    "#c помощью метода str.replace() меняем все буквы \"ё\" на \"е\"\n",
    "data['locality_name'] = data['locality_name'].str.replace('ё','е', regex=True)\n",
    "#с помощью метода replace() избавились от неявных дубликатов и отсортировали для удобства.\n",
    "data['locality_name'] = data['locality_name'].replace(\n",
    "    ['село ', 'городской поселок ','деревня ','котеджный ','станции ',\n",
    "     'садовое товарищество ','поселок ','городского типа'], '', regex=True)\n",
    "list(data['locality_name'].sort_values(ascending=False).unique())"
   ]
  },
  {
   "cell_type": "code",
   "execution_count": 10,
   "metadata": {},
   "outputs": [
    {
     "data": {
      "text/plain": [
       "array([  2.7 ,   2.65,   3.03,   2.5 ,   2.67,   2.56,   3.05,   2.75,\n",
       "         2.6 ,   2.9 ,   2.8 ,   2.55,   3.  ,   3.2 ,   2.61,   3.25,\n",
       "         3.45,   2.77,   2.85,   2.64,   2.57,   4.15,   3.5 ,   3.3 ,\n",
       "         2.71,   4.  ,   2.47,   2.73,   2.84,   3.1 ,   2.34,   3.4 ,\n",
       "         3.06,   2.72,   2.54,   2.51,   2.78,   2.76,  25.  ,   2.58,\n",
       "         3.7 ,   2.52,   5.2 ,   2.87,   2.66,   2.59,   2.  ,   2.45,\n",
       "         3.6 ,   2.92,   3.11,   3.13,   3.8 ,   3.15,   3.55,   3.16,\n",
       "         3.62,   3.12,   2.53,   2.74,   2.96,   2.46,   5.3 ,   5.  ,\n",
       "         2.79,   2.95,   4.06,   2.94,   3.82,   3.54,   3.53,   2.83,\n",
       "         4.7 ,   2.4 ,   3.38,   3.01,   5.6 ,   3.65,   3.9 ,   3.18,\n",
       "         3.35,   2.3 ,   3.57,   2.48,   2.62,   2.82,   3.98,   2.63,\n",
       "         3.83,   3.52,   3.95,   3.75,   2.88,   3.67,   3.87,   3.66,\n",
       "         3.85,   3.86,   4.19,   3.24,   4.8 ,   4.5 ,   4.2 ,   3.36,\n",
       "        32.  ,   3.08,   3.68,   3.07,   3.37,   3.09,   8.  ,   3.26,\n",
       "         3.34,   2.81,   3.44,   2.97,   3.14,   4.37,   2.68,   3.22,\n",
       "         3.27,  27.  ,   4.1 ,   2.93,   3.46,  24.  ,   3.47,   3.33,\n",
       "         3.63,   3.32,  26.  ,   1.2 ,   8.3 ,   2.98,   2.86,   3.17,\n",
       "         4.4 ,   3.28,   3.04,   4.45,   5.5 ,   3.84,   3.23,   3.02,\n",
       "         3.21,   3.43,   3.78,   4.3 ,   3.39,   2.69,   3.31,   4.65,\n",
       "         3.56,   2.2 ,   3.51,   3.93,   3.42,   2.99,   3.49,  14.  ,\n",
       "         4.14,   2.91,   3.88,   1.75,   4.25,   3.29,  20.  ,   2.25,\n",
       "         3.76,   3.69,   6.  ,  22.6 ,   2.89,   3.58,   5.8 ,  27.5 ,\n",
       "         2.49,   4.9 ,   3.48,  10.3 ,   1.  , 100.  ,   3.59])"
      ]
     },
     "execution_count": 10,
     "metadata": {},
     "output_type": "execute_result"
    }
   ],
   "source": [
    "data['ceiling_height'].unique()"
   ]
  },
  {
   "cell_type": "code",
   "execution_count": 11,
   "metadata": {},
   "outputs": [
    {
     "data": {
      "text/plain": [
       "count       23699.00\n",
       "mean      6541548.77\n",
       "std      10887013.27\n",
       "min         12190.00\n",
       "25%       3400000.00\n",
       "50%       4650000.00\n",
       "75%       6800000.00\n",
       "max     763000000.00\n",
       "Name: last_price, dtype: float64"
      ]
     },
     "execution_count": 11,
     "metadata": {},
     "output_type": "execute_result"
    }
   ],
   "source": [
    "#Аномальные значения по цене\n",
    "data['last_price'].describe()"
   ]
  },
  {
   "cell_type": "code",
   "execution_count": 12,
   "metadata": {},
   "outputs": [
    {
     "data": {
      "text/plain": [
       "23699"
      ]
     },
     "execution_count": 12,
     "metadata": {},
     "output_type": "execute_result"
    }
   ],
   "source": [
    "data['total_area'].sum() #общая площадь\n",
    "len(data) #кол-во строк"
   ]
  },
  {
   "cell_type": "code",
   "execution_count": 13,
   "metadata": {},
   "outputs": [
    {
     "data": {
      "text/plain": [
       "23611"
      ]
     },
     "execution_count": 13,
     "metadata": {},
     "output_type": "execute_result"
    }
   ],
   "source": [
    "data_new = data.query('last_price < 100000000 and ceiling_height < 5 and ceiling_height >= 2.3 and total_area <= 1430202')\n",
    "data_new['ceiling_height'].unique()\n",
    "len(data_new) #кол-во строк после отсеивания аномальных значений\n"
   ]
  },
  {
   "cell_type": "code",
   "execution_count": 44,
   "metadata": {},
   "outputs": [
    {
     "data": {
      "image/png": "[encoded data removed]",
      "text/plain": [
       "<Figure size 432x288 with 1 Axes>"
      ]
     },
     "metadata": {
      "needs_background": "light"
     },
     "output_type": "display_data"
    }
   ],
   "source": [
    "plt.boxplot(data['last_price'])\n",
    "plt.show()"
   ]
  },
  {
   "cell_type": "code",
   "execution_count": 46,
   "metadata": {},
   "outputs": [
    {
     "data": {
      "image/png": "[encoded data removed]",
      "text/plain": [
       "<Figure size 432x288 with 1 Axes>"
      ]
     },
     "metadata": {
      "needs_background": "light"
     },
     "output_type": "display_data"
    }
   ],
   "source": [
    "plt.boxplot(data['last_price'])\n",
    "plt.ylim(0, 14000000)\n",
    "plt.show()"
   ]
  },
  {
   "cell_type": "markdown",
   "metadata": {},
   "source": [
    "# Вывод\n",
    "Выполнили предобработку данных,нашли пропущенные значения и где это было возможно заменили их,привели к целочисленному типу некоторые столбцы для удобства дальнейшего анализа. \n",
    "Проверили на Явные дубликаты(их не оказалось) и не явные дубликаты,устранили их.\n",
    "Отсекли аномальные значения,оставив высоту потолков не выше 5 и не ниже 2.3 метров"
   ]
  },
  {
   "cell_type": "markdown",
   "metadata": {},
   "source": [
    "### Посчитайте и добавьте в таблицу новые столбцы"
   ]
  },
  {
   "cell_type": "code",
   "execution_count": 14,
   "metadata": {},
   "outputs": [],
   "source": [
    "#посчитаем и добавим в таблицу: цена одного квадратного метра\n",
    "data_new['price_one_m'] = data_new['last_price']/data_new['total_area']\n",
    "\n",
    "#посчитаем и добавим в таблицу: день публикации объявления \n",
    "data_new['first_day_exposition'] = pd.to_datetime(data_new['first_day_exposition'], format='%Y-%m-%d %H:%M')\n",
    "data_new['weekday'] = data_new['first_day_exposition'].dt.weekday\n",
    "\n",
    "#посчитаем и добавим в таблицу: месяц публикации объявления\n",
    "data_new['first_day_exposition'] = pd.to_datetime(data_new['first_day_exposition'], format='%Y-%m-%d %H:%M')\n",
    "data_new['month'] = data_new['first_day_exposition'].dt.month\n",
    "\n",
    "#посчитаем и добавим в таблицу: год публикации объявления\n",
    "data_new['first_day_exposition'] = pd.to_datetime(data_new['first_day_exposition'], format='%Y-%m-%d %H:%M')\n",
    "data_new['year'] = data_new['first_day_exposition'].dt.year\n",
    "\n",
    "\n"
   ]
  },
  {
   "cell_type": "code",
   "execution_count": 15,
   "metadata": {},
   "outputs": [
    {
     "data": {
      "text/html": [
       "<div>\n",
       "<style scoped>\n",
       "    .dataframe tbody tr th:only-of-type {\n",
       "        vertical-align: middle;\n",
       "    }\n",
       "\n",
       "    .dataframe tbody tr th {\n",
       "        vertical-align: top;\n",
       "    }\n",
       "\n",
       "    .dataframe thead th {\n",
       "        text-align: right;\n",
       "    }\n",
       "</style>\n",
       "<table border=\"1\" class=\"dataframe\">\n",
       "  <thead>\n",
       "    <tr style=\"text-align: right;\">\n",
       "      <th></th>\n",
       "      <th>total_images</th>\n",
       "      <th>last_price</th>\n",
       "      <th>total_area</th>\n",
       "      <th>first_day_exposition</th>\n",
       "      <th>rooms</th>\n",
       "      <th>ceiling_height</th>\n",
       "      <th>floors_total</th>\n",
       "      <th>living_area</th>\n",
       "      <th>floor</th>\n",
       "      <th>is_apartment</th>\n",
       "      <th>...</th>\n",
       "      <th>parks_around3000</th>\n",
       "      <th>parks_nearest</th>\n",
       "      <th>ponds_around3000</th>\n",
       "      <th>ponds_nearest</th>\n",
       "      <th>days_exposition</th>\n",
       "      <th>price_one_m</th>\n",
       "      <th>weekday</th>\n",
       "      <th>month</th>\n",
       "      <th>year</th>\n",
       "      <th>floor_type</th>\n",
       "    </tr>\n",
       "  </thead>\n",
       "  <tbody>\n",
       "    <tr>\n",
       "      <th>0</th>\n",
       "      <td>20</td>\n",
       "      <td>13000000</td>\n",
       "      <td>108.00</td>\n",
       "      <td>2019-03-07</td>\n",
       "      <td>3</td>\n",
       "      <td>2.70</td>\n",
       "      <td>16</td>\n",
       "      <td>51.00</td>\n",
       "      <td>8</td>\n",
       "      <td>False</td>\n",
       "      <td>...</td>\n",
       "      <td>1</td>\n",
       "      <td>482.00</td>\n",
       "      <td>2</td>\n",
       "      <td>755.00</td>\n",
       "      <td>NaN</td>\n",
       "      <td>120370.37</td>\n",
       "      <td>3</td>\n",
       "      <td>3</td>\n",
       "      <td>2019</td>\n",
       "      <td>другой</td>\n",
       "    </tr>\n",
       "    <tr>\n",
       "      <th>1</th>\n",
       "      <td>7</td>\n",
       "      <td>3350000</td>\n",
       "      <td>40.40</td>\n",
       "      <td>2018-12-04</td>\n",
       "      <td>1</td>\n",
       "      <td>2.65</td>\n",
       "      <td>11</td>\n",
       "      <td>18.60</td>\n",
       "      <td>1</td>\n",
       "      <td>False</td>\n",
       "      <td>...</td>\n",
       "      <td>0</td>\n",
       "      <td>NaN</td>\n",
       "      <td>0</td>\n",
       "      <td>NaN</td>\n",
       "      <td>81.00</td>\n",
       "      <td>82920.79</td>\n",
       "      <td>1</td>\n",
       "      <td>12</td>\n",
       "      <td>2018</td>\n",
       "      <td>первый</td>\n",
       "    </tr>\n",
       "    <tr>\n",
       "      <th>2</th>\n",
       "      <td>10</td>\n",
       "      <td>5196000</td>\n",
       "      <td>56.00</td>\n",
       "      <td>2015-08-20</td>\n",
       "      <td>2</td>\n",
       "      <td>2.65</td>\n",
       "      <td>5</td>\n",
       "      <td>34.30</td>\n",
       "      <td>4</td>\n",
       "      <td>False</td>\n",
       "      <td>...</td>\n",
       "      <td>1</td>\n",
       "      <td>90.00</td>\n",
       "      <td>2</td>\n",
       "      <td>574.00</td>\n",
       "      <td>558.00</td>\n",
       "      <td>92785.71</td>\n",
       "      <td>3</td>\n",
       "      <td>8</td>\n",
       "      <td>2015</td>\n",
       "      <td>другой</td>\n",
       "    </tr>\n",
       "    <tr>\n",
       "      <th>3</th>\n",
       "      <td>0</td>\n",
       "      <td>64900000</td>\n",
       "      <td>159.00</td>\n",
       "      <td>2015-07-24</td>\n",
       "      <td>3</td>\n",
       "      <td>2.65</td>\n",
       "      <td>14</td>\n",
       "      <td>90.79</td>\n",
       "      <td>9</td>\n",
       "      <td>False</td>\n",
       "      <td>...</td>\n",
       "      <td>2</td>\n",
       "      <td>84.00</td>\n",
       "      <td>3</td>\n",
       "      <td>234.00</td>\n",
       "      <td>424.00</td>\n",
       "      <td>408176.10</td>\n",
       "      <td>4</td>\n",
       "      <td>7</td>\n",
       "      <td>2015</td>\n",
       "      <td>другой</td>\n",
       "    </tr>\n",
       "    <tr>\n",
       "      <th>4</th>\n",
       "      <td>2</td>\n",
       "      <td>10000000</td>\n",
       "      <td>100.00</td>\n",
       "      <td>2018-06-19</td>\n",
       "      <td>2</td>\n",
       "      <td>3.03</td>\n",
       "      <td>14</td>\n",
       "      <td>32.00</td>\n",
       "      <td>13</td>\n",
       "      <td>False</td>\n",
       "      <td>...</td>\n",
       "      <td>2</td>\n",
       "      <td>112.00</td>\n",
       "      <td>1</td>\n",
       "      <td>48.00</td>\n",
       "      <td>121.00</td>\n",
       "      <td>100000.00</td>\n",
       "      <td>1</td>\n",
       "      <td>6</td>\n",
       "      <td>2018</td>\n",
       "      <td>другой</td>\n",
       "    </tr>\n",
       "    <tr>\n",
       "      <th>...</th>\n",
       "      <td>...</td>\n",
       "      <td>...</td>\n",
       "      <td>...</td>\n",
       "      <td>...</td>\n",
       "      <td>...</td>\n",
       "      <td>...</td>\n",
       "      <td>...</td>\n",
       "      <td>...</td>\n",
       "      <td>...</td>\n",
       "      <td>...</td>\n",
       "      <td>...</td>\n",
       "      <td>...</td>\n",
       "      <td>...</td>\n",
       "      <td>...</td>\n",
       "      <td>...</td>\n",
       "      <td>...</td>\n",
       "      <td>...</td>\n",
       "      <td>...</td>\n",
       "      <td>...</td>\n",
       "      <td>...</td>\n",
       "      <td>...</td>\n",
       "    </tr>\n",
       "    <tr>\n",
       "      <th>23694</th>\n",
       "      <td>9</td>\n",
       "      <td>9700000</td>\n",
       "      <td>133.81</td>\n",
       "      <td>2017-03-21</td>\n",
       "      <td>3</td>\n",
       "      <td>3.70</td>\n",
       "      <td>5</td>\n",
       "      <td>73.30</td>\n",
       "      <td>3</td>\n",
       "      <td>False</td>\n",
       "      <td>...</td>\n",
       "      <td>1</td>\n",
       "      <td>796.00</td>\n",
       "      <td>3</td>\n",
       "      <td>381.00</td>\n",
       "      <td>NaN</td>\n",
       "      <td>72490.85</td>\n",
       "      <td>1</td>\n",
       "      <td>3</td>\n",
       "      <td>2017</td>\n",
       "      <td>другой</td>\n",
       "    </tr>\n",
       "    <tr>\n",
       "      <th>23695</th>\n",
       "      <td>14</td>\n",
       "      <td>3100000</td>\n",
       "      <td>59.00</td>\n",
       "      <td>2018-01-15</td>\n",
       "      <td>3</td>\n",
       "      <td>2.65</td>\n",
       "      <td>5</td>\n",
       "      <td>38.00</td>\n",
       "      <td>4</td>\n",
       "      <td>False</td>\n",
       "      <td>...</td>\n",
       "      <td>0</td>\n",
       "      <td>NaN</td>\n",
       "      <td>0</td>\n",
       "      <td>NaN</td>\n",
       "      <td>45.00</td>\n",
       "      <td>52542.37</td>\n",
       "      <td>0</td>\n",
       "      <td>1</td>\n",
       "      <td>2018</td>\n",
       "      <td>другой</td>\n",
       "    </tr>\n",
       "    <tr>\n",
       "      <th>23696</th>\n",
       "      <td>18</td>\n",
       "      <td>2500000</td>\n",
       "      <td>56.70</td>\n",
       "      <td>2018-02-11</td>\n",
       "      <td>2</td>\n",
       "      <td>2.65</td>\n",
       "      <td>3</td>\n",
       "      <td>29.70</td>\n",
       "      <td>1</td>\n",
       "      <td>False</td>\n",
       "      <td>...</td>\n",
       "      <td>0</td>\n",
       "      <td>NaN</td>\n",
       "      <td>0</td>\n",
       "      <td>NaN</td>\n",
       "      <td>NaN</td>\n",
       "      <td>44091.71</td>\n",
       "      <td>6</td>\n",
       "      <td>2</td>\n",
       "      <td>2018</td>\n",
       "      <td>первый</td>\n",
       "    </tr>\n",
       "    <tr>\n",
       "      <th>23697</th>\n",
       "      <td>13</td>\n",
       "      <td>11475000</td>\n",
       "      <td>76.75</td>\n",
       "      <td>2017-03-28</td>\n",
       "      <td>2</td>\n",
       "      <td>3.00</td>\n",
       "      <td>17</td>\n",
       "      <td>43.82</td>\n",
       "      <td>12</td>\n",
       "      <td>False</td>\n",
       "      <td>...</td>\n",
       "      <td>2</td>\n",
       "      <td>173.00</td>\n",
       "      <td>3</td>\n",
       "      <td>196.00</td>\n",
       "      <td>602.00</td>\n",
       "      <td>149511.40</td>\n",
       "      <td>1</td>\n",
       "      <td>3</td>\n",
       "      <td>2017</td>\n",
       "      <td>другой</td>\n",
       "    </tr>\n",
       "    <tr>\n",
       "      <th>23698</th>\n",
       "      <td>4</td>\n",
       "      <td>1350000</td>\n",
       "      <td>32.30</td>\n",
       "      <td>2017-07-21</td>\n",
       "      <td>1</td>\n",
       "      <td>2.50</td>\n",
       "      <td>5</td>\n",
       "      <td>12.30</td>\n",
       "      <td>1</td>\n",
       "      <td>False</td>\n",
       "      <td>...</td>\n",
       "      <td>0</td>\n",
       "      <td>NaN</td>\n",
       "      <td>0</td>\n",
       "      <td>NaN</td>\n",
       "      <td>NaN</td>\n",
       "      <td>41795.67</td>\n",
       "      <td>4</td>\n",
       "      <td>7</td>\n",
       "      <td>2017</td>\n",
       "      <td>первый</td>\n",
       "    </tr>\n",
       "  </tbody>\n",
       "</table>\n",
       "<p>23611 rows × 27 columns</p>\n",
       "</div>"
      ],
      "text/plain": [
       "       total_images  last_price  total_area first_day_exposition  rooms  \\\n",
       "0                20    13000000      108.00           2019-03-07      3   \n",
       "1                 7     3350000       40.40           2018-12-04      1   \n",
       "2                10     5196000       56.00           2015-08-20      2   \n",
       "3                 0    64900000      159.00           2015-07-24      3   \n",
       "4                 2    10000000      100.00           2018-06-19      2   \n",
       "...             ...         ...         ...                  ...    ...   \n",
       "23694             9     9700000      133.81           2017-03-21      3   \n",
       "23695            14     3100000       59.00           2018-01-15      3   \n",
       "23696            18     2500000       56.70           2018-02-11      2   \n",
       "23697            13    11475000       76.75           2017-03-28      2   \n",
       "23698             4     1350000       32.30           2017-07-21      1   \n",
       "\n",
       "       ceiling_height  floors_total  living_area  floor  is_apartment  ...  \\\n",
       "0                2.70            16        51.00      8         False  ...   \n",
       "1                2.65            11        18.60      1         False  ...   \n",
       "2                2.65             5        34.30      4         False  ...   \n",
       "3                2.65            14        90.79      9         False  ...   \n",
       "4                3.03            14        32.00     13         False  ...   \n",
       "...               ...           ...          ...    ...           ...  ...   \n",
       "23694            3.70             5        73.30      3         False  ...   \n",
       "23695            2.65             5        38.00      4         False  ...   \n",
       "23696            2.65             3        29.70      1         False  ...   \n",
       "23697            3.00            17        43.82     12         False  ...   \n",
       "23698            2.50             5        12.30      1         False  ...   \n",
       "\n",
       "       parks_around3000  parks_nearest  ponds_around3000  ponds_nearest  \\\n",
       "0                     1         482.00                 2         755.00   \n",
       "1                     0            NaN                 0            NaN   \n",
       "2                     1          90.00                 2         574.00   \n",
       "3                     2          84.00                 3         234.00   \n",
       "4                     2         112.00                 1          48.00   \n",
       "...                 ...            ...               ...            ...   \n",
       "23694                 1         796.00                 3         381.00   \n",
       "23695                 0            NaN                 0            NaN   \n",
       "23696                 0            NaN                 0            NaN   \n",
       "23697                 2         173.00                 3         196.00   \n",
       "23698                 0            NaN                 0            NaN   \n",
       "\n",
       "      days_exposition  price_one_m  weekday  month  year  floor_type  \n",
       "0                 NaN    120370.37        3      3  2019      другой  \n",
       "1               81.00     82920.79        1     12  2018      первый  \n",
       "2              558.00     92785.71        3      8  2015      другой  \n",
       "3              424.00    408176.10        4      7  2015      другой  \n",
       "4              121.00    100000.00        1      6  2018      другой  \n",
       "...               ...          ...      ...    ...   ...         ...  \n",
       "23694             NaN     72490.85        1      3  2017      другой  \n",
       "23695           45.00     52542.37        0      1  2018      другой  \n",
       "23696             NaN     44091.71        6      2  2018      первый  \n",
       "23697          602.00    149511.40        1      3  2017      другой  \n",
       "23698             NaN     41795.67        4      7  2017      первый  \n",
       "\n",
       "[23611 rows x 27 columns]"
      ]
     },
     "execution_count": 15,
     "metadata": {},
     "output_type": "execute_result"
    }
   ],
   "source": [
    "#добавим ф-цию для присвоения типа этажам квартир\n",
    "def floor_type(row):\n",
    "    if row['floor'] == 1:\n",
    "        return 'первый'\n",
    "    elif row['floor'] == row['floors_total']:\n",
    "        return 'последний'\n",
    "    else:\n",
    "        return 'другой'\n",
    "data_new['floor_type'] = data_new.apply(floor_type,axis=1)\n",
    "data_new        "
   ]
  },
  {
   "cell_type": "code",
   "execution_count": 16,
   "metadata": {},
   "outputs": [
    {
     "data": {
      "text/plain": [
       "0       16028.00\n",
       "1       18603.00\n",
       "2       13933.00\n",
       "3        6800.00\n",
       "4        8098.00\n",
       "          ...   \n",
       "23694    4232.00\n",
       "23695        NaN\n",
       "23696        NaN\n",
       "23697   10364.00\n",
       "23698        NaN\n",
       "Name: cityCenters_nearest, Length: 23611, dtype: float64"
      ]
     },
     "execution_count": 16,
     "metadata": {},
     "output_type": "execute_result"
    }
   ],
   "source": [
    "data_new['cityCenters_nearest']"
   ]
  },
  {
   "cell_type": "code",
   "execution_count": 17,
   "metadata": {},
   "outputs": [
    {
     "data": {
      "text/html": [
       "<div>\n",
       "<style scoped>\n",
       "    .dataframe tbody tr th:only-of-type {\n",
       "        vertical-align: middle;\n",
       "    }\n",
       "\n",
       "    .dataframe tbody tr th {\n",
       "        vertical-align: top;\n",
       "    }\n",
       "\n",
       "    .dataframe thead th {\n",
       "        text-align: right;\n",
       "    }\n",
       "</style>\n",
       "<table border=\"1\" class=\"dataframe\">\n",
       "  <thead>\n",
       "    <tr style=\"text-align: right;\">\n",
       "      <th></th>\n",
       "      <th>total_images</th>\n",
       "      <th>last_price</th>\n",
       "      <th>total_area</th>\n",
       "      <th>first_day_exposition</th>\n",
       "      <th>rooms</th>\n",
       "      <th>ceiling_height</th>\n",
       "      <th>floors_total</th>\n",
       "      <th>living_area</th>\n",
       "      <th>floor</th>\n",
       "      <th>is_apartment</th>\n",
       "      <th>...</th>\n",
       "      <th>parks_nearest</th>\n",
       "      <th>ponds_around3000</th>\n",
       "      <th>ponds_nearest</th>\n",
       "      <th>days_exposition</th>\n",
       "      <th>price_one_m</th>\n",
       "      <th>weekday</th>\n",
       "      <th>month</th>\n",
       "      <th>year</th>\n",
       "      <th>floor_type</th>\n",
       "      <th>cityCenters_nearest_km</th>\n",
       "    </tr>\n",
       "  </thead>\n",
       "  <tbody>\n",
       "    <tr>\n",
       "      <th>0</th>\n",
       "      <td>20</td>\n",
       "      <td>13000000</td>\n",
       "      <td>108.00</td>\n",
       "      <td>2019-03-07</td>\n",
       "      <td>3</td>\n",
       "      <td>2.70</td>\n",
       "      <td>16</td>\n",
       "      <td>51.00</td>\n",
       "      <td>8</td>\n",
       "      <td>False</td>\n",
       "      <td>...</td>\n",
       "      <td>482.00</td>\n",
       "      <td>2</td>\n",
       "      <td>755.00</td>\n",
       "      <td>NaN</td>\n",
       "      <td>120370.37</td>\n",
       "      <td>3</td>\n",
       "      <td>3</td>\n",
       "      <td>2019</td>\n",
       "      <td>другой</td>\n",
       "      <td>16</td>\n",
       "    </tr>\n",
       "    <tr>\n",
       "      <th>1</th>\n",
       "      <td>7</td>\n",
       "      <td>3350000</td>\n",
       "      <td>40.40</td>\n",
       "      <td>2018-12-04</td>\n",
       "      <td>1</td>\n",
       "      <td>2.65</td>\n",
       "      <td>11</td>\n",
       "      <td>18.60</td>\n",
       "      <td>1</td>\n",
       "      <td>False</td>\n",
       "      <td>...</td>\n",
       "      <td>NaN</td>\n",
       "      <td>0</td>\n",
       "      <td>NaN</td>\n",
       "      <td>81.00</td>\n",
       "      <td>82920.79</td>\n",
       "      <td>1</td>\n",
       "      <td>12</td>\n",
       "      <td>2018</td>\n",
       "      <td>первый</td>\n",
       "      <td>18</td>\n",
       "    </tr>\n",
       "    <tr>\n",
       "      <th>2</th>\n",
       "      <td>10</td>\n",
       "      <td>5196000</td>\n",
       "      <td>56.00</td>\n",
       "      <td>2015-08-20</td>\n",
       "      <td>2</td>\n",
       "      <td>2.65</td>\n",
       "      <td>5</td>\n",
       "      <td>34.30</td>\n",
       "      <td>4</td>\n",
       "      <td>False</td>\n",
       "      <td>...</td>\n",
       "      <td>90.00</td>\n",
       "      <td>2</td>\n",
       "      <td>574.00</td>\n",
       "      <td>558.00</td>\n",
       "      <td>92785.71</td>\n",
       "      <td>3</td>\n",
       "      <td>8</td>\n",
       "      <td>2015</td>\n",
       "      <td>другой</td>\n",
       "      <td>13</td>\n",
       "    </tr>\n",
       "    <tr>\n",
       "      <th>3</th>\n",
       "      <td>0</td>\n",
       "      <td>64900000</td>\n",
       "      <td>159.00</td>\n",
       "      <td>2015-07-24</td>\n",
       "      <td>3</td>\n",
       "      <td>2.65</td>\n",
       "      <td>14</td>\n",
       "      <td>90.79</td>\n",
       "      <td>9</td>\n",
       "      <td>False</td>\n",
       "      <td>...</td>\n",
       "      <td>84.00</td>\n",
       "      <td>3</td>\n",
       "      <td>234.00</td>\n",
       "      <td>424.00</td>\n",
       "      <td>408176.10</td>\n",
       "      <td>4</td>\n",
       "      <td>7</td>\n",
       "      <td>2015</td>\n",
       "      <td>другой</td>\n",
       "      <td>6</td>\n",
       "    </tr>\n",
       "    <tr>\n",
       "      <th>4</th>\n",
       "      <td>2</td>\n",
       "      <td>10000000</td>\n",
       "      <td>100.00</td>\n",
       "      <td>2018-06-19</td>\n",
       "      <td>2</td>\n",
       "      <td>3.03</td>\n",
       "      <td>14</td>\n",
       "      <td>32.00</td>\n",
       "      <td>13</td>\n",
       "      <td>False</td>\n",
       "      <td>...</td>\n",
       "      <td>112.00</td>\n",
       "      <td>1</td>\n",
       "      <td>48.00</td>\n",
       "      <td>121.00</td>\n",
       "      <td>100000.00</td>\n",
       "      <td>1</td>\n",
       "      <td>6</td>\n",
       "      <td>2018</td>\n",
       "      <td>другой</td>\n",
       "      <td>8</td>\n",
       "    </tr>\n",
       "    <tr>\n",
       "      <th>...</th>\n",
       "      <td>...</td>\n",
       "      <td>...</td>\n",
       "      <td>...</td>\n",
       "      <td>...</td>\n",
       "      <td>...</td>\n",
       "      <td>...</td>\n",
       "      <td>...</td>\n",
       "      <td>...</td>\n",
       "      <td>...</td>\n",
       "      <td>...</td>\n",
       "      <td>...</td>\n",
       "      <td>...</td>\n",
       "      <td>...</td>\n",
       "      <td>...</td>\n",
       "      <td>...</td>\n",
       "      <td>...</td>\n",
       "      <td>...</td>\n",
       "      <td>...</td>\n",
       "      <td>...</td>\n",
       "      <td>...</td>\n",
       "      <td>...</td>\n",
       "    </tr>\n",
       "    <tr>\n",
       "      <th>23694</th>\n",
       "      <td>9</td>\n",
       "      <td>9700000</td>\n",
       "      <td>133.81</td>\n",
       "      <td>2017-03-21</td>\n",
       "      <td>3</td>\n",
       "      <td>3.70</td>\n",
       "      <td>5</td>\n",
       "      <td>73.30</td>\n",
       "      <td>3</td>\n",
       "      <td>False</td>\n",
       "      <td>...</td>\n",
       "      <td>796.00</td>\n",
       "      <td>3</td>\n",
       "      <td>381.00</td>\n",
       "      <td>NaN</td>\n",
       "      <td>72490.85</td>\n",
       "      <td>1</td>\n",
       "      <td>3</td>\n",
       "      <td>2017</td>\n",
       "      <td>другой</td>\n",
       "      <td>4</td>\n",
       "    </tr>\n",
       "    <tr>\n",
       "      <th>23695</th>\n",
       "      <td>14</td>\n",
       "      <td>3100000</td>\n",
       "      <td>59.00</td>\n",
       "      <td>2018-01-15</td>\n",
       "      <td>3</td>\n",
       "      <td>2.65</td>\n",
       "      <td>5</td>\n",
       "      <td>38.00</td>\n",
       "      <td>4</td>\n",
       "      <td>False</td>\n",
       "      <td>...</td>\n",
       "      <td>NaN</td>\n",
       "      <td>0</td>\n",
       "      <td>NaN</td>\n",
       "      <td>45.00</td>\n",
       "      <td>52542.37</td>\n",
       "      <td>0</td>\n",
       "      <td>1</td>\n",
       "      <td>2018</td>\n",
       "      <td>другой</td>\n",
       "      <td>0</td>\n",
       "    </tr>\n",
       "    <tr>\n",
       "      <th>23696</th>\n",
       "      <td>18</td>\n",
       "      <td>2500000</td>\n",
       "      <td>56.70</td>\n",
       "      <td>2018-02-11</td>\n",
       "      <td>2</td>\n",
       "      <td>2.65</td>\n",
       "      <td>3</td>\n",
       "      <td>29.70</td>\n",
       "      <td>1</td>\n",
       "      <td>False</td>\n",
       "      <td>...</td>\n",
       "      <td>NaN</td>\n",
       "      <td>0</td>\n",
       "      <td>NaN</td>\n",
       "      <td>NaN</td>\n",
       "      <td>44091.71</td>\n",
       "      <td>6</td>\n",
       "      <td>2</td>\n",
       "      <td>2018</td>\n",
       "      <td>первый</td>\n",
       "      <td>0</td>\n",
       "    </tr>\n",
       "    <tr>\n",
       "      <th>23697</th>\n",
       "      <td>13</td>\n",
       "      <td>11475000</td>\n",
       "      <td>76.75</td>\n",
       "      <td>2017-03-28</td>\n",
       "      <td>2</td>\n",
       "      <td>3.00</td>\n",
       "      <td>17</td>\n",
       "      <td>43.82</td>\n",
       "      <td>12</td>\n",
       "      <td>False</td>\n",
       "      <td>...</td>\n",
       "      <td>173.00</td>\n",
       "      <td>3</td>\n",
       "      <td>196.00</td>\n",
       "      <td>602.00</td>\n",
       "      <td>149511.40</td>\n",
       "      <td>1</td>\n",
       "      <td>3</td>\n",
       "      <td>2017</td>\n",
       "      <td>другой</td>\n",
       "      <td>10</td>\n",
       "    </tr>\n",
       "    <tr>\n",
       "      <th>23698</th>\n",
       "      <td>4</td>\n",
       "      <td>1350000</td>\n",
       "      <td>32.30</td>\n",
       "      <td>2017-07-21</td>\n",
       "      <td>1</td>\n",
       "      <td>2.50</td>\n",
       "      <td>5</td>\n",
       "      <td>12.30</td>\n",
       "      <td>1</td>\n",
       "      <td>False</td>\n",
       "      <td>...</td>\n",
       "      <td>NaN</td>\n",
       "      <td>0</td>\n",
       "      <td>NaN</td>\n",
       "      <td>NaN</td>\n",
       "      <td>41795.67</td>\n",
       "      <td>4</td>\n",
       "      <td>7</td>\n",
       "      <td>2017</td>\n",
       "      <td>первый</td>\n",
       "      <td>0</td>\n",
       "    </tr>\n",
       "  </tbody>\n",
       "</table>\n",
       "<p>23611 rows × 28 columns</p>\n",
       "</div>"
      ],
      "text/plain": [
       "       total_images  last_price  total_area first_day_exposition  rooms  \\\n",
       "0                20    13000000      108.00           2019-03-07      3   \n",
       "1                 7     3350000       40.40           2018-12-04      1   \n",
       "2                10     5196000       56.00           2015-08-20      2   \n",
       "3                 0    64900000      159.00           2015-07-24      3   \n",
       "4                 2    10000000      100.00           2018-06-19      2   \n",
       "...             ...         ...         ...                  ...    ...   \n",
       "23694             9     9700000      133.81           2017-03-21      3   \n",
       "23695            14     3100000       59.00           2018-01-15      3   \n",
       "23696            18     2500000       56.70           2018-02-11      2   \n",
       "23697            13    11475000       76.75           2017-03-28      2   \n",
       "23698             4     1350000       32.30           2017-07-21      1   \n",
       "\n",
       "       ceiling_height  floors_total  living_area  floor  is_apartment  ...  \\\n",
       "0                2.70            16        51.00      8         False  ...   \n",
       "1                2.65            11        18.60      1         False  ...   \n",
       "2                2.65             5        34.30      4         False  ...   \n",
       "3                2.65            14        90.79      9         False  ...   \n",
       "4                3.03            14        32.00     13         False  ...   \n",
       "...               ...           ...          ...    ...           ...  ...   \n",
       "23694            3.70             5        73.30      3         False  ...   \n",
       "23695            2.65             5        38.00      4         False  ...   \n",
       "23696            2.65             3        29.70      1         False  ...   \n",
       "23697            3.00            17        43.82     12         False  ...   \n",
       "23698            2.50             5        12.30      1         False  ...   \n",
       "\n",
       "       parks_nearest  ponds_around3000  ponds_nearest  days_exposition  \\\n",
       "0             482.00                 2         755.00              NaN   \n",
       "1                NaN                 0            NaN            81.00   \n",
       "2              90.00                 2         574.00           558.00   \n",
       "3              84.00                 3         234.00           424.00   \n",
       "4             112.00                 1          48.00           121.00   \n",
       "...              ...               ...            ...              ...   \n",
       "23694         796.00                 3         381.00              NaN   \n",
       "23695            NaN                 0            NaN            45.00   \n",
       "23696            NaN                 0            NaN              NaN   \n",
       "23697         173.00                 3         196.00           602.00   \n",
       "23698            NaN                 0            NaN              NaN   \n",
       "\n",
       "      price_one_m  weekday  month  year  floor_type  cityCenters_nearest_km  \n",
       "0       120370.37        3      3  2019      другой                      16  \n",
       "1        82920.79        1     12  2018      первый                      18  \n",
       "2        92785.71        3      8  2015      другой                      13  \n",
       "3       408176.10        4      7  2015      другой                       6  \n",
       "4       100000.00        1      6  2018      другой                       8  \n",
       "...           ...      ...    ...   ...         ...                     ...  \n",
       "23694    72490.85        1      3  2017      другой                       4  \n",
       "23695    52542.37        0      1  2018      другой                       0  \n",
       "23696    44091.71        6      2  2018      первый                       0  \n",
       "23697   149511.40        1      3  2017      другой                      10  \n",
       "23698    41795.67        4      7  2017      первый                       0  \n",
       "\n",
       "[23611 rows x 28 columns]"
      ]
     },
     "execution_count": 17,
     "metadata": {},
     "output_type": "execute_result"
    }
   ],
   "source": [
    "#посчитаем и добавим в таблицу: расстояние в км до центра города\n",
    "data_new['cityCenters_nearest_km'] = data_new['cityCenters_nearest'] / 1000\n",
    "data_new['cityCenters_nearest_km'] = data_new['cityCenters_nearest_km'].fillna(0).astype(int)\n",
    "data_new"
   ]
  },
  {
   "cell_type": "markdown",
   "metadata": {},
   "source": [
    "### Проведите исследовательский анализ данных"
   ]
  },
  {
   "cell_type": "code",
   "execution_count": 18,
   "metadata": {},
   "outputs": [
    {
     "data": {
      "text/plain": [
       "Text(0, 0.5, 'Количество квартир')"
      ]
     },
     "execution_count": 18,
     "metadata": {},
     "output_type": "execute_result"
    },
    {
     "data": {
      "image/png": "[encoded data removed]",
      "text/plain": [
       "<Figure size 432x288 with 1 Axes>"
      ]
     },
     "metadata": {
      "needs_background": "light"
     },
     "output_type": "display_data"
    }
   ],
   "source": [
    "#постороим гистограмму общей площади квартир\n",
    "data['total_area'].hist(bins=20,range=(15,300))\n",
    "plt.xlabel('Квадратных метров')\n",
    "plt.ylabel('Количество квартир')"
   ]
  },
  {
   "cell_type": "markdown",
   "metadata": {},
   "source": [
    "Глядя на гистограмму можем сделать вывод,что наибольшее кол-во с квадратурой 30-50 квадратных метров. \n",
    "Скорее всего такие квартиры берут семьи с небольшим кол-вом людей и небольшим бюджетом"
   ]
  },
  {
   "cell_type": "code",
   "execution_count": 19,
   "metadata": {},
   "outputs": [
    {
     "data": {
      "text/plain": [
       "locality_name\n",
       "Санкт-Петербург   590.00\n",
       "Пушкин            380.00\n",
       "Колпино           347.50\n",
       "Красное Село      320.00\n",
       "Сертолово         236.00\n",
       "Хязельки          230.00\n",
       "Стрельна          215.20\n",
       "Сестрорецк        214.00\n",
       "Парголово         201.50\n",
       "Петергоф          200.00\n",
       "Name: total_area, dtype: float64"
      ]
     },
     "execution_count": 19,
     "metadata": {},
     "output_type": "execute_result"
    }
   ],
   "source": [
    "data_new.groupby('locality_name')['total_area'].max().sort_values(ascending=False).head(10)"
   ]
  },
  {
   "cell_type": "markdown",
   "metadata": {},
   "source": [
    "Сгрупировали данные городов по общей площади с максимальным значением. Из данных видно что квартиры с самой большой площадью находятся в Санкт-Петербург, что в принципе не удивительно."
   ]
  },
  {
   "cell_type": "code",
   "execution_count": 20,
   "metadata": {},
   "outputs": [
    {
     "data": {
      "text/plain": [
       "Text(0, 0.5, 'Количество квартир')"
      ]
     },
     "execution_count": 20,
     "metadata": {},
     "output_type": "execute_result"
    },
    {
     "data": {
      "image/png": "[encoded data removed]",
      "text/plain": [
       "<Figure size 432x288 with 1 Axes>"
      ]
     },
     "metadata": {
      "needs_background": "light"
     },
     "output_type": "display_data"
    }
   ],
   "source": [
    "data_new['living_area'].hist(bins=20,range=(15,100))\n",
    "plt.xlabel('Квадратных метров')\n",
    "plt.ylabel('Количество квартир')"
   ]
  },
  {
   "cell_type": "markdown",
   "metadata": {},
   "source": [
    "Глядя на гистограмму можно сделать вывод,что чаще всего встречаются квартиры с квадратурой жилой площади от 20 кв.м. до 30 кв.м. "
   ]
  },
  {
   "cell_type": "code",
   "execution_count": 21,
   "metadata": {},
   "outputs": [
    {
     "data": {
      "text/plain": [
       "Text(0, 0.5, 'Количество квартир')"
      ]
     },
     "execution_count": 21,
     "metadata": {},
     "output_type": "execute_result"
    },
    {
     "data": {
      "image/png": "[encoded data removed]",
      "text/plain": [
       "<Figure size 432x288 with 1 Axes>"
      ]
     },
     "metadata": {
      "needs_background": "light"
     },
     "output_type": "display_data"
    }
   ],
   "source": [
    "data_new['kitchen_area'].hist(bins=10,range=(5,55))\n",
    "plt.xlabel('Квадратных метров')\n",
    "plt.ylabel('Количество квартир')"
   ]
  },
  {
   "cell_type": "markdown",
   "metadata": {},
   "source": [
    "Глядя на гистограмму,можно сделать вывод,что в основном кухня занимает не более 15 кв.м. Если рассматривать более 20кв.м,то такое практически не встречается, т.к. кухня больших размеров в целом не имеет не обходимости и не пользуется большим спросом."
   ]
  },
  {
   "cell_type": "code",
   "execution_count": 22,
   "metadata": {},
   "outputs": [
    {
     "data": {
      "text/plain": [
       "Text(0, 0.5, 'Количество квартир')"
      ]
     },
     "execution_count": 22,
     "metadata": {},
     "output_type": "execute_result"
    },
    {
     "data": {
      "image/png": "[encoded data removed]",
      "text/plain": [
       "<Figure size 432x288 with 1 Axes>"
      ]
     },
     "metadata": {
      "needs_background": "light"
     },
     "output_type": "display_data"
    }
   ],
   "source": [
    "data_new['last_price'].hist(bins=100,range=(1000000,7000000))\n",
    "plt.xlabel('цена')\n",
    "plt.ylabel('Количество квартир')"
   ]
  },
  {
   "cell_type": "markdown",
   "metadata": {},
   "source": [
    "Глядя на гистограмму,можем сделать выводы,что большинство квартир варируются от 3 до 5 миллионов рублей."
   ]
  },
  {
   "cell_type": "code",
   "execution_count": 23,
   "metadata": {},
   "outputs": [
    {
     "data": {
      "text/plain": [
       "Text(0, 0.5, 'Количество квартир')"
      ]
     },
     "execution_count": 23,
     "metadata": {},
     "output_type": "execute_result"
    },
    {
     "data": {
      "image/png": "[encoded data removed]",
      "text/plain": [
       "<Figure size 432x288 with 1 Axes>"
      ]
     },
     "metadata": {
      "needs_background": "light"
     },
     "output_type": "display_data"
    }
   ],
   "source": [
    "data_new['rooms'].hist(bins=10,range=(1,10))\n",
    "plt.xlabel('количество комнат')\n",
    "plt.ylabel('Количество квартир')"
   ]
  },
  {
   "cell_type": "markdown",
   "metadata": {},
   "source": [
    "Глядя на гистограмму,можно сделать вывод,что большинство квартир покупают 1-3 комнатных. 4 и более комнат нужны либо большим семьям,либо их покупают люди с большим доходом."
   ]
  },
  {
   "cell_type": "code",
   "execution_count": 24,
   "metadata": {},
   "outputs": [
    {
     "data": {
      "text/plain": [
       "Text(0, 0.5, 'Количество квартир')"
      ]
     },
     "execution_count": 24,
     "metadata": {},
     "output_type": "execute_result"
    },
    {
     "data": {
      "image/png": "[encoded data removed]",
      "text/plain": [
       "<Figure size 432x288 with 1 Axes>"
      ]
     },
     "metadata": {
      "needs_background": "light"
     },
     "output_type": "display_data"
    }
   ],
   "source": [
    "data_new['ceiling_height'].hist(bins=10)\n",
    "plt.xlabel('высота потолков')\n",
    "plt.ylabel('Количество квартир')"
   ]
  },
  {
   "cell_type": "markdown",
   "metadata": {},
   "source": [
    "Глядя на гистограмму можно сделать вывод,что большентсво квартир имеют высоту потолка от 2.5 до 3 метров. Дома с более высокими потолками встречаются значительно реже,возможно более высокие потолки есть в старых домах,которые сейчас не так часто продаются"
   ]
  },
  {
   "cell_type": "code",
   "execution_count": 25,
   "metadata": {},
   "outputs": [
    {
     "data": {
      "text/plain": [
       "Text(0, 0.5, 'Количество квартир')"
      ]
     },
     "execution_count": 25,
     "metadata": {},
     "output_type": "execute_result"
    },
    {
     "data": {
      "image/png": "[encoded data removed]",
      "text/plain": [
       "<Figure size 432x288 with 1 Axes>"
      ]
     },
     "metadata": {
      "needs_background": "light"
     },
     "output_type": "display_data"
    }
   ],
   "source": [
    "data_new['floor'].hist(bins=10)\n",
    "plt.xlabel('Этаж')\n",
    "plt.ylabel('Количество квартир')"
   ]
  },
  {
   "cell_type": "markdown",
   "metadata": {},
   "source": [
    "Глядя на гистограмму,можно сделать вывод,что чаще всего продаются квартиры на нижних этажах,в частности больше всего с 1 по 5 этаж. Возможно это связано с ценой,возможно с какими-нибудь факторами удобства."
   ]
  },
  {
   "cell_type": "code",
   "execution_count": 26,
   "metadata": {
    "scrolled": true
   },
   "outputs": [
    {
     "data": {
      "text/plain": [
       "Text(0, 0.5, 'Количество квартир')"
      ]
     },
     "execution_count": 26,
     "metadata": {},
     "output_type": "execute_result"
    },
    {
     "data": {
      "image/png": "[encoded data removed]",
      "text/plain": [
       "<Figure size 432x288 with 1 Axes>"
      ]
     },
     "metadata": {
      "needs_background": "light"
     },
     "output_type": "display_data"
    }
   ],
   "source": [
    "data_new['floor_type'].hist(bins=10)\n",
    "plt.xlabel('Этаж')\n",
    "plt.ylabel('Количество квартир')"
   ]
  },
  {
   "cell_type": "markdown",
   "metadata": {},
   "source": [
    "Глядя на эту гистограмму можно сделать вывод,что первых и последних этажей значительно меньше,чем в категории \"другие\",если глянуть на предыдущую гистограмму,можно предположить,что в категории другой хорошо пользуются спросом 2,3,4,5 этажи."
   ]
  },
  {
   "cell_type": "code",
   "execution_count": 27,
   "metadata": {},
   "outputs": [
    {
     "data": {
      "text/plain": [
       "Text(0, 0.5, 'Количество квартир')"
      ]
     },
     "execution_count": 27,
     "metadata": {},
     "output_type": "execute_result"
    },
    {
     "data": {
      "image/png": "[encoded data removed]",
      "text/plain": [
       "<Figure size 432x288 with 1 Axes>"
      ]
     },
     "metadata": {
      "needs_background": "light"
     },
     "output_type": "display_data"
    }
   ],
   "source": [
    "data_new['floors_total'].hist(bins=10)\n",
    "plt.xlabel('Этаж')\n",
    "plt.ylabel('Количество квартир')"
   ]
  },
  {
   "cell_type": "markdown",
   "metadata": {},
   "source": [
    "Глядя на гистограмму,можно сделать вывод,что больше всего квартир продается в 5 и 9 этажках,кол-во новостроеев с более высокой этажностью значительно меньше."
   ]
  },
  {
   "cell_type": "code",
   "execution_count": 28,
   "metadata": {},
   "outputs": [
    {
     "data": {
      "text/plain": [
       "Text(0, 0.5, 'Количество квартир')"
      ]
     },
     "execution_count": 28,
     "metadata": {},
     "output_type": "execute_result"
    },
    {
     "data": {
      "image/png": "[encoded data removed]",
      "text/plain": [
       "<Figure size 432x288 with 1 Axes>"
      ]
     },
     "metadata": {
      "needs_background": "light"
     },
     "output_type": "display_data"
    }
   ],
   "source": [
    "data_new['cityCenters_nearest'].hist(bins=10,range=(10000,30000))\n",
    "plt.xlabel('Расстояние в метрах до центра')\n",
    "plt.ylabel('Количество квартир')"
   ]
  },
  {
   "cell_type": "markdown",
   "metadata": {},
   "source": [
    "Глядя на гистограмму,можно сделать вывод,что большинство квартир находятся в пределах 10-16 км от центра города,что в принципе можно считать средним расстоянием,можно также заметить,что квартиры которые ближе к центру преобладают по отношению к тем,которые находятся дальше 16 км. по моему мнению многим хотелось бы иметь квартиру ближе к центру."
   ]
  },
  {
   "cell_type": "code",
   "execution_count": 29,
   "metadata": {},
   "outputs": [
    {
     "data": {
      "text/plain": [
       "Text(0, 0.5, 'Количество квартир')"
      ]
     },
     "execution_count": 29,
     "metadata": {},
     "output_type": "execute_result"
    },
    {
     "data": {
      "image/png": "[encoded data removed]",
      "text/plain": [
       "<Figure size 432x288 with 1 Axes>"
      ]
     },
     "metadata": {
      "needs_background": "light"
     },
     "output_type": "display_data"
    }
   ],
   "source": [
    "data_new['airports_nearest'].hist(bins=10,range=(10000,90000))\n",
    "plt.xlabel('Расстояние в метрах до аэропорта')\n",
    "plt.ylabel('Количество квартир')"
   ]
  },
  {
   "cell_type": "markdown",
   "metadata": {},
   "source": [
    "Глядя на гистограмму,можно сделать вывод что в большинстве случаев,расстояние до аэропорта 20-30 км,т.к. аэропорт чаще всего назолятся за городом,нет необходимости покупать квартиры поблизости с ним."
   ]
  },
  {
   "cell_type": "code",
   "execution_count": 30,
   "metadata": {},
   "outputs": [
    {
     "data": {
      "text/plain": [
       "Text(0, 0.5, 'Количество квартир')"
      ]
     },
     "execution_count": 30,
     "metadata": {},
     "output_type": "execute_result"
    },
    {
     "data": {
      "image/png": "[encoded data removed]",
      "text/plain": [
       "<Figure size 432x288 with 1 Axes>"
      ]
     },
     "metadata": {
      "needs_background": "light"
     },
     "output_type": "display_data"
    }
   ],
   "source": [
    "data_new['parks_nearest'].hist(bins=10,range=(0,1500))\n",
    "plt.xlabel('Расстояние в метрах до парка')\n",
    "plt.ylabel('Количество квартир')"
   ]
  },
  {
   "cell_type": "markdown",
   "metadata": {},
   "source": [
    "Глядя на эту гистограмму,можно сказать,что большинство квартир находятся в шаговой доступности от парка.Это логично,сейчас многие дома строят инфраструктуру вместе с ЖК,а если дом и не новый,то все равно есть тенденция к появлению новых парков."
   ]
  },
  {
   "cell_type": "code",
   "execution_count": 31,
   "metadata": {},
   "outputs": [
    {
     "data": {
      "text/plain": [
       "Text(0, 0.5, 'Количество квартир')"
      ]
     },
     "execution_count": 31,
     "metadata": {},
     "output_type": "execute_result"
    },
    {
     "data": {
      "image/png": "[encoded data removed]",
      "text/plain": [
       "<Figure size 432x288 with 1 Axes>"
      ]
     },
     "metadata": {
      "needs_background": "light"
     },
     "output_type": "display_data"
    }
   ],
   "source": [
    "data_new['first_day_weekday'] = data_new['first_day_exposition'].dt.weekday\n",
    "data_new['first_day_weekday'].hist()\n",
    "plt.xlabel('Дни недели')\n",
    "plt.ylabel('Количество квартир')"
   ]
  },
  {
   "cell_type": "markdown",
   "metadata": {},
   "source": [
    "Глядя на гистограмму,можно сделать вывод что в будние дни публикации по продаже квартир осуществляются активнее,чем в выходные дни"
   ]
  },
  {
   "cell_type": "code",
   "execution_count": 32,
   "metadata": {
    "scrolled": true
   },
   "outputs": [
    {
     "data": {
      "text/plain": [
       "Text(0, 0.5, 'Количество квартир')"
      ]
     },
     "execution_count": 32,
     "metadata": {},
     "output_type": "execute_result"
    },
    {
     "data": {
      "image/png": "[encoded data removed]",
      "text/plain": [
       "<Figure size 432x288 with 1 Axes>"
      ]
     },
     "metadata": {
      "needs_background": "light"
     },
     "output_type": "display_data"
    }
   ],
   "source": [
    "data_new['first_day_month'] = data_new['first_day_exposition'].dt.month\n",
    "data_new['first_day_month'].hist()\n",
    "plt.xlabel('Месяц')\n",
    "plt.ylabel('Количество квартир')"
   ]
  },
  {
   "cell_type": "markdown",
   "metadata": {},
   "source": [
    "Глядя на гистограмму,можно сделать вывод,что сезонность продажи квартир приходится на зиму,в первый и второй месяцы года выставляется больше всего объявлений, в начале года и в конце года,далее в среднем кол-во +- одинаковое,есть небольшая просадка в конце весны\\начале лета."
   ]
  },
  {
   "cell_type": "code",
   "execution_count": 33,
   "metadata": {},
   "outputs": [
    {
     "data": {
      "image/png": "[encoded data removed]",
      "text/plain": [
       "<Figure size 432x288 with 1 Axes>"
      ]
     },
     "metadata": {
      "needs_background": "light"
     },
     "output_type": "display_data"
    },
    {
     "data": {
      "image/png": "[encoded data removed]",
      "text/plain": [
       "<Figure size 432x288 with 1 Axes>"
      ]
     },
     "metadata": {
      "needs_background": "light"
     },
     "output_type": "display_data"
    }
   ],
   "source": [
    "data_new['days_exposition'].hist(bins=15,range=(1,500))\n",
    "plt.title('Время продажи')\n",
    "plt.xlabel('Дни')\n",
    "plt.ylabel('Количество квартир')\n",
    "plt.show()\n",
    "\n",
    "data_new['days_exposition'].hist(bins=15,range=(1,100))\n",
    "plt.title('Время продажи')\n",
    "plt.xlabel('Дни')\n",
    "plt.ylabel('Количество квартир')\n",
    "plt.show()"
   ]
  },
  {
   "cell_type": "code",
   "execution_count": 34,
   "metadata": {},
   "outputs": [
    {
     "name": "stdout",
     "output_type": "stream",
     "text": [
      "медианное значение 95.0\n",
      "среднее значение 180.68945952555637\n"
     ]
    },
    {
     "data": {
      "text/plain": [
       "count   20445.00\n",
       "mean      180.69\n",
       "std       219.62\n",
       "min         1.00\n",
       "25%        45.00\n",
       "50%        95.00\n",
       "75%       231.00\n",
       "max      1580.00\n",
       "Name: days_exposition, dtype: float64"
      ]
     },
     "execution_count": 34,
     "metadata": {},
     "output_type": "execute_result"
    }
   ],
   "source": [
    "print('медианное значение', data_new['days_exposition'].median())\n",
    "print('среднее значение', data_new['days_exposition'].mean())\n",
    "data_new['days_exposition'].describe()"
   ]
  },
  {
   "cell_type": "markdown",
   "metadata": {},
   "source": [
    "# ВЫВОД:\n",
    "\n",
    "\n",
    "Медианное время продажи - 95 дней. Среднее время продажи - 181 день.\n",
    "В основном квартиры продаются за срок в 100 дней. Есть большое число квартир, проданных всего за несколько дней после публикации. А также есть варианты, которые продавались несколько десятков месяцев.\n",
    "\n",
    "Быстрой продажей можно назвать срок в 45 дней и меньше. Долгой продажей - 230 дней (7,5 месяцев) и дольше."
   ]
  },
  {
   "cell_type": "code",
   "execution_count": 35,
   "metadata": {},
   "outputs": [
    {
     "data": {
      "image/png": "[encoded data removed]",
      "text/plain": [
       "<Figure size 936x936 with 16 Axes>"
      ]
     },
     "metadata": {
      "needs_background": "light"
     },
     "output_type": "display_data"
    },
    {
     "name": "stdout",
     "output_type": "stream",
     "text": [
      "Корреляции цены и общей площади,площади кухни и жилой площади:\n",
      "\n",
      "              last_price  kitchen_area  living_area  total_area\n",
      "last_price          1.00          0.66         0.75        0.81\n",
      "kitchen_area        0.66          1.00         0.58        0.69\n",
      "living_area         0.75          0.58         1.00        0.96\n",
      "total_area          0.81          0.69         0.96        1.00\n"
     ]
    }
   ],
   "source": [
    "#проверим зависимость цены от площадей (общей,жилой,кухни) с помощью матрицы диаграмм рассеяния\n",
    "data_new_area = data_new.pivot_table(index='last_price',values=['total_area','living_area','kitchen_area']).reset_index()\n",
    "pd.plotting.scatter_matrix(data_new_area,figsize=(13,13))\n",
    "plt.show()\n",
    "print('Корреляции цены и общей площади,площади кухни и жилой площади:')\n",
    "print()\n",
    "print(data_new_area.corr())"
   ]
  },
  {
   "cell_type": "code",
   "execution_count": 36,
   "metadata": {},
   "outputs": [
    {
     "data": {
      "image/png": "[encoded data removed]",
      "text/plain": [
       "<Figure size 432x288 with 1 Axes>"
      ]
     },
     "metadata": {
      "needs_background": "light"
     },
     "output_type": "display_data"
    },
    {
     "name": "stdout",
     "output_type": "stream",
     "text": [
      "Корреляции цены и кол-ва комнат:\n",
      "\n",
      "            rooms  last_price\n",
      "rooms        1.00        0.97\n",
      "last_price   0.97        1.00\n"
     ]
    }
   ],
   "source": [
    "#проверим зависимость цены от кол-ва комнат\n",
    "data_new_rooms = data_new.query('rooms > 0 and rooms < 6').groupby('rooms')['last_price'].mean().reset_index() #отсекли выбросы в виде 0,так как 0 комнат быть не может,и убрали выброс в 6 комнат\n",
    "data_new_rooms.plot(title='Зависимость цены от кол-ва комнат',grid=True)\n",
    "plt.show()\n",
    "print('Корреляции цены и кол-ва комнат:')\n",
    "print()\n",
    "print(data_new_rooms.corr())"
   ]
  },
  {
   "cell_type": "code",
   "execution_count": 37,
   "metadata": {},
   "outputs": [
    {
     "data": {
      "image/png": "[encoded data removed]",
      "text/plain": [
       "<Figure size 432x288 with 1 Axes>"
      ]
     },
     "metadata": {
      "needs_background": "light"
     },
     "output_type": "display_data"
    }
   ],
   "source": [
    "#проверим зависимость цены от этажа, на котором расположена квартира (первый, последний, другой)\n",
    "data_new_floor = data_new.pivot_table(index='floor_type',values='last_price',aggfunc='median')\n",
    "data_new_floor.plot(title='зависимость цены от этажа',grid=True)\n",
    "plt.show()\n",
    "\n"
   ]
  },
  {
   "cell_type": "code",
   "execution_count": 38,
   "metadata": {},
   "outputs": [
    {
     "data": {
      "image/png": "[encoded data removed]",
      "text/plain": [
       "<Figure size 432x288 with 1 Axes>"
      ]
     },
     "metadata": {
      "needs_background": "light"
     },
     "output_type": "display_data"
    },
    {
     "data": {
      "image/png": "[encoded data removed]",
      "text/plain": [
       "<Figure size 432x288 with 1 Axes>"
      ]
     },
     "metadata": {
      "needs_background": "light"
     },
     "output_type": "display_data"
    },
    {
     "data": {
      "image/png": "[encoded data removed]",
      "text/plain": [
       "<Figure size 432x288 with 1 Axes>"
      ]
     },
     "metadata": {
      "needs_background": "light"
     },
     "output_type": "display_data"
    }
   ],
   "source": [
    "#проверим зависимость цены от дня размещения,месяца и года\n",
    "data_new_weekday = data_new.pivot_table(index='weekday',values='last_price')\n",
    "data_new_weekday.plot()\n",
    "plt.show()\n",
    "\n",
    "data_new_month = data_new.pivot_table(index='month',values='last_price')\n",
    "data_new_month.plot()\n",
    "plt.show()\n",
    "\n",
    "data_new_year = data_new.pivot_table(index='year',values='last_price')\n",
    "data_new_year.plot()\n",
    "plt.show()\n"
   ]
  },
  {
   "cell_type": "markdown",
   "metadata": {},
   "source": [
    "# ВЫВОД:\n",
    "\n",
    "Чем больше площадь, тем выше стоимость до 200 кв.м.,далее разброс становится больше,возможно это связано с расстоянием до центра либо наличие парка рядом,возможно на эти квартиры больший спрос. Корреляция этих параметров  высокая до определенного момента.Корреляция жилой площади влияет на цену,но она ниже,чем общей площади.Корреляция кухни же является значительно ниже,и намного слабее влияет на цену. Число комнат влияет на цену очень сильно(больше комнат - больше цена),  зависимость выше, чем у площади. Можно сделать вывод,что у людей кол-во комнат в приоритете даже над площадью,они могут взять квартиру чуть меньше,но с раздельными комнатами,это в частности актуально для семей с детьми"
   ]
  },
  {
   "cell_type": "markdown",
   "metadata": {},
   "source": [
    "Первый этаж непосредственно влияет на стоимость квартиры - в среднем квартиры на 1-м этаже значительно дешевле. Чуть дороже последний этаж. Наибольшая стоимость у квартир, расположенных не на 1-м и не на последнем этаже."
   ]
  },
  {
   "cell_type": "markdown",
   "metadata": {},
   "source": [
    "День недели: дороже всего квартиры, опубликованные в среду, дешевле всего - в воскресенье,пик приходится на середину недели,самое продуктивное время\n",
    "Месяц: дороже всего квартиры, продающиеся с ноября по февраля,возможно это связано с сезонностью, дешевле всего - с сентября по октябрь.\n",
    "Год: квартиры очень сильно подешевели в 2015-2018 годах, что, вероятно, вызвано некоторым кризисом 2014-2015 годов. В 2019 году цены снова стали повышаться, т.к. экономика и зарплаты скорее на подъёме."
   ]
  },
  {
   "cell_type": "code",
   "execution_count": 39,
   "metadata": {},
   "outputs": [
    {
     "data": {
      "text/plain": [
       "0        120370\n",
       "1         82920\n",
       "2         92785\n",
       "3        408176\n",
       "4        100000\n",
       "          ...  \n",
       "23694     72490\n",
       "23695     52542\n",
       "23696     44091\n",
       "23697    149511\n",
       "23698     41795\n",
       "Name: m_price, Length: 23611, dtype: int64"
      ]
     },
     "execution_count": 39,
     "metadata": {},
     "output_type": "execute_result"
    }
   ],
   "source": [
    "# Добавляем столбец со стоимостью квадратного метра (m_price) и приводим его в целочисленный тип\n",
    "data_new['m_price'] = data_new['last_price'] / data_new['total_area']\n",
    "data_new['m_price'] = data_new['m_price'].astype(int)\n",
    "data_new['m_price']"
   ]
  },
  {
   "cell_type": "code",
   "execution_count": 47,
   "metadata": {},
   "outputs": [
    {
     "data": {
      "text/html": [
       "<div>\n",
       "<style scoped>\n",
       "    .dataframe tbody tr th:only-of-type {\n",
       "        vertical-align: middle;\n",
       "    }\n",
       "\n",
       "    .dataframe tbody tr th {\n",
       "        vertical-align: top;\n",
       "    }\n",
       "\n",
       "    .dataframe thead th {\n",
       "        text-align: right;\n",
       "    }\n",
       "</style>\n",
       "<table border=\"1\" class=\"dataframe\">\n",
       "  <thead>\n",
       "    <tr style=\"text-align: right;\">\n",
       "      <th></th>\n",
       "      <th>локация</th>\n",
       "      <th>количество</th>\n",
       "      <th>среднее</th>\n",
       "    </tr>\n",
       "  </thead>\n",
       "  <tbody>\n",
       "    <tr>\n",
       "      <th>238</th>\n",
       "      <td>Санкт-Петербург</td>\n",
       "      <td>15658</td>\n",
       "      <td>113558.42</td>\n",
       "    </tr>\n",
       "    <tr>\n",
       "      <th>163</th>\n",
       "      <td>Мурино</td>\n",
       "      <td>588</td>\n",
       "      <td>86064.36</td>\n",
       "    </tr>\n",
       "    <tr>\n",
       "      <th>127</th>\n",
       "      <td>Кудрово</td>\n",
       "      <td>471</td>\n",
       "      <td>95325.73</td>\n",
       "    </tr>\n",
       "    <tr>\n",
       "      <th>305</th>\n",
       "      <td>Шушары</td>\n",
       "      <td>440</td>\n",
       "      <td>78676.90</td>\n",
       "    </tr>\n",
       "    <tr>\n",
       "      <th>63</th>\n",
       "      <td>Всеволожск</td>\n",
       "      <td>397</td>\n",
       "      <td>68718.85</td>\n",
       "    </tr>\n",
       "    <tr>\n",
       "      <th>217</th>\n",
       "      <td>Пушкин</td>\n",
       "      <td>369</td>\n",
       "      <td>103125.37</td>\n",
       "    </tr>\n",
       "    <tr>\n",
       "      <th>112</th>\n",
       "      <td>Колпино</td>\n",
       "      <td>338</td>\n",
       "      <td>75424.15</td>\n",
       "    </tr>\n",
       "    <tr>\n",
       "      <th>185</th>\n",
       "      <td>Парголово</td>\n",
       "      <td>327</td>\n",
       "      <td>90175.49</td>\n",
       "    </tr>\n",
       "    <tr>\n",
       "      <th>70</th>\n",
       "      <td>Гатчина</td>\n",
       "      <td>306</td>\n",
       "      <td>68757.23</td>\n",
       "    </tr>\n",
       "    <tr>\n",
       "      <th>64</th>\n",
       "      <td>Выборг</td>\n",
       "      <td>235</td>\n",
       "      <td>58237.72</td>\n",
       "    </tr>\n",
       "  </tbody>\n",
       "</table>\n",
       "</div>"
      ],
      "text/plain": [
       "             локация  количество   среднее\n",
       "238  Санкт-Петербург       15658 113558.42\n",
       "163           Мурино         588  86064.36\n",
       "127          Кудрово         471  95325.73\n",
       "305           Шушары         440  78676.90\n",
       "63        Всеволожск         397  68718.85\n",
       "217           Пушкин         369 103125.37\n",
       "112          Колпино         338  75424.15\n",
       "185        Парголово         327  90175.49\n",
       "70           Гатчина         306  68757.23\n",
       "64            Выборг         235  58237.72"
      ]
     },
     "execution_count": 47,
     "metadata": {},
     "output_type": "execute_result"
    }
   ],
   "source": [
    "# Сравниваем среднюю стоимость квадратного метра в топ-10 городов по числу объявлений\n",
    "data_new_top = data_new.pivot_table(index='locality_name', values='m_price', aggfunc=['count', 'mean']).reset_index(level='locality_name')\n",
    "data_new_top.columns = ['локация', 'количество', 'среднее'] #убрали лишнюю этажность\n",
    "data_new_top.sort_values(by='количество',ascending=False).head(10)\n",
    "\n"
   ]
  },
  {
   "cell_type": "code",
   "execution_count": 41,
   "metadata": {},
   "outputs": [
    {
     "data": {
      "text/html": [
       "<div>\n",
       "<style scoped>\n",
       "    .dataframe tbody tr th:only-of-type {\n",
       "        vertical-align: middle;\n",
       "    }\n",
       "\n",
       "    .dataframe tbody tr th {\n",
       "        vertical-align: top;\n",
       "    }\n",
       "\n",
       "    .dataframe thead th {\n",
       "        text-align: right;\n",
       "    }\n",
       "</style>\n",
       "<table border=\"1\" class=\"dataframe\">\n",
       "  <thead>\n",
       "    <tr style=\"text-align: right;\">\n",
       "      <th></th>\n",
       "      <th>локация</th>\n",
       "      <th>количество</th>\n",
       "      <th>среднее</th>\n",
       "    </tr>\n",
       "  </thead>\n",
       "  <tbody>\n",
       "    <tr>\n",
       "      <th>264</th>\n",
       "      <td>Старополье</td>\n",
       "      <td>3</td>\n",
       "      <td>11206.00</td>\n",
       "    </tr>\n",
       "    <tr>\n",
       "      <th>242</th>\n",
       "      <td>Свирь</td>\n",
       "      <td>2</td>\n",
       "      <td>11481.00</td>\n",
       "    </tr>\n",
       "    <tr>\n",
       "      <th>54</th>\n",
       "      <td>Вахнова Кара</td>\n",
       "      <td>1</td>\n",
       "      <td>11688.00</td>\n",
       "    </tr>\n",
       "    <tr>\n",
       "      <th>65</th>\n",
       "      <td>Выскатка</td>\n",
       "      <td>2</td>\n",
       "      <td>12335.00</td>\n",
       "    </tr>\n",
       "    <tr>\n",
       "      <th>256</th>\n",
       "      <td>Совхозный</td>\n",
       "      <td>2</td>\n",
       "      <td>12628.50</td>\n",
       "    </tr>\n",
       "    <tr>\n",
       "      <th>...</th>\n",
       "      <td>...</td>\n",
       "      <td>...</td>\n",
       "      <td>...</td>\n",
       "    </tr>\n",
       "    <tr>\n",
       "      <th>251</th>\n",
       "      <td>Сестрорецк</td>\n",
       "      <td>183</td>\n",
       "      <td>101757.16</td>\n",
       "    </tr>\n",
       "    <tr>\n",
       "      <th>217</th>\n",
       "      <td>Пушкин</td>\n",
       "      <td>369</td>\n",
       "      <td>103125.37</td>\n",
       "    </tr>\n",
       "    <tr>\n",
       "      <th>228</th>\n",
       "      <td>Репино</td>\n",
       "      <td>4</td>\n",
       "      <td>104238.50</td>\n",
       "    </tr>\n",
       "    <tr>\n",
       "      <th>238</th>\n",
       "      <td>Санкт-Петербург</td>\n",
       "      <td>15658</td>\n",
       "      <td>113558.42</td>\n",
       "    </tr>\n",
       "    <tr>\n",
       "      <th>89</th>\n",
       "      <td>Зеленогорск</td>\n",
       "      <td>24</td>\n",
       "      <td>115122.50</td>\n",
       "    </tr>\n",
       "  </tbody>\n",
       "</table>\n",
       "<p>318 rows × 3 columns</p>\n",
       "</div>"
      ],
      "text/plain": [
       "             локация  количество   среднее\n",
       "264       Старополье           3  11206.00\n",
       "242            Свирь           2  11481.00\n",
       "54      Вахнова Кара           1  11688.00\n",
       "65          Выскатка           2  12335.00\n",
       "256        Совхозный           2  12628.50\n",
       "..               ...         ...       ...\n",
       "251       Сестрорецк         183 101757.16\n",
       "217           Пушкин         369 103125.37\n",
       "228           Репино           4 104238.50\n",
       "238  Санкт-Петербург       15658 113558.42\n",
       "89       Зеленогорск          24 115122.50\n",
       "\n",
       "[318 rows x 3 columns]"
      ]
     },
     "execution_count": 41,
     "metadata": {},
     "output_type": "execute_result"
    }
   ],
   "source": [
    "data_new_top.sort_values(by='среднее',ascending=True)"
   ]
  },
  {
   "cell_type": "markdown",
   "metadata": {},
   "source": [
    "# Вывод\n",
    "Наибольшая средняя стоимость  квадратного метра по кол-ву объявлений как и ожидалось, в Санкт-Петербурге. Из топ-10 наименьшая стоимость и всего лишь одно объявление в городке 'Вахнова Кара'.\n"
   ]
  },
  {
   "cell_type": "code",
   "execution_count": 42,
   "metadata": {
    "scrolled": true
   },
   "outputs": [
    {
     "data": {
      "image/png": "[encoded data removed]",
      "text/plain": [
       "<Figure size 648x648 with 1 Axes>"
      ]
     },
     "metadata": {
      "needs_background": "light"
     },
     "output_type": "display_data"
    }
   ],
   "source": [
    "#возьмем выборку по СПБ\n",
    "data_new_spb = data_new.loc[(data_new['locality_name'] == 'Санкт-Петербург')]\n",
    "\n",
    "#добавляем новый столбец с расстоянием в км до центра питера\n",
    "data_new_spb['km_to_center_spb'] = data_new_spb['cityCenters_nearest'] / 1000\n",
    "\n",
    "#заменим пропуски и приведем к целочисленному виду \n",
    "data_new_spb['km_to_center_spb'] = data_new_spb['km_to_center_spb'].fillna(0).astype(int)\n",
    "\n",
    "#проверим уникальные значения\n",
    "#возьмем выборку по СПБ\n",
    "data_new_spb = data_new.loc[(data_new['locality_name'] == 'Санкт-Петербург')]\n",
    "\n",
    "#добавляем новый столбец с расстоянием в км до центра питера\n",
    "data_new_spb['km_to_center_spb'] = data_new_spb['cityCenters_nearest'] / 1000\n",
    "\n",
    "#заменим пропуски и приведем к целочисленному виду \n",
    "data_new_spb['km_to_center_spb'] = data_new_spb['km_to_center_spb'].fillna(0).astype(int)\n",
    "\n",
    "#проверим уникальные значения\n",
    "data_new_spb['km_to_center_spb'].unique()\n",
    "\n",
    "#посчитаем цену одного кв.метра в спб и добавим в новый столбец\n",
    "data_new_spb['price_1m_spb'] = data_new_spb['last_price'] / data_new_spb['total_area']\n",
    "\n",
    "#вычислим среднюю цену каждого км\n",
    "\n",
    "mean_km = data_new_spb.groupby('km_to_center_spb')['price_1m_spb'].mean().sort_values(ascending=False)\n",
    "mean_km.plot(title='средняя цена каждого км', grid=True,kind='bar',figsize=(9,9))\n",
    "plt.show()"
   ]
  },
  {
   "cell_type": "markdown",
   "metadata": {},
   "source": [
    "# Вывод\n",
    "Глядя на график можно увидеть что средняя цена за кв.м. очень высокая у квартир,которые находятся в пределах 10 км от центра. Дальше 10 км средняя цена на квартиры постепенно снижается.Есть выброс на 27 км,это может означать,что возможно там продается какая-нибудь элитная недвижимость,где нибудь в пригороде\n",
    "Мы видим,что чем дальше квартира от центра,тем меньше ее цена,люди стараются брать жилье ближе к центру по разным причинам,в основном можно предположить это связано непосредственно с их трудовой деятельностью,так как элементарно проще и быстрее добираться до работы. Так же ближе к центру больше развита инфраструктура и различные сервисы и меньше тратить времени на дорогу"
   ]
  },
  {
   "cell_type": "markdown",
   "metadata": {},
   "source": [
    "### Общий вывод"
   ]
  },
  {
   "cell_type": "markdown",
   "metadata": {},
   "source": [
    "#### Срок продажи квартиры\n",
    "\n",
    "Чаще всего квартиру продают за 95 дней. \n",
    "Если меньше 45 дней, то это быстро, если дольше 230 дней - это долго.\n",
    "Есть большое число квартир, проданных всего за несколько дней после публикации.\n",
    "Также есть варианты, которые продавались несколько десятков месяцев.\n",
    "\n"
   ]
  },
  {
   "cell_type": "markdown",
   "metadata": {},
   "source": [
    "#### Факторы, влияющие на стоимость\n",
    "\n",
    "На стоимость больше влияет кол-во комнат квартиры,но и так же сильно влияет площадь. Т.е. квартиры с большим кол-во комнат в приоритете,люди могут немного даже убрать приоритет с площади,возможно для того,что бы у их детей была например своя комната.\n",
    "Первый этаж значительно дешевле остальных вариантов. Также стоимость квартиры на последнем этаже ниже, чем на остальных, кроме первого."
   ]
  },
  {
   "cell_type": "markdown",
   "metadata": {},
   "source": [
    "#### Стоимость квадратного метра в топ-10 населённых пунктов\n",
    "\n",
    "Больше всего объявлений в Санкт-Петербурге - 15658, там же и дороже всего квадратный метр  - 113558\n",
    "\n",
    "Дешевле всего квадратный метр  на количество объявлений,всего лишь одно в Вахновой Каре - 11688"
   ]
  }
 ],
 "metadata": {
  "ExecuteTimeLog": [
   {
    "duration": 439,
    "start_time": "2023-02-15T16:15:36.701Z"
   },
   {
    "duration": 162,
    "start_time": "2023-02-15T16:17:13.371Z"
   },
   {
    "duration": 84,
    "start_time": "2023-02-15T16:19:52.212Z"
   },
   {
    "duration": 83,
    "start_time": "2023-02-15T16:20:02.218Z"
   },
   {
    "duration": 87,
    "start_time": "2023-02-15T16:20:09.192Z"
   },
   {
    "duration": 159,
    "start_time": "2023-02-15T16:20:45.220Z"
   },
   {
    "duration": 130,
    "start_time": "2023-02-15T16:21:13.539Z"
   },
   {
    "duration": 2598,
    "start_time": "2023-02-15T16:21:44.719Z"
   },
   {
    "duration": 2125,
    "start_time": "2023-02-15T16:21:52.141Z"
   },
   {
    "duration": 116,
    "start_time": "2023-02-15T16:22:33.439Z"
   },
   {
    "duration": 112,
    "start_time": "2023-02-15T16:22:40.295Z"
   },
   {
    "duration": 2816,
    "start_time": "2023-02-15T16:23:39.666Z"
   },
   {
    "duration": 2071,
    "start_time": "2023-02-15T16:23:47.473Z"
   },
   {
    "duration": 2287,
    "start_time": "2023-02-15T16:26:48.016Z"
   },
   {
    "duration": 57,
    "start_time": "2023-02-15T16:28:43.564Z"
   },
   {
    "duration": 68,
    "start_time": "2023-02-15T16:30:34.909Z"
   },
   {
    "duration": 45,
    "start_time": "2023-02-15T16:30:42.523Z"
   },
   {
    "duration": 34,
    "start_time": "2023-02-15T16:33:20.004Z"
   },
   {
    "duration": 17,
    "start_time": "2023-02-15T16:33:22.564Z"
   },
   {
    "duration": 2054,
    "start_time": "2023-02-15T16:33:25.040Z"
   },
   {
    "duration": 11,
    "start_time": "2023-02-15T16:36:55.366Z"
   },
   {
    "duration": 12,
    "start_time": "2023-02-15T16:40:07.527Z"
   },
   {
    "duration": 390,
    "start_time": "2023-02-15T16:59:37.771Z"
   },
   {
    "duration": 10,
    "start_time": "2023-02-15T16:59:48.219Z"
   },
   {
    "duration": 5,
    "start_time": "2023-02-15T17:12:28.731Z"
   },
   {
    "duration": 5,
    "start_time": "2023-02-15T17:12:31.330Z"
   },
   {
    "duration": 6,
    "start_time": "2023-02-15T17:12:38.406Z"
   },
   {
    "duration": 9,
    "start_time": "2023-02-15T17:12:43.413Z"
   },
   {
    "duration": 12306,
    "start_time": "2023-02-15T18:18:32.314Z"
   },
   {
    "duration": 9,
    "start_time": "2023-02-15T18:19:15.687Z"
   },
   {
    "duration": 5,
    "start_time": "2023-02-15T18:25:01.021Z"
   },
   {
    "duration": 10,
    "start_time": "2023-02-15T18:25:07.437Z"
   },
   {
    "duration": 8,
    "start_time": "2023-02-15T18:25:17.957Z"
   },
   {
    "duration": 8,
    "start_time": "2023-02-15T18:25:46.248Z"
   },
   {
    "duration": 16,
    "start_time": "2023-02-15T18:27:08.542Z"
   },
   {
    "duration": 17,
    "start_time": "2023-02-15T18:27:58.555Z"
   },
   {
    "duration": 7,
    "start_time": "2023-02-15T18:29:31.460Z"
   },
   {
    "duration": 9,
    "start_time": "2023-02-15T18:29:37.891Z"
   },
   {
    "duration": 11,
    "start_time": "2023-02-15T18:56:06.015Z"
   },
   {
    "duration": 10,
    "start_time": "2023-02-15T18:56:10.636Z"
   },
   {
    "duration": 10,
    "start_time": "2023-02-15T19:01:24.322Z"
   },
   {
    "duration": 13,
    "start_time": "2023-02-15T19:01:57.549Z"
   },
   {
    "duration": 10,
    "start_time": "2023-02-15T19:02:02.355Z"
   },
   {
    "duration": 1213,
    "start_time": "2023-02-15T19:02:09.685Z"
   },
   {
    "duration": 6,
    "start_time": "2023-02-15T19:02:35.096Z"
   },
   {
    "duration": 14,
    "start_time": "2023-02-15T19:02:37.476Z"
   },
   {
    "duration": 7,
    "start_time": "2023-02-15T19:02:53.849Z"
   },
   {
    "duration": 12,
    "start_time": "2023-02-15T19:03:51.991Z"
   },
   {
    "duration": 7,
    "start_time": "2023-02-15T19:04:09.280Z"
   },
   {
    "duration": 9,
    "start_time": "2023-02-15T19:04:11.508Z"
   },
   {
    "duration": 10,
    "start_time": "2023-02-15T19:04:55.095Z"
   },
   {
    "duration": 59,
    "start_time": "2023-02-15T19:05:04.960Z"
   },
   {
    "duration": 13,
    "start_time": "2023-02-15T19:05:39.289Z"
   },
   {
    "duration": 13,
    "start_time": "2023-02-15T19:08:07.702Z"
   },
   {
    "duration": 10,
    "start_time": "2023-02-15T19:09:06.781Z"
   },
   {
    "duration": 12,
    "start_time": "2023-02-15T19:09:11.397Z"
   },
   {
    "duration": 10,
    "start_time": "2023-02-15T19:09:13.570Z"
   },
   {
    "duration": 12,
    "start_time": "2023-02-15T19:09:54.092Z"
   },
   {
    "duration": 11,
    "start_time": "2023-02-15T19:09:56.678Z"
   },
   {
    "duration": 8,
    "start_time": "2023-02-15T19:17:22.919Z"
   },
   {
    "duration": 43,
    "start_time": "2023-02-15T19:20:14.563Z"
   },
   {
    "duration": 11,
    "start_time": "2023-02-15T19:22:44.077Z"
   },
   {
    "duration": 10,
    "start_time": "2023-02-15T19:22:46.046Z"
   },
   {
    "duration": 13,
    "start_time": "2023-02-15T19:22:56.384Z"
   },
   {
    "duration": 11,
    "start_time": "2023-02-15T19:24:20.646Z"
   },
   {
    "duration": 11,
    "start_time": "2023-02-15T19:24:23.983Z"
   },
   {
    "duration": 76,
    "start_time": "2023-02-15T19:27:53.677Z"
   },
   {
    "duration": 18,
    "start_time": "2023-02-15T19:42:10.671Z"
   },
   {
    "duration": 8,
    "start_time": "2023-02-15T19:42:12.723Z"
   },
   {
    "duration": 6,
    "start_time": "2023-02-15T19:51:26.512Z"
   },
   {
    "duration": 5,
    "start_time": "2023-02-15T19:51:28.192Z"
   },
   {
    "duration": 5,
    "start_time": "2023-02-15T19:51:30.126Z"
   },
   {
    "duration": 8,
    "start_time": "2023-02-15T19:51:36.762Z"
   },
   {
    "duration": 10,
    "start_time": "2023-02-15T19:52:30.430Z"
   },
   {
    "duration": 32,
    "start_time": "2023-02-15T20:01:57.063Z"
   },
   {
    "duration": 22,
    "start_time": "2023-02-15T20:02:46.860Z"
   },
   {
    "duration": 11,
    "start_time": "2023-02-15T20:02:51.670Z"
   },
   {
    "duration": 16,
    "start_time": "2023-02-15T20:04:55.058Z"
   },
   {
    "duration": 8898,
    "start_time": "2023-02-15T20:05:08.084Z"
   },
   {
    "duration": 15,
    "start_time": "2023-02-15T20:05:17.032Z"
   },
   {
    "duration": 5,
    "start_time": "2023-02-15T20:22:16.138Z"
   },
   {
    "duration": 15,
    "start_time": "2023-02-15T20:22:24.134Z"
   },
   {
    "duration": 9,
    "start_time": "2023-02-15T20:23:58.484Z"
   },
   {
    "duration": 9,
    "start_time": "2023-02-15T20:24:43.372Z"
   },
   {
    "duration": 67,
    "start_time": "2023-02-15T20:25:41.692Z"
   },
   {
    "duration": 74,
    "start_time": "2023-02-15T20:26:37.967Z"
   },
   {
    "duration": 5,
    "start_time": "2023-02-15T20:27:11.478Z"
   },
   {
    "duration": 16,
    "start_time": "2023-02-15T20:27:16.636Z"
   },
   {
    "duration": 305,
    "start_time": "2023-02-15T20:28:07.197Z"
   },
   {
    "duration": 305,
    "start_time": "2023-02-15T20:28:13.001Z"
   },
   {
    "duration": 312,
    "start_time": "2023-02-15T20:28:16.862Z"
   },
   {
    "duration": 8,
    "start_time": "2023-02-15T20:28:26.418Z"
   },
   {
    "duration": 8787,
    "start_time": "2023-02-15T20:31:05.324Z"
   },
   {
    "duration": 15,
    "start_time": "2023-02-15T20:31:14.153Z"
   },
   {
    "duration": 12,
    "start_time": "2023-02-15T21:11:50.209Z"
   },
   {
    "duration": 44,
    "start_time": "2023-02-15T21:13:24.432Z"
   },
   {
    "duration": 8,
    "start_time": "2023-02-15T21:14:55.574Z"
   },
   {
    "duration": 41,
    "start_time": "2023-02-15T21:15:29.606Z"
   },
   {
    "duration": 6,
    "start_time": "2023-02-15T21:16:00.699Z"
   },
   {
    "duration": 5,
    "start_time": "2023-02-15T21:18:00.656Z"
   },
   {
    "duration": 6,
    "start_time": "2023-02-15T21:18:06.550Z"
   },
   {
    "duration": 15,
    "start_time": "2023-02-15T21:23:12.293Z"
   },
   {
    "duration": 11,
    "start_time": "2023-02-15T21:23:36.167Z"
   },
   {
    "duration": 7,
    "start_time": "2023-02-15T21:24:03.619Z"
   },
   {
    "duration": 135,
    "start_time": "2023-02-15T21:30:10.237Z"
   },
   {
    "duration": 251,
    "start_time": "2023-02-15T21:32:42.289Z"
   },
   {
    "duration": 148,
    "start_time": "2023-02-15T21:34:19.629Z"
   },
   {
    "duration": 146,
    "start_time": "2023-02-15T21:34:32.965Z"
   },
   {
    "duration": 147,
    "start_time": "2023-02-15T21:36:22.743Z"
   },
   {
    "duration": 144,
    "start_time": "2023-02-15T21:36:32.047Z"
   },
   {
    "duration": 188,
    "start_time": "2023-02-15T21:36:38.339Z"
   },
   {
    "duration": 158,
    "start_time": "2023-02-15T21:37:26.298Z"
   },
   {
    "duration": 141,
    "start_time": "2023-02-15T21:37:43.277Z"
   },
   {
    "duration": 71,
    "start_time": "2023-02-15T21:43:49.664Z"
   },
   {
    "duration": 46,
    "start_time": "2023-02-15T21:44:16.815Z"
   },
   {
    "duration": 6,
    "start_time": "2023-02-15T21:45:47.064Z"
   },
   {
    "duration": 78,
    "start_time": "2023-02-15T21:46:05.609Z"
   },
   {
    "duration": 0,
    "start_time": "2023-02-15T21:46:05.689Z"
   },
   {
    "duration": 0,
    "start_time": "2023-02-15T21:46:05.690Z"
   },
   {
    "duration": 0,
    "start_time": "2023-02-15T21:46:05.692Z"
   },
   {
    "duration": 0,
    "start_time": "2023-02-15T21:46:05.694Z"
   },
   {
    "duration": 0,
    "start_time": "2023-02-15T21:46:05.695Z"
   },
   {
    "duration": 0,
    "start_time": "2023-02-15T21:46:05.697Z"
   },
   {
    "duration": 40,
    "start_time": "2023-02-15T21:46:28.518Z"
   },
   {
    "duration": 8,
    "start_time": "2023-02-15T21:46:38.884Z"
   },
   {
    "duration": 75,
    "start_time": "2023-02-15T21:46:45.797Z"
   },
   {
    "duration": 0,
    "start_time": "2023-02-15T21:46:45.874Z"
   },
   {
    "duration": 0,
    "start_time": "2023-02-15T21:46:45.876Z"
   },
   {
    "duration": 0,
    "start_time": "2023-02-15T21:46:45.877Z"
   },
   {
    "duration": 0,
    "start_time": "2023-02-15T21:46:45.878Z"
   },
   {
    "duration": 0,
    "start_time": "2023-02-15T21:46:45.879Z"
   },
   {
    "duration": 0,
    "start_time": "2023-02-15T21:46:45.881Z"
   },
   {
    "duration": 0,
    "start_time": "2023-02-15T21:46:45.881Z"
   },
   {
    "duration": 7,
    "start_time": "2023-02-15T21:46:49.486Z"
   },
   {
    "duration": 6,
    "start_time": "2023-02-15T21:46:56.677Z"
   },
   {
    "duration": 7,
    "start_time": "2023-02-15T21:47:17.921Z"
   },
   {
    "duration": 6,
    "start_time": "2023-02-15T21:47:25.406Z"
   },
   {
    "duration": 507,
    "start_time": "2023-02-15T21:47:42.394Z"
   },
   {
    "duration": 33,
    "start_time": "2023-02-15T21:47:42.903Z"
   },
   {
    "duration": 17,
    "start_time": "2023-02-15T21:47:42.938Z"
   },
   {
    "duration": 2320,
    "start_time": "2023-02-15T21:47:42.957Z"
   },
   {
    "duration": 9,
    "start_time": "2023-02-15T21:47:45.279Z"
   },
   {
    "duration": 8333,
    "start_time": "2023-02-15T21:47:45.290Z"
   },
   {
    "duration": 8,
    "start_time": "2023-02-15T21:47:53.625Z"
   },
   {
    "duration": 15,
    "start_time": "2023-02-15T21:47:53.646Z"
   },
   {
    "duration": 7,
    "start_time": "2023-02-15T21:47:53.876Z"
   },
   {
    "duration": 220,
    "start_time": "2023-02-15T21:54:18.280Z"
   },
   {
    "duration": 148,
    "start_time": "2023-02-15T21:54:43.702Z"
   },
   {
    "duration": 159,
    "start_time": "2023-02-15T21:57:16.096Z"
   },
   {
    "duration": 170,
    "start_time": "2023-02-15T22:01:02.581Z"
   },
   {
    "duration": 170,
    "start_time": "2023-02-15T22:01:19.726Z"
   },
   {
    "duration": 168,
    "start_time": "2023-02-15T22:01:29.520Z"
   },
   {
    "duration": 5,
    "start_time": "2023-02-15T22:11:05.779Z"
   },
   {
    "duration": 6,
    "start_time": "2023-02-15T22:11:17.173Z"
   },
   {
    "duration": 8,
    "start_time": "2023-02-15T22:11:26.968Z"
   },
   {
    "duration": 72,
    "start_time": "2023-02-15T22:11:30.518Z"
   },
   {
    "duration": 5,
    "start_time": "2023-02-15T22:11:34.574Z"
   },
   {
    "duration": 9,
    "start_time": "2023-02-15T22:15:29.895Z"
   },
   {
    "duration": 9,
    "start_time": "2023-02-15T22:18:46.735Z"
   },
   {
    "duration": 9,
    "start_time": "2023-02-15T22:18:52.006Z"
   },
   {
    "duration": 5,
    "start_time": "2023-02-15T22:19:03.220Z"
   },
   {
    "duration": 47,
    "start_time": "2023-02-17T09:25:07.983Z"
   },
   {
    "duration": 7,
    "start_time": "2023-02-17T09:25:15.323Z"
   },
   {
    "duration": 714,
    "start_time": "2023-02-17T09:25:24.899Z"
   },
   {
    "duration": 32,
    "start_time": "2023-02-17T09:25:25.615Z"
   },
   {
    "duration": 23,
    "start_time": "2023-02-17T09:25:25.648Z"
   },
   {
    "duration": 2435,
    "start_time": "2023-02-17T09:25:25.672Z"
   },
   {
    "duration": 11,
    "start_time": "2023-02-17T09:25:28.110Z"
   },
   {
    "duration": 49,
    "start_time": "2023-02-17T09:25:28.123Z"
   },
   {
    "duration": 9,
    "start_time": "2023-02-17T09:25:28.174Z"
   },
   {
    "duration": 209,
    "start_time": "2023-02-17T09:25:28.185Z"
   },
   {
    "duration": 13,
    "start_time": "2023-02-17T09:25:28.396Z"
   },
   {
    "duration": 24,
    "start_time": "2023-02-17T09:25:28.411Z"
   },
   {
    "duration": 10,
    "start_time": "2023-02-17T09:26:03.653Z"
   },
   {
    "duration": 56,
    "start_time": "2023-02-17T09:34:09.480Z"
   },
   {
    "duration": 13,
    "start_time": "2023-02-17T09:34:36.311Z"
   },
   {
    "duration": 66,
    "start_time": "2023-02-17T09:47:45.416Z"
   },
   {
    "duration": 9,
    "start_time": "2023-02-17T09:51:16.732Z"
   },
   {
    "duration": 518,
    "start_time": "2023-02-17T09:51:35.606Z"
   },
   {
    "duration": 33,
    "start_time": "2023-02-17T09:51:36.126Z"
   },
   {
    "duration": 50,
    "start_time": "2023-02-17T09:51:36.160Z"
   },
   {
    "duration": 2278,
    "start_time": "2023-02-17T09:51:36.212Z"
   },
   {
    "duration": 10,
    "start_time": "2023-02-17T09:51:38.492Z"
   },
   {
    "duration": 31,
    "start_time": "2023-02-17T09:51:38.504Z"
   },
   {
    "duration": 8,
    "start_time": "2023-02-17T09:51:38.537Z"
   },
   {
    "duration": 203,
    "start_time": "2023-02-17T09:51:38.547Z"
   },
   {
    "duration": 6,
    "start_time": "2023-02-17T09:51:38.752Z"
   },
   {
    "duration": 17,
    "start_time": "2023-02-17T09:51:38.760Z"
   },
   {
    "duration": 66,
    "start_time": "2023-02-17T09:51:38.779Z"
   },
   {
    "duration": 8,
    "start_time": "2023-02-17T09:51:38.847Z"
   },
   {
    "duration": 45,
    "start_time": "2023-02-17T09:52:08.386Z"
   },
   {
    "duration": 44,
    "start_time": "2023-02-17T09:53:15.597Z"
   },
   {
    "duration": 110,
    "start_time": "2023-02-17T09:53:22.351Z"
   },
   {
    "duration": 43,
    "start_time": "2023-02-17T09:53:34.176Z"
   },
   {
    "duration": 4,
    "start_time": "2023-02-17T09:55:50.865Z"
   },
   {
    "duration": 41,
    "start_time": "2023-02-17T09:57:47.012Z"
   },
   {
    "duration": 20,
    "start_time": "2023-02-17T10:07:34.405Z"
   },
   {
    "duration": 38,
    "start_time": "2023-02-17T10:07:52.118Z"
   },
   {
    "duration": 12,
    "start_time": "2023-02-17T10:10:43.166Z"
   },
   {
    "duration": 10,
    "start_time": "2023-02-17T10:10:58.348Z"
   },
   {
    "duration": 4,
    "start_time": "2023-02-17T10:11:45.848Z"
   },
   {
    "duration": 34,
    "start_time": "2023-02-17T10:16:08.633Z"
   },
   {
    "duration": 60,
    "start_time": "2023-02-17T10:18:44.588Z"
   },
   {
    "duration": 49,
    "start_time": "2023-02-17T10:20:47.103Z"
   },
   {
    "duration": 94,
    "start_time": "2023-02-17T10:21:26.509Z"
   },
   {
    "duration": 127,
    "start_time": "2023-02-17T10:21:45.803Z"
   },
   {
    "duration": 530,
    "start_time": "2023-02-17T10:22:21.026Z"
   },
   {
    "duration": 30,
    "start_time": "2023-02-17T10:22:21.558Z"
   },
   {
    "duration": 14,
    "start_time": "2023-02-17T10:22:21.590Z"
   },
   {
    "duration": 2313,
    "start_time": "2023-02-17T10:22:21.606Z"
   },
   {
    "duration": 9,
    "start_time": "2023-02-17T10:22:23.922Z"
   },
   {
    "duration": 29,
    "start_time": "2023-02-17T10:22:23.933Z"
   },
   {
    "duration": 8,
    "start_time": "2023-02-17T10:22:23.964Z"
   },
   {
    "duration": 196,
    "start_time": "2023-02-17T10:22:23.973Z"
   },
   {
    "duration": 6,
    "start_time": "2023-02-17T10:22:24.171Z"
   },
   {
    "duration": 12,
    "start_time": "2023-02-17T10:22:24.179Z"
   },
   {
    "duration": 57,
    "start_time": "2023-02-17T10:22:24.193Z"
   },
   {
    "duration": 65,
    "start_time": "2023-02-17T10:22:24.252Z"
   },
   {
    "duration": 36,
    "start_time": "2023-02-17T10:22:24.335Z"
   },
   {
    "duration": 59,
    "start_time": "2023-02-17T10:22:43.609Z"
   },
   {
    "duration": 20,
    "start_time": "2023-02-17T10:22:54.425Z"
   },
   {
    "duration": 502,
    "start_time": "2023-02-17T10:23:28.270Z"
   },
   {
    "duration": 25,
    "start_time": "2023-02-17T10:23:28.775Z"
   },
   {
    "duration": 20,
    "start_time": "2023-02-17T10:23:28.802Z"
   },
   {
    "duration": 2212,
    "start_time": "2023-02-17T10:23:28.836Z"
   },
   {
    "duration": 11,
    "start_time": "2023-02-17T10:23:31.049Z"
   },
   {
    "duration": 70,
    "start_time": "2023-02-17T10:23:31.062Z"
   },
   {
    "duration": 45,
    "start_time": "2023-02-17T10:23:31.133Z"
   },
   {
    "duration": 207,
    "start_time": "2023-02-17T10:23:31.180Z"
   },
   {
    "duration": 6,
    "start_time": "2023-02-17T10:23:31.389Z"
   },
   {
    "duration": 62,
    "start_time": "2023-02-17T10:23:31.399Z"
   },
   {
    "duration": 77,
    "start_time": "2023-02-17T10:23:31.463Z"
   },
   {
    "duration": 17,
    "start_time": "2023-02-17T10:23:31.542Z"
   },
   {
    "duration": 60,
    "start_time": "2023-02-17T10:23:31.561Z"
   },
   {
    "duration": 87,
    "start_time": "2023-02-17T10:23:48.722Z"
   },
   {
    "duration": 5,
    "start_time": "2023-02-17T10:28:42.662Z"
   },
   {
    "duration": 12,
    "start_time": "2023-02-17T10:32:31.297Z"
   },
   {
    "duration": 8,
    "start_time": "2023-02-17T10:38:13.695Z"
   },
   {
    "duration": 5,
    "start_time": "2023-02-17T10:38:19.825Z"
   },
   {
    "duration": 15,
    "start_time": "2023-02-17T10:38:43.279Z"
   },
   {
    "duration": 13,
    "start_time": "2023-02-17T10:38:52.386Z"
   },
   {
    "duration": 5,
    "start_time": "2023-02-17T10:39:30.307Z"
   },
   {
    "duration": 76,
    "start_time": "2023-02-17T10:47:12.961Z"
   },
   {
    "duration": 160,
    "start_time": "2023-02-17T10:47:59.618Z"
   },
   {
    "duration": 41,
    "start_time": "2023-02-17T10:52:49.896Z"
   },
   {
    "duration": 42,
    "start_time": "2023-02-17T10:53:30.454Z"
   },
   {
    "duration": 9,
    "start_time": "2023-02-17T10:54:02.964Z"
   },
   {
    "duration": 6,
    "start_time": "2023-02-17T10:54:13.912Z"
   },
   {
    "duration": 6,
    "start_time": "2023-02-17T10:54:19.039Z"
   },
   {
    "duration": 7,
    "start_time": "2023-02-17T10:54:51.658Z"
   },
   {
    "duration": 73,
    "start_time": "2023-02-17T11:10:07.119Z"
   },
   {
    "duration": 8,
    "start_time": "2023-02-17T11:12:33.165Z"
   },
   {
    "duration": 207,
    "start_time": "2023-02-17T11:13:30.838Z"
   },
   {
    "duration": 215,
    "start_time": "2023-02-17T11:13:54.760Z"
   },
   {
    "duration": 383,
    "start_time": "2023-02-17T11:15:31.624Z"
   },
   {
    "duration": 616,
    "start_time": "2023-02-17T11:15:39.002Z"
   },
   {
    "duration": 465,
    "start_time": "2023-02-17T11:15:47.748Z"
   },
   {
    "duration": 382,
    "start_time": "2023-02-17T11:17:58.913Z"
   },
   {
    "duration": 6,
    "start_time": "2023-02-17T11:23:04.925Z"
   },
   {
    "duration": 8,
    "start_time": "2023-02-17T11:25:12.967Z"
   },
   {
    "duration": 15,
    "start_time": "2023-02-17T11:26:14.419Z"
   },
   {
    "duration": 10,
    "start_time": "2023-02-17T11:26:39.482Z"
   },
   {
    "duration": 22,
    "start_time": "2023-02-17T11:26:54.916Z"
   },
   {
    "duration": 60,
    "start_time": "2023-02-17T11:30:50.013Z"
   },
   {
    "duration": 49,
    "start_time": "2023-02-19T13:18:13.981Z"
   },
   {
    "duration": 5,
    "start_time": "2023-02-19T13:18:47.855Z"
   },
   {
    "duration": 6,
    "start_time": "2023-02-19T13:18:55.937Z"
   },
   {
    "duration": 588,
    "start_time": "2023-02-19T13:19:04.600Z"
   },
   {
    "duration": 24,
    "start_time": "2023-02-19T13:19:05.189Z"
   },
   {
    "duration": 15,
    "start_time": "2023-02-19T13:19:05.214Z"
   },
   {
    "duration": 2298,
    "start_time": "2023-02-19T13:19:05.230Z"
   },
   {
    "duration": 9,
    "start_time": "2023-02-19T13:19:07.531Z"
   },
   {
    "duration": 29,
    "start_time": "2023-02-19T13:19:07.542Z"
   },
   {
    "duration": 8,
    "start_time": "2023-02-19T13:19:07.573Z"
   },
   {
    "duration": 201,
    "start_time": "2023-02-19T13:19:07.582Z"
   },
   {
    "duration": 6,
    "start_time": "2023-02-19T13:19:07.784Z"
   },
   {
    "duration": 18,
    "start_time": "2023-02-19T13:19:07.792Z"
   },
   {
    "duration": 4,
    "start_time": "2023-02-19T13:19:07.812Z"
   },
   {
    "duration": 13,
    "start_time": "2023-02-19T13:19:07.818Z"
   },
   {
    "duration": 37,
    "start_time": "2023-02-19T13:19:07.832Z"
   },
   {
    "duration": 464,
    "start_time": "2023-02-19T13:19:07.872Z"
   },
   {
    "duration": 5,
    "start_time": "2023-02-19T13:19:08.339Z"
   },
   {
    "duration": 34,
    "start_time": "2023-02-19T13:19:08.346Z"
   },
   {
    "duration": 5,
    "start_time": "2023-02-19T13:19:08.381Z"
   },
   {
    "duration": 31,
    "start_time": "2023-02-19T13:19:12.058Z"
   },
   {
    "duration": 5,
    "start_time": "2023-02-19T13:19:17.484Z"
   },
   {
    "duration": 140,
    "start_time": "2023-02-19T13:20:03.216Z"
   },
   {
    "duration": 113,
    "start_time": "2023-02-19T13:20:36.603Z"
   },
   {
    "duration": 128,
    "start_time": "2023-02-19T13:20:44.615Z"
   },
   {
    "duration": 133,
    "start_time": "2023-02-19T13:20:50.143Z"
   },
   {
    "duration": 84,
    "start_time": "2023-02-19T13:22:19.482Z"
   },
   {
    "duration": 83,
    "start_time": "2023-02-19T13:22:42.310Z"
   },
   {
    "duration": 707,
    "start_time": "2023-02-19T13:23:08.649Z"
   },
   {
    "duration": 8,
    "start_time": "2023-02-19T13:23:30.738Z"
   },
   {
    "duration": 138,
    "start_time": "2023-02-19T13:25:14.332Z"
   },
   {
    "duration": 155,
    "start_time": "2023-02-19T13:25:46.260Z"
   },
   {
    "duration": 236,
    "start_time": "2023-02-19T13:26:25.238Z"
   },
   {
    "duration": 68,
    "start_time": "2023-02-19T13:27:18.078Z"
   },
   {
    "duration": 149,
    "start_time": "2023-02-19T13:27:24.146Z"
   },
   {
    "duration": 135,
    "start_time": "2023-02-19T13:27:30.994Z"
   },
   {
    "duration": 142,
    "start_time": "2023-02-19T13:27:46.342Z"
   },
   {
    "duration": 149,
    "start_time": "2023-02-19T13:27:55.010Z"
   },
   {
    "duration": 160,
    "start_time": "2023-02-19T13:28:04.371Z"
   },
   {
    "duration": 160,
    "start_time": "2023-02-19T13:28:12.021Z"
   },
   {
    "duration": 162,
    "start_time": "2023-02-19T13:28:16.987Z"
   },
   {
    "duration": 159,
    "start_time": "2023-02-19T13:28:22.374Z"
   },
   {
    "duration": 165,
    "start_time": "2023-02-19T13:28:26.659Z"
   },
   {
    "duration": 163,
    "start_time": "2023-02-19T13:28:35.950Z"
   },
   {
    "duration": 168,
    "start_time": "2023-02-19T13:29:12.625Z"
   },
   {
    "duration": 189,
    "start_time": "2023-02-19T13:29:18.385Z"
   },
   {
    "duration": 300,
    "start_time": "2023-02-19T13:29:27.663Z"
   },
   {
    "duration": 282,
    "start_time": "2023-02-19T13:29:33.536Z"
   },
   {
    "duration": 253,
    "start_time": "2023-02-19T13:29:38.509Z"
   },
   {
    "duration": 133,
    "start_time": "2023-02-19T13:34:05.464Z"
   },
   {
    "duration": 211,
    "start_time": "2023-02-19T13:34:13.926Z"
   },
   {
    "duration": 128,
    "start_time": "2023-02-19T13:34:27.794Z"
   },
   {
    "duration": 125,
    "start_time": "2023-02-19T13:34:39.072Z"
   },
   {
    "duration": 147,
    "start_time": "2023-02-19T13:34:45.805Z"
   },
   {
    "duration": 107,
    "start_time": "2023-02-19T13:35:02.781Z"
   },
   {
    "duration": 145,
    "start_time": "2023-02-19T13:35:08.331Z"
   },
   {
    "duration": 134,
    "start_time": "2023-02-19T13:35:12.838Z"
   },
   {
    "duration": 158,
    "start_time": "2023-02-19T13:35:26.024Z"
   },
   {
    "duration": 173,
    "start_time": "2023-02-19T13:35:34.833Z"
   },
   {
    "duration": 181,
    "start_time": "2023-02-19T13:35:41.029Z"
   },
   {
    "duration": 183,
    "start_time": "2023-02-19T13:35:45.743Z"
   },
   {
    "duration": 166,
    "start_time": "2023-02-19T13:36:08.187Z"
   },
   {
    "duration": 273,
    "start_time": "2023-02-19T13:37:04.763Z"
   },
   {
    "duration": 168,
    "start_time": "2023-02-19T13:37:13.844Z"
   },
   {
    "duration": 163,
    "start_time": "2023-02-19T13:39:05.650Z"
   },
   {
    "duration": 176,
    "start_time": "2023-02-19T13:39:22.606Z"
   },
   {
    "duration": 180,
    "start_time": "2023-02-19T13:39:31.182Z"
   },
   {
    "duration": 207,
    "start_time": "2023-02-19T13:39:39.260Z"
   },
   {
    "duration": 232,
    "start_time": "2023-02-19T13:40:06.662Z"
   },
   {
    "duration": 188,
    "start_time": "2023-02-19T13:41:09.011Z"
   },
   {
    "duration": 228,
    "start_time": "2023-02-19T13:41:19.824Z"
   },
   {
    "duration": 146,
    "start_time": "2023-02-19T13:41:27.433Z"
   },
   {
    "duration": 148,
    "start_time": "2023-02-19T13:41:49.770Z"
   },
   {
    "duration": 133,
    "start_time": "2023-02-19T13:46:41.671Z"
   },
   {
    "duration": 5,
    "start_time": "2023-02-19T13:50:04.838Z"
   },
   {
    "duration": 8,
    "start_time": "2023-02-19T13:50:10.059Z"
   },
   {
    "duration": 10,
    "start_time": "2023-02-19T13:50:21.221Z"
   },
   {
    "duration": 8,
    "start_time": "2023-02-19T13:50:50.460Z"
   },
   {
    "duration": 10,
    "start_time": "2023-02-19T13:50:57.473Z"
   },
   {
    "duration": 117,
    "start_time": "2023-02-19T13:51:48.479Z"
   },
   {
    "duration": 8,
    "start_time": "2023-02-19T13:52:43.362Z"
   },
   {
    "duration": 262,
    "start_time": "2023-02-19T13:52:47.165Z"
   },
   {
    "duration": 139,
    "start_time": "2023-02-19T13:53:15.940Z"
   },
   {
    "duration": 119,
    "start_time": "2023-02-19T13:55:21.173Z"
   },
   {
    "duration": 68,
    "start_time": "2023-02-19T13:55:29.677Z"
   },
   {
    "duration": 118,
    "start_time": "2023-02-19T13:55:33.161Z"
   },
   {
    "duration": 185,
    "start_time": "2023-02-19T13:55:39.203Z"
   },
   {
    "duration": 73,
    "start_time": "2023-02-19T13:55:52.812Z"
   },
   {
    "duration": 71,
    "start_time": "2023-02-19T13:55:58.661Z"
   },
   {
    "duration": 184,
    "start_time": "2023-02-19T13:56:02.577Z"
   },
   {
    "duration": 157,
    "start_time": "2023-02-19T13:56:12.428Z"
   },
   {
    "duration": 170,
    "start_time": "2023-02-19T13:56:18.397Z"
   },
   {
    "duration": 122,
    "start_time": "2023-02-19T13:56:40.882Z"
   },
   {
    "duration": 136,
    "start_time": "2023-02-19T13:57:42.599Z"
   },
   {
    "duration": 115,
    "start_time": "2023-02-19T13:57:48.068Z"
   },
   {
    "duration": 174,
    "start_time": "2023-02-19T13:57:52.948Z"
   },
   {
    "duration": 147,
    "start_time": "2023-02-19T13:58:33.233Z"
   },
   {
    "duration": 136,
    "start_time": "2023-02-19T13:58:45.076Z"
   },
   {
    "duration": 153,
    "start_time": "2023-02-19T13:58:52.853Z"
   },
   {
    "duration": 154,
    "start_time": "2023-02-19T13:59:31.022Z"
   },
   {
    "duration": 151,
    "start_time": "2023-02-19T14:03:05.408Z"
   },
   {
    "duration": 146,
    "start_time": "2023-02-19T14:03:53.885Z"
   },
   {
    "duration": 184,
    "start_time": "2023-02-19T14:04:07.197Z"
   },
   {
    "duration": 158,
    "start_time": "2023-02-19T14:04:22.834Z"
   },
   {
    "duration": 155,
    "start_time": "2023-02-19T14:05:04.663Z"
   },
   {
    "duration": 143,
    "start_time": "2023-02-19T14:05:11.233Z"
   },
   {
    "duration": 348,
    "start_time": "2023-02-19T14:05:17.930Z"
   },
   {
    "duration": 147,
    "start_time": "2023-02-19T14:05:24.800Z"
   },
   {
    "duration": 9,
    "start_time": "2023-02-19T14:06:03.624Z"
   },
   {
    "duration": 127,
    "start_time": "2023-02-19T14:23:42.538Z"
   },
   {
    "duration": 8,
    "start_time": "2023-02-19T14:23:48.993Z"
   },
   {
    "duration": 4,
    "start_time": "2023-02-19T14:26:36.480Z"
   },
   {
    "duration": 133,
    "start_time": "2023-02-19T14:26:40.545Z"
   },
   {
    "duration": 76,
    "start_time": "2023-02-19T14:27:47.986Z"
   },
   {
    "duration": 145,
    "start_time": "2023-02-19T14:27:52.931Z"
   },
   {
    "duration": 138,
    "start_time": "2023-02-19T14:28:06.045Z"
   },
   {
    "duration": 130,
    "start_time": "2023-02-19T14:28:18.202Z"
   },
   {
    "duration": 8,
    "start_time": "2023-02-19T14:28:54.976Z"
   },
   {
    "duration": 131,
    "start_time": "2023-02-19T14:33:25.666Z"
   },
   {
    "duration": 184,
    "start_time": "2023-02-19T14:35:18.905Z"
   },
   {
    "duration": 6,
    "start_time": "2023-02-19T14:36:15.156Z"
   },
   {
    "duration": 133,
    "start_time": "2023-02-19T14:36:19.297Z"
   },
   {
    "duration": 167,
    "start_time": "2023-02-19T14:36:27.300Z"
   },
   {
    "duration": 123,
    "start_time": "2023-02-19T14:36:56.008Z"
   },
   {
    "duration": 138,
    "start_time": "2023-02-19T14:44:56.957Z"
   },
   {
    "duration": 5,
    "start_time": "2023-02-19T14:45:06.322Z"
   },
   {
    "duration": 135,
    "start_time": "2023-02-19T14:45:14.921Z"
   },
   {
    "duration": 142,
    "start_time": "2023-02-19T14:45:27.362Z"
   },
   {
    "duration": 124,
    "start_time": "2023-02-19T14:45:45.825Z"
   },
   {
    "duration": 128,
    "start_time": "2023-02-19T14:46:04.510Z"
   },
   {
    "duration": 129,
    "start_time": "2023-02-19T14:46:11.039Z"
   },
   {
    "duration": 129,
    "start_time": "2023-02-19T14:46:14.865Z"
   },
   {
    "duration": 130,
    "start_time": "2023-02-19T14:46:58.189Z"
   },
   {
    "duration": 125,
    "start_time": "2023-02-19T14:47:07.675Z"
   },
   {
    "duration": 6,
    "start_time": "2023-02-19T14:47:17.524Z"
   },
   {
    "duration": 4,
    "start_time": "2023-02-19T14:47:26.906Z"
   },
   {
    "duration": 8,
    "start_time": "2023-02-19T14:48:05.871Z"
   },
   {
    "duration": 8,
    "start_time": "2023-02-19T14:48:16.845Z"
   },
   {
    "duration": 6,
    "start_time": "2023-02-19T14:48:30.188Z"
   },
   {
    "duration": 126,
    "start_time": "2023-02-19T14:50:15.247Z"
   },
   {
    "duration": 206,
    "start_time": "2023-02-19T14:50:29.495Z"
   },
   {
    "duration": 393,
    "start_time": "2023-02-19T14:51:07.463Z"
   },
   {
    "duration": 242,
    "start_time": "2023-02-19T14:51:16.378Z"
   },
   {
    "duration": 218,
    "start_time": "2023-02-19T14:51:23.959Z"
   },
   {
    "duration": 233,
    "start_time": "2023-02-19T14:51:46.267Z"
   },
   {
    "duration": 222,
    "start_time": "2023-02-19T14:51:58.222Z"
   },
   {
    "duration": 259,
    "start_time": "2023-02-19T14:58:51.671Z"
   },
   {
    "duration": 231,
    "start_time": "2023-02-19T14:59:08.272Z"
   },
   {
    "duration": 5,
    "start_time": "2023-02-19T14:59:28.577Z"
   },
   {
    "duration": 132,
    "start_time": "2023-02-19T14:59:35.558Z"
   },
   {
    "duration": 136,
    "start_time": "2023-02-19T14:59:49.170Z"
   },
   {
    "duration": 139,
    "start_time": "2023-02-19T15:00:11.554Z"
   },
   {
    "duration": 229,
    "start_time": "2023-02-19T15:01:02.364Z"
   },
   {
    "duration": 130,
    "start_time": "2023-02-19T15:01:07.853Z"
   },
   {
    "duration": 146,
    "start_time": "2023-02-19T15:01:22.510Z"
   },
   {
    "duration": 324,
    "start_time": "2023-02-19T15:01:52.105Z"
   },
   {
    "duration": 122,
    "start_time": "2023-02-19T15:01:59.998Z"
   },
   {
    "duration": 113,
    "start_time": "2023-02-19T15:02:06.583Z"
   },
   {
    "duration": 140,
    "start_time": "2023-02-19T15:02:11.615Z"
   },
   {
    "duration": 143,
    "start_time": "2023-02-19T15:02:23.556Z"
   },
   {
    "duration": 142,
    "start_time": "2023-02-19T15:02:37.342Z"
   },
   {
    "duration": 120,
    "start_time": "2023-02-19T15:02:55.428Z"
   },
   {
    "duration": 147,
    "start_time": "2023-02-19T15:03:01.906Z"
   },
   {
    "duration": 150,
    "start_time": "2023-02-19T15:03:06.422Z"
   },
   {
    "duration": 8,
    "start_time": "2023-02-19T15:05:25.863Z"
   },
   {
    "duration": 123,
    "start_time": "2023-02-19T15:05:31.063Z"
   },
   {
    "duration": 125,
    "start_time": "2023-02-19T15:05:46.963Z"
   },
   {
    "duration": 148,
    "start_time": "2023-02-19T15:06:03.708Z"
   },
   {
    "duration": 142,
    "start_time": "2023-02-19T15:06:18.043Z"
   },
   {
    "duration": 141,
    "start_time": "2023-02-19T15:06:29.486Z"
   },
   {
    "duration": 136,
    "start_time": "2023-02-19T15:09:15.100Z"
   },
   {
    "duration": 5,
    "start_time": "2023-02-19T15:12:34.329Z"
   },
   {
    "duration": 130,
    "start_time": "2023-02-19T15:12:45.332Z"
   },
   {
    "duration": 35,
    "start_time": "2023-02-19T15:14:42.234Z"
   },
   {
    "duration": 6,
    "start_time": "2023-02-19T15:14:50.976Z"
   },
   {
    "duration": 122,
    "start_time": "2023-02-19T15:15:04.212Z"
   },
   {
    "duration": 110,
    "start_time": "2023-02-19T15:17:07.659Z"
   },
   {
    "duration": 118,
    "start_time": "2023-02-19T15:19:35.428Z"
   },
   {
    "duration": 134,
    "start_time": "2023-02-19T15:20:40.467Z"
   },
   {
    "duration": 119,
    "start_time": "2023-02-19T15:21:50.764Z"
   },
   {
    "duration": 1144,
    "start_time": "2023-02-19T15:22:03.725Z"
   },
   {
    "duration": 141,
    "start_time": "2023-02-19T15:22:12.332Z"
   },
   {
    "duration": 129,
    "start_time": "2023-02-19T15:24:34.627Z"
   },
   {
    "duration": 117,
    "start_time": "2023-02-19T15:24:53.766Z"
   },
   {
    "duration": 161,
    "start_time": "2023-02-19T15:25:16.841Z"
   },
   {
    "duration": 131,
    "start_time": "2023-02-19T15:27:52.782Z"
   },
   {
    "duration": 125,
    "start_time": "2023-02-19T15:29:56.123Z"
   },
   {
    "duration": 134,
    "start_time": "2023-02-19T15:30:07.644Z"
   },
   {
    "duration": 152,
    "start_time": "2023-02-19T15:30:28.587Z"
   },
   {
    "duration": 174,
    "start_time": "2023-02-19T15:30:59.797Z"
   },
   {
    "duration": 113,
    "start_time": "2023-02-19T15:31:11.489Z"
   },
   {
    "duration": 131,
    "start_time": "2023-02-19T15:31:39.635Z"
   },
   {
    "duration": 162,
    "start_time": "2023-02-19T15:34:46.728Z"
   },
   {
    "duration": 147,
    "start_time": "2023-02-19T15:34:49.568Z"
   },
   {
    "duration": 6,
    "start_time": "2023-02-19T15:37:19.432Z"
   },
   {
    "duration": 126,
    "start_time": "2023-02-19T15:37:31.901Z"
   },
   {
    "duration": 6,
    "start_time": "2023-02-19T15:37:40.328Z"
   },
   {
    "duration": 138,
    "start_time": "2023-02-19T15:37:48.984Z"
   },
   {
    "duration": 130,
    "start_time": "2023-02-19T15:37:55.026Z"
   },
   {
    "duration": 177,
    "start_time": "2023-02-19T15:38:15.205Z"
   },
   {
    "duration": 5,
    "start_time": "2023-02-19T15:41:22.286Z"
   },
   {
    "duration": 515,
    "start_time": "2023-02-19T15:55:32.805Z"
   },
   {
    "duration": 127,
    "start_time": "2023-02-19T15:58:11.196Z"
   },
   {
    "duration": 154,
    "start_time": "2023-02-19T15:58:54.444Z"
   },
   {
    "duration": 137,
    "start_time": "2023-02-19T15:59:12.848Z"
   },
   {
    "duration": 11,
    "start_time": "2023-02-19T16:01:34.901Z"
   },
   {
    "duration": 131,
    "start_time": "2023-02-19T16:01:48.780Z"
   },
   {
    "duration": 5,
    "start_time": "2023-02-19T16:08:28.070Z"
   },
   {
    "duration": 10,
    "start_time": "2023-02-19T16:11:54.148Z"
   },
   {
    "duration": 129,
    "start_time": "2023-02-19T16:14:29.824Z"
   },
   {
    "duration": 134,
    "start_time": "2023-02-19T16:14:37.919Z"
   },
   {
    "duration": 66,
    "start_time": "2023-02-19T16:15:08.503Z"
   },
   {
    "duration": 126,
    "start_time": "2023-02-19T16:15:12.816Z"
   },
   {
    "duration": 123,
    "start_time": "2023-02-19T16:15:27.373Z"
   },
   {
    "duration": 121,
    "start_time": "2023-02-19T16:15:35.392Z"
   },
   {
    "duration": 148,
    "start_time": "2023-02-19T16:16:19.529Z"
   },
   {
    "duration": 7,
    "start_time": "2023-02-19T16:18:24.492Z"
   },
   {
    "duration": 141,
    "start_time": "2023-02-19T16:20:43.551Z"
   },
   {
    "duration": 6,
    "start_time": "2023-02-19T16:20:57.418Z"
   },
   {
    "duration": 7,
    "start_time": "2023-02-19T16:21:09.149Z"
   },
   {
    "duration": 125,
    "start_time": "2023-02-19T16:25:33.592Z"
   },
   {
    "duration": 6,
    "start_time": "2023-02-19T16:28:06.566Z"
   },
   {
    "duration": 196,
    "start_time": "2023-02-19T16:29:32.948Z"
   },
   {
    "duration": 268,
    "start_time": "2023-02-19T16:31:19.801Z"
   },
   {
    "duration": 10,
    "start_time": "2023-02-19T16:31:41.816Z"
   },
   {
    "duration": 256,
    "start_time": "2023-02-19T16:31:46.220Z"
   },
   {
    "duration": 259,
    "start_time": "2023-02-19T16:31:59.301Z"
   },
   {
    "duration": 16,
    "start_time": "2023-02-19T16:45:48.632Z"
   },
   {
    "duration": 88,
    "start_time": "2023-02-19T16:46:53.790Z"
   },
   {
    "duration": 15,
    "start_time": "2023-02-19T16:46:58.905Z"
   },
   {
    "duration": 268,
    "start_time": "2023-02-19T16:48:19.403Z"
   },
   {
    "duration": 271,
    "start_time": "2023-02-19T16:48:34.657Z"
   },
   {
    "duration": 13,
    "start_time": "2023-02-19T18:18:52.574Z"
   },
   {
    "duration": 13,
    "start_time": "2023-02-19T18:18:57.564Z"
   },
   {
    "duration": 14,
    "start_time": "2023-02-19T18:19:18.331Z"
   },
   {
    "duration": 66,
    "start_time": "2023-02-19T18:21:05.195Z"
   },
   {
    "duration": 13,
    "start_time": "2023-02-19T18:21:43.231Z"
   },
   {
    "duration": 4,
    "start_time": "2023-02-19T18:21:51.709Z"
   },
   {
    "duration": 110,
    "start_time": "2023-02-19T18:21:55.268Z"
   },
   {
    "duration": 66,
    "start_time": "2023-02-19T18:22:56.336Z"
   },
   {
    "duration": 147,
    "start_time": "2023-02-19T18:24:55.224Z"
   },
   {
    "duration": 156,
    "start_time": "2023-02-19T18:27:26.439Z"
   },
   {
    "duration": 5,
    "start_time": "2023-02-19T18:34:49.162Z"
   },
   {
    "duration": 313,
    "start_time": "2023-02-19T18:34:53.585Z"
   },
   {
    "duration": 6,
    "start_time": "2023-02-19T18:36:17.656Z"
   },
   {
    "duration": 460,
    "start_time": "2023-02-19T18:36:34.371Z"
   },
   {
    "duration": 590,
    "start_time": "2023-02-19T18:38:58.493Z"
   },
   {
    "duration": 642,
    "start_time": "2023-02-19T18:43:29.108Z"
   },
   {
    "duration": 714,
    "start_time": "2023-02-19T18:43:39.226Z"
   },
   {
    "duration": 1452,
    "start_time": "2023-02-19T18:55:19.596Z"
   },
   {
    "duration": 5,
    "start_time": "2023-02-19T19:34:16.534Z"
   },
   {
    "duration": 9,
    "start_time": "2023-02-19T19:34:26.521Z"
   },
   {
    "duration": 8,
    "start_time": "2023-02-19T19:35:28.001Z"
   },
   {
    "duration": 25,
    "start_time": "2023-02-19T19:35:58.161Z"
   },
   {
    "duration": 23,
    "start_time": "2023-02-19T22:03:17.256Z"
   },
   {
    "duration": 176,
    "start_time": "2023-02-19T22:03:41.910Z"
   },
   {
    "duration": 32,
    "start_time": "2023-02-19T22:05:08.657Z"
   },
   {
    "duration": 19,
    "start_time": "2023-02-19T22:05:29.639Z"
   },
   {
    "duration": 20,
    "start_time": "2023-02-19T22:06:01.419Z"
   },
   {
    "duration": 91,
    "start_time": "2023-02-19T22:06:33.934Z"
   },
   {
    "duration": 74,
    "start_time": "2023-02-19T22:06:38.915Z"
   },
   {
    "duration": 163,
    "start_time": "2023-02-19T22:07:53.205Z"
   },
   {
    "duration": 740,
    "start_time": "2023-02-19T22:39:17.574Z"
   },
   {
    "duration": 20,
    "start_time": "2023-02-19T22:39:18.316Z"
   },
   {
    "duration": 13,
    "start_time": "2023-02-19T22:39:18.338Z"
   },
   {
    "duration": 1791,
    "start_time": "2023-02-19T22:39:18.353Z"
   },
   {
    "duration": 10,
    "start_time": "2023-02-19T22:39:20.145Z"
   },
   {
    "duration": 27,
    "start_time": "2023-02-19T22:39:20.157Z"
   },
   {
    "duration": 26,
    "start_time": "2023-02-19T22:39:20.185Z"
   },
   {
    "duration": 201,
    "start_time": "2023-02-19T22:39:20.213Z"
   },
   {
    "duration": 5,
    "start_time": "2023-02-19T22:39:20.416Z"
   },
   {
    "duration": 9,
    "start_time": "2023-02-19T22:39:20.423Z"
   },
   {
    "duration": 4,
    "start_time": "2023-02-19T22:39:20.433Z"
   },
   {
    "duration": 13,
    "start_time": "2023-02-19T22:39:20.438Z"
   },
   {
    "duration": 59,
    "start_time": "2023-02-19T22:39:20.452Z"
   },
   {
    "duration": 419,
    "start_time": "2023-02-19T22:39:20.513Z"
   },
   {
    "duration": 5,
    "start_time": "2023-02-19T22:39:20.933Z"
   },
   {
    "duration": 34,
    "start_time": "2023-02-19T22:39:20.939Z"
   },
   {
    "duration": 162,
    "start_time": "2023-02-19T22:39:20.974Z"
   },
   {
    "duration": 8,
    "start_time": "2023-02-19T22:39:21.138Z"
   },
   {
    "duration": 148,
    "start_time": "2023-02-19T22:39:21.148Z"
   },
   {
    "duration": 135,
    "start_time": "2023-02-19T22:39:21.298Z"
   },
   {
    "duration": 238,
    "start_time": "2023-02-19T22:39:21.435Z"
   },
   {
    "duration": 139,
    "start_time": "2023-02-19T22:39:21.675Z"
   },
   {
    "duration": 139,
    "start_time": "2023-02-19T22:39:21.815Z"
   },
   {
    "duration": 135,
    "start_time": "2023-02-19T22:39:21.956Z"
   },
   {
    "duration": 129,
    "start_time": "2023-02-19T22:39:22.092Z"
   },
   {
    "duration": 148,
    "start_time": "2023-02-19T22:39:22.222Z"
   },
   {
    "duration": 155,
    "start_time": "2023-02-19T22:39:22.371Z"
   },
   {
    "duration": 224,
    "start_time": "2023-02-19T22:39:22.530Z"
   },
   {
    "duration": 155,
    "start_time": "2023-02-19T22:39:22.755Z"
   },
   {
    "duration": 172,
    "start_time": "2023-02-19T22:39:22.913Z"
   },
   {
    "duration": 151,
    "start_time": "2023-02-19T22:39:23.088Z"
   },
   {
    "duration": 278,
    "start_time": "2023-02-19T22:39:23.241Z"
   },
   {
    "duration": 11,
    "start_time": "2023-02-19T22:39:23.520Z"
   },
   {
    "duration": 1144,
    "start_time": "2023-02-19T22:39:23.533Z"
   },
   {
    "duration": 1272,
    "start_time": "2023-02-19T22:39:24.678Z"
   },
   {
    "duration": 0,
    "start_time": "2023-02-19T22:39:25.952Z"
   },
   {
    "duration": 0,
    "start_time": "2023-02-19T22:39:25.953Z"
   },
   {
    "duration": 13,
    "start_time": "2023-02-19T22:41:11.974Z"
   },
   {
    "duration": 6,
    "start_time": "2023-02-19T22:41:44.598Z"
   },
   {
    "duration": 5,
    "start_time": "2023-02-19T22:42:07.749Z"
   },
   {
    "duration": 6,
    "start_time": "2023-02-19T22:42:09.867Z"
   },
   {
    "duration": 67,
    "start_time": "2023-02-20T14:04:18.682Z"
   },
   {
    "duration": 6,
    "start_time": "2023-02-20T14:04:42.409Z"
   },
   {
    "duration": 7,
    "start_time": "2023-02-20T14:04:47.031Z"
   },
   {
    "duration": 938,
    "start_time": "2023-02-20T14:05:02.406Z"
   },
   {
    "duration": 28,
    "start_time": "2023-02-20T14:05:03.346Z"
   },
   {
    "duration": 17,
    "start_time": "2023-02-20T14:05:03.375Z"
   },
   {
    "duration": 1920,
    "start_time": "2023-02-20T14:05:03.394Z"
   },
   {
    "duration": 12,
    "start_time": "2023-02-20T14:05:05.316Z"
   },
   {
    "duration": 33,
    "start_time": "2023-02-20T14:05:05.329Z"
   },
   {
    "duration": 21,
    "start_time": "2023-02-20T14:05:05.366Z"
   },
   {
    "duration": 202,
    "start_time": "2023-02-20T14:05:05.389Z"
   },
   {
    "duration": 6,
    "start_time": "2023-02-20T14:05:05.593Z"
   },
   {
    "duration": 23,
    "start_time": "2023-02-20T14:05:05.601Z"
   },
   {
    "duration": 6,
    "start_time": "2023-02-20T14:05:05.626Z"
   },
   {
    "duration": 36,
    "start_time": "2023-02-20T14:05:05.634Z"
   },
   {
    "duration": 44,
    "start_time": "2023-02-20T14:05:05.672Z"
   },
   {
    "duration": 454,
    "start_time": "2023-02-20T14:05:05.717Z"
   },
   {
    "duration": 6,
    "start_time": "2023-02-20T14:05:06.173Z"
   },
   {
    "duration": 40,
    "start_time": "2023-02-20T14:05:06.181Z"
   },
   {
    "duration": 212,
    "start_time": "2023-02-20T14:05:06.222Z"
   },
   {
    "duration": 19,
    "start_time": "2023-02-20T14:05:06.436Z"
   },
   {
    "duration": 167,
    "start_time": "2023-02-20T14:05:06.456Z"
   },
   {
    "duration": 336,
    "start_time": "2023-02-20T14:05:06.625Z"
   },
   {
    "duration": 611,
    "start_time": "2023-02-20T14:05:06.963Z"
   },
   {
    "duration": 410,
    "start_time": "2023-02-20T14:05:07.576Z"
   },
   {
    "duration": 304,
    "start_time": "2023-02-20T14:05:07.987Z"
   },
   {
    "duration": 380,
    "start_time": "2023-02-20T14:05:08.293Z"
   },
   {
    "duration": 245,
    "start_time": "2023-02-20T14:05:08.675Z"
   },
   {
    "duration": 171,
    "start_time": "2023-02-20T14:05:08.922Z"
   },
   {
    "duration": 227,
    "start_time": "2023-02-20T14:05:09.094Z"
   },
   {
    "duration": 152,
    "start_time": "2023-02-20T14:05:09.324Z"
   },
   {
    "duration": 196,
    "start_time": "2023-02-20T14:05:09.478Z"
   },
   {
    "duration": 171,
    "start_time": "2023-02-20T14:05:09.676Z"
   },
   {
    "duration": 176,
    "start_time": "2023-02-20T14:05:09.853Z"
   },
   {
    "duration": 293,
    "start_time": "2023-02-20T14:05:10.031Z"
   },
   {
    "duration": 13,
    "start_time": "2023-02-20T14:05:10.325Z"
   },
   {
    "duration": 1373,
    "start_time": "2023-02-20T14:05:10.340Z"
   },
   {
    "duration": 9,
    "start_time": "2023-02-20T14:05:11.714Z"
   },
   {
    "duration": 113,
    "start_time": "2023-02-20T14:05:11.724Z"
   },
   {
    "duration": 0,
    "start_time": "2023-02-20T14:05:11.839Z"
   },
   {
    "duration": 2274,
    "start_time": "2023-02-20T14:05:18.889Z"
   },
   {
    "duration": 2283,
    "start_time": "2023-02-20T14:07:16.099Z"
   },
   {
    "duration": 2036,
    "start_time": "2023-02-20T14:07:18.496Z"
   },
   {
    "duration": 57,
    "start_time": "2023-02-20T14:09:33.569Z"
   },
   {
    "duration": 195,
    "start_time": "2023-02-20T14:11:42.734Z"
   },
   {
    "duration": 21,
    "start_time": "2023-02-20T14:12:02.686Z"
   },
   {
    "duration": 25,
    "start_time": "2023-02-20T14:12:04.827Z"
   },
   {
    "duration": 24,
    "start_time": "2023-02-20T14:17:55.812Z"
   },
   {
    "duration": 605,
    "start_time": "2023-02-20T14:21:51.444Z"
   },
   {
    "duration": 12,
    "start_time": "2023-02-20T14:22:17.120Z"
   },
   {
    "duration": 8,
    "start_time": "2023-02-20T14:22:34.241Z"
   },
   {
    "duration": 681,
    "start_time": "2023-02-20T14:22:48.003Z"
   },
   {
    "duration": 27,
    "start_time": "2023-02-20T14:29:13.252Z"
   },
   {
    "duration": 8,
    "start_time": "2023-02-20T14:31:04.438Z"
   },
   {
    "duration": 19,
    "start_time": "2023-02-20T14:31:16.321Z"
   },
   {
    "duration": 142,
    "start_time": "2023-02-20T14:41:38.811Z"
   },
   {
    "duration": 1155,
    "start_time": "2023-02-20T21:34:36.429Z"
   },
   {
    "duration": 72,
    "start_time": "2023-02-20T21:53:42.683Z"
   },
   {
    "duration": 6,
    "start_time": "2023-02-20T21:54:14.918Z"
   },
   {
    "duration": 695,
    "start_time": "2023-02-20T21:54:26.962Z"
   },
   {
    "duration": 21,
    "start_time": "2023-02-20T21:54:27.659Z"
   },
   {
    "duration": 27,
    "start_time": "2023-02-20T21:54:27.681Z"
   },
   {
    "duration": 2020,
    "start_time": "2023-02-20T21:54:27.711Z"
   },
   {
    "duration": 9,
    "start_time": "2023-02-20T21:54:29.733Z"
   },
   {
    "duration": 43,
    "start_time": "2023-02-20T21:54:29.744Z"
   },
   {
    "duration": 11,
    "start_time": "2023-02-20T21:54:29.789Z"
   },
   {
    "duration": 50,
    "start_time": "2023-02-20T21:54:29.802Z"
   },
   {
    "duration": 193,
    "start_time": "2023-02-20T21:54:29.854Z"
   },
   {
    "duration": 6,
    "start_time": "2023-02-20T21:54:30.051Z"
   },
   {
    "duration": 29,
    "start_time": "2023-02-20T21:54:30.058Z"
   },
   {
    "duration": 27,
    "start_time": "2023-02-20T21:54:30.089Z"
   },
   {
    "duration": 38,
    "start_time": "2023-02-20T21:54:30.118Z"
   },
   {
    "duration": 57,
    "start_time": "2023-02-20T21:54:30.157Z"
   },
   {
    "duration": 472,
    "start_time": "2023-02-20T21:54:30.216Z"
   },
   {
    "duration": 7,
    "start_time": "2023-02-20T21:54:30.690Z"
   },
   {
    "duration": 68,
    "start_time": "2023-02-20T21:54:30.699Z"
   },
   {
    "duration": 175,
    "start_time": "2023-02-20T21:54:30.769Z"
   },
   {
    "duration": 14,
    "start_time": "2023-02-20T21:54:30.947Z"
   },
   {
    "duration": 177,
    "start_time": "2023-02-20T21:54:30.964Z"
   },
   {
    "duration": 163,
    "start_time": "2023-02-20T21:54:31.142Z"
   },
   {
    "duration": 284,
    "start_time": "2023-02-20T21:54:31.307Z"
   },
   {
    "duration": 154,
    "start_time": "2023-02-20T21:54:31.593Z"
   },
   {
    "duration": 179,
    "start_time": "2023-02-20T21:54:31.749Z"
   },
   {
    "duration": 165,
    "start_time": "2023-02-20T21:54:31.930Z"
   },
   {
    "duration": 147,
    "start_time": "2023-02-20T21:54:32.097Z"
   },
   {
    "duration": 170,
    "start_time": "2023-02-20T21:54:32.245Z"
   },
   {
    "duration": 237,
    "start_time": "2023-02-20T21:54:32.418Z"
   },
   {
    "duration": 163,
    "start_time": "2023-02-20T21:54:32.657Z"
   },
   {
    "duration": 175,
    "start_time": "2023-02-20T21:54:32.821Z"
   },
   {
    "duration": 158,
    "start_time": "2023-02-20T21:54:32.998Z"
   },
   {
    "duration": 160,
    "start_time": "2023-02-20T21:54:33.158Z"
   },
   {
    "duration": 304,
    "start_time": "2023-02-20T21:54:33.320Z"
   },
   {
    "duration": 19,
    "start_time": "2023-02-20T21:54:33.626Z"
   },
   {
    "duration": 60,
    "start_time": "2023-02-20T21:54:33.646Z"
   },
   {
    "duration": 8,
    "start_time": "2023-02-20T21:54:33.707Z"
   },
   {
    "duration": 100,
    "start_time": "2023-02-20T21:54:33.717Z"
   },
   {
    "duration": 0,
    "start_time": "2023-02-20T21:54:33.819Z"
   },
   {
    "duration": 25,
    "start_time": "2023-02-20T21:54:51.315Z"
   },
   {
    "duration": 18,
    "start_time": "2023-02-20T21:55:13.098Z"
   },
   {
    "duration": 19,
    "start_time": "2023-02-20T21:56:50.498Z"
   },
   {
    "duration": 17,
    "start_time": "2023-02-20T21:57:16.554Z"
   },
   {
    "duration": 13,
    "start_time": "2023-02-20T21:58:32.190Z"
   },
   {
    "duration": 744,
    "start_time": "2023-02-20T22:00:44.031Z"
   },
   {
    "duration": 22,
    "start_time": "2023-02-20T22:00:44.776Z"
   },
   {
    "duration": 14,
    "start_time": "2023-02-20T22:00:44.800Z"
   },
   {
    "duration": 2083,
    "start_time": "2023-02-20T22:00:44.816Z"
   },
   {
    "duration": 13,
    "start_time": "2023-02-20T22:00:46.902Z"
   },
   {
    "duration": 33,
    "start_time": "2023-02-20T22:00:46.917Z"
   },
   {
    "duration": 8,
    "start_time": "2023-02-20T22:00:46.952Z"
   },
   {
    "duration": 33,
    "start_time": "2023-02-20T22:00:46.962Z"
   },
   {
    "duration": 209,
    "start_time": "2023-02-20T22:00:46.997Z"
   },
   {
    "duration": 6,
    "start_time": "2023-02-20T22:00:47.209Z"
   },
   {
    "duration": 26,
    "start_time": "2023-02-20T22:00:47.216Z"
   },
   {
    "duration": 5,
    "start_time": "2023-02-20T22:00:47.244Z"
   },
   {
    "duration": 15,
    "start_time": "2023-02-20T22:00:47.251Z"
   },
   {
    "duration": 78,
    "start_time": "2023-02-20T22:00:47.268Z"
   },
   {
    "duration": 461,
    "start_time": "2023-02-20T22:00:47.347Z"
   },
   {
    "duration": 5,
    "start_time": "2023-02-20T22:00:47.809Z"
   },
   {
    "duration": 51,
    "start_time": "2023-02-20T22:00:47.816Z"
   },
   {
    "duration": 195,
    "start_time": "2023-02-20T22:00:47.869Z"
   },
   {
    "duration": 9,
    "start_time": "2023-02-20T22:00:48.066Z"
   },
   {
    "duration": 174,
    "start_time": "2023-02-20T22:00:48.077Z"
   },
   {
    "duration": 179,
    "start_time": "2023-02-20T22:00:48.253Z"
   },
   {
    "duration": 334,
    "start_time": "2023-02-20T22:00:48.436Z"
   },
   {
    "duration": 159,
    "start_time": "2023-02-20T22:00:48.771Z"
   },
   {
    "duration": 164,
    "start_time": "2023-02-20T22:00:48.931Z"
   },
   {
    "duration": 164,
    "start_time": "2023-02-20T22:00:49.097Z"
   },
   {
    "duration": 173,
    "start_time": "2023-02-20T22:00:49.263Z"
   },
   {
    "duration": 158,
    "start_time": "2023-02-20T22:00:49.438Z"
   },
   {
    "duration": 240,
    "start_time": "2023-02-20T22:00:49.599Z"
   },
   {
    "duration": 159,
    "start_time": "2023-02-20T22:00:49.840Z"
   },
   {
    "duration": 182,
    "start_time": "2023-02-20T22:00:50.001Z"
   },
   {
    "duration": 164,
    "start_time": "2023-02-20T22:00:50.185Z"
   },
   {
    "duration": 162,
    "start_time": "2023-02-20T22:00:50.351Z"
   },
   {
    "duration": 318,
    "start_time": "2023-02-20T22:00:50.514Z"
   },
   {
    "duration": 12,
    "start_time": "2023-02-20T22:00:50.837Z"
   },
   {
    "duration": 51,
    "start_time": "2023-02-20T22:05:03.899Z"
   },
   {
    "duration": 1004,
    "start_time": "2023-02-20T22:05:14.205Z"
   },
   {
    "duration": 26,
    "start_time": "2023-02-20T22:05:15.211Z"
   },
   {
    "duration": 16,
    "start_time": "2023-02-20T22:05:15.239Z"
   },
   {
    "duration": 2050,
    "start_time": "2023-02-20T22:05:15.258Z"
   },
   {
    "duration": 10,
    "start_time": "2023-02-20T22:05:17.310Z"
   },
   {
    "duration": 37,
    "start_time": "2023-02-20T22:05:17.322Z"
   },
   {
    "duration": 11,
    "start_time": "2023-02-20T22:05:17.361Z"
   },
   {
    "duration": 25,
    "start_time": "2023-02-20T22:05:17.374Z"
   },
   {
    "duration": 213,
    "start_time": "2023-02-20T22:05:17.401Z"
   },
   {
    "duration": 6,
    "start_time": "2023-02-20T22:05:17.616Z"
   },
   {
    "duration": 21,
    "start_time": "2023-02-20T22:05:17.624Z"
   },
   {
    "duration": 8,
    "start_time": "2023-02-20T22:05:17.646Z"
   },
   {
    "duration": 18,
    "start_time": "2023-02-20T22:05:17.655Z"
   },
   {
    "duration": 64,
    "start_time": "2023-02-20T22:05:17.675Z"
   },
   {
    "duration": 453,
    "start_time": "2023-02-20T22:05:17.741Z"
   },
   {
    "duration": 6,
    "start_time": "2023-02-20T22:05:18.196Z"
   },
   {
    "duration": 63,
    "start_time": "2023-02-20T22:05:18.204Z"
   },
   {
    "duration": 228,
    "start_time": "2023-02-20T22:05:18.269Z"
   },
   {
    "duration": 12,
    "start_time": "2023-02-20T22:05:18.499Z"
   },
   {
    "duration": 210,
    "start_time": "2023-02-20T22:05:18.513Z"
   },
   {
    "duration": 148,
    "start_time": "2023-02-20T22:05:18.724Z"
   },
   {
    "duration": 275,
    "start_time": "2023-02-20T22:05:18.874Z"
   },
   {
    "duration": 158,
    "start_time": "2023-02-20T22:05:19.151Z"
   },
   {
    "duration": 179,
    "start_time": "2023-02-20T22:05:19.311Z"
   },
   {
    "duration": 155,
    "start_time": "2023-02-20T22:05:19.493Z"
   },
   {
    "duration": 145,
    "start_time": "2023-02-20T22:05:19.650Z"
   },
   {
    "duration": 168,
    "start_time": "2023-02-20T22:05:19.796Z"
   },
   {
    "duration": 249,
    "start_time": "2023-02-20T22:05:19.968Z"
   },
   {
    "duration": 173,
    "start_time": "2023-02-20T22:05:20.219Z"
   },
   {
    "duration": 175,
    "start_time": "2023-02-20T22:05:20.394Z"
   },
   {
    "duration": 172,
    "start_time": "2023-02-20T22:05:20.571Z"
   },
   {
    "duration": 165,
    "start_time": "2023-02-20T22:05:20.745Z"
   },
   {
    "duration": 336,
    "start_time": "2023-02-20T22:05:20.913Z"
   },
   {
    "duration": 16,
    "start_time": "2023-02-20T22:05:21.252Z"
   },
   {
    "duration": 139,
    "start_time": "2023-02-20T22:05:21.270Z"
   },
   {
    "duration": 89,
    "start_time": "2023-02-20T22:05:21.412Z"
   },
   {
    "duration": 123,
    "start_time": "2023-02-20T22:05:21.503Z"
   },
   {
    "duration": 0,
    "start_time": "2023-02-20T22:05:21.628Z"
   },
   {
    "duration": 5,
    "start_time": "2023-02-20T22:05:33.109Z"
   },
   {
    "duration": 15,
    "start_time": "2023-02-20T22:05:51.828Z"
   },
   {
    "duration": 205,
    "start_time": "2023-02-20T22:06:42.716Z"
   },
   {
    "duration": 132,
    "start_time": "2023-02-20T22:07:23.711Z"
   },
   {
    "duration": 128,
    "start_time": "2023-02-20T22:07:51.038Z"
   },
   {
    "duration": 142,
    "start_time": "2023-02-20T22:08:39.336Z"
   },
   {
    "duration": 124,
    "start_time": "2023-02-20T22:08:47.702Z"
   },
   {
    "duration": 137,
    "start_time": "2023-02-20T22:08:53.436Z"
   },
   {
    "duration": 148,
    "start_time": "2023-02-20T22:12:47.447Z"
   },
   {
    "duration": 152,
    "start_time": "2023-02-20T22:13:27.535Z"
   },
   {
    "duration": 158,
    "start_time": "2023-02-20T22:13:33.506Z"
   },
   {
    "duration": 155,
    "start_time": "2023-02-20T22:13:39.576Z"
   },
   {
    "duration": 150,
    "start_time": "2023-02-20T22:13:51.330Z"
   },
   {
    "duration": 127,
    "start_time": "2023-02-20T22:14:36.341Z"
   },
   {
    "duration": 136,
    "start_time": "2023-02-20T22:14:45.806Z"
   },
   {
    "duration": 126,
    "start_time": "2023-02-20T22:15:03.590Z"
   },
   {
    "duration": 123,
    "start_time": "2023-02-20T22:15:09.672Z"
   },
   {
    "duration": 132,
    "start_time": "2023-02-20T22:15:24.769Z"
   },
   {
    "duration": 146,
    "start_time": "2023-02-20T22:16:03.510Z"
   },
   {
    "duration": 184,
    "start_time": "2023-02-20T22:16:15.689Z"
   },
   {
    "duration": 139,
    "start_time": "2023-02-20T22:16:32.544Z"
   },
   {
    "duration": 137,
    "start_time": "2023-02-20T22:16:38.520Z"
   },
   {
    "duration": 161,
    "start_time": "2023-02-20T22:17:03.840Z"
   },
   {
    "duration": 165,
    "start_time": "2023-02-20T22:17:11.218Z"
   },
   {
    "duration": 299,
    "start_time": "2023-02-20T22:17:32.629Z"
   },
   {
    "duration": 153,
    "start_time": "2023-02-20T22:17:45.549Z"
   },
   {
    "duration": 7,
    "start_time": "2023-02-20T22:21:04.100Z"
   },
   {
    "duration": 17,
    "start_time": "2023-02-20T22:21:10.634Z"
   },
   {
    "duration": 14,
    "start_time": "2023-02-20T22:22:02.122Z"
   },
   {
    "duration": 13,
    "start_time": "2023-02-20T22:22:50.103Z"
   },
   {
    "duration": 629,
    "start_time": "2023-02-20T22:23:07.516Z"
   },
   {
    "duration": 641,
    "start_time": "2023-02-20T22:24:00.260Z"
   },
   {
    "duration": 796,
    "start_time": "2023-02-20T22:24:19.809Z"
   },
   {
    "duration": 645,
    "start_time": "2023-02-20T22:24:41.054Z"
   },
   {
    "duration": 656,
    "start_time": "2023-02-20T22:24:59.401Z"
   },
   {
    "duration": 836,
    "start_time": "2023-02-20T22:25:17.556Z"
   },
   {
    "duration": 12,
    "start_time": "2023-02-20T22:27:27.041Z"
   },
   {
    "duration": 12,
    "start_time": "2023-02-20T22:29:08.084Z"
   },
   {
    "duration": 16,
    "start_time": "2023-02-20T22:29:16.499Z"
   },
   {
    "duration": 15,
    "start_time": "2023-02-20T22:31:28.317Z"
   },
   {
    "duration": 165,
    "start_time": "2023-02-20T22:31:38.618Z"
   },
   {
    "duration": 9,
    "start_time": "2023-02-20T22:31:45.460Z"
   },
   {
    "duration": 172,
    "start_time": "2023-02-20T22:32:34.139Z"
   },
   {
    "duration": 164,
    "start_time": "2023-02-20T22:32:48.880Z"
   },
   {
    "duration": 188,
    "start_time": "2023-02-20T22:33:29.545Z"
   },
   {
    "duration": 13,
    "start_time": "2023-02-20T22:33:48.601Z"
   },
   {
    "duration": 386,
    "start_time": "2023-02-20T22:34:49.634Z"
   },
   {
    "duration": 376,
    "start_time": "2023-02-20T22:35:30.297Z"
   },
   {
    "duration": 21,
    "start_time": "2023-02-20T22:36:05.704Z"
   },
   {
    "duration": 395,
    "start_time": "2023-02-20T22:36:11.619Z"
   },
   {
    "duration": 544,
    "start_time": "2023-02-20T22:36:22.822Z"
   },
   {
    "duration": 409,
    "start_time": "2023-02-20T22:37:16.727Z"
   },
   {
    "duration": 25,
    "start_time": "2023-02-20T22:38:49.286Z"
   },
   {
    "duration": 145,
    "start_time": "2023-02-20T22:39:05.661Z"
   },
   {
    "duration": 172,
    "start_time": "2023-02-20T22:39:18.198Z"
   },
   {
    "duration": 133,
    "start_time": "2023-02-20T22:39:48.874Z"
   },
   {
    "duration": 147,
    "start_time": "2023-02-20T22:40:56.539Z"
   },
   {
    "duration": 146,
    "start_time": "2023-02-20T22:41:48.176Z"
   },
   {
    "duration": 180,
    "start_time": "2023-02-20T22:42:01.020Z"
   },
   {
    "duration": 149,
    "start_time": "2023-02-20T22:42:13.786Z"
   },
   {
    "duration": 148,
    "start_time": "2023-02-20T22:44:23.326Z"
   },
   {
    "duration": 149,
    "start_time": "2023-02-20T22:44:38.543Z"
   },
   {
    "duration": 849,
    "start_time": "2023-02-20T22:46:41.848Z"
   },
   {
    "duration": 1205,
    "start_time": "2023-02-20T22:47:10.681Z"
   },
   {
    "duration": 1006,
    "start_time": "2023-02-20T22:47:31.749Z"
   },
   {
    "duration": 1315,
    "start_time": "2023-02-20T22:47:53.632Z"
   },
   {
    "duration": 1113,
    "start_time": "2023-02-20T22:48:43.174Z"
   },
   {
    "duration": 1364,
    "start_time": "2023-02-20T22:53:46.550Z"
   },
   {
    "duration": 1152,
    "start_time": "2023-02-20T22:54:00.812Z"
   },
   {
    "duration": 14,
    "start_time": "2023-02-20T22:56:35.379Z"
   },
   {
    "duration": 48,
    "start_time": "2023-02-20T22:57:22.687Z"
   },
   {
    "duration": 127,
    "start_time": "2023-02-20T22:57:46.149Z"
   },
   {
    "duration": 139,
    "start_time": "2023-02-20T22:59:47.420Z"
   },
   {
    "duration": 137,
    "start_time": "2023-02-20T23:00:10.297Z"
   },
   {
    "duration": 152,
    "start_time": "2023-02-20T23:01:25.382Z"
   },
   {
    "duration": 165,
    "start_time": "2023-02-20T23:04:00.618Z"
   },
   {
    "duration": 16,
    "start_time": "2023-02-20T23:06:53.026Z"
   },
   {
    "duration": 151,
    "start_time": "2023-02-20T23:07:02.980Z"
   },
   {
    "duration": 153,
    "start_time": "2023-02-20T23:07:24.890Z"
   },
   {
    "duration": 412,
    "start_time": "2023-02-20T23:08:24.446Z"
   },
   {
    "duration": 183,
    "start_time": "2023-02-20T23:08:55.454Z"
   },
   {
    "duration": 16,
    "start_time": "2023-02-20T23:10:18.700Z"
   },
   {
    "duration": 183,
    "start_time": "2023-02-20T23:10:45.541Z"
   },
   {
    "duration": 17,
    "start_time": "2023-02-20T23:20:43.633Z"
   },
   {
    "duration": 19,
    "start_time": "2023-02-20T23:20:55.324Z"
   },
   {
    "duration": 17,
    "start_time": "2023-02-20T23:21:51.287Z"
   },
   {
    "duration": 17,
    "start_time": "2023-02-20T23:22:43.534Z"
   },
   {
    "duration": 17,
    "start_time": "2023-02-20T23:23:05.683Z"
   },
   {
    "duration": 17,
    "start_time": "2023-02-20T23:23:08.171Z"
   },
   {
    "duration": 148,
    "start_time": "2023-02-20T23:23:26.456Z"
   },
   {
    "duration": 153,
    "start_time": "2023-02-20T23:23:59.116Z"
   },
   {
    "duration": 155,
    "start_time": "2023-02-20T23:24:51.407Z"
   },
   {
    "duration": 148,
    "start_time": "2023-02-20T23:25:12.444Z"
   },
   {
    "duration": 149,
    "start_time": "2023-02-20T23:25:27.093Z"
   },
   {
    "duration": 130,
    "start_time": "2023-02-20T23:26:36.052Z"
   },
   {
    "duration": 20,
    "start_time": "2023-02-20T23:29:25.689Z"
   },
   {
    "duration": 1057,
    "start_time": "2023-02-20T23:31:19.738Z"
   },
   {
    "duration": 28,
    "start_time": "2023-02-20T23:32:01.801Z"
   },
   {
    "duration": 1328,
    "start_time": "2023-02-20T23:33:05.145Z"
   },
   {
    "duration": 57,
    "start_time": "2023-02-20T23:33:39.785Z"
   },
   {
    "duration": 44,
    "start_time": "2023-02-20T23:33:49.701Z"
   },
   {
    "duration": 1097,
    "start_time": "2023-02-20T23:33:56.066Z"
   },
   {
    "duration": 1364,
    "start_time": "2023-02-20T23:34:17.753Z"
   },
   {
    "duration": 1085,
    "start_time": "2023-02-20T23:34:35.910Z"
   },
   {
    "duration": 173,
    "start_time": "2023-02-20T23:35:34.658Z"
   },
   {
    "duration": 175,
    "start_time": "2023-02-20T23:36:15.171Z"
   },
   {
    "duration": 162,
    "start_time": "2023-02-20T23:36:42.848Z"
   },
   {
    "duration": 164,
    "start_time": "2023-02-20T23:37:04.285Z"
   },
   {
    "duration": 174,
    "start_time": "2023-02-20T23:37:16.733Z"
   },
   {
    "duration": 145,
    "start_time": "2023-02-20T23:37:56.531Z"
   },
   {
    "duration": 285,
    "start_time": "2023-02-20T23:38:33.276Z"
   },
   {
    "duration": 419,
    "start_time": "2023-02-20T23:39:07.434Z"
   },
   {
    "duration": 26,
    "start_time": "2023-02-20T23:53:55.949Z"
   },
   {
    "duration": 27,
    "start_time": "2023-02-20T23:54:25.093Z"
   },
   {
    "duration": 30,
    "start_time": "2023-02-20T23:55:55.796Z"
   },
   {
    "duration": 282,
    "start_time": "2023-02-20T23:56:08.179Z"
   },
   {
    "duration": 27,
    "start_time": "2023-02-20T23:57:46.169Z"
   },
   {
    "duration": 27,
    "start_time": "2023-02-20T23:59:19.189Z"
   },
   {
    "duration": 27,
    "start_time": "2023-02-20T23:59:41.407Z"
   },
   {
    "duration": 28,
    "start_time": "2023-02-21T00:00:07.857Z"
   },
   {
    "duration": 27,
    "start_time": "2023-02-21T00:00:58.740Z"
   },
   {
    "duration": 28,
    "start_time": "2023-02-21T00:02:32.400Z"
   },
   {
    "duration": 27,
    "start_time": "2023-02-21T00:02:50.804Z"
   },
   {
    "duration": 21,
    "start_time": "2023-02-21T00:02:59.378Z"
   },
   {
    "duration": 20,
    "start_time": "2023-02-21T00:03:10.452Z"
   },
   {
    "duration": 30,
    "start_time": "2023-02-21T00:03:20.266Z"
   },
   {
    "duration": 27,
    "start_time": "2023-02-21T00:04:34.865Z"
   },
   {
    "duration": 7,
    "start_time": "2023-02-21T00:09:38.347Z"
   },
   {
    "duration": 10,
    "start_time": "2023-02-21T00:09:59.107Z"
   },
   {
    "duration": 8,
    "start_time": "2023-02-21T00:10:07.815Z"
   },
   {
    "duration": 10,
    "start_time": "2023-02-21T00:10:20.959Z"
   },
   {
    "duration": 30,
    "start_time": "2023-02-21T00:11:01.740Z"
   },
   {
    "duration": 13,
    "start_time": "2023-02-21T00:11:51.616Z"
   },
   {
    "duration": 14,
    "start_time": "2023-02-21T00:12:04.336Z"
   },
   {
    "duration": 11,
    "start_time": "2023-02-21T00:12:15.820Z"
   },
   {
    "duration": 10,
    "start_time": "2023-02-21T00:13:17.411Z"
   },
   {
    "duration": 11,
    "start_time": "2023-02-21T00:13:31.779Z"
   },
   {
    "duration": 27,
    "start_time": "2023-02-21T00:14:51.900Z"
   },
   {
    "duration": 53,
    "start_time": "2023-02-21T00:15:37.931Z"
   },
   {
    "duration": 29,
    "start_time": "2023-02-21T00:15:45.563Z"
   },
   {
    "duration": 20,
    "start_time": "2023-02-21T00:15:56.541Z"
   },
   {
    "duration": 30,
    "start_time": "2023-02-21T00:16:04.198Z"
   },
   {
    "duration": 29,
    "start_time": "2023-02-21T00:16:38.339Z"
   },
   {
    "duration": 31,
    "start_time": "2023-02-21T00:16:54.297Z"
   },
   {
    "duration": 29,
    "start_time": "2023-02-21T00:17:07.338Z"
   },
   {
    "duration": 29,
    "start_time": "2023-02-21T00:17:23.900Z"
   },
   {
    "duration": 36,
    "start_time": "2023-02-21T00:17:48.226Z"
   },
   {
    "duration": 50,
    "start_time": "2023-02-21T00:18:05.132Z"
   },
   {
    "duration": 28,
    "start_time": "2023-02-21T00:18:10.189Z"
   },
   {
    "duration": 21,
    "start_time": "2023-02-21T00:18:24.482Z"
   },
   {
    "duration": 33,
    "start_time": "2023-02-21T00:18:34.438Z"
   },
   {
    "duration": 21,
    "start_time": "2023-02-21T00:20:22.366Z"
   },
   {
    "duration": 30,
    "start_time": "2023-02-21T00:20:51.449Z"
   },
   {
    "duration": 26,
    "start_time": "2023-02-21T00:22:35.891Z"
   },
   {
    "duration": 51,
    "start_time": "2023-02-21T00:22:46.986Z"
   },
   {
    "duration": 26,
    "start_time": "2023-02-21T00:22:50.830Z"
   },
   {
    "duration": 23,
    "start_time": "2023-02-21T00:23:01.677Z"
   },
   {
    "duration": 27,
    "start_time": "2023-02-21T00:23:15.819Z"
   },
   {
    "duration": 28,
    "start_time": "2023-02-21T00:23:30.683Z"
   },
   {
    "duration": 28,
    "start_time": "2023-02-21T00:23:42.620Z"
   },
   {
    "duration": 30,
    "start_time": "2023-02-21T00:24:40.649Z"
   },
   {
    "duration": 35,
    "start_time": "2023-02-21T00:24:58.267Z"
   },
   {
    "duration": 39,
    "start_time": "2023-02-21T00:25:37.891Z"
   },
   {
    "duration": 28,
    "start_time": "2023-02-21T00:25:49.425Z"
   },
   {
    "duration": 28,
    "start_time": "2023-02-21T00:25:55.782Z"
   },
   {
    "duration": 31,
    "start_time": "2023-02-21T00:26:13.310Z"
   },
   {
    "duration": 27,
    "start_time": "2023-02-21T00:26:58.633Z"
   },
   {
    "duration": 4,
    "start_time": "2023-02-21T00:28:08.647Z"
   },
   {
    "duration": 31,
    "start_time": "2023-02-21T00:28:14.589Z"
   },
   {
    "duration": 35,
    "start_time": "2023-02-21T00:29:13.301Z"
   },
   {
    "duration": 13,
    "start_time": "2023-02-21T00:29:22.740Z"
   },
   {
    "duration": 48,
    "start_time": "2023-02-21T00:34:48.743Z"
   },
   {
    "duration": 44,
    "start_time": "2023-02-21T00:35:21.079Z"
   },
   {
    "duration": 43,
    "start_time": "2023-02-21T00:35:31.143Z"
   },
   {
    "duration": 5,
    "start_time": "2023-02-21T00:41:35.001Z"
   },
   {
    "duration": 6,
    "start_time": "2023-02-21T00:41:43.665Z"
   },
   {
    "duration": 27,
    "start_time": "2023-02-21T00:47:16.986Z"
   },
   {
    "duration": 18,
    "start_time": "2023-02-21T00:50:58.949Z"
   },
   {
    "duration": 22,
    "start_time": "2023-02-21T00:54:37.274Z"
   },
   {
    "duration": 22,
    "start_time": "2023-02-21T00:59:16.566Z"
   },
   {
    "duration": 28,
    "start_time": "2023-02-21T01:01:07.981Z"
   },
   {
    "duration": 159,
    "start_time": "2023-02-21T01:02:09.638Z"
   },
   {
    "duration": 137,
    "start_time": "2023-02-21T01:02:43.926Z"
   },
   {
    "duration": 144,
    "start_time": "2023-02-21T01:03:23.905Z"
   },
   {
    "duration": 163,
    "start_time": "2023-02-21T01:04:05.592Z"
   },
   {
    "duration": 155,
    "start_time": "2023-02-21T01:05:38.741Z"
   },
   {
    "duration": 142,
    "start_time": "2023-02-21T01:05:43.319Z"
   },
   {
    "duration": 273,
    "start_time": "2023-02-21T01:06:19.583Z"
   },
   {
    "duration": 309,
    "start_time": "2023-02-21T01:06:45.731Z"
   },
   {
    "duration": 13,
    "start_time": "2023-02-21T01:14:08.296Z"
   },
   {
    "duration": 26,
    "start_time": "2023-02-21T01:17:14.925Z"
   },
   {
    "duration": 301,
    "start_time": "2023-02-21T01:17:28.929Z"
   },
   {
    "duration": 1031,
    "start_time": "2023-02-21T01:23:45.307Z"
   },
   {
    "duration": 717,
    "start_time": "2023-02-21T15:18:10.799Z"
   },
   {
    "duration": 20,
    "start_time": "2023-02-21T15:18:11.518Z"
   },
   {
    "duration": 14,
    "start_time": "2023-02-21T15:18:11.539Z"
   },
   {
    "duration": 1958,
    "start_time": "2023-02-21T15:18:11.554Z"
   },
   {
    "duration": 9,
    "start_time": "2023-02-21T15:18:13.513Z"
   },
   {
    "duration": 30,
    "start_time": "2023-02-21T15:18:13.524Z"
   },
   {
    "duration": 8,
    "start_time": "2023-02-21T15:18:13.555Z"
   },
   {
    "duration": 54,
    "start_time": "2023-02-21T15:18:13.565Z"
   },
   {
    "duration": 183,
    "start_time": "2023-02-21T15:18:13.620Z"
   },
   {
    "duration": 6,
    "start_time": "2023-02-21T15:18:13.806Z"
   },
   {
    "duration": 11,
    "start_time": "2023-02-21T15:18:13.813Z"
   },
   {
    "duration": 5,
    "start_time": "2023-02-21T15:18:13.825Z"
   },
   {
    "duration": 14,
    "start_time": "2023-02-21T15:18:13.831Z"
   },
   {
    "duration": 74,
    "start_time": "2023-02-21T15:18:13.847Z"
   },
   {
    "duration": 493,
    "start_time": "2023-02-21T15:18:13.922Z"
   },
   {
    "duration": 5,
    "start_time": "2023-02-21T15:18:14.416Z"
   },
   {
    "duration": 39,
    "start_time": "2023-02-21T15:18:14.423Z"
   },
   {
    "duration": 187,
    "start_time": "2023-02-21T15:18:14.464Z"
   },
   {
    "duration": 8,
    "start_time": "2023-02-21T15:18:14.653Z"
   },
   {
    "duration": 177,
    "start_time": "2023-02-21T15:18:14.663Z"
   },
   {
    "duration": 145,
    "start_time": "2023-02-21T15:18:14.841Z"
   },
   {
    "duration": 276,
    "start_time": "2023-02-21T15:18:14.988Z"
   },
   {
    "duration": 154,
    "start_time": "2023-02-21T15:18:15.266Z"
   },
   {
    "duration": 151,
    "start_time": "2023-02-21T15:18:15.422Z"
   },
   {
    "duration": 149,
    "start_time": "2023-02-21T15:18:15.575Z"
   },
   {
    "duration": 135,
    "start_time": "2023-02-21T15:18:15.726Z"
   },
   {
    "duration": 149,
    "start_time": "2023-02-21T15:18:15.863Z"
   },
   {
    "duration": 220,
    "start_time": "2023-02-21T15:18:16.015Z"
   },
   {
    "duration": 152,
    "start_time": "2023-02-21T15:18:16.237Z"
   },
   {
    "duration": 165,
    "start_time": "2023-02-21T15:18:16.391Z"
   },
   {
    "duration": 153,
    "start_time": "2023-02-21T15:18:16.558Z"
   },
   {
    "duration": 153,
    "start_time": "2023-02-21T15:18:16.712Z"
   },
   {
    "duration": 306,
    "start_time": "2023-02-21T15:18:16.866Z"
   },
   {
    "duration": 13,
    "start_time": "2023-02-21T15:18:17.173Z"
   },
   {
    "duration": 1177,
    "start_time": "2023-02-21T15:18:17.203Z"
   },
   {
    "duration": 184,
    "start_time": "2023-02-21T15:18:18.382Z"
   },
   {
    "duration": 162,
    "start_time": "2023-02-21T15:18:18.567Z"
   },
   {
    "duration": 442,
    "start_time": "2023-02-21T15:18:18.731Z"
   },
   {
    "duration": 8,
    "start_time": "2023-02-21T15:18:19.175Z"
   },
   {
    "duration": 51,
    "start_time": "2023-02-21T15:18:19.184Z"
   },
   {
    "duration": 10,
    "start_time": "2023-02-21T15:18:19.236Z"
   },
   {
    "duration": 304,
    "start_time": "2023-02-21T15:18:19.248Z"
   },
   {
    "duration": 112,
    "start_time": "2023-02-21T15:19:05.013Z"
   },
   {
    "duration": 96,
    "start_time": "2023-02-21T15:19:14.276Z"
   },
   {
    "duration": 90,
    "start_time": "2023-02-21T15:19:23.949Z"
   },
   {
    "duration": 99,
    "start_time": "2023-02-21T15:19:37.261Z"
   },
   {
    "duration": 27,
    "start_time": "2023-02-21T15:21:46.549Z"
   }
  ],
  "kernelspec": {
   "display_name": "Python 3 (ipykernel)",
   "language": "python",
   "name": "python3"
  },
  "language_info": {
   "codemirror_mode": {
    "name": "ipython",
    "version": 3
   },
   "file_extension": ".py",
   "mimetype": "text/x-python",
   "name": "python",
   "nbconvert_exporter": "python",
   "pygments_lexer": "ipython3",
   "version": "3.11.4"
  },
  "toc": {
   "base_numbering": 1,
   "nav_menu": {},
   "number_sections": true,
   "sideBar": true,
   "skip_h1_title": true,
   "title_cell": "Table of Contents",
   "title_sidebar": "Contents",
   "toc_cell": false,
   "toc_position": {
    "height": "calc(100% - 180px)",
    "left": "10px",
    "top": "150px",
    "width": "286.075px"
   },
   "toc_section_display": true,
   "toc_window_display": true
  }
 },
 "nbformat": 4,
 "nbformat_minor": 2
}
